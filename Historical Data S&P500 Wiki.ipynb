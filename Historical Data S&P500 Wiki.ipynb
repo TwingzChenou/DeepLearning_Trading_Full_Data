{
 "cells": [
  {
   "cell_type": "code",
   "id": "d57f0474-062c-4085-a442-4189e1e6d207",
   "metadata": {
    "ExecuteTime": {
     "end_time": "2025-10-01T13:43:06.676827Z",
     "start_time": "2025-10-01T13:43:06.304047Z"
    }
   },
   "source": [
    "import pandas as pd \n",
    "import yfinance as yf\n",
    "from datetime import datetime, timedelta\n"
   ],
   "outputs": [],
   "execution_count": 1
  },
  {
   "cell_type": "code",
   "id": "fc27d29a-7ea3-43eb-8465-e78d1137332c",
   "metadata": {
    "ExecuteTime": {
     "end_time": "2025-10-01T13:43:07.787955Z",
     "start_time": "2025-10-01T13:43:06.737129Z"
    }
   },
   "source": [
    "SP500_Url = \"https://en.wikipedia.org/wiki/List_of_S%26P_500_companies\"\n",
    "data_table = pd.read_html(\n",
    "    SP500_Url,\n",
    "    storage_options={\"User-Agent\": \"Mozilla/5.0 (X11; Linux x86_64) AppleWebKit/537.36 \"\n",
    "                                   \"(KHTML, like Gecko) Chrome/123.0 Safari/537.36\"}\n",
    ")\n",
    "data_table"
   ],
   "outputs": [
    {
     "data": {
      "text/plain": [
       "[    Symbol             Security             GICS Sector  \\\n",
       " 0      MMM                   3M             Industrials   \n",
       " 1      AOS          A. O. Smith             Industrials   \n",
       " 2      ABT  Abbott Laboratories             Health Care   \n",
       " 3     ABBV               AbbVie             Health Care   \n",
       " 4      ACN            Accenture  Information Technology   \n",
       " ..     ...                  ...                     ...   \n",
       " 498    XYL           Xylem Inc.             Industrials   \n",
       " 499    YUM          Yum! Brands  Consumer Discretionary   \n",
       " 500   ZBRA   Zebra Technologies  Information Technology   \n",
       " 501    ZBH        Zimmer Biomet             Health Care   \n",
       " 502    ZTS               Zoetis             Health Care   \n",
       " \n",
       "                                 GICS Sub-Industry    Headquarters Location  \\\n",
       " 0                        Industrial Conglomerates    Saint Paul, Minnesota   \n",
       " 1                               Building Products     Milwaukee, Wisconsin   \n",
       " 2                           Health Care Equipment  North Chicago, Illinois   \n",
       " 3                                   Biotechnology  North Chicago, Illinois   \n",
       " 4                  IT Consulting & Other Services          Dublin, Ireland   \n",
       " ..                                            ...                      ...   \n",
       " 498  Industrial Machinery & Supplies & Components   White Plains, New York   \n",
       " 499                                   Restaurants     Louisville, Kentucky   \n",
       " 500            Electronic Equipment & Instruments   Lincolnshire, Illinois   \n",
       " 501                         Health Care Equipment          Warsaw, Indiana   \n",
       " 502                               Pharmaceuticals   Parsippany, New Jersey   \n",
       " \n",
       "      Date added      CIK      Founded  \n",
       " 0    1957-03-04    66740         1902  \n",
       " 1    2017-07-26    91142         1916  \n",
       " 2    1957-03-04     1800         1888  \n",
       " 3    2012-12-31  1551152  2013 (1888)  \n",
       " 4    2011-07-06  1467373         1989  \n",
       " ..          ...      ...          ...  \n",
       " 498  2011-11-01  1524472         2011  \n",
       " 499  1997-10-06  1041061         1997  \n",
       " 500  2019-12-23   877212         1969  \n",
       " 501  2001-08-07  1136869         1927  \n",
       " 502  2013-06-21  1555280         1952  \n",
       " \n",
       " [503 rows x 8 columns],\n",
       "          Effective Date  Added                                Removed  \\\n",
       "          Effective Date Ticker                       Security  Ticker   \n",
       " 0    September 22, 2025    EME                          Emcor    ENPH   \n",
       " 1    September 22, 2025   HOOD              Robinhood Markets     CZR   \n",
       " 2    September 22, 2025    APP                       AppLovin    MKTX   \n",
       " 3       August 28, 2025   IBKR            Interactive Brokers     WBA   \n",
       " 4         July 23, 2025    XYZ                    Block, Inc.     HES   \n",
       " ..                  ...    ...                            ...     ...   \n",
       " 374   December 11, 1998   CPWR                      Compuware     SUN   \n",
       " 375       June 17, 1997    CCR  Countrywide Credit Industries     USL   \n",
       " 376  September 30, 1994    NCC                  National City     MCK   \n",
       " 377        July 1, 1976    BUD                 Anheuser Busch     HNG   \n",
       " 378        July 1, 1976    DIS        The Walt Disney Company     AYE   \n",
       " \n",
       "                                \\\n",
       "                      Security   \n",
       " 0              Enphase Energy   \n",
       " 1       Caesars Entertainment   \n",
       " 2                 MarketAxess   \n",
       " 3    Walgreens Boots Alliance   \n",
       " 4            Hess Corporation   \n",
       " ..                        ...   \n",
       " 374                SunAmerica   \n",
       " 375                    USLife   \n",
       " 376                  McKesson   \n",
       " 377       Houston Natural Gas   \n",
       " 378          Allegheny Energy   \n",
       " \n",
       "                                                 Reason  \n",
       "                                                 Reason  \n",
       " 0                     Market capitalization change.[4]  \n",
       " 1                     Market capitalization change.[4]  \n",
       " 2                     Market capitalization change.[4]  \n",
       " 3    Sycamore Partners acquired Walgreen Boots Alli...  \n",
       " 4    S&P 500 and S&P 100 constituent Chevron Corp. ...  \n",
       " ..                                                 ...  \n",
       " 374                     AIG purchased SunAmerica.[267]  \n",
       " 375                          AIG acquired USLife.[268]  \n",
       " 376  McKesson sold PCS Health Services to Eli Lilly...  \n",
       " 377  Major restructuring of S&P 500 to have fewer i...  \n",
       " 378  Major restructuring of S&P 500 to have fewer i...  \n",
       " \n",
       " [379 rows x 6 columns]]"
      ]
     },
     "execution_count": 2,
     "metadata": {},
     "output_type": "execute_result"
    }
   ],
   "execution_count": 2
  },
  {
   "cell_type": "code",
   "id": "1b24ff08-adf5-4396-8e7a-d6779a1b9d77",
   "metadata": {
    "ExecuteTime": {
     "end_time": "2025-10-01T13:43:07.799664Z",
     "start_time": "2025-10-01T13:43:07.797953Z"
    }
   },
   "source": "tickers = data_table[0][\"Symbol\"].tolist()",
   "outputs": [],
   "execution_count": 3
  },
  {
   "cell_type": "code",
   "id": "b60e277a-361e-45d8-ab57-1b025ec7d338",
   "metadata": {
    "ExecuteTime": {
     "end_time": "2025-10-01T13:43:07.812560Z",
     "start_time": "2025-10-01T13:43:07.810736Z"
    }
   },
   "source": [
    "for i in range(len(tickers)):\n",
    "    if tickers[i] == 'BRK.B':\n",
    "        tickers[i] = 'BRK-B'\n",
    "    elif tickers[i] == 'BF.B':\n",
    "        tickers[i] = 'BF-B'"
   ],
   "outputs": [],
   "execution_count": 4
  },
  {
   "metadata": {
    "ExecuteTime": {
     "end_time": "2025-10-01T13:43:07.825059Z",
     "start_time": "2025-10-01T13:43:07.818612Z"
    }
   },
   "cell_type": "code",
   "source": "data_table[1]",
   "id": "2c932a6255bd04f4",
   "outputs": [
    {
     "data": {
      "text/plain": [
       "         Effective Date  Added                                Removed  \\\n",
       "         Effective Date Ticker                       Security  Ticker   \n",
       "0    September 22, 2025    EME                          Emcor    ENPH   \n",
       "1    September 22, 2025   HOOD              Robinhood Markets     CZR   \n",
       "2    September 22, 2025    APP                       AppLovin    MKTX   \n",
       "3       August 28, 2025   IBKR            Interactive Brokers     WBA   \n",
       "4         July 23, 2025    XYZ                    Block, Inc.     HES   \n",
       "..                  ...    ...                            ...     ...   \n",
       "374   December 11, 1998   CPWR                      Compuware     SUN   \n",
       "375       June 17, 1997    CCR  Countrywide Credit Industries     USL   \n",
       "376  September 30, 1994    NCC                  National City     MCK   \n",
       "377        July 1, 1976    BUD                 Anheuser Busch     HNG   \n",
       "378        July 1, 1976    DIS        The Walt Disney Company     AYE   \n",
       "\n",
       "                               \\\n",
       "                     Security   \n",
       "0              Enphase Energy   \n",
       "1       Caesars Entertainment   \n",
       "2                 MarketAxess   \n",
       "3    Walgreens Boots Alliance   \n",
       "4            Hess Corporation   \n",
       "..                        ...   \n",
       "374                SunAmerica   \n",
       "375                    USLife   \n",
       "376                  McKesson   \n",
       "377       Houston Natural Gas   \n",
       "378          Allegheny Energy   \n",
       "\n",
       "                                                Reason  \n",
       "                                                Reason  \n",
       "0                     Market capitalization change.[4]  \n",
       "1                     Market capitalization change.[4]  \n",
       "2                     Market capitalization change.[4]  \n",
       "3    Sycamore Partners acquired Walgreen Boots Alli...  \n",
       "4    S&P 500 and S&P 100 constituent Chevron Corp. ...  \n",
       "..                                                 ...  \n",
       "374                     AIG purchased SunAmerica.[267]  \n",
       "375                          AIG acquired USLife.[268]  \n",
       "376  McKesson sold PCS Health Services to Eli Lilly...  \n",
       "377  Major restructuring of S&P 500 to have fewer i...  \n",
       "378  Major restructuring of S&P 500 to have fewer i...  \n",
       "\n",
       "[379 rows x 6 columns]"
      ],
      "text/html": [
       "<div>\n",
       "<style scoped>\n",
       "    .dataframe tbody tr th:only-of-type {\n",
       "        vertical-align: middle;\n",
       "    }\n",
       "\n",
       "    .dataframe tbody tr th {\n",
       "        vertical-align: top;\n",
       "    }\n",
       "\n",
       "    .dataframe thead tr th {\n",
       "        text-align: left;\n",
       "    }\n",
       "</style>\n",
       "<table border=\"1\" class=\"dataframe\">\n",
       "  <thead>\n",
       "    <tr>\n",
       "      <th></th>\n",
       "      <th>Effective Date</th>\n",
       "      <th colspan=\"2\" halign=\"left\">Added</th>\n",
       "      <th colspan=\"2\" halign=\"left\">Removed</th>\n",
       "      <th>Reason</th>\n",
       "    </tr>\n",
       "    <tr>\n",
       "      <th></th>\n",
       "      <th>Effective Date</th>\n",
       "      <th>Ticker</th>\n",
       "      <th>Security</th>\n",
       "      <th>Ticker</th>\n",
       "      <th>Security</th>\n",
       "      <th>Reason</th>\n",
       "    </tr>\n",
       "  </thead>\n",
       "  <tbody>\n",
       "    <tr>\n",
       "      <th>0</th>\n",
       "      <td>September 22, 2025</td>\n",
       "      <td>EME</td>\n",
       "      <td>Emcor</td>\n",
       "      <td>ENPH</td>\n",
       "      <td>Enphase Energy</td>\n",
       "      <td>Market capitalization change.[4]</td>\n",
       "    </tr>\n",
       "    <tr>\n",
       "      <th>1</th>\n",
       "      <td>September 22, 2025</td>\n",
       "      <td>HOOD</td>\n",
       "      <td>Robinhood Markets</td>\n",
       "      <td>CZR</td>\n",
       "      <td>Caesars Entertainment</td>\n",
       "      <td>Market capitalization change.[4]</td>\n",
       "    </tr>\n",
       "    <tr>\n",
       "      <th>2</th>\n",
       "      <td>September 22, 2025</td>\n",
       "      <td>APP</td>\n",
       "      <td>AppLovin</td>\n",
       "      <td>MKTX</td>\n",
       "      <td>MarketAxess</td>\n",
       "      <td>Market capitalization change.[4]</td>\n",
       "    </tr>\n",
       "    <tr>\n",
       "      <th>3</th>\n",
       "      <td>August 28, 2025</td>\n",
       "      <td>IBKR</td>\n",
       "      <td>Interactive Brokers</td>\n",
       "      <td>WBA</td>\n",
       "      <td>Walgreens Boots Alliance</td>\n",
       "      <td>Sycamore Partners acquired Walgreen Boots Alli...</td>\n",
       "    </tr>\n",
       "    <tr>\n",
       "      <th>4</th>\n",
       "      <td>July 23, 2025</td>\n",
       "      <td>XYZ</td>\n",
       "      <td>Block, Inc.</td>\n",
       "      <td>HES</td>\n",
       "      <td>Hess Corporation</td>\n",
       "      <td>S&amp;P 500 and S&amp;P 100 constituent Chevron Corp. ...</td>\n",
       "    </tr>\n",
       "    <tr>\n",
       "      <th>...</th>\n",
       "      <td>...</td>\n",
       "      <td>...</td>\n",
       "      <td>...</td>\n",
       "      <td>...</td>\n",
       "      <td>...</td>\n",
       "      <td>...</td>\n",
       "    </tr>\n",
       "    <tr>\n",
       "      <th>374</th>\n",
       "      <td>December 11, 1998</td>\n",
       "      <td>CPWR</td>\n",
       "      <td>Compuware</td>\n",
       "      <td>SUN</td>\n",
       "      <td>SunAmerica</td>\n",
       "      <td>AIG purchased SunAmerica.[267]</td>\n",
       "    </tr>\n",
       "    <tr>\n",
       "      <th>375</th>\n",
       "      <td>June 17, 1997</td>\n",
       "      <td>CCR</td>\n",
       "      <td>Countrywide Credit Industries</td>\n",
       "      <td>USL</td>\n",
       "      <td>USLife</td>\n",
       "      <td>AIG acquired USLife.[268]</td>\n",
       "    </tr>\n",
       "    <tr>\n",
       "      <th>376</th>\n",
       "      <td>September 30, 1994</td>\n",
       "      <td>NCC</td>\n",
       "      <td>National City</td>\n",
       "      <td>MCK</td>\n",
       "      <td>McKesson</td>\n",
       "      <td>McKesson sold PCS Health Services to Eli Lilly...</td>\n",
       "    </tr>\n",
       "    <tr>\n",
       "      <th>377</th>\n",
       "      <td>July 1, 1976</td>\n",
       "      <td>BUD</td>\n",
       "      <td>Anheuser Busch</td>\n",
       "      <td>HNG</td>\n",
       "      <td>Houston Natural Gas</td>\n",
       "      <td>Major restructuring of S&amp;P 500 to have fewer i...</td>\n",
       "    </tr>\n",
       "    <tr>\n",
       "      <th>378</th>\n",
       "      <td>July 1, 1976</td>\n",
       "      <td>DIS</td>\n",
       "      <td>The Walt Disney Company</td>\n",
       "      <td>AYE</td>\n",
       "      <td>Allegheny Energy</td>\n",
       "      <td>Major restructuring of S&amp;P 500 to have fewer i...</td>\n",
       "    </tr>\n",
       "  </tbody>\n",
       "</table>\n",
       "<p>379 rows × 6 columns</p>\n",
       "</div>"
      ]
     },
     "execution_count": 5,
     "metadata": {},
     "output_type": "execute_result"
    }
   ],
   "execution_count": 5
  },
  {
   "cell_type": "code",
   "id": "17d6901d-f2b7-48b7-88a9-48d3aee5d9b7",
   "metadata": {
    "ExecuteTime": {
     "end_time": "2025-10-01T13:43:07.855043Z",
     "start_time": "2025-10-01T13:43:07.846771Z"
    }
   },
   "source": [
    "# Extraction des données\n",
    "Date = data_table[1]['Effective Date'].astype(str).apply(pd.to_datetime)\n",
    "Removed = data_table[1]['Removed']['Ticker']  # Supposant que 'Removed' est un DataFrame ou Series\n",
    "Added = data_table[1]['Added']['Ticker']      # Supposant que 'Added' est un DataFrame ou Series\n",
    "\n",
    "# Combinaison des données dans un DataFrame\n",
    "Data_Change = pd.concat([Date, Added, Removed], axis = 1)\n",
    "\n",
    "#Date au format Date\n",
    "#Data_Change['Date'] = pd.to_datetime(Data_Change['Date'])\n",
    "\n",
    "# Changer le format de la date en 'jour/mois/année'\n",
    "#Data_Change['Date'] = Data_Change['Date'].dt.strftime('%Y-%m-%d')\n",
    "\n",
    "\n",
    "# Renommer toutes les colonnes\n",
    "Data_Change.columns = ['Date', 'Added', 'Removed']\n",
    "\n",
    "# Mettre 'colonne_a' en tant qu'index\n",
    "Data_Change.set_index('Date', inplace=True)\n",
    "\n",
    "# Nan en vide\n",
    "Data_Change = Data_Change.fillna('')\n",
    "\n",
    "Data_Change"
   ],
   "outputs": [
    {
     "data": {
      "text/plain": [
       "           Added Removed\n",
       "Date                    \n",
       "2025-09-22   EME    ENPH\n",
       "2025-09-22  HOOD     CZR\n",
       "2025-09-22   APP    MKTX\n",
       "2025-08-28  IBKR     WBA\n",
       "2025-07-23   XYZ     HES\n",
       "...          ...     ...\n",
       "1998-12-11  CPWR     SUN\n",
       "1997-06-17   CCR     USL\n",
       "1994-09-30   NCC     MCK\n",
       "1976-07-01   BUD     HNG\n",
       "1976-07-01   DIS     AYE\n",
       "\n",
       "[379 rows x 2 columns]"
      ],
      "text/html": [
       "<div>\n",
       "<style scoped>\n",
       "    .dataframe tbody tr th:only-of-type {\n",
       "        vertical-align: middle;\n",
       "    }\n",
       "\n",
       "    .dataframe tbody tr th {\n",
       "        vertical-align: top;\n",
       "    }\n",
       "\n",
       "    .dataframe thead th {\n",
       "        text-align: right;\n",
       "    }\n",
       "</style>\n",
       "<table border=\"1\" class=\"dataframe\">\n",
       "  <thead>\n",
       "    <tr style=\"text-align: right;\">\n",
       "      <th></th>\n",
       "      <th>Added</th>\n",
       "      <th>Removed</th>\n",
       "    </tr>\n",
       "    <tr>\n",
       "      <th>Date</th>\n",
       "      <th></th>\n",
       "      <th></th>\n",
       "    </tr>\n",
       "  </thead>\n",
       "  <tbody>\n",
       "    <tr>\n",
       "      <th>2025-09-22</th>\n",
       "      <td>EME</td>\n",
       "      <td>ENPH</td>\n",
       "    </tr>\n",
       "    <tr>\n",
       "      <th>2025-09-22</th>\n",
       "      <td>HOOD</td>\n",
       "      <td>CZR</td>\n",
       "    </tr>\n",
       "    <tr>\n",
       "      <th>2025-09-22</th>\n",
       "      <td>APP</td>\n",
       "      <td>MKTX</td>\n",
       "    </tr>\n",
       "    <tr>\n",
       "      <th>2025-08-28</th>\n",
       "      <td>IBKR</td>\n",
       "      <td>WBA</td>\n",
       "    </tr>\n",
       "    <tr>\n",
       "      <th>2025-07-23</th>\n",
       "      <td>XYZ</td>\n",
       "      <td>HES</td>\n",
       "    </tr>\n",
       "    <tr>\n",
       "      <th>...</th>\n",
       "      <td>...</td>\n",
       "      <td>...</td>\n",
       "    </tr>\n",
       "    <tr>\n",
       "      <th>1998-12-11</th>\n",
       "      <td>CPWR</td>\n",
       "      <td>SUN</td>\n",
       "    </tr>\n",
       "    <tr>\n",
       "      <th>1997-06-17</th>\n",
       "      <td>CCR</td>\n",
       "      <td>USL</td>\n",
       "    </tr>\n",
       "    <tr>\n",
       "      <th>1994-09-30</th>\n",
       "      <td>NCC</td>\n",
       "      <td>MCK</td>\n",
       "    </tr>\n",
       "    <tr>\n",
       "      <th>1976-07-01</th>\n",
       "      <td>BUD</td>\n",
       "      <td>HNG</td>\n",
       "    </tr>\n",
       "    <tr>\n",
       "      <th>1976-07-01</th>\n",
       "      <td>DIS</td>\n",
       "      <td>AYE</td>\n",
       "    </tr>\n",
       "  </tbody>\n",
       "</table>\n",
       "<p>379 rows × 2 columns</p>\n",
       "</div>"
      ]
     },
     "execution_count": 6,
     "metadata": {},
     "output_type": "execute_result"
    }
   ],
   "execution_count": 6
  },
  {
   "cell_type": "code",
   "id": "48c463b9-ff84-4821-85cb-6bde2c7350a6",
   "metadata": {
    "ExecuteTime": {
     "end_time": "2025-10-01T13:43:07.868902Z",
     "start_time": "2025-10-01T13:43:07.866573Z"
    }
   },
   "source": [
    "len(tickers)"
   ],
   "outputs": [
    {
     "data": {
      "text/plain": [
       "503"
      ]
     },
     "execution_count": 7,
     "metadata": {},
     "output_type": "execute_result"
    }
   ],
   "execution_count": 7
  },
  {
   "cell_type": "code",
   "id": "20a9d36e-3278-4048-b5f2-582ebcbdef5b",
   "metadata": {
    "scrolled": true,
    "ExecuteTime": {
     "end_time": "2025-10-01T13:43:08.661817Z",
     "start_time": "2025-10-01T13:43:07.893919Z"
    }
   },
   "source": [
    "# Supposons que la liste tickers ait déjà 503 éléments au départ\n",
    "# tickers = ['AAPL', 'MSFT', ...]  # Exemples de tickers initiaux\n",
    "\n",
    "# Initialiser un dictionnaire vide\n",
    "dict = {}\n",
    "\n",
    "# Boucle pour parcourir les données et mettre à jour le dictionnaire\n",
    "for i in range(0, len(Data_Change)):\n",
    "    \n",
    "    # Ajouter les nouveaux tickers (si ce n'est pas déjà un ensemble vide)\n",
    "    tickers.extend(Data_Change.Added[i])\n",
    "    \n",
    "    # Essayer de supprimer les tickers retirés, si possible\n",
    "    try:\n",
    "        tickers = [t for t in tickers if t not in Data_Change.Removed[i]]  # Supprimer les tickers retirés\n",
    "    except ValueError:\n",
    "        # Si l'élément à supprimer n'existe pas dans la liste, continuer sans erreur\n",
    "        pass\n",
    "    \n",
    "    # Trier les tickers\n",
    "    tickers = sorted(set(tickers))  # Utilisation de set pour éviter les doublons\n",
    "\n",
    "    # Ajouter une **copie** de la liste `tickers` dans le dictionnaire\n",
    "    dict[Data_Change.index[i]] = tickers.copy()\n",
    "\n",
    "df = pd.DataFrame(list(dict.items()), columns=['date', 'tickers'])\n",
    "\n",
    "df['date'] = pd.to_datetime(df['date'])\n",
    "\n",
    "# Mettre la colonne 'date' comme index\n",
    "df.set_index('date', inplace=True)\n",
    "\n",
    "df"
   ],
   "outputs": [
    {
     "name": "stderr",
     "output_type": "stream",
     "text": [
      "/var/folders/6k/82j2nnl13hj9ld7nmzpdt6fh0000gn/T/ipykernel_4185/1527443372.py:11: FutureWarning: Series.__getitem__ treating keys as positions is deprecated. In a future version, integer keys will always be treated as labels (consistent with DataFrame behavior). To access a value by position, use `ser.iloc[pos]`\n",
      "  tickers.extend(Data_Change.Added[i])\n",
      "/var/folders/6k/82j2nnl13hj9ld7nmzpdt6fh0000gn/T/ipykernel_4185/1527443372.py:15: FutureWarning: Series.__getitem__ treating keys as positions is deprecated. In a future version, integer keys will always be treated as labels (consistent with DataFrame behavior). To access a value by position, use `ser.iloc[pos]`\n",
      "  tickers = [t for t in tickers if t not in Data_Change.Removed[i]]  # Supprimer les tickers retirés\n"
     ]
    },
    {
     "data": {
      "text/plain": [
       "                                                      tickers\n",
       "date                                                         \n",
       "2025-09-22  [A, AAPL, ABBV, ABNB, ABT, ACGL, ACN, ADBE, AD...\n",
       "2025-08-28  [AAPL, ABBV, ABNB, ABT, ACGL, ACN, ADBE, ADI, ...\n",
       "2025-07-23  [AAPL, ABBV, ABNB, ABT, ACGL, ACN, ADBE, ADI, ...\n",
       "2025-07-18  [AAPL, ABBV, ABNB, ABT, ACGL, ACN, ADBE, ADI, ...\n",
       "2025-07-09  [AAPL, ABBV, ABNB, ABT, ACGL, ACN, ADBE, ADI, ...\n",
       "...                                                       ...\n",
       "1999-04-12  [A, AAPL, ABBV, ABNB, ABT, ACGL, ACN, ADBE, AD...\n",
       "1998-12-11  [AAPL, ABBV, ABNB, ABT, ACGL, ACN, ADBE, ADI, ...\n",
       "1997-06-17  [AAPL, ABBV, ABNB, ABT, ACGL, ACN, ADBE, ADI, ...\n",
       "1994-09-30  [AAPL, ABBV, ABNB, ABT, ACGL, ACN, ADBE, ADI, ...\n",
       "1976-07-01  [AAPL, ABBV, ABNB, ABT, ACGL, ACN, ADBE, ADI, ...\n",
       "\n",
       "[285 rows x 1 columns]"
      ],
      "text/html": [
       "<div>\n",
       "<style scoped>\n",
       "    .dataframe tbody tr th:only-of-type {\n",
       "        vertical-align: middle;\n",
       "    }\n",
       "\n",
       "    .dataframe tbody tr th {\n",
       "        vertical-align: top;\n",
       "    }\n",
       "\n",
       "    .dataframe thead th {\n",
       "        text-align: right;\n",
       "    }\n",
       "</style>\n",
       "<table border=\"1\" class=\"dataframe\">\n",
       "  <thead>\n",
       "    <tr style=\"text-align: right;\">\n",
       "      <th></th>\n",
       "      <th>tickers</th>\n",
       "    </tr>\n",
       "    <tr>\n",
       "      <th>date</th>\n",
       "      <th></th>\n",
       "    </tr>\n",
       "  </thead>\n",
       "  <tbody>\n",
       "    <tr>\n",
       "      <th>2025-09-22</th>\n",
       "      <td>[A, AAPL, ABBV, ABNB, ABT, ACGL, ACN, ADBE, AD...</td>\n",
       "    </tr>\n",
       "    <tr>\n",
       "      <th>2025-08-28</th>\n",
       "      <td>[AAPL, ABBV, ABNB, ABT, ACGL, ACN, ADBE, ADI, ...</td>\n",
       "    </tr>\n",
       "    <tr>\n",
       "      <th>2025-07-23</th>\n",
       "      <td>[AAPL, ABBV, ABNB, ABT, ACGL, ACN, ADBE, ADI, ...</td>\n",
       "    </tr>\n",
       "    <tr>\n",
       "      <th>2025-07-18</th>\n",
       "      <td>[AAPL, ABBV, ABNB, ABT, ACGL, ACN, ADBE, ADI, ...</td>\n",
       "    </tr>\n",
       "    <tr>\n",
       "      <th>2025-07-09</th>\n",
       "      <td>[AAPL, ABBV, ABNB, ABT, ACGL, ACN, ADBE, ADI, ...</td>\n",
       "    </tr>\n",
       "    <tr>\n",
       "      <th>...</th>\n",
       "      <td>...</td>\n",
       "    </tr>\n",
       "    <tr>\n",
       "      <th>1999-04-12</th>\n",
       "      <td>[A, AAPL, ABBV, ABNB, ABT, ACGL, ACN, ADBE, AD...</td>\n",
       "    </tr>\n",
       "    <tr>\n",
       "      <th>1998-12-11</th>\n",
       "      <td>[AAPL, ABBV, ABNB, ABT, ACGL, ACN, ADBE, ADI, ...</td>\n",
       "    </tr>\n",
       "    <tr>\n",
       "      <th>1997-06-17</th>\n",
       "      <td>[AAPL, ABBV, ABNB, ABT, ACGL, ACN, ADBE, ADI, ...</td>\n",
       "    </tr>\n",
       "    <tr>\n",
       "      <th>1994-09-30</th>\n",
       "      <td>[AAPL, ABBV, ABNB, ABT, ACGL, ACN, ADBE, ADI, ...</td>\n",
       "    </tr>\n",
       "    <tr>\n",
       "      <th>1976-07-01</th>\n",
       "      <td>[AAPL, ABBV, ABNB, ABT, ACGL, ACN, ADBE, ADI, ...</td>\n",
       "    </tr>\n",
       "  </tbody>\n",
       "</table>\n",
       "<p>285 rows × 1 columns</p>\n",
       "</div>"
      ]
     },
     "execution_count": 8,
     "metadata": {},
     "output_type": "execute_result"
    }
   ],
   "execution_count": 8
  },
  {
   "metadata": {
    "ExecuteTime": {
     "end_time": "2025-10-01T13:43:08.676235Z",
     "start_time": "2025-10-01T13:43:08.674013Z"
    }
   },
   "cell_type": "code",
   "source": [
    "# Récupère l'index en liste\n",
    "new_index = list(df.index)\n",
    "\n",
    "# Remplace la première valeur\n",
    "new_index[0] = datetime.today().date()\n",
    "\n",
    "# Réapplique l'index modifié\n",
    "df.index = pd.to_datetime(new_index)"
   ],
   "id": "7bb535b927d2bb5b",
   "outputs": [],
   "execution_count": 9
  },
  {
   "metadata": {
    "ExecuteTime": {
     "end_time": "2025-10-01T13:43:08.690991Z",
     "start_time": "2025-10-01T13:43:08.686146Z"
    }
   },
   "cell_type": "code",
   "source": "df",
   "id": "8726eeeb2cff1231",
   "outputs": [
    {
     "data": {
      "text/plain": [
       "                                                      tickers\n",
       "2025-10-01  [A, AAPL, ABBV, ABNB, ABT, ACGL, ACN, ADBE, AD...\n",
       "2025-08-28  [AAPL, ABBV, ABNB, ABT, ACGL, ACN, ADBE, ADI, ...\n",
       "2025-07-23  [AAPL, ABBV, ABNB, ABT, ACGL, ACN, ADBE, ADI, ...\n",
       "2025-07-18  [AAPL, ABBV, ABNB, ABT, ACGL, ACN, ADBE, ADI, ...\n",
       "2025-07-09  [AAPL, ABBV, ABNB, ABT, ACGL, ACN, ADBE, ADI, ...\n",
       "...                                                       ...\n",
       "1999-04-12  [A, AAPL, ABBV, ABNB, ABT, ACGL, ACN, ADBE, AD...\n",
       "1998-12-11  [AAPL, ABBV, ABNB, ABT, ACGL, ACN, ADBE, ADI, ...\n",
       "1997-06-17  [AAPL, ABBV, ABNB, ABT, ACGL, ACN, ADBE, ADI, ...\n",
       "1994-09-30  [AAPL, ABBV, ABNB, ABT, ACGL, ACN, ADBE, ADI, ...\n",
       "1976-07-01  [AAPL, ABBV, ABNB, ABT, ACGL, ACN, ADBE, ADI, ...\n",
       "\n",
       "[285 rows x 1 columns]"
      ],
      "text/html": [
       "<div>\n",
       "<style scoped>\n",
       "    .dataframe tbody tr th:only-of-type {\n",
       "        vertical-align: middle;\n",
       "    }\n",
       "\n",
       "    .dataframe tbody tr th {\n",
       "        vertical-align: top;\n",
       "    }\n",
       "\n",
       "    .dataframe thead th {\n",
       "        text-align: right;\n",
       "    }\n",
       "</style>\n",
       "<table border=\"1\" class=\"dataframe\">\n",
       "  <thead>\n",
       "    <tr style=\"text-align: right;\">\n",
       "      <th></th>\n",
       "      <th>tickers</th>\n",
       "    </tr>\n",
       "  </thead>\n",
       "  <tbody>\n",
       "    <tr>\n",
       "      <th>2025-10-01</th>\n",
       "      <td>[A, AAPL, ABBV, ABNB, ABT, ACGL, ACN, ADBE, AD...</td>\n",
       "    </tr>\n",
       "    <tr>\n",
       "      <th>2025-08-28</th>\n",
       "      <td>[AAPL, ABBV, ABNB, ABT, ACGL, ACN, ADBE, ADI, ...</td>\n",
       "    </tr>\n",
       "    <tr>\n",
       "      <th>2025-07-23</th>\n",
       "      <td>[AAPL, ABBV, ABNB, ABT, ACGL, ACN, ADBE, ADI, ...</td>\n",
       "    </tr>\n",
       "    <tr>\n",
       "      <th>2025-07-18</th>\n",
       "      <td>[AAPL, ABBV, ABNB, ABT, ACGL, ACN, ADBE, ADI, ...</td>\n",
       "    </tr>\n",
       "    <tr>\n",
       "      <th>2025-07-09</th>\n",
       "      <td>[AAPL, ABBV, ABNB, ABT, ACGL, ACN, ADBE, ADI, ...</td>\n",
       "    </tr>\n",
       "    <tr>\n",
       "      <th>...</th>\n",
       "      <td>...</td>\n",
       "    </tr>\n",
       "    <tr>\n",
       "      <th>1999-04-12</th>\n",
       "      <td>[A, AAPL, ABBV, ABNB, ABT, ACGL, ACN, ADBE, AD...</td>\n",
       "    </tr>\n",
       "    <tr>\n",
       "      <th>1998-12-11</th>\n",
       "      <td>[AAPL, ABBV, ABNB, ABT, ACGL, ACN, ADBE, ADI, ...</td>\n",
       "    </tr>\n",
       "    <tr>\n",
       "      <th>1997-06-17</th>\n",
       "      <td>[AAPL, ABBV, ABNB, ABT, ACGL, ACN, ADBE, ADI, ...</td>\n",
       "    </tr>\n",
       "    <tr>\n",
       "      <th>1994-09-30</th>\n",
       "      <td>[AAPL, ABBV, ABNB, ABT, ACGL, ACN, ADBE, ADI, ...</td>\n",
       "    </tr>\n",
       "    <tr>\n",
       "      <th>1976-07-01</th>\n",
       "      <td>[AAPL, ABBV, ABNB, ABT, ACGL, ACN, ADBE, ADI, ...</td>\n",
       "    </tr>\n",
       "  </tbody>\n",
       "</table>\n",
       "<p>285 rows × 1 columns</p>\n",
       "</div>"
      ]
     },
     "execution_count": 10,
     "metadata": {},
     "output_type": "execute_result"
    }
   ],
   "execution_count": 10
  },
  {
   "metadata": {
    "ExecuteTime": {
     "end_time": "2025-10-01T13:43:09.027285Z",
     "start_time": "2025-10-01T13:43:08.702728Z"
    }
   },
   "cell_type": "code",
   "source": [
    "\n",
    "data_SP500_old = pd.read_parquet('/Users/forget/Library/Mobile Documents/com~apple~CloudDocs/Project Stock Market Deep Learning/Data/data_SP500.parquet')\n",
    "last_date = data_SP500_old['Date'].sort_values(ascending=True).iloc[-1] + timedelta(days=1)\n",
    "last_date\n"
   ],
   "id": "d328e69739b0f844",
   "outputs": [
    {
     "data": {
      "text/plain": [
       "Timestamp('2025-09-27 00:00:00')"
      ]
     },
     "execution_count": 11,
     "metadata": {},
     "output_type": "execute_result"
    }
   ],
   "execution_count": 11
  },
  {
   "metadata": {
    "ExecuteTime": {
     "end_time": "2025-10-01T13:43:09.040011Z",
     "start_time": "2025-10-01T13:43:09.034055Z"
    }
   },
   "cell_type": "code",
   "source": [
    "df['Last_Date'] = last_date\n",
    "df"
   ],
   "id": "4ee6f7fd0f2fe091",
   "outputs": [
    {
     "data": {
      "text/plain": [
       "                                                      tickers  Last_Date\n",
       "2025-10-01  [A, AAPL, ABBV, ABNB, ABT, ACGL, ACN, ADBE, AD... 2025-09-27\n",
       "2025-08-28  [AAPL, ABBV, ABNB, ABT, ACGL, ACN, ADBE, ADI, ... 2025-09-27\n",
       "2025-07-23  [AAPL, ABBV, ABNB, ABT, ACGL, ACN, ADBE, ADI, ... 2025-09-27\n",
       "2025-07-18  [AAPL, ABBV, ABNB, ABT, ACGL, ACN, ADBE, ADI, ... 2025-09-27\n",
       "2025-07-09  [AAPL, ABBV, ABNB, ABT, ACGL, ACN, ADBE, ADI, ... 2025-09-27\n",
       "...                                                       ...        ...\n",
       "1999-04-12  [A, AAPL, ABBV, ABNB, ABT, ACGL, ACN, ADBE, AD... 2025-09-27\n",
       "1998-12-11  [AAPL, ABBV, ABNB, ABT, ACGL, ACN, ADBE, ADI, ... 2025-09-27\n",
       "1997-06-17  [AAPL, ABBV, ABNB, ABT, ACGL, ACN, ADBE, ADI, ... 2025-09-27\n",
       "1994-09-30  [AAPL, ABBV, ABNB, ABT, ACGL, ACN, ADBE, ADI, ... 2025-09-27\n",
       "1976-07-01  [AAPL, ABBV, ABNB, ABT, ACGL, ACN, ADBE, ADI, ... 2025-09-27\n",
       "\n",
       "[285 rows x 2 columns]"
      ],
      "text/html": [
       "<div>\n",
       "<style scoped>\n",
       "    .dataframe tbody tr th:only-of-type {\n",
       "        vertical-align: middle;\n",
       "    }\n",
       "\n",
       "    .dataframe tbody tr th {\n",
       "        vertical-align: top;\n",
       "    }\n",
       "\n",
       "    .dataframe thead th {\n",
       "        text-align: right;\n",
       "    }\n",
       "</style>\n",
       "<table border=\"1\" class=\"dataframe\">\n",
       "  <thead>\n",
       "    <tr style=\"text-align: right;\">\n",
       "      <th></th>\n",
       "      <th>tickers</th>\n",
       "      <th>Last_Date</th>\n",
       "    </tr>\n",
       "  </thead>\n",
       "  <tbody>\n",
       "    <tr>\n",
       "      <th>2025-10-01</th>\n",
       "      <td>[A, AAPL, ABBV, ABNB, ABT, ACGL, ACN, ADBE, AD...</td>\n",
       "      <td>2025-09-27</td>\n",
       "    </tr>\n",
       "    <tr>\n",
       "      <th>2025-08-28</th>\n",
       "      <td>[AAPL, ABBV, ABNB, ABT, ACGL, ACN, ADBE, ADI, ...</td>\n",
       "      <td>2025-09-27</td>\n",
       "    </tr>\n",
       "    <tr>\n",
       "      <th>2025-07-23</th>\n",
       "      <td>[AAPL, ABBV, ABNB, ABT, ACGL, ACN, ADBE, ADI, ...</td>\n",
       "      <td>2025-09-27</td>\n",
       "    </tr>\n",
       "    <tr>\n",
       "      <th>2025-07-18</th>\n",
       "      <td>[AAPL, ABBV, ABNB, ABT, ACGL, ACN, ADBE, ADI, ...</td>\n",
       "      <td>2025-09-27</td>\n",
       "    </tr>\n",
       "    <tr>\n",
       "      <th>2025-07-09</th>\n",
       "      <td>[AAPL, ABBV, ABNB, ABT, ACGL, ACN, ADBE, ADI, ...</td>\n",
       "      <td>2025-09-27</td>\n",
       "    </tr>\n",
       "    <tr>\n",
       "      <th>...</th>\n",
       "      <td>...</td>\n",
       "      <td>...</td>\n",
       "    </tr>\n",
       "    <tr>\n",
       "      <th>1999-04-12</th>\n",
       "      <td>[A, AAPL, ABBV, ABNB, ABT, ACGL, ACN, ADBE, AD...</td>\n",
       "      <td>2025-09-27</td>\n",
       "    </tr>\n",
       "    <tr>\n",
       "      <th>1998-12-11</th>\n",
       "      <td>[AAPL, ABBV, ABNB, ABT, ACGL, ACN, ADBE, ADI, ...</td>\n",
       "      <td>2025-09-27</td>\n",
       "    </tr>\n",
       "    <tr>\n",
       "      <th>1997-06-17</th>\n",
       "      <td>[AAPL, ABBV, ABNB, ABT, ACGL, ACN, ADBE, ADI, ...</td>\n",
       "      <td>2025-09-27</td>\n",
       "    </tr>\n",
       "    <tr>\n",
       "      <th>1994-09-30</th>\n",
       "      <td>[AAPL, ABBV, ABNB, ABT, ACGL, ACN, ADBE, ADI, ...</td>\n",
       "      <td>2025-09-27</td>\n",
       "    </tr>\n",
       "    <tr>\n",
       "      <th>1976-07-01</th>\n",
       "      <td>[AAPL, ABBV, ABNB, ABT, ACGL, ACN, ADBE, ADI, ...</td>\n",
       "      <td>2025-09-27</td>\n",
       "    </tr>\n",
       "  </tbody>\n",
       "</table>\n",
       "<p>285 rows × 2 columns</p>\n",
       "</div>"
      ]
     },
     "execution_count": 12,
     "metadata": {},
     "output_type": "execute_result"
    }
   ],
   "execution_count": 12
  },
  {
   "metadata": {
    "ExecuteTime": {
     "end_time": "2025-10-01T13:43:09.068574Z",
     "start_time": "2025-10-01T13:43:09.051538Z"
    }
   },
   "cell_type": "code",
   "source": [
    "\n",
    "# Initialiser une DataFrame vide pour stocker toutes les données\n",
    "data_SP500 = pd.DataFrame()\n",
    "\n",
    "df = df.explode('tickers')\n",
    "end_date = df[df.index > last_date].groupby('tickers').apply(lambda x: x.index.max())\n",
    "\n",
    "# Combiner les résultats dans une nouvelle DataFrame\n",
    "resultat = pd.DataFrame({'Start': last_date, 'End': end_date})\n",
    "resultat\n"
   ],
   "id": "1b8881d53f757d6b",
   "outputs": [
    {
     "name": "stderr",
     "output_type": "stream",
     "text": [
      "/var/folders/6k/82j2nnl13hj9ld7nmzpdt6fh0000gn/T/ipykernel_4185/2328952231.py:5: FutureWarning: DataFrameGroupBy.apply operated on the grouping columns. This behavior is deprecated, and in a future version of pandas the grouping columns will be excluded from the operation. Either pass `include_groups=False` to exclude the groupings or explicitly select the grouping columns after groupby to silence this warning.\n",
      "  end_date = df[df.index > last_date].groupby('tickers').apply(lambda x: x.index.max())\n"
     ]
    },
    {
     "data": {
      "text/plain": [
       "             Start        End\n",
       "tickers                      \n",
       "A       2025-09-27 2025-10-01\n",
       "AAPL    2025-09-27 2025-10-01\n",
       "ABBV    2025-09-27 2025-10-01\n",
       "ABNB    2025-09-27 2025-10-01\n",
       "ABT     2025-09-27 2025-10-01\n",
       "...            ...        ...\n",
       "XYZ     2025-09-27 2025-10-01\n",
       "YUM     2025-09-27 2025-10-01\n",
       "ZBH     2025-09-27 2025-10-01\n",
       "ZBRA    2025-09-27 2025-10-01\n",
       "ZTS     2025-09-27 2025-10-01\n",
       "\n",
       "[501 rows x 2 columns]"
      ],
      "text/html": [
       "<div>\n",
       "<style scoped>\n",
       "    .dataframe tbody tr th:only-of-type {\n",
       "        vertical-align: middle;\n",
       "    }\n",
       "\n",
       "    .dataframe tbody tr th {\n",
       "        vertical-align: top;\n",
       "    }\n",
       "\n",
       "    .dataframe thead th {\n",
       "        text-align: right;\n",
       "    }\n",
       "</style>\n",
       "<table border=\"1\" class=\"dataframe\">\n",
       "  <thead>\n",
       "    <tr style=\"text-align: right;\">\n",
       "      <th></th>\n",
       "      <th>Start</th>\n",
       "      <th>End</th>\n",
       "    </tr>\n",
       "    <tr>\n",
       "      <th>tickers</th>\n",
       "      <th></th>\n",
       "      <th></th>\n",
       "    </tr>\n",
       "  </thead>\n",
       "  <tbody>\n",
       "    <tr>\n",
       "      <th>A</th>\n",
       "      <td>2025-09-27</td>\n",
       "      <td>2025-10-01</td>\n",
       "    </tr>\n",
       "    <tr>\n",
       "      <th>AAPL</th>\n",
       "      <td>2025-09-27</td>\n",
       "      <td>2025-10-01</td>\n",
       "    </tr>\n",
       "    <tr>\n",
       "      <th>ABBV</th>\n",
       "      <td>2025-09-27</td>\n",
       "      <td>2025-10-01</td>\n",
       "    </tr>\n",
       "    <tr>\n",
       "      <th>ABNB</th>\n",
       "      <td>2025-09-27</td>\n",
       "      <td>2025-10-01</td>\n",
       "    </tr>\n",
       "    <tr>\n",
       "      <th>ABT</th>\n",
       "      <td>2025-09-27</td>\n",
       "      <td>2025-10-01</td>\n",
       "    </tr>\n",
       "    <tr>\n",
       "      <th>...</th>\n",
       "      <td>...</td>\n",
       "      <td>...</td>\n",
       "    </tr>\n",
       "    <tr>\n",
       "      <th>XYZ</th>\n",
       "      <td>2025-09-27</td>\n",
       "      <td>2025-10-01</td>\n",
       "    </tr>\n",
       "    <tr>\n",
       "      <th>YUM</th>\n",
       "      <td>2025-09-27</td>\n",
       "      <td>2025-10-01</td>\n",
       "    </tr>\n",
       "    <tr>\n",
       "      <th>ZBH</th>\n",
       "      <td>2025-09-27</td>\n",
       "      <td>2025-10-01</td>\n",
       "    </tr>\n",
       "    <tr>\n",
       "      <th>ZBRA</th>\n",
       "      <td>2025-09-27</td>\n",
       "      <td>2025-10-01</td>\n",
       "    </tr>\n",
       "    <tr>\n",
       "      <th>ZTS</th>\n",
       "      <td>2025-09-27</td>\n",
       "      <td>2025-10-01</td>\n",
       "    </tr>\n",
       "  </tbody>\n",
       "</table>\n",
       "<p>501 rows × 2 columns</p>\n",
       "</div>"
      ]
     },
     "execution_count": 13,
     "metadata": {},
     "output_type": "execute_result"
    }
   ],
   "execution_count": 13
  },
  {
   "metadata": {
    "ExecuteTime": {
     "end_time": "2025-10-01T13:43:09.079078Z",
     "start_time": "2025-10-01T13:43:09.077145Z"
    }
   },
   "cell_type": "code",
   "source": [
    "\"\"\"\n",
    "# Initialiser une DataFrame vide pour stocker toutes les données\n",
    "data_SP500 = pd.DataFrame()\n",
    "\n",
    "df = df.explode('tickers')\n",
    "start_date = df.groupby('tickers').apply(lambda x: x.index.min())\n",
    "end_date = df.groupby('tickers').apply(lambda x: x.index.max())\n",
    "\n",
    "# Combiner les résultats dans une nouvelle DataFrame\n",
    "resultat = pd.DataFrame({'Start': start_date, 'End': end_date})\n",
    "resultat\n",
    "\"\"\""
   ],
   "id": "435eb2e7a8761814",
   "outputs": [
    {
     "data": {
      "text/plain": [
       "\"\\n# Initialiser une DataFrame vide pour stocker toutes les données\\ndata_SP500 = pd.DataFrame()\\n\\ndf = df.explode('tickers')\\nstart_date = df.groupby('tickers').apply(lambda x: x.index.min())\\nend_date = df.groupby('tickers').apply(lambda x: x.index.max())\\n\\n# Combiner les résultats dans une nouvelle DataFrame\\nresultat = pd.DataFrame({'Start': start_date, 'End': end_date})\\nresultat\\n\""
      ]
     },
     "execution_count": 14,
     "metadata": {},
     "output_type": "execute_result"
    }
   ],
   "execution_count": 14
  },
  {
   "cell_type": "code",
   "id": "8edfe1d8-b9a5-4a07-ae0a-164b36e7b60c",
   "metadata": {
    "ExecuteTime": {
     "end_time": "2025-10-01T13:46:32.123276Z",
     "start_time": "2025-10-01T13:43:09.118634Z"
    }
   },
   "source": [
    "# Télécharger les données pour chaque ticker\n",
    "for ticker in resultat.index:\n",
    "    start_date = resultat.loc[ticker, 'Start']\n",
    "    end_date = resultat.loc[ticker, 'End']\n",
    "\n",
    "    print(f\"Téléchargement des données pour {ticker} de {start_date} à {end_date}\")\n",
    "\n",
    "    # Télécharger les données de l'action entre les dates spécifiées\n",
    "    data = yf.download(\n",
    "                        ticker,\n",
    "                        start=start_date,\n",
    "                        end=end_date,\n",
    "                        interval=\"1d\",\n",
    "                        auto_adjust=True,\n",
    "                        actions=False\n",
    "                        )\n",
    "\n",
    "    # Ajouter une colonne pour identifier le ticker\n",
    "    data['Ticker'] = ticker\n",
    "\n",
    "    # On retire le niveau des tickers pour ne garder que 'Close' et 'Volume'\n",
    "    data.columns = data.columns.droplevel(level=1)\n",
    "    \n",
    "    # Concaténer les données dans la DataFrame globale\n",
    "    data_SP500 = pd.concat([data_SP500, data])\n",
    "\n",
    "# Affichage de la DataFrame résultante\n",
    "data_SP500"
   ],
   "outputs": [
    {
     "name": "stdout",
     "output_type": "stream",
     "text": [
      "Téléchargement des données pour A de 2025-09-27 00:00:00 à 2025-10-01 00:00:00\n"
     ]
    },
    {
     "name": "stderr",
     "output_type": "stream",
     "text": [
      "[*********************100%***********************]  1 of 1 completed\n"
     ]
    },
    {
     "name": "stdout",
     "output_type": "stream",
     "text": [
      "Téléchargement des données pour AAPL de 2025-09-27 00:00:00 à 2025-10-01 00:00:00\n"
     ]
    },
    {
     "name": "stderr",
     "output_type": "stream",
     "text": [
      "[*********************100%***********************]  1 of 1 completed\n"
     ]
    },
    {
     "name": "stdout",
     "output_type": "stream",
     "text": [
      "Téléchargement des données pour ABBV de 2025-09-27 00:00:00 à 2025-10-01 00:00:00\n"
     ]
    },
    {
     "name": "stderr",
     "output_type": "stream",
     "text": [
      "[*********************100%***********************]  1 of 1 completed\n"
     ]
    },
    {
     "name": "stdout",
     "output_type": "stream",
     "text": [
      "Téléchargement des données pour ABNB de 2025-09-27 00:00:00 à 2025-10-01 00:00:00\n"
     ]
    },
    {
     "name": "stderr",
     "output_type": "stream",
     "text": [
      "[*********************100%***********************]  1 of 1 completed\n"
     ]
    },
    {
     "name": "stdout",
     "output_type": "stream",
     "text": [
      "Téléchargement des données pour ABT de 2025-09-27 00:00:00 à 2025-10-01 00:00:00\n"
     ]
    },
    {
     "name": "stderr",
     "output_type": "stream",
     "text": [
      "[*********************100%***********************]  1 of 1 completed\n"
     ]
    },
    {
     "name": "stdout",
     "output_type": "stream",
     "text": [
      "Téléchargement des données pour ACGL de 2025-09-27 00:00:00 à 2025-10-01 00:00:00\n"
     ]
    },
    {
     "name": "stderr",
     "output_type": "stream",
     "text": [
      "[*********************100%***********************]  1 of 1 completed\n"
     ]
    },
    {
     "name": "stdout",
     "output_type": "stream",
     "text": [
      "Téléchargement des données pour ACN de 2025-09-27 00:00:00 à 2025-10-01 00:00:00\n"
     ]
    },
    {
     "name": "stderr",
     "output_type": "stream",
     "text": [
      "[*********************100%***********************]  1 of 1 completed\n"
     ]
    },
    {
     "name": "stdout",
     "output_type": "stream",
     "text": [
      "Téléchargement des données pour ADBE de 2025-09-27 00:00:00 à 2025-10-01 00:00:00\n"
     ]
    },
    {
     "name": "stderr",
     "output_type": "stream",
     "text": [
      "[*********************100%***********************]  1 of 1 completed\n"
     ]
    },
    {
     "name": "stdout",
     "output_type": "stream",
     "text": [
      "Téléchargement des données pour ADI de 2025-09-27 00:00:00 à 2025-10-01 00:00:00\n"
     ]
    },
    {
     "name": "stderr",
     "output_type": "stream",
     "text": [
      "[*********************100%***********************]  1 of 1 completed\n"
     ]
    },
    {
     "name": "stdout",
     "output_type": "stream",
     "text": [
      "Téléchargement des données pour ADM de 2025-09-27 00:00:00 à 2025-10-01 00:00:00\n"
     ]
    },
    {
     "name": "stderr",
     "output_type": "stream",
     "text": [
      "[*********************100%***********************]  1 of 1 completed\n"
     ]
    },
    {
     "name": "stdout",
     "output_type": "stream",
     "text": [
      "Téléchargement des données pour ADP de 2025-09-27 00:00:00 à 2025-10-01 00:00:00\n"
     ]
    },
    {
     "name": "stderr",
     "output_type": "stream",
     "text": [
      "[*********************100%***********************]  1 of 1 completed\n"
     ]
    },
    {
     "name": "stdout",
     "output_type": "stream",
     "text": [
      "Téléchargement des données pour ADSK de 2025-09-27 00:00:00 à 2025-10-01 00:00:00\n"
     ]
    },
    {
     "name": "stderr",
     "output_type": "stream",
     "text": [
      "[*********************100%***********************]  1 of 1 completed\n"
     ]
    },
    {
     "name": "stdout",
     "output_type": "stream",
     "text": [
      "Téléchargement des données pour AEE de 2025-09-27 00:00:00 à 2025-10-01 00:00:00\n"
     ]
    },
    {
     "name": "stderr",
     "output_type": "stream",
     "text": [
      "[*********************100%***********************]  1 of 1 completed\n"
     ]
    },
    {
     "name": "stdout",
     "output_type": "stream",
     "text": [
      "Téléchargement des données pour AEP de 2025-09-27 00:00:00 à 2025-10-01 00:00:00\n"
     ]
    },
    {
     "name": "stderr",
     "output_type": "stream",
     "text": [
      "[*********************100%***********************]  1 of 1 completed\n"
     ]
    },
    {
     "name": "stdout",
     "output_type": "stream",
     "text": [
      "Téléchargement des données pour AES de 2025-09-27 00:00:00 à 2025-10-01 00:00:00\n"
     ]
    },
    {
     "name": "stderr",
     "output_type": "stream",
     "text": [
      "[*********************100%***********************]  1 of 1 completed\n"
     ]
    },
    {
     "name": "stdout",
     "output_type": "stream",
     "text": [
      "Téléchargement des données pour AFL de 2025-09-27 00:00:00 à 2025-10-01 00:00:00\n"
     ]
    },
    {
     "name": "stderr",
     "output_type": "stream",
     "text": [
      "[*********************100%***********************]  1 of 1 completed\n"
     ]
    },
    {
     "name": "stdout",
     "output_type": "stream",
     "text": [
      "Téléchargement des données pour AIG de 2025-09-27 00:00:00 à 2025-10-01 00:00:00\n"
     ]
    },
    {
     "name": "stderr",
     "output_type": "stream",
     "text": [
      "[*********************100%***********************]  1 of 1 completed\n"
     ]
    },
    {
     "name": "stdout",
     "output_type": "stream",
     "text": [
      "Téléchargement des données pour AIZ de 2025-09-27 00:00:00 à 2025-10-01 00:00:00\n"
     ]
    },
    {
     "name": "stderr",
     "output_type": "stream",
     "text": [
      "[*********************100%***********************]  1 of 1 completed\n"
     ]
    },
    {
     "name": "stdout",
     "output_type": "stream",
     "text": [
      "Téléchargement des données pour AJG de 2025-09-27 00:00:00 à 2025-10-01 00:00:00\n"
     ]
    },
    {
     "name": "stderr",
     "output_type": "stream",
     "text": [
      "[*********************100%***********************]  1 of 1 completed\n"
     ]
    },
    {
     "name": "stdout",
     "output_type": "stream",
     "text": [
      "Téléchargement des données pour AKAM de 2025-09-27 00:00:00 à 2025-10-01 00:00:00\n"
     ]
    },
    {
     "name": "stderr",
     "output_type": "stream",
     "text": [
      "[*********************100%***********************]  1 of 1 completed\n"
     ]
    },
    {
     "name": "stdout",
     "output_type": "stream",
     "text": [
      "Téléchargement des données pour ALB de 2025-09-27 00:00:00 à 2025-10-01 00:00:00\n"
     ]
    },
    {
     "name": "stderr",
     "output_type": "stream",
     "text": [
      "[*********************100%***********************]  1 of 1 completed\n"
     ]
    },
    {
     "name": "stdout",
     "output_type": "stream",
     "text": [
      "Téléchargement des données pour ALGN de 2025-09-27 00:00:00 à 2025-10-01 00:00:00\n"
     ]
    },
    {
     "name": "stderr",
     "output_type": "stream",
     "text": [
      "[*********************100%***********************]  1 of 1 completed\n"
     ]
    },
    {
     "name": "stdout",
     "output_type": "stream",
     "text": [
      "Téléchargement des données pour ALL de 2025-09-27 00:00:00 à 2025-10-01 00:00:00\n"
     ]
    },
    {
     "name": "stderr",
     "output_type": "stream",
     "text": [
      "[*********************100%***********************]  1 of 1 completed\n"
     ]
    },
    {
     "name": "stdout",
     "output_type": "stream",
     "text": [
      "Téléchargement des données pour ALLE de 2025-09-27 00:00:00 à 2025-10-01 00:00:00\n"
     ]
    },
    {
     "name": "stderr",
     "output_type": "stream",
     "text": [
      "[*********************100%***********************]  1 of 1 completed\n"
     ]
    },
    {
     "name": "stdout",
     "output_type": "stream",
     "text": [
      "Téléchargement des données pour AMAT de 2025-09-27 00:00:00 à 2025-10-01 00:00:00\n"
     ]
    },
    {
     "name": "stderr",
     "output_type": "stream",
     "text": [
      "[*********************100%***********************]  1 of 1 completed\n"
     ]
    },
    {
     "name": "stdout",
     "output_type": "stream",
     "text": [
      "Téléchargement des données pour AMCR de 2025-09-27 00:00:00 à 2025-10-01 00:00:00\n"
     ]
    },
    {
     "name": "stderr",
     "output_type": "stream",
     "text": [
      "[*********************100%***********************]  1 of 1 completed\n"
     ]
    },
    {
     "name": "stdout",
     "output_type": "stream",
     "text": [
      "Téléchargement des données pour AMD de 2025-09-27 00:00:00 à 2025-10-01 00:00:00\n"
     ]
    },
    {
     "name": "stderr",
     "output_type": "stream",
     "text": [
      "[*********************100%***********************]  1 of 1 completed\n"
     ]
    },
    {
     "name": "stdout",
     "output_type": "stream",
     "text": [
      "Téléchargement des données pour AME de 2025-09-27 00:00:00 à 2025-10-01 00:00:00\n"
     ]
    },
    {
     "name": "stderr",
     "output_type": "stream",
     "text": [
      "[*********************100%***********************]  1 of 1 completed\n"
     ]
    },
    {
     "name": "stdout",
     "output_type": "stream",
     "text": [
      "Téléchargement des données pour AMGN de 2025-09-27 00:00:00 à 2025-10-01 00:00:00\n"
     ]
    },
    {
     "name": "stderr",
     "output_type": "stream",
     "text": [
      "[*********************100%***********************]  1 of 1 completed\n"
     ]
    },
    {
     "name": "stdout",
     "output_type": "stream",
     "text": [
      "Téléchargement des données pour AMP de 2025-09-27 00:00:00 à 2025-10-01 00:00:00\n"
     ]
    },
    {
     "name": "stderr",
     "output_type": "stream",
     "text": [
      "[*********************100%***********************]  1 of 1 completed\n"
     ]
    },
    {
     "name": "stdout",
     "output_type": "stream",
     "text": [
      "Téléchargement des données pour AMT de 2025-09-27 00:00:00 à 2025-10-01 00:00:00\n"
     ]
    },
    {
     "name": "stderr",
     "output_type": "stream",
     "text": [
      "[*********************100%***********************]  1 of 1 completed\n"
     ]
    },
    {
     "name": "stdout",
     "output_type": "stream",
     "text": [
      "Téléchargement des données pour AMZN de 2025-09-27 00:00:00 à 2025-10-01 00:00:00\n"
     ]
    },
    {
     "name": "stderr",
     "output_type": "stream",
     "text": [
      "[*********************100%***********************]  1 of 1 completed\n"
     ]
    },
    {
     "name": "stdout",
     "output_type": "stream",
     "text": [
      "Téléchargement des données pour ANET de 2025-09-27 00:00:00 à 2025-10-01 00:00:00\n"
     ]
    },
    {
     "name": "stderr",
     "output_type": "stream",
     "text": [
      "[*********************100%***********************]  1 of 1 completed\n"
     ]
    },
    {
     "name": "stdout",
     "output_type": "stream",
     "text": [
      "Téléchargement des données pour AON de 2025-09-27 00:00:00 à 2025-10-01 00:00:00\n"
     ]
    },
    {
     "name": "stderr",
     "output_type": "stream",
     "text": [
      "[*********************100%***********************]  1 of 1 completed\n"
     ]
    },
    {
     "name": "stdout",
     "output_type": "stream",
     "text": [
      "Téléchargement des données pour AOS de 2025-09-27 00:00:00 à 2025-10-01 00:00:00\n"
     ]
    },
    {
     "name": "stderr",
     "output_type": "stream",
     "text": [
      "[*********************100%***********************]  1 of 1 completed\n"
     ]
    },
    {
     "name": "stdout",
     "output_type": "stream",
     "text": [
      "Téléchargement des données pour APA de 2025-09-27 00:00:00 à 2025-10-01 00:00:00\n"
     ]
    },
    {
     "name": "stderr",
     "output_type": "stream",
     "text": [
      "[*********************100%***********************]  1 of 1 completed\n"
     ]
    },
    {
     "name": "stdout",
     "output_type": "stream",
     "text": [
      "Téléchargement des données pour APD de 2025-09-27 00:00:00 à 2025-10-01 00:00:00\n"
     ]
    },
    {
     "name": "stderr",
     "output_type": "stream",
     "text": [
      "[*********************100%***********************]  1 of 1 completed\n"
     ]
    },
    {
     "name": "stdout",
     "output_type": "stream",
     "text": [
      "Téléchargement des données pour APH de 2025-09-27 00:00:00 à 2025-10-01 00:00:00\n"
     ]
    },
    {
     "name": "stderr",
     "output_type": "stream",
     "text": [
      "[*********************100%***********************]  1 of 1 completed\n"
     ]
    },
    {
     "name": "stdout",
     "output_type": "stream",
     "text": [
      "Téléchargement des données pour APO de 2025-09-27 00:00:00 à 2025-10-01 00:00:00\n"
     ]
    },
    {
     "name": "stderr",
     "output_type": "stream",
     "text": [
      "[*********************100%***********************]  1 of 1 completed\n"
     ]
    },
    {
     "name": "stdout",
     "output_type": "stream",
     "text": [
      "Téléchargement des données pour APP de 2025-09-27 00:00:00 à 2025-10-01 00:00:00\n"
     ]
    },
    {
     "name": "stderr",
     "output_type": "stream",
     "text": [
      "[*********************100%***********************]  1 of 1 completed\n"
     ]
    },
    {
     "name": "stdout",
     "output_type": "stream",
     "text": [
      "Téléchargement des données pour APTV de 2025-09-27 00:00:00 à 2025-10-01 00:00:00\n"
     ]
    },
    {
     "name": "stderr",
     "output_type": "stream",
     "text": [
      "[*********************100%***********************]  1 of 1 completed\n"
     ]
    },
    {
     "name": "stdout",
     "output_type": "stream",
     "text": [
      "Téléchargement des données pour ARE de 2025-09-27 00:00:00 à 2025-10-01 00:00:00\n"
     ]
    },
    {
     "name": "stderr",
     "output_type": "stream",
     "text": [
      "[*********************100%***********************]  1 of 1 completed\n"
     ]
    },
    {
     "name": "stdout",
     "output_type": "stream",
     "text": [
      "Téléchargement des données pour ATO de 2025-09-27 00:00:00 à 2025-10-01 00:00:00\n"
     ]
    },
    {
     "name": "stderr",
     "output_type": "stream",
     "text": [
      "[*********************100%***********************]  1 of 1 completed\n"
     ]
    },
    {
     "name": "stdout",
     "output_type": "stream",
     "text": [
      "Téléchargement des données pour AVB de 2025-09-27 00:00:00 à 2025-10-01 00:00:00\n"
     ]
    },
    {
     "name": "stderr",
     "output_type": "stream",
     "text": [
      "[*********************100%***********************]  1 of 1 completed\n"
     ]
    },
    {
     "name": "stdout",
     "output_type": "stream",
     "text": [
      "Téléchargement des données pour AVGO de 2025-09-27 00:00:00 à 2025-10-01 00:00:00\n"
     ]
    },
    {
     "name": "stderr",
     "output_type": "stream",
     "text": [
      "[*********************100%***********************]  1 of 1 completed\n"
     ]
    },
    {
     "name": "stdout",
     "output_type": "stream",
     "text": [
      "Téléchargement des données pour AVY de 2025-09-27 00:00:00 à 2025-10-01 00:00:00\n"
     ]
    },
    {
     "name": "stderr",
     "output_type": "stream",
     "text": [
      "[*********************100%***********************]  1 of 1 completed\n"
     ]
    },
    {
     "name": "stdout",
     "output_type": "stream",
     "text": [
      "Téléchargement des données pour AWK de 2025-09-27 00:00:00 à 2025-10-01 00:00:00\n"
     ]
    },
    {
     "name": "stderr",
     "output_type": "stream",
     "text": [
      "[*********************100%***********************]  1 of 1 completed\n"
     ]
    },
    {
     "name": "stdout",
     "output_type": "stream",
     "text": [
      "Téléchargement des données pour AXON de 2025-09-27 00:00:00 à 2025-10-01 00:00:00\n"
     ]
    },
    {
     "name": "stderr",
     "output_type": "stream",
     "text": [
      "[*********************100%***********************]  1 of 1 completed\n"
     ]
    },
    {
     "name": "stdout",
     "output_type": "stream",
     "text": [
      "Téléchargement des données pour AXP de 2025-09-27 00:00:00 à 2025-10-01 00:00:00\n"
     ]
    },
    {
     "name": "stderr",
     "output_type": "stream",
     "text": [
      "[*********************100%***********************]  1 of 1 completed\n"
     ]
    },
    {
     "name": "stdout",
     "output_type": "stream",
     "text": [
      "Téléchargement des données pour AZO de 2025-09-27 00:00:00 à 2025-10-01 00:00:00\n"
     ]
    },
    {
     "name": "stderr",
     "output_type": "stream",
     "text": [
      "[*********************100%***********************]  1 of 1 completed\n"
     ]
    },
    {
     "name": "stdout",
     "output_type": "stream",
     "text": [
      "Téléchargement des données pour BA de 2025-09-27 00:00:00 à 2025-10-01 00:00:00\n"
     ]
    },
    {
     "name": "stderr",
     "output_type": "stream",
     "text": [
      "[*********************100%***********************]  1 of 1 completed\n"
     ]
    },
    {
     "name": "stdout",
     "output_type": "stream",
     "text": [
      "Téléchargement des données pour BAC de 2025-09-27 00:00:00 à 2025-10-01 00:00:00\n"
     ]
    },
    {
     "name": "stderr",
     "output_type": "stream",
     "text": [
      "[*********************100%***********************]  1 of 1 completed\n"
     ]
    },
    {
     "name": "stdout",
     "output_type": "stream",
     "text": [
      "Téléchargement des données pour BALL de 2025-09-27 00:00:00 à 2025-10-01 00:00:00\n"
     ]
    },
    {
     "name": "stderr",
     "output_type": "stream",
     "text": [
      "[*********************100%***********************]  1 of 1 completed\n"
     ]
    },
    {
     "name": "stdout",
     "output_type": "stream",
     "text": [
      "Téléchargement des données pour BAX de 2025-09-27 00:00:00 à 2025-10-01 00:00:00\n"
     ]
    },
    {
     "name": "stderr",
     "output_type": "stream",
     "text": [
      "[*********************100%***********************]  1 of 1 completed\n"
     ]
    },
    {
     "name": "stdout",
     "output_type": "stream",
     "text": [
      "Téléchargement des données pour BBY de 2025-09-27 00:00:00 à 2025-10-01 00:00:00\n"
     ]
    },
    {
     "name": "stderr",
     "output_type": "stream",
     "text": [
      "[*********************100%***********************]  1 of 1 completed\n"
     ]
    },
    {
     "name": "stdout",
     "output_type": "stream",
     "text": [
      "Téléchargement des données pour BDX de 2025-09-27 00:00:00 à 2025-10-01 00:00:00\n"
     ]
    },
    {
     "name": "stderr",
     "output_type": "stream",
     "text": [
      "[*********************100%***********************]  1 of 1 completed\n"
     ]
    },
    {
     "name": "stdout",
     "output_type": "stream",
     "text": [
      "Téléchargement des données pour BEN de 2025-09-27 00:00:00 à 2025-10-01 00:00:00\n"
     ]
    },
    {
     "name": "stderr",
     "output_type": "stream",
     "text": [
      "[*********************100%***********************]  1 of 1 completed\n"
     ]
    },
    {
     "name": "stdout",
     "output_type": "stream",
     "text": [
      "Téléchargement des données pour BF-B de 2025-09-27 00:00:00 à 2025-10-01 00:00:00\n"
     ]
    },
    {
     "name": "stderr",
     "output_type": "stream",
     "text": [
      "[*********************100%***********************]  1 of 1 completed\n"
     ]
    },
    {
     "name": "stdout",
     "output_type": "stream",
     "text": [
      "Téléchargement des données pour BG de 2025-09-27 00:00:00 à 2025-10-01 00:00:00\n"
     ]
    },
    {
     "name": "stderr",
     "output_type": "stream",
     "text": [
      "[*********************100%***********************]  1 of 1 completed\n"
     ]
    },
    {
     "name": "stdout",
     "output_type": "stream",
     "text": [
      "Téléchargement des données pour BIIB de 2025-09-27 00:00:00 à 2025-10-01 00:00:00\n"
     ]
    },
    {
     "name": "stderr",
     "output_type": "stream",
     "text": [
      "[*********************100%***********************]  1 of 1 completed\n"
     ]
    },
    {
     "name": "stdout",
     "output_type": "stream",
     "text": [
      "Téléchargement des données pour BK de 2025-09-27 00:00:00 à 2025-10-01 00:00:00\n"
     ]
    },
    {
     "name": "stderr",
     "output_type": "stream",
     "text": [
      "[*********************100%***********************]  1 of 1 completed\n"
     ]
    },
    {
     "name": "stdout",
     "output_type": "stream",
     "text": [
      "Téléchargement des données pour BKNG de 2025-09-27 00:00:00 à 2025-10-01 00:00:00\n"
     ]
    },
    {
     "name": "stderr",
     "output_type": "stream",
     "text": [
      "[*********************100%***********************]  1 of 1 completed\n"
     ]
    },
    {
     "name": "stdout",
     "output_type": "stream",
     "text": [
      "Téléchargement des données pour BKR de 2025-09-27 00:00:00 à 2025-10-01 00:00:00\n"
     ]
    },
    {
     "name": "stderr",
     "output_type": "stream",
     "text": [
      "[*********************100%***********************]  1 of 1 completed\n"
     ]
    },
    {
     "name": "stdout",
     "output_type": "stream",
     "text": [
      "Téléchargement des données pour BLDR de 2025-09-27 00:00:00 à 2025-10-01 00:00:00\n"
     ]
    },
    {
     "name": "stderr",
     "output_type": "stream",
     "text": [
      "[*********************100%***********************]  1 of 1 completed\n"
     ]
    },
    {
     "name": "stdout",
     "output_type": "stream",
     "text": [
      "Téléchargement des données pour BLK de 2025-09-27 00:00:00 à 2025-10-01 00:00:00\n"
     ]
    },
    {
     "name": "stderr",
     "output_type": "stream",
     "text": [
      "[*********************100%***********************]  1 of 1 completed\n"
     ]
    },
    {
     "name": "stdout",
     "output_type": "stream",
     "text": [
      "Téléchargement des données pour BMY de 2025-09-27 00:00:00 à 2025-10-01 00:00:00\n"
     ]
    },
    {
     "name": "stderr",
     "output_type": "stream",
     "text": [
      "[*********************100%***********************]  1 of 1 completed\n"
     ]
    },
    {
     "name": "stdout",
     "output_type": "stream",
     "text": [
      "Téléchargement des données pour BR de 2025-09-27 00:00:00 à 2025-10-01 00:00:00\n"
     ]
    },
    {
     "name": "stderr",
     "output_type": "stream",
     "text": [
      "[*********************100%***********************]  1 of 1 completed\n"
     ]
    },
    {
     "name": "stdout",
     "output_type": "stream",
     "text": [
      "Téléchargement des données pour BRK-B de 2025-09-27 00:00:00 à 2025-10-01 00:00:00\n"
     ]
    },
    {
     "name": "stderr",
     "output_type": "stream",
     "text": [
      "[*********************100%***********************]  1 of 1 completed\n"
     ]
    },
    {
     "name": "stdout",
     "output_type": "stream",
     "text": [
      "Téléchargement des données pour BRO de 2025-09-27 00:00:00 à 2025-10-01 00:00:00\n"
     ]
    },
    {
     "name": "stderr",
     "output_type": "stream",
     "text": [
      "[*********************100%***********************]  1 of 1 completed\n"
     ]
    },
    {
     "name": "stdout",
     "output_type": "stream",
     "text": [
      "Téléchargement des données pour BSX de 2025-09-27 00:00:00 à 2025-10-01 00:00:00\n"
     ]
    },
    {
     "name": "stderr",
     "output_type": "stream",
     "text": [
      "[*********************100%***********************]  1 of 1 completed\n"
     ]
    },
    {
     "name": "stdout",
     "output_type": "stream",
     "text": [
      "Téléchargement des données pour BX de 2025-09-27 00:00:00 à 2025-10-01 00:00:00\n"
     ]
    },
    {
     "name": "stderr",
     "output_type": "stream",
     "text": [
      "[*********************100%***********************]  1 of 1 completed\n"
     ]
    },
    {
     "name": "stdout",
     "output_type": "stream",
     "text": [
      "Téléchargement des données pour BXP de 2025-09-27 00:00:00 à 2025-10-01 00:00:00\n"
     ]
    },
    {
     "name": "stderr",
     "output_type": "stream",
     "text": [
      "[*********************100%***********************]  1 of 1 completed\n"
     ]
    },
    {
     "name": "stdout",
     "output_type": "stream",
     "text": [
      "Téléchargement des données pour CAG de 2025-09-27 00:00:00 à 2025-10-01 00:00:00\n"
     ]
    },
    {
     "name": "stderr",
     "output_type": "stream",
     "text": [
      "[*********************100%***********************]  1 of 1 completed\n"
     ]
    },
    {
     "name": "stdout",
     "output_type": "stream",
     "text": [
      "Téléchargement des données pour CAH de 2025-09-27 00:00:00 à 2025-10-01 00:00:00\n"
     ]
    },
    {
     "name": "stderr",
     "output_type": "stream",
     "text": [
      "[*********************100%***********************]  1 of 1 completed\n"
     ]
    },
    {
     "name": "stdout",
     "output_type": "stream",
     "text": [
      "Téléchargement des données pour CARR de 2025-09-27 00:00:00 à 2025-10-01 00:00:00\n"
     ]
    },
    {
     "name": "stderr",
     "output_type": "stream",
     "text": [
      "[*********************100%***********************]  1 of 1 completed\n"
     ]
    },
    {
     "name": "stdout",
     "output_type": "stream",
     "text": [
      "Téléchargement des données pour CAT de 2025-09-27 00:00:00 à 2025-10-01 00:00:00\n"
     ]
    },
    {
     "name": "stderr",
     "output_type": "stream",
     "text": [
      "[*********************100%***********************]  1 of 1 completed\n"
     ]
    },
    {
     "name": "stdout",
     "output_type": "stream",
     "text": [
      "Téléchargement des données pour CB de 2025-09-27 00:00:00 à 2025-10-01 00:00:00\n"
     ]
    },
    {
     "name": "stderr",
     "output_type": "stream",
     "text": [
      "[*********************100%***********************]  1 of 1 completed\n"
     ]
    },
    {
     "name": "stdout",
     "output_type": "stream",
     "text": [
      "Téléchargement des données pour CBOE de 2025-09-27 00:00:00 à 2025-10-01 00:00:00\n"
     ]
    },
    {
     "name": "stderr",
     "output_type": "stream",
     "text": [
      "[*********************100%***********************]  1 of 1 completed\n"
     ]
    },
    {
     "name": "stdout",
     "output_type": "stream",
     "text": [
      "Téléchargement des données pour CBRE de 2025-09-27 00:00:00 à 2025-10-01 00:00:00\n"
     ]
    },
    {
     "name": "stderr",
     "output_type": "stream",
     "text": [
      "[*********************100%***********************]  1 of 1 completed\n"
     ]
    },
    {
     "name": "stdout",
     "output_type": "stream",
     "text": [
      "Téléchargement des données pour CCI de 2025-09-27 00:00:00 à 2025-10-01 00:00:00\n"
     ]
    },
    {
     "name": "stderr",
     "output_type": "stream",
     "text": [
      "[*********************100%***********************]  1 of 1 completed\n"
     ]
    },
    {
     "name": "stdout",
     "output_type": "stream",
     "text": [
      "Téléchargement des données pour CCL de 2025-09-27 00:00:00 à 2025-10-01 00:00:00\n"
     ]
    },
    {
     "name": "stderr",
     "output_type": "stream",
     "text": [
      "[*********************100%***********************]  1 of 1 completed\n"
     ]
    },
    {
     "name": "stdout",
     "output_type": "stream",
     "text": [
      "Téléchargement des données pour CDNS de 2025-09-27 00:00:00 à 2025-10-01 00:00:00\n"
     ]
    },
    {
     "name": "stderr",
     "output_type": "stream",
     "text": [
      "[*********************100%***********************]  1 of 1 completed\n"
     ]
    },
    {
     "name": "stdout",
     "output_type": "stream",
     "text": [
      "Téléchargement des données pour CDW de 2025-09-27 00:00:00 à 2025-10-01 00:00:00\n"
     ]
    },
    {
     "name": "stderr",
     "output_type": "stream",
     "text": [
      "[*********************100%***********************]  1 of 1 completed\n"
     ]
    },
    {
     "name": "stdout",
     "output_type": "stream",
     "text": [
      "Téléchargement des données pour CEG de 2025-09-27 00:00:00 à 2025-10-01 00:00:00\n"
     ]
    },
    {
     "name": "stderr",
     "output_type": "stream",
     "text": [
      "[*********************100%***********************]  1 of 1 completed\n"
     ]
    },
    {
     "name": "stdout",
     "output_type": "stream",
     "text": [
      "Téléchargement des données pour CF de 2025-09-27 00:00:00 à 2025-10-01 00:00:00\n"
     ]
    },
    {
     "name": "stderr",
     "output_type": "stream",
     "text": [
      "[*********************100%***********************]  1 of 1 completed\n"
     ]
    },
    {
     "name": "stdout",
     "output_type": "stream",
     "text": [
      "Téléchargement des données pour CFG de 2025-09-27 00:00:00 à 2025-10-01 00:00:00\n"
     ]
    },
    {
     "name": "stderr",
     "output_type": "stream",
     "text": [
      "[*********************100%***********************]  1 of 1 completed\n"
     ]
    },
    {
     "name": "stdout",
     "output_type": "stream",
     "text": [
      "Téléchargement des données pour CHD de 2025-09-27 00:00:00 à 2025-10-01 00:00:00\n"
     ]
    },
    {
     "name": "stderr",
     "output_type": "stream",
     "text": [
      "[*********************100%***********************]  1 of 1 completed\n"
     ]
    },
    {
     "name": "stdout",
     "output_type": "stream",
     "text": [
      "Téléchargement des données pour CHRW de 2025-09-27 00:00:00 à 2025-10-01 00:00:00\n"
     ]
    },
    {
     "name": "stderr",
     "output_type": "stream",
     "text": [
      "[*********************100%***********************]  1 of 1 completed\n"
     ]
    },
    {
     "name": "stdout",
     "output_type": "stream",
     "text": [
      "Téléchargement des données pour CHTR de 2025-09-27 00:00:00 à 2025-10-01 00:00:00\n"
     ]
    },
    {
     "name": "stderr",
     "output_type": "stream",
     "text": [
      "[*********************100%***********************]  1 of 1 completed\n"
     ]
    },
    {
     "name": "stdout",
     "output_type": "stream",
     "text": [
      "Téléchargement des données pour CI de 2025-09-27 00:00:00 à 2025-10-01 00:00:00\n"
     ]
    },
    {
     "name": "stderr",
     "output_type": "stream",
     "text": [
      "[*********************100%***********************]  1 of 1 completed\n"
     ]
    },
    {
     "name": "stdout",
     "output_type": "stream",
     "text": [
      "Téléchargement des données pour CINF de 2025-09-27 00:00:00 à 2025-10-01 00:00:00\n"
     ]
    },
    {
     "name": "stderr",
     "output_type": "stream",
     "text": [
      "[*********************100%***********************]  1 of 1 completed\n"
     ]
    },
    {
     "name": "stdout",
     "output_type": "stream",
     "text": [
      "Téléchargement des données pour CL de 2025-09-27 00:00:00 à 2025-10-01 00:00:00\n"
     ]
    },
    {
     "name": "stderr",
     "output_type": "stream",
     "text": [
      "[*********************100%***********************]  1 of 1 completed\n"
     ]
    },
    {
     "name": "stdout",
     "output_type": "stream",
     "text": [
      "Téléchargement des données pour CLX de 2025-09-27 00:00:00 à 2025-10-01 00:00:00\n"
     ]
    },
    {
     "name": "stderr",
     "output_type": "stream",
     "text": [
      "[*********************100%***********************]  1 of 1 completed\n"
     ]
    },
    {
     "name": "stdout",
     "output_type": "stream",
     "text": [
      "Téléchargement des données pour CMCSA de 2025-09-27 00:00:00 à 2025-10-01 00:00:00\n"
     ]
    },
    {
     "name": "stderr",
     "output_type": "stream",
     "text": [
      "[*********************100%***********************]  1 of 1 completed\n"
     ]
    },
    {
     "name": "stdout",
     "output_type": "stream",
     "text": [
      "Téléchargement des données pour CME de 2025-09-27 00:00:00 à 2025-10-01 00:00:00\n"
     ]
    },
    {
     "name": "stderr",
     "output_type": "stream",
     "text": [
      "[*********************100%***********************]  1 of 1 completed\n"
     ]
    },
    {
     "name": "stdout",
     "output_type": "stream",
     "text": [
      "Téléchargement des données pour CMG de 2025-09-27 00:00:00 à 2025-10-01 00:00:00\n"
     ]
    },
    {
     "name": "stderr",
     "output_type": "stream",
     "text": [
      "[*********************100%***********************]  1 of 1 completed\n"
     ]
    },
    {
     "name": "stdout",
     "output_type": "stream",
     "text": [
      "Téléchargement des données pour CMI de 2025-09-27 00:00:00 à 2025-10-01 00:00:00\n"
     ]
    },
    {
     "name": "stderr",
     "output_type": "stream",
     "text": [
      "[*********************100%***********************]  1 of 1 completed\n"
     ]
    },
    {
     "name": "stdout",
     "output_type": "stream",
     "text": [
      "Téléchargement des données pour CMS de 2025-09-27 00:00:00 à 2025-10-01 00:00:00\n"
     ]
    },
    {
     "name": "stderr",
     "output_type": "stream",
     "text": [
      "[*********************100%***********************]  1 of 1 completed\n"
     ]
    },
    {
     "name": "stdout",
     "output_type": "stream",
     "text": [
      "Téléchargement des données pour CNC de 2025-09-27 00:00:00 à 2025-10-01 00:00:00\n"
     ]
    },
    {
     "name": "stderr",
     "output_type": "stream",
     "text": [
      "[*********************100%***********************]  1 of 1 completed\n"
     ]
    },
    {
     "name": "stdout",
     "output_type": "stream",
     "text": [
      "Téléchargement des données pour CNP de 2025-09-27 00:00:00 à 2025-10-01 00:00:00\n"
     ]
    },
    {
     "name": "stderr",
     "output_type": "stream",
     "text": [
      "[*********************100%***********************]  1 of 1 completed\n"
     ]
    },
    {
     "name": "stdout",
     "output_type": "stream",
     "text": [
      "Téléchargement des données pour COF de 2025-09-27 00:00:00 à 2025-10-01 00:00:00\n"
     ]
    },
    {
     "name": "stderr",
     "output_type": "stream",
     "text": [
      "[*********************100%***********************]  1 of 1 completed\n"
     ]
    },
    {
     "name": "stdout",
     "output_type": "stream",
     "text": [
      "Téléchargement des données pour COIN de 2025-09-27 00:00:00 à 2025-10-01 00:00:00\n"
     ]
    },
    {
     "name": "stderr",
     "output_type": "stream",
     "text": [
      "[*********************100%***********************]  1 of 1 completed\n"
     ]
    },
    {
     "name": "stdout",
     "output_type": "stream",
     "text": [
      "Téléchargement des données pour COO de 2025-09-27 00:00:00 à 2025-10-01 00:00:00\n"
     ]
    },
    {
     "name": "stderr",
     "output_type": "stream",
     "text": [
      "[*********************100%***********************]  1 of 1 completed\n"
     ]
    },
    {
     "name": "stdout",
     "output_type": "stream",
     "text": [
      "Téléchargement des données pour COP de 2025-09-27 00:00:00 à 2025-10-01 00:00:00\n"
     ]
    },
    {
     "name": "stderr",
     "output_type": "stream",
     "text": [
      "[*********************100%***********************]  1 of 1 completed\n"
     ]
    },
    {
     "name": "stdout",
     "output_type": "stream",
     "text": [
      "Téléchargement des données pour COR de 2025-09-27 00:00:00 à 2025-10-01 00:00:00\n"
     ]
    },
    {
     "name": "stderr",
     "output_type": "stream",
     "text": [
      "[*********************100%***********************]  1 of 1 completed\n"
     ]
    },
    {
     "name": "stdout",
     "output_type": "stream",
     "text": [
      "Téléchargement des données pour COST de 2025-09-27 00:00:00 à 2025-10-01 00:00:00\n"
     ]
    },
    {
     "name": "stderr",
     "output_type": "stream",
     "text": [
      "[*********************100%***********************]  1 of 1 completed\n"
     ]
    },
    {
     "name": "stdout",
     "output_type": "stream",
     "text": [
      "Téléchargement des données pour CPAY de 2025-09-27 00:00:00 à 2025-10-01 00:00:00\n"
     ]
    },
    {
     "name": "stderr",
     "output_type": "stream",
     "text": [
      "[*********************100%***********************]  1 of 1 completed\n"
     ]
    },
    {
     "name": "stdout",
     "output_type": "stream",
     "text": [
      "Téléchargement des données pour CPB de 2025-09-27 00:00:00 à 2025-10-01 00:00:00\n"
     ]
    },
    {
     "name": "stderr",
     "output_type": "stream",
     "text": [
      "[*********************100%***********************]  1 of 1 completed\n"
     ]
    },
    {
     "name": "stdout",
     "output_type": "stream",
     "text": [
      "Téléchargement des données pour CPRT de 2025-09-27 00:00:00 à 2025-10-01 00:00:00\n"
     ]
    },
    {
     "name": "stderr",
     "output_type": "stream",
     "text": [
      "[*********************100%***********************]  1 of 1 completed\n"
     ]
    },
    {
     "name": "stdout",
     "output_type": "stream",
     "text": [
      "Téléchargement des données pour CPT de 2025-09-27 00:00:00 à 2025-10-01 00:00:00\n"
     ]
    },
    {
     "name": "stderr",
     "output_type": "stream",
     "text": [
      "[*********************100%***********************]  1 of 1 completed\n"
     ]
    },
    {
     "name": "stdout",
     "output_type": "stream",
     "text": [
      "Téléchargement des données pour CRL de 2025-09-27 00:00:00 à 2025-10-01 00:00:00\n"
     ]
    },
    {
     "name": "stderr",
     "output_type": "stream",
     "text": [
      "[*********************100%***********************]  1 of 1 completed\n"
     ]
    },
    {
     "name": "stdout",
     "output_type": "stream",
     "text": [
      "Téléchargement des données pour CRM de 2025-09-27 00:00:00 à 2025-10-01 00:00:00\n"
     ]
    },
    {
     "name": "stderr",
     "output_type": "stream",
     "text": [
      "[*********************100%***********************]  1 of 1 completed\n"
     ]
    },
    {
     "name": "stdout",
     "output_type": "stream",
     "text": [
      "Téléchargement des données pour CRWD de 2025-09-27 00:00:00 à 2025-10-01 00:00:00\n"
     ]
    },
    {
     "name": "stderr",
     "output_type": "stream",
     "text": [
      "[*********************100%***********************]  1 of 1 completed\n"
     ]
    },
    {
     "name": "stdout",
     "output_type": "stream",
     "text": [
      "Téléchargement des données pour CSCO de 2025-09-27 00:00:00 à 2025-10-01 00:00:00\n"
     ]
    },
    {
     "name": "stderr",
     "output_type": "stream",
     "text": [
      "[*********************100%***********************]  1 of 1 completed\n"
     ]
    },
    {
     "name": "stdout",
     "output_type": "stream",
     "text": [
      "Téléchargement des données pour CSGP de 2025-09-27 00:00:00 à 2025-10-01 00:00:00\n"
     ]
    },
    {
     "name": "stderr",
     "output_type": "stream",
     "text": [
      "[*********************100%***********************]  1 of 1 completed\n"
     ]
    },
    {
     "name": "stdout",
     "output_type": "stream",
     "text": [
      "Téléchargement des données pour CSX de 2025-09-27 00:00:00 à 2025-10-01 00:00:00\n"
     ]
    },
    {
     "name": "stderr",
     "output_type": "stream",
     "text": [
      "[*********************100%***********************]  1 of 1 completed\n"
     ]
    },
    {
     "name": "stdout",
     "output_type": "stream",
     "text": [
      "Téléchargement des données pour CTAS de 2025-09-27 00:00:00 à 2025-10-01 00:00:00\n"
     ]
    },
    {
     "name": "stderr",
     "output_type": "stream",
     "text": [
      "[*********************100%***********************]  1 of 1 completed\n"
     ]
    },
    {
     "name": "stdout",
     "output_type": "stream",
     "text": [
      "Téléchargement des données pour CTRA de 2025-09-27 00:00:00 à 2025-10-01 00:00:00\n"
     ]
    },
    {
     "name": "stderr",
     "output_type": "stream",
     "text": [
      "[*********************100%***********************]  1 of 1 completed\n"
     ]
    },
    {
     "name": "stdout",
     "output_type": "stream",
     "text": [
      "Téléchargement des données pour CTSH de 2025-09-27 00:00:00 à 2025-10-01 00:00:00\n"
     ]
    },
    {
     "name": "stderr",
     "output_type": "stream",
     "text": [
      "[*********************100%***********************]  1 of 1 completed\n"
     ]
    },
    {
     "name": "stdout",
     "output_type": "stream",
     "text": [
      "Téléchargement des données pour CTVA de 2025-09-27 00:00:00 à 2025-10-01 00:00:00\n"
     ]
    },
    {
     "name": "stderr",
     "output_type": "stream",
     "text": [
      "[*********************100%***********************]  1 of 1 completed\n"
     ]
    },
    {
     "name": "stdout",
     "output_type": "stream",
     "text": [
      "Téléchargement des données pour CVS de 2025-09-27 00:00:00 à 2025-10-01 00:00:00\n"
     ]
    },
    {
     "name": "stderr",
     "output_type": "stream",
     "text": [
      "[*********************100%***********************]  1 of 1 completed\n"
     ]
    },
    {
     "name": "stdout",
     "output_type": "stream",
     "text": [
      "Téléchargement des données pour CVX de 2025-09-27 00:00:00 à 2025-10-01 00:00:00\n"
     ]
    },
    {
     "name": "stderr",
     "output_type": "stream",
     "text": [
      "[*********************100%***********************]  1 of 1 completed\n"
     ]
    },
    {
     "name": "stdout",
     "output_type": "stream",
     "text": [
      "Téléchargement des données pour D de 2025-09-27 00:00:00 à 2025-10-01 00:00:00\n"
     ]
    },
    {
     "name": "stderr",
     "output_type": "stream",
     "text": [
      "[*********************100%***********************]  1 of 1 completed\n"
     ]
    },
    {
     "name": "stdout",
     "output_type": "stream",
     "text": [
      "Téléchargement des données pour DAL de 2025-09-27 00:00:00 à 2025-10-01 00:00:00\n"
     ]
    },
    {
     "name": "stderr",
     "output_type": "stream",
     "text": [
      "[*********************100%***********************]  1 of 1 completed\n"
     ]
    },
    {
     "name": "stdout",
     "output_type": "stream",
     "text": [
      "Téléchargement des données pour DASH de 2025-09-27 00:00:00 à 2025-10-01 00:00:00\n"
     ]
    },
    {
     "name": "stderr",
     "output_type": "stream",
     "text": [
      "[*********************100%***********************]  1 of 1 completed\n"
     ]
    },
    {
     "name": "stdout",
     "output_type": "stream",
     "text": [
      "Téléchargement des données pour DAY de 2025-09-27 00:00:00 à 2025-10-01 00:00:00\n"
     ]
    },
    {
     "name": "stderr",
     "output_type": "stream",
     "text": [
      "[*********************100%***********************]  1 of 1 completed\n"
     ]
    },
    {
     "name": "stdout",
     "output_type": "stream",
     "text": [
      "Téléchargement des données pour DD de 2025-09-27 00:00:00 à 2025-10-01 00:00:00\n"
     ]
    },
    {
     "name": "stderr",
     "output_type": "stream",
     "text": [
      "[*********************100%***********************]  1 of 1 completed\n"
     ]
    },
    {
     "name": "stdout",
     "output_type": "stream",
     "text": [
      "Téléchargement des données pour DDOG de 2025-09-27 00:00:00 à 2025-10-01 00:00:00\n"
     ]
    },
    {
     "name": "stderr",
     "output_type": "stream",
     "text": [
      "[*********************100%***********************]  1 of 1 completed\n"
     ]
    },
    {
     "name": "stdout",
     "output_type": "stream",
     "text": [
      "Téléchargement des données pour DE de 2025-09-27 00:00:00 à 2025-10-01 00:00:00\n"
     ]
    },
    {
     "name": "stderr",
     "output_type": "stream",
     "text": [
      "[*********************100%***********************]  1 of 1 completed\n"
     ]
    },
    {
     "name": "stdout",
     "output_type": "stream",
     "text": [
      "Téléchargement des données pour DECK de 2025-09-27 00:00:00 à 2025-10-01 00:00:00\n"
     ]
    },
    {
     "name": "stderr",
     "output_type": "stream",
     "text": [
      "[*********************100%***********************]  1 of 1 completed\n"
     ]
    },
    {
     "name": "stdout",
     "output_type": "stream",
     "text": [
      "Téléchargement des données pour DELL de 2025-09-27 00:00:00 à 2025-10-01 00:00:00\n"
     ]
    },
    {
     "name": "stderr",
     "output_type": "stream",
     "text": [
      "[*********************100%***********************]  1 of 1 completed\n"
     ]
    },
    {
     "name": "stdout",
     "output_type": "stream",
     "text": [
      "Téléchargement des données pour DG de 2025-09-27 00:00:00 à 2025-10-01 00:00:00\n"
     ]
    },
    {
     "name": "stderr",
     "output_type": "stream",
     "text": [
      "[*********************100%***********************]  1 of 1 completed\n"
     ]
    },
    {
     "name": "stdout",
     "output_type": "stream",
     "text": [
      "Téléchargement des données pour DGX de 2025-09-27 00:00:00 à 2025-10-01 00:00:00\n"
     ]
    },
    {
     "name": "stderr",
     "output_type": "stream",
     "text": [
      "[*********************100%***********************]  1 of 1 completed\n"
     ]
    },
    {
     "name": "stdout",
     "output_type": "stream",
     "text": [
      "Téléchargement des données pour DHI de 2025-09-27 00:00:00 à 2025-10-01 00:00:00\n"
     ]
    },
    {
     "name": "stderr",
     "output_type": "stream",
     "text": [
      "[*********************100%***********************]  1 of 1 completed\n"
     ]
    },
    {
     "name": "stdout",
     "output_type": "stream",
     "text": [
      "Téléchargement des données pour DHR de 2025-09-27 00:00:00 à 2025-10-01 00:00:00\n"
     ]
    },
    {
     "name": "stderr",
     "output_type": "stream",
     "text": [
      "[*********************100%***********************]  1 of 1 completed\n"
     ]
    },
    {
     "name": "stdout",
     "output_type": "stream",
     "text": [
      "Téléchargement des données pour DIS de 2025-09-27 00:00:00 à 2025-10-01 00:00:00\n"
     ]
    },
    {
     "name": "stderr",
     "output_type": "stream",
     "text": [
      "[*********************100%***********************]  1 of 1 completed\n"
     ]
    },
    {
     "name": "stdout",
     "output_type": "stream",
     "text": [
      "Téléchargement des données pour DLR de 2025-09-27 00:00:00 à 2025-10-01 00:00:00\n"
     ]
    },
    {
     "name": "stderr",
     "output_type": "stream",
     "text": [
      "[*********************100%***********************]  1 of 1 completed\n"
     ]
    },
    {
     "name": "stdout",
     "output_type": "stream",
     "text": [
      "Téléchargement des données pour DLTR de 2025-09-27 00:00:00 à 2025-10-01 00:00:00\n"
     ]
    },
    {
     "name": "stderr",
     "output_type": "stream",
     "text": [
      "[*********************100%***********************]  1 of 1 completed\n"
     ]
    },
    {
     "name": "stdout",
     "output_type": "stream",
     "text": [
      "Téléchargement des données pour DOC de 2025-09-27 00:00:00 à 2025-10-01 00:00:00\n"
     ]
    },
    {
     "name": "stderr",
     "output_type": "stream",
     "text": [
      "[*********************100%***********************]  1 of 1 completed\n"
     ]
    },
    {
     "name": "stdout",
     "output_type": "stream",
     "text": [
      "Téléchargement des données pour DOV de 2025-09-27 00:00:00 à 2025-10-01 00:00:00\n"
     ]
    },
    {
     "name": "stderr",
     "output_type": "stream",
     "text": [
      "[*********************100%***********************]  1 of 1 completed\n"
     ]
    },
    {
     "name": "stdout",
     "output_type": "stream",
     "text": [
      "Téléchargement des données pour DOW de 2025-09-27 00:00:00 à 2025-10-01 00:00:00\n"
     ]
    },
    {
     "name": "stderr",
     "output_type": "stream",
     "text": [
      "[*********************100%***********************]  1 of 1 completed\n"
     ]
    },
    {
     "name": "stdout",
     "output_type": "stream",
     "text": [
      "Téléchargement des données pour DPZ de 2025-09-27 00:00:00 à 2025-10-01 00:00:00\n"
     ]
    },
    {
     "name": "stderr",
     "output_type": "stream",
     "text": [
      "[*********************100%***********************]  1 of 1 completed\n"
     ]
    },
    {
     "name": "stdout",
     "output_type": "stream",
     "text": [
      "Téléchargement des données pour DRI de 2025-09-27 00:00:00 à 2025-10-01 00:00:00\n"
     ]
    },
    {
     "name": "stderr",
     "output_type": "stream",
     "text": [
      "[*********************100%***********************]  1 of 1 completed\n"
     ]
    },
    {
     "name": "stdout",
     "output_type": "stream",
     "text": [
      "Téléchargement des données pour DTE de 2025-09-27 00:00:00 à 2025-10-01 00:00:00\n"
     ]
    },
    {
     "name": "stderr",
     "output_type": "stream",
     "text": [
      "[*********************100%***********************]  1 of 1 completed\n"
     ]
    },
    {
     "name": "stdout",
     "output_type": "stream",
     "text": [
      "Téléchargement des données pour DUK de 2025-09-27 00:00:00 à 2025-10-01 00:00:00\n"
     ]
    },
    {
     "name": "stderr",
     "output_type": "stream",
     "text": [
      "[*********************100%***********************]  1 of 1 completed\n"
     ]
    },
    {
     "name": "stdout",
     "output_type": "stream",
     "text": [
      "Téléchargement des données pour DVA de 2025-09-27 00:00:00 à 2025-10-01 00:00:00\n"
     ]
    },
    {
     "name": "stderr",
     "output_type": "stream",
     "text": [
      "[*********************100%***********************]  1 of 1 completed\n"
     ]
    },
    {
     "name": "stdout",
     "output_type": "stream",
     "text": [
      "Téléchargement des données pour DVN de 2025-09-27 00:00:00 à 2025-10-01 00:00:00\n"
     ]
    },
    {
     "name": "stderr",
     "output_type": "stream",
     "text": [
      "[*********************100%***********************]  1 of 1 completed\n"
     ]
    },
    {
     "name": "stdout",
     "output_type": "stream",
     "text": [
      "Téléchargement des données pour DXCM de 2025-09-27 00:00:00 à 2025-10-01 00:00:00\n"
     ]
    },
    {
     "name": "stderr",
     "output_type": "stream",
     "text": [
      "[*********************100%***********************]  1 of 1 completed\n"
     ]
    },
    {
     "name": "stdout",
     "output_type": "stream",
     "text": [
      "Téléchargement des données pour EA de 2025-09-27 00:00:00 à 2025-10-01 00:00:00\n"
     ]
    },
    {
     "name": "stderr",
     "output_type": "stream",
     "text": [
      "[*********************100%***********************]  1 of 1 completed\n"
     ]
    },
    {
     "name": "stdout",
     "output_type": "stream",
     "text": [
      "Téléchargement des données pour EBAY de 2025-09-27 00:00:00 à 2025-10-01 00:00:00\n"
     ]
    },
    {
     "name": "stderr",
     "output_type": "stream",
     "text": [
      "[*********************100%***********************]  1 of 1 completed\n"
     ]
    },
    {
     "name": "stdout",
     "output_type": "stream",
     "text": [
      "Téléchargement des données pour ECL de 2025-09-27 00:00:00 à 2025-10-01 00:00:00\n"
     ]
    },
    {
     "name": "stderr",
     "output_type": "stream",
     "text": [
      "[*********************100%***********************]  1 of 1 completed\n"
     ]
    },
    {
     "name": "stdout",
     "output_type": "stream",
     "text": [
      "Téléchargement des données pour ED de 2025-09-27 00:00:00 à 2025-10-01 00:00:00\n"
     ]
    },
    {
     "name": "stderr",
     "output_type": "stream",
     "text": [
      "[*********************100%***********************]  1 of 1 completed\n"
     ]
    },
    {
     "name": "stdout",
     "output_type": "stream",
     "text": [
      "Téléchargement des données pour EFX de 2025-09-27 00:00:00 à 2025-10-01 00:00:00\n"
     ]
    },
    {
     "name": "stderr",
     "output_type": "stream",
     "text": [
      "[*********************100%***********************]  1 of 1 completed\n"
     ]
    },
    {
     "name": "stdout",
     "output_type": "stream",
     "text": [
      "Téléchargement des données pour EG de 2025-09-27 00:00:00 à 2025-10-01 00:00:00\n"
     ]
    },
    {
     "name": "stderr",
     "output_type": "stream",
     "text": [
      "[*********************100%***********************]  1 of 1 completed\n"
     ]
    },
    {
     "name": "stdout",
     "output_type": "stream",
     "text": [
      "Téléchargement des données pour EIX de 2025-09-27 00:00:00 à 2025-10-01 00:00:00\n"
     ]
    },
    {
     "name": "stderr",
     "output_type": "stream",
     "text": [
      "[*********************100%***********************]  1 of 1 completed\n"
     ]
    },
    {
     "name": "stdout",
     "output_type": "stream",
     "text": [
      "Téléchargement des données pour EL de 2025-09-27 00:00:00 à 2025-10-01 00:00:00\n"
     ]
    },
    {
     "name": "stderr",
     "output_type": "stream",
     "text": [
      "[*********************100%***********************]  1 of 1 completed\n"
     ]
    },
    {
     "name": "stdout",
     "output_type": "stream",
     "text": [
      "Téléchargement des données pour ELV de 2025-09-27 00:00:00 à 2025-10-01 00:00:00\n"
     ]
    },
    {
     "name": "stderr",
     "output_type": "stream",
     "text": [
      "[*********************100%***********************]  1 of 1 completed\n"
     ]
    },
    {
     "name": "stdout",
     "output_type": "stream",
     "text": [
      "Téléchargement des données pour EME de 2025-09-27 00:00:00 à 2025-10-01 00:00:00\n"
     ]
    },
    {
     "name": "stderr",
     "output_type": "stream",
     "text": [
      "[*********************100%***********************]  1 of 1 completed\n"
     ]
    },
    {
     "name": "stdout",
     "output_type": "stream",
     "text": [
      "Téléchargement des données pour EMN de 2025-09-27 00:00:00 à 2025-10-01 00:00:00\n"
     ]
    },
    {
     "name": "stderr",
     "output_type": "stream",
     "text": [
      "[*********************100%***********************]  1 of 1 completed\n"
     ]
    },
    {
     "name": "stdout",
     "output_type": "stream",
     "text": [
      "Téléchargement des données pour EMR de 2025-09-27 00:00:00 à 2025-10-01 00:00:00\n"
     ]
    },
    {
     "name": "stderr",
     "output_type": "stream",
     "text": [
      "[*********************100%***********************]  1 of 1 completed\n"
     ]
    },
    {
     "name": "stdout",
     "output_type": "stream",
     "text": [
      "Téléchargement des données pour EOG de 2025-09-27 00:00:00 à 2025-10-01 00:00:00\n"
     ]
    },
    {
     "name": "stderr",
     "output_type": "stream",
     "text": [
      "[*********************100%***********************]  1 of 1 completed\n"
     ]
    },
    {
     "name": "stdout",
     "output_type": "stream",
     "text": [
      "Téléchargement des données pour EPAM de 2025-09-27 00:00:00 à 2025-10-01 00:00:00\n"
     ]
    },
    {
     "name": "stderr",
     "output_type": "stream",
     "text": [
      "[*********************100%***********************]  1 of 1 completed\n"
     ]
    },
    {
     "name": "stdout",
     "output_type": "stream",
     "text": [
      "Téléchargement des données pour EQIX de 2025-09-27 00:00:00 à 2025-10-01 00:00:00\n"
     ]
    },
    {
     "name": "stderr",
     "output_type": "stream",
     "text": [
      "[*********************100%***********************]  1 of 1 completed\n"
     ]
    },
    {
     "name": "stdout",
     "output_type": "stream",
     "text": [
      "Téléchargement des données pour EQR de 2025-09-27 00:00:00 à 2025-10-01 00:00:00\n"
     ]
    },
    {
     "name": "stderr",
     "output_type": "stream",
     "text": [
      "[*********************100%***********************]  1 of 1 completed\n"
     ]
    },
    {
     "name": "stdout",
     "output_type": "stream",
     "text": [
      "Téléchargement des données pour EQT de 2025-09-27 00:00:00 à 2025-10-01 00:00:00\n"
     ]
    },
    {
     "name": "stderr",
     "output_type": "stream",
     "text": [
      "[*********************100%***********************]  1 of 1 completed\n"
     ]
    },
    {
     "name": "stdout",
     "output_type": "stream",
     "text": [
      "Téléchargement des données pour ERIE de 2025-09-27 00:00:00 à 2025-10-01 00:00:00\n"
     ]
    },
    {
     "name": "stderr",
     "output_type": "stream",
     "text": [
      "[*********************100%***********************]  1 of 1 completed\n"
     ]
    },
    {
     "name": "stdout",
     "output_type": "stream",
     "text": [
      "Téléchargement des données pour ES de 2025-09-27 00:00:00 à 2025-10-01 00:00:00\n"
     ]
    },
    {
     "name": "stderr",
     "output_type": "stream",
     "text": [
      "[*********************100%***********************]  1 of 1 completed\n"
     ]
    },
    {
     "name": "stdout",
     "output_type": "stream",
     "text": [
      "Téléchargement des données pour ESS de 2025-09-27 00:00:00 à 2025-10-01 00:00:00\n"
     ]
    },
    {
     "name": "stderr",
     "output_type": "stream",
     "text": [
      "[*********************100%***********************]  1 of 1 completed\n"
     ]
    },
    {
     "name": "stdout",
     "output_type": "stream",
     "text": [
      "Téléchargement des données pour ETN de 2025-09-27 00:00:00 à 2025-10-01 00:00:00\n"
     ]
    },
    {
     "name": "stderr",
     "output_type": "stream",
     "text": [
      "[*********************100%***********************]  1 of 1 completed\n"
     ]
    },
    {
     "name": "stdout",
     "output_type": "stream",
     "text": [
      "Téléchargement des données pour ETR de 2025-09-27 00:00:00 à 2025-10-01 00:00:00\n"
     ]
    },
    {
     "name": "stderr",
     "output_type": "stream",
     "text": [
      "[*********************100%***********************]  1 of 1 completed\n"
     ]
    },
    {
     "name": "stdout",
     "output_type": "stream",
     "text": [
      "Téléchargement des données pour EVRG de 2025-09-27 00:00:00 à 2025-10-01 00:00:00\n"
     ]
    },
    {
     "name": "stderr",
     "output_type": "stream",
     "text": [
      "[*********************100%***********************]  1 of 1 completed\n"
     ]
    },
    {
     "name": "stdout",
     "output_type": "stream",
     "text": [
      "Téléchargement des données pour EW de 2025-09-27 00:00:00 à 2025-10-01 00:00:00\n"
     ]
    },
    {
     "name": "stderr",
     "output_type": "stream",
     "text": [
      "[*********************100%***********************]  1 of 1 completed\n"
     ]
    },
    {
     "name": "stdout",
     "output_type": "stream",
     "text": [
      "Téléchargement des données pour EXC de 2025-09-27 00:00:00 à 2025-10-01 00:00:00\n"
     ]
    },
    {
     "name": "stderr",
     "output_type": "stream",
     "text": [
      "[*********************100%***********************]  1 of 1 completed\n"
     ]
    },
    {
     "name": "stdout",
     "output_type": "stream",
     "text": [
      "Téléchargement des données pour EXE de 2025-09-27 00:00:00 à 2025-10-01 00:00:00\n"
     ]
    },
    {
     "name": "stderr",
     "output_type": "stream",
     "text": [
      "[*********************100%***********************]  1 of 1 completed\n"
     ]
    },
    {
     "name": "stdout",
     "output_type": "stream",
     "text": [
      "Téléchargement des données pour EXPD de 2025-09-27 00:00:00 à 2025-10-01 00:00:00\n"
     ]
    },
    {
     "name": "stderr",
     "output_type": "stream",
     "text": [
      "[*********************100%***********************]  1 of 1 completed\n"
     ]
    },
    {
     "name": "stdout",
     "output_type": "stream",
     "text": [
      "Téléchargement des données pour EXPE de 2025-09-27 00:00:00 à 2025-10-01 00:00:00\n"
     ]
    },
    {
     "name": "stderr",
     "output_type": "stream",
     "text": [
      "[*********************100%***********************]  1 of 1 completed\n"
     ]
    },
    {
     "name": "stdout",
     "output_type": "stream",
     "text": [
      "Téléchargement des données pour EXR de 2025-09-27 00:00:00 à 2025-10-01 00:00:00\n"
     ]
    },
    {
     "name": "stderr",
     "output_type": "stream",
     "text": [
      "[*********************100%***********************]  1 of 1 completed\n"
     ]
    },
    {
     "name": "stdout",
     "output_type": "stream",
     "text": [
      "Téléchargement des données pour F de 2025-09-27 00:00:00 à 2025-10-01 00:00:00\n"
     ]
    },
    {
     "name": "stderr",
     "output_type": "stream",
     "text": [
      "[*********************100%***********************]  1 of 1 completed\n"
     ]
    },
    {
     "name": "stdout",
     "output_type": "stream",
     "text": [
      "Téléchargement des données pour FANG de 2025-09-27 00:00:00 à 2025-10-01 00:00:00\n"
     ]
    },
    {
     "name": "stderr",
     "output_type": "stream",
     "text": [
      "[*********************100%***********************]  1 of 1 completed\n"
     ]
    },
    {
     "name": "stdout",
     "output_type": "stream",
     "text": [
      "Téléchargement des données pour FAST de 2025-09-27 00:00:00 à 2025-10-01 00:00:00\n"
     ]
    },
    {
     "name": "stderr",
     "output_type": "stream",
     "text": [
      "[*********************100%***********************]  1 of 1 completed\n"
     ]
    },
    {
     "name": "stdout",
     "output_type": "stream",
     "text": [
      "Téléchargement des données pour FCX de 2025-09-27 00:00:00 à 2025-10-01 00:00:00\n"
     ]
    },
    {
     "name": "stderr",
     "output_type": "stream",
     "text": [
      "[*********************100%***********************]  1 of 1 completed\n"
     ]
    },
    {
     "name": "stdout",
     "output_type": "stream",
     "text": [
      "Téléchargement des données pour FDS de 2025-09-27 00:00:00 à 2025-10-01 00:00:00\n"
     ]
    },
    {
     "name": "stderr",
     "output_type": "stream",
     "text": [
      "[*********************100%***********************]  1 of 1 completed\n"
     ]
    },
    {
     "name": "stdout",
     "output_type": "stream",
     "text": [
      "Téléchargement des données pour FDX de 2025-09-27 00:00:00 à 2025-10-01 00:00:00\n"
     ]
    },
    {
     "name": "stderr",
     "output_type": "stream",
     "text": [
      "[*********************100%***********************]  1 of 1 completed\n"
     ]
    },
    {
     "name": "stdout",
     "output_type": "stream",
     "text": [
      "Téléchargement des données pour FE de 2025-09-27 00:00:00 à 2025-10-01 00:00:00\n"
     ]
    },
    {
     "name": "stderr",
     "output_type": "stream",
     "text": [
      "[*********************100%***********************]  1 of 1 completed\n"
     ]
    },
    {
     "name": "stdout",
     "output_type": "stream",
     "text": [
      "Téléchargement des données pour FFIV de 2025-09-27 00:00:00 à 2025-10-01 00:00:00\n"
     ]
    },
    {
     "name": "stderr",
     "output_type": "stream",
     "text": [
      "[*********************100%***********************]  1 of 1 completed\n"
     ]
    },
    {
     "name": "stdout",
     "output_type": "stream",
     "text": [
      "Téléchargement des données pour FI de 2025-09-27 00:00:00 à 2025-10-01 00:00:00\n"
     ]
    },
    {
     "name": "stderr",
     "output_type": "stream",
     "text": [
      "[*********************100%***********************]  1 of 1 completed\n"
     ]
    },
    {
     "name": "stdout",
     "output_type": "stream",
     "text": [
      "Téléchargement des données pour FICO de 2025-09-27 00:00:00 à 2025-10-01 00:00:00\n"
     ]
    },
    {
     "name": "stderr",
     "output_type": "stream",
     "text": [
      "[*********************100%***********************]  1 of 1 completed\n"
     ]
    },
    {
     "name": "stdout",
     "output_type": "stream",
     "text": [
      "Téléchargement des données pour FIS de 2025-09-27 00:00:00 à 2025-10-01 00:00:00\n"
     ]
    },
    {
     "name": "stderr",
     "output_type": "stream",
     "text": [
      "[*********************100%***********************]  1 of 1 completed\n"
     ]
    },
    {
     "name": "stdout",
     "output_type": "stream",
     "text": [
      "Téléchargement des données pour FITB de 2025-09-27 00:00:00 à 2025-10-01 00:00:00\n"
     ]
    },
    {
     "name": "stderr",
     "output_type": "stream",
     "text": [
      "[*********************100%***********************]  1 of 1 completed\n"
     ]
    },
    {
     "name": "stdout",
     "output_type": "stream",
     "text": [
      "Téléchargement des données pour FOX de 2025-09-27 00:00:00 à 2025-10-01 00:00:00\n"
     ]
    },
    {
     "name": "stderr",
     "output_type": "stream",
     "text": [
      "[*********************100%***********************]  1 of 1 completed\n"
     ]
    },
    {
     "name": "stdout",
     "output_type": "stream",
     "text": [
      "Téléchargement des données pour FOXA de 2025-09-27 00:00:00 à 2025-10-01 00:00:00\n"
     ]
    },
    {
     "name": "stderr",
     "output_type": "stream",
     "text": [
      "[*********************100%***********************]  1 of 1 completed\n"
     ]
    },
    {
     "name": "stdout",
     "output_type": "stream",
     "text": [
      "Téléchargement des données pour FRT de 2025-09-27 00:00:00 à 2025-10-01 00:00:00\n"
     ]
    },
    {
     "name": "stderr",
     "output_type": "stream",
     "text": [
      "[*********************100%***********************]  1 of 1 completed\n"
     ]
    },
    {
     "name": "stdout",
     "output_type": "stream",
     "text": [
      "Téléchargement des données pour FSLR de 2025-09-27 00:00:00 à 2025-10-01 00:00:00\n"
     ]
    },
    {
     "name": "stderr",
     "output_type": "stream",
     "text": [
      "[*********************100%***********************]  1 of 1 completed\n"
     ]
    },
    {
     "name": "stdout",
     "output_type": "stream",
     "text": [
      "Téléchargement des données pour FTNT de 2025-09-27 00:00:00 à 2025-10-01 00:00:00\n"
     ]
    },
    {
     "name": "stderr",
     "output_type": "stream",
     "text": [
      "[*********************100%***********************]  1 of 1 completed\n"
     ]
    },
    {
     "name": "stdout",
     "output_type": "stream",
     "text": [
      "Téléchargement des données pour FTV de 2025-09-27 00:00:00 à 2025-10-01 00:00:00\n"
     ]
    },
    {
     "name": "stderr",
     "output_type": "stream",
     "text": [
      "[*********************100%***********************]  1 of 1 completed\n"
     ]
    },
    {
     "name": "stdout",
     "output_type": "stream",
     "text": [
      "Téléchargement des données pour GD de 2025-09-27 00:00:00 à 2025-10-01 00:00:00\n"
     ]
    },
    {
     "name": "stderr",
     "output_type": "stream",
     "text": [
      "[*********************100%***********************]  1 of 1 completed\n"
     ]
    },
    {
     "name": "stdout",
     "output_type": "stream",
     "text": [
      "Téléchargement des données pour GDDY de 2025-09-27 00:00:00 à 2025-10-01 00:00:00\n"
     ]
    },
    {
     "name": "stderr",
     "output_type": "stream",
     "text": [
      "[*********************100%***********************]  1 of 1 completed\n"
     ]
    },
    {
     "name": "stdout",
     "output_type": "stream",
     "text": [
      "Téléchargement des données pour GE de 2025-09-27 00:00:00 à 2025-10-01 00:00:00\n"
     ]
    },
    {
     "name": "stderr",
     "output_type": "stream",
     "text": [
      "[*********************100%***********************]  1 of 1 completed\n"
     ]
    },
    {
     "name": "stdout",
     "output_type": "stream",
     "text": [
      "Téléchargement des données pour GEHC de 2025-09-27 00:00:00 à 2025-10-01 00:00:00\n"
     ]
    },
    {
     "name": "stderr",
     "output_type": "stream",
     "text": [
      "[*********************100%***********************]  1 of 1 completed\n"
     ]
    },
    {
     "name": "stdout",
     "output_type": "stream",
     "text": [
      "Téléchargement des données pour GEN de 2025-09-27 00:00:00 à 2025-10-01 00:00:00\n"
     ]
    },
    {
     "name": "stderr",
     "output_type": "stream",
     "text": [
      "[*********************100%***********************]  1 of 1 completed\n"
     ]
    },
    {
     "name": "stdout",
     "output_type": "stream",
     "text": [
      "Téléchargement des données pour GEV de 2025-09-27 00:00:00 à 2025-10-01 00:00:00\n"
     ]
    },
    {
     "name": "stderr",
     "output_type": "stream",
     "text": [
      "[*********************100%***********************]  1 of 1 completed\n"
     ]
    },
    {
     "name": "stdout",
     "output_type": "stream",
     "text": [
      "Téléchargement des données pour GILD de 2025-09-27 00:00:00 à 2025-10-01 00:00:00\n"
     ]
    },
    {
     "name": "stderr",
     "output_type": "stream",
     "text": [
      "[*********************100%***********************]  1 of 1 completed\n"
     ]
    },
    {
     "name": "stdout",
     "output_type": "stream",
     "text": [
      "Téléchargement des données pour GIS de 2025-09-27 00:00:00 à 2025-10-01 00:00:00\n"
     ]
    },
    {
     "name": "stderr",
     "output_type": "stream",
     "text": [
      "[*********************100%***********************]  1 of 1 completed\n"
     ]
    },
    {
     "name": "stdout",
     "output_type": "stream",
     "text": [
      "Téléchargement des données pour GL de 2025-09-27 00:00:00 à 2025-10-01 00:00:00\n"
     ]
    },
    {
     "name": "stderr",
     "output_type": "stream",
     "text": [
      "[*********************100%***********************]  1 of 1 completed\n"
     ]
    },
    {
     "name": "stdout",
     "output_type": "stream",
     "text": [
      "Téléchargement des données pour GLW de 2025-09-27 00:00:00 à 2025-10-01 00:00:00\n"
     ]
    },
    {
     "name": "stderr",
     "output_type": "stream",
     "text": [
      "[*********************100%***********************]  1 of 1 completed\n"
     ]
    },
    {
     "name": "stdout",
     "output_type": "stream",
     "text": [
      "Téléchargement des données pour GM de 2025-09-27 00:00:00 à 2025-10-01 00:00:00\n"
     ]
    },
    {
     "name": "stderr",
     "output_type": "stream",
     "text": [
      "[*********************100%***********************]  1 of 1 completed\n"
     ]
    },
    {
     "name": "stdout",
     "output_type": "stream",
     "text": [
      "Téléchargement des données pour GNRC de 2025-09-27 00:00:00 à 2025-10-01 00:00:00\n"
     ]
    },
    {
     "name": "stderr",
     "output_type": "stream",
     "text": [
      "[*********************100%***********************]  1 of 1 completed\n"
     ]
    },
    {
     "name": "stdout",
     "output_type": "stream",
     "text": [
      "Téléchargement des données pour GOOG de 2025-09-27 00:00:00 à 2025-10-01 00:00:00\n"
     ]
    },
    {
     "name": "stderr",
     "output_type": "stream",
     "text": [
      "[*********************100%***********************]  1 of 1 completed\n"
     ]
    },
    {
     "name": "stdout",
     "output_type": "stream",
     "text": [
      "Téléchargement des données pour GOOGL de 2025-09-27 00:00:00 à 2025-10-01 00:00:00\n"
     ]
    },
    {
     "name": "stderr",
     "output_type": "stream",
     "text": [
      "[*********************100%***********************]  1 of 1 completed\n"
     ]
    },
    {
     "name": "stdout",
     "output_type": "stream",
     "text": [
      "Téléchargement des données pour GPC de 2025-09-27 00:00:00 à 2025-10-01 00:00:00\n"
     ]
    },
    {
     "name": "stderr",
     "output_type": "stream",
     "text": [
      "[*********************100%***********************]  1 of 1 completed\n"
     ]
    },
    {
     "name": "stdout",
     "output_type": "stream",
     "text": [
      "Téléchargement des données pour GPN de 2025-09-27 00:00:00 à 2025-10-01 00:00:00\n"
     ]
    },
    {
     "name": "stderr",
     "output_type": "stream",
     "text": [
      "[*********************100%***********************]  1 of 1 completed\n"
     ]
    },
    {
     "name": "stdout",
     "output_type": "stream",
     "text": [
      "Téléchargement des données pour GRMN de 2025-09-27 00:00:00 à 2025-10-01 00:00:00\n"
     ]
    },
    {
     "name": "stderr",
     "output_type": "stream",
     "text": [
      "[*********************100%***********************]  1 of 1 completed\n"
     ]
    },
    {
     "name": "stdout",
     "output_type": "stream",
     "text": [
      "Téléchargement des données pour GS de 2025-09-27 00:00:00 à 2025-10-01 00:00:00\n"
     ]
    },
    {
     "name": "stderr",
     "output_type": "stream",
     "text": [
      "[*********************100%***********************]  1 of 1 completed\n"
     ]
    },
    {
     "name": "stdout",
     "output_type": "stream",
     "text": [
      "Téléchargement des données pour GWW de 2025-09-27 00:00:00 à 2025-10-01 00:00:00\n"
     ]
    },
    {
     "name": "stderr",
     "output_type": "stream",
     "text": [
      "[*********************100%***********************]  1 of 1 completed\n"
     ]
    },
    {
     "name": "stdout",
     "output_type": "stream",
     "text": [
      "Téléchargement des données pour H de 2025-09-27 00:00:00 à 2025-10-01 00:00:00\n"
     ]
    },
    {
     "name": "stderr",
     "output_type": "stream",
     "text": [
      "[*********************100%***********************]  1 of 1 completed\n"
     ]
    },
    {
     "name": "stdout",
     "output_type": "stream",
     "text": [
      "Téléchargement des données pour HAL de 2025-09-27 00:00:00 à 2025-10-01 00:00:00\n"
     ]
    },
    {
     "name": "stderr",
     "output_type": "stream",
     "text": [
      "[*********************100%***********************]  1 of 1 completed\n"
     ]
    },
    {
     "name": "stdout",
     "output_type": "stream",
     "text": [
      "Téléchargement des données pour HAS de 2025-09-27 00:00:00 à 2025-10-01 00:00:00\n"
     ]
    },
    {
     "name": "stderr",
     "output_type": "stream",
     "text": [
      "[*********************100%***********************]  1 of 1 completed\n"
     ]
    },
    {
     "name": "stdout",
     "output_type": "stream",
     "text": [
      "Téléchargement des données pour HBAN de 2025-09-27 00:00:00 à 2025-10-01 00:00:00\n"
     ]
    },
    {
     "name": "stderr",
     "output_type": "stream",
     "text": [
      "[*********************100%***********************]  1 of 1 completed\n"
     ]
    },
    {
     "name": "stdout",
     "output_type": "stream",
     "text": [
      "Téléchargement des données pour HCA de 2025-09-27 00:00:00 à 2025-10-01 00:00:00\n"
     ]
    },
    {
     "name": "stderr",
     "output_type": "stream",
     "text": [
      "[*********************100%***********************]  1 of 1 completed\n"
     ]
    },
    {
     "name": "stdout",
     "output_type": "stream",
     "text": [
      "Téléchargement des données pour HD de 2025-09-27 00:00:00 à 2025-10-01 00:00:00\n"
     ]
    },
    {
     "name": "stderr",
     "output_type": "stream",
     "text": [
      "[*********************100%***********************]  1 of 1 completed\n"
     ]
    },
    {
     "name": "stdout",
     "output_type": "stream",
     "text": [
      "Téléchargement des données pour HIG de 2025-09-27 00:00:00 à 2025-10-01 00:00:00\n"
     ]
    },
    {
     "name": "stderr",
     "output_type": "stream",
     "text": [
      "[*********************100%***********************]  1 of 1 completed\n"
     ]
    },
    {
     "name": "stdout",
     "output_type": "stream",
     "text": [
      "Téléchargement des données pour HII de 2025-09-27 00:00:00 à 2025-10-01 00:00:00\n"
     ]
    },
    {
     "name": "stderr",
     "output_type": "stream",
     "text": [
      "[*********************100%***********************]  1 of 1 completed\n"
     ]
    },
    {
     "name": "stdout",
     "output_type": "stream",
     "text": [
      "Téléchargement des données pour HLT de 2025-09-27 00:00:00 à 2025-10-01 00:00:00\n"
     ]
    },
    {
     "name": "stderr",
     "output_type": "stream",
     "text": [
      "[*********************100%***********************]  1 of 1 completed\n"
     ]
    },
    {
     "name": "stdout",
     "output_type": "stream",
     "text": [
      "Téléchargement des données pour HOLX de 2025-09-27 00:00:00 à 2025-10-01 00:00:00\n"
     ]
    },
    {
     "name": "stderr",
     "output_type": "stream",
     "text": [
      "[*********************100%***********************]  1 of 1 completed\n"
     ]
    },
    {
     "name": "stdout",
     "output_type": "stream",
     "text": [
      "Téléchargement des données pour HON de 2025-09-27 00:00:00 à 2025-10-01 00:00:00\n"
     ]
    },
    {
     "name": "stderr",
     "output_type": "stream",
     "text": [
      "[*********************100%***********************]  1 of 1 completed\n"
     ]
    },
    {
     "name": "stdout",
     "output_type": "stream",
     "text": [
      "Téléchargement des données pour HOOD de 2025-09-27 00:00:00 à 2025-10-01 00:00:00\n"
     ]
    },
    {
     "name": "stderr",
     "output_type": "stream",
     "text": [
      "[*********************100%***********************]  1 of 1 completed\n"
     ]
    },
    {
     "name": "stdout",
     "output_type": "stream",
     "text": [
      "Téléchargement des données pour HPE de 2025-09-27 00:00:00 à 2025-10-01 00:00:00\n"
     ]
    },
    {
     "name": "stderr",
     "output_type": "stream",
     "text": [
      "[*********************100%***********************]  1 of 1 completed\n"
     ]
    },
    {
     "name": "stdout",
     "output_type": "stream",
     "text": [
      "Téléchargement des données pour HPQ de 2025-09-27 00:00:00 à 2025-10-01 00:00:00\n"
     ]
    },
    {
     "name": "stderr",
     "output_type": "stream",
     "text": [
      "[*********************100%***********************]  1 of 1 completed\n"
     ]
    },
    {
     "name": "stdout",
     "output_type": "stream",
     "text": [
      "Téléchargement des données pour HRL de 2025-09-27 00:00:00 à 2025-10-01 00:00:00\n"
     ]
    },
    {
     "name": "stderr",
     "output_type": "stream",
     "text": [
      "[*********************100%***********************]  1 of 1 completed\n"
     ]
    },
    {
     "name": "stdout",
     "output_type": "stream",
     "text": [
      "Téléchargement des données pour HSIC de 2025-09-27 00:00:00 à 2025-10-01 00:00:00\n"
     ]
    },
    {
     "name": "stderr",
     "output_type": "stream",
     "text": [
      "[*********************100%***********************]  1 of 1 completed\n"
     ]
    },
    {
     "name": "stdout",
     "output_type": "stream",
     "text": [
      "Téléchargement des données pour HST de 2025-09-27 00:00:00 à 2025-10-01 00:00:00\n"
     ]
    },
    {
     "name": "stderr",
     "output_type": "stream",
     "text": [
      "[*********************100%***********************]  1 of 1 completed\n"
     ]
    },
    {
     "name": "stdout",
     "output_type": "stream",
     "text": [
      "Téléchargement des données pour HSY de 2025-09-27 00:00:00 à 2025-10-01 00:00:00\n"
     ]
    },
    {
     "name": "stderr",
     "output_type": "stream",
     "text": [
      "[*********************100%***********************]  1 of 1 completed\n"
     ]
    },
    {
     "name": "stdout",
     "output_type": "stream",
     "text": [
      "Téléchargement des données pour HUBB de 2025-09-27 00:00:00 à 2025-10-01 00:00:00\n"
     ]
    },
    {
     "name": "stderr",
     "output_type": "stream",
     "text": [
      "[*********************100%***********************]  1 of 1 completed\n"
     ]
    },
    {
     "name": "stdout",
     "output_type": "stream",
     "text": [
      "Téléchargement des données pour HUM de 2025-09-27 00:00:00 à 2025-10-01 00:00:00\n"
     ]
    },
    {
     "name": "stderr",
     "output_type": "stream",
     "text": [
      "[*********************100%***********************]  1 of 1 completed\n"
     ]
    },
    {
     "name": "stdout",
     "output_type": "stream",
     "text": [
      "Téléchargement des données pour HWM de 2025-09-27 00:00:00 à 2025-10-01 00:00:00\n"
     ]
    },
    {
     "name": "stderr",
     "output_type": "stream",
     "text": [
      "[*********************100%***********************]  1 of 1 completed\n"
     ]
    },
    {
     "name": "stdout",
     "output_type": "stream",
     "text": [
      "Téléchargement des données pour IBKR de 2025-09-27 00:00:00 à 2025-10-01 00:00:00\n"
     ]
    },
    {
     "name": "stderr",
     "output_type": "stream",
     "text": [
      "[*********************100%***********************]  1 of 1 completed\n"
     ]
    },
    {
     "name": "stdout",
     "output_type": "stream",
     "text": [
      "Téléchargement des données pour IBM de 2025-09-27 00:00:00 à 2025-10-01 00:00:00\n"
     ]
    },
    {
     "name": "stderr",
     "output_type": "stream",
     "text": [
      "[*********************100%***********************]  1 of 1 completed\n"
     ]
    },
    {
     "name": "stdout",
     "output_type": "stream",
     "text": [
      "Téléchargement des données pour ICE de 2025-09-27 00:00:00 à 2025-10-01 00:00:00\n"
     ]
    },
    {
     "name": "stderr",
     "output_type": "stream",
     "text": [
      "[*********************100%***********************]  1 of 1 completed\n"
     ]
    },
    {
     "name": "stdout",
     "output_type": "stream",
     "text": [
      "Téléchargement des données pour IDXX de 2025-09-27 00:00:00 à 2025-10-01 00:00:00\n"
     ]
    },
    {
     "name": "stderr",
     "output_type": "stream",
     "text": [
      "[*********************100%***********************]  1 of 1 completed\n"
     ]
    },
    {
     "name": "stdout",
     "output_type": "stream",
     "text": [
      "Téléchargement des données pour IEX de 2025-09-27 00:00:00 à 2025-10-01 00:00:00\n"
     ]
    },
    {
     "name": "stderr",
     "output_type": "stream",
     "text": [
      "[*********************100%***********************]  1 of 1 completed\n"
     ]
    },
    {
     "name": "stdout",
     "output_type": "stream",
     "text": [
      "Téléchargement des données pour IFF de 2025-09-27 00:00:00 à 2025-10-01 00:00:00\n"
     ]
    },
    {
     "name": "stderr",
     "output_type": "stream",
     "text": [
      "[*********************100%***********************]  1 of 1 completed\n"
     ]
    },
    {
     "name": "stdout",
     "output_type": "stream",
     "text": [
      "Téléchargement des données pour INCY de 2025-09-27 00:00:00 à 2025-10-01 00:00:00\n"
     ]
    },
    {
     "name": "stderr",
     "output_type": "stream",
     "text": [
      "[*********************100%***********************]  1 of 1 completed\n"
     ]
    },
    {
     "name": "stdout",
     "output_type": "stream",
     "text": [
      "Téléchargement des données pour INTC de 2025-09-27 00:00:00 à 2025-10-01 00:00:00\n"
     ]
    },
    {
     "name": "stderr",
     "output_type": "stream",
     "text": [
      "[*********************100%***********************]  1 of 1 completed\n"
     ]
    },
    {
     "name": "stdout",
     "output_type": "stream",
     "text": [
      "Téléchargement des données pour INTU de 2025-09-27 00:00:00 à 2025-10-01 00:00:00\n"
     ]
    },
    {
     "name": "stderr",
     "output_type": "stream",
     "text": [
      "[*********************100%***********************]  1 of 1 completed\n"
     ]
    },
    {
     "name": "stdout",
     "output_type": "stream",
     "text": [
      "Téléchargement des données pour INVH de 2025-09-27 00:00:00 à 2025-10-01 00:00:00\n"
     ]
    },
    {
     "name": "stderr",
     "output_type": "stream",
     "text": [
      "[*********************100%***********************]  1 of 1 completed\n"
     ]
    },
    {
     "name": "stdout",
     "output_type": "stream",
     "text": [
      "Téléchargement des données pour IP de 2025-09-27 00:00:00 à 2025-10-01 00:00:00\n"
     ]
    },
    {
     "name": "stderr",
     "output_type": "stream",
     "text": [
      "[*********************100%***********************]  1 of 1 completed\n"
     ]
    },
    {
     "name": "stdout",
     "output_type": "stream",
     "text": [
      "Téléchargement des données pour IPG de 2025-09-27 00:00:00 à 2025-10-01 00:00:00\n"
     ]
    },
    {
     "name": "stderr",
     "output_type": "stream",
     "text": [
      "[*********************100%***********************]  1 of 1 completed\n"
     ]
    },
    {
     "name": "stdout",
     "output_type": "stream",
     "text": [
      "Téléchargement des données pour IQV de 2025-09-27 00:00:00 à 2025-10-01 00:00:00\n"
     ]
    },
    {
     "name": "stderr",
     "output_type": "stream",
     "text": [
      "[*********************100%***********************]  1 of 1 completed\n"
     ]
    },
    {
     "name": "stdout",
     "output_type": "stream",
     "text": [
      "Téléchargement des données pour IR de 2025-09-27 00:00:00 à 2025-10-01 00:00:00\n"
     ]
    },
    {
     "name": "stderr",
     "output_type": "stream",
     "text": [
      "[*********************100%***********************]  1 of 1 completed\n"
     ]
    },
    {
     "name": "stdout",
     "output_type": "stream",
     "text": [
      "Téléchargement des données pour IRM de 2025-09-27 00:00:00 à 2025-10-01 00:00:00\n"
     ]
    },
    {
     "name": "stderr",
     "output_type": "stream",
     "text": [
      "[*********************100%***********************]  1 of 1 completed\n"
     ]
    },
    {
     "name": "stdout",
     "output_type": "stream",
     "text": [
      "Téléchargement des données pour ISRG de 2025-09-27 00:00:00 à 2025-10-01 00:00:00\n"
     ]
    },
    {
     "name": "stderr",
     "output_type": "stream",
     "text": [
      "[*********************100%***********************]  1 of 1 completed\n"
     ]
    },
    {
     "name": "stdout",
     "output_type": "stream",
     "text": [
      "Téléchargement des données pour IT de 2025-09-27 00:00:00 à 2025-10-01 00:00:00\n"
     ]
    },
    {
     "name": "stderr",
     "output_type": "stream",
     "text": [
      "[*********************100%***********************]  1 of 1 completed\n"
     ]
    },
    {
     "name": "stdout",
     "output_type": "stream",
     "text": [
      "Téléchargement des données pour ITW de 2025-09-27 00:00:00 à 2025-10-01 00:00:00\n"
     ]
    },
    {
     "name": "stderr",
     "output_type": "stream",
     "text": [
      "[*********************100%***********************]  1 of 1 completed\n"
     ]
    },
    {
     "name": "stdout",
     "output_type": "stream",
     "text": [
      "Téléchargement des données pour IVZ de 2025-09-27 00:00:00 à 2025-10-01 00:00:00\n"
     ]
    },
    {
     "name": "stderr",
     "output_type": "stream",
     "text": [
      "[*********************100%***********************]  1 of 1 completed\n"
     ]
    },
    {
     "name": "stdout",
     "output_type": "stream",
     "text": [
      "Téléchargement des données pour J de 2025-09-27 00:00:00 à 2025-10-01 00:00:00\n"
     ]
    },
    {
     "name": "stderr",
     "output_type": "stream",
     "text": [
      "[*********************100%***********************]  1 of 1 completed\n"
     ]
    },
    {
     "name": "stdout",
     "output_type": "stream",
     "text": [
      "Téléchargement des données pour JBHT de 2025-09-27 00:00:00 à 2025-10-01 00:00:00\n"
     ]
    },
    {
     "name": "stderr",
     "output_type": "stream",
     "text": [
      "[*********************100%***********************]  1 of 1 completed\n"
     ]
    },
    {
     "name": "stdout",
     "output_type": "stream",
     "text": [
      "Téléchargement des données pour JBL de 2025-09-27 00:00:00 à 2025-10-01 00:00:00\n"
     ]
    },
    {
     "name": "stderr",
     "output_type": "stream",
     "text": [
      "[*********************100%***********************]  1 of 1 completed\n"
     ]
    },
    {
     "name": "stdout",
     "output_type": "stream",
     "text": [
      "Téléchargement des données pour JCI de 2025-09-27 00:00:00 à 2025-10-01 00:00:00\n"
     ]
    },
    {
     "name": "stderr",
     "output_type": "stream",
     "text": [
      "[*********************100%***********************]  1 of 1 completed\n"
     ]
    },
    {
     "name": "stdout",
     "output_type": "stream",
     "text": [
      "Téléchargement des données pour JKHY de 2025-09-27 00:00:00 à 2025-10-01 00:00:00\n"
     ]
    },
    {
     "name": "stderr",
     "output_type": "stream",
     "text": [
      "[*********************100%***********************]  1 of 1 completed\n"
     ]
    },
    {
     "name": "stdout",
     "output_type": "stream",
     "text": [
      "Téléchargement des données pour JNJ de 2025-09-27 00:00:00 à 2025-10-01 00:00:00\n"
     ]
    },
    {
     "name": "stderr",
     "output_type": "stream",
     "text": [
      "[*********************100%***********************]  1 of 1 completed\n"
     ]
    },
    {
     "name": "stdout",
     "output_type": "stream",
     "text": [
      "Téléchargement des données pour JPM de 2025-09-27 00:00:00 à 2025-10-01 00:00:00\n"
     ]
    },
    {
     "name": "stderr",
     "output_type": "stream",
     "text": [
      "[*********************100%***********************]  1 of 1 completed\n"
     ]
    },
    {
     "name": "stdout",
     "output_type": "stream",
     "text": [
      "Téléchargement des données pour KDP de 2025-09-27 00:00:00 à 2025-10-01 00:00:00\n"
     ]
    },
    {
     "name": "stderr",
     "output_type": "stream",
     "text": [
      "[*********************100%***********************]  1 of 1 completed\n"
     ]
    },
    {
     "name": "stdout",
     "output_type": "stream",
     "text": [
      "Téléchargement des données pour KEY de 2025-09-27 00:00:00 à 2025-10-01 00:00:00\n"
     ]
    },
    {
     "name": "stderr",
     "output_type": "stream",
     "text": [
      "[*********************100%***********************]  1 of 1 completed\n"
     ]
    },
    {
     "name": "stdout",
     "output_type": "stream",
     "text": [
      "Téléchargement des données pour KEYS de 2025-09-27 00:00:00 à 2025-10-01 00:00:00\n"
     ]
    },
    {
     "name": "stderr",
     "output_type": "stream",
     "text": [
      "[*********************100%***********************]  1 of 1 completed\n"
     ]
    },
    {
     "name": "stdout",
     "output_type": "stream",
     "text": [
      "Téléchargement des données pour KHC de 2025-09-27 00:00:00 à 2025-10-01 00:00:00\n"
     ]
    },
    {
     "name": "stderr",
     "output_type": "stream",
     "text": [
      "[*********************100%***********************]  1 of 1 completed\n"
     ]
    },
    {
     "name": "stdout",
     "output_type": "stream",
     "text": [
      "Téléchargement des données pour KIM de 2025-09-27 00:00:00 à 2025-10-01 00:00:00\n"
     ]
    },
    {
     "name": "stderr",
     "output_type": "stream",
     "text": [
      "[*********************100%***********************]  1 of 1 completed\n"
     ]
    },
    {
     "name": "stdout",
     "output_type": "stream",
     "text": [
      "Téléchargement des données pour KKR de 2025-09-27 00:00:00 à 2025-10-01 00:00:00\n"
     ]
    },
    {
     "name": "stderr",
     "output_type": "stream",
     "text": [
      "[*********************100%***********************]  1 of 1 completed\n"
     ]
    },
    {
     "name": "stdout",
     "output_type": "stream",
     "text": [
      "Téléchargement des données pour KLAC de 2025-09-27 00:00:00 à 2025-10-01 00:00:00\n"
     ]
    },
    {
     "name": "stderr",
     "output_type": "stream",
     "text": [
      "[*********************100%***********************]  1 of 1 completed\n"
     ]
    },
    {
     "name": "stdout",
     "output_type": "stream",
     "text": [
      "Téléchargement des données pour KMB de 2025-09-27 00:00:00 à 2025-10-01 00:00:00\n"
     ]
    },
    {
     "name": "stderr",
     "output_type": "stream",
     "text": [
      "[*********************100%***********************]  1 of 1 completed\n"
     ]
    },
    {
     "name": "stdout",
     "output_type": "stream",
     "text": [
      "Téléchargement des données pour KMI de 2025-09-27 00:00:00 à 2025-10-01 00:00:00\n"
     ]
    },
    {
     "name": "stderr",
     "output_type": "stream",
     "text": [
      "[*********************100%***********************]  1 of 1 completed\n"
     ]
    },
    {
     "name": "stdout",
     "output_type": "stream",
     "text": [
      "Téléchargement des données pour KMX de 2025-09-27 00:00:00 à 2025-10-01 00:00:00\n"
     ]
    },
    {
     "name": "stderr",
     "output_type": "stream",
     "text": [
      "[*********************100%***********************]  1 of 1 completed\n"
     ]
    },
    {
     "name": "stdout",
     "output_type": "stream",
     "text": [
      "Téléchargement des données pour KO de 2025-09-27 00:00:00 à 2025-10-01 00:00:00\n"
     ]
    },
    {
     "name": "stderr",
     "output_type": "stream",
     "text": [
      "[*********************100%***********************]  1 of 1 completed\n"
     ]
    },
    {
     "name": "stdout",
     "output_type": "stream",
     "text": [
      "Téléchargement des données pour KR de 2025-09-27 00:00:00 à 2025-10-01 00:00:00\n"
     ]
    },
    {
     "name": "stderr",
     "output_type": "stream",
     "text": [
      "[*********************100%***********************]  1 of 1 completed\n"
     ]
    },
    {
     "name": "stdout",
     "output_type": "stream",
     "text": [
      "Téléchargement des données pour KVUE de 2025-09-27 00:00:00 à 2025-10-01 00:00:00\n"
     ]
    },
    {
     "name": "stderr",
     "output_type": "stream",
     "text": [
      "[*********************100%***********************]  1 of 1 completed\n"
     ]
    },
    {
     "name": "stdout",
     "output_type": "stream",
     "text": [
      "Téléchargement des données pour L de 2025-09-27 00:00:00 à 2025-10-01 00:00:00\n"
     ]
    },
    {
     "name": "stderr",
     "output_type": "stream",
     "text": [
      "[*********************100%***********************]  1 of 1 completed\n"
     ]
    },
    {
     "name": "stdout",
     "output_type": "stream",
     "text": [
      "Téléchargement des données pour LDOS de 2025-09-27 00:00:00 à 2025-10-01 00:00:00\n"
     ]
    },
    {
     "name": "stderr",
     "output_type": "stream",
     "text": [
      "[*********************100%***********************]  1 of 1 completed\n"
     ]
    },
    {
     "name": "stdout",
     "output_type": "stream",
     "text": [
      "Téléchargement des données pour LEN de 2025-09-27 00:00:00 à 2025-10-01 00:00:00\n"
     ]
    },
    {
     "name": "stderr",
     "output_type": "stream",
     "text": [
      "[*********************100%***********************]  1 of 1 completed\n"
     ]
    },
    {
     "name": "stdout",
     "output_type": "stream",
     "text": [
      "Téléchargement des données pour LH de 2025-09-27 00:00:00 à 2025-10-01 00:00:00\n"
     ]
    },
    {
     "name": "stderr",
     "output_type": "stream",
     "text": [
      "[*********************100%***********************]  1 of 1 completed\n"
     ]
    },
    {
     "name": "stdout",
     "output_type": "stream",
     "text": [
      "Téléchargement des données pour LHX de 2025-09-27 00:00:00 à 2025-10-01 00:00:00\n"
     ]
    },
    {
     "name": "stderr",
     "output_type": "stream",
     "text": [
      "[*********************100%***********************]  1 of 1 completed\n"
     ]
    },
    {
     "name": "stdout",
     "output_type": "stream",
     "text": [
      "Téléchargement des données pour LII de 2025-09-27 00:00:00 à 2025-10-01 00:00:00\n"
     ]
    },
    {
     "name": "stderr",
     "output_type": "stream",
     "text": [
      "[*********************100%***********************]  1 of 1 completed\n"
     ]
    },
    {
     "name": "stdout",
     "output_type": "stream",
     "text": [
      "Téléchargement des données pour LIN de 2025-09-27 00:00:00 à 2025-10-01 00:00:00\n"
     ]
    },
    {
     "name": "stderr",
     "output_type": "stream",
     "text": [
      "[*********************100%***********************]  1 of 1 completed\n"
     ]
    },
    {
     "name": "stdout",
     "output_type": "stream",
     "text": [
      "Téléchargement des données pour LKQ de 2025-09-27 00:00:00 à 2025-10-01 00:00:00\n"
     ]
    },
    {
     "name": "stderr",
     "output_type": "stream",
     "text": [
      "[*********************100%***********************]  1 of 1 completed\n"
     ]
    },
    {
     "name": "stdout",
     "output_type": "stream",
     "text": [
      "Téléchargement des données pour LLY de 2025-09-27 00:00:00 à 2025-10-01 00:00:00\n"
     ]
    },
    {
     "name": "stderr",
     "output_type": "stream",
     "text": [
      "[*********************100%***********************]  1 of 1 completed\n"
     ]
    },
    {
     "name": "stdout",
     "output_type": "stream",
     "text": [
      "Téléchargement des données pour LMT de 2025-09-27 00:00:00 à 2025-10-01 00:00:00\n"
     ]
    },
    {
     "name": "stderr",
     "output_type": "stream",
     "text": [
      "[*********************100%***********************]  1 of 1 completed\n"
     ]
    },
    {
     "name": "stdout",
     "output_type": "stream",
     "text": [
      "Téléchargement des données pour LNT de 2025-09-27 00:00:00 à 2025-10-01 00:00:00\n"
     ]
    },
    {
     "name": "stderr",
     "output_type": "stream",
     "text": [
      "[*********************100%***********************]  1 of 1 completed\n"
     ]
    },
    {
     "name": "stdout",
     "output_type": "stream",
     "text": [
      "Téléchargement des données pour LOW de 2025-09-27 00:00:00 à 2025-10-01 00:00:00\n"
     ]
    },
    {
     "name": "stderr",
     "output_type": "stream",
     "text": [
      "[*********************100%***********************]  1 of 1 completed\n"
     ]
    },
    {
     "name": "stdout",
     "output_type": "stream",
     "text": [
      "Téléchargement des données pour LRCX de 2025-09-27 00:00:00 à 2025-10-01 00:00:00\n"
     ]
    },
    {
     "name": "stderr",
     "output_type": "stream",
     "text": [
      "[*********************100%***********************]  1 of 1 completed\n"
     ]
    },
    {
     "name": "stdout",
     "output_type": "stream",
     "text": [
      "Téléchargement des données pour LULU de 2025-09-27 00:00:00 à 2025-10-01 00:00:00\n"
     ]
    },
    {
     "name": "stderr",
     "output_type": "stream",
     "text": [
      "[*********************100%***********************]  1 of 1 completed\n"
     ]
    },
    {
     "name": "stdout",
     "output_type": "stream",
     "text": [
      "Téléchargement des données pour LUV de 2025-09-27 00:00:00 à 2025-10-01 00:00:00\n"
     ]
    },
    {
     "name": "stderr",
     "output_type": "stream",
     "text": [
      "[*********************100%***********************]  1 of 1 completed\n"
     ]
    },
    {
     "name": "stdout",
     "output_type": "stream",
     "text": [
      "Téléchargement des données pour LVS de 2025-09-27 00:00:00 à 2025-10-01 00:00:00\n"
     ]
    },
    {
     "name": "stderr",
     "output_type": "stream",
     "text": [
      "[*********************100%***********************]  1 of 1 completed\n"
     ]
    },
    {
     "name": "stdout",
     "output_type": "stream",
     "text": [
      "Téléchargement des données pour LW de 2025-09-27 00:00:00 à 2025-10-01 00:00:00\n"
     ]
    },
    {
     "name": "stderr",
     "output_type": "stream",
     "text": [
      "[*********************100%***********************]  1 of 1 completed\n"
     ]
    },
    {
     "name": "stdout",
     "output_type": "stream",
     "text": [
      "Téléchargement des données pour LYB de 2025-09-27 00:00:00 à 2025-10-01 00:00:00\n"
     ]
    },
    {
     "name": "stderr",
     "output_type": "stream",
     "text": [
      "[*********************100%***********************]  1 of 1 completed\n"
     ]
    },
    {
     "name": "stdout",
     "output_type": "stream",
     "text": [
      "Téléchargement des données pour LYV de 2025-09-27 00:00:00 à 2025-10-01 00:00:00\n"
     ]
    },
    {
     "name": "stderr",
     "output_type": "stream",
     "text": [
      "[*********************100%***********************]  1 of 1 completed\n"
     ]
    },
    {
     "name": "stdout",
     "output_type": "stream",
     "text": [
      "Téléchargement des données pour MA de 2025-09-27 00:00:00 à 2025-10-01 00:00:00\n"
     ]
    },
    {
     "name": "stderr",
     "output_type": "stream",
     "text": [
      "[*********************100%***********************]  1 of 1 completed\n"
     ]
    },
    {
     "name": "stdout",
     "output_type": "stream",
     "text": [
      "Téléchargement des données pour MAA de 2025-09-27 00:00:00 à 2025-10-01 00:00:00\n"
     ]
    },
    {
     "name": "stderr",
     "output_type": "stream",
     "text": [
      "[*********************100%***********************]  1 of 1 completed\n"
     ]
    },
    {
     "name": "stdout",
     "output_type": "stream",
     "text": [
      "Téléchargement des données pour MAR de 2025-09-27 00:00:00 à 2025-10-01 00:00:00\n"
     ]
    },
    {
     "name": "stderr",
     "output_type": "stream",
     "text": [
      "[*********************100%***********************]  1 of 1 completed\n"
     ]
    },
    {
     "name": "stdout",
     "output_type": "stream",
     "text": [
      "Téléchargement des données pour MAS de 2025-09-27 00:00:00 à 2025-10-01 00:00:00\n"
     ]
    },
    {
     "name": "stderr",
     "output_type": "stream",
     "text": [
      "[*********************100%***********************]  1 of 1 completed\n"
     ]
    },
    {
     "name": "stdout",
     "output_type": "stream",
     "text": [
      "Téléchargement des données pour MCD de 2025-09-27 00:00:00 à 2025-10-01 00:00:00\n"
     ]
    },
    {
     "name": "stderr",
     "output_type": "stream",
     "text": [
      "[*********************100%***********************]  1 of 1 completed\n"
     ]
    },
    {
     "name": "stdout",
     "output_type": "stream",
     "text": [
      "Téléchargement des données pour MCHP de 2025-09-27 00:00:00 à 2025-10-01 00:00:00\n"
     ]
    },
    {
     "name": "stderr",
     "output_type": "stream",
     "text": [
      "[*********************100%***********************]  1 of 1 completed\n"
     ]
    },
    {
     "name": "stdout",
     "output_type": "stream",
     "text": [
      "Téléchargement des données pour MCK de 2025-09-27 00:00:00 à 2025-10-01 00:00:00\n"
     ]
    },
    {
     "name": "stderr",
     "output_type": "stream",
     "text": [
      "[*********************100%***********************]  1 of 1 completed\n"
     ]
    },
    {
     "name": "stdout",
     "output_type": "stream",
     "text": [
      "Téléchargement des données pour MCO de 2025-09-27 00:00:00 à 2025-10-01 00:00:00\n"
     ]
    },
    {
     "name": "stderr",
     "output_type": "stream",
     "text": [
      "[*********************100%***********************]  1 of 1 completed\n"
     ]
    },
    {
     "name": "stdout",
     "output_type": "stream",
     "text": [
      "Téléchargement des données pour MDLZ de 2025-09-27 00:00:00 à 2025-10-01 00:00:00\n"
     ]
    },
    {
     "name": "stderr",
     "output_type": "stream",
     "text": [
      "[*********************100%***********************]  1 of 1 completed\n"
     ]
    },
    {
     "name": "stdout",
     "output_type": "stream",
     "text": [
      "Téléchargement des données pour MDT de 2025-09-27 00:00:00 à 2025-10-01 00:00:00\n"
     ]
    },
    {
     "name": "stderr",
     "output_type": "stream",
     "text": [
      "[*********************100%***********************]  1 of 1 completed\n"
     ]
    },
    {
     "name": "stdout",
     "output_type": "stream",
     "text": [
      "Téléchargement des données pour MET de 2025-09-27 00:00:00 à 2025-10-01 00:00:00\n"
     ]
    },
    {
     "name": "stderr",
     "output_type": "stream",
     "text": [
      "[*********************100%***********************]  1 of 1 completed\n"
     ]
    },
    {
     "name": "stdout",
     "output_type": "stream",
     "text": [
      "Téléchargement des données pour META de 2025-09-27 00:00:00 à 2025-10-01 00:00:00\n"
     ]
    },
    {
     "name": "stderr",
     "output_type": "stream",
     "text": [
      "[*********************100%***********************]  1 of 1 completed\n"
     ]
    },
    {
     "name": "stdout",
     "output_type": "stream",
     "text": [
      "Téléchargement des données pour MGM de 2025-09-27 00:00:00 à 2025-10-01 00:00:00\n"
     ]
    },
    {
     "name": "stderr",
     "output_type": "stream",
     "text": [
      "[*********************100%***********************]  1 of 1 completed\n"
     ]
    },
    {
     "name": "stdout",
     "output_type": "stream",
     "text": [
      "Téléchargement des données pour MHK de 2025-09-27 00:00:00 à 2025-10-01 00:00:00\n"
     ]
    },
    {
     "name": "stderr",
     "output_type": "stream",
     "text": [
      "[*********************100%***********************]  1 of 1 completed\n"
     ]
    },
    {
     "name": "stdout",
     "output_type": "stream",
     "text": [
      "Téléchargement des données pour MKC de 2025-09-27 00:00:00 à 2025-10-01 00:00:00\n"
     ]
    },
    {
     "name": "stderr",
     "output_type": "stream",
     "text": [
      "[*********************100%***********************]  1 of 1 completed\n"
     ]
    },
    {
     "name": "stdout",
     "output_type": "stream",
     "text": [
      "Téléchargement des données pour MLM de 2025-09-27 00:00:00 à 2025-10-01 00:00:00\n"
     ]
    },
    {
     "name": "stderr",
     "output_type": "stream",
     "text": [
      "[*********************100%***********************]  1 of 1 completed\n"
     ]
    },
    {
     "name": "stdout",
     "output_type": "stream",
     "text": [
      "Téléchargement des données pour MMC de 2025-09-27 00:00:00 à 2025-10-01 00:00:00\n"
     ]
    },
    {
     "name": "stderr",
     "output_type": "stream",
     "text": [
      "[*********************100%***********************]  1 of 1 completed\n"
     ]
    },
    {
     "name": "stdout",
     "output_type": "stream",
     "text": [
      "Téléchargement des données pour MMM de 2025-09-27 00:00:00 à 2025-10-01 00:00:00\n"
     ]
    },
    {
     "name": "stderr",
     "output_type": "stream",
     "text": [
      "[*********************100%***********************]  1 of 1 completed\n"
     ]
    },
    {
     "name": "stdout",
     "output_type": "stream",
     "text": [
      "Téléchargement des données pour MNST de 2025-09-27 00:00:00 à 2025-10-01 00:00:00\n"
     ]
    },
    {
     "name": "stderr",
     "output_type": "stream",
     "text": [
      "[*********************100%***********************]  1 of 1 completed\n"
     ]
    },
    {
     "name": "stdout",
     "output_type": "stream",
     "text": [
      "Téléchargement des données pour MO de 2025-09-27 00:00:00 à 2025-10-01 00:00:00\n"
     ]
    },
    {
     "name": "stderr",
     "output_type": "stream",
     "text": [
      "[*********************100%***********************]  1 of 1 completed\n"
     ]
    },
    {
     "name": "stdout",
     "output_type": "stream",
     "text": [
      "Téléchargement des données pour MOH de 2025-09-27 00:00:00 à 2025-10-01 00:00:00\n"
     ]
    },
    {
     "name": "stderr",
     "output_type": "stream",
     "text": [
      "[*********************100%***********************]  1 of 1 completed\n"
     ]
    },
    {
     "name": "stdout",
     "output_type": "stream",
     "text": [
      "Téléchargement des données pour MOS de 2025-09-27 00:00:00 à 2025-10-01 00:00:00\n"
     ]
    },
    {
     "name": "stderr",
     "output_type": "stream",
     "text": [
      "[*********************100%***********************]  1 of 1 completed\n"
     ]
    },
    {
     "name": "stdout",
     "output_type": "stream",
     "text": [
      "Téléchargement des données pour MPC de 2025-09-27 00:00:00 à 2025-10-01 00:00:00\n"
     ]
    },
    {
     "name": "stderr",
     "output_type": "stream",
     "text": [
      "[*********************100%***********************]  1 of 1 completed\n"
     ]
    },
    {
     "name": "stdout",
     "output_type": "stream",
     "text": [
      "Téléchargement des données pour MPWR de 2025-09-27 00:00:00 à 2025-10-01 00:00:00\n"
     ]
    },
    {
     "name": "stderr",
     "output_type": "stream",
     "text": [
      "[*********************100%***********************]  1 of 1 completed\n"
     ]
    },
    {
     "name": "stdout",
     "output_type": "stream",
     "text": [
      "Téléchargement des données pour MRK de 2025-09-27 00:00:00 à 2025-10-01 00:00:00\n"
     ]
    },
    {
     "name": "stderr",
     "output_type": "stream",
     "text": [
      "[*********************100%***********************]  1 of 1 completed\n"
     ]
    },
    {
     "name": "stdout",
     "output_type": "stream",
     "text": [
      "Téléchargement des données pour MRNA de 2025-09-27 00:00:00 à 2025-10-01 00:00:00\n"
     ]
    },
    {
     "name": "stderr",
     "output_type": "stream",
     "text": [
      "[*********************100%***********************]  1 of 1 completed\n"
     ]
    },
    {
     "name": "stdout",
     "output_type": "stream",
     "text": [
      "Téléchargement des données pour MS de 2025-09-27 00:00:00 à 2025-10-01 00:00:00\n"
     ]
    },
    {
     "name": "stderr",
     "output_type": "stream",
     "text": [
      "[*********************100%***********************]  1 of 1 completed\n"
     ]
    },
    {
     "name": "stdout",
     "output_type": "stream",
     "text": [
      "Téléchargement des données pour MSCI de 2025-09-27 00:00:00 à 2025-10-01 00:00:00\n"
     ]
    },
    {
     "name": "stderr",
     "output_type": "stream",
     "text": [
      "[*********************100%***********************]  1 of 1 completed\n"
     ]
    },
    {
     "name": "stdout",
     "output_type": "stream",
     "text": [
      "Téléchargement des données pour MSFT de 2025-09-27 00:00:00 à 2025-10-01 00:00:00\n"
     ]
    },
    {
     "name": "stderr",
     "output_type": "stream",
     "text": [
      "[*********************100%***********************]  1 of 1 completed\n"
     ]
    },
    {
     "name": "stdout",
     "output_type": "stream",
     "text": [
      "Téléchargement des données pour MSI de 2025-09-27 00:00:00 à 2025-10-01 00:00:00\n"
     ]
    },
    {
     "name": "stderr",
     "output_type": "stream",
     "text": [
      "[*********************100%***********************]  1 of 1 completed\n"
     ]
    },
    {
     "name": "stdout",
     "output_type": "stream",
     "text": [
      "Téléchargement des données pour MTB de 2025-09-27 00:00:00 à 2025-10-01 00:00:00\n"
     ]
    },
    {
     "name": "stderr",
     "output_type": "stream",
     "text": [
      "[*********************100%***********************]  1 of 1 completed\n"
     ]
    },
    {
     "name": "stdout",
     "output_type": "stream",
     "text": [
      "Téléchargement des données pour MTCH de 2025-09-27 00:00:00 à 2025-10-01 00:00:00\n"
     ]
    },
    {
     "name": "stderr",
     "output_type": "stream",
     "text": [
      "[*********************100%***********************]  1 of 1 completed\n"
     ]
    },
    {
     "name": "stdout",
     "output_type": "stream",
     "text": [
      "Téléchargement des données pour MTD de 2025-09-27 00:00:00 à 2025-10-01 00:00:00\n"
     ]
    },
    {
     "name": "stderr",
     "output_type": "stream",
     "text": [
      "[*********************100%***********************]  1 of 1 completed\n"
     ]
    },
    {
     "name": "stdout",
     "output_type": "stream",
     "text": [
      "Téléchargement des données pour MU de 2025-09-27 00:00:00 à 2025-10-01 00:00:00\n"
     ]
    },
    {
     "name": "stderr",
     "output_type": "stream",
     "text": [
      "[*********************100%***********************]  1 of 1 completed\n"
     ]
    },
    {
     "name": "stdout",
     "output_type": "stream",
     "text": [
      "Téléchargement des données pour NCLH de 2025-09-27 00:00:00 à 2025-10-01 00:00:00\n"
     ]
    },
    {
     "name": "stderr",
     "output_type": "stream",
     "text": [
      "[*********************100%***********************]  1 of 1 completed\n"
     ]
    },
    {
     "name": "stdout",
     "output_type": "stream",
     "text": [
      "Téléchargement des données pour NDAQ de 2025-09-27 00:00:00 à 2025-10-01 00:00:00\n"
     ]
    },
    {
     "name": "stderr",
     "output_type": "stream",
     "text": [
      "[*********************100%***********************]  1 of 1 completed\n"
     ]
    },
    {
     "name": "stdout",
     "output_type": "stream",
     "text": [
      "Téléchargement des données pour NDSN de 2025-09-27 00:00:00 à 2025-10-01 00:00:00\n"
     ]
    },
    {
     "name": "stderr",
     "output_type": "stream",
     "text": [
      "[*********************100%***********************]  1 of 1 completed\n"
     ]
    },
    {
     "name": "stdout",
     "output_type": "stream",
     "text": [
      "Téléchargement des données pour NEE de 2025-09-27 00:00:00 à 2025-10-01 00:00:00\n"
     ]
    },
    {
     "name": "stderr",
     "output_type": "stream",
     "text": [
      "[*********************100%***********************]  1 of 1 completed\n"
     ]
    },
    {
     "name": "stdout",
     "output_type": "stream",
     "text": [
      "Téléchargement des données pour NEM de 2025-09-27 00:00:00 à 2025-10-01 00:00:00\n"
     ]
    },
    {
     "name": "stderr",
     "output_type": "stream",
     "text": [
      "[*********************100%***********************]  1 of 1 completed\n"
     ]
    },
    {
     "name": "stdout",
     "output_type": "stream",
     "text": [
      "Téléchargement des données pour NFLX de 2025-09-27 00:00:00 à 2025-10-01 00:00:00\n"
     ]
    },
    {
     "name": "stderr",
     "output_type": "stream",
     "text": [
      "[*********************100%***********************]  1 of 1 completed\n"
     ]
    },
    {
     "name": "stdout",
     "output_type": "stream",
     "text": [
      "Téléchargement des données pour NI de 2025-09-27 00:00:00 à 2025-10-01 00:00:00\n"
     ]
    },
    {
     "name": "stderr",
     "output_type": "stream",
     "text": [
      "[*********************100%***********************]  1 of 1 completed\n"
     ]
    },
    {
     "name": "stdout",
     "output_type": "stream",
     "text": [
      "Téléchargement des données pour NKE de 2025-09-27 00:00:00 à 2025-10-01 00:00:00\n"
     ]
    },
    {
     "name": "stderr",
     "output_type": "stream",
     "text": [
      "[*********************100%***********************]  1 of 1 completed\n"
     ]
    },
    {
     "name": "stdout",
     "output_type": "stream",
     "text": [
      "Téléchargement des données pour NOC de 2025-09-27 00:00:00 à 2025-10-01 00:00:00\n"
     ]
    },
    {
     "name": "stderr",
     "output_type": "stream",
     "text": [
      "[*********************100%***********************]  1 of 1 completed\n"
     ]
    },
    {
     "name": "stdout",
     "output_type": "stream",
     "text": [
      "Téléchargement des données pour NOW de 2025-09-27 00:00:00 à 2025-10-01 00:00:00\n"
     ]
    },
    {
     "name": "stderr",
     "output_type": "stream",
     "text": [
      "[*********************100%***********************]  1 of 1 completed\n"
     ]
    },
    {
     "name": "stdout",
     "output_type": "stream",
     "text": [
      "Téléchargement des données pour NRG de 2025-09-27 00:00:00 à 2025-10-01 00:00:00\n"
     ]
    },
    {
     "name": "stderr",
     "output_type": "stream",
     "text": [
      "[*********************100%***********************]  1 of 1 completed\n"
     ]
    },
    {
     "name": "stdout",
     "output_type": "stream",
     "text": [
      "Téléchargement des données pour NSC de 2025-09-27 00:00:00 à 2025-10-01 00:00:00\n"
     ]
    },
    {
     "name": "stderr",
     "output_type": "stream",
     "text": [
      "[*********************100%***********************]  1 of 1 completed\n"
     ]
    },
    {
     "name": "stdout",
     "output_type": "stream",
     "text": [
      "Téléchargement des données pour NTAP de 2025-09-27 00:00:00 à 2025-10-01 00:00:00\n"
     ]
    },
    {
     "name": "stderr",
     "output_type": "stream",
     "text": [
      "[*********************100%***********************]  1 of 1 completed\n"
     ]
    },
    {
     "name": "stdout",
     "output_type": "stream",
     "text": [
      "Téléchargement des données pour NTRS de 2025-09-27 00:00:00 à 2025-10-01 00:00:00\n"
     ]
    },
    {
     "name": "stderr",
     "output_type": "stream",
     "text": [
      "[*********************100%***********************]  1 of 1 completed\n"
     ]
    },
    {
     "name": "stdout",
     "output_type": "stream",
     "text": [
      "Téléchargement des données pour NUE de 2025-09-27 00:00:00 à 2025-10-01 00:00:00\n"
     ]
    },
    {
     "name": "stderr",
     "output_type": "stream",
     "text": [
      "[*********************100%***********************]  1 of 1 completed\n"
     ]
    },
    {
     "name": "stdout",
     "output_type": "stream",
     "text": [
      "Téléchargement des données pour NVDA de 2025-09-27 00:00:00 à 2025-10-01 00:00:00\n"
     ]
    },
    {
     "name": "stderr",
     "output_type": "stream",
     "text": [
      "[*********************100%***********************]  1 of 1 completed\n"
     ]
    },
    {
     "name": "stdout",
     "output_type": "stream",
     "text": [
      "Téléchargement des données pour NVR de 2025-09-27 00:00:00 à 2025-10-01 00:00:00\n"
     ]
    },
    {
     "name": "stderr",
     "output_type": "stream",
     "text": [
      "[*********************100%***********************]  1 of 1 completed\n"
     ]
    },
    {
     "name": "stdout",
     "output_type": "stream",
     "text": [
      "Téléchargement des données pour NWS de 2025-09-27 00:00:00 à 2025-10-01 00:00:00\n"
     ]
    },
    {
     "name": "stderr",
     "output_type": "stream",
     "text": [
      "[*********************100%***********************]  1 of 1 completed\n"
     ]
    },
    {
     "name": "stdout",
     "output_type": "stream",
     "text": [
      "Téléchargement des données pour NWSA de 2025-09-27 00:00:00 à 2025-10-01 00:00:00\n"
     ]
    },
    {
     "name": "stderr",
     "output_type": "stream",
     "text": [
      "[*********************100%***********************]  1 of 1 completed\n"
     ]
    },
    {
     "name": "stdout",
     "output_type": "stream",
     "text": [
      "Téléchargement des données pour NXPI de 2025-09-27 00:00:00 à 2025-10-01 00:00:00\n"
     ]
    },
    {
     "name": "stderr",
     "output_type": "stream",
     "text": [
      "[*********************100%***********************]  1 of 1 completed\n"
     ]
    },
    {
     "name": "stdout",
     "output_type": "stream",
     "text": [
      "Téléchargement des données pour O de 2025-09-27 00:00:00 à 2025-10-01 00:00:00\n"
     ]
    },
    {
     "name": "stderr",
     "output_type": "stream",
     "text": [
      "[*********************100%***********************]  1 of 1 completed\n"
     ]
    },
    {
     "name": "stdout",
     "output_type": "stream",
     "text": [
      "Téléchargement des données pour ODFL de 2025-09-27 00:00:00 à 2025-10-01 00:00:00\n"
     ]
    },
    {
     "name": "stderr",
     "output_type": "stream",
     "text": [
      "[*********************100%***********************]  1 of 1 completed\n"
     ]
    },
    {
     "name": "stdout",
     "output_type": "stream",
     "text": [
      "Téléchargement des données pour OKE de 2025-09-27 00:00:00 à 2025-10-01 00:00:00\n"
     ]
    },
    {
     "name": "stderr",
     "output_type": "stream",
     "text": [
      "[*********************100%***********************]  1 of 1 completed\n"
     ]
    },
    {
     "name": "stdout",
     "output_type": "stream",
     "text": [
      "Téléchargement des données pour OMC de 2025-09-27 00:00:00 à 2025-10-01 00:00:00\n"
     ]
    },
    {
     "name": "stderr",
     "output_type": "stream",
     "text": [
      "[*********************100%***********************]  1 of 1 completed\n"
     ]
    },
    {
     "name": "stdout",
     "output_type": "stream",
     "text": [
      "Téléchargement des données pour ON de 2025-09-27 00:00:00 à 2025-10-01 00:00:00\n"
     ]
    },
    {
     "name": "stderr",
     "output_type": "stream",
     "text": [
      "[*********************100%***********************]  1 of 1 completed\n"
     ]
    },
    {
     "name": "stdout",
     "output_type": "stream",
     "text": [
      "Téléchargement des données pour ORCL de 2025-09-27 00:00:00 à 2025-10-01 00:00:00\n"
     ]
    },
    {
     "name": "stderr",
     "output_type": "stream",
     "text": [
      "[*********************100%***********************]  1 of 1 completed\n"
     ]
    },
    {
     "name": "stdout",
     "output_type": "stream",
     "text": [
      "Téléchargement des données pour ORLY de 2025-09-27 00:00:00 à 2025-10-01 00:00:00\n"
     ]
    },
    {
     "name": "stderr",
     "output_type": "stream",
     "text": [
      "[*********************100%***********************]  1 of 1 completed\n"
     ]
    },
    {
     "name": "stdout",
     "output_type": "stream",
     "text": [
      "Téléchargement des données pour OTIS de 2025-09-27 00:00:00 à 2025-10-01 00:00:00\n"
     ]
    },
    {
     "name": "stderr",
     "output_type": "stream",
     "text": [
      "[*********************100%***********************]  1 of 1 completed\n"
     ]
    },
    {
     "name": "stdout",
     "output_type": "stream",
     "text": [
      "Téléchargement des données pour OXY de 2025-09-27 00:00:00 à 2025-10-01 00:00:00\n"
     ]
    },
    {
     "name": "stderr",
     "output_type": "stream",
     "text": [
      "[*********************100%***********************]  1 of 1 completed\n"
     ]
    },
    {
     "name": "stdout",
     "output_type": "stream",
     "text": [
      "Téléchargement des données pour P de 2025-09-27 00:00:00 à 2025-10-01 00:00:00\n"
     ]
    },
    {
     "name": "stderr",
     "output_type": "stream",
     "text": [
      "[*********************100%***********************]  1 of 1 completed\n",
      "\n",
      "1 Failed download:\n",
      "['P']: YFPricesMissingError('possibly delisted; no price data found  (1d 2025-09-27 00:00:00 -> 2025-10-01 00:00:00)')\n"
     ]
    },
    {
     "name": "stdout",
     "output_type": "stream",
     "text": [
      "Téléchargement des données pour PANW de 2025-09-27 00:00:00 à 2025-10-01 00:00:00\n"
     ]
    },
    {
     "name": "stderr",
     "output_type": "stream",
     "text": [
      "[*********************100%***********************]  1 of 1 completed\n"
     ]
    },
    {
     "name": "stdout",
     "output_type": "stream",
     "text": [
      "Téléchargement des données pour PAYC de 2025-09-27 00:00:00 à 2025-10-01 00:00:00\n"
     ]
    },
    {
     "name": "stderr",
     "output_type": "stream",
     "text": [
      "[*********************100%***********************]  1 of 1 completed\n"
     ]
    },
    {
     "name": "stdout",
     "output_type": "stream",
     "text": [
      "Téléchargement des données pour PAYX de 2025-09-27 00:00:00 à 2025-10-01 00:00:00\n"
     ]
    },
    {
     "name": "stderr",
     "output_type": "stream",
     "text": [
      "[*********************100%***********************]  1 of 1 completed\n"
     ]
    },
    {
     "name": "stdout",
     "output_type": "stream",
     "text": [
      "Téléchargement des données pour PCAR de 2025-09-27 00:00:00 à 2025-10-01 00:00:00\n"
     ]
    },
    {
     "name": "stderr",
     "output_type": "stream",
     "text": [
      "[*********************100%***********************]  1 of 1 completed\n"
     ]
    },
    {
     "name": "stdout",
     "output_type": "stream",
     "text": [
      "Téléchargement des données pour PCG de 2025-09-27 00:00:00 à 2025-10-01 00:00:00\n"
     ]
    },
    {
     "name": "stderr",
     "output_type": "stream",
     "text": [
      "[*********************100%***********************]  1 of 1 completed\n"
     ]
    },
    {
     "name": "stdout",
     "output_type": "stream",
     "text": [
      "Téléchargement des données pour PEG de 2025-09-27 00:00:00 à 2025-10-01 00:00:00\n"
     ]
    },
    {
     "name": "stderr",
     "output_type": "stream",
     "text": [
      "[*********************100%***********************]  1 of 1 completed\n"
     ]
    },
    {
     "name": "stdout",
     "output_type": "stream",
     "text": [
      "Téléchargement des données pour PEP de 2025-09-27 00:00:00 à 2025-10-01 00:00:00\n"
     ]
    },
    {
     "name": "stderr",
     "output_type": "stream",
     "text": [
      "[*********************100%***********************]  1 of 1 completed\n"
     ]
    },
    {
     "name": "stdout",
     "output_type": "stream",
     "text": [
      "Téléchargement des données pour PFE de 2025-09-27 00:00:00 à 2025-10-01 00:00:00\n"
     ]
    },
    {
     "name": "stderr",
     "output_type": "stream",
     "text": [
      "[*********************100%***********************]  1 of 1 completed\n"
     ]
    },
    {
     "name": "stdout",
     "output_type": "stream",
     "text": [
      "Téléchargement des données pour PFG de 2025-09-27 00:00:00 à 2025-10-01 00:00:00\n"
     ]
    },
    {
     "name": "stderr",
     "output_type": "stream",
     "text": [
      "[*********************100%***********************]  1 of 1 completed\n"
     ]
    },
    {
     "name": "stdout",
     "output_type": "stream",
     "text": [
      "Téléchargement des données pour PG de 2025-09-27 00:00:00 à 2025-10-01 00:00:00\n"
     ]
    },
    {
     "name": "stderr",
     "output_type": "stream",
     "text": [
      "[*********************100%***********************]  1 of 1 completed\n"
     ]
    },
    {
     "name": "stdout",
     "output_type": "stream",
     "text": [
      "Téléchargement des données pour PGR de 2025-09-27 00:00:00 à 2025-10-01 00:00:00\n"
     ]
    },
    {
     "name": "stderr",
     "output_type": "stream",
     "text": [
      "[*********************100%***********************]  1 of 1 completed\n"
     ]
    },
    {
     "name": "stdout",
     "output_type": "stream",
     "text": [
      "Téléchargement des données pour PHM de 2025-09-27 00:00:00 à 2025-10-01 00:00:00\n"
     ]
    },
    {
     "name": "stderr",
     "output_type": "stream",
     "text": [
      "[*********************100%***********************]  1 of 1 completed\n"
     ]
    },
    {
     "name": "stdout",
     "output_type": "stream",
     "text": [
      "Téléchargement des données pour PKG de 2025-09-27 00:00:00 à 2025-10-01 00:00:00\n"
     ]
    },
    {
     "name": "stderr",
     "output_type": "stream",
     "text": [
      "[*********************100%***********************]  1 of 1 completed\n"
     ]
    },
    {
     "name": "stdout",
     "output_type": "stream",
     "text": [
      "Téléchargement des données pour PLD de 2025-09-27 00:00:00 à 2025-10-01 00:00:00\n"
     ]
    },
    {
     "name": "stderr",
     "output_type": "stream",
     "text": [
      "[*********************100%***********************]  1 of 1 completed\n"
     ]
    },
    {
     "name": "stdout",
     "output_type": "stream",
     "text": [
      "Téléchargement des données pour PLTR de 2025-09-27 00:00:00 à 2025-10-01 00:00:00\n"
     ]
    },
    {
     "name": "stderr",
     "output_type": "stream",
     "text": [
      "[*********************100%***********************]  1 of 1 completed\n"
     ]
    },
    {
     "name": "stdout",
     "output_type": "stream",
     "text": [
      "Téléchargement des données pour PM de 2025-09-27 00:00:00 à 2025-10-01 00:00:00\n"
     ]
    },
    {
     "name": "stderr",
     "output_type": "stream",
     "text": [
      "[*********************100%***********************]  1 of 1 completed\n"
     ]
    },
    {
     "name": "stdout",
     "output_type": "stream",
     "text": [
      "Téléchargement des données pour PNC de 2025-09-27 00:00:00 à 2025-10-01 00:00:00\n"
     ]
    },
    {
     "name": "stderr",
     "output_type": "stream",
     "text": [
      "[*********************100%***********************]  1 of 1 completed\n"
     ]
    },
    {
     "name": "stdout",
     "output_type": "stream",
     "text": [
      "Téléchargement des données pour PNR de 2025-09-27 00:00:00 à 2025-10-01 00:00:00\n"
     ]
    },
    {
     "name": "stderr",
     "output_type": "stream",
     "text": [
      "[*********************100%***********************]  1 of 1 completed\n"
     ]
    },
    {
     "name": "stdout",
     "output_type": "stream",
     "text": [
      "Téléchargement des données pour PNW de 2025-09-27 00:00:00 à 2025-10-01 00:00:00\n"
     ]
    },
    {
     "name": "stderr",
     "output_type": "stream",
     "text": [
      "[*********************100%***********************]  1 of 1 completed\n"
     ]
    },
    {
     "name": "stdout",
     "output_type": "stream",
     "text": [
      "Téléchargement des données pour PODD de 2025-09-27 00:00:00 à 2025-10-01 00:00:00\n"
     ]
    },
    {
     "name": "stderr",
     "output_type": "stream",
     "text": [
      "[*********************100%***********************]  1 of 1 completed\n"
     ]
    },
    {
     "name": "stdout",
     "output_type": "stream",
     "text": [
      "Téléchargement des données pour POOL de 2025-09-27 00:00:00 à 2025-10-01 00:00:00\n"
     ]
    },
    {
     "name": "stderr",
     "output_type": "stream",
     "text": [
      "[*********************100%***********************]  1 of 1 completed\n"
     ]
    },
    {
     "name": "stdout",
     "output_type": "stream",
     "text": [
      "Téléchargement des données pour PPG de 2025-09-27 00:00:00 à 2025-10-01 00:00:00\n"
     ]
    },
    {
     "name": "stderr",
     "output_type": "stream",
     "text": [
      "[*********************100%***********************]  1 of 1 completed\n"
     ]
    },
    {
     "name": "stdout",
     "output_type": "stream",
     "text": [
      "Téléchargement des données pour PPL de 2025-09-27 00:00:00 à 2025-10-01 00:00:00\n"
     ]
    },
    {
     "name": "stderr",
     "output_type": "stream",
     "text": [
      "[*********************100%***********************]  1 of 1 completed\n"
     ]
    },
    {
     "name": "stdout",
     "output_type": "stream",
     "text": [
      "Téléchargement des données pour PRU de 2025-09-27 00:00:00 à 2025-10-01 00:00:00\n"
     ]
    },
    {
     "name": "stderr",
     "output_type": "stream",
     "text": [
      "[*********************100%***********************]  1 of 1 completed\n"
     ]
    },
    {
     "name": "stdout",
     "output_type": "stream",
     "text": [
      "Téléchargement des données pour PSA de 2025-09-27 00:00:00 à 2025-10-01 00:00:00\n"
     ]
    },
    {
     "name": "stderr",
     "output_type": "stream",
     "text": [
      "[*********************100%***********************]  1 of 1 completed\n"
     ]
    },
    {
     "name": "stdout",
     "output_type": "stream",
     "text": [
      "Téléchargement des données pour PSKY de 2025-09-27 00:00:00 à 2025-10-01 00:00:00\n"
     ]
    },
    {
     "name": "stderr",
     "output_type": "stream",
     "text": [
      "[*********************100%***********************]  1 of 1 completed\n"
     ]
    },
    {
     "name": "stdout",
     "output_type": "stream",
     "text": [
      "Téléchargement des données pour PSX de 2025-09-27 00:00:00 à 2025-10-01 00:00:00\n"
     ]
    },
    {
     "name": "stderr",
     "output_type": "stream",
     "text": [
      "[*********************100%***********************]  1 of 1 completed\n"
     ]
    },
    {
     "name": "stdout",
     "output_type": "stream",
     "text": [
      "Téléchargement des données pour PTC de 2025-09-27 00:00:00 à 2025-10-01 00:00:00\n"
     ]
    },
    {
     "name": "stderr",
     "output_type": "stream",
     "text": [
      "[*********************100%***********************]  1 of 1 completed\n"
     ]
    },
    {
     "name": "stdout",
     "output_type": "stream",
     "text": [
      "Téléchargement des données pour PWR de 2025-09-27 00:00:00 à 2025-10-01 00:00:00\n"
     ]
    },
    {
     "name": "stderr",
     "output_type": "stream",
     "text": [
      "[*********************100%***********************]  1 of 1 completed\n"
     ]
    },
    {
     "name": "stdout",
     "output_type": "stream",
     "text": [
      "Téléchargement des données pour PYPL de 2025-09-27 00:00:00 à 2025-10-01 00:00:00\n"
     ]
    },
    {
     "name": "stderr",
     "output_type": "stream",
     "text": [
      "[*********************100%***********************]  1 of 1 completed\n"
     ]
    },
    {
     "name": "stdout",
     "output_type": "stream",
     "text": [
      "Téléchargement des données pour QCOM de 2025-09-27 00:00:00 à 2025-10-01 00:00:00\n"
     ]
    },
    {
     "name": "stderr",
     "output_type": "stream",
     "text": [
      "[*********************100%***********************]  1 of 1 completed\n"
     ]
    },
    {
     "name": "stdout",
     "output_type": "stream",
     "text": [
      "Téléchargement des données pour RCL de 2025-09-27 00:00:00 à 2025-10-01 00:00:00\n"
     ]
    },
    {
     "name": "stderr",
     "output_type": "stream",
     "text": [
      "[*********************100%***********************]  1 of 1 completed\n"
     ]
    },
    {
     "name": "stdout",
     "output_type": "stream",
     "text": [
      "Téléchargement des données pour REG de 2025-09-27 00:00:00 à 2025-10-01 00:00:00\n"
     ]
    },
    {
     "name": "stderr",
     "output_type": "stream",
     "text": [
      "[*********************100%***********************]  1 of 1 completed\n"
     ]
    },
    {
     "name": "stdout",
     "output_type": "stream",
     "text": [
      "Téléchargement des données pour REGN de 2025-09-27 00:00:00 à 2025-10-01 00:00:00\n"
     ]
    },
    {
     "name": "stderr",
     "output_type": "stream",
     "text": [
      "[*********************100%***********************]  1 of 1 completed\n"
     ]
    },
    {
     "name": "stdout",
     "output_type": "stream",
     "text": [
      "Téléchargement des données pour RF de 2025-09-27 00:00:00 à 2025-10-01 00:00:00\n"
     ]
    },
    {
     "name": "stderr",
     "output_type": "stream",
     "text": [
      "[*********************100%***********************]  1 of 1 completed\n"
     ]
    },
    {
     "name": "stdout",
     "output_type": "stream",
     "text": [
      "Téléchargement des données pour RJF de 2025-09-27 00:00:00 à 2025-10-01 00:00:00\n"
     ]
    },
    {
     "name": "stderr",
     "output_type": "stream",
     "text": [
      "[*********************100%***********************]  1 of 1 completed\n"
     ]
    },
    {
     "name": "stdout",
     "output_type": "stream",
     "text": [
      "Téléchargement des données pour RL de 2025-09-27 00:00:00 à 2025-10-01 00:00:00\n"
     ]
    },
    {
     "name": "stderr",
     "output_type": "stream",
     "text": [
      "[*********************100%***********************]  1 of 1 completed\n"
     ]
    },
    {
     "name": "stdout",
     "output_type": "stream",
     "text": [
      "Téléchargement des données pour RMD de 2025-09-27 00:00:00 à 2025-10-01 00:00:00\n"
     ]
    },
    {
     "name": "stderr",
     "output_type": "stream",
     "text": [
      "[*********************100%***********************]  1 of 1 completed\n"
     ]
    },
    {
     "name": "stdout",
     "output_type": "stream",
     "text": [
      "Téléchargement des données pour ROK de 2025-09-27 00:00:00 à 2025-10-01 00:00:00\n"
     ]
    },
    {
     "name": "stderr",
     "output_type": "stream",
     "text": [
      "[*********************100%***********************]  1 of 1 completed\n"
     ]
    },
    {
     "name": "stdout",
     "output_type": "stream",
     "text": [
      "Téléchargement des données pour ROL de 2025-09-27 00:00:00 à 2025-10-01 00:00:00\n"
     ]
    },
    {
     "name": "stderr",
     "output_type": "stream",
     "text": [
      "[*********************100%***********************]  1 of 1 completed\n"
     ]
    },
    {
     "name": "stdout",
     "output_type": "stream",
     "text": [
      "Téléchargement des données pour ROP de 2025-09-27 00:00:00 à 2025-10-01 00:00:00\n"
     ]
    },
    {
     "name": "stderr",
     "output_type": "stream",
     "text": [
      "[*********************100%***********************]  1 of 1 completed\n"
     ]
    },
    {
     "name": "stdout",
     "output_type": "stream",
     "text": [
      "Téléchargement des données pour ROST de 2025-09-27 00:00:00 à 2025-10-01 00:00:00\n"
     ]
    },
    {
     "name": "stderr",
     "output_type": "stream",
     "text": [
      "[*********************100%***********************]  1 of 1 completed\n"
     ]
    },
    {
     "name": "stdout",
     "output_type": "stream",
     "text": [
      "Téléchargement des données pour RSG de 2025-09-27 00:00:00 à 2025-10-01 00:00:00\n"
     ]
    },
    {
     "name": "stderr",
     "output_type": "stream",
     "text": [
      "[*********************100%***********************]  1 of 1 completed\n"
     ]
    },
    {
     "name": "stdout",
     "output_type": "stream",
     "text": [
      "Téléchargement des données pour RTX de 2025-09-27 00:00:00 à 2025-10-01 00:00:00\n"
     ]
    },
    {
     "name": "stderr",
     "output_type": "stream",
     "text": [
      "[*********************100%***********************]  1 of 1 completed\n"
     ]
    },
    {
     "name": "stdout",
     "output_type": "stream",
     "text": [
      "Téléchargement des données pour RVTY de 2025-09-27 00:00:00 à 2025-10-01 00:00:00\n"
     ]
    },
    {
     "name": "stderr",
     "output_type": "stream",
     "text": [
      "[*********************100%***********************]  1 of 1 completed\n"
     ]
    },
    {
     "name": "stdout",
     "output_type": "stream",
     "text": [
      "Téléchargement des données pour SBAC de 2025-09-27 00:00:00 à 2025-10-01 00:00:00\n"
     ]
    },
    {
     "name": "stderr",
     "output_type": "stream",
     "text": [
      "[*********************100%***********************]  1 of 1 completed\n"
     ]
    },
    {
     "name": "stdout",
     "output_type": "stream",
     "text": [
      "Téléchargement des données pour SBUX de 2025-09-27 00:00:00 à 2025-10-01 00:00:00\n"
     ]
    },
    {
     "name": "stderr",
     "output_type": "stream",
     "text": [
      "[*********************100%***********************]  1 of 1 completed\n"
     ]
    },
    {
     "name": "stdout",
     "output_type": "stream",
     "text": [
      "Téléchargement des données pour SCHW de 2025-09-27 00:00:00 à 2025-10-01 00:00:00\n"
     ]
    },
    {
     "name": "stderr",
     "output_type": "stream",
     "text": [
      "[*********************100%***********************]  1 of 1 completed\n"
     ]
    },
    {
     "name": "stdout",
     "output_type": "stream",
     "text": [
      "Téléchargement des données pour SHW de 2025-09-27 00:00:00 à 2025-10-01 00:00:00\n"
     ]
    },
    {
     "name": "stderr",
     "output_type": "stream",
     "text": [
      "[*********************100%***********************]  1 of 1 completed\n"
     ]
    },
    {
     "name": "stdout",
     "output_type": "stream",
     "text": [
      "Téléchargement des données pour SJM de 2025-09-27 00:00:00 à 2025-10-01 00:00:00\n"
     ]
    },
    {
     "name": "stderr",
     "output_type": "stream",
     "text": [
      "[*********************100%***********************]  1 of 1 completed\n"
     ]
    },
    {
     "name": "stdout",
     "output_type": "stream",
     "text": [
      "Téléchargement des données pour SLB de 2025-09-27 00:00:00 à 2025-10-01 00:00:00\n"
     ]
    },
    {
     "name": "stderr",
     "output_type": "stream",
     "text": [
      "[*********************100%***********************]  1 of 1 completed\n"
     ]
    },
    {
     "name": "stdout",
     "output_type": "stream",
     "text": [
      "Téléchargement des données pour SMCI de 2025-09-27 00:00:00 à 2025-10-01 00:00:00\n"
     ]
    },
    {
     "name": "stderr",
     "output_type": "stream",
     "text": [
      "[*********************100%***********************]  1 of 1 completed\n"
     ]
    },
    {
     "name": "stdout",
     "output_type": "stream",
     "text": [
      "Téléchargement des données pour SNA de 2025-09-27 00:00:00 à 2025-10-01 00:00:00\n"
     ]
    },
    {
     "name": "stderr",
     "output_type": "stream",
     "text": [
      "[*********************100%***********************]  1 of 1 completed\n"
     ]
    },
    {
     "name": "stdout",
     "output_type": "stream",
     "text": [
      "Téléchargement des données pour SNPS de 2025-09-27 00:00:00 à 2025-10-01 00:00:00\n"
     ]
    },
    {
     "name": "stderr",
     "output_type": "stream",
     "text": [
      "[*********************100%***********************]  1 of 1 completed\n"
     ]
    },
    {
     "name": "stdout",
     "output_type": "stream",
     "text": [
      "Téléchargement des données pour SO de 2025-09-27 00:00:00 à 2025-10-01 00:00:00\n"
     ]
    },
    {
     "name": "stderr",
     "output_type": "stream",
     "text": [
      "[*********************100%***********************]  1 of 1 completed\n"
     ]
    },
    {
     "name": "stdout",
     "output_type": "stream",
     "text": [
      "Téléchargement des données pour SOLV de 2025-09-27 00:00:00 à 2025-10-01 00:00:00\n"
     ]
    },
    {
     "name": "stderr",
     "output_type": "stream",
     "text": [
      "[*********************100%***********************]  1 of 1 completed\n"
     ]
    },
    {
     "name": "stdout",
     "output_type": "stream",
     "text": [
      "Téléchargement des données pour SPG de 2025-09-27 00:00:00 à 2025-10-01 00:00:00\n"
     ]
    },
    {
     "name": "stderr",
     "output_type": "stream",
     "text": [
      "[*********************100%***********************]  1 of 1 completed\n"
     ]
    },
    {
     "name": "stdout",
     "output_type": "stream",
     "text": [
      "Téléchargement des données pour SPGI de 2025-09-27 00:00:00 à 2025-10-01 00:00:00\n"
     ]
    },
    {
     "name": "stderr",
     "output_type": "stream",
     "text": [
      "[*********************100%***********************]  1 of 1 completed\n"
     ]
    },
    {
     "name": "stdout",
     "output_type": "stream",
     "text": [
      "Téléchargement des données pour SRE de 2025-09-27 00:00:00 à 2025-10-01 00:00:00\n"
     ]
    },
    {
     "name": "stderr",
     "output_type": "stream",
     "text": [
      "[*********************100%***********************]  1 of 1 completed\n"
     ]
    },
    {
     "name": "stdout",
     "output_type": "stream",
     "text": [
      "Téléchargement des données pour STE de 2025-09-27 00:00:00 à 2025-10-01 00:00:00\n"
     ]
    },
    {
     "name": "stderr",
     "output_type": "stream",
     "text": [
      "[*********************100%***********************]  1 of 1 completed\n"
     ]
    },
    {
     "name": "stdout",
     "output_type": "stream",
     "text": [
      "Téléchargement des données pour STLD de 2025-09-27 00:00:00 à 2025-10-01 00:00:00\n"
     ]
    },
    {
     "name": "stderr",
     "output_type": "stream",
     "text": [
      "[*********************100%***********************]  1 of 1 completed\n"
     ]
    },
    {
     "name": "stdout",
     "output_type": "stream",
     "text": [
      "Téléchargement des données pour STT de 2025-09-27 00:00:00 à 2025-10-01 00:00:00\n"
     ]
    },
    {
     "name": "stderr",
     "output_type": "stream",
     "text": [
      "[*********************100%***********************]  1 of 1 completed\n"
     ]
    },
    {
     "name": "stdout",
     "output_type": "stream",
     "text": [
      "Téléchargement des données pour STX de 2025-09-27 00:00:00 à 2025-10-01 00:00:00\n"
     ]
    },
    {
     "name": "stderr",
     "output_type": "stream",
     "text": [
      "[*********************100%***********************]  1 of 1 completed\n"
     ]
    },
    {
     "name": "stdout",
     "output_type": "stream",
     "text": [
      "Téléchargement des données pour STZ de 2025-09-27 00:00:00 à 2025-10-01 00:00:00\n"
     ]
    },
    {
     "name": "stderr",
     "output_type": "stream",
     "text": [
      "[*********************100%***********************]  1 of 1 completed\n"
     ]
    },
    {
     "name": "stdout",
     "output_type": "stream",
     "text": [
      "Téléchargement des données pour SW de 2025-09-27 00:00:00 à 2025-10-01 00:00:00\n"
     ]
    },
    {
     "name": "stderr",
     "output_type": "stream",
     "text": [
      "[*********************100%***********************]  1 of 1 completed\n"
     ]
    },
    {
     "name": "stdout",
     "output_type": "stream",
     "text": [
      "Téléchargement des données pour SWK de 2025-09-27 00:00:00 à 2025-10-01 00:00:00\n"
     ]
    },
    {
     "name": "stderr",
     "output_type": "stream",
     "text": [
      "[*********************100%***********************]  1 of 1 completed\n"
     ]
    },
    {
     "name": "stdout",
     "output_type": "stream",
     "text": [
      "Téléchargement des données pour SWKS de 2025-09-27 00:00:00 à 2025-10-01 00:00:00\n"
     ]
    },
    {
     "name": "stderr",
     "output_type": "stream",
     "text": [
      "[*********************100%***********************]  1 of 1 completed\n"
     ]
    },
    {
     "name": "stdout",
     "output_type": "stream",
     "text": [
      "Téléchargement des données pour SYF de 2025-09-27 00:00:00 à 2025-10-01 00:00:00\n"
     ]
    },
    {
     "name": "stderr",
     "output_type": "stream",
     "text": [
      "[*********************100%***********************]  1 of 1 completed\n"
     ]
    },
    {
     "name": "stdout",
     "output_type": "stream",
     "text": [
      "Téléchargement des données pour SYK de 2025-09-27 00:00:00 à 2025-10-01 00:00:00\n"
     ]
    },
    {
     "name": "stderr",
     "output_type": "stream",
     "text": [
      "[*********************100%***********************]  1 of 1 completed\n"
     ]
    },
    {
     "name": "stdout",
     "output_type": "stream",
     "text": [
      "Téléchargement des données pour SYY de 2025-09-27 00:00:00 à 2025-10-01 00:00:00\n"
     ]
    },
    {
     "name": "stderr",
     "output_type": "stream",
     "text": [
      "[*********************100%***********************]  1 of 1 completed\n"
     ]
    },
    {
     "name": "stdout",
     "output_type": "stream",
     "text": [
      "Téléchargement des données pour TAP de 2025-09-27 00:00:00 à 2025-10-01 00:00:00\n"
     ]
    },
    {
     "name": "stderr",
     "output_type": "stream",
     "text": [
      "[*********************100%***********************]  1 of 1 completed\n"
     ]
    },
    {
     "name": "stdout",
     "output_type": "stream",
     "text": [
      "Téléchargement des données pour TDG de 2025-09-27 00:00:00 à 2025-10-01 00:00:00\n"
     ]
    },
    {
     "name": "stderr",
     "output_type": "stream",
     "text": [
      "[*********************100%***********************]  1 of 1 completed\n"
     ]
    },
    {
     "name": "stdout",
     "output_type": "stream",
     "text": [
      "Téléchargement des données pour TDY de 2025-09-27 00:00:00 à 2025-10-01 00:00:00\n"
     ]
    },
    {
     "name": "stderr",
     "output_type": "stream",
     "text": [
      "[*********************100%***********************]  1 of 1 completed\n"
     ]
    },
    {
     "name": "stdout",
     "output_type": "stream",
     "text": [
      "Téléchargement des données pour TECH de 2025-09-27 00:00:00 à 2025-10-01 00:00:00\n"
     ]
    },
    {
     "name": "stderr",
     "output_type": "stream",
     "text": [
      "[*********************100%***********************]  1 of 1 completed\n"
     ]
    },
    {
     "name": "stdout",
     "output_type": "stream",
     "text": [
      "Téléchargement des données pour TEL de 2025-09-27 00:00:00 à 2025-10-01 00:00:00\n"
     ]
    },
    {
     "name": "stderr",
     "output_type": "stream",
     "text": [
      "[*********************100%***********************]  1 of 1 completed\n"
     ]
    },
    {
     "name": "stdout",
     "output_type": "stream",
     "text": [
      "Téléchargement des données pour TER de 2025-09-27 00:00:00 à 2025-10-01 00:00:00\n"
     ]
    },
    {
     "name": "stderr",
     "output_type": "stream",
     "text": [
      "[*********************100%***********************]  1 of 1 completed\n"
     ]
    },
    {
     "name": "stdout",
     "output_type": "stream",
     "text": [
      "Téléchargement des données pour TFC de 2025-09-27 00:00:00 à 2025-10-01 00:00:00\n"
     ]
    },
    {
     "name": "stderr",
     "output_type": "stream",
     "text": [
      "[*********************100%***********************]  1 of 1 completed\n"
     ]
    },
    {
     "name": "stdout",
     "output_type": "stream",
     "text": [
      "Téléchargement des données pour TGT de 2025-09-27 00:00:00 à 2025-10-01 00:00:00\n"
     ]
    },
    {
     "name": "stderr",
     "output_type": "stream",
     "text": [
      "[*********************100%***********************]  1 of 1 completed\n"
     ]
    },
    {
     "name": "stdout",
     "output_type": "stream",
     "text": [
      "Téléchargement des données pour TJX de 2025-09-27 00:00:00 à 2025-10-01 00:00:00\n"
     ]
    },
    {
     "name": "stderr",
     "output_type": "stream",
     "text": [
      "[*********************100%***********************]  1 of 1 completed\n"
     ]
    },
    {
     "name": "stdout",
     "output_type": "stream",
     "text": [
      "Téléchargement des données pour TKO de 2025-09-27 00:00:00 à 2025-10-01 00:00:00\n"
     ]
    },
    {
     "name": "stderr",
     "output_type": "stream",
     "text": [
      "[*********************100%***********************]  1 of 1 completed\n"
     ]
    },
    {
     "name": "stdout",
     "output_type": "stream",
     "text": [
      "Téléchargement des données pour TMO de 2025-09-27 00:00:00 à 2025-10-01 00:00:00\n"
     ]
    },
    {
     "name": "stderr",
     "output_type": "stream",
     "text": [
      "[*********************100%***********************]  1 of 1 completed\n"
     ]
    },
    {
     "name": "stdout",
     "output_type": "stream",
     "text": [
      "Téléchargement des données pour TMUS de 2025-09-27 00:00:00 à 2025-10-01 00:00:00\n"
     ]
    },
    {
     "name": "stderr",
     "output_type": "stream",
     "text": [
      "[*********************100%***********************]  1 of 1 completed\n"
     ]
    },
    {
     "name": "stdout",
     "output_type": "stream",
     "text": [
      "Téléchargement des données pour TPL de 2025-09-27 00:00:00 à 2025-10-01 00:00:00\n"
     ]
    },
    {
     "name": "stderr",
     "output_type": "stream",
     "text": [
      "[*********************100%***********************]  1 of 1 completed\n"
     ]
    },
    {
     "name": "stdout",
     "output_type": "stream",
     "text": [
      "Téléchargement des données pour TPR de 2025-09-27 00:00:00 à 2025-10-01 00:00:00\n"
     ]
    },
    {
     "name": "stderr",
     "output_type": "stream",
     "text": [
      "[*********************100%***********************]  1 of 1 completed\n"
     ]
    },
    {
     "name": "stdout",
     "output_type": "stream",
     "text": [
      "Téléchargement des données pour TRGP de 2025-09-27 00:00:00 à 2025-10-01 00:00:00\n"
     ]
    },
    {
     "name": "stderr",
     "output_type": "stream",
     "text": [
      "[*********************100%***********************]  1 of 1 completed\n"
     ]
    },
    {
     "name": "stdout",
     "output_type": "stream",
     "text": [
      "Téléchargement des données pour TRMB de 2025-09-27 00:00:00 à 2025-10-01 00:00:00\n"
     ]
    },
    {
     "name": "stderr",
     "output_type": "stream",
     "text": [
      "[*********************100%***********************]  1 of 1 completed\n"
     ]
    },
    {
     "name": "stdout",
     "output_type": "stream",
     "text": [
      "Téléchargement des données pour TROW de 2025-09-27 00:00:00 à 2025-10-01 00:00:00\n"
     ]
    },
    {
     "name": "stderr",
     "output_type": "stream",
     "text": [
      "[*********************100%***********************]  1 of 1 completed\n"
     ]
    },
    {
     "name": "stdout",
     "output_type": "stream",
     "text": [
      "Téléchargement des données pour TRV de 2025-09-27 00:00:00 à 2025-10-01 00:00:00\n"
     ]
    },
    {
     "name": "stderr",
     "output_type": "stream",
     "text": [
      "[*********************100%***********************]  1 of 1 completed\n"
     ]
    },
    {
     "name": "stdout",
     "output_type": "stream",
     "text": [
      "Téléchargement des données pour TSCO de 2025-09-27 00:00:00 à 2025-10-01 00:00:00\n"
     ]
    },
    {
     "name": "stderr",
     "output_type": "stream",
     "text": [
      "[*********************100%***********************]  1 of 1 completed\n"
     ]
    },
    {
     "name": "stdout",
     "output_type": "stream",
     "text": [
      "Téléchargement des données pour TSLA de 2025-09-27 00:00:00 à 2025-10-01 00:00:00\n"
     ]
    },
    {
     "name": "stderr",
     "output_type": "stream",
     "text": [
      "[*********************100%***********************]  1 of 1 completed\n"
     ]
    },
    {
     "name": "stdout",
     "output_type": "stream",
     "text": [
      "Téléchargement des données pour TSN de 2025-09-27 00:00:00 à 2025-10-01 00:00:00\n"
     ]
    },
    {
     "name": "stderr",
     "output_type": "stream",
     "text": [
      "[*********************100%***********************]  1 of 1 completed\n"
     ]
    },
    {
     "name": "stdout",
     "output_type": "stream",
     "text": [
      "Téléchargement des données pour TT de 2025-09-27 00:00:00 à 2025-10-01 00:00:00\n"
     ]
    },
    {
     "name": "stderr",
     "output_type": "stream",
     "text": [
      "[*********************100%***********************]  1 of 1 completed\n"
     ]
    },
    {
     "name": "stdout",
     "output_type": "stream",
     "text": [
      "Téléchargement des données pour TTD de 2025-09-27 00:00:00 à 2025-10-01 00:00:00\n"
     ]
    },
    {
     "name": "stderr",
     "output_type": "stream",
     "text": [
      "[*********************100%***********************]  1 of 1 completed\n"
     ]
    },
    {
     "name": "stdout",
     "output_type": "stream",
     "text": [
      "Téléchargement des données pour TTWO de 2025-09-27 00:00:00 à 2025-10-01 00:00:00\n"
     ]
    },
    {
     "name": "stderr",
     "output_type": "stream",
     "text": [
      "[*********************100%***********************]  1 of 1 completed\n"
     ]
    },
    {
     "name": "stdout",
     "output_type": "stream",
     "text": [
      "Téléchargement des données pour TXN de 2025-09-27 00:00:00 à 2025-10-01 00:00:00\n"
     ]
    },
    {
     "name": "stderr",
     "output_type": "stream",
     "text": [
      "[*********************100%***********************]  1 of 1 completed\n"
     ]
    },
    {
     "name": "stdout",
     "output_type": "stream",
     "text": [
      "Téléchargement des données pour TXT de 2025-09-27 00:00:00 à 2025-10-01 00:00:00\n"
     ]
    },
    {
     "name": "stderr",
     "output_type": "stream",
     "text": [
      "[*********************100%***********************]  1 of 1 completed\n"
     ]
    },
    {
     "name": "stdout",
     "output_type": "stream",
     "text": [
      "Téléchargement des données pour TYL de 2025-09-27 00:00:00 à 2025-10-01 00:00:00\n"
     ]
    },
    {
     "name": "stderr",
     "output_type": "stream",
     "text": [
      "[*********************100%***********************]  1 of 1 completed\n"
     ]
    },
    {
     "name": "stdout",
     "output_type": "stream",
     "text": [
      "Téléchargement des données pour UAL de 2025-09-27 00:00:00 à 2025-10-01 00:00:00\n"
     ]
    },
    {
     "name": "stderr",
     "output_type": "stream",
     "text": [
      "[*********************100%***********************]  1 of 1 completed\n"
     ]
    },
    {
     "name": "stdout",
     "output_type": "stream",
     "text": [
      "Téléchargement des données pour UBER de 2025-09-27 00:00:00 à 2025-10-01 00:00:00\n"
     ]
    },
    {
     "name": "stderr",
     "output_type": "stream",
     "text": [
      "[*********************100%***********************]  1 of 1 completed\n"
     ]
    },
    {
     "name": "stdout",
     "output_type": "stream",
     "text": [
      "Téléchargement des données pour UDR de 2025-09-27 00:00:00 à 2025-10-01 00:00:00\n"
     ]
    },
    {
     "name": "stderr",
     "output_type": "stream",
     "text": [
      "[*********************100%***********************]  1 of 1 completed\n"
     ]
    },
    {
     "name": "stdout",
     "output_type": "stream",
     "text": [
      "Téléchargement des données pour UHS de 2025-09-27 00:00:00 à 2025-10-01 00:00:00\n"
     ]
    },
    {
     "name": "stderr",
     "output_type": "stream",
     "text": [
      "[*********************100%***********************]  1 of 1 completed\n"
     ]
    },
    {
     "name": "stdout",
     "output_type": "stream",
     "text": [
      "Téléchargement des données pour ULTA de 2025-09-27 00:00:00 à 2025-10-01 00:00:00\n"
     ]
    },
    {
     "name": "stderr",
     "output_type": "stream",
     "text": [
      "[*********************100%***********************]  1 of 1 completed\n"
     ]
    },
    {
     "name": "stdout",
     "output_type": "stream",
     "text": [
      "Téléchargement des données pour UNH de 2025-09-27 00:00:00 à 2025-10-01 00:00:00\n"
     ]
    },
    {
     "name": "stderr",
     "output_type": "stream",
     "text": [
      "[*********************100%***********************]  1 of 1 completed\n"
     ]
    },
    {
     "name": "stdout",
     "output_type": "stream",
     "text": [
      "Téléchargement des données pour UNP de 2025-09-27 00:00:00 à 2025-10-01 00:00:00\n"
     ]
    },
    {
     "name": "stderr",
     "output_type": "stream",
     "text": [
      "[*********************100%***********************]  1 of 1 completed\n"
     ]
    },
    {
     "name": "stdout",
     "output_type": "stream",
     "text": [
      "Téléchargement des données pour UPS de 2025-09-27 00:00:00 à 2025-10-01 00:00:00\n"
     ]
    },
    {
     "name": "stderr",
     "output_type": "stream",
     "text": [
      "[*********************100%***********************]  1 of 1 completed\n"
     ]
    },
    {
     "name": "stdout",
     "output_type": "stream",
     "text": [
      "Téléchargement des données pour URI de 2025-09-27 00:00:00 à 2025-10-01 00:00:00\n"
     ]
    },
    {
     "name": "stderr",
     "output_type": "stream",
     "text": [
      "[*********************100%***********************]  1 of 1 completed\n"
     ]
    },
    {
     "name": "stdout",
     "output_type": "stream",
     "text": [
      "Téléchargement des données pour USB de 2025-09-27 00:00:00 à 2025-10-01 00:00:00\n"
     ]
    },
    {
     "name": "stderr",
     "output_type": "stream",
     "text": [
      "[*********************100%***********************]  1 of 1 completed\n"
     ]
    },
    {
     "name": "stdout",
     "output_type": "stream",
     "text": [
      "Téléchargement des données pour V de 2025-09-27 00:00:00 à 2025-10-01 00:00:00\n"
     ]
    },
    {
     "name": "stderr",
     "output_type": "stream",
     "text": [
      "[*********************100%***********************]  1 of 1 completed\n"
     ]
    },
    {
     "name": "stdout",
     "output_type": "stream",
     "text": [
      "Téléchargement des données pour VICI de 2025-09-27 00:00:00 à 2025-10-01 00:00:00\n"
     ]
    },
    {
     "name": "stderr",
     "output_type": "stream",
     "text": [
      "[*********************100%***********************]  1 of 1 completed\n"
     ]
    },
    {
     "name": "stdout",
     "output_type": "stream",
     "text": [
      "Téléchargement des données pour VLO de 2025-09-27 00:00:00 à 2025-10-01 00:00:00\n"
     ]
    },
    {
     "name": "stderr",
     "output_type": "stream",
     "text": [
      "[*********************100%***********************]  1 of 1 completed\n"
     ]
    },
    {
     "name": "stdout",
     "output_type": "stream",
     "text": [
      "Téléchargement des données pour VLTO de 2025-09-27 00:00:00 à 2025-10-01 00:00:00\n"
     ]
    },
    {
     "name": "stderr",
     "output_type": "stream",
     "text": [
      "[*********************100%***********************]  1 of 1 completed\n"
     ]
    },
    {
     "name": "stdout",
     "output_type": "stream",
     "text": [
      "Téléchargement des données pour VMC de 2025-09-27 00:00:00 à 2025-10-01 00:00:00\n"
     ]
    },
    {
     "name": "stderr",
     "output_type": "stream",
     "text": [
      "[*********************100%***********************]  1 of 1 completed\n"
     ]
    },
    {
     "name": "stdout",
     "output_type": "stream",
     "text": [
      "Téléchargement des données pour VRSK de 2025-09-27 00:00:00 à 2025-10-01 00:00:00\n"
     ]
    },
    {
     "name": "stderr",
     "output_type": "stream",
     "text": [
      "[*********************100%***********************]  1 of 1 completed\n"
     ]
    },
    {
     "name": "stdout",
     "output_type": "stream",
     "text": [
      "Téléchargement des données pour VRSN de 2025-09-27 00:00:00 à 2025-10-01 00:00:00\n"
     ]
    },
    {
     "name": "stderr",
     "output_type": "stream",
     "text": [
      "[*********************100%***********************]  1 of 1 completed\n"
     ]
    },
    {
     "name": "stdout",
     "output_type": "stream",
     "text": [
      "Téléchargement des données pour VRTX de 2025-09-27 00:00:00 à 2025-10-01 00:00:00\n"
     ]
    },
    {
     "name": "stderr",
     "output_type": "stream",
     "text": [
      "[*********************100%***********************]  1 of 1 completed\n"
     ]
    },
    {
     "name": "stdout",
     "output_type": "stream",
     "text": [
      "Téléchargement des données pour VST de 2025-09-27 00:00:00 à 2025-10-01 00:00:00\n"
     ]
    },
    {
     "name": "stderr",
     "output_type": "stream",
     "text": [
      "[*********************100%***********************]  1 of 1 completed\n"
     ]
    },
    {
     "name": "stdout",
     "output_type": "stream",
     "text": [
      "Téléchargement des données pour VTR de 2025-09-27 00:00:00 à 2025-10-01 00:00:00\n"
     ]
    },
    {
     "name": "stderr",
     "output_type": "stream",
     "text": [
      "[*********************100%***********************]  1 of 1 completed\n"
     ]
    },
    {
     "name": "stdout",
     "output_type": "stream",
     "text": [
      "Téléchargement des données pour VTRS de 2025-09-27 00:00:00 à 2025-10-01 00:00:00\n"
     ]
    },
    {
     "name": "stderr",
     "output_type": "stream",
     "text": [
      "[*********************100%***********************]  1 of 1 completed\n"
     ]
    },
    {
     "name": "stdout",
     "output_type": "stream",
     "text": [
      "Téléchargement des données pour VZ de 2025-09-27 00:00:00 à 2025-10-01 00:00:00\n"
     ]
    },
    {
     "name": "stderr",
     "output_type": "stream",
     "text": [
      "[*********************100%***********************]  1 of 1 completed\n"
     ]
    },
    {
     "name": "stdout",
     "output_type": "stream",
     "text": [
      "Téléchargement des données pour WAB de 2025-09-27 00:00:00 à 2025-10-01 00:00:00\n"
     ]
    },
    {
     "name": "stderr",
     "output_type": "stream",
     "text": [
      "[*********************100%***********************]  1 of 1 completed\n"
     ]
    },
    {
     "name": "stdout",
     "output_type": "stream",
     "text": [
      "Téléchargement des données pour WAT de 2025-09-27 00:00:00 à 2025-10-01 00:00:00\n"
     ]
    },
    {
     "name": "stderr",
     "output_type": "stream",
     "text": [
      "[*********************100%***********************]  1 of 1 completed\n"
     ]
    },
    {
     "name": "stdout",
     "output_type": "stream",
     "text": [
      "Téléchargement des données pour WBD de 2025-09-27 00:00:00 à 2025-10-01 00:00:00\n"
     ]
    },
    {
     "name": "stderr",
     "output_type": "stream",
     "text": [
      "[*********************100%***********************]  1 of 1 completed\n"
     ]
    },
    {
     "name": "stdout",
     "output_type": "stream",
     "text": [
      "Téléchargement des données pour WDAY de 2025-09-27 00:00:00 à 2025-10-01 00:00:00\n"
     ]
    },
    {
     "name": "stderr",
     "output_type": "stream",
     "text": [
      "[*********************100%***********************]  1 of 1 completed\n"
     ]
    },
    {
     "name": "stdout",
     "output_type": "stream",
     "text": [
      "Téléchargement des données pour WDC de 2025-09-27 00:00:00 à 2025-10-01 00:00:00\n"
     ]
    },
    {
     "name": "stderr",
     "output_type": "stream",
     "text": [
      "[*********************100%***********************]  1 of 1 completed\n"
     ]
    },
    {
     "name": "stdout",
     "output_type": "stream",
     "text": [
      "Téléchargement des données pour WEC de 2025-09-27 00:00:00 à 2025-10-01 00:00:00\n"
     ]
    },
    {
     "name": "stderr",
     "output_type": "stream",
     "text": [
      "[*********************100%***********************]  1 of 1 completed\n"
     ]
    },
    {
     "name": "stdout",
     "output_type": "stream",
     "text": [
      "Téléchargement des données pour WELL de 2025-09-27 00:00:00 à 2025-10-01 00:00:00\n"
     ]
    },
    {
     "name": "stderr",
     "output_type": "stream",
     "text": [
      "[*********************100%***********************]  1 of 1 completed\n"
     ]
    },
    {
     "name": "stdout",
     "output_type": "stream",
     "text": [
      "Téléchargement des données pour WFC de 2025-09-27 00:00:00 à 2025-10-01 00:00:00\n"
     ]
    },
    {
     "name": "stderr",
     "output_type": "stream",
     "text": [
      "[*********************100%***********************]  1 of 1 completed\n"
     ]
    },
    {
     "name": "stdout",
     "output_type": "stream",
     "text": [
      "Téléchargement des données pour WM de 2025-09-27 00:00:00 à 2025-10-01 00:00:00\n"
     ]
    },
    {
     "name": "stderr",
     "output_type": "stream",
     "text": [
      "[*********************100%***********************]  1 of 1 completed\n"
     ]
    },
    {
     "name": "stdout",
     "output_type": "stream",
     "text": [
      "Téléchargement des données pour WMB de 2025-09-27 00:00:00 à 2025-10-01 00:00:00\n"
     ]
    },
    {
     "name": "stderr",
     "output_type": "stream",
     "text": [
      "[*********************100%***********************]  1 of 1 completed\n"
     ]
    },
    {
     "name": "stdout",
     "output_type": "stream",
     "text": [
      "Téléchargement des données pour WMT de 2025-09-27 00:00:00 à 2025-10-01 00:00:00\n"
     ]
    },
    {
     "name": "stderr",
     "output_type": "stream",
     "text": [
      "[*********************100%***********************]  1 of 1 completed\n"
     ]
    },
    {
     "name": "stdout",
     "output_type": "stream",
     "text": [
      "Téléchargement des données pour WRB de 2025-09-27 00:00:00 à 2025-10-01 00:00:00\n"
     ]
    },
    {
     "name": "stderr",
     "output_type": "stream",
     "text": [
      "[*********************100%***********************]  1 of 1 completed\n"
     ]
    },
    {
     "name": "stdout",
     "output_type": "stream",
     "text": [
      "Téléchargement des données pour WSM de 2025-09-27 00:00:00 à 2025-10-01 00:00:00\n"
     ]
    },
    {
     "name": "stderr",
     "output_type": "stream",
     "text": [
      "[*********************100%***********************]  1 of 1 completed\n"
     ]
    },
    {
     "name": "stdout",
     "output_type": "stream",
     "text": [
      "Téléchargement des données pour WST de 2025-09-27 00:00:00 à 2025-10-01 00:00:00\n"
     ]
    },
    {
     "name": "stderr",
     "output_type": "stream",
     "text": [
      "[*********************100%***********************]  1 of 1 completed\n"
     ]
    },
    {
     "name": "stdout",
     "output_type": "stream",
     "text": [
      "Téléchargement des données pour WTW de 2025-09-27 00:00:00 à 2025-10-01 00:00:00\n"
     ]
    },
    {
     "name": "stderr",
     "output_type": "stream",
     "text": [
      "[*********************100%***********************]  1 of 1 completed\n"
     ]
    },
    {
     "name": "stdout",
     "output_type": "stream",
     "text": [
      "Téléchargement des données pour WY de 2025-09-27 00:00:00 à 2025-10-01 00:00:00\n"
     ]
    },
    {
     "name": "stderr",
     "output_type": "stream",
     "text": [
      "[*********************100%***********************]  1 of 1 completed\n"
     ]
    },
    {
     "name": "stdout",
     "output_type": "stream",
     "text": [
      "Téléchargement des données pour WYNN de 2025-09-27 00:00:00 à 2025-10-01 00:00:00\n"
     ]
    },
    {
     "name": "stderr",
     "output_type": "stream",
     "text": [
      "[*********************100%***********************]  1 of 1 completed\n"
     ]
    },
    {
     "name": "stdout",
     "output_type": "stream",
     "text": [
      "Téléchargement des données pour XEL de 2025-09-27 00:00:00 à 2025-10-01 00:00:00\n"
     ]
    },
    {
     "name": "stderr",
     "output_type": "stream",
     "text": [
      "[*********************100%***********************]  1 of 1 completed\n"
     ]
    },
    {
     "name": "stdout",
     "output_type": "stream",
     "text": [
      "Téléchargement des données pour XOM de 2025-09-27 00:00:00 à 2025-10-01 00:00:00\n"
     ]
    },
    {
     "name": "stderr",
     "output_type": "stream",
     "text": [
      "[*********************100%***********************]  1 of 1 completed\n"
     ]
    },
    {
     "name": "stdout",
     "output_type": "stream",
     "text": [
      "Téléchargement des données pour XYL de 2025-09-27 00:00:00 à 2025-10-01 00:00:00\n"
     ]
    },
    {
     "name": "stderr",
     "output_type": "stream",
     "text": [
      "[*********************100%***********************]  1 of 1 completed\n"
     ]
    },
    {
     "name": "stdout",
     "output_type": "stream",
     "text": [
      "Téléchargement des données pour XYZ de 2025-09-27 00:00:00 à 2025-10-01 00:00:00\n"
     ]
    },
    {
     "name": "stderr",
     "output_type": "stream",
     "text": [
      "[*********************100%***********************]  1 of 1 completed\n"
     ]
    },
    {
     "name": "stdout",
     "output_type": "stream",
     "text": [
      "Téléchargement des données pour YUM de 2025-09-27 00:00:00 à 2025-10-01 00:00:00\n"
     ]
    },
    {
     "name": "stderr",
     "output_type": "stream",
     "text": [
      "[*********************100%***********************]  1 of 1 completed\n"
     ]
    },
    {
     "name": "stdout",
     "output_type": "stream",
     "text": [
      "Téléchargement des données pour ZBH de 2025-09-27 00:00:00 à 2025-10-01 00:00:00\n"
     ]
    },
    {
     "name": "stderr",
     "output_type": "stream",
     "text": [
      "[*********************100%***********************]  1 of 1 completed\n"
     ]
    },
    {
     "name": "stdout",
     "output_type": "stream",
     "text": [
      "Téléchargement des données pour ZBRA de 2025-09-27 00:00:00 à 2025-10-01 00:00:00\n"
     ]
    },
    {
     "name": "stderr",
     "output_type": "stream",
     "text": [
      "[*********************100%***********************]  1 of 1 completed\n"
     ]
    },
    {
     "name": "stdout",
     "output_type": "stream",
     "text": [
      "Téléchargement des données pour ZTS de 2025-09-27 00:00:00 à 2025-10-01 00:00:00\n"
     ]
    },
    {
     "name": "stderr",
     "output_type": "stream",
     "text": [
      "[*********************100%***********************]  1 of 1 completed\n"
     ]
    },
    {
     "data": {
      "text/plain": [
       "Price            Close        High         Low        Open      Volume Ticker  \\\n",
       "Date                                                                            \n",
       "2025-09-29  123.501999  123.981040  122.324363  123.511981   1486100.0      A   \n",
       "2025-09-30  128.350006  128.389999  123.010002  123.419998   2417900.0      A   \n",
       "2025-09-29  254.429993  255.000000  253.009995  254.559998  40127700.0   AAPL   \n",
       "2025-09-30  254.630005  255.919998  253.110001  254.860001  37666900.0   AAPL   \n",
       "2025-09-29  223.160004  223.240005  219.789993  220.750000   4958400.0   ABBV   \n",
       "...                ...         ...         ...         ...         ...    ...   \n",
       "2025-09-30   98.500000   98.669998   97.519997   97.949997   1188300.0    ZBH   \n",
       "2025-09-29  296.920013  303.779999  296.700012  302.750000    482300.0   ZBRA   \n",
       "2025-09-30  297.160004  298.709991  292.089996  294.929993    500700.0   ZBRA   \n",
       "2025-09-29  143.059998  144.149994  142.500000  143.860001   2870100.0    ZTS   \n",
       "2025-09-30  146.320007  147.000000  142.399994  142.889999   3736800.0    ZTS   \n",
       "\n",
       "Price       Adj Close  \n",
       "Date                   \n",
       "2025-09-29        NaN  \n",
       "2025-09-30        NaN  \n",
       "2025-09-29        NaN  \n",
       "2025-09-30        NaN  \n",
       "2025-09-29        NaN  \n",
       "...               ...  \n",
       "2025-09-30        NaN  \n",
       "2025-09-29        NaN  \n",
       "2025-09-30        NaN  \n",
       "2025-09-29        NaN  \n",
       "2025-09-30        NaN  \n",
       "\n",
       "[1000 rows x 7 columns]"
      ],
      "text/html": [
       "<div>\n",
       "<style scoped>\n",
       "    .dataframe tbody tr th:only-of-type {\n",
       "        vertical-align: middle;\n",
       "    }\n",
       "\n",
       "    .dataframe tbody tr th {\n",
       "        vertical-align: top;\n",
       "    }\n",
       "\n",
       "    .dataframe thead th {\n",
       "        text-align: right;\n",
       "    }\n",
       "</style>\n",
       "<table border=\"1\" class=\"dataframe\">\n",
       "  <thead>\n",
       "    <tr style=\"text-align: right;\">\n",
       "      <th>Price</th>\n",
       "      <th>Close</th>\n",
       "      <th>High</th>\n",
       "      <th>Low</th>\n",
       "      <th>Open</th>\n",
       "      <th>Volume</th>\n",
       "      <th>Ticker</th>\n",
       "      <th>Adj Close</th>\n",
       "    </tr>\n",
       "    <tr>\n",
       "      <th>Date</th>\n",
       "      <th></th>\n",
       "      <th></th>\n",
       "      <th></th>\n",
       "      <th></th>\n",
       "      <th></th>\n",
       "      <th></th>\n",
       "      <th></th>\n",
       "    </tr>\n",
       "  </thead>\n",
       "  <tbody>\n",
       "    <tr>\n",
       "      <th>2025-09-29</th>\n",
       "      <td>123.501999</td>\n",
       "      <td>123.981040</td>\n",
       "      <td>122.324363</td>\n",
       "      <td>123.511981</td>\n",
       "      <td>1486100.0</td>\n",
       "      <td>A</td>\n",
       "      <td>NaN</td>\n",
       "    </tr>\n",
       "    <tr>\n",
       "      <th>2025-09-30</th>\n",
       "      <td>128.350006</td>\n",
       "      <td>128.389999</td>\n",
       "      <td>123.010002</td>\n",
       "      <td>123.419998</td>\n",
       "      <td>2417900.0</td>\n",
       "      <td>A</td>\n",
       "      <td>NaN</td>\n",
       "    </tr>\n",
       "    <tr>\n",
       "      <th>2025-09-29</th>\n",
       "      <td>254.429993</td>\n",
       "      <td>255.000000</td>\n",
       "      <td>253.009995</td>\n",
       "      <td>254.559998</td>\n",
       "      <td>40127700.0</td>\n",
       "      <td>AAPL</td>\n",
       "      <td>NaN</td>\n",
       "    </tr>\n",
       "    <tr>\n",
       "      <th>2025-09-30</th>\n",
       "      <td>254.630005</td>\n",
       "      <td>255.919998</td>\n",
       "      <td>253.110001</td>\n",
       "      <td>254.860001</td>\n",
       "      <td>37666900.0</td>\n",
       "      <td>AAPL</td>\n",
       "      <td>NaN</td>\n",
       "    </tr>\n",
       "    <tr>\n",
       "      <th>2025-09-29</th>\n",
       "      <td>223.160004</td>\n",
       "      <td>223.240005</td>\n",
       "      <td>219.789993</td>\n",
       "      <td>220.750000</td>\n",
       "      <td>4958400.0</td>\n",
       "      <td>ABBV</td>\n",
       "      <td>NaN</td>\n",
       "    </tr>\n",
       "    <tr>\n",
       "      <th>...</th>\n",
       "      <td>...</td>\n",
       "      <td>...</td>\n",
       "      <td>...</td>\n",
       "      <td>...</td>\n",
       "      <td>...</td>\n",
       "      <td>...</td>\n",
       "      <td>...</td>\n",
       "    </tr>\n",
       "    <tr>\n",
       "      <th>2025-09-30</th>\n",
       "      <td>98.500000</td>\n",
       "      <td>98.669998</td>\n",
       "      <td>97.519997</td>\n",
       "      <td>97.949997</td>\n",
       "      <td>1188300.0</td>\n",
       "      <td>ZBH</td>\n",
       "      <td>NaN</td>\n",
       "    </tr>\n",
       "    <tr>\n",
       "      <th>2025-09-29</th>\n",
       "      <td>296.920013</td>\n",
       "      <td>303.779999</td>\n",
       "      <td>296.700012</td>\n",
       "      <td>302.750000</td>\n",
       "      <td>482300.0</td>\n",
       "      <td>ZBRA</td>\n",
       "      <td>NaN</td>\n",
       "    </tr>\n",
       "    <tr>\n",
       "      <th>2025-09-30</th>\n",
       "      <td>297.160004</td>\n",
       "      <td>298.709991</td>\n",
       "      <td>292.089996</td>\n",
       "      <td>294.929993</td>\n",
       "      <td>500700.0</td>\n",
       "      <td>ZBRA</td>\n",
       "      <td>NaN</td>\n",
       "    </tr>\n",
       "    <tr>\n",
       "      <th>2025-09-29</th>\n",
       "      <td>143.059998</td>\n",
       "      <td>144.149994</td>\n",
       "      <td>142.500000</td>\n",
       "      <td>143.860001</td>\n",
       "      <td>2870100.0</td>\n",
       "      <td>ZTS</td>\n",
       "      <td>NaN</td>\n",
       "    </tr>\n",
       "    <tr>\n",
       "      <th>2025-09-30</th>\n",
       "      <td>146.320007</td>\n",
       "      <td>147.000000</td>\n",
       "      <td>142.399994</td>\n",
       "      <td>142.889999</td>\n",
       "      <td>3736800.0</td>\n",
       "      <td>ZTS</td>\n",
       "      <td>NaN</td>\n",
       "    </tr>\n",
       "  </tbody>\n",
       "</table>\n",
       "<p>1000 rows × 7 columns</p>\n",
       "</div>"
      ]
     },
     "execution_count": 15,
     "metadata": {},
     "output_type": "execute_result"
    }
   ],
   "execution_count": 15
  },
  {
   "metadata": {
    "ExecuteTime": {
     "end_time": "2025-10-01T13:46:32.528103Z",
     "start_time": "2025-10-01T13:46:32.518686Z"
    }
   },
   "cell_type": "code",
   "source": [
    "data_SP500 = data_SP500.reset_index()\n",
    "data_SP500"
   ],
   "id": "54fdf214b890458f",
   "outputs": [
    {
     "data": {
      "text/plain": [
       "Price       Date       Close        High         Low        Open      Volume  \\\n",
       "0     2025-09-29  123.501999  123.981040  122.324363  123.511981   1486100.0   \n",
       "1     2025-09-30  128.350006  128.389999  123.010002  123.419998   2417900.0   \n",
       "2     2025-09-29  254.429993  255.000000  253.009995  254.559998  40127700.0   \n",
       "3     2025-09-30  254.630005  255.919998  253.110001  254.860001  37666900.0   \n",
       "4     2025-09-29  223.160004  223.240005  219.789993  220.750000   4958400.0   \n",
       "..           ...         ...         ...         ...         ...         ...   \n",
       "995   2025-09-30   98.500000   98.669998   97.519997   97.949997   1188300.0   \n",
       "996   2025-09-29  296.920013  303.779999  296.700012  302.750000    482300.0   \n",
       "997   2025-09-30  297.160004  298.709991  292.089996  294.929993    500700.0   \n",
       "998   2025-09-29  143.059998  144.149994  142.500000  143.860001   2870100.0   \n",
       "999   2025-09-30  146.320007  147.000000  142.399994  142.889999   3736800.0   \n",
       "\n",
       "Price Ticker  Adj Close  \n",
       "0          A        NaN  \n",
       "1          A        NaN  \n",
       "2       AAPL        NaN  \n",
       "3       AAPL        NaN  \n",
       "4       ABBV        NaN  \n",
       "..       ...        ...  \n",
       "995      ZBH        NaN  \n",
       "996     ZBRA        NaN  \n",
       "997     ZBRA        NaN  \n",
       "998      ZTS        NaN  \n",
       "999      ZTS        NaN  \n",
       "\n",
       "[1000 rows x 8 columns]"
      ],
      "text/html": [
       "<div>\n",
       "<style scoped>\n",
       "    .dataframe tbody tr th:only-of-type {\n",
       "        vertical-align: middle;\n",
       "    }\n",
       "\n",
       "    .dataframe tbody tr th {\n",
       "        vertical-align: top;\n",
       "    }\n",
       "\n",
       "    .dataframe thead th {\n",
       "        text-align: right;\n",
       "    }\n",
       "</style>\n",
       "<table border=\"1\" class=\"dataframe\">\n",
       "  <thead>\n",
       "    <tr style=\"text-align: right;\">\n",
       "      <th>Price</th>\n",
       "      <th>Date</th>\n",
       "      <th>Close</th>\n",
       "      <th>High</th>\n",
       "      <th>Low</th>\n",
       "      <th>Open</th>\n",
       "      <th>Volume</th>\n",
       "      <th>Ticker</th>\n",
       "      <th>Adj Close</th>\n",
       "    </tr>\n",
       "  </thead>\n",
       "  <tbody>\n",
       "    <tr>\n",
       "      <th>0</th>\n",
       "      <td>2025-09-29</td>\n",
       "      <td>123.501999</td>\n",
       "      <td>123.981040</td>\n",
       "      <td>122.324363</td>\n",
       "      <td>123.511981</td>\n",
       "      <td>1486100.0</td>\n",
       "      <td>A</td>\n",
       "      <td>NaN</td>\n",
       "    </tr>\n",
       "    <tr>\n",
       "      <th>1</th>\n",
       "      <td>2025-09-30</td>\n",
       "      <td>128.350006</td>\n",
       "      <td>128.389999</td>\n",
       "      <td>123.010002</td>\n",
       "      <td>123.419998</td>\n",
       "      <td>2417900.0</td>\n",
       "      <td>A</td>\n",
       "      <td>NaN</td>\n",
       "    </tr>\n",
       "    <tr>\n",
       "      <th>2</th>\n",
       "      <td>2025-09-29</td>\n",
       "      <td>254.429993</td>\n",
       "      <td>255.000000</td>\n",
       "      <td>253.009995</td>\n",
       "      <td>254.559998</td>\n",
       "      <td>40127700.0</td>\n",
       "      <td>AAPL</td>\n",
       "      <td>NaN</td>\n",
       "    </tr>\n",
       "    <tr>\n",
       "      <th>3</th>\n",
       "      <td>2025-09-30</td>\n",
       "      <td>254.630005</td>\n",
       "      <td>255.919998</td>\n",
       "      <td>253.110001</td>\n",
       "      <td>254.860001</td>\n",
       "      <td>37666900.0</td>\n",
       "      <td>AAPL</td>\n",
       "      <td>NaN</td>\n",
       "    </tr>\n",
       "    <tr>\n",
       "      <th>4</th>\n",
       "      <td>2025-09-29</td>\n",
       "      <td>223.160004</td>\n",
       "      <td>223.240005</td>\n",
       "      <td>219.789993</td>\n",
       "      <td>220.750000</td>\n",
       "      <td>4958400.0</td>\n",
       "      <td>ABBV</td>\n",
       "      <td>NaN</td>\n",
       "    </tr>\n",
       "    <tr>\n",
       "      <th>...</th>\n",
       "      <td>...</td>\n",
       "      <td>...</td>\n",
       "      <td>...</td>\n",
       "      <td>...</td>\n",
       "      <td>...</td>\n",
       "      <td>...</td>\n",
       "      <td>...</td>\n",
       "      <td>...</td>\n",
       "    </tr>\n",
       "    <tr>\n",
       "      <th>995</th>\n",
       "      <td>2025-09-30</td>\n",
       "      <td>98.500000</td>\n",
       "      <td>98.669998</td>\n",
       "      <td>97.519997</td>\n",
       "      <td>97.949997</td>\n",
       "      <td>1188300.0</td>\n",
       "      <td>ZBH</td>\n",
       "      <td>NaN</td>\n",
       "    </tr>\n",
       "    <tr>\n",
       "      <th>996</th>\n",
       "      <td>2025-09-29</td>\n",
       "      <td>296.920013</td>\n",
       "      <td>303.779999</td>\n",
       "      <td>296.700012</td>\n",
       "      <td>302.750000</td>\n",
       "      <td>482300.0</td>\n",
       "      <td>ZBRA</td>\n",
       "      <td>NaN</td>\n",
       "    </tr>\n",
       "    <tr>\n",
       "      <th>997</th>\n",
       "      <td>2025-09-30</td>\n",
       "      <td>297.160004</td>\n",
       "      <td>298.709991</td>\n",
       "      <td>292.089996</td>\n",
       "      <td>294.929993</td>\n",
       "      <td>500700.0</td>\n",
       "      <td>ZBRA</td>\n",
       "      <td>NaN</td>\n",
       "    </tr>\n",
       "    <tr>\n",
       "      <th>998</th>\n",
       "      <td>2025-09-29</td>\n",
       "      <td>143.059998</td>\n",
       "      <td>144.149994</td>\n",
       "      <td>142.500000</td>\n",
       "      <td>143.860001</td>\n",
       "      <td>2870100.0</td>\n",
       "      <td>ZTS</td>\n",
       "      <td>NaN</td>\n",
       "    </tr>\n",
       "    <tr>\n",
       "      <th>999</th>\n",
       "      <td>2025-09-30</td>\n",
       "      <td>146.320007</td>\n",
       "      <td>147.000000</td>\n",
       "      <td>142.399994</td>\n",
       "      <td>142.889999</td>\n",
       "      <td>3736800.0</td>\n",
       "      <td>ZTS</td>\n",
       "      <td>NaN</td>\n",
       "    </tr>\n",
       "  </tbody>\n",
       "</table>\n",
       "<p>1000 rows × 8 columns</p>\n",
       "</div>"
      ]
     },
     "execution_count": 16,
     "metadata": {},
     "output_type": "execute_result"
    }
   ],
   "execution_count": 16
  },
  {
   "metadata": {
    "ExecuteTime": {
     "end_time": "2025-10-01T13:46:32.919774Z",
     "start_time": "2025-10-01T13:46:32.866405Z"
    }
   },
   "cell_type": "code",
   "source": [
    "df_concat = pd.concat([data_SP500, data_SP500_old])\n",
    "df_concat"
   ],
   "id": "98ab86e6f982813f",
   "outputs": [
    {
     "data": {
      "text/plain": [
       "Price       Date       Close        High         Low        Open      Volume  \\\n",
       "0     2025-09-29  123.501999  123.981040  122.324363  123.511981   1486100.0   \n",
       "1     2025-09-30  128.350006  128.389999  123.010002  123.419998   2417900.0   \n",
       "2     2025-09-29  254.429993  255.000000  253.009995  254.559998  40127700.0   \n",
       "3     2025-09-30  254.630005  255.919998  253.110001  254.860001  37666900.0   \n",
       "4     2025-09-29  223.160004  223.240005  219.789993  220.750000   4958400.0   \n",
       "..           ...         ...         ...         ...         ...         ...   \n",
       "551   2025-09-26  184.899994  185.850006  181.440002  183.350006    838200.0   \n",
       "549   2025-09-26  100.300003  100.570000   99.650002   99.650002    702500.0   \n",
       "547   2025-09-26   16.420000   16.559999   16.070000   16.420000  51639900.0   \n",
       "543   2025-09-26   65.669998   66.330002   65.500000   66.070000  17810700.0   \n",
       "499   2025-09-26  100.930000  101.959999  100.449997  101.000000   1117200.0   \n",
       "\n",
       "Price Ticker  Adj Close  \n",
       "0          A        NaN  \n",
       "1          A        NaN  \n",
       "2       AAPL        NaN  \n",
       "3       AAPL        NaN  \n",
       "4       ABBV        NaN  \n",
       "..       ...        ...  \n",
       "551     LDOS        NaN  \n",
       "549        L        NaN  \n",
       "547     KVUE        NaN  \n",
       "543       KO        NaN  \n",
       "499      IRM        NaN  \n",
       "\n",
       "[3821687 rows x 8 columns]"
      ],
      "text/html": [
       "<div>\n",
       "<style scoped>\n",
       "    .dataframe tbody tr th:only-of-type {\n",
       "        vertical-align: middle;\n",
       "    }\n",
       "\n",
       "    .dataframe tbody tr th {\n",
       "        vertical-align: top;\n",
       "    }\n",
       "\n",
       "    .dataframe thead th {\n",
       "        text-align: right;\n",
       "    }\n",
       "</style>\n",
       "<table border=\"1\" class=\"dataframe\">\n",
       "  <thead>\n",
       "    <tr style=\"text-align: right;\">\n",
       "      <th>Price</th>\n",
       "      <th>Date</th>\n",
       "      <th>Close</th>\n",
       "      <th>High</th>\n",
       "      <th>Low</th>\n",
       "      <th>Open</th>\n",
       "      <th>Volume</th>\n",
       "      <th>Ticker</th>\n",
       "      <th>Adj Close</th>\n",
       "    </tr>\n",
       "  </thead>\n",
       "  <tbody>\n",
       "    <tr>\n",
       "      <th>0</th>\n",
       "      <td>2025-09-29</td>\n",
       "      <td>123.501999</td>\n",
       "      <td>123.981040</td>\n",
       "      <td>122.324363</td>\n",
       "      <td>123.511981</td>\n",
       "      <td>1486100.0</td>\n",
       "      <td>A</td>\n",
       "      <td>NaN</td>\n",
       "    </tr>\n",
       "    <tr>\n",
       "      <th>1</th>\n",
       "      <td>2025-09-30</td>\n",
       "      <td>128.350006</td>\n",
       "      <td>128.389999</td>\n",
       "      <td>123.010002</td>\n",
       "      <td>123.419998</td>\n",
       "      <td>2417900.0</td>\n",
       "      <td>A</td>\n",
       "      <td>NaN</td>\n",
       "    </tr>\n",
       "    <tr>\n",
       "      <th>2</th>\n",
       "      <td>2025-09-29</td>\n",
       "      <td>254.429993</td>\n",
       "      <td>255.000000</td>\n",
       "      <td>253.009995</td>\n",
       "      <td>254.559998</td>\n",
       "      <td>40127700.0</td>\n",
       "      <td>AAPL</td>\n",
       "      <td>NaN</td>\n",
       "    </tr>\n",
       "    <tr>\n",
       "      <th>3</th>\n",
       "      <td>2025-09-30</td>\n",
       "      <td>254.630005</td>\n",
       "      <td>255.919998</td>\n",
       "      <td>253.110001</td>\n",
       "      <td>254.860001</td>\n",
       "      <td>37666900.0</td>\n",
       "      <td>AAPL</td>\n",
       "      <td>NaN</td>\n",
       "    </tr>\n",
       "    <tr>\n",
       "      <th>4</th>\n",
       "      <td>2025-09-29</td>\n",
       "      <td>223.160004</td>\n",
       "      <td>223.240005</td>\n",
       "      <td>219.789993</td>\n",
       "      <td>220.750000</td>\n",
       "      <td>4958400.0</td>\n",
       "      <td>ABBV</td>\n",
       "      <td>NaN</td>\n",
       "    </tr>\n",
       "    <tr>\n",
       "      <th>...</th>\n",
       "      <td>...</td>\n",
       "      <td>...</td>\n",
       "      <td>...</td>\n",
       "      <td>...</td>\n",
       "      <td>...</td>\n",
       "      <td>...</td>\n",
       "      <td>...</td>\n",
       "      <td>...</td>\n",
       "    </tr>\n",
       "    <tr>\n",
       "      <th>551</th>\n",
       "      <td>2025-09-26</td>\n",
       "      <td>184.899994</td>\n",
       "      <td>185.850006</td>\n",
       "      <td>181.440002</td>\n",
       "      <td>183.350006</td>\n",
       "      <td>838200.0</td>\n",
       "      <td>LDOS</td>\n",
       "      <td>NaN</td>\n",
       "    </tr>\n",
       "    <tr>\n",
       "      <th>549</th>\n",
       "      <td>2025-09-26</td>\n",
       "      <td>100.300003</td>\n",
       "      <td>100.570000</td>\n",
       "      <td>99.650002</td>\n",
       "      <td>99.650002</td>\n",
       "      <td>702500.0</td>\n",
       "      <td>L</td>\n",
       "      <td>NaN</td>\n",
       "    </tr>\n",
       "    <tr>\n",
       "      <th>547</th>\n",
       "      <td>2025-09-26</td>\n",
       "      <td>16.420000</td>\n",
       "      <td>16.559999</td>\n",
       "      <td>16.070000</td>\n",
       "      <td>16.420000</td>\n",
       "      <td>51639900.0</td>\n",
       "      <td>KVUE</td>\n",
       "      <td>NaN</td>\n",
       "    </tr>\n",
       "    <tr>\n",
       "      <th>543</th>\n",
       "      <td>2025-09-26</td>\n",
       "      <td>65.669998</td>\n",
       "      <td>66.330002</td>\n",
       "      <td>65.500000</td>\n",
       "      <td>66.070000</td>\n",
       "      <td>17810700.0</td>\n",
       "      <td>KO</td>\n",
       "      <td>NaN</td>\n",
       "    </tr>\n",
       "    <tr>\n",
       "      <th>499</th>\n",
       "      <td>2025-09-26</td>\n",
       "      <td>100.930000</td>\n",
       "      <td>101.959999</td>\n",
       "      <td>100.449997</td>\n",
       "      <td>101.000000</td>\n",
       "      <td>1117200.0</td>\n",
       "      <td>IRM</td>\n",
       "      <td>NaN</td>\n",
       "    </tr>\n",
       "  </tbody>\n",
       "</table>\n",
       "<p>3821687 rows × 8 columns</p>\n",
       "</div>"
      ]
     },
     "execution_count": 17,
     "metadata": {},
     "output_type": "execute_result"
    }
   ],
   "execution_count": 17
  },
  {
   "metadata": {
    "ExecuteTime": {
     "end_time": "2025-10-01T13:46:33.105185Z",
     "start_time": "2025-10-01T13:46:32.948249Z"
    }
   },
   "cell_type": "code",
   "source": [
    "df_concat.sort_values(by=['Date'], ascending=True, inplace=True)\n",
    "df_concat.tail(50)"
   ],
   "id": "600040841afb92f6",
   "outputs": [
    {
     "data": {
      "text/plain": [
       "Price       Date        Close         High          Low         Open  \\\n",
       "641   2025-09-30   567.409973   571.869995   562.859985   566.640015   \n",
       "639   2025-09-30   158.960007   162.229996   156.839996   161.389999   \n",
       "637   2025-09-30    25.830000    26.010000    24.559999    25.100000   \n",
       "635   2025-09-30    83.930000    84.000000    78.400002    78.419998   \n",
       "633   2025-09-30   920.640015   929.500000   894.380005   898.159973   \n",
       "631   2025-09-30   192.740005   195.639999   191.289993   194.779999   \n",
       "627   2025-09-30   191.360001   195.559998   191.179993   192.929993   \n",
       "667   2025-09-30    43.299999    43.500000    42.970001    43.290001   \n",
       "585   2025-09-30   163.399994   168.110001   163.380005   165.270004   \n",
       "581   2025-09-30    58.080002    60.599998    56.540001    59.410000   \n",
       "537   2025-09-30   124.339996   124.709999   122.180000   122.510002   \n",
       "535   2025-09-30  1078.599976  1079.869995  1057.069946  1063.800049   \n",
       "533   2025-09-30   129.949997   135.529999   126.570000   134.669998   \n",
       "531   2025-09-30    21.850000    21.870001    21.629999    21.670000   \n",
       "529   2025-09-30    26.040001    26.129999    25.496000    25.709999   \n",
       "527   2025-09-30   174.919998   175.210007   173.264999   173.649994   \n",
       "525   2025-09-30    18.690001    19.000000    18.299999    18.940001   \n",
       "523   2025-09-30    25.510000    25.730000    25.420000    25.650000   \n",
       "521   2025-09-30   315.429993   317.410004   310.109985   316.250000   \n",
       "519   2025-09-30   185.419998   185.990005   181.070007   181.699997   \n",
       "517   2025-09-30   148.929993   150.580002   147.589996   150.410004   \n",
       "515   2025-09-30   109.949997   110.010002   108.220001   108.400002   \n",
       "513   2025-09-30   217.169998   218.949997   213.419998   215.039993   \n",
       "511   2025-09-30   134.169998   134.529999   131.710007   134.020004   \n",
       "509   2025-09-30   149.860001   150.270004   147.520004   148.460007   \n",
       "507   2025-09-30    22.940001    23.200001    22.570000    23.000000   \n",
       "505   2025-09-30   260.760010   261.640015   258.390015   259.070007   \n",
       "539   2025-09-30    28.309999    28.480000    28.200001    28.280001   \n",
       "583   2025-09-30    49.040001    49.049999    48.130001    48.849998   \n",
       "541   2025-09-30    44.869999    45.470001    44.480000    45.090000   \n",
       "545   2025-09-30    67.410004    67.459999    66.199997    66.279999   \n",
       "579   2025-09-30    53.790001    55.240002    53.389999    55.240002   \n",
       "577   2025-09-30    31.910000    32.889999    30.770000    32.830002   \n",
       "575   2025-09-30   177.929993   180.089996   176.490005   178.529999   \n",
       "573   2025-09-30   133.899994   134.210007   130.809998   131.350006   \n",
       "571   2025-09-30   251.309998   253.600006   249.630005   252.809998   \n",
       "569   2025-09-30    67.410004    67.540001    66.449997    66.599998   \n",
       "567   2025-09-30   499.209991   499.890015   491.140015   492.579987   \n",
       "565   2025-09-30   763.000000   766.349976   725.309998   726.960022   \n",
       "563   2025-09-30    30.540001    30.559999    30.150000    30.379999   \n",
       "561   2025-09-30   475.000000   478.779999   473.230011   473.700012   \n",
       "559   2025-09-30   529.359985   534.900024   519.349976   519.349976   \n",
       "557   2025-09-30   305.410004   305.940002   297.559998   297.559998   \n",
       "555   2025-09-30   287.059998   288.359985   282.859985   284.880005   \n",
       "553   2025-09-30   126.040001   127.879997   124.500000   127.510002   \n",
       "551   2025-09-30   188.960007   189.740005   186.059998   186.210007   \n",
       "549   2025-09-30   100.389999   100.699997    99.620003    99.709999   \n",
       "547   2025-09-30    16.230000    16.520000    16.160000    16.360001   \n",
       "543   2025-09-30    66.320000    66.639999    65.959999    66.070000   \n",
       "499   2025-09-30   101.940002   102.160004   100.470001   100.760002   \n",
       "\n",
       "Price      Volume Ticker  Adj Close  \n",
       "641      460700.0   MSCI        NaN  \n",
       "639     5545300.0     MS        NaN  \n",
       "637     9610700.0   MRNA        NaN  \n",
       "635    21629600.0    MRK        NaN  \n",
       "633      505700.0   MPWR        NaN  \n",
       "631     1532100.0    MPC        NaN  \n",
       "627      796000.0    MOH        NaN  \n",
       "667     3803300.0     NI        NaN  \n",
       "585     6747200.0    LYV        NaN  \n",
       "581     6313700.0     LW        NaN  \n",
       "537     2044300.0    KMB        NaN  \n",
       "535      886300.0   KLAC        NaN  \n",
       "533     7781600.0    KKR        NaN  \n",
       "531     2970700.0    KIM        NaN  \n",
       "529    23474900.0    KHC        NaN  \n",
       "527      718300.0   KEYS        NaN  \n",
       "525    30419400.0    KEY        NaN  \n",
       "523    17952100.0    KDP        NaN  \n",
       "521    11822800.0    JPM        NaN  \n",
       "519    11567800.0    JNJ        NaN  \n",
       "517      947200.0   JKHY        NaN  \n",
       "515     3341100.0    JCI        NaN  \n",
       "513     1212400.0    JBL        NaN  \n",
       "511     1085300.0   JBHT        NaN  \n",
       "509      915100.0      J        NaN  \n",
       "507     4944500.0    IVZ        NaN  \n",
       "505     1097800.0    ITW        NaN  \n",
       "539    16455800.0    KMI        NaN  \n",
       "583     4708100.0    LYB        NaN  \n",
       "541     5205600.0    KMX        NaN  \n",
       "545     7566300.0     KR        NaN  \n",
       "579     4110900.0    LVS        NaN  \n",
       "577    10281800.0    LUV        NaN  \n",
       "575     3412700.0   LULU        NaN  \n",
       "573    10325700.0   LRCX        NaN  \n",
       "571     3114400.0    LOW        NaN  \n",
       "569     1663600.0    LNT        NaN  \n",
       "567     1311800.0    LMT        NaN  \n",
       "565     6229100.0    LLY        NaN  \n",
       "563     3393000.0    LKQ        NaN  \n",
       "561     2171200.0    LIN        NaN  \n",
       "559      666000.0    LII        NaN  \n",
       "557     1332600.0    LHX        NaN  \n",
       "555      612100.0     LH        NaN  \n",
       "553     2435300.0    LEN        NaN  \n",
       "551      844400.0   LDOS        NaN  \n",
       "549      671700.0      L        NaN  \n",
       "547    37945700.0   KVUE        NaN  \n",
       "543    13809400.0     KO        NaN  \n",
       "499     1295000.0    IRM        NaN  "
      ],
      "text/html": [
       "<div>\n",
       "<style scoped>\n",
       "    .dataframe tbody tr th:only-of-type {\n",
       "        vertical-align: middle;\n",
       "    }\n",
       "\n",
       "    .dataframe tbody tr th {\n",
       "        vertical-align: top;\n",
       "    }\n",
       "\n",
       "    .dataframe thead th {\n",
       "        text-align: right;\n",
       "    }\n",
       "</style>\n",
       "<table border=\"1\" class=\"dataframe\">\n",
       "  <thead>\n",
       "    <tr style=\"text-align: right;\">\n",
       "      <th>Price</th>\n",
       "      <th>Date</th>\n",
       "      <th>Close</th>\n",
       "      <th>High</th>\n",
       "      <th>Low</th>\n",
       "      <th>Open</th>\n",
       "      <th>Volume</th>\n",
       "      <th>Ticker</th>\n",
       "      <th>Adj Close</th>\n",
       "    </tr>\n",
       "  </thead>\n",
       "  <tbody>\n",
       "    <tr>\n",
       "      <th>641</th>\n",
       "      <td>2025-09-30</td>\n",
       "      <td>567.409973</td>\n",
       "      <td>571.869995</td>\n",
       "      <td>562.859985</td>\n",
       "      <td>566.640015</td>\n",
       "      <td>460700.0</td>\n",
       "      <td>MSCI</td>\n",
       "      <td>NaN</td>\n",
       "    </tr>\n",
       "    <tr>\n",
       "      <th>639</th>\n",
       "      <td>2025-09-30</td>\n",
       "      <td>158.960007</td>\n",
       "      <td>162.229996</td>\n",
       "      <td>156.839996</td>\n",
       "      <td>161.389999</td>\n",
       "      <td>5545300.0</td>\n",
       "      <td>MS</td>\n",
       "      <td>NaN</td>\n",
       "    </tr>\n",
       "    <tr>\n",
       "      <th>637</th>\n",
       "      <td>2025-09-30</td>\n",
       "      <td>25.830000</td>\n",
       "      <td>26.010000</td>\n",
       "      <td>24.559999</td>\n",
       "      <td>25.100000</td>\n",
       "      <td>9610700.0</td>\n",
       "      <td>MRNA</td>\n",
       "      <td>NaN</td>\n",
       "    </tr>\n",
       "    <tr>\n",
       "      <th>635</th>\n",
       "      <td>2025-09-30</td>\n",
       "      <td>83.930000</td>\n",
       "      <td>84.000000</td>\n",
       "      <td>78.400002</td>\n",
       "      <td>78.419998</td>\n",
       "      <td>21629600.0</td>\n",
       "      <td>MRK</td>\n",
       "      <td>NaN</td>\n",
       "    </tr>\n",
       "    <tr>\n",
       "      <th>633</th>\n",
       "      <td>2025-09-30</td>\n",
       "      <td>920.640015</td>\n",
       "      <td>929.500000</td>\n",
       "      <td>894.380005</td>\n",
       "      <td>898.159973</td>\n",
       "      <td>505700.0</td>\n",
       "      <td>MPWR</td>\n",
       "      <td>NaN</td>\n",
       "    </tr>\n",
       "    <tr>\n",
       "      <th>631</th>\n",
       "      <td>2025-09-30</td>\n",
       "      <td>192.740005</td>\n",
       "      <td>195.639999</td>\n",
       "      <td>191.289993</td>\n",
       "      <td>194.779999</td>\n",
       "      <td>1532100.0</td>\n",
       "      <td>MPC</td>\n",
       "      <td>NaN</td>\n",
       "    </tr>\n",
       "    <tr>\n",
       "      <th>627</th>\n",
       "      <td>2025-09-30</td>\n",
       "      <td>191.360001</td>\n",
       "      <td>195.559998</td>\n",
       "      <td>191.179993</td>\n",
       "      <td>192.929993</td>\n",
       "      <td>796000.0</td>\n",
       "      <td>MOH</td>\n",
       "      <td>NaN</td>\n",
       "    </tr>\n",
       "    <tr>\n",
       "      <th>667</th>\n",
       "      <td>2025-09-30</td>\n",
       "      <td>43.299999</td>\n",
       "      <td>43.500000</td>\n",
       "      <td>42.970001</td>\n",
       "      <td>43.290001</td>\n",
       "      <td>3803300.0</td>\n",
       "      <td>NI</td>\n",
       "      <td>NaN</td>\n",
       "    </tr>\n",
       "    <tr>\n",
       "      <th>585</th>\n",
       "      <td>2025-09-30</td>\n",
       "      <td>163.399994</td>\n",
       "      <td>168.110001</td>\n",
       "      <td>163.380005</td>\n",
       "      <td>165.270004</td>\n",
       "      <td>6747200.0</td>\n",
       "      <td>LYV</td>\n",
       "      <td>NaN</td>\n",
       "    </tr>\n",
       "    <tr>\n",
       "      <th>581</th>\n",
       "      <td>2025-09-30</td>\n",
       "      <td>58.080002</td>\n",
       "      <td>60.599998</td>\n",
       "      <td>56.540001</td>\n",
       "      <td>59.410000</td>\n",
       "      <td>6313700.0</td>\n",
       "      <td>LW</td>\n",
       "      <td>NaN</td>\n",
       "    </tr>\n",
       "    <tr>\n",
       "      <th>537</th>\n",
       "      <td>2025-09-30</td>\n",
       "      <td>124.339996</td>\n",
       "      <td>124.709999</td>\n",
       "      <td>122.180000</td>\n",
       "      <td>122.510002</td>\n",
       "      <td>2044300.0</td>\n",
       "      <td>KMB</td>\n",
       "      <td>NaN</td>\n",
       "    </tr>\n",
       "    <tr>\n",
       "      <th>535</th>\n",
       "      <td>2025-09-30</td>\n",
       "      <td>1078.599976</td>\n",
       "      <td>1079.869995</td>\n",
       "      <td>1057.069946</td>\n",
       "      <td>1063.800049</td>\n",
       "      <td>886300.0</td>\n",
       "      <td>KLAC</td>\n",
       "      <td>NaN</td>\n",
       "    </tr>\n",
       "    <tr>\n",
       "      <th>533</th>\n",
       "      <td>2025-09-30</td>\n",
       "      <td>129.949997</td>\n",
       "      <td>135.529999</td>\n",
       "      <td>126.570000</td>\n",
       "      <td>134.669998</td>\n",
       "      <td>7781600.0</td>\n",
       "      <td>KKR</td>\n",
       "      <td>NaN</td>\n",
       "    </tr>\n",
       "    <tr>\n",
       "      <th>531</th>\n",
       "      <td>2025-09-30</td>\n",
       "      <td>21.850000</td>\n",
       "      <td>21.870001</td>\n",
       "      <td>21.629999</td>\n",
       "      <td>21.670000</td>\n",
       "      <td>2970700.0</td>\n",
       "      <td>KIM</td>\n",
       "      <td>NaN</td>\n",
       "    </tr>\n",
       "    <tr>\n",
       "      <th>529</th>\n",
       "      <td>2025-09-30</td>\n",
       "      <td>26.040001</td>\n",
       "      <td>26.129999</td>\n",
       "      <td>25.496000</td>\n",
       "      <td>25.709999</td>\n",
       "      <td>23474900.0</td>\n",
       "      <td>KHC</td>\n",
       "      <td>NaN</td>\n",
       "    </tr>\n",
       "    <tr>\n",
       "      <th>527</th>\n",
       "      <td>2025-09-30</td>\n",
       "      <td>174.919998</td>\n",
       "      <td>175.210007</td>\n",
       "      <td>173.264999</td>\n",
       "      <td>173.649994</td>\n",
       "      <td>718300.0</td>\n",
       "      <td>KEYS</td>\n",
       "      <td>NaN</td>\n",
       "    </tr>\n",
       "    <tr>\n",
       "      <th>525</th>\n",
       "      <td>2025-09-30</td>\n",
       "      <td>18.690001</td>\n",
       "      <td>19.000000</td>\n",
       "      <td>18.299999</td>\n",
       "      <td>18.940001</td>\n",
       "      <td>30419400.0</td>\n",
       "      <td>KEY</td>\n",
       "      <td>NaN</td>\n",
       "    </tr>\n",
       "    <tr>\n",
       "      <th>523</th>\n",
       "      <td>2025-09-30</td>\n",
       "      <td>25.510000</td>\n",
       "      <td>25.730000</td>\n",
       "      <td>25.420000</td>\n",
       "      <td>25.650000</td>\n",
       "      <td>17952100.0</td>\n",
       "      <td>KDP</td>\n",
       "      <td>NaN</td>\n",
       "    </tr>\n",
       "    <tr>\n",
       "      <th>521</th>\n",
       "      <td>2025-09-30</td>\n",
       "      <td>315.429993</td>\n",
       "      <td>317.410004</td>\n",
       "      <td>310.109985</td>\n",
       "      <td>316.250000</td>\n",
       "      <td>11822800.0</td>\n",
       "      <td>JPM</td>\n",
       "      <td>NaN</td>\n",
       "    </tr>\n",
       "    <tr>\n",
       "      <th>519</th>\n",
       "      <td>2025-09-30</td>\n",
       "      <td>185.419998</td>\n",
       "      <td>185.990005</td>\n",
       "      <td>181.070007</td>\n",
       "      <td>181.699997</td>\n",
       "      <td>11567800.0</td>\n",
       "      <td>JNJ</td>\n",
       "      <td>NaN</td>\n",
       "    </tr>\n",
       "    <tr>\n",
       "      <th>517</th>\n",
       "      <td>2025-09-30</td>\n",
       "      <td>148.929993</td>\n",
       "      <td>150.580002</td>\n",
       "      <td>147.589996</td>\n",
       "      <td>150.410004</td>\n",
       "      <td>947200.0</td>\n",
       "      <td>JKHY</td>\n",
       "      <td>NaN</td>\n",
       "    </tr>\n",
       "    <tr>\n",
       "      <th>515</th>\n",
       "      <td>2025-09-30</td>\n",
       "      <td>109.949997</td>\n",
       "      <td>110.010002</td>\n",
       "      <td>108.220001</td>\n",
       "      <td>108.400002</td>\n",
       "      <td>3341100.0</td>\n",
       "      <td>JCI</td>\n",
       "      <td>NaN</td>\n",
       "    </tr>\n",
       "    <tr>\n",
       "      <th>513</th>\n",
       "      <td>2025-09-30</td>\n",
       "      <td>217.169998</td>\n",
       "      <td>218.949997</td>\n",
       "      <td>213.419998</td>\n",
       "      <td>215.039993</td>\n",
       "      <td>1212400.0</td>\n",
       "      <td>JBL</td>\n",
       "      <td>NaN</td>\n",
       "    </tr>\n",
       "    <tr>\n",
       "      <th>511</th>\n",
       "      <td>2025-09-30</td>\n",
       "      <td>134.169998</td>\n",
       "      <td>134.529999</td>\n",
       "      <td>131.710007</td>\n",
       "      <td>134.020004</td>\n",
       "      <td>1085300.0</td>\n",
       "      <td>JBHT</td>\n",
       "      <td>NaN</td>\n",
       "    </tr>\n",
       "    <tr>\n",
       "      <th>509</th>\n",
       "      <td>2025-09-30</td>\n",
       "      <td>149.860001</td>\n",
       "      <td>150.270004</td>\n",
       "      <td>147.520004</td>\n",
       "      <td>148.460007</td>\n",
       "      <td>915100.0</td>\n",
       "      <td>J</td>\n",
       "      <td>NaN</td>\n",
       "    </tr>\n",
       "    <tr>\n",
       "      <th>507</th>\n",
       "      <td>2025-09-30</td>\n",
       "      <td>22.940001</td>\n",
       "      <td>23.200001</td>\n",
       "      <td>22.570000</td>\n",
       "      <td>23.000000</td>\n",
       "      <td>4944500.0</td>\n",
       "      <td>IVZ</td>\n",
       "      <td>NaN</td>\n",
       "    </tr>\n",
       "    <tr>\n",
       "      <th>505</th>\n",
       "      <td>2025-09-30</td>\n",
       "      <td>260.760010</td>\n",
       "      <td>261.640015</td>\n",
       "      <td>258.390015</td>\n",
       "      <td>259.070007</td>\n",
       "      <td>1097800.0</td>\n",
       "      <td>ITW</td>\n",
       "      <td>NaN</td>\n",
       "    </tr>\n",
       "    <tr>\n",
       "      <th>539</th>\n",
       "      <td>2025-09-30</td>\n",
       "      <td>28.309999</td>\n",
       "      <td>28.480000</td>\n",
       "      <td>28.200001</td>\n",
       "      <td>28.280001</td>\n",
       "      <td>16455800.0</td>\n",
       "      <td>KMI</td>\n",
       "      <td>NaN</td>\n",
       "    </tr>\n",
       "    <tr>\n",
       "      <th>583</th>\n",
       "      <td>2025-09-30</td>\n",
       "      <td>49.040001</td>\n",
       "      <td>49.049999</td>\n",
       "      <td>48.130001</td>\n",
       "      <td>48.849998</td>\n",
       "      <td>4708100.0</td>\n",
       "      <td>LYB</td>\n",
       "      <td>NaN</td>\n",
       "    </tr>\n",
       "    <tr>\n",
       "      <th>541</th>\n",
       "      <td>2025-09-30</td>\n",
       "      <td>44.869999</td>\n",
       "      <td>45.470001</td>\n",
       "      <td>44.480000</td>\n",
       "      <td>45.090000</td>\n",
       "      <td>5205600.0</td>\n",
       "      <td>KMX</td>\n",
       "      <td>NaN</td>\n",
       "    </tr>\n",
       "    <tr>\n",
       "      <th>545</th>\n",
       "      <td>2025-09-30</td>\n",
       "      <td>67.410004</td>\n",
       "      <td>67.459999</td>\n",
       "      <td>66.199997</td>\n",
       "      <td>66.279999</td>\n",
       "      <td>7566300.0</td>\n",
       "      <td>KR</td>\n",
       "      <td>NaN</td>\n",
       "    </tr>\n",
       "    <tr>\n",
       "      <th>579</th>\n",
       "      <td>2025-09-30</td>\n",
       "      <td>53.790001</td>\n",
       "      <td>55.240002</td>\n",
       "      <td>53.389999</td>\n",
       "      <td>55.240002</td>\n",
       "      <td>4110900.0</td>\n",
       "      <td>LVS</td>\n",
       "      <td>NaN</td>\n",
       "    </tr>\n",
       "    <tr>\n",
       "      <th>577</th>\n",
       "      <td>2025-09-30</td>\n",
       "      <td>31.910000</td>\n",
       "      <td>32.889999</td>\n",
       "      <td>30.770000</td>\n",
       "      <td>32.830002</td>\n",
       "      <td>10281800.0</td>\n",
       "      <td>LUV</td>\n",
       "      <td>NaN</td>\n",
       "    </tr>\n",
       "    <tr>\n",
       "      <th>575</th>\n",
       "      <td>2025-09-30</td>\n",
       "      <td>177.929993</td>\n",
       "      <td>180.089996</td>\n",
       "      <td>176.490005</td>\n",
       "      <td>178.529999</td>\n",
       "      <td>3412700.0</td>\n",
       "      <td>LULU</td>\n",
       "      <td>NaN</td>\n",
       "    </tr>\n",
       "    <tr>\n",
       "      <th>573</th>\n",
       "      <td>2025-09-30</td>\n",
       "      <td>133.899994</td>\n",
       "      <td>134.210007</td>\n",
       "      <td>130.809998</td>\n",
       "      <td>131.350006</td>\n",
       "      <td>10325700.0</td>\n",
       "      <td>LRCX</td>\n",
       "      <td>NaN</td>\n",
       "    </tr>\n",
       "    <tr>\n",
       "      <th>571</th>\n",
       "      <td>2025-09-30</td>\n",
       "      <td>251.309998</td>\n",
       "      <td>253.600006</td>\n",
       "      <td>249.630005</td>\n",
       "      <td>252.809998</td>\n",
       "      <td>3114400.0</td>\n",
       "      <td>LOW</td>\n",
       "      <td>NaN</td>\n",
       "    </tr>\n",
       "    <tr>\n",
       "      <th>569</th>\n",
       "      <td>2025-09-30</td>\n",
       "      <td>67.410004</td>\n",
       "      <td>67.540001</td>\n",
       "      <td>66.449997</td>\n",
       "      <td>66.599998</td>\n",
       "      <td>1663600.0</td>\n",
       "      <td>LNT</td>\n",
       "      <td>NaN</td>\n",
       "    </tr>\n",
       "    <tr>\n",
       "      <th>567</th>\n",
       "      <td>2025-09-30</td>\n",
       "      <td>499.209991</td>\n",
       "      <td>499.890015</td>\n",
       "      <td>491.140015</td>\n",
       "      <td>492.579987</td>\n",
       "      <td>1311800.0</td>\n",
       "      <td>LMT</td>\n",
       "      <td>NaN</td>\n",
       "    </tr>\n",
       "    <tr>\n",
       "      <th>565</th>\n",
       "      <td>2025-09-30</td>\n",
       "      <td>763.000000</td>\n",
       "      <td>766.349976</td>\n",
       "      <td>725.309998</td>\n",
       "      <td>726.960022</td>\n",
       "      <td>6229100.0</td>\n",
       "      <td>LLY</td>\n",
       "      <td>NaN</td>\n",
       "    </tr>\n",
       "    <tr>\n",
       "      <th>563</th>\n",
       "      <td>2025-09-30</td>\n",
       "      <td>30.540001</td>\n",
       "      <td>30.559999</td>\n",
       "      <td>30.150000</td>\n",
       "      <td>30.379999</td>\n",
       "      <td>3393000.0</td>\n",
       "      <td>LKQ</td>\n",
       "      <td>NaN</td>\n",
       "    </tr>\n",
       "    <tr>\n",
       "      <th>561</th>\n",
       "      <td>2025-09-30</td>\n",
       "      <td>475.000000</td>\n",
       "      <td>478.779999</td>\n",
       "      <td>473.230011</td>\n",
       "      <td>473.700012</td>\n",
       "      <td>2171200.0</td>\n",
       "      <td>LIN</td>\n",
       "      <td>NaN</td>\n",
       "    </tr>\n",
       "    <tr>\n",
       "      <th>559</th>\n",
       "      <td>2025-09-30</td>\n",
       "      <td>529.359985</td>\n",
       "      <td>534.900024</td>\n",
       "      <td>519.349976</td>\n",
       "      <td>519.349976</td>\n",
       "      <td>666000.0</td>\n",
       "      <td>LII</td>\n",
       "      <td>NaN</td>\n",
       "    </tr>\n",
       "    <tr>\n",
       "      <th>557</th>\n",
       "      <td>2025-09-30</td>\n",
       "      <td>305.410004</td>\n",
       "      <td>305.940002</td>\n",
       "      <td>297.559998</td>\n",
       "      <td>297.559998</td>\n",
       "      <td>1332600.0</td>\n",
       "      <td>LHX</td>\n",
       "      <td>NaN</td>\n",
       "    </tr>\n",
       "    <tr>\n",
       "      <th>555</th>\n",
       "      <td>2025-09-30</td>\n",
       "      <td>287.059998</td>\n",
       "      <td>288.359985</td>\n",
       "      <td>282.859985</td>\n",
       "      <td>284.880005</td>\n",
       "      <td>612100.0</td>\n",
       "      <td>LH</td>\n",
       "      <td>NaN</td>\n",
       "    </tr>\n",
       "    <tr>\n",
       "      <th>553</th>\n",
       "      <td>2025-09-30</td>\n",
       "      <td>126.040001</td>\n",
       "      <td>127.879997</td>\n",
       "      <td>124.500000</td>\n",
       "      <td>127.510002</td>\n",
       "      <td>2435300.0</td>\n",
       "      <td>LEN</td>\n",
       "      <td>NaN</td>\n",
       "    </tr>\n",
       "    <tr>\n",
       "      <th>551</th>\n",
       "      <td>2025-09-30</td>\n",
       "      <td>188.960007</td>\n",
       "      <td>189.740005</td>\n",
       "      <td>186.059998</td>\n",
       "      <td>186.210007</td>\n",
       "      <td>844400.0</td>\n",
       "      <td>LDOS</td>\n",
       "      <td>NaN</td>\n",
       "    </tr>\n",
       "    <tr>\n",
       "      <th>549</th>\n",
       "      <td>2025-09-30</td>\n",
       "      <td>100.389999</td>\n",
       "      <td>100.699997</td>\n",
       "      <td>99.620003</td>\n",
       "      <td>99.709999</td>\n",
       "      <td>671700.0</td>\n",
       "      <td>L</td>\n",
       "      <td>NaN</td>\n",
       "    </tr>\n",
       "    <tr>\n",
       "      <th>547</th>\n",
       "      <td>2025-09-30</td>\n",
       "      <td>16.230000</td>\n",
       "      <td>16.520000</td>\n",
       "      <td>16.160000</td>\n",
       "      <td>16.360001</td>\n",
       "      <td>37945700.0</td>\n",
       "      <td>KVUE</td>\n",
       "      <td>NaN</td>\n",
       "    </tr>\n",
       "    <tr>\n",
       "      <th>543</th>\n",
       "      <td>2025-09-30</td>\n",
       "      <td>66.320000</td>\n",
       "      <td>66.639999</td>\n",
       "      <td>65.959999</td>\n",
       "      <td>66.070000</td>\n",
       "      <td>13809400.0</td>\n",
       "      <td>KO</td>\n",
       "      <td>NaN</td>\n",
       "    </tr>\n",
       "    <tr>\n",
       "      <th>499</th>\n",
       "      <td>2025-09-30</td>\n",
       "      <td>101.940002</td>\n",
       "      <td>102.160004</td>\n",
       "      <td>100.470001</td>\n",
       "      <td>100.760002</td>\n",
       "      <td>1295000.0</td>\n",
       "      <td>IRM</td>\n",
       "      <td>NaN</td>\n",
       "    </tr>\n",
       "  </tbody>\n",
       "</table>\n",
       "</div>"
      ]
     },
     "execution_count": 18,
     "metadata": {},
     "output_type": "execute_result"
    }
   ],
   "execution_count": 18
  },
  {
   "metadata": {
    "ExecuteTime": {
     "end_time": "2025-10-01T13:46:33.139214Z",
     "start_time": "2025-10-01T13:46:33.135047Z"
    }
   },
   "cell_type": "code",
   "source": "df_concat['Date'].max()",
   "id": "2fb50fac20b29100",
   "outputs": [
    {
     "data": {
      "text/plain": [
       "Timestamp('2025-09-30 00:00:00')"
      ]
     },
     "execution_count": 19,
     "metadata": {},
     "output_type": "execute_result"
    }
   ],
   "execution_count": 19
  },
  {
   "cell_type": "code",
   "id": "fc3ade3f-0c4a-4a1b-bcd5-8293c8818a65",
   "metadata": {
    "ExecuteTime": {
     "end_time": "2025-10-01T13:46:33.277273Z",
     "start_time": "2025-10-01T13:46:33.275641Z"
    }
   },
   "source": [
    "# Sauvegarder la DataFrame résultante dans un fichier CSV\n",
    "#data_SP500.to_csv('/Users/forget/PyCharmMiscProject/historical_data_S&P500_From_Wiki.csv')"
   ],
   "outputs": [],
   "execution_count": 20
  },
  {
   "metadata": {
    "ExecuteTime": {
     "end_time": "2025-10-01T13:46:33.306305Z",
     "start_time": "2025-10-01T13:46:33.303822Z"
    }
   },
   "cell_type": "code",
   "source": [
    "\"\"\"\n",
    "mask_1 = data_SP500[(data_SP500['Ticker'] == 'NVR') & (data_SP500['Date'] < '1993-10-01')]\n",
    "mask_2 = data_SP500[(data_SP500['Ticker'] == 'HUBB') & (data_SP500['Date'] < '1994-10-31')]\n",
    "mask_3 = data_SP500[(data_SP500['Date'] == '1984-12-31') & (data_SP500['Ticker'] == 'BEN')]\n",
    "\"\"\""
   ],
   "id": "5554fac36cbc425c",
   "outputs": [
    {
     "data": {
      "text/plain": [
       "\"\\nmask_1 = data_SP500[(data_SP500['Ticker'] == 'NVR') & (data_SP500['Date'] < '1993-10-01')]\\nmask_2 = data_SP500[(data_SP500['Ticker'] == 'HUBB') & (data_SP500['Date'] < '1994-10-31')]\\nmask_3 = data_SP500[(data_SP500['Date'] == '1984-12-31') & (data_SP500['Ticker'] == 'BEN')]\\n\""
      ]
     },
     "execution_count": 21,
     "metadata": {},
     "output_type": "execute_result"
    }
   ],
   "execution_count": 21
  },
  {
   "metadata": {
    "ExecuteTime": {
     "end_time": "2025-10-01T13:46:33.417821Z",
     "start_time": "2025-10-01T13:46:33.410953Z"
    }
   },
   "cell_type": "code",
   "source": [
    "\"\"\"\n",
    "idx_to_drop = mask_1.index.union(mask_2.index).union(mask_3.index)\n",
    "data_SP500 = data_SP500.drop(index=idx_to_drop).copy()\n",
    "\"\"\""
   ],
   "id": "3e44a0476c5466d",
   "outputs": [
    {
     "data": {
      "text/plain": [
       "'\\nidx_to_drop = mask_1.index.union(mask_2.index).union(mask_3.index)\\ndata_SP500 = data_SP500.drop(index=idx_to_drop).copy()\\n'"
      ]
     },
     "execution_count": 22,
     "metadata": {},
     "output_type": "execute_result"
    }
   ],
   "execution_count": 22
  },
  {
   "metadata": {
    "ExecuteTime": {
     "end_time": "2025-10-01T13:46:34.161219Z",
     "start_time": "2025-10-01T13:46:33.522057Z"
    }
   },
   "cell_type": "code",
   "source": "df_concat.to_parquet(\"/Users/forget/Library/Mobile Documents/com~apple~CloudDocs/Project Stock Market Deep Learning/Data/data_SP500.parquet\")",
   "id": "27b858f1805ff48d",
   "outputs": [],
   "execution_count": 23
  },
  {
   "metadata": {
    "ExecuteTime": {
     "end_time": "2025-10-01T13:46:34.181384Z",
     "start_time": "2025-10-01T13:46:34.176893Z"
    }
   },
   "cell_type": "code",
   "source": "data_SP500.sort_values(by='Date', ascending=True)",
   "id": "b867e3f09bf67cdd",
   "outputs": [
    {
     "data": {
      "text/plain": [
       "Price       Date       Close        High         Low        Open      Volume  \\\n",
       "0     2025-09-29  123.501999  123.981040  122.324363  123.511981   1486100.0   \n",
       "424   2025-09-29  804.119995  808.840027  797.989990  807.799988   1059000.0   \n",
       "786   2025-09-29  271.049988  271.980011  268.070007  271.100006    977700.0   \n",
       "422   2025-09-29  245.529999  245.649994  241.750000  242.479996    759200.0   \n",
       "420   2025-09-29   86.339996   86.879997   84.169998   85.839996   3199200.0   \n",
       "..           ...         ...         ...         ...         ...         ...   \n",
       "447   2025-09-30   67.489998   67.639999   66.889999   66.949997   1477200.0   \n",
       "449   2025-09-30  210.500000  211.110001  208.449997  208.949997   4182300.0   \n",
       "451   2025-09-30  143.179993  143.619995  135.570007  135.669998  50720200.0   \n",
       "455   2025-09-30   27.230000   27.250000   26.850000   26.900000   7985500.0   \n",
       "999   2025-09-30  146.320007  147.000000  142.399994  142.889999   3736800.0   \n",
       "\n",
       "Price Ticker  Adj Close  \n",
       "0          A        NaN  \n",
       "424       GS        NaN  \n",
       "786      RMD        NaN  \n",
       "422     GRMN        NaN  \n",
       "420      GPN        NaN  \n",
       "..       ...        ...  \n",
       "447     HOLX        NaN  \n",
       "449      HON        NaN  \n",
       "451     HOOD        NaN  \n",
       "455      HPQ        NaN  \n",
       "999      ZTS        NaN  \n",
       "\n",
       "[1000 rows x 8 columns]"
      ],
      "text/html": [
       "<div>\n",
       "<style scoped>\n",
       "    .dataframe tbody tr th:only-of-type {\n",
       "        vertical-align: middle;\n",
       "    }\n",
       "\n",
       "    .dataframe tbody tr th {\n",
       "        vertical-align: top;\n",
       "    }\n",
       "\n",
       "    .dataframe thead th {\n",
       "        text-align: right;\n",
       "    }\n",
       "</style>\n",
       "<table border=\"1\" class=\"dataframe\">\n",
       "  <thead>\n",
       "    <tr style=\"text-align: right;\">\n",
       "      <th>Price</th>\n",
       "      <th>Date</th>\n",
       "      <th>Close</th>\n",
       "      <th>High</th>\n",
       "      <th>Low</th>\n",
       "      <th>Open</th>\n",
       "      <th>Volume</th>\n",
       "      <th>Ticker</th>\n",
       "      <th>Adj Close</th>\n",
       "    </tr>\n",
       "  </thead>\n",
       "  <tbody>\n",
       "    <tr>\n",
       "      <th>0</th>\n",
       "      <td>2025-09-29</td>\n",
       "      <td>123.501999</td>\n",
       "      <td>123.981040</td>\n",
       "      <td>122.324363</td>\n",
       "      <td>123.511981</td>\n",
       "      <td>1486100.0</td>\n",
       "      <td>A</td>\n",
       "      <td>NaN</td>\n",
       "    </tr>\n",
       "    <tr>\n",
       "      <th>424</th>\n",
       "      <td>2025-09-29</td>\n",
       "      <td>804.119995</td>\n",
       "      <td>808.840027</td>\n",
       "      <td>797.989990</td>\n",
       "      <td>807.799988</td>\n",
       "      <td>1059000.0</td>\n",
       "      <td>GS</td>\n",
       "      <td>NaN</td>\n",
       "    </tr>\n",
       "    <tr>\n",
       "      <th>786</th>\n",
       "      <td>2025-09-29</td>\n",
       "      <td>271.049988</td>\n",
       "      <td>271.980011</td>\n",
       "      <td>268.070007</td>\n",
       "      <td>271.100006</td>\n",
       "      <td>977700.0</td>\n",
       "      <td>RMD</td>\n",
       "      <td>NaN</td>\n",
       "    </tr>\n",
       "    <tr>\n",
       "      <th>422</th>\n",
       "      <td>2025-09-29</td>\n",
       "      <td>245.529999</td>\n",
       "      <td>245.649994</td>\n",
       "      <td>241.750000</td>\n",
       "      <td>242.479996</td>\n",
       "      <td>759200.0</td>\n",
       "      <td>GRMN</td>\n",
       "      <td>NaN</td>\n",
       "    </tr>\n",
       "    <tr>\n",
       "      <th>420</th>\n",
       "      <td>2025-09-29</td>\n",
       "      <td>86.339996</td>\n",
       "      <td>86.879997</td>\n",
       "      <td>84.169998</td>\n",
       "      <td>85.839996</td>\n",
       "      <td>3199200.0</td>\n",
       "      <td>GPN</td>\n",
       "      <td>NaN</td>\n",
       "    </tr>\n",
       "    <tr>\n",
       "      <th>...</th>\n",
       "      <td>...</td>\n",
       "      <td>...</td>\n",
       "      <td>...</td>\n",
       "      <td>...</td>\n",
       "      <td>...</td>\n",
       "      <td>...</td>\n",
       "      <td>...</td>\n",
       "      <td>...</td>\n",
       "    </tr>\n",
       "    <tr>\n",
       "      <th>447</th>\n",
       "      <td>2025-09-30</td>\n",
       "      <td>67.489998</td>\n",
       "      <td>67.639999</td>\n",
       "      <td>66.889999</td>\n",
       "      <td>66.949997</td>\n",
       "      <td>1477200.0</td>\n",
       "      <td>HOLX</td>\n",
       "      <td>NaN</td>\n",
       "    </tr>\n",
       "    <tr>\n",
       "      <th>449</th>\n",
       "      <td>2025-09-30</td>\n",
       "      <td>210.500000</td>\n",
       "      <td>211.110001</td>\n",
       "      <td>208.449997</td>\n",
       "      <td>208.949997</td>\n",
       "      <td>4182300.0</td>\n",
       "      <td>HON</td>\n",
       "      <td>NaN</td>\n",
       "    </tr>\n",
       "    <tr>\n",
       "      <th>451</th>\n",
       "      <td>2025-09-30</td>\n",
       "      <td>143.179993</td>\n",
       "      <td>143.619995</td>\n",
       "      <td>135.570007</td>\n",
       "      <td>135.669998</td>\n",
       "      <td>50720200.0</td>\n",
       "      <td>HOOD</td>\n",
       "      <td>NaN</td>\n",
       "    </tr>\n",
       "    <tr>\n",
       "      <th>455</th>\n",
       "      <td>2025-09-30</td>\n",
       "      <td>27.230000</td>\n",
       "      <td>27.250000</td>\n",
       "      <td>26.850000</td>\n",
       "      <td>26.900000</td>\n",
       "      <td>7985500.0</td>\n",
       "      <td>HPQ</td>\n",
       "      <td>NaN</td>\n",
       "    </tr>\n",
       "    <tr>\n",
       "      <th>999</th>\n",
       "      <td>2025-09-30</td>\n",
       "      <td>146.320007</td>\n",
       "      <td>147.000000</td>\n",
       "      <td>142.399994</td>\n",
       "      <td>142.889999</td>\n",
       "      <td>3736800.0</td>\n",
       "      <td>ZTS</td>\n",
       "      <td>NaN</td>\n",
       "    </tr>\n",
       "  </tbody>\n",
       "</table>\n",
       "<p>1000 rows × 8 columns</p>\n",
       "</div>"
      ]
     },
     "execution_count": 24,
     "metadata": {},
     "output_type": "execute_result"
    }
   ],
   "execution_count": 24
  },
  {
   "metadata": {
    "ExecuteTime": {
     "end_time": "2025-10-01T13:46:34.242677Z",
     "start_time": "2025-10-01T13:46:34.240902Z"
    }
   },
   "cell_type": "code",
   "source": "a = data_SP500.copy()",
   "id": "5903367a0649e4ad",
   "outputs": [],
   "execution_count": 25
  },
  {
   "metadata": {
    "ExecuteTime": {
     "end_time": "2025-10-01T13:46:34.269992Z",
     "start_time": "2025-10-01T13:46:34.267279Z"
    }
   },
   "cell_type": "code",
   "source": "b = a[a['Ticker'] == 'BEN']",
   "id": "c323bd8dbbb022c8",
   "outputs": [],
   "execution_count": 26
  },
  {
   "metadata": {
    "ExecuteTime": {
     "end_time": "2025-10-01T13:46:34.309532Z",
     "start_time": "2025-10-01T13:46:34.305083Z"
    }
   },
   "cell_type": "code",
   "source": [
    "b = a[(a['Ticker'] == 'BEN') & (a['Date'] < '1985-02-01') & (a['Date'] > '1984-12-01')].sort_values('Date')\n",
    "b"
   ],
   "id": "6cef439176d3300",
   "outputs": [
    {
     "data": {
      "text/plain": [
       "Empty DataFrame\n",
       "Columns: [Date, Close, High, Low, Open, Volume, Ticker, Adj Close]\n",
       "Index: []"
      ],
      "text/html": [
       "<div>\n",
       "<style scoped>\n",
       "    .dataframe tbody tr th:only-of-type {\n",
       "        vertical-align: middle;\n",
       "    }\n",
       "\n",
       "    .dataframe tbody tr th {\n",
       "        vertical-align: top;\n",
       "    }\n",
       "\n",
       "    .dataframe thead th {\n",
       "        text-align: right;\n",
       "    }\n",
       "</style>\n",
       "<table border=\"1\" class=\"dataframe\">\n",
       "  <thead>\n",
       "    <tr style=\"text-align: right;\">\n",
       "      <th>Price</th>\n",
       "      <th>Date</th>\n",
       "      <th>Close</th>\n",
       "      <th>High</th>\n",
       "      <th>Low</th>\n",
       "      <th>Open</th>\n",
       "      <th>Volume</th>\n",
       "      <th>Ticker</th>\n",
       "      <th>Adj Close</th>\n",
       "    </tr>\n",
       "  </thead>\n",
       "  <tbody>\n",
       "  </tbody>\n",
       "</table>\n",
       "</div>"
      ]
     },
     "execution_count": 27,
     "metadata": {},
     "output_type": "execute_result"
    }
   ],
   "execution_count": 27
  },
  {
   "metadata": {
    "ExecuteTime": {
     "end_time": "2025-10-01T13:46:34.965706Z",
     "start_time": "2025-10-01T13:46:34.465477Z"
    }
   },
   "cell_type": "code",
   "source": [
    "import matplotlib.pyplot as plt\n",
    "\n",
    "x = b['Date']\n",
    "y = b['Close']\n",
    "plt.figure(figsize=(20, 10))\n",
    "plt.scatter(x, y, s=1)"
   ],
   "id": "23e518ae5dddc4bc",
   "outputs": [
    {
     "data": {
      "text/plain": [
       "<matplotlib.collections.PathCollection at 0x11c1f7b60>"
      ]
     },
     "execution_count": 28,
     "metadata": {},
     "output_type": "execute_result"
    },
    {
     "data": {
      "text/plain": [
       "<Figure size 2000x1000 with 1 Axes>"
      ],
      "image/png": "[encoded data removed]"
     },
     "metadata": {},
     "output_type": "display_data"
    }
   ],
   "execution_count": 28
  },
  {
   "metadata": {
    "ExecuteTime": {
     "end_time": "2025-10-01T13:46:35.079952Z",
     "start_time": "2025-10-01T13:46:35.078321Z"
    }
   },
   "cell_type": "code",
   "source": "",
   "id": "3e4c7bacfb4707fe",
   "outputs": [],
   "execution_count": null
  }
 ],
 "metadata": {
  "kernelspec": {
   "display_name": "Python 3 (ipykernel)",
   "language": "python",
   "name": "python3"
  },
  "language_info": {
   "codemirror_mode": {
    "name": "ipython",
    "version": 3
   },
   "file_extension": ".py",
   "mimetype": "text/x-python",
   "name": "python",
   "nbconvert_exporter": "python",
   "pygments_lexer": "ipython3",
   "version": "3.12.4"
  }
 },
 "nbformat": 4,
 "nbformat_minor": 5
}
