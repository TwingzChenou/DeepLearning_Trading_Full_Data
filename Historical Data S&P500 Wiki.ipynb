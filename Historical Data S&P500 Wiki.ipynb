{
 "cells": [
  {
   "cell_type": "code",
   "id": "d57f0474-062c-4085-a442-4189e1e6d207",
   "metadata": {
    "ExecuteTime": {
     "end_time": "2025-10-07T11:50:19.079220Z",
     "start_time": "2025-10-07T11:50:18.707531Z"
    }
   },
   "source": [
    "import pandas as pd \n",
    "import yfinance as yf\n",
    "from datetime import datetime, timedelta\n"
   ],
   "outputs": [],
   "execution_count": 1
  },
  {
   "cell_type": "code",
   "id": "fc27d29a-7ea3-43eb-8465-e78d1137332c",
   "metadata": {
    "ExecuteTime": {
     "end_time": "2025-10-07T11:50:19.407946Z",
     "start_time": "2025-10-07T11:50:19.085044Z"
    }
   },
   "source": [
    "SP500_Url = \"https://en.wikipedia.org/wiki/List_of_S%26P_500_companies\"\n",
    "data_table = pd.read_html(\n",
    "    SP500_Url,\n",
    "    storage_options={\"User-Agent\": \"Mozilla/5.0 (X11; Linux x86_64) AppleWebKit/537.36 \"\n",
    "                                   \"(KHTML, like Gecko) Chrome/123.0 Safari/537.36\"}\n",
    ")\n",
    "data_table"
   ],
   "outputs": [
    {
     "data": {
      "text/plain": [
       "[    Symbol             Security             GICS Sector  \\\n",
       " 0      MMM                   3M             Industrials   \n",
       " 1      AOS          A. O. Smith             Industrials   \n",
       " 2      ABT  Abbott Laboratories             Health Care   \n",
       " 3     ABBV               AbbVie             Health Care   \n",
       " 4      ACN            Accenture  Information Technology   \n",
       " ..     ...                  ...                     ...   \n",
       " 498    XYL           Xylem Inc.             Industrials   \n",
       " 499    YUM          Yum! Brands  Consumer Discretionary   \n",
       " 500   ZBRA   Zebra Technologies  Information Technology   \n",
       " 501    ZBH        Zimmer Biomet             Health Care   \n",
       " 502    ZTS               Zoetis             Health Care   \n",
       " \n",
       "                                 GICS Sub-Industry    Headquarters Location  \\\n",
       " 0                        Industrial Conglomerates    Saint Paul, Minnesota   \n",
       " 1                               Building Products     Milwaukee, Wisconsin   \n",
       " 2                           Health Care Equipment  North Chicago, Illinois   \n",
       " 3                                   Biotechnology  North Chicago, Illinois   \n",
       " 4                  IT Consulting & Other Services          Dublin, Ireland   \n",
       " ..                                            ...                      ...   \n",
       " 498  Industrial Machinery & Supplies & Components   White Plains, New York   \n",
       " 499                                   Restaurants     Louisville, Kentucky   \n",
       " 500            Electronic Equipment & Instruments   Lincolnshire, Illinois   \n",
       " 501                         Health Care Equipment          Warsaw, Indiana   \n",
       " 502                               Pharmaceuticals   Parsippany, New Jersey   \n",
       " \n",
       "      Date added      CIK      Founded  \n",
       " 0    1957-03-04    66740         1902  \n",
       " 1    2017-07-26    91142         1916  \n",
       " 2    1957-03-04     1800         1888  \n",
       " 3    2012-12-31  1551152  2013 (1888)  \n",
       " 4    2011-07-06  1467373         1989  \n",
       " ..          ...      ...          ...  \n",
       " 498  2011-11-01  1524472         2011  \n",
       " 499  1997-10-06  1041061         1997  \n",
       " 500  2019-12-23   877212         1969  \n",
       " 501  2001-08-07  1136869         1927  \n",
       " 502  2013-06-21  1555280         1952  \n",
       " \n",
       " [503 rows x 8 columns],\n",
       "          Effective Date  Added                                Removed  \\\n",
       "          Effective Date Ticker                       Security  Ticker   \n",
       " 0    September 22, 2025    EME                          Emcor    ENPH   \n",
       " 1    September 22, 2025   HOOD              Robinhood Markets     CZR   \n",
       " 2    September 22, 2025    APP                       AppLovin    MKTX   \n",
       " 3       August 28, 2025   IBKR            Interactive Brokers     WBA   \n",
       " 4         July 23, 2025    XYZ                    Block, Inc.     HES   \n",
       " ..                  ...    ...                            ...     ...   \n",
       " 374   December 11, 1998   CPWR                      Compuware     SUN   \n",
       " 375       June 17, 1997    CCR  Countrywide Credit Industries     USL   \n",
       " 376  September 30, 1994    NCC                  National City     MCK   \n",
       " 377        July 1, 1976    BUD                 Anheuser Busch     HNG   \n",
       " 378        July 1, 1976    DIS        The Walt Disney Company     AYE   \n",
       " \n",
       "                                \\\n",
       "                      Security   \n",
       " 0              Enphase Energy   \n",
       " 1       Caesars Entertainment   \n",
       " 2                 MarketAxess   \n",
       " 3    Walgreens Boots Alliance   \n",
       " 4            Hess Corporation   \n",
       " ..                        ...   \n",
       " 374                SunAmerica   \n",
       " 375                    USLife   \n",
       " 376                  McKesson   \n",
       " 377       Houston Natural Gas   \n",
       " 378          Allegheny Energy   \n",
       " \n",
       "                                                 Reason  \n",
       "                                                 Reason  \n",
       " 0                     Market capitalization change.[4]  \n",
       " 1                     Market capitalization change.[4]  \n",
       " 2                     Market capitalization change.[4]  \n",
       " 3    Sycamore Partners acquired Walgreen Boots Alli...  \n",
       " 4    S&P 500 and S&P 100 constituent Chevron Corp. ...  \n",
       " ..                                                 ...  \n",
       " 374                     AIG purchased SunAmerica.[267]  \n",
       " 375                          AIG acquired USLife.[268]  \n",
       " 376  McKesson sold PCS Health Services to Eli Lilly...  \n",
       " 377  Major restructuring of S&P 500 to have fewer i...  \n",
       " 378  Major restructuring of S&P 500 to have fewer i...  \n",
       " \n",
       " [379 rows x 6 columns]]"
      ]
     },
     "execution_count": 2,
     "metadata": {},
     "output_type": "execute_result"
    }
   ],
   "execution_count": 2
  },
  {
   "cell_type": "code",
   "id": "1b24ff08-adf5-4396-8e7a-d6779a1b9d77",
   "metadata": {
    "ExecuteTime": {
     "end_time": "2025-10-07T11:50:19.538617Z",
     "start_time": "2025-10-07T11:50:19.536689Z"
    }
   },
   "source": "tickers = data_table[0][\"Symbol\"].tolist()",
   "outputs": [],
   "execution_count": 3
  },
  {
   "cell_type": "code",
   "id": "b60e277a-361e-45d8-ab57-1b025ec7d338",
   "metadata": {
    "ExecuteTime": {
     "end_time": "2025-10-07T11:50:19.551989Z",
     "start_time": "2025-10-07T11:50:19.550110Z"
    }
   },
   "source": [
    "for i in range(len(tickers)):\n",
    "    if tickers[i] == 'BRK.B':\n",
    "        tickers[i] = 'BRK-B'\n",
    "    elif tickers[i] == 'BF.B':\n",
    "        tickers[i] = 'BF-B'"
   ],
   "outputs": [],
   "execution_count": 4
  },
  {
   "metadata": {
    "ExecuteTime": {
     "end_time": "2025-10-07T11:50:19.593842Z",
     "start_time": "2025-10-07T11:50:19.588604Z"
    }
   },
   "cell_type": "code",
   "source": "data_table[1]",
   "id": "2c932a6255bd04f4",
   "outputs": [
    {
     "data": {
      "text/plain": [
       "         Effective Date  Added                                Removed  \\\n",
       "         Effective Date Ticker                       Security  Ticker   \n",
       "0    September 22, 2025    EME                          Emcor    ENPH   \n",
       "1    September 22, 2025   HOOD              Robinhood Markets     CZR   \n",
       "2    September 22, 2025    APP                       AppLovin    MKTX   \n",
       "3       August 28, 2025   IBKR            Interactive Brokers     WBA   \n",
       "4         July 23, 2025    XYZ                    Block, Inc.     HES   \n",
       "..                  ...    ...                            ...     ...   \n",
       "374   December 11, 1998   CPWR                      Compuware     SUN   \n",
       "375       June 17, 1997    CCR  Countrywide Credit Industries     USL   \n",
       "376  September 30, 1994    NCC                  National City     MCK   \n",
       "377        July 1, 1976    BUD                 Anheuser Busch     HNG   \n",
       "378        July 1, 1976    DIS        The Walt Disney Company     AYE   \n",
       "\n",
       "                               \\\n",
       "                     Security   \n",
       "0              Enphase Energy   \n",
       "1       Caesars Entertainment   \n",
       "2                 MarketAxess   \n",
       "3    Walgreens Boots Alliance   \n",
       "4            Hess Corporation   \n",
       "..                        ...   \n",
       "374                SunAmerica   \n",
       "375                    USLife   \n",
       "376                  McKesson   \n",
       "377       Houston Natural Gas   \n",
       "378          Allegheny Energy   \n",
       "\n",
       "                                                Reason  \n",
       "                                                Reason  \n",
       "0                     Market capitalization change.[4]  \n",
       "1                     Market capitalization change.[4]  \n",
       "2                     Market capitalization change.[4]  \n",
       "3    Sycamore Partners acquired Walgreen Boots Alli...  \n",
       "4    S&P 500 and S&P 100 constituent Chevron Corp. ...  \n",
       "..                                                 ...  \n",
       "374                     AIG purchased SunAmerica.[267]  \n",
       "375                          AIG acquired USLife.[268]  \n",
       "376  McKesson sold PCS Health Services to Eli Lilly...  \n",
       "377  Major restructuring of S&P 500 to have fewer i...  \n",
       "378  Major restructuring of S&P 500 to have fewer i...  \n",
       "\n",
       "[379 rows x 6 columns]"
      ],
      "text/html": [
       "<div>\n",
       "<style scoped>\n",
       "    .dataframe tbody tr th:only-of-type {\n",
       "        vertical-align: middle;\n",
       "    }\n",
       "\n",
       "    .dataframe tbody tr th {\n",
       "        vertical-align: top;\n",
       "    }\n",
       "\n",
       "    .dataframe thead tr th {\n",
       "        text-align: left;\n",
       "    }\n",
       "</style>\n",
       "<table border=\"1\" class=\"dataframe\">\n",
       "  <thead>\n",
       "    <tr>\n",
       "      <th></th>\n",
       "      <th>Effective Date</th>\n",
       "      <th colspan=\"2\" halign=\"left\">Added</th>\n",
       "      <th colspan=\"2\" halign=\"left\">Removed</th>\n",
       "      <th>Reason</th>\n",
       "    </tr>\n",
       "    <tr>\n",
       "      <th></th>\n",
       "      <th>Effective Date</th>\n",
       "      <th>Ticker</th>\n",
       "      <th>Security</th>\n",
       "      <th>Ticker</th>\n",
       "      <th>Security</th>\n",
       "      <th>Reason</th>\n",
       "    </tr>\n",
       "  </thead>\n",
       "  <tbody>\n",
       "    <tr>\n",
       "      <th>0</th>\n",
       "      <td>September 22, 2025</td>\n",
       "      <td>EME</td>\n",
       "      <td>Emcor</td>\n",
       "      <td>ENPH</td>\n",
       "      <td>Enphase Energy</td>\n",
       "      <td>Market capitalization change.[4]</td>\n",
       "    </tr>\n",
       "    <tr>\n",
       "      <th>1</th>\n",
       "      <td>September 22, 2025</td>\n",
       "      <td>HOOD</td>\n",
       "      <td>Robinhood Markets</td>\n",
       "      <td>CZR</td>\n",
       "      <td>Caesars Entertainment</td>\n",
       "      <td>Market capitalization change.[4]</td>\n",
       "    </tr>\n",
       "    <tr>\n",
       "      <th>2</th>\n",
       "      <td>September 22, 2025</td>\n",
       "      <td>APP</td>\n",
       "      <td>AppLovin</td>\n",
       "      <td>MKTX</td>\n",
       "      <td>MarketAxess</td>\n",
       "      <td>Market capitalization change.[4]</td>\n",
       "    </tr>\n",
       "    <tr>\n",
       "      <th>3</th>\n",
       "      <td>August 28, 2025</td>\n",
       "      <td>IBKR</td>\n",
       "      <td>Interactive Brokers</td>\n",
       "      <td>WBA</td>\n",
       "      <td>Walgreens Boots Alliance</td>\n",
       "      <td>Sycamore Partners acquired Walgreen Boots Alli...</td>\n",
       "    </tr>\n",
       "    <tr>\n",
       "      <th>4</th>\n",
       "      <td>July 23, 2025</td>\n",
       "      <td>XYZ</td>\n",
       "      <td>Block, Inc.</td>\n",
       "      <td>HES</td>\n",
       "      <td>Hess Corporation</td>\n",
       "      <td>S&amp;P 500 and S&amp;P 100 constituent Chevron Corp. ...</td>\n",
       "    </tr>\n",
       "    <tr>\n",
       "      <th>...</th>\n",
       "      <td>...</td>\n",
       "      <td>...</td>\n",
       "      <td>...</td>\n",
       "      <td>...</td>\n",
       "      <td>...</td>\n",
       "      <td>...</td>\n",
       "    </tr>\n",
       "    <tr>\n",
       "      <th>374</th>\n",
       "      <td>December 11, 1998</td>\n",
       "      <td>CPWR</td>\n",
       "      <td>Compuware</td>\n",
       "      <td>SUN</td>\n",
       "      <td>SunAmerica</td>\n",
       "      <td>AIG purchased SunAmerica.[267]</td>\n",
       "    </tr>\n",
       "    <tr>\n",
       "      <th>375</th>\n",
       "      <td>June 17, 1997</td>\n",
       "      <td>CCR</td>\n",
       "      <td>Countrywide Credit Industries</td>\n",
       "      <td>USL</td>\n",
       "      <td>USLife</td>\n",
       "      <td>AIG acquired USLife.[268]</td>\n",
       "    </tr>\n",
       "    <tr>\n",
       "      <th>376</th>\n",
       "      <td>September 30, 1994</td>\n",
       "      <td>NCC</td>\n",
       "      <td>National City</td>\n",
       "      <td>MCK</td>\n",
       "      <td>McKesson</td>\n",
       "      <td>McKesson sold PCS Health Services to Eli Lilly...</td>\n",
       "    </tr>\n",
       "    <tr>\n",
       "      <th>377</th>\n",
       "      <td>July 1, 1976</td>\n",
       "      <td>BUD</td>\n",
       "      <td>Anheuser Busch</td>\n",
       "      <td>HNG</td>\n",
       "      <td>Houston Natural Gas</td>\n",
       "      <td>Major restructuring of S&amp;P 500 to have fewer i...</td>\n",
       "    </tr>\n",
       "    <tr>\n",
       "      <th>378</th>\n",
       "      <td>July 1, 1976</td>\n",
       "      <td>DIS</td>\n",
       "      <td>The Walt Disney Company</td>\n",
       "      <td>AYE</td>\n",
       "      <td>Allegheny Energy</td>\n",
       "      <td>Major restructuring of S&amp;P 500 to have fewer i...</td>\n",
       "    </tr>\n",
       "  </tbody>\n",
       "</table>\n",
       "<p>379 rows × 6 columns</p>\n",
       "</div>"
      ]
     },
     "execution_count": 5,
     "metadata": {},
     "output_type": "execute_result"
    }
   ],
   "execution_count": 5
  },
  {
   "cell_type": "code",
   "id": "17d6901d-f2b7-48b7-88a9-48d3aee5d9b7",
   "metadata": {
    "ExecuteTime": {
     "end_time": "2025-10-07T11:50:19.667382Z",
     "start_time": "2025-10-07T11:50:19.659414Z"
    }
   },
   "source": [
    "# Extraction des données\n",
    "Date = data_table[1]['Effective Date'].astype(str).apply(pd.to_datetime)\n",
    "Removed = data_table[1]['Removed']['Ticker']  # Supposant que 'Removed' est un DataFrame ou Series\n",
    "Added = data_table[1]['Added']['Ticker']      # Supposant que 'Added' est un DataFrame ou Series\n",
    "\n",
    "# Combinaison des données dans un DataFrame\n",
    "Data_Change = pd.concat([Date, Added, Removed], axis = 1)\n",
    "\n",
    "#Date au format Date\n",
    "#Data_Change['Date'] = pd.to_datetime(Data_Change['Date'])\n",
    "\n",
    "# Changer le format de la date en 'jour/mois/année'\n",
    "#Data_Change['Date'] = Data_Change['Date'].dt.strftime('%Y-%m-%d')\n",
    "\n",
    "\n",
    "# Renommer toutes les colonnes\n",
    "Data_Change.columns = ['Date', 'Added', 'Removed']\n",
    "\n",
    "# Mettre 'colonne_a' en tant qu'index\n",
    "Data_Change.set_index('Date', inplace=True)\n",
    "\n",
    "# Nan en vide\n",
    "Data_Change = Data_Change.fillna('')\n",
    "\n",
    "Data_Change"
   ],
   "outputs": [
    {
     "data": {
      "text/plain": [
       "           Added Removed\n",
       "Date                    \n",
       "2025-09-22   EME    ENPH\n",
       "2025-09-22  HOOD     CZR\n",
       "2025-09-22   APP    MKTX\n",
       "2025-08-28  IBKR     WBA\n",
       "2025-07-23   XYZ     HES\n",
       "...          ...     ...\n",
       "1998-12-11  CPWR     SUN\n",
       "1997-06-17   CCR     USL\n",
       "1994-09-30   NCC     MCK\n",
       "1976-07-01   BUD     HNG\n",
       "1976-07-01   DIS     AYE\n",
       "\n",
       "[379 rows x 2 columns]"
      ],
      "text/html": [
       "<div>\n",
       "<style scoped>\n",
       "    .dataframe tbody tr th:only-of-type {\n",
       "        vertical-align: middle;\n",
       "    }\n",
       "\n",
       "    .dataframe tbody tr th {\n",
       "        vertical-align: top;\n",
       "    }\n",
       "\n",
       "    .dataframe thead th {\n",
       "        text-align: right;\n",
       "    }\n",
       "</style>\n",
       "<table border=\"1\" class=\"dataframe\">\n",
       "  <thead>\n",
       "    <tr style=\"text-align: right;\">\n",
       "      <th></th>\n",
       "      <th>Added</th>\n",
       "      <th>Removed</th>\n",
       "    </tr>\n",
       "    <tr>\n",
       "      <th>Date</th>\n",
       "      <th></th>\n",
       "      <th></th>\n",
       "    </tr>\n",
       "  </thead>\n",
       "  <tbody>\n",
       "    <tr>\n",
       "      <th>2025-09-22</th>\n",
       "      <td>EME</td>\n",
       "      <td>ENPH</td>\n",
       "    </tr>\n",
       "    <tr>\n",
       "      <th>2025-09-22</th>\n",
       "      <td>HOOD</td>\n",
       "      <td>CZR</td>\n",
       "    </tr>\n",
       "    <tr>\n",
       "      <th>2025-09-22</th>\n",
       "      <td>APP</td>\n",
       "      <td>MKTX</td>\n",
       "    </tr>\n",
       "    <tr>\n",
       "      <th>2025-08-28</th>\n",
       "      <td>IBKR</td>\n",
       "      <td>WBA</td>\n",
       "    </tr>\n",
       "    <tr>\n",
       "      <th>2025-07-23</th>\n",
       "      <td>XYZ</td>\n",
       "      <td>HES</td>\n",
       "    </tr>\n",
       "    <tr>\n",
       "      <th>...</th>\n",
       "      <td>...</td>\n",
       "      <td>...</td>\n",
       "    </tr>\n",
       "    <tr>\n",
       "      <th>1998-12-11</th>\n",
       "      <td>CPWR</td>\n",
       "      <td>SUN</td>\n",
       "    </tr>\n",
       "    <tr>\n",
       "      <th>1997-06-17</th>\n",
       "      <td>CCR</td>\n",
       "      <td>USL</td>\n",
       "    </tr>\n",
       "    <tr>\n",
       "      <th>1994-09-30</th>\n",
       "      <td>NCC</td>\n",
       "      <td>MCK</td>\n",
       "    </tr>\n",
       "    <tr>\n",
       "      <th>1976-07-01</th>\n",
       "      <td>BUD</td>\n",
       "      <td>HNG</td>\n",
       "    </tr>\n",
       "    <tr>\n",
       "      <th>1976-07-01</th>\n",
       "      <td>DIS</td>\n",
       "      <td>AYE</td>\n",
       "    </tr>\n",
       "  </tbody>\n",
       "</table>\n",
       "<p>379 rows × 2 columns</p>\n",
       "</div>"
      ]
     },
     "execution_count": 6,
     "metadata": {},
     "output_type": "execute_result"
    }
   ],
   "execution_count": 6
  },
  {
   "cell_type": "code",
   "id": "48c463b9-ff84-4821-85cb-6bde2c7350a6",
   "metadata": {
    "ExecuteTime": {
     "end_time": "2025-10-07T11:50:19.683601Z",
     "start_time": "2025-10-07T11:50:19.681313Z"
    }
   },
   "source": [
    "len(tickers)"
   ],
   "outputs": [
    {
     "data": {
      "text/plain": [
       "503"
      ]
     },
     "execution_count": 7,
     "metadata": {},
     "output_type": "execute_result"
    }
   ],
   "execution_count": 7
  },
  {
   "cell_type": "code",
   "id": "20a9d36e-3278-4048-b5f2-582ebcbdef5b",
   "metadata": {
    "scrolled": true,
    "ExecuteTime": {
     "end_time": "2025-10-07T11:50:20.440200Z",
     "start_time": "2025-10-07T11:50:19.697598Z"
    }
   },
   "source": [
    "# Supposons que la liste tickers ait déjà 503 éléments au départ\n",
    "# tickers = ['AAPL', 'MSFT', ...]  # Exemples de tickers initiaux\n",
    "\n",
    "# Initialiser un dictionnaire vide\n",
    "dict = {}\n",
    "\n",
    "# Boucle pour parcourir les données et mettre à jour le dictionnaire\n",
    "for i in range(0, len(Data_Change)):\n",
    "    \n",
    "    # Ajouter les nouveaux tickers (si ce n'est pas déjà un ensemble vide)\n",
    "    tickers.extend(Data_Change.Added[i])\n",
    "    \n",
    "    # Essayer de supprimer les tickers retirés, si possible\n",
    "    try:\n",
    "        tickers = [t for t in tickers if t not in Data_Change.Removed[i]]  # Supprimer les tickers retirés\n",
    "    except ValueError:\n",
    "        # Si l'élément à supprimer n'existe pas dans la liste, continuer sans erreur\n",
    "        pass\n",
    "    \n",
    "    # Trier les tickers\n",
    "    tickers = sorted(set(tickers))  # Utilisation de set pour éviter les doublons\n",
    "\n",
    "    # Ajouter une **copie** de la liste `tickers` dans le dictionnaire\n",
    "    dict[Data_Change.index[i]] = tickers.copy()\n",
    "\n",
    "df = pd.DataFrame(list(dict.items()), columns=['date', 'tickers'])\n",
    "\n",
    "df['date'] = pd.to_datetime(df['date'])\n",
    "\n",
    "# Mettre la colonne 'date' comme index\n",
    "df.set_index('date', inplace=True)\n",
    "\n",
    "df"
   ],
   "outputs": [
    {
     "name": "stderr",
     "output_type": "stream",
     "text": [
      "/var/folders/6k/82j2nnl13hj9ld7nmzpdt6fh0000gn/T/ipykernel_1487/1527443372.py:11: FutureWarning: Series.__getitem__ treating keys as positions is deprecated. In a future version, integer keys will always be treated as labels (consistent with DataFrame behavior). To access a value by position, use `ser.iloc[pos]`\n",
      "  tickers.extend(Data_Change.Added[i])\n",
      "/var/folders/6k/82j2nnl13hj9ld7nmzpdt6fh0000gn/T/ipykernel_1487/1527443372.py:15: FutureWarning: Series.__getitem__ treating keys as positions is deprecated. In a future version, integer keys will always be treated as labels (consistent with DataFrame behavior). To access a value by position, use `ser.iloc[pos]`\n",
      "  tickers = [t for t in tickers if t not in Data_Change.Removed[i]]  # Supprimer les tickers retirés\n"
     ]
    },
    {
     "data": {
      "text/plain": [
       "                                                      tickers\n",
       "date                                                         \n",
       "2025-09-22  [A, AAPL, ABBV, ABNB, ABT, ACGL, ACN, ADBE, AD...\n",
       "2025-08-28  [AAPL, ABBV, ABNB, ABT, ACGL, ACN, ADBE, ADI, ...\n",
       "2025-07-23  [AAPL, ABBV, ABNB, ABT, ACGL, ACN, ADBE, ADI, ...\n",
       "2025-07-18  [AAPL, ABBV, ABNB, ABT, ACGL, ACN, ADBE, ADI, ...\n",
       "2025-07-09  [AAPL, ABBV, ABNB, ABT, ACGL, ACN, ADBE, ADI, ...\n",
       "...                                                       ...\n",
       "1999-04-12  [A, AAPL, ABBV, ABNB, ABT, ACGL, ACN, ADBE, AD...\n",
       "1998-12-11  [AAPL, ABBV, ABNB, ABT, ACGL, ACN, ADBE, ADI, ...\n",
       "1997-06-17  [AAPL, ABBV, ABNB, ABT, ACGL, ACN, ADBE, ADI, ...\n",
       "1994-09-30  [AAPL, ABBV, ABNB, ABT, ACGL, ACN, ADBE, ADI, ...\n",
       "1976-07-01  [AAPL, ABBV, ABNB, ABT, ACGL, ACN, ADBE, ADI, ...\n",
       "\n",
       "[285 rows x 1 columns]"
      ],
      "text/html": [
       "<div>\n",
       "<style scoped>\n",
       "    .dataframe tbody tr th:only-of-type {\n",
       "        vertical-align: middle;\n",
       "    }\n",
       "\n",
       "    .dataframe tbody tr th {\n",
       "        vertical-align: top;\n",
       "    }\n",
       "\n",
       "    .dataframe thead th {\n",
       "        text-align: right;\n",
       "    }\n",
       "</style>\n",
       "<table border=\"1\" class=\"dataframe\">\n",
       "  <thead>\n",
       "    <tr style=\"text-align: right;\">\n",
       "      <th></th>\n",
       "      <th>tickers</th>\n",
       "    </tr>\n",
       "    <tr>\n",
       "      <th>date</th>\n",
       "      <th></th>\n",
       "    </tr>\n",
       "  </thead>\n",
       "  <tbody>\n",
       "    <tr>\n",
       "      <th>2025-09-22</th>\n",
       "      <td>[A, AAPL, ABBV, ABNB, ABT, ACGL, ACN, ADBE, AD...</td>\n",
       "    </tr>\n",
       "    <tr>\n",
       "      <th>2025-08-28</th>\n",
       "      <td>[AAPL, ABBV, ABNB, ABT, ACGL, ACN, ADBE, ADI, ...</td>\n",
       "    </tr>\n",
       "    <tr>\n",
       "      <th>2025-07-23</th>\n",
       "      <td>[AAPL, ABBV, ABNB, ABT, ACGL, ACN, ADBE, ADI, ...</td>\n",
       "    </tr>\n",
       "    <tr>\n",
       "      <th>2025-07-18</th>\n",
       "      <td>[AAPL, ABBV, ABNB, ABT, ACGL, ACN, ADBE, ADI, ...</td>\n",
       "    </tr>\n",
       "    <tr>\n",
       "      <th>2025-07-09</th>\n",
       "      <td>[AAPL, ABBV, ABNB, ABT, ACGL, ACN, ADBE, ADI, ...</td>\n",
       "    </tr>\n",
       "    <tr>\n",
       "      <th>...</th>\n",
       "      <td>...</td>\n",
       "    </tr>\n",
       "    <tr>\n",
       "      <th>1999-04-12</th>\n",
       "      <td>[A, AAPL, ABBV, ABNB, ABT, ACGL, ACN, ADBE, AD...</td>\n",
       "    </tr>\n",
       "    <tr>\n",
       "      <th>1998-12-11</th>\n",
       "      <td>[AAPL, ABBV, ABNB, ABT, ACGL, ACN, ADBE, ADI, ...</td>\n",
       "    </tr>\n",
       "    <tr>\n",
       "      <th>1997-06-17</th>\n",
       "      <td>[AAPL, ABBV, ABNB, ABT, ACGL, ACN, ADBE, ADI, ...</td>\n",
       "    </tr>\n",
       "    <tr>\n",
       "      <th>1994-09-30</th>\n",
       "      <td>[AAPL, ABBV, ABNB, ABT, ACGL, ACN, ADBE, ADI, ...</td>\n",
       "    </tr>\n",
       "    <tr>\n",
       "      <th>1976-07-01</th>\n",
       "      <td>[AAPL, ABBV, ABNB, ABT, ACGL, ACN, ADBE, ADI, ...</td>\n",
       "    </tr>\n",
       "  </tbody>\n",
       "</table>\n",
       "<p>285 rows × 1 columns</p>\n",
       "</div>"
      ]
     },
     "execution_count": 8,
     "metadata": {},
     "output_type": "execute_result"
    }
   ],
   "execution_count": 8
  },
  {
   "metadata": {
    "ExecuteTime": {
     "end_time": "2025-10-07T11:50:20.449Z",
     "start_time": "2025-10-07T11:50:20.446821Z"
    }
   },
   "cell_type": "code",
   "source": [
    "# Récupère l'index en liste\n",
    "new_index = list(df.index)\n",
    "\n",
    "# Remplace la première valeur\n",
    "new_index[0] = datetime.today().date()\n",
    "\n",
    "# Réapplique l'index modifié\n",
    "df.index = pd.to_datetime(new_index)"
   ],
   "id": "7bb535b927d2bb5b",
   "outputs": [],
   "execution_count": 9
  },
  {
   "metadata": {
    "ExecuteTime": {
     "end_time": "2025-10-07T11:50:20.463381Z",
     "start_time": "2025-10-07T11:50:20.459144Z"
    }
   },
   "cell_type": "code",
   "source": "df",
   "id": "8726eeeb2cff1231",
   "outputs": [
    {
     "data": {
      "text/plain": [
       "                                                      tickers\n",
       "2025-10-07  [A, AAPL, ABBV, ABNB, ABT, ACGL, ACN, ADBE, AD...\n",
       "2025-08-28  [AAPL, ABBV, ABNB, ABT, ACGL, ACN, ADBE, ADI, ...\n",
       "2025-07-23  [AAPL, ABBV, ABNB, ABT, ACGL, ACN, ADBE, ADI, ...\n",
       "2025-07-18  [AAPL, ABBV, ABNB, ABT, ACGL, ACN, ADBE, ADI, ...\n",
       "2025-07-09  [AAPL, ABBV, ABNB, ABT, ACGL, ACN, ADBE, ADI, ...\n",
       "...                                                       ...\n",
       "1999-04-12  [A, AAPL, ABBV, ABNB, ABT, ACGL, ACN, ADBE, AD...\n",
       "1998-12-11  [AAPL, ABBV, ABNB, ABT, ACGL, ACN, ADBE, ADI, ...\n",
       "1997-06-17  [AAPL, ABBV, ABNB, ABT, ACGL, ACN, ADBE, ADI, ...\n",
       "1994-09-30  [AAPL, ABBV, ABNB, ABT, ACGL, ACN, ADBE, ADI, ...\n",
       "1976-07-01  [AAPL, ABBV, ABNB, ABT, ACGL, ACN, ADBE, ADI, ...\n",
       "\n",
       "[285 rows x 1 columns]"
      ],
      "text/html": [
       "<div>\n",
       "<style scoped>\n",
       "    .dataframe tbody tr th:only-of-type {\n",
       "        vertical-align: middle;\n",
       "    }\n",
       "\n",
       "    .dataframe tbody tr th {\n",
       "        vertical-align: top;\n",
       "    }\n",
       "\n",
       "    .dataframe thead th {\n",
       "        text-align: right;\n",
       "    }\n",
       "</style>\n",
       "<table border=\"1\" class=\"dataframe\">\n",
       "  <thead>\n",
       "    <tr style=\"text-align: right;\">\n",
       "      <th></th>\n",
       "      <th>tickers</th>\n",
       "    </tr>\n",
       "  </thead>\n",
       "  <tbody>\n",
       "    <tr>\n",
       "      <th>2025-10-07</th>\n",
       "      <td>[A, AAPL, ABBV, ABNB, ABT, ACGL, ACN, ADBE, AD...</td>\n",
       "    </tr>\n",
       "    <tr>\n",
       "      <th>2025-08-28</th>\n",
       "      <td>[AAPL, ABBV, ABNB, ABT, ACGL, ACN, ADBE, ADI, ...</td>\n",
       "    </tr>\n",
       "    <tr>\n",
       "      <th>2025-07-23</th>\n",
       "      <td>[AAPL, ABBV, ABNB, ABT, ACGL, ACN, ADBE, ADI, ...</td>\n",
       "    </tr>\n",
       "    <tr>\n",
       "      <th>2025-07-18</th>\n",
       "      <td>[AAPL, ABBV, ABNB, ABT, ACGL, ACN, ADBE, ADI, ...</td>\n",
       "    </tr>\n",
       "    <tr>\n",
       "      <th>2025-07-09</th>\n",
       "      <td>[AAPL, ABBV, ABNB, ABT, ACGL, ACN, ADBE, ADI, ...</td>\n",
       "    </tr>\n",
       "    <tr>\n",
       "      <th>...</th>\n",
       "      <td>...</td>\n",
       "    </tr>\n",
       "    <tr>\n",
       "      <th>1999-04-12</th>\n",
       "      <td>[A, AAPL, ABBV, ABNB, ABT, ACGL, ACN, ADBE, AD...</td>\n",
       "    </tr>\n",
       "    <tr>\n",
       "      <th>1998-12-11</th>\n",
       "      <td>[AAPL, ABBV, ABNB, ABT, ACGL, ACN, ADBE, ADI, ...</td>\n",
       "    </tr>\n",
       "    <tr>\n",
       "      <th>1997-06-17</th>\n",
       "      <td>[AAPL, ABBV, ABNB, ABT, ACGL, ACN, ADBE, ADI, ...</td>\n",
       "    </tr>\n",
       "    <tr>\n",
       "      <th>1994-09-30</th>\n",
       "      <td>[AAPL, ABBV, ABNB, ABT, ACGL, ACN, ADBE, ADI, ...</td>\n",
       "    </tr>\n",
       "    <tr>\n",
       "      <th>1976-07-01</th>\n",
       "      <td>[AAPL, ABBV, ABNB, ABT, ACGL, ACN, ADBE, ADI, ...</td>\n",
       "    </tr>\n",
       "  </tbody>\n",
       "</table>\n",
       "<p>285 rows × 1 columns</p>\n",
       "</div>"
      ]
     },
     "execution_count": 10,
     "metadata": {},
     "output_type": "execute_result"
    }
   ],
   "execution_count": 10
  },
  {
   "metadata": {
    "ExecuteTime": {
     "end_time": "2025-10-07T11:50:20.771610Z",
     "start_time": "2025-10-07T11:50:20.474504Z"
    }
   },
   "cell_type": "code",
   "source": [
    "\n",
    "data_SP500_old = pd.read_parquet('/Users/forget/Library/Mobile Documents/com~apple~CloudDocs/Project Stock Market Deep Learning/Data/data_SP500.parquet')\n",
    "last_date = data_SP500_old['Date'].sort_values(ascending=True).iloc[-1] + timedelta(days=1)\n",
    "last_date\n"
   ],
   "id": "d328e69739b0f844",
   "outputs": [
    {
     "data": {
      "text/plain": [
       "Timestamp('2025-10-04 00:00:00')"
      ]
     },
     "execution_count": 11,
     "metadata": {},
     "output_type": "execute_result"
    }
   ],
   "execution_count": 11
  },
  {
   "metadata": {
    "ExecuteTime": {
     "end_time": "2025-10-07T11:50:20.784961Z",
     "start_time": "2025-10-07T11:50:20.778327Z"
    }
   },
   "cell_type": "code",
   "source": [
    "df['Last_Date'] = last_date\n",
    "df"
   ],
   "id": "4ee6f7fd0f2fe091",
   "outputs": [
    {
     "data": {
      "text/plain": [
       "                                                      tickers  Last_Date\n",
       "2025-10-07  [A, AAPL, ABBV, ABNB, ABT, ACGL, ACN, ADBE, AD... 2025-10-04\n",
       "2025-08-28  [AAPL, ABBV, ABNB, ABT, ACGL, ACN, ADBE, ADI, ... 2025-10-04\n",
       "2025-07-23  [AAPL, ABBV, ABNB, ABT, ACGL, ACN, ADBE, ADI, ... 2025-10-04\n",
       "2025-07-18  [AAPL, ABBV, ABNB, ABT, ACGL, ACN, ADBE, ADI, ... 2025-10-04\n",
       "2025-07-09  [AAPL, ABBV, ABNB, ABT, ACGL, ACN, ADBE, ADI, ... 2025-10-04\n",
       "...                                                       ...        ...\n",
       "1999-04-12  [A, AAPL, ABBV, ABNB, ABT, ACGL, ACN, ADBE, AD... 2025-10-04\n",
       "1998-12-11  [AAPL, ABBV, ABNB, ABT, ACGL, ACN, ADBE, ADI, ... 2025-10-04\n",
       "1997-06-17  [AAPL, ABBV, ABNB, ABT, ACGL, ACN, ADBE, ADI, ... 2025-10-04\n",
       "1994-09-30  [AAPL, ABBV, ABNB, ABT, ACGL, ACN, ADBE, ADI, ... 2025-10-04\n",
       "1976-07-01  [AAPL, ABBV, ABNB, ABT, ACGL, ACN, ADBE, ADI, ... 2025-10-04\n",
       "\n",
       "[285 rows x 2 columns]"
      ],
      "text/html": [
       "<div>\n",
       "<style scoped>\n",
       "    .dataframe tbody tr th:only-of-type {\n",
       "        vertical-align: middle;\n",
       "    }\n",
       "\n",
       "    .dataframe tbody tr th {\n",
       "        vertical-align: top;\n",
       "    }\n",
       "\n",
       "    .dataframe thead th {\n",
       "        text-align: right;\n",
       "    }\n",
       "</style>\n",
       "<table border=\"1\" class=\"dataframe\">\n",
       "  <thead>\n",
       "    <tr style=\"text-align: right;\">\n",
       "      <th></th>\n",
       "      <th>tickers</th>\n",
       "      <th>Last_Date</th>\n",
       "    </tr>\n",
       "  </thead>\n",
       "  <tbody>\n",
       "    <tr>\n",
       "      <th>2025-10-07</th>\n",
       "      <td>[A, AAPL, ABBV, ABNB, ABT, ACGL, ACN, ADBE, AD...</td>\n",
       "      <td>2025-10-04</td>\n",
       "    </tr>\n",
       "    <tr>\n",
       "      <th>2025-08-28</th>\n",
       "      <td>[AAPL, ABBV, ABNB, ABT, ACGL, ACN, ADBE, ADI, ...</td>\n",
       "      <td>2025-10-04</td>\n",
       "    </tr>\n",
       "    <tr>\n",
       "      <th>2025-07-23</th>\n",
       "      <td>[AAPL, ABBV, ABNB, ABT, ACGL, ACN, ADBE, ADI, ...</td>\n",
       "      <td>2025-10-04</td>\n",
       "    </tr>\n",
       "    <tr>\n",
       "      <th>2025-07-18</th>\n",
       "      <td>[AAPL, ABBV, ABNB, ABT, ACGL, ACN, ADBE, ADI, ...</td>\n",
       "      <td>2025-10-04</td>\n",
       "    </tr>\n",
       "    <tr>\n",
       "      <th>2025-07-09</th>\n",
       "      <td>[AAPL, ABBV, ABNB, ABT, ACGL, ACN, ADBE, ADI, ...</td>\n",
       "      <td>2025-10-04</td>\n",
       "    </tr>\n",
       "    <tr>\n",
       "      <th>...</th>\n",
       "      <td>...</td>\n",
       "      <td>...</td>\n",
       "    </tr>\n",
       "    <tr>\n",
       "      <th>1999-04-12</th>\n",
       "      <td>[A, AAPL, ABBV, ABNB, ABT, ACGL, ACN, ADBE, AD...</td>\n",
       "      <td>2025-10-04</td>\n",
       "    </tr>\n",
       "    <tr>\n",
       "      <th>1998-12-11</th>\n",
       "      <td>[AAPL, ABBV, ABNB, ABT, ACGL, ACN, ADBE, ADI, ...</td>\n",
       "      <td>2025-10-04</td>\n",
       "    </tr>\n",
       "    <tr>\n",
       "      <th>1997-06-17</th>\n",
       "      <td>[AAPL, ABBV, ABNB, ABT, ACGL, ACN, ADBE, ADI, ...</td>\n",
       "      <td>2025-10-04</td>\n",
       "    </tr>\n",
       "    <tr>\n",
       "      <th>1994-09-30</th>\n",
       "      <td>[AAPL, ABBV, ABNB, ABT, ACGL, ACN, ADBE, ADI, ...</td>\n",
       "      <td>2025-10-04</td>\n",
       "    </tr>\n",
       "    <tr>\n",
       "      <th>1976-07-01</th>\n",
       "      <td>[AAPL, ABBV, ABNB, ABT, ACGL, ACN, ADBE, ADI, ...</td>\n",
       "      <td>2025-10-04</td>\n",
       "    </tr>\n",
       "  </tbody>\n",
       "</table>\n",
       "<p>285 rows × 2 columns</p>\n",
       "</div>"
      ]
     },
     "execution_count": 12,
     "metadata": {},
     "output_type": "execute_result"
    }
   ],
   "execution_count": 12
  },
  {
   "metadata": {
    "ExecuteTime": {
     "end_time": "2025-10-07T11:50:20.811240Z",
     "start_time": "2025-10-07T11:50:20.795225Z"
    }
   },
   "cell_type": "code",
   "source": [
    "\n",
    "# Initialiser une DataFrame vide pour stocker toutes les données\n",
    "data_SP500 = pd.DataFrame()\n",
    "\n",
    "df = df.explode('tickers')\n",
    "end_date = df[df.index > last_date].groupby('tickers').apply(lambda x: x.index.max())\n",
    "\n",
    "# Combiner les résultats dans une nouvelle DataFrame\n",
    "resultat = pd.DataFrame({'Start': last_date, 'End': end_date})\n",
    "resultat\n"
   ],
   "id": "1b8881d53f757d6b",
   "outputs": [
    {
     "name": "stderr",
     "output_type": "stream",
     "text": [
      "/var/folders/6k/82j2nnl13hj9ld7nmzpdt6fh0000gn/T/ipykernel_1487/2328952231.py:5: FutureWarning: DataFrameGroupBy.apply operated on the grouping columns. This behavior is deprecated, and in a future version of pandas the grouping columns will be excluded from the operation. Either pass `include_groups=False` to exclude the groupings or explicitly select the grouping columns after groupby to silence this warning.\n",
      "  end_date = df[df.index > last_date].groupby('tickers').apply(lambda x: x.index.max())\n"
     ]
    },
    {
     "data": {
      "text/plain": [
       "             Start        End\n",
       "tickers                      \n",
       "A       2025-10-04 2025-10-07\n",
       "AAPL    2025-10-04 2025-10-07\n",
       "ABBV    2025-10-04 2025-10-07\n",
       "ABNB    2025-10-04 2025-10-07\n",
       "ABT     2025-10-04 2025-10-07\n",
       "...            ...        ...\n",
       "XYZ     2025-10-04 2025-10-07\n",
       "YUM     2025-10-04 2025-10-07\n",
       "ZBH     2025-10-04 2025-10-07\n",
       "ZBRA    2025-10-04 2025-10-07\n",
       "ZTS     2025-10-04 2025-10-07\n",
       "\n",
       "[501 rows x 2 columns]"
      ],
      "text/html": [
       "<div>\n",
       "<style scoped>\n",
       "    .dataframe tbody tr th:only-of-type {\n",
       "        vertical-align: middle;\n",
       "    }\n",
       "\n",
       "    .dataframe tbody tr th {\n",
       "        vertical-align: top;\n",
       "    }\n",
       "\n",
       "    .dataframe thead th {\n",
       "        text-align: right;\n",
       "    }\n",
       "</style>\n",
       "<table border=\"1\" class=\"dataframe\">\n",
       "  <thead>\n",
       "    <tr style=\"text-align: right;\">\n",
       "      <th></th>\n",
       "      <th>Start</th>\n",
       "      <th>End</th>\n",
       "    </tr>\n",
       "    <tr>\n",
       "      <th>tickers</th>\n",
       "      <th></th>\n",
       "      <th></th>\n",
       "    </tr>\n",
       "  </thead>\n",
       "  <tbody>\n",
       "    <tr>\n",
       "      <th>A</th>\n",
       "      <td>2025-10-04</td>\n",
       "      <td>2025-10-07</td>\n",
       "    </tr>\n",
       "    <tr>\n",
       "      <th>AAPL</th>\n",
       "      <td>2025-10-04</td>\n",
       "      <td>2025-10-07</td>\n",
       "    </tr>\n",
       "    <tr>\n",
       "      <th>ABBV</th>\n",
       "      <td>2025-10-04</td>\n",
       "      <td>2025-10-07</td>\n",
       "    </tr>\n",
       "    <tr>\n",
       "      <th>ABNB</th>\n",
       "      <td>2025-10-04</td>\n",
       "      <td>2025-10-07</td>\n",
       "    </tr>\n",
       "    <tr>\n",
       "      <th>ABT</th>\n",
       "      <td>2025-10-04</td>\n",
       "      <td>2025-10-07</td>\n",
       "    </tr>\n",
       "    <tr>\n",
       "      <th>...</th>\n",
       "      <td>...</td>\n",
       "      <td>...</td>\n",
       "    </tr>\n",
       "    <tr>\n",
       "      <th>XYZ</th>\n",
       "      <td>2025-10-04</td>\n",
       "      <td>2025-10-07</td>\n",
       "    </tr>\n",
       "    <tr>\n",
       "      <th>YUM</th>\n",
       "      <td>2025-10-04</td>\n",
       "      <td>2025-10-07</td>\n",
       "    </tr>\n",
       "    <tr>\n",
       "      <th>ZBH</th>\n",
       "      <td>2025-10-04</td>\n",
       "      <td>2025-10-07</td>\n",
       "    </tr>\n",
       "    <tr>\n",
       "      <th>ZBRA</th>\n",
       "      <td>2025-10-04</td>\n",
       "      <td>2025-10-07</td>\n",
       "    </tr>\n",
       "    <tr>\n",
       "      <th>ZTS</th>\n",
       "      <td>2025-10-04</td>\n",
       "      <td>2025-10-07</td>\n",
       "    </tr>\n",
       "  </tbody>\n",
       "</table>\n",
       "<p>501 rows × 2 columns</p>\n",
       "</div>"
      ]
     },
     "execution_count": 13,
     "metadata": {},
     "output_type": "execute_result"
    }
   ],
   "execution_count": 13
  },
  {
   "metadata": {
    "ExecuteTime": {
     "end_time": "2025-10-07T11:50:20.881874Z",
     "start_time": "2025-10-07T11:50:20.880020Z"
    }
   },
   "cell_type": "code",
   "source": [
    "\"\"\"\n",
    "# Initialiser une DataFrame vide pour stocker toutes les données\n",
    "data_SP500 = pd.DataFrame()\n",
    "\n",
    "df = df.explode('tickers')\n",
    "start_date = df.groupby('tickers').apply(lambda x: x.index.min())\n",
    "end_date = df.groupby('tickers').apply(lambda x: x.index.max())\n",
    "\n",
    "# Combiner les résultats dans une nouvelle DataFrame\n",
    "resultat = pd.DataFrame({'Start': start_date, 'End': end_date})\n",
    "resultat\n",
    "\"\"\""
   ],
   "id": "435eb2e7a8761814",
   "outputs": [
    {
     "data": {
      "text/plain": [
       "\"\\n# Initialiser une DataFrame vide pour stocker toutes les données\\ndata_SP500 = pd.DataFrame()\\n\\ndf = df.explode('tickers')\\nstart_date = df.groupby('tickers').apply(lambda x: x.index.min())\\nend_date = df.groupby('tickers').apply(lambda x: x.index.max())\\n\\n# Combiner les résultats dans une nouvelle DataFrame\\nresultat = pd.DataFrame({'Start': start_date, 'End': end_date})\\nresultat\\n\""
      ]
     },
     "execution_count": 14,
     "metadata": {},
     "output_type": "execute_result"
    }
   ],
   "execution_count": 14
  },
  {
   "cell_type": "code",
   "id": "8edfe1d8-b9a5-4a07-ae0a-164b36e7b60c",
   "metadata": {
    "ExecuteTime": {
     "end_time": "2025-10-07T11:51:43.650234Z",
     "start_time": "2025-10-07T11:50:20.912935Z"
    }
   },
   "source": [
    "# Télécharger les données pour chaque ticker\n",
    "for ticker in resultat.index:\n",
    "    start_date = resultat.loc[ticker, 'Start']\n",
    "    end_date = resultat.loc[ticker, 'End']\n",
    "\n",
    "    print(f\"Téléchargement des données pour {ticker} de {start_date} à {end_date}\")\n",
    "\n",
    "    # Télécharger les données de l'action entre les dates spécifiées\n",
    "    data = yf.download(\n",
    "                        ticker,\n",
    "                        start=start_date,\n",
    "                        end=end_date,\n",
    "                        interval=\"1d\",\n",
    "                        auto_adjust=True,\n",
    "                        actions=False\n",
    "                        )\n",
    "\n",
    "    # Ajouter une colonne pour identifier le ticker\n",
    "    data['Ticker'] = ticker\n",
    "\n",
    "    # On retire le niveau des tickers pour ne garder que 'Close' et 'Volume'\n",
    "    data.columns = data.columns.droplevel(level=1)\n",
    "    \n",
    "    # Concaténer les données dans la DataFrame globale\n",
    "    data_SP500 = pd.concat([data_SP500, data])\n",
    "\n",
    "# Affichage de la DataFrame résultante\n",
    "data_SP500"
   ],
   "outputs": [
    {
     "name": "stdout",
     "output_type": "stream",
     "text": [
      "Téléchargement des données pour A de 2025-10-04 00:00:00 à 2025-10-07 00:00:00\n"
     ]
    },
    {
     "name": "stderr",
     "output_type": "stream",
     "text": [
      "[*********************100%***********************]  1 of 1 completed\n"
     ]
    },
    {
     "name": "stdout",
     "output_type": "stream",
     "text": [
      "Téléchargement des données pour AAPL de 2025-10-04 00:00:00 à 2025-10-07 00:00:00\n"
     ]
    },
    {
     "name": "stderr",
     "output_type": "stream",
     "text": [
      "[*********************100%***********************]  1 of 1 completed\n",
      "[*********************100%***********************]  1 of 1 completed\n"
     ]
    },
    {
     "name": "stdout",
     "output_type": "stream",
     "text": [
      "Téléchargement des données pour ABBV de 2025-10-04 00:00:00 à 2025-10-07 00:00:00\n",
      "Téléchargement des données pour ABNB de 2025-10-04 00:00:00 à 2025-10-07 00:00:00\n"
     ]
    },
    {
     "name": "stderr",
     "output_type": "stream",
     "text": [
      "[*********************100%***********************]  1 of 1 completed\n",
      "[*********************100%***********************]  1 of 1 completed\n"
     ]
    },
    {
     "name": "stdout",
     "output_type": "stream",
     "text": [
      "Téléchargement des données pour ABT de 2025-10-04 00:00:00 à 2025-10-07 00:00:00\n",
      "Téléchargement des données pour ACGL de 2025-10-04 00:00:00 à 2025-10-07 00:00:00\n"
     ]
    },
    {
     "name": "stderr",
     "output_type": "stream",
     "text": [
      "[*********************100%***********************]  1 of 1 completed\n",
      "[*********************100%***********************]  1 of 1 completed\n"
     ]
    },
    {
     "name": "stdout",
     "output_type": "stream",
     "text": [
      "Téléchargement des données pour ACN de 2025-10-04 00:00:00 à 2025-10-07 00:00:00\n",
      "Téléchargement des données pour ADBE de 2025-10-04 00:00:00 à 2025-10-07 00:00:00\n"
     ]
    },
    {
     "name": "stderr",
     "output_type": "stream",
     "text": [
      "[*********************100%***********************]  1 of 1 completed\n",
      "[*********************100%***********************]  1 of 1 completed\n"
     ]
    },
    {
     "name": "stdout",
     "output_type": "stream",
     "text": [
      "Téléchargement des données pour ADI de 2025-10-04 00:00:00 à 2025-10-07 00:00:00\n",
      "Téléchargement des données pour ADM de 2025-10-04 00:00:00 à 2025-10-07 00:00:00\n"
     ]
    },
    {
     "name": "stderr",
     "output_type": "stream",
     "text": [
      "[*********************100%***********************]  1 of 1 completed\n",
      "[*********************100%***********************]  1 of 1 completed\n"
     ]
    },
    {
     "name": "stdout",
     "output_type": "stream",
     "text": [
      "Téléchargement des données pour ADP de 2025-10-04 00:00:00 à 2025-10-07 00:00:00\n",
      "Téléchargement des données pour ADSK de 2025-10-04 00:00:00 à 2025-10-07 00:00:00\n"
     ]
    },
    {
     "name": "stderr",
     "output_type": "stream",
     "text": [
      "[*********************100%***********************]  1 of 1 completed\n",
      "[*********************100%***********************]  1 of 1 completed\n"
     ]
    },
    {
     "name": "stdout",
     "output_type": "stream",
     "text": [
      "Téléchargement des données pour AEE de 2025-10-04 00:00:00 à 2025-10-07 00:00:00\n",
      "Téléchargement des données pour AEP de 2025-10-04 00:00:00 à 2025-10-07 00:00:00\n"
     ]
    },
    {
     "name": "stderr",
     "output_type": "stream",
     "text": [
      "[*********************100%***********************]  1 of 1 completed\n",
      "[*********************100%***********************]  1 of 1 completed\n"
     ]
    },
    {
     "name": "stdout",
     "output_type": "stream",
     "text": [
      "Téléchargement des données pour AES de 2025-10-04 00:00:00 à 2025-10-07 00:00:00\n",
      "Téléchargement des données pour AFL de 2025-10-04 00:00:00 à 2025-10-07 00:00:00\n"
     ]
    },
    {
     "name": "stderr",
     "output_type": "stream",
     "text": [
      "[*********************100%***********************]  1 of 1 completed\n",
      "[*********************100%***********************]  1 of 1 completed\n"
     ]
    },
    {
     "name": "stdout",
     "output_type": "stream",
     "text": [
      "Téléchargement des données pour AIG de 2025-10-04 00:00:00 à 2025-10-07 00:00:00\n",
      "Téléchargement des données pour AIZ de 2025-10-04 00:00:00 à 2025-10-07 00:00:00\n"
     ]
    },
    {
     "name": "stderr",
     "output_type": "stream",
     "text": [
      "[*********************100%***********************]  1 of 1 completed\n",
      "[*********************100%***********************]  1 of 1 completed\n"
     ]
    },
    {
     "name": "stdout",
     "output_type": "stream",
     "text": [
      "Téléchargement des données pour AJG de 2025-10-04 00:00:00 à 2025-10-07 00:00:00\n",
      "Téléchargement des données pour AKAM de 2025-10-04 00:00:00 à 2025-10-07 00:00:00\n"
     ]
    },
    {
     "name": "stderr",
     "output_type": "stream",
     "text": [
      "[*********************100%***********************]  1 of 1 completed\n",
      "[*********************100%***********************]  1 of 1 completed\n"
     ]
    },
    {
     "name": "stdout",
     "output_type": "stream",
     "text": [
      "Téléchargement des données pour ALB de 2025-10-04 00:00:00 à 2025-10-07 00:00:00\n",
      "Téléchargement des données pour ALGN de 2025-10-04 00:00:00 à 2025-10-07 00:00:00\n"
     ]
    },
    {
     "name": "stderr",
     "output_type": "stream",
     "text": [
      "[*********************100%***********************]  1 of 1 completed\n",
      "[*********************100%***********************]  1 of 1 completed\n"
     ]
    },
    {
     "name": "stdout",
     "output_type": "stream",
     "text": [
      "Téléchargement des données pour ALL de 2025-10-04 00:00:00 à 2025-10-07 00:00:00\n",
      "Téléchargement des données pour ALLE de 2025-10-04 00:00:00 à 2025-10-07 00:00:00\n"
     ]
    },
    {
     "name": "stderr",
     "output_type": "stream",
     "text": [
      "[*********************100%***********************]  1 of 1 completed\n",
      "[*********************100%***********************]  1 of 1 completed\n"
     ]
    },
    {
     "name": "stdout",
     "output_type": "stream",
     "text": [
      "Téléchargement des données pour AMAT de 2025-10-04 00:00:00 à 2025-10-07 00:00:00\n",
      "Téléchargement des données pour AMCR de 2025-10-04 00:00:00 à 2025-10-07 00:00:00\n"
     ]
    },
    {
     "name": "stderr",
     "output_type": "stream",
     "text": [
      "[*********************100%***********************]  1 of 1 completed\n",
      "[*********************100%***********************]  1 of 1 completed\n"
     ]
    },
    {
     "name": "stdout",
     "output_type": "stream",
     "text": [
      "Téléchargement des données pour AMD de 2025-10-04 00:00:00 à 2025-10-07 00:00:00\n",
      "Téléchargement des données pour AME de 2025-10-04 00:00:00 à 2025-10-07 00:00:00\n"
     ]
    },
    {
     "name": "stderr",
     "output_type": "stream",
     "text": [
      "[*********************100%***********************]  1 of 1 completed\n",
      "[*********************100%***********************]  1 of 1 completed\n"
     ]
    },
    {
     "name": "stdout",
     "output_type": "stream",
     "text": [
      "Téléchargement des données pour AMGN de 2025-10-04 00:00:00 à 2025-10-07 00:00:00\n",
      "Téléchargement des données pour AMP de 2025-10-04 00:00:00 à 2025-10-07 00:00:00\n"
     ]
    },
    {
     "name": "stderr",
     "output_type": "stream",
     "text": [
      "[*********************100%***********************]  1 of 1 completed\n",
      "[*********************100%***********************]  1 of 1 completed\n"
     ]
    },
    {
     "name": "stdout",
     "output_type": "stream",
     "text": [
      "Téléchargement des données pour AMT de 2025-10-04 00:00:00 à 2025-10-07 00:00:00\n",
      "Téléchargement des données pour AMZN de 2025-10-04 00:00:00 à 2025-10-07 00:00:00\n"
     ]
    },
    {
     "name": "stderr",
     "output_type": "stream",
     "text": [
      "[*********************100%***********************]  1 of 1 completed\n",
      "[*********************100%***********************]  1 of 1 completed\n"
     ]
    },
    {
     "name": "stdout",
     "output_type": "stream",
     "text": [
      "Téléchargement des données pour ANET de 2025-10-04 00:00:00 à 2025-10-07 00:00:00\n",
      "Téléchargement des données pour AON de 2025-10-04 00:00:00 à 2025-10-07 00:00:00\n"
     ]
    },
    {
     "name": "stderr",
     "output_type": "stream",
     "text": [
      "[*********************100%***********************]  1 of 1 completed\n",
      "[*********************100%***********************]  1 of 1 completed\n"
     ]
    },
    {
     "name": "stdout",
     "output_type": "stream",
     "text": [
      "Téléchargement des données pour AOS de 2025-10-04 00:00:00 à 2025-10-07 00:00:00\n",
      "Téléchargement des données pour APA de 2025-10-04 00:00:00 à 2025-10-07 00:00:00\n"
     ]
    },
    {
     "name": "stderr",
     "output_type": "stream",
     "text": [
      "[*********************100%***********************]  1 of 1 completed\n",
      "[*********************100%***********************]  1 of 1 completed\n"
     ]
    },
    {
     "name": "stdout",
     "output_type": "stream",
     "text": [
      "Téléchargement des données pour APD de 2025-10-04 00:00:00 à 2025-10-07 00:00:00\n",
      "Téléchargement des données pour APH de 2025-10-04 00:00:00 à 2025-10-07 00:00:00\n"
     ]
    },
    {
     "name": "stderr",
     "output_type": "stream",
     "text": [
      "[*********************100%***********************]  1 of 1 completed\n",
      "[*********************100%***********************]  1 of 1 completed\n"
     ]
    },
    {
     "name": "stdout",
     "output_type": "stream",
     "text": [
      "Téléchargement des données pour APO de 2025-10-04 00:00:00 à 2025-10-07 00:00:00\n",
      "Téléchargement des données pour APP de 2025-10-04 00:00:00 à 2025-10-07 00:00:00\n"
     ]
    },
    {
     "name": "stderr",
     "output_type": "stream",
     "text": [
      "[*********************100%***********************]  1 of 1 completed\n",
      "[*********************100%***********************]  1 of 1 completed\n"
     ]
    },
    {
     "name": "stdout",
     "output_type": "stream",
     "text": [
      "Téléchargement des données pour APTV de 2025-10-04 00:00:00 à 2025-10-07 00:00:00\n",
      "Téléchargement des données pour ARE de 2025-10-04 00:00:00 à 2025-10-07 00:00:00\n"
     ]
    },
    {
     "name": "stderr",
     "output_type": "stream",
     "text": [
      "[*********************100%***********************]  1 of 1 completed\n",
      "[*********************100%***********************]  1 of 1 completed\n"
     ]
    },
    {
     "name": "stdout",
     "output_type": "stream",
     "text": [
      "Téléchargement des données pour ATO de 2025-10-04 00:00:00 à 2025-10-07 00:00:00\n",
      "Téléchargement des données pour AVB de 2025-10-04 00:00:00 à 2025-10-07 00:00:00\n"
     ]
    },
    {
     "name": "stderr",
     "output_type": "stream",
     "text": [
      "[*********************100%***********************]  1 of 1 completed\n",
      "[*********************100%***********************]  1 of 1 completed\n"
     ]
    },
    {
     "name": "stdout",
     "output_type": "stream",
     "text": [
      "Téléchargement des données pour AVGO de 2025-10-04 00:00:00 à 2025-10-07 00:00:00\n",
      "Téléchargement des données pour AVY de 2025-10-04 00:00:00 à 2025-10-07 00:00:00\n"
     ]
    },
    {
     "name": "stderr",
     "output_type": "stream",
     "text": [
      "[*********************100%***********************]  1 of 1 completed\n",
      "[*********************100%***********************]  1 of 1 completed\n"
     ]
    },
    {
     "name": "stdout",
     "output_type": "stream",
     "text": [
      "Téléchargement des données pour AWK de 2025-10-04 00:00:00 à 2025-10-07 00:00:00\n",
      "Téléchargement des données pour AXON de 2025-10-04 00:00:00 à 2025-10-07 00:00:00\n"
     ]
    },
    {
     "name": "stderr",
     "output_type": "stream",
     "text": [
      "[*********************100%***********************]  1 of 1 completed\n",
      "[*********************100%***********************]  1 of 1 completed\n"
     ]
    },
    {
     "name": "stdout",
     "output_type": "stream",
     "text": [
      "Téléchargement des données pour AXP de 2025-10-04 00:00:00 à 2025-10-07 00:00:00\n",
      "Téléchargement des données pour AZO de 2025-10-04 00:00:00 à 2025-10-07 00:00:00\n"
     ]
    },
    {
     "name": "stderr",
     "output_type": "stream",
     "text": [
      "[*********************100%***********************]  1 of 1 completed\n",
      "[*********************100%***********************]  1 of 1 completed\n"
     ]
    },
    {
     "name": "stdout",
     "output_type": "stream",
     "text": [
      "Téléchargement des données pour BA de 2025-10-04 00:00:00 à 2025-10-07 00:00:00\n",
      "Téléchargement des données pour BAC de 2025-10-04 00:00:00 à 2025-10-07 00:00:00\n"
     ]
    },
    {
     "name": "stderr",
     "output_type": "stream",
     "text": [
      "[*********************100%***********************]  1 of 1 completed\n",
      "[*********************100%***********************]  1 of 1 completed\n"
     ]
    },
    {
     "name": "stdout",
     "output_type": "stream",
     "text": [
      "Téléchargement des données pour BALL de 2025-10-04 00:00:00 à 2025-10-07 00:00:00\n",
      "Téléchargement des données pour BAX de 2025-10-04 00:00:00 à 2025-10-07 00:00:00\n"
     ]
    },
    {
     "name": "stderr",
     "output_type": "stream",
     "text": [
      "[*********************100%***********************]  1 of 1 completed\n",
      "[*********************100%***********************]  1 of 1 completed\n"
     ]
    },
    {
     "name": "stdout",
     "output_type": "stream",
     "text": [
      "Téléchargement des données pour BBY de 2025-10-04 00:00:00 à 2025-10-07 00:00:00\n",
      "Téléchargement des données pour BDX de 2025-10-04 00:00:00 à 2025-10-07 00:00:00\n"
     ]
    },
    {
     "name": "stderr",
     "output_type": "stream",
     "text": [
      "[*********************100%***********************]  1 of 1 completed\n",
      "[*********************100%***********************]  1 of 1 completed\n"
     ]
    },
    {
     "name": "stdout",
     "output_type": "stream",
     "text": [
      "Téléchargement des données pour BEN de 2025-10-04 00:00:00 à 2025-10-07 00:00:00\n",
      "Téléchargement des données pour BF-B de 2025-10-04 00:00:00 à 2025-10-07 00:00:00\n"
     ]
    },
    {
     "name": "stderr",
     "output_type": "stream",
     "text": [
      "[*********************100%***********************]  1 of 1 completed\n",
      "[*********************100%***********************]  1 of 1 completed\n"
     ]
    },
    {
     "name": "stdout",
     "output_type": "stream",
     "text": [
      "Téléchargement des données pour BG de 2025-10-04 00:00:00 à 2025-10-07 00:00:00\n",
      "Téléchargement des données pour BIIB de 2025-10-04 00:00:00 à 2025-10-07 00:00:00\n"
     ]
    },
    {
     "name": "stderr",
     "output_type": "stream",
     "text": [
      "[*********************100%***********************]  1 of 1 completed\n",
      "[*********************100%***********************]  1 of 1 completed\n"
     ]
    },
    {
     "name": "stdout",
     "output_type": "stream",
     "text": [
      "Téléchargement des données pour BK de 2025-10-04 00:00:00 à 2025-10-07 00:00:00\n",
      "Téléchargement des données pour BKNG de 2025-10-04 00:00:00 à 2025-10-07 00:00:00\n"
     ]
    },
    {
     "name": "stderr",
     "output_type": "stream",
     "text": [
      "[*********************100%***********************]  1 of 1 completed\n",
      "[*********************100%***********************]  1 of 1 completed\n"
     ]
    },
    {
     "name": "stdout",
     "output_type": "stream",
     "text": [
      "Téléchargement des données pour BKR de 2025-10-04 00:00:00 à 2025-10-07 00:00:00\n",
      "Téléchargement des données pour BLDR de 2025-10-04 00:00:00 à 2025-10-07 00:00:00\n"
     ]
    },
    {
     "name": "stderr",
     "output_type": "stream",
     "text": [
      "[*********************100%***********************]  1 of 1 completed\n",
      "[*********************100%***********************]  1 of 1 completed\n"
     ]
    },
    {
     "name": "stdout",
     "output_type": "stream",
     "text": [
      "Téléchargement des données pour BLK de 2025-10-04 00:00:00 à 2025-10-07 00:00:00\n",
      "Téléchargement des données pour BMY de 2025-10-04 00:00:00 à 2025-10-07 00:00:00\n"
     ]
    },
    {
     "name": "stderr",
     "output_type": "stream",
     "text": [
      "[*********************100%***********************]  1 of 1 completed\n",
      "[*********************100%***********************]  1 of 1 completed\n"
     ]
    },
    {
     "name": "stdout",
     "output_type": "stream",
     "text": [
      "Téléchargement des données pour BR de 2025-10-04 00:00:00 à 2025-10-07 00:00:00\n",
      "Téléchargement des données pour BRK-B de 2025-10-04 00:00:00 à 2025-10-07 00:00:00\n"
     ]
    },
    {
     "name": "stderr",
     "output_type": "stream",
     "text": [
      "[*********************100%***********************]  1 of 1 completed\n",
      "[*********************100%***********************]  1 of 1 completed\n"
     ]
    },
    {
     "name": "stdout",
     "output_type": "stream",
     "text": [
      "Téléchargement des données pour BRO de 2025-10-04 00:00:00 à 2025-10-07 00:00:00\n",
      "Téléchargement des données pour BSX de 2025-10-04 00:00:00 à 2025-10-07 00:00:00\n"
     ]
    },
    {
     "name": "stderr",
     "output_type": "stream",
     "text": [
      "[*********************100%***********************]  1 of 1 completed\n",
      "[*********************100%***********************]  1 of 1 completed\n"
     ]
    },
    {
     "name": "stdout",
     "output_type": "stream",
     "text": [
      "Téléchargement des données pour BX de 2025-10-04 00:00:00 à 2025-10-07 00:00:00\n",
      "Téléchargement des données pour BXP de 2025-10-04 00:00:00 à 2025-10-07 00:00:00\n"
     ]
    },
    {
     "name": "stderr",
     "output_type": "stream",
     "text": [
      "[*********************100%***********************]  1 of 1 completed\n",
      "[*********************100%***********************]  1 of 1 completed\n"
     ]
    },
    {
     "name": "stdout",
     "output_type": "stream",
     "text": [
      "Téléchargement des données pour CAG de 2025-10-04 00:00:00 à 2025-10-07 00:00:00\n",
      "Téléchargement des données pour CAH de 2025-10-04 00:00:00 à 2025-10-07 00:00:00\n"
     ]
    },
    {
     "name": "stderr",
     "output_type": "stream",
     "text": [
      "[*********************100%***********************]  1 of 1 completed\n",
      "[*********************100%***********************]  1 of 1 completed\n"
     ]
    },
    {
     "name": "stdout",
     "output_type": "stream",
     "text": [
      "Téléchargement des données pour CARR de 2025-10-04 00:00:00 à 2025-10-07 00:00:00\n",
      "Téléchargement des données pour CAT de 2025-10-04 00:00:00 à 2025-10-07 00:00:00\n"
     ]
    },
    {
     "name": "stderr",
     "output_type": "stream",
     "text": [
      "[*********************100%***********************]  1 of 1 completed\n",
      "[*********************100%***********************]  1 of 1 completed\n"
     ]
    },
    {
     "name": "stdout",
     "output_type": "stream",
     "text": [
      "Téléchargement des données pour CB de 2025-10-04 00:00:00 à 2025-10-07 00:00:00\n",
      "Téléchargement des données pour CBOE de 2025-10-04 00:00:00 à 2025-10-07 00:00:00\n"
     ]
    },
    {
     "name": "stderr",
     "output_type": "stream",
     "text": [
      "[*********************100%***********************]  1 of 1 completed\n",
      "[*********************100%***********************]  1 of 1 completed\n"
     ]
    },
    {
     "name": "stdout",
     "output_type": "stream",
     "text": [
      "Téléchargement des données pour CBRE de 2025-10-04 00:00:00 à 2025-10-07 00:00:00\n",
      "Téléchargement des données pour CCI de 2025-10-04 00:00:00 à 2025-10-07 00:00:00\n"
     ]
    },
    {
     "name": "stderr",
     "output_type": "stream",
     "text": [
      "[*********************100%***********************]  1 of 1 completed\n",
      "[*********************100%***********************]  1 of 1 completed\n"
     ]
    },
    {
     "name": "stdout",
     "output_type": "stream",
     "text": [
      "Téléchargement des données pour CCL de 2025-10-04 00:00:00 à 2025-10-07 00:00:00\n",
      "Téléchargement des données pour CDNS de 2025-10-04 00:00:00 à 2025-10-07 00:00:00\n"
     ]
    },
    {
     "name": "stderr",
     "output_type": "stream",
     "text": [
      "[*********************100%***********************]  1 of 1 completed\n",
      "[*********************100%***********************]  1 of 1 completed\n"
     ]
    },
    {
     "name": "stdout",
     "output_type": "stream",
     "text": [
      "Téléchargement des données pour CDW de 2025-10-04 00:00:00 à 2025-10-07 00:00:00\n",
      "Téléchargement des données pour CEG de 2025-10-04 00:00:00 à 2025-10-07 00:00:00\n"
     ]
    },
    {
     "name": "stderr",
     "output_type": "stream",
     "text": [
      "[*********************100%***********************]  1 of 1 completed\n",
      "[*********************100%***********************]  1 of 1 completed\n"
     ]
    },
    {
     "name": "stdout",
     "output_type": "stream",
     "text": [
      "Téléchargement des données pour CF de 2025-10-04 00:00:00 à 2025-10-07 00:00:00\n",
      "Téléchargement des données pour CFG de 2025-10-04 00:00:00 à 2025-10-07 00:00:00\n"
     ]
    },
    {
     "name": "stderr",
     "output_type": "stream",
     "text": [
      "[*********************100%***********************]  1 of 1 completed\n",
      "[*********************100%***********************]  1 of 1 completed\n"
     ]
    },
    {
     "name": "stdout",
     "output_type": "stream",
     "text": [
      "Téléchargement des données pour CHD de 2025-10-04 00:00:00 à 2025-10-07 00:00:00\n",
      "Téléchargement des données pour CHRW de 2025-10-04 00:00:00 à 2025-10-07 00:00:00\n"
     ]
    },
    {
     "name": "stderr",
     "output_type": "stream",
     "text": [
      "[*********************100%***********************]  1 of 1 completed\n",
      "[*********************100%***********************]  1 of 1 completed\n"
     ]
    },
    {
     "name": "stdout",
     "output_type": "stream",
     "text": [
      "Téléchargement des données pour CHTR de 2025-10-04 00:00:00 à 2025-10-07 00:00:00\n",
      "Téléchargement des données pour CI de 2025-10-04 00:00:00 à 2025-10-07 00:00:00\n"
     ]
    },
    {
     "name": "stderr",
     "output_type": "stream",
     "text": [
      "[*********************100%***********************]  1 of 1 completed\n",
      "[*********************100%***********************]  1 of 1 completed\n"
     ]
    },
    {
     "name": "stdout",
     "output_type": "stream",
     "text": [
      "Téléchargement des données pour CINF de 2025-10-04 00:00:00 à 2025-10-07 00:00:00\n",
      "Téléchargement des données pour CL de 2025-10-04 00:00:00 à 2025-10-07 00:00:00\n"
     ]
    },
    {
     "name": "stderr",
     "output_type": "stream",
     "text": [
      "[*********************100%***********************]  1 of 1 completed\n",
      "[*********************100%***********************]  1 of 1 completed\n"
     ]
    },
    {
     "name": "stdout",
     "output_type": "stream",
     "text": [
      "Téléchargement des données pour CLX de 2025-10-04 00:00:00 à 2025-10-07 00:00:00\n",
      "Téléchargement des données pour CMCSA de 2025-10-04 00:00:00 à 2025-10-07 00:00:00\n"
     ]
    },
    {
     "name": "stderr",
     "output_type": "stream",
     "text": [
      "[*********************100%***********************]  1 of 1 completed\n",
      "[*********************100%***********************]  1 of 1 completed\n"
     ]
    },
    {
     "name": "stdout",
     "output_type": "stream",
     "text": [
      "Téléchargement des données pour CME de 2025-10-04 00:00:00 à 2025-10-07 00:00:00\n",
      "Téléchargement des données pour CMG de 2025-10-04 00:00:00 à 2025-10-07 00:00:00\n"
     ]
    },
    {
     "name": "stderr",
     "output_type": "stream",
     "text": [
      "[*********************100%***********************]  1 of 1 completed\n",
      "[*********************100%***********************]  1 of 1 completed\n"
     ]
    },
    {
     "name": "stdout",
     "output_type": "stream",
     "text": [
      "Téléchargement des données pour CMI de 2025-10-04 00:00:00 à 2025-10-07 00:00:00\n",
      "Téléchargement des données pour CMS de 2025-10-04 00:00:00 à 2025-10-07 00:00:00\n"
     ]
    },
    {
     "name": "stderr",
     "output_type": "stream",
     "text": [
      "[*********************100%***********************]  1 of 1 completed\n",
      "[*********************100%***********************]  1 of 1 completed\n"
     ]
    },
    {
     "name": "stdout",
     "output_type": "stream",
     "text": [
      "Téléchargement des données pour CNC de 2025-10-04 00:00:00 à 2025-10-07 00:00:00\n",
      "Téléchargement des données pour CNP de 2025-10-04 00:00:00 à 2025-10-07 00:00:00\n"
     ]
    },
    {
     "name": "stderr",
     "output_type": "stream",
     "text": [
      "[*********************100%***********************]  1 of 1 completed\n",
      "[*********************100%***********************]  1 of 1 completed\n"
     ]
    },
    {
     "name": "stdout",
     "output_type": "stream",
     "text": [
      "Téléchargement des données pour COF de 2025-10-04 00:00:00 à 2025-10-07 00:00:00\n",
      "Téléchargement des données pour COIN de 2025-10-04 00:00:00 à 2025-10-07 00:00:00\n"
     ]
    },
    {
     "name": "stderr",
     "output_type": "stream",
     "text": [
      "[*********************100%***********************]  1 of 1 completed\n",
      "[*********************100%***********************]  1 of 1 completed\n"
     ]
    },
    {
     "name": "stdout",
     "output_type": "stream",
     "text": [
      "Téléchargement des données pour COO de 2025-10-04 00:00:00 à 2025-10-07 00:00:00\n",
      "Téléchargement des données pour COP de 2025-10-04 00:00:00 à 2025-10-07 00:00:00\n"
     ]
    },
    {
     "name": "stderr",
     "output_type": "stream",
     "text": [
      "[*********************100%***********************]  1 of 1 completed\n",
      "[*********************100%***********************]  1 of 1 completed\n"
     ]
    },
    {
     "name": "stdout",
     "output_type": "stream",
     "text": [
      "Téléchargement des données pour COR de 2025-10-04 00:00:00 à 2025-10-07 00:00:00\n",
      "Téléchargement des données pour COST de 2025-10-04 00:00:00 à 2025-10-07 00:00:00\n"
     ]
    },
    {
     "name": "stderr",
     "output_type": "stream",
     "text": [
      "[*********************100%***********************]  1 of 1 completed\n",
      "[*********************100%***********************]  1 of 1 completed\n"
     ]
    },
    {
     "name": "stdout",
     "output_type": "stream",
     "text": [
      "Téléchargement des données pour CPAY de 2025-10-04 00:00:00 à 2025-10-07 00:00:00\n",
      "Téléchargement des données pour CPB de 2025-10-04 00:00:00 à 2025-10-07 00:00:00\n"
     ]
    },
    {
     "name": "stderr",
     "output_type": "stream",
     "text": [
      "[*********************100%***********************]  1 of 1 completed\n",
      "[*********************100%***********************]  1 of 1 completed\n"
     ]
    },
    {
     "name": "stdout",
     "output_type": "stream",
     "text": [
      "Téléchargement des données pour CPRT de 2025-10-04 00:00:00 à 2025-10-07 00:00:00\n",
      "Téléchargement des données pour CPT de 2025-10-04 00:00:00 à 2025-10-07 00:00:00\n"
     ]
    },
    {
     "name": "stderr",
     "output_type": "stream",
     "text": [
      "[*********************100%***********************]  1 of 1 completed\n",
      "[*********************100%***********************]  1 of 1 completed\n"
     ]
    },
    {
     "name": "stdout",
     "output_type": "stream",
     "text": [
      "Téléchargement des données pour CRL de 2025-10-04 00:00:00 à 2025-10-07 00:00:00\n",
      "Téléchargement des données pour CRM de 2025-10-04 00:00:00 à 2025-10-07 00:00:00\n"
     ]
    },
    {
     "name": "stderr",
     "output_type": "stream",
     "text": [
      "[*********************100%***********************]  1 of 1 completed\n",
      "[*********************100%***********************]  1 of 1 completed\n"
     ]
    },
    {
     "name": "stdout",
     "output_type": "stream",
     "text": [
      "Téléchargement des données pour CRWD de 2025-10-04 00:00:00 à 2025-10-07 00:00:00\n",
      "Téléchargement des données pour CSCO de 2025-10-04 00:00:00 à 2025-10-07 00:00:00\n"
     ]
    },
    {
     "name": "stderr",
     "output_type": "stream",
     "text": [
      "[*********************100%***********************]  1 of 1 completed\n",
      "[*********************100%***********************]  1 of 1 completed\n"
     ]
    },
    {
     "name": "stdout",
     "output_type": "stream",
     "text": [
      "Téléchargement des données pour CSGP de 2025-10-04 00:00:00 à 2025-10-07 00:00:00\n",
      "Téléchargement des données pour CSX de 2025-10-04 00:00:00 à 2025-10-07 00:00:00\n"
     ]
    },
    {
     "name": "stderr",
     "output_type": "stream",
     "text": [
      "[*********************100%***********************]  1 of 1 completed\n",
      "[*********************100%***********************]  1 of 1 completed\n"
     ]
    },
    {
     "name": "stdout",
     "output_type": "stream",
     "text": [
      "Téléchargement des données pour CTAS de 2025-10-04 00:00:00 à 2025-10-07 00:00:00\n",
      "Téléchargement des données pour CTRA de 2025-10-04 00:00:00 à 2025-10-07 00:00:00\n"
     ]
    },
    {
     "name": "stderr",
     "output_type": "stream",
     "text": [
      "[*********************100%***********************]  1 of 1 completed\n",
      "[*********************100%***********************]  1 of 1 completed\n"
     ]
    },
    {
     "name": "stdout",
     "output_type": "stream",
     "text": [
      "Téléchargement des données pour CTSH de 2025-10-04 00:00:00 à 2025-10-07 00:00:00\n",
      "Téléchargement des données pour CTVA de 2025-10-04 00:00:00 à 2025-10-07 00:00:00\n"
     ]
    },
    {
     "name": "stderr",
     "output_type": "stream",
     "text": [
      "[*********************100%***********************]  1 of 1 completed\n",
      "[*********************100%***********************]  1 of 1 completed\n"
     ]
    },
    {
     "name": "stdout",
     "output_type": "stream",
     "text": [
      "Téléchargement des données pour CVS de 2025-10-04 00:00:00 à 2025-10-07 00:00:00\n",
      "Téléchargement des données pour CVX de 2025-10-04 00:00:00 à 2025-10-07 00:00:00\n"
     ]
    },
    {
     "name": "stderr",
     "output_type": "stream",
     "text": [
      "[*********************100%***********************]  1 of 1 completed\n",
      "[*********************100%***********************]  1 of 1 completed\n"
     ]
    },
    {
     "name": "stdout",
     "output_type": "stream",
     "text": [
      "Téléchargement des données pour D de 2025-10-04 00:00:00 à 2025-10-07 00:00:00\n",
      "Téléchargement des données pour DAL de 2025-10-04 00:00:00 à 2025-10-07 00:00:00\n"
     ]
    },
    {
     "name": "stderr",
     "output_type": "stream",
     "text": [
      "[*********************100%***********************]  1 of 1 completed\n",
      "[*********************100%***********************]  1 of 1 completed\n"
     ]
    },
    {
     "name": "stdout",
     "output_type": "stream",
     "text": [
      "Téléchargement des données pour DASH de 2025-10-04 00:00:00 à 2025-10-07 00:00:00\n",
      "Téléchargement des données pour DAY de 2025-10-04 00:00:00 à 2025-10-07 00:00:00\n"
     ]
    },
    {
     "name": "stderr",
     "output_type": "stream",
     "text": [
      "[*********************100%***********************]  1 of 1 completed\n",
      "[*********************100%***********************]  1 of 1 completed\n"
     ]
    },
    {
     "name": "stdout",
     "output_type": "stream",
     "text": [
      "Téléchargement des données pour DD de 2025-10-04 00:00:00 à 2025-10-07 00:00:00\n",
      "Téléchargement des données pour DDOG de 2025-10-04 00:00:00 à 2025-10-07 00:00:00\n"
     ]
    },
    {
     "name": "stderr",
     "output_type": "stream",
     "text": [
      "[*********************100%***********************]  1 of 1 completed\n",
      "[*********************100%***********************]  1 of 1 completed\n"
     ]
    },
    {
     "name": "stdout",
     "output_type": "stream",
     "text": [
      "Téléchargement des données pour DE de 2025-10-04 00:00:00 à 2025-10-07 00:00:00\n",
      "Téléchargement des données pour DECK de 2025-10-04 00:00:00 à 2025-10-07 00:00:00\n"
     ]
    },
    {
     "name": "stderr",
     "output_type": "stream",
     "text": [
      "[*********************100%***********************]  1 of 1 completed\n",
      "[*********************100%***********************]  1 of 1 completed\n"
     ]
    },
    {
     "name": "stdout",
     "output_type": "stream",
     "text": [
      "Téléchargement des données pour DELL de 2025-10-04 00:00:00 à 2025-10-07 00:00:00\n",
      "Téléchargement des données pour DG de 2025-10-04 00:00:00 à 2025-10-07 00:00:00\n"
     ]
    },
    {
     "name": "stderr",
     "output_type": "stream",
     "text": [
      "[*********************100%***********************]  1 of 1 completed\n",
      "[*********************100%***********************]  1 of 1 completed\n"
     ]
    },
    {
     "name": "stdout",
     "output_type": "stream",
     "text": [
      "Téléchargement des données pour DGX de 2025-10-04 00:00:00 à 2025-10-07 00:00:00\n",
      "Téléchargement des données pour DHI de 2025-10-04 00:00:00 à 2025-10-07 00:00:00\n"
     ]
    },
    {
     "name": "stderr",
     "output_type": "stream",
     "text": [
      "[*********************100%***********************]  1 of 1 completed\n",
      "[*********************100%***********************]  1 of 1 completed\n"
     ]
    },
    {
     "name": "stdout",
     "output_type": "stream",
     "text": [
      "Téléchargement des données pour DHR de 2025-10-04 00:00:00 à 2025-10-07 00:00:00\n",
      "Téléchargement des données pour DIS de 2025-10-04 00:00:00 à 2025-10-07 00:00:00\n"
     ]
    },
    {
     "name": "stderr",
     "output_type": "stream",
     "text": [
      "[*********************100%***********************]  1 of 1 completed\n",
      "[*********************100%***********************]  1 of 1 completed\n"
     ]
    },
    {
     "name": "stdout",
     "output_type": "stream",
     "text": [
      "Téléchargement des données pour DLR de 2025-10-04 00:00:00 à 2025-10-07 00:00:00\n",
      "Téléchargement des données pour DLTR de 2025-10-04 00:00:00 à 2025-10-07 00:00:00\n"
     ]
    },
    {
     "name": "stderr",
     "output_type": "stream",
     "text": [
      "[*********************100%***********************]  1 of 1 completed\n"
     ]
    },
    {
     "name": "stdout",
     "output_type": "stream",
     "text": [
      "Téléchargement des données pour DOC de 2025-10-04 00:00:00 à 2025-10-07 00:00:00\n"
     ]
    },
    {
     "name": "stderr",
     "output_type": "stream",
     "text": [
      "[*********************100%***********************]  1 of 1 completed\n",
      "[*********************100%***********************]  1 of 1 completed\n"
     ]
    },
    {
     "name": "stdout",
     "output_type": "stream",
     "text": [
      "Téléchargement des données pour DOV de 2025-10-04 00:00:00 à 2025-10-07 00:00:00\n",
      "Téléchargement des données pour DOW de 2025-10-04 00:00:00 à 2025-10-07 00:00:00\n"
     ]
    },
    {
     "name": "stderr",
     "output_type": "stream",
     "text": [
      "[*********************100%***********************]  1 of 1 completed\n",
      "[*********************100%***********************]  1 of 1 completed\n"
     ]
    },
    {
     "name": "stdout",
     "output_type": "stream",
     "text": [
      "Téléchargement des données pour DPZ de 2025-10-04 00:00:00 à 2025-10-07 00:00:00\n",
      "Téléchargement des données pour DRI de 2025-10-04 00:00:00 à 2025-10-07 00:00:00\n"
     ]
    },
    {
     "name": "stderr",
     "output_type": "stream",
     "text": [
      "[*********************100%***********************]  1 of 1 completed\n",
      "[*********************100%***********************]  1 of 1 completed"
     ]
    },
    {
     "name": "stdout",
     "output_type": "stream",
     "text": [
      "Téléchargement des données pour DTE de 2025-10-04 00:00:00 à 2025-10-07 00:00:00\n"
     ]
    },
    {
     "name": "stderr",
     "output_type": "stream",
     "text": [
      "\n",
      "[*********************100%***********************]  1 of 1 completed\n"
     ]
    },
    {
     "name": "stdout",
     "output_type": "stream",
     "text": [
      "Téléchargement des données pour DUK de 2025-10-04 00:00:00 à 2025-10-07 00:00:00\n",
      "Téléchargement des données pour DVA de 2025-10-04 00:00:00 à 2025-10-07 00:00:00\n"
     ]
    },
    {
     "name": "stderr",
     "output_type": "stream",
     "text": [
      "[*********************100%***********************]  1 of 1 completed\n",
      "[*********************100%***********************]  1 of 1 completed\n"
     ]
    },
    {
     "name": "stdout",
     "output_type": "stream",
     "text": [
      "Téléchargement des données pour DVN de 2025-10-04 00:00:00 à 2025-10-07 00:00:00\n",
      "Téléchargement des données pour DXCM de 2025-10-04 00:00:00 à 2025-10-07 00:00:00\n"
     ]
    },
    {
     "name": "stderr",
     "output_type": "stream",
     "text": [
      "[*********************100%***********************]  1 of 1 completed\n",
      "[*********************100%***********************]  1 of 1 completed\n"
     ]
    },
    {
     "name": "stdout",
     "output_type": "stream",
     "text": [
      "Téléchargement des données pour EA de 2025-10-04 00:00:00 à 2025-10-07 00:00:00\n",
      "Téléchargement des données pour EBAY de 2025-10-04 00:00:00 à 2025-10-07 00:00:00\n"
     ]
    },
    {
     "name": "stderr",
     "output_type": "stream",
     "text": [
      "[*********************100%***********************]  1 of 1 completed\n",
      "[*********************100%***********************]  1 of 1 completed\n"
     ]
    },
    {
     "name": "stdout",
     "output_type": "stream",
     "text": [
      "Téléchargement des données pour ECL de 2025-10-04 00:00:00 à 2025-10-07 00:00:00\n",
      "Téléchargement des données pour ED de 2025-10-04 00:00:00 à 2025-10-07 00:00:00\n"
     ]
    },
    {
     "name": "stderr",
     "output_type": "stream",
     "text": [
      "[*********************100%***********************]  1 of 1 completed\n"
     ]
    },
    {
     "name": "stdout",
     "output_type": "stream",
     "text": [
      "Téléchargement des données pour EFX de 2025-10-04 00:00:00 à 2025-10-07 00:00:00\n"
     ]
    },
    {
     "name": "stderr",
     "output_type": "stream",
     "text": [
      "[*********************100%***********************]  1 of 1 completed\n",
      "[*********************100%***********************]  1 of 1 completed\n"
     ]
    },
    {
     "name": "stdout",
     "output_type": "stream",
     "text": [
      "Téléchargement des données pour EG de 2025-10-04 00:00:00 à 2025-10-07 00:00:00\n",
      "Téléchargement des données pour EIX de 2025-10-04 00:00:00 à 2025-10-07 00:00:00\n"
     ]
    },
    {
     "name": "stderr",
     "output_type": "stream",
     "text": [
      "[*********************100%***********************]  1 of 1 completed\n",
      "[*********************100%***********************]  1 of 1 completed\n"
     ]
    },
    {
     "name": "stdout",
     "output_type": "stream",
     "text": [
      "Téléchargement des données pour EL de 2025-10-04 00:00:00 à 2025-10-07 00:00:00\n",
      "Téléchargement des données pour ELV de 2025-10-04 00:00:00 à 2025-10-07 00:00:00\n"
     ]
    },
    {
     "name": "stderr",
     "output_type": "stream",
     "text": [
      "[*********************100%***********************]  1 of 1 completed\n",
      "[*********************100%***********************]  1 of 1 completed\n"
     ]
    },
    {
     "name": "stdout",
     "output_type": "stream",
     "text": [
      "Téléchargement des données pour EME de 2025-10-04 00:00:00 à 2025-10-07 00:00:00\n",
      "Téléchargement des données pour EMN de 2025-10-04 00:00:00 à 2025-10-07 00:00:00\n"
     ]
    },
    {
     "name": "stderr",
     "output_type": "stream",
     "text": [
      "[*********************100%***********************]  1 of 1 completed\n",
      "[*********************100%***********************]  1 of 1 completed\n"
     ]
    },
    {
     "name": "stdout",
     "output_type": "stream",
     "text": [
      "Téléchargement des données pour EMR de 2025-10-04 00:00:00 à 2025-10-07 00:00:00\n",
      "Téléchargement des données pour EOG de 2025-10-04 00:00:00 à 2025-10-07 00:00:00\n"
     ]
    },
    {
     "name": "stderr",
     "output_type": "stream",
     "text": [
      "[*********************100%***********************]  1 of 1 completed\n",
      "[*********************100%***********************]  1 of 1 completed\n"
     ]
    },
    {
     "name": "stdout",
     "output_type": "stream",
     "text": [
      "Téléchargement des données pour EPAM de 2025-10-04 00:00:00 à 2025-10-07 00:00:00\n",
      "Téléchargement des données pour EQIX de 2025-10-04 00:00:00 à 2025-10-07 00:00:00\n"
     ]
    },
    {
     "name": "stderr",
     "output_type": "stream",
     "text": [
      "[*********************100%***********************]  1 of 1 completed\n",
      "[*********************100%***********************]  1 of 1 completed\n"
     ]
    },
    {
     "name": "stdout",
     "output_type": "stream",
     "text": [
      "Téléchargement des données pour EQR de 2025-10-04 00:00:00 à 2025-10-07 00:00:00\n",
      "Téléchargement des données pour EQT de 2025-10-04 00:00:00 à 2025-10-07 00:00:00\n"
     ]
    },
    {
     "name": "stderr",
     "output_type": "stream",
     "text": [
      "[*********************100%***********************]  1 of 1 completed\n"
     ]
    },
    {
     "name": "stdout",
     "output_type": "stream",
     "text": [
      "Téléchargement des données pour ERIE de 2025-10-04 00:00:00 à 2025-10-07 00:00:00\n"
     ]
    },
    {
     "name": "stderr",
     "output_type": "stream",
     "text": [
      "[*********************100%***********************]  1 of 1 completed\n",
      "[*********************100%***********************]  1 of 1 completed\n"
     ]
    },
    {
     "name": "stdout",
     "output_type": "stream",
     "text": [
      "Téléchargement des données pour ES de 2025-10-04 00:00:00 à 2025-10-07 00:00:00\n",
      "Téléchargement des données pour ESS de 2025-10-04 00:00:00 à 2025-10-07 00:00:00\n"
     ]
    },
    {
     "name": "stderr",
     "output_type": "stream",
     "text": [
      "[*********************100%***********************]  1 of 1 completed\n",
      "[*********************100%***********************]  1 of 1 completed\n"
     ]
    },
    {
     "name": "stdout",
     "output_type": "stream",
     "text": [
      "Téléchargement des données pour ETN de 2025-10-04 00:00:00 à 2025-10-07 00:00:00\n",
      "Téléchargement des données pour ETR de 2025-10-04 00:00:00 à 2025-10-07 00:00:00\n"
     ]
    },
    {
     "name": "stderr",
     "output_type": "stream",
     "text": [
      "[*********************100%***********************]  1 of 1 completed\n"
     ]
    },
    {
     "name": "stdout",
     "output_type": "stream",
     "text": [
      "Téléchargement des données pour EVRG de 2025-10-04 00:00:00 à 2025-10-07 00:00:00\n"
     ]
    },
    {
     "name": "stderr",
     "output_type": "stream",
     "text": [
      "[*********************100%***********************]  1 of 1 completed\n",
      "[*********************100%***********************]  1 of 1 completed\n"
     ]
    },
    {
     "name": "stdout",
     "output_type": "stream",
     "text": [
      "Téléchargement des données pour EW de 2025-10-04 00:00:00 à 2025-10-07 00:00:00\n",
      "Téléchargement des données pour EXC de 2025-10-04 00:00:00 à 2025-10-07 00:00:00\n"
     ]
    },
    {
     "name": "stderr",
     "output_type": "stream",
     "text": [
      "[*********************100%***********************]  1 of 1 completed\n",
      "[*********************100%***********************]  1 of 1 completed\n"
     ]
    },
    {
     "name": "stdout",
     "output_type": "stream",
     "text": [
      "Téléchargement des données pour EXE de 2025-10-04 00:00:00 à 2025-10-07 00:00:00\n",
      "Téléchargement des données pour EXPD de 2025-10-04 00:00:00 à 2025-10-07 00:00:00\n"
     ]
    },
    {
     "name": "stderr",
     "output_type": "stream",
     "text": [
      "[*********************100%***********************]  1 of 1 completed\n",
      "[*********************100%***********************]  1 of 1 completed\n"
     ]
    },
    {
     "name": "stdout",
     "output_type": "stream",
     "text": [
      "Téléchargement des données pour EXPE de 2025-10-04 00:00:00 à 2025-10-07 00:00:00\n",
      "Téléchargement des données pour EXR de 2025-10-04 00:00:00 à 2025-10-07 00:00:00\n"
     ]
    },
    {
     "name": "stderr",
     "output_type": "stream",
     "text": [
      "[*********************100%***********************]  1 of 1 completed\n",
      "[*********************100%***********************]  1 of 1 completed\n"
     ]
    },
    {
     "name": "stdout",
     "output_type": "stream",
     "text": [
      "Téléchargement des données pour F de 2025-10-04 00:00:00 à 2025-10-07 00:00:00\n",
      "Téléchargement des données pour FANG de 2025-10-04 00:00:00 à 2025-10-07 00:00:00\n"
     ]
    },
    {
     "name": "stderr",
     "output_type": "stream",
     "text": [
      "[*********************100%***********************]  1 of 1 completed\n",
      "[*********************100%***********************]  1 of 1 completed\n"
     ]
    },
    {
     "name": "stdout",
     "output_type": "stream",
     "text": [
      "Téléchargement des données pour FAST de 2025-10-04 00:00:00 à 2025-10-07 00:00:00\n",
      "Téléchargement des données pour FCX de 2025-10-04 00:00:00 à 2025-10-07 00:00:00\n"
     ]
    },
    {
     "name": "stderr",
     "output_type": "stream",
     "text": [
      "[*********************100%***********************]  1 of 1 completed\n",
      "[*********************100%***********************]  1 of 1 completed\n"
     ]
    },
    {
     "name": "stdout",
     "output_type": "stream",
     "text": [
      "Téléchargement des données pour FDS de 2025-10-04 00:00:00 à 2025-10-07 00:00:00\n",
      "Téléchargement des données pour FDX de 2025-10-04 00:00:00 à 2025-10-07 00:00:00\n"
     ]
    },
    {
     "name": "stderr",
     "output_type": "stream",
     "text": [
      "[*********************100%***********************]  1 of 1 completed\n",
      "[*********************100%***********************]  1 of 1 completed\n"
     ]
    },
    {
     "name": "stdout",
     "output_type": "stream",
     "text": [
      "Téléchargement des données pour FE de 2025-10-04 00:00:00 à 2025-10-07 00:00:00\n",
      "Téléchargement des données pour FFIV de 2025-10-04 00:00:00 à 2025-10-07 00:00:00\n"
     ]
    },
    {
     "name": "stderr",
     "output_type": "stream",
     "text": [
      "[*********************100%***********************]  1 of 1 completed\n",
      "[*********************100%***********************]  1 of 1 completed\n"
     ]
    },
    {
     "name": "stdout",
     "output_type": "stream",
     "text": [
      "Téléchargement des données pour FI de 2025-10-04 00:00:00 à 2025-10-07 00:00:00\n",
      "Téléchargement des données pour FICO de 2025-10-04 00:00:00 à 2025-10-07 00:00:00\n"
     ]
    },
    {
     "name": "stderr",
     "output_type": "stream",
     "text": [
      "[*********************100%***********************]  1 of 1 completed\n",
      "[*********************100%***********************]  1 of 1 completed\n"
     ]
    },
    {
     "name": "stdout",
     "output_type": "stream",
     "text": [
      "Téléchargement des données pour FIS de 2025-10-04 00:00:00 à 2025-10-07 00:00:00\n",
      "Téléchargement des données pour FITB de 2025-10-04 00:00:00 à 2025-10-07 00:00:00\n"
     ]
    },
    {
     "name": "stderr",
     "output_type": "stream",
     "text": [
      "[*********************100%***********************]  1 of 1 completed\n",
      "[*********************100%***********************]  1 of 1 completed\n"
     ]
    },
    {
     "name": "stdout",
     "output_type": "stream",
     "text": [
      "Téléchargement des données pour FOX de 2025-10-04 00:00:00 à 2025-10-07 00:00:00\n",
      "Téléchargement des données pour FOXA de 2025-10-04 00:00:00 à 2025-10-07 00:00:00\n"
     ]
    },
    {
     "name": "stderr",
     "output_type": "stream",
     "text": [
      "[*********************100%***********************]  1 of 1 completed\n",
      "[*********************100%***********************]  1 of 1 completed\n"
     ]
    },
    {
     "name": "stdout",
     "output_type": "stream",
     "text": [
      "Téléchargement des données pour FRT de 2025-10-04 00:00:00 à 2025-10-07 00:00:00\n",
      "Téléchargement des données pour FSLR de 2025-10-04 00:00:00 à 2025-10-07 00:00:00\n"
     ]
    },
    {
     "name": "stderr",
     "output_type": "stream",
     "text": [
      "[*********************100%***********************]  1 of 1 completed\n",
      "[*********************100%***********************]  1 of 1 completed\n"
     ]
    },
    {
     "name": "stdout",
     "output_type": "stream",
     "text": [
      "Téléchargement des données pour FTNT de 2025-10-04 00:00:00 à 2025-10-07 00:00:00\n",
      "Téléchargement des données pour FTV de 2025-10-04 00:00:00 à 2025-10-07 00:00:00\n"
     ]
    },
    {
     "name": "stderr",
     "output_type": "stream",
     "text": [
      "[*********************100%***********************]  1 of 1 completed\n",
      "[*********************100%***********************]  1 of 1 completed\n"
     ]
    },
    {
     "name": "stdout",
     "output_type": "stream",
     "text": [
      "Téléchargement des données pour GD de 2025-10-04 00:00:00 à 2025-10-07 00:00:00\n",
      "Téléchargement des données pour GDDY de 2025-10-04 00:00:00 à 2025-10-07 00:00:00\n"
     ]
    },
    {
     "name": "stderr",
     "output_type": "stream",
     "text": [
      "[*********************100%***********************]  1 of 1 completed\n",
      "[*********************100%***********************]  1 of 1 completed\n"
     ]
    },
    {
     "name": "stdout",
     "output_type": "stream",
     "text": [
      "Téléchargement des données pour GE de 2025-10-04 00:00:00 à 2025-10-07 00:00:00\n",
      "Téléchargement des données pour GEHC de 2025-10-04 00:00:00 à 2025-10-07 00:00:00\n"
     ]
    },
    {
     "name": "stderr",
     "output_type": "stream",
     "text": [
      "[*********************100%***********************]  1 of 1 completed\n",
      "[*********************100%***********************]  1 of 1 completed\n"
     ]
    },
    {
     "name": "stdout",
     "output_type": "stream",
     "text": [
      "Téléchargement des données pour GEN de 2025-10-04 00:00:00 à 2025-10-07 00:00:00\n",
      "Téléchargement des données pour GEV de 2025-10-04 00:00:00 à 2025-10-07 00:00:00\n"
     ]
    },
    {
     "name": "stderr",
     "output_type": "stream",
     "text": [
      "[*********************100%***********************]  1 of 1 completed\n",
      "[*********************100%***********************]  1 of 1 completed\n"
     ]
    },
    {
     "name": "stdout",
     "output_type": "stream",
     "text": [
      "Téléchargement des données pour GILD de 2025-10-04 00:00:00 à 2025-10-07 00:00:00\n",
      "Téléchargement des données pour GIS de 2025-10-04 00:00:00 à 2025-10-07 00:00:00\n"
     ]
    },
    {
     "name": "stderr",
     "output_type": "stream",
     "text": [
      "[*********************100%***********************]  1 of 1 completed\n",
      "[*********************100%***********************]  1 of 1 completed\n"
     ]
    },
    {
     "name": "stdout",
     "output_type": "stream",
     "text": [
      "Téléchargement des données pour GL de 2025-10-04 00:00:00 à 2025-10-07 00:00:00\n",
      "Téléchargement des données pour GLW de 2025-10-04 00:00:00 à 2025-10-07 00:00:00\n"
     ]
    },
    {
     "name": "stderr",
     "output_type": "stream",
     "text": [
      "[*********************100%***********************]  1 of 1 completed\n",
      "[*********************100%***********************]  1 of 1 completed\n"
     ]
    },
    {
     "name": "stdout",
     "output_type": "stream",
     "text": [
      "Téléchargement des données pour GM de 2025-10-04 00:00:00 à 2025-10-07 00:00:00\n",
      "Téléchargement des données pour GNRC de 2025-10-04 00:00:00 à 2025-10-07 00:00:00\n"
     ]
    },
    {
     "name": "stderr",
     "output_type": "stream",
     "text": [
      "[*********************100%***********************]  1 of 1 completed\n",
      "[*********************100%***********************]  1 of 1 completed\n"
     ]
    },
    {
     "name": "stdout",
     "output_type": "stream",
     "text": [
      "Téléchargement des données pour GOOG de 2025-10-04 00:00:00 à 2025-10-07 00:00:00\n",
      "Téléchargement des données pour GOOGL de 2025-10-04 00:00:00 à 2025-10-07 00:00:00\n"
     ]
    },
    {
     "name": "stderr",
     "output_type": "stream",
     "text": [
      "[*********************100%***********************]  1 of 1 completed\n",
      "[*********************100%***********************]  1 of 1 completed\n"
     ]
    },
    {
     "name": "stdout",
     "output_type": "stream",
     "text": [
      "Téléchargement des données pour GPC de 2025-10-04 00:00:00 à 2025-10-07 00:00:00\n",
      "Téléchargement des données pour GPN de 2025-10-04 00:00:00 à 2025-10-07 00:00:00\n"
     ]
    },
    {
     "name": "stderr",
     "output_type": "stream",
     "text": [
      "[*********************100%***********************]  1 of 1 completed\n",
      "[*********************100%***********************]  1 of 1 completed\n"
     ]
    },
    {
     "name": "stdout",
     "output_type": "stream",
     "text": [
      "Téléchargement des données pour GRMN de 2025-10-04 00:00:00 à 2025-10-07 00:00:00\n",
      "Téléchargement des données pour GS de 2025-10-04 00:00:00 à 2025-10-07 00:00:00\n"
     ]
    },
    {
     "name": "stderr",
     "output_type": "stream",
     "text": [
      "[*********************100%***********************]  1 of 1 completed\n",
      "[*********************100%***********************]  1 of 1 completed\n"
     ]
    },
    {
     "name": "stdout",
     "output_type": "stream",
     "text": [
      "Téléchargement des données pour GWW de 2025-10-04 00:00:00 à 2025-10-07 00:00:00\n",
      "Téléchargement des données pour H de 2025-10-04 00:00:00 à 2025-10-07 00:00:00\n"
     ]
    },
    {
     "name": "stderr",
     "output_type": "stream",
     "text": [
      "[*********************100%***********************]  1 of 1 completed\n"
     ]
    },
    {
     "name": "stdout",
     "output_type": "stream",
     "text": [
      "Téléchargement des données pour HAL de 2025-10-04 00:00:00 à 2025-10-07 00:00:00\n"
     ]
    },
    {
     "name": "stderr",
     "output_type": "stream",
     "text": [
      "[*********************100%***********************]  1 of 1 completed\n",
      "[*********************100%***********************]  1 of 1 completed\n"
     ]
    },
    {
     "name": "stdout",
     "output_type": "stream",
     "text": [
      "Téléchargement des données pour HAS de 2025-10-04 00:00:00 à 2025-10-07 00:00:00\n",
      "Téléchargement des données pour HBAN de 2025-10-04 00:00:00 à 2025-10-07 00:00:00\n"
     ]
    },
    {
     "name": "stderr",
     "output_type": "stream",
     "text": [
      "[*********************100%***********************]  1 of 1 completed\n",
      "[*********************100%***********************]  1 of 1 completed\n"
     ]
    },
    {
     "name": "stdout",
     "output_type": "stream",
     "text": [
      "Téléchargement des données pour HCA de 2025-10-04 00:00:00 à 2025-10-07 00:00:00\n",
      "Téléchargement des données pour HD de 2025-10-04 00:00:00 à 2025-10-07 00:00:00\n"
     ]
    },
    {
     "name": "stderr",
     "output_type": "stream",
     "text": [
      "[*********************100%***********************]  1 of 1 completed\n",
      "[*********************100%***********************]  1 of 1 completed\n"
     ]
    },
    {
     "name": "stdout",
     "output_type": "stream",
     "text": [
      "Téléchargement des données pour HIG de 2025-10-04 00:00:00 à 2025-10-07 00:00:00\n",
      "Téléchargement des données pour HII de 2025-10-04 00:00:00 à 2025-10-07 00:00:00\n"
     ]
    },
    {
     "name": "stderr",
     "output_type": "stream",
     "text": [
      "[*********************100%***********************]  1 of 1 completed\n",
      "[*********************100%***********************]  1 of 1 completed\n"
     ]
    },
    {
     "name": "stdout",
     "output_type": "stream",
     "text": [
      "Téléchargement des données pour HLT de 2025-10-04 00:00:00 à 2025-10-07 00:00:00\n",
      "Téléchargement des données pour HOLX de 2025-10-04 00:00:00 à 2025-10-07 00:00:00\n"
     ]
    },
    {
     "name": "stderr",
     "output_type": "stream",
     "text": [
      "[*********************100%***********************]  1 of 1 completed\n",
      "[*********************100%***********************]  1 of 1 completed\n"
     ]
    },
    {
     "name": "stdout",
     "output_type": "stream",
     "text": [
      "Téléchargement des données pour HON de 2025-10-04 00:00:00 à 2025-10-07 00:00:00\n",
      "Téléchargement des données pour HOOD de 2025-10-04 00:00:00 à 2025-10-07 00:00:00\n"
     ]
    },
    {
     "name": "stderr",
     "output_type": "stream",
     "text": [
      "[*********************100%***********************]  1 of 1 completed\n",
      "[*********************100%***********************]  1 of 1 completed\n"
     ]
    },
    {
     "name": "stdout",
     "output_type": "stream",
     "text": [
      "Téléchargement des données pour HPE de 2025-10-04 00:00:00 à 2025-10-07 00:00:00\n",
      "Téléchargement des données pour HPQ de 2025-10-04 00:00:00 à 2025-10-07 00:00:00\n"
     ]
    },
    {
     "name": "stderr",
     "output_type": "stream",
     "text": [
      "[*********************100%***********************]  1 of 1 completed\n",
      "[*********************100%***********************]  1 of 1 completed\n"
     ]
    },
    {
     "name": "stdout",
     "output_type": "stream",
     "text": [
      "Téléchargement des données pour HRL de 2025-10-04 00:00:00 à 2025-10-07 00:00:00\n",
      "Téléchargement des données pour HSIC de 2025-10-04 00:00:00 à 2025-10-07 00:00:00\n"
     ]
    },
    {
     "name": "stderr",
     "output_type": "stream",
     "text": [
      "[*********************100%***********************]  1 of 1 completed\n",
      "[*********************100%***********************]  1 of 1 completed\n"
     ]
    },
    {
     "name": "stdout",
     "output_type": "stream",
     "text": [
      "Téléchargement des données pour HST de 2025-10-04 00:00:00 à 2025-10-07 00:00:00\n",
      "Téléchargement des données pour HSY de 2025-10-04 00:00:00 à 2025-10-07 00:00:00\n"
     ]
    },
    {
     "name": "stderr",
     "output_type": "stream",
     "text": [
      "[*********************100%***********************]  1 of 1 completed\n",
      "[*********************100%***********************]  1 of 1 completed\n"
     ]
    },
    {
     "name": "stdout",
     "output_type": "stream",
     "text": [
      "Téléchargement des données pour HUBB de 2025-10-04 00:00:00 à 2025-10-07 00:00:00\n",
      "Téléchargement des données pour HUM de 2025-10-04 00:00:00 à 2025-10-07 00:00:00\n"
     ]
    },
    {
     "name": "stderr",
     "output_type": "stream",
     "text": [
      "[*********************100%***********************]  1 of 1 completed\n",
      "[*********************100%***********************]  1 of 1 completed\n"
     ]
    },
    {
     "name": "stdout",
     "output_type": "stream",
     "text": [
      "Téléchargement des données pour HWM de 2025-10-04 00:00:00 à 2025-10-07 00:00:00\n",
      "Téléchargement des données pour IBKR de 2025-10-04 00:00:00 à 2025-10-07 00:00:00\n"
     ]
    },
    {
     "name": "stderr",
     "output_type": "stream",
     "text": [
      "[*********************100%***********************]  1 of 1 completed\n",
      "[*********************100%***********************]  1 of 1 completed\n"
     ]
    },
    {
     "name": "stdout",
     "output_type": "stream",
     "text": [
      "Téléchargement des données pour IBM de 2025-10-04 00:00:00 à 2025-10-07 00:00:00\n",
      "Téléchargement des données pour ICE de 2025-10-04 00:00:00 à 2025-10-07 00:00:00\n"
     ]
    },
    {
     "name": "stderr",
     "output_type": "stream",
     "text": [
      "[*********************100%***********************]  1 of 1 completed\n",
      "[*********************100%***********************]  1 of 1 completed\n"
     ]
    },
    {
     "name": "stdout",
     "output_type": "stream",
     "text": [
      "Téléchargement des données pour IDXX de 2025-10-04 00:00:00 à 2025-10-07 00:00:00\n",
      "Téléchargement des données pour IEX de 2025-10-04 00:00:00 à 2025-10-07 00:00:00\n"
     ]
    },
    {
     "name": "stderr",
     "output_type": "stream",
     "text": [
      "[*********************100%***********************]  1 of 1 completed\n",
      "[*********************100%***********************]  1 of 1 completed\n"
     ]
    },
    {
     "name": "stdout",
     "output_type": "stream",
     "text": [
      "Téléchargement des données pour IFF de 2025-10-04 00:00:00 à 2025-10-07 00:00:00\n",
      "Téléchargement des données pour INCY de 2025-10-04 00:00:00 à 2025-10-07 00:00:00\n"
     ]
    },
    {
     "name": "stderr",
     "output_type": "stream",
     "text": [
      "[*********************100%***********************]  1 of 1 completed\n",
      "[*********************100%***********************]  1 of 1 completed\n"
     ]
    },
    {
     "name": "stdout",
     "output_type": "stream",
     "text": [
      "Téléchargement des données pour INTC de 2025-10-04 00:00:00 à 2025-10-07 00:00:00\n",
      "Téléchargement des données pour INTU de 2025-10-04 00:00:00 à 2025-10-07 00:00:00\n"
     ]
    },
    {
     "name": "stderr",
     "output_type": "stream",
     "text": [
      "[*********************100%***********************]  1 of 1 completed\n",
      "[*********************100%***********************]  1 of 1 completed\n"
     ]
    },
    {
     "name": "stdout",
     "output_type": "stream",
     "text": [
      "Téléchargement des données pour INVH de 2025-10-04 00:00:00 à 2025-10-07 00:00:00\n",
      "Téléchargement des données pour IP de 2025-10-04 00:00:00 à 2025-10-07 00:00:00\n"
     ]
    },
    {
     "name": "stderr",
     "output_type": "stream",
     "text": [
      "[*********************100%***********************]  1 of 1 completed\n",
      "[*********************100%***********************]  1 of 1 completed\n"
     ]
    },
    {
     "name": "stdout",
     "output_type": "stream",
     "text": [
      "Téléchargement des données pour IPG de 2025-10-04 00:00:00 à 2025-10-07 00:00:00\n",
      "Téléchargement des données pour IQV de 2025-10-04 00:00:00 à 2025-10-07 00:00:00\n"
     ]
    },
    {
     "name": "stderr",
     "output_type": "stream",
     "text": [
      "[*********************100%***********************]  1 of 1 completed\n",
      "[*********************100%***********************]  1 of 1 completed\n"
     ]
    },
    {
     "name": "stdout",
     "output_type": "stream",
     "text": [
      "Téléchargement des données pour IR de 2025-10-04 00:00:00 à 2025-10-07 00:00:00\n",
      "Téléchargement des données pour IRM de 2025-10-04 00:00:00 à 2025-10-07 00:00:00\n"
     ]
    },
    {
     "name": "stderr",
     "output_type": "stream",
     "text": [
      "[*********************100%***********************]  1 of 1 completed\n",
      "[*********************100%***********************]  1 of 1 completed\n"
     ]
    },
    {
     "name": "stdout",
     "output_type": "stream",
     "text": [
      "Téléchargement des données pour ISRG de 2025-10-04 00:00:00 à 2025-10-07 00:00:00\n",
      "Téléchargement des données pour IT de 2025-10-04 00:00:00 à 2025-10-07 00:00:00\n"
     ]
    },
    {
     "name": "stderr",
     "output_type": "stream",
     "text": [
      "[*********************100%***********************]  1 of 1 completed\n",
      "[*********************100%***********************]  1 of 1 completed\n"
     ]
    },
    {
     "name": "stdout",
     "output_type": "stream",
     "text": [
      "Téléchargement des données pour ITW de 2025-10-04 00:00:00 à 2025-10-07 00:00:00\n",
      "Téléchargement des données pour IVZ de 2025-10-04 00:00:00 à 2025-10-07 00:00:00\n"
     ]
    },
    {
     "name": "stderr",
     "output_type": "stream",
     "text": [
      "[*********************100%***********************]  1 of 1 completed\n",
      "[*********************100%***********************]  1 of 1 completed\n"
     ]
    },
    {
     "name": "stdout",
     "output_type": "stream",
     "text": [
      "Téléchargement des données pour J de 2025-10-04 00:00:00 à 2025-10-07 00:00:00\n",
      "Téléchargement des données pour JBHT de 2025-10-04 00:00:00 à 2025-10-07 00:00:00\n"
     ]
    },
    {
     "name": "stderr",
     "output_type": "stream",
     "text": [
      "[*********************100%***********************]  1 of 1 completed\n",
      "[*********************100%***********************]  1 of 1 completed\n"
     ]
    },
    {
     "name": "stdout",
     "output_type": "stream",
     "text": [
      "Téléchargement des données pour JBL de 2025-10-04 00:00:00 à 2025-10-07 00:00:00\n",
      "Téléchargement des données pour JCI de 2025-10-04 00:00:00 à 2025-10-07 00:00:00\n"
     ]
    },
    {
     "name": "stderr",
     "output_type": "stream",
     "text": [
      "[*********************100%***********************]  1 of 1 completed\n",
      "[*********************100%***********************]  1 of 1 completed\n"
     ]
    },
    {
     "name": "stdout",
     "output_type": "stream",
     "text": [
      "Téléchargement des données pour JKHY de 2025-10-04 00:00:00 à 2025-10-07 00:00:00\n",
      "Téléchargement des données pour JNJ de 2025-10-04 00:00:00 à 2025-10-07 00:00:00\n"
     ]
    },
    {
     "name": "stderr",
     "output_type": "stream",
     "text": [
      "[*********************100%***********************]  1 of 1 completed\n",
      "[*********************100%***********************]  1 of 1 completed\n"
     ]
    },
    {
     "name": "stdout",
     "output_type": "stream",
     "text": [
      "Téléchargement des données pour JPM de 2025-10-04 00:00:00 à 2025-10-07 00:00:00\n",
      "Téléchargement des données pour KDP de 2025-10-04 00:00:00 à 2025-10-07 00:00:00\n"
     ]
    },
    {
     "name": "stderr",
     "output_type": "stream",
     "text": [
      "[*********************100%***********************]  1 of 1 completed\n",
      "[*********************100%***********************]  1 of 1 completed\n"
     ]
    },
    {
     "name": "stdout",
     "output_type": "stream",
     "text": [
      "Téléchargement des données pour KEY de 2025-10-04 00:00:00 à 2025-10-07 00:00:00\n",
      "Téléchargement des données pour KEYS de 2025-10-04 00:00:00 à 2025-10-07 00:00:00\n"
     ]
    },
    {
     "name": "stderr",
     "output_type": "stream",
     "text": [
      "[*********************100%***********************]  1 of 1 completed\n",
      "[*********************100%***********************]  1 of 1 completed\n"
     ]
    },
    {
     "name": "stdout",
     "output_type": "stream",
     "text": [
      "Téléchargement des données pour KHC de 2025-10-04 00:00:00 à 2025-10-07 00:00:00\n",
      "Téléchargement des données pour KIM de 2025-10-04 00:00:00 à 2025-10-07 00:00:00\n"
     ]
    },
    {
     "name": "stderr",
     "output_type": "stream",
     "text": [
      "[*********************100%***********************]  1 of 1 completed\n",
      "[*********************100%***********************]  1 of 1 completed\n"
     ]
    },
    {
     "name": "stdout",
     "output_type": "stream",
     "text": [
      "Téléchargement des données pour KKR de 2025-10-04 00:00:00 à 2025-10-07 00:00:00\n",
      "Téléchargement des données pour KLAC de 2025-10-04 00:00:00 à 2025-10-07 00:00:00\n"
     ]
    },
    {
     "name": "stderr",
     "output_type": "stream",
     "text": [
      "[*********************100%***********************]  1 of 1 completed\n",
      "[*********************100%***********************]  1 of 1 completed\n"
     ]
    },
    {
     "name": "stdout",
     "output_type": "stream",
     "text": [
      "Téléchargement des données pour KMB de 2025-10-04 00:00:00 à 2025-10-07 00:00:00\n",
      "Téléchargement des données pour KMI de 2025-10-04 00:00:00 à 2025-10-07 00:00:00\n"
     ]
    },
    {
     "name": "stderr",
     "output_type": "stream",
     "text": [
      "[*********************100%***********************]  1 of 1 completed\n",
      "[*********************100%***********************]  1 of 1 completed\n"
     ]
    },
    {
     "name": "stdout",
     "output_type": "stream",
     "text": [
      "Téléchargement des données pour KMX de 2025-10-04 00:00:00 à 2025-10-07 00:00:00\n",
      "Téléchargement des données pour KO de 2025-10-04 00:00:00 à 2025-10-07 00:00:00\n"
     ]
    },
    {
     "name": "stderr",
     "output_type": "stream",
     "text": [
      "[*********************100%***********************]  1 of 1 completed\n",
      "[*********************100%***********************]  1 of 1 completed\n"
     ]
    },
    {
     "name": "stdout",
     "output_type": "stream",
     "text": [
      "Téléchargement des données pour KR de 2025-10-04 00:00:00 à 2025-10-07 00:00:00\n",
      "Téléchargement des données pour KVUE de 2025-10-04 00:00:00 à 2025-10-07 00:00:00\n"
     ]
    },
    {
     "name": "stderr",
     "output_type": "stream",
     "text": [
      "[*********************100%***********************]  1 of 1 completed\n",
      "[*********************100%***********************]  1 of 1 completed\n"
     ]
    },
    {
     "name": "stdout",
     "output_type": "stream",
     "text": [
      "Téléchargement des données pour L de 2025-10-04 00:00:00 à 2025-10-07 00:00:00\n",
      "Téléchargement des données pour LDOS de 2025-10-04 00:00:00 à 2025-10-07 00:00:00\n"
     ]
    },
    {
     "name": "stderr",
     "output_type": "stream",
     "text": [
      "[*********************100%***********************]  1 of 1 completed\n",
      "[*********************100%***********************]  1 of 1 completed\n"
     ]
    },
    {
     "name": "stdout",
     "output_type": "stream",
     "text": [
      "Téléchargement des données pour LEN de 2025-10-04 00:00:00 à 2025-10-07 00:00:00\n",
      "Téléchargement des données pour LH de 2025-10-04 00:00:00 à 2025-10-07 00:00:00\n"
     ]
    },
    {
     "name": "stderr",
     "output_type": "stream",
     "text": [
      "[*********************100%***********************]  1 of 1 completed\n",
      "[*********************100%***********************]  1 of 1 completed\n"
     ]
    },
    {
     "name": "stdout",
     "output_type": "stream",
     "text": [
      "Téléchargement des données pour LHX de 2025-10-04 00:00:00 à 2025-10-07 00:00:00\n",
      "Téléchargement des données pour LII de 2025-10-04 00:00:00 à 2025-10-07 00:00:00\n"
     ]
    },
    {
     "name": "stderr",
     "output_type": "stream",
     "text": [
      "[*********************100%***********************]  1 of 1 completed\n",
      "[*********************100%***********************]  1 of 1 completed\n"
     ]
    },
    {
     "name": "stdout",
     "output_type": "stream",
     "text": [
      "Téléchargement des données pour LIN de 2025-10-04 00:00:00 à 2025-10-07 00:00:00\n",
      "Téléchargement des données pour LKQ de 2025-10-04 00:00:00 à 2025-10-07 00:00:00\n"
     ]
    },
    {
     "name": "stderr",
     "output_type": "stream",
     "text": [
      "[*********************100%***********************]  1 of 1 completed\n"
     ]
    },
    {
     "name": "stdout",
     "output_type": "stream",
     "text": [
      "Téléchargement des données pour LLY de 2025-10-04 00:00:00 à 2025-10-07 00:00:00\n"
     ]
    },
    {
     "name": "stderr",
     "output_type": "stream",
     "text": [
      "[*********************100%***********************]  1 of 1 completed\n",
      "[*********************100%***********************]  1 of 1 completed\n"
     ]
    },
    {
     "name": "stdout",
     "output_type": "stream",
     "text": [
      "Téléchargement des données pour LMT de 2025-10-04 00:00:00 à 2025-10-07 00:00:00\n",
      "Téléchargement des données pour LNT de 2025-10-04 00:00:00 à 2025-10-07 00:00:00\n"
     ]
    },
    {
     "name": "stderr",
     "output_type": "stream",
     "text": [
      "[*********************100%***********************]  1 of 1 completed\n",
      "[*********************100%***********************]  1 of 1 completed\n"
     ]
    },
    {
     "name": "stdout",
     "output_type": "stream",
     "text": [
      "Téléchargement des données pour LOW de 2025-10-04 00:00:00 à 2025-10-07 00:00:00\n",
      "Téléchargement des données pour LRCX de 2025-10-04 00:00:00 à 2025-10-07 00:00:00\n"
     ]
    },
    {
     "name": "stderr",
     "output_type": "stream",
     "text": [
      "[*********************100%***********************]  1 of 1 completed\n",
      "[*********************100%***********************]  1 of 1 completed\n"
     ]
    },
    {
     "name": "stdout",
     "output_type": "stream",
     "text": [
      "Téléchargement des données pour LULU de 2025-10-04 00:00:00 à 2025-10-07 00:00:00\n",
      "Téléchargement des données pour LUV de 2025-10-04 00:00:00 à 2025-10-07 00:00:00\n"
     ]
    },
    {
     "name": "stderr",
     "output_type": "stream",
     "text": [
      "[*********************100%***********************]  1 of 1 completed\n",
      "[*********************100%***********************]  1 of 1 completed\n"
     ]
    },
    {
     "name": "stdout",
     "output_type": "stream",
     "text": [
      "Téléchargement des données pour LVS de 2025-10-04 00:00:00 à 2025-10-07 00:00:00\n",
      "Téléchargement des données pour LW de 2025-10-04 00:00:00 à 2025-10-07 00:00:00\n"
     ]
    },
    {
     "name": "stderr",
     "output_type": "stream",
     "text": [
      "[*********************100%***********************]  1 of 1 completed\n",
      "[*********************100%***********************]  1 of 1 completed\n"
     ]
    },
    {
     "name": "stdout",
     "output_type": "stream",
     "text": [
      "Téléchargement des données pour LYB de 2025-10-04 00:00:00 à 2025-10-07 00:00:00\n",
      "Téléchargement des données pour LYV de 2025-10-04 00:00:00 à 2025-10-07 00:00:00\n"
     ]
    },
    {
     "name": "stderr",
     "output_type": "stream",
     "text": [
      "[*********************100%***********************]  1 of 1 completed\n",
      "[*********************100%***********************]  1 of 1 completed\n"
     ]
    },
    {
     "name": "stdout",
     "output_type": "stream",
     "text": [
      "Téléchargement des données pour MA de 2025-10-04 00:00:00 à 2025-10-07 00:00:00\n",
      "Téléchargement des données pour MAA de 2025-10-04 00:00:00 à 2025-10-07 00:00:00\n"
     ]
    },
    {
     "name": "stderr",
     "output_type": "stream",
     "text": [
      "[*********************100%***********************]  1 of 1 completed\n",
      "[*********************100%***********************]  1 of 1 completed\n"
     ]
    },
    {
     "name": "stdout",
     "output_type": "stream",
     "text": [
      "Téléchargement des données pour MAR de 2025-10-04 00:00:00 à 2025-10-07 00:00:00\n",
      "Téléchargement des données pour MAS de 2025-10-04 00:00:00 à 2025-10-07 00:00:00\n"
     ]
    },
    {
     "name": "stderr",
     "output_type": "stream",
     "text": [
      "[*********************100%***********************]  1 of 1 completed\n",
      "[*********************100%***********************]  1 of 1 completed\n"
     ]
    },
    {
     "name": "stdout",
     "output_type": "stream",
     "text": [
      "Téléchargement des données pour MCD de 2025-10-04 00:00:00 à 2025-10-07 00:00:00\n",
      "Téléchargement des données pour MCHP de 2025-10-04 00:00:00 à 2025-10-07 00:00:00\n"
     ]
    },
    {
     "name": "stderr",
     "output_type": "stream",
     "text": [
      "[*********************100%***********************]  1 of 1 completed\n",
      "[*********************100%***********************]  1 of 1 completed\n"
     ]
    },
    {
     "name": "stdout",
     "output_type": "stream",
     "text": [
      "Téléchargement des données pour MCK de 2025-10-04 00:00:00 à 2025-10-07 00:00:00\n",
      "Téléchargement des données pour MCO de 2025-10-04 00:00:00 à 2025-10-07 00:00:00\n"
     ]
    },
    {
     "name": "stderr",
     "output_type": "stream",
     "text": [
      "[*********************100%***********************]  1 of 1 completed\n",
      "[*********************100%***********************]  1 of 1 completed\n"
     ]
    },
    {
     "name": "stdout",
     "output_type": "stream",
     "text": [
      "Téléchargement des données pour MDLZ de 2025-10-04 00:00:00 à 2025-10-07 00:00:00\n",
      "Téléchargement des données pour MDT de 2025-10-04 00:00:00 à 2025-10-07 00:00:00\n"
     ]
    },
    {
     "name": "stderr",
     "output_type": "stream",
     "text": [
      "[*********************100%***********************]  1 of 1 completed\n",
      "[*********************100%***********************]  1 of 1 completed\n"
     ]
    },
    {
     "name": "stdout",
     "output_type": "stream",
     "text": [
      "Téléchargement des données pour MET de 2025-10-04 00:00:00 à 2025-10-07 00:00:00\n",
      "Téléchargement des données pour META de 2025-10-04 00:00:00 à 2025-10-07 00:00:00\n"
     ]
    },
    {
     "name": "stderr",
     "output_type": "stream",
     "text": [
      "[*********************100%***********************]  1 of 1 completed\n",
      "[*********************100%***********************]  1 of 1 completed\n"
     ]
    },
    {
     "name": "stdout",
     "output_type": "stream",
     "text": [
      "Téléchargement des données pour MGM de 2025-10-04 00:00:00 à 2025-10-07 00:00:00\n",
      "Téléchargement des données pour MHK de 2025-10-04 00:00:00 à 2025-10-07 00:00:00\n"
     ]
    },
    {
     "name": "stderr",
     "output_type": "stream",
     "text": [
      "[*********************100%***********************]  1 of 1 completed\n",
      "[*********************100%***********************]  1 of 1 completed\n"
     ]
    },
    {
     "name": "stdout",
     "output_type": "stream",
     "text": [
      "Téléchargement des données pour MKC de 2025-10-04 00:00:00 à 2025-10-07 00:00:00\n",
      "Téléchargement des données pour MLM de 2025-10-04 00:00:00 à 2025-10-07 00:00:00\n"
     ]
    },
    {
     "name": "stderr",
     "output_type": "stream",
     "text": [
      "[*********************100%***********************]  1 of 1 completed\n"
     ]
    },
    {
     "name": "stdout",
     "output_type": "stream",
     "text": [
      "Téléchargement des données pour MMC de 2025-10-04 00:00:00 à 2025-10-07 00:00:00\n"
     ]
    },
    {
     "name": "stderr",
     "output_type": "stream",
     "text": [
      "[*********************100%***********************]  1 of 1 completed\n",
      "[*********************100%***********************]  1 of 1 completed\n"
     ]
    },
    {
     "name": "stdout",
     "output_type": "stream",
     "text": [
      "Téléchargement des données pour MMM de 2025-10-04 00:00:00 à 2025-10-07 00:00:00\n",
      "Téléchargement des données pour MNST de 2025-10-04 00:00:00 à 2025-10-07 00:00:00\n"
     ]
    },
    {
     "name": "stderr",
     "output_type": "stream",
     "text": [
      "[*********************100%***********************]  1 of 1 completed\n"
     ]
    },
    {
     "name": "stdout",
     "output_type": "stream",
     "text": [
      "Téléchargement des données pour MO de 2025-10-04 00:00:00 à 2025-10-07 00:00:00\n"
     ]
    },
    {
     "name": "stderr",
     "output_type": "stream",
     "text": [
      "[*********************100%***********************]  1 of 1 completed\n",
      "[*********************100%***********************]  1 of 1 completed\n"
     ]
    },
    {
     "name": "stdout",
     "output_type": "stream",
     "text": [
      "Téléchargement des données pour MOH de 2025-10-04 00:00:00 à 2025-10-07 00:00:00\n",
      "Téléchargement des données pour MOS de 2025-10-04 00:00:00 à 2025-10-07 00:00:00\n"
     ]
    },
    {
     "name": "stderr",
     "output_type": "stream",
     "text": [
      "[*********************100%***********************]  1 of 1 completed\n",
      "[*********************100%***********************]  1 of 1 completed\n"
     ]
    },
    {
     "name": "stdout",
     "output_type": "stream",
     "text": [
      "Téléchargement des données pour MPC de 2025-10-04 00:00:00 à 2025-10-07 00:00:00\n",
      "Téléchargement des données pour MPWR de 2025-10-04 00:00:00 à 2025-10-07 00:00:00\n"
     ]
    },
    {
     "name": "stderr",
     "output_type": "stream",
     "text": [
      "[*********************100%***********************]  1 of 1 completed\n",
      "[*********************100%***********************]  1 of 1 completed\n"
     ]
    },
    {
     "name": "stdout",
     "output_type": "stream",
     "text": [
      "Téléchargement des données pour MRK de 2025-10-04 00:00:00 à 2025-10-07 00:00:00\n",
      "Téléchargement des données pour MRNA de 2025-10-04 00:00:00 à 2025-10-07 00:00:00\n"
     ]
    },
    {
     "name": "stderr",
     "output_type": "stream",
     "text": [
      "[*********************100%***********************]  1 of 1 completed\n",
      "[*********************100%***********************]  1 of 1 completed\n"
     ]
    },
    {
     "name": "stdout",
     "output_type": "stream",
     "text": [
      "Téléchargement des données pour MS de 2025-10-04 00:00:00 à 2025-10-07 00:00:00\n",
      "Téléchargement des données pour MSCI de 2025-10-04 00:00:00 à 2025-10-07 00:00:00\n"
     ]
    },
    {
     "name": "stderr",
     "output_type": "stream",
     "text": [
      "[*********************100%***********************]  1 of 1 completed\n",
      "[*********************100%***********************]  1 of 1 completed\n"
     ]
    },
    {
     "name": "stdout",
     "output_type": "stream",
     "text": [
      "Téléchargement des données pour MSFT de 2025-10-04 00:00:00 à 2025-10-07 00:00:00\n",
      "Téléchargement des données pour MSI de 2025-10-04 00:00:00 à 2025-10-07 00:00:00\n"
     ]
    },
    {
     "name": "stderr",
     "output_type": "stream",
     "text": [
      "[*********************100%***********************]  1 of 1 completed\n",
      "[*********************100%***********************]  1 of 1 completed\n"
     ]
    },
    {
     "name": "stdout",
     "output_type": "stream",
     "text": [
      "Téléchargement des données pour MTB de 2025-10-04 00:00:00 à 2025-10-07 00:00:00\n",
      "Téléchargement des données pour MTCH de 2025-10-04 00:00:00 à 2025-10-07 00:00:00\n"
     ]
    },
    {
     "name": "stderr",
     "output_type": "stream",
     "text": [
      "[*********************100%***********************]  1 of 1 completed\n",
      "[*********************100%***********************]  1 of 1 completed\n"
     ]
    },
    {
     "name": "stdout",
     "output_type": "stream",
     "text": [
      "Téléchargement des données pour MTD de 2025-10-04 00:00:00 à 2025-10-07 00:00:00\n",
      "Téléchargement des données pour MU de 2025-10-04 00:00:00 à 2025-10-07 00:00:00\n"
     ]
    },
    {
     "name": "stderr",
     "output_type": "stream",
     "text": [
      "[*********************100%***********************]  1 of 1 completed\n",
      "[*********************100%***********************]  1 of 1 completed\n"
     ]
    },
    {
     "name": "stdout",
     "output_type": "stream",
     "text": [
      "Téléchargement des données pour NCLH de 2025-10-04 00:00:00 à 2025-10-07 00:00:00\n",
      "Téléchargement des données pour NDAQ de 2025-10-04 00:00:00 à 2025-10-07 00:00:00\n"
     ]
    },
    {
     "name": "stderr",
     "output_type": "stream",
     "text": [
      "[*********************100%***********************]  1 of 1 completed\n",
      "[*********************100%***********************]  1 of 1 completed\n"
     ]
    },
    {
     "name": "stdout",
     "output_type": "stream",
     "text": [
      "Téléchargement des données pour NDSN de 2025-10-04 00:00:00 à 2025-10-07 00:00:00\n",
      "Téléchargement des données pour NEE de 2025-10-04 00:00:00 à 2025-10-07 00:00:00\n"
     ]
    },
    {
     "name": "stderr",
     "output_type": "stream",
     "text": [
      "[*********************100%***********************]  1 of 1 completed\n"
     ]
    },
    {
     "name": "stdout",
     "output_type": "stream",
     "text": [
      "Téléchargement des données pour NEM de 2025-10-04 00:00:00 à 2025-10-07 00:00:00\n"
     ]
    },
    {
     "name": "stderr",
     "output_type": "stream",
     "text": [
      "[*********************100%***********************]  1 of 1 completed\n",
      "[*********************100%***********************]  1 of 1 completed\n"
     ]
    },
    {
     "name": "stdout",
     "output_type": "stream",
     "text": [
      "Téléchargement des données pour NFLX de 2025-10-04 00:00:00 à 2025-10-07 00:00:00\n",
      "Téléchargement des données pour NI de 2025-10-04 00:00:00 à 2025-10-07 00:00:00\n"
     ]
    },
    {
     "name": "stderr",
     "output_type": "stream",
     "text": [
      "[*********************100%***********************]  1 of 1 completed\n",
      "[*********************100%***********************]  1 of 1 completed\n"
     ]
    },
    {
     "name": "stdout",
     "output_type": "stream",
     "text": [
      "Téléchargement des données pour NKE de 2025-10-04 00:00:00 à 2025-10-07 00:00:00\n",
      "Téléchargement des données pour NOC de 2025-10-04 00:00:00 à 2025-10-07 00:00:00\n"
     ]
    },
    {
     "name": "stderr",
     "output_type": "stream",
     "text": [
      "[*********************100%***********************]  1 of 1 completed\n",
      "[*********************100%***********************]  1 of 1 completed\n"
     ]
    },
    {
     "name": "stdout",
     "output_type": "stream",
     "text": [
      "Téléchargement des données pour NOW de 2025-10-04 00:00:00 à 2025-10-07 00:00:00\n",
      "Téléchargement des données pour NRG de 2025-10-04 00:00:00 à 2025-10-07 00:00:00\n"
     ]
    },
    {
     "name": "stderr",
     "output_type": "stream",
     "text": [
      "[*********************100%***********************]  1 of 1 completed\n",
      "[*********************100%***********************]  1 of 1 completed\n"
     ]
    },
    {
     "name": "stdout",
     "output_type": "stream",
     "text": [
      "Téléchargement des données pour NSC de 2025-10-04 00:00:00 à 2025-10-07 00:00:00\n",
      "Téléchargement des données pour NTAP de 2025-10-04 00:00:00 à 2025-10-07 00:00:00\n"
     ]
    },
    {
     "name": "stderr",
     "output_type": "stream",
     "text": [
      "[*********************100%***********************]  1 of 1 completed\n",
      "[*********************100%***********************]  1 of 1 completed\n"
     ]
    },
    {
     "name": "stdout",
     "output_type": "stream",
     "text": [
      "Téléchargement des données pour NTRS de 2025-10-04 00:00:00 à 2025-10-07 00:00:00\n",
      "Téléchargement des données pour NUE de 2025-10-04 00:00:00 à 2025-10-07 00:00:00\n"
     ]
    },
    {
     "name": "stderr",
     "output_type": "stream",
     "text": [
      "[*********************100%***********************]  1 of 1 completed\n",
      "[*********************100%***********************]  1 of 1 completed\n"
     ]
    },
    {
     "name": "stdout",
     "output_type": "stream",
     "text": [
      "Téléchargement des données pour NVDA de 2025-10-04 00:00:00 à 2025-10-07 00:00:00\n",
      "Téléchargement des données pour NVR de 2025-10-04 00:00:00 à 2025-10-07 00:00:00\n"
     ]
    },
    {
     "name": "stderr",
     "output_type": "stream",
     "text": [
      "[*********************100%***********************]  1 of 1 completed\n",
      "[*********************100%***********************]  1 of 1 completed\n"
     ]
    },
    {
     "name": "stdout",
     "output_type": "stream",
     "text": [
      "Téléchargement des données pour NWS de 2025-10-04 00:00:00 à 2025-10-07 00:00:00\n",
      "Téléchargement des données pour NWSA de 2025-10-04 00:00:00 à 2025-10-07 00:00:00\n"
     ]
    },
    {
     "name": "stderr",
     "output_type": "stream",
     "text": [
      "[*********************100%***********************]  1 of 1 completed\n",
      "[*********************100%***********************]  1 of 1 completed\n"
     ]
    },
    {
     "name": "stdout",
     "output_type": "stream",
     "text": [
      "Téléchargement des données pour NXPI de 2025-10-04 00:00:00 à 2025-10-07 00:00:00\n",
      "Téléchargement des données pour O de 2025-10-04 00:00:00 à 2025-10-07 00:00:00\n"
     ]
    },
    {
     "name": "stderr",
     "output_type": "stream",
     "text": [
      "[*********************100%***********************]  1 of 1 completed\n",
      "[*********************100%***********************]  1 of 1 completed\n"
     ]
    },
    {
     "name": "stdout",
     "output_type": "stream",
     "text": [
      "Téléchargement des données pour ODFL de 2025-10-04 00:00:00 à 2025-10-07 00:00:00\n",
      "Téléchargement des données pour OKE de 2025-10-04 00:00:00 à 2025-10-07 00:00:00\n"
     ]
    },
    {
     "name": "stderr",
     "output_type": "stream",
     "text": [
      "[*********************100%***********************]  1 of 1 completed\n",
      "[*********************100%***********************]  1 of 1 completed\n"
     ]
    },
    {
     "name": "stdout",
     "output_type": "stream",
     "text": [
      "Téléchargement des données pour OMC de 2025-10-04 00:00:00 à 2025-10-07 00:00:00\n",
      "Téléchargement des données pour ON de 2025-10-04 00:00:00 à 2025-10-07 00:00:00\n"
     ]
    },
    {
     "name": "stderr",
     "output_type": "stream",
     "text": [
      "[*********************100%***********************]  1 of 1 completed\n",
      "[*********************100%***********************]  1 of 1 completed\n"
     ]
    },
    {
     "name": "stdout",
     "output_type": "stream",
     "text": [
      "Téléchargement des données pour ORCL de 2025-10-04 00:00:00 à 2025-10-07 00:00:00\n",
      "Téléchargement des données pour ORLY de 2025-10-04 00:00:00 à 2025-10-07 00:00:00\n"
     ]
    },
    {
     "name": "stderr",
     "output_type": "stream",
     "text": [
      "[*********************100%***********************]  1 of 1 completed\n",
      "[*********************100%***********************]  1 of 1 completed\n"
     ]
    },
    {
     "name": "stdout",
     "output_type": "stream",
     "text": [
      "Téléchargement des données pour OTIS de 2025-10-04 00:00:00 à 2025-10-07 00:00:00\n",
      "Téléchargement des données pour OXY de 2025-10-04 00:00:00 à 2025-10-07 00:00:00\n"
     ]
    },
    {
     "name": "stderr",
     "output_type": "stream",
     "text": [
      "[*********************100%***********************]  1 of 1 completed\n",
      "[*********************100%***********************]  1 of 1 completed\n",
      "\n",
      "1 Failed download:\n",
      "['P']: YFPricesMissingError('possibly delisted; no price data found  (1d 2025-10-04 00:00:00 -> 2025-10-07 00:00:00)')\n"
     ]
    },
    {
     "name": "stdout",
     "output_type": "stream",
     "text": [
      "Téléchargement des données pour P de 2025-10-04 00:00:00 à 2025-10-07 00:00:00\n",
      "Téléchargement des données pour PANW de 2025-10-04 00:00:00 à 2025-10-07 00:00:00\n"
     ]
    },
    {
     "name": "stderr",
     "output_type": "stream",
     "text": [
      "[*********************100%***********************]  1 of 1 completed\n",
      "[*********************100%***********************]  1 of 1 completed\n"
     ]
    },
    {
     "name": "stdout",
     "output_type": "stream",
     "text": [
      "Téléchargement des données pour PAYC de 2025-10-04 00:00:00 à 2025-10-07 00:00:00\n",
      "Téléchargement des données pour PAYX de 2025-10-04 00:00:00 à 2025-10-07 00:00:00\n"
     ]
    },
    {
     "name": "stderr",
     "output_type": "stream",
     "text": [
      "[*********************100%***********************]  1 of 1 completed\n",
      "[*********************100%***********************]  1 of 1 completed\n"
     ]
    },
    {
     "name": "stdout",
     "output_type": "stream",
     "text": [
      "Téléchargement des données pour PCAR de 2025-10-04 00:00:00 à 2025-10-07 00:00:00\n",
      "Téléchargement des données pour PCG de 2025-10-04 00:00:00 à 2025-10-07 00:00:00\n"
     ]
    },
    {
     "name": "stderr",
     "output_type": "stream",
     "text": [
      "[*********************100%***********************]  1 of 1 completed\n",
      "[*********************100%***********************]  1 of 1 completed\n"
     ]
    },
    {
     "name": "stdout",
     "output_type": "stream",
     "text": [
      "Téléchargement des données pour PEG de 2025-10-04 00:00:00 à 2025-10-07 00:00:00\n",
      "Téléchargement des données pour PEP de 2025-10-04 00:00:00 à 2025-10-07 00:00:00\n"
     ]
    },
    {
     "name": "stderr",
     "output_type": "stream",
     "text": [
      "[*********************100%***********************]  1 of 1 completed\n",
      "[*********************100%***********************]  1 of 1 completed\n"
     ]
    },
    {
     "name": "stdout",
     "output_type": "stream",
     "text": [
      "Téléchargement des données pour PFE de 2025-10-04 00:00:00 à 2025-10-07 00:00:00\n",
      "Téléchargement des données pour PFG de 2025-10-04 00:00:00 à 2025-10-07 00:00:00\n"
     ]
    },
    {
     "name": "stderr",
     "output_type": "stream",
     "text": [
      "[*********************100%***********************]  1 of 1 completed\n",
      "[*********************100%***********************]  1 of 1 completed\n"
     ]
    },
    {
     "name": "stdout",
     "output_type": "stream",
     "text": [
      "Téléchargement des données pour PG de 2025-10-04 00:00:00 à 2025-10-07 00:00:00\n",
      "Téléchargement des données pour PGR de 2025-10-04 00:00:00 à 2025-10-07 00:00:00\n"
     ]
    },
    {
     "name": "stderr",
     "output_type": "stream",
     "text": [
      "[*********************100%***********************]  1 of 1 completed\n",
      "[*********************100%***********************]  1 of 1 completed\n"
     ]
    },
    {
     "name": "stdout",
     "output_type": "stream",
     "text": [
      "Téléchargement des données pour PHM de 2025-10-04 00:00:00 à 2025-10-07 00:00:00\n",
      "Téléchargement des données pour PKG de 2025-10-04 00:00:00 à 2025-10-07 00:00:00\n"
     ]
    },
    {
     "name": "stderr",
     "output_type": "stream",
     "text": [
      "[*********************100%***********************]  1 of 1 completed\n",
      "[*********************100%***********************]  1 of 1 completed\n"
     ]
    },
    {
     "name": "stdout",
     "output_type": "stream",
     "text": [
      "Téléchargement des données pour PLD de 2025-10-04 00:00:00 à 2025-10-07 00:00:00\n",
      "Téléchargement des données pour PLTR de 2025-10-04 00:00:00 à 2025-10-07 00:00:00\n"
     ]
    },
    {
     "name": "stderr",
     "output_type": "stream",
     "text": [
      "[*********************100%***********************]  1 of 1 completed\n",
      "[*********************100%***********************]  1 of 1 completed\n"
     ]
    },
    {
     "name": "stdout",
     "output_type": "stream",
     "text": [
      "Téléchargement des données pour PM de 2025-10-04 00:00:00 à 2025-10-07 00:00:00\n",
      "Téléchargement des données pour PNC de 2025-10-04 00:00:00 à 2025-10-07 00:00:00\n"
     ]
    },
    {
     "name": "stderr",
     "output_type": "stream",
     "text": [
      "[*********************100%***********************]  1 of 1 completed\n",
      "[*********************100%***********************]  1 of 1 completed\n"
     ]
    },
    {
     "name": "stdout",
     "output_type": "stream",
     "text": [
      "Téléchargement des données pour PNR de 2025-10-04 00:00:00 à 2025-10-07 00:00:00\n",
      "Téléchargement des données pour PNW de 2025-10-04 00:00:00 à 2025-10-07 00:00:00\n"
     ]
    },
    {
     "name": "stderr",
     "output_type": "stream",
     "text": [
      "[*********************100%***********************]  1 of 1 completed\n",
      "[*********************100%***********************]  1 of 1 completed\n"
     ]
    },
    {
     "name": "stdout",
     "output_type": "stream",
     "text": [
      "Téléchargement des données pour PODD de 2025-10-04 00:00:00 à 2025-10-07 00:00:00\n",
      "Téléchargement des données pour POOL de 2025-10-04 00:00:00 à 2025-10-07 00:00:00\n"
     ]
    },
    {
     "name": "stderr",
     "output_type": "stream",
     "text": [
      "[*********************100%***********************]  1 of 1 completed\n",
      "[*********************100%***********************]  1 of 1 completed\n"
     ]
    },
    {
     "name": "stdout",
     "output_type": "stream",
     "text": [
      "Téléchargement des données pour PPG de 2025-10-04 00:00:00 à 2025-10-07 00:00:00\n",
      "Téléchargement des données pour PPL de 2025-10-04 00:00:00 à 2025-10-07 00:00:00\n"
     ]
    },
    {
     "name": "stderr",
     "output_type": "stream",
     "text": [
      "[*********************100%***********************]  1 of 1 completed\n",
      "[*********************100%***********************]  1 of 1 completed\n"
     ]
    },
    {
     "name": "stdout",
     "output_type": "stream",
     "text": [
      "Téléchargement des données pour PRU de 2025-10-04 00:00:00 à 2025-10-07 00:00:00\n",
      "Téléchargement des données pour PSA de 2025-10-04 00:00:00 à 2025-10-07 00:00:00\n"
     ]
    },
    {
     "name": "stderr",
     "output_type": "stream",
     "text": [
      "[*********************100%***********************]  1 of 1 completed\n",
      "[*********************100%***********************]  1 of 1 completed\n"
     ]
    },
    {
     "name": "stdout",
     "output_type": "stream",
     "text": [
      "Téléchargement des données pour PSKY de 2025-10-04 00:00:00 à 2025-10-07 00:00:00\n",
      "Téléchargement des données pour PSX de 2025-10-04 00:00:00 à 2025-10-07 00:00:00\n"
     ]
    },
    {
     "name": "stderr",
     "output_type": "stream",
     "text": [
      "[*********************100%***********************]  1 of 1 completed\n",
      "[*********************100%***********************]  1 of 1 completed\n"
     ]
    },
    {
     "name": "stdout",
     "output_type": "stream",
     "text": [
      "Téléchargement des données pour PTC de 2025-10-04 00:00:00 à 2025-10-07 00:00:00\n",
      "Téléchargement des données pour PWR de 2025-10-04 00:00:00 à 2025-10-07 00:00:00\n"
     ]
    },
    {
     "name": "stderr",
     "output_type": "stream",
     "text": [
      "[*********************100%***********************]  1 of 1 completed\n",
      "[*********************100%***********************]  1 of 1 completed\n"
     ]
    },
    {
     "name": "stdout",
     "output_type": "stream",
     "text": [
      "Téléchargement des données pour PYPL de 2025-10-04 00:00:00 à 2025-10-07 00:00:00\n",
      "Téléchargement des données pour QCOM de 2025-10-04 00:00:00 à 2025-10-07 00:00:00\n"
     ]
    },
    {
     "name": "stderr",
     "output_type": "stream",
     "text": [
      "[*********************100%***********************]  1 of 1 completed\n",
      "[*********************100%***********************]  1 of 1 completed\n"
     ]
    },
    {
     "name": "stdout",
     "output_type": "stream",
     "text": [
      "Téléchargement des données pour RCL de 2025-10-04 00:00:00 à 2025-10-07 00:00:00\n",
      "Téléchargement des données pour REG de 2025-10-04 00:00:00 à 2025-10-07 00:00:00\n"
     ]
    },
    {
     "name": "stderr",
     "output_type": "stream",
     "text": [
      "[*********************100%***********************]  1 of 1 completed\n",
      "[*********************100%***********************]  1 of 1 completed\n"
     ]
    },
    {
     "name": "stdout",
     "output_type": "stream",
     "text": [
      "Téléchargement des données pour REGN de 2025-10-04 00:00:00 à 2025-10-07 00:00:00\n",
      "Téléchargement des données pour RF de 2025-10-04 00:00:00 à 2025-10-07 00:00:00\n"
     ]
    },
    {
     "name": "stderr",
     "output_type": "stream",
     "text": [
      "[*********************100%***********************]  1 of 1 completed\n",
      "[*********************100%***********************]  1 of 1 completed\n"
     ]
    },
    {
     "name": "stdout",
     "output_type": "stream",
     "text": [
      "Téléchargement des données pour RJF de 2025-10-04 00:00:00 à 2025-10-07 00:00:00\n",
      "Téléchargement des données pour RL de 2025-10-04 00:00:00 à 2025-10-07 00:00:00\n"
     ]
    },
    {
     "name": "stderr",
     "output_type": "stream",
     "text": [
      "[*********************100%***********************]  1 of 1 completed\n",
      "[*********************100%***********************]  1 of 1 completed\n"
     ]
    },
    {
     "name": "stdout",
     "output_type": "stream",
     "text": [
      "Téléchargement des données pour RMD de 2025-10-04 00:00:00 à 2025-10-07 00:00:00\n",
      "Téléchargement des données pour ROK de 2025-10-04 00:00:00 à 2025-10-07 00:00:00\n"
     ]
    },
    {
     "name": "stderr",
     "output_type": "stream",
     "text": [
      "[*********************100%***********************]  1 of 1 completed\n",
      "[*********************100%***********************]  1 of 1 completed\n"
     ]
    },
    {
     "name": "stdout",
     "output_type": "stream",
     "text": [
      "Téléchargement des données pour ROL de 2025-10-04 00:00:00 à 2025-10-07 00:00:00\n",
      "Téléchargement des données pour ROP de 2025-10-04 00:00:00 à 2025-10-07 00:00:00\n"
     ]
    },
    {
     "name": "stderr",
     "output_type": "stream",
     "text": [
      "[*********************100%***********************]  1 of 1 completed\n",
      "[*********************100%***********************]  1 of 1 completed\n"
     ]
    },
    {
     "name": "stdout",
     "output_type": "stream",
     "text": [
      "Téléchargement des données pour ROST de 2025-10-04 00:00:00 à 2025-10-07 00:00:00\n",
      "Téléchargement des données pour RSG de 2025-10-04 00:00:00 à 2025-10-07 00:00:00\n"
     ]
    },
    {
     "name": "stderr",
     "output_type": "stream",
     "text": [
      "[*********************100%***********************]  1 of 1 completed\n"
     ]
    },
    {
     "name": "stdout",
     "output_type": "stream",
     "text": [
      "Téléchargement des données pour RTX de 2025-10-04 00:00:00 à 2025-10-07 00:00:00\n"
     ]
    },
    {
     "name": "stderr",
     "output_type": "stream",
     "text": [
      "[*********************100%***********************]  1 of 1 completed\n",
      "[*********************100%***********************]  1 of 1 completed\n"
     ]
    },
    {
     "name": "stdout",
     "output_type": "stream",
     "text": [
      "Téléchargement des données pour RVTY de 2025-10-04 00:00:00 à 2025-10-07 00:00:00\n",
      "Téléchargement des données pour SBAC de 2025-10-04 00:00:00 à 2025-10-07 00:00:00\n"
     ]
    },
    {
     "name": "stderr",
     "output_type": "stream",
     "text": [
      "[*********************100%***********************]  1 of 1 completed\n",
      "[*********************100%***********************]  1 of 1 completed\n"
     ]
    },
    {
     "name": "stdout",
     "output_type": "stream",
     "text": [
      "Téléchargement des données pour SBUX de 2025-10-04 00:00:00 à 2025-10-07 00:00:00\n",
      "Téléchargement des données pour SCHW de 2025-10-04 00:00:00 à 2025-10-07 00:00:00\n"
     ]
    },
    {
     "name": "stderr",
     "output_type": "stream",
     "text": [
      "[*********************100%***********************]  1 of 1 completed\n",
      "[*********************100%***********************]  1 of 1 completed\n"
     ]
    },
    {
     "name": "stdout",
     "output_type": "stream",
     "text": [
      "Téléchargement des données pour SHW de 2025-10-04 00:00:00 à 2025-10-07 00:00:00\n",
      "Téléchargement des données pour SJM de 2025-10-04 00:00:00 à 2025-10-07 00:00:00\n"
     ]
    },
    {
     "name": "stderr",
     "output_type": "stream",
     "text": [
      "[*********************100%***********************]  1 of 1 completed\n",
      "[*********************100%***********************]  1 of 1 completed\n"
     ]
    },
    {
     "name": "stdout",
     "output_type": "stream",
     "text": [
      "Téléchargement des données pour SLB de 2025-10-04 00:00:00 à 2025-10-07 00:00:00\n",
      "Téléchargement des données pour SMCI de 2025-10-04 00:00:00 à 2025-10-07 00:00:00\n"
     ]
    },
    {
     "name": "stderr",
     "output_type": "stream",
     "text": [
      "[*********************100%***********************]  1 of 1 completed\n",
      "[*********************100%***********************]  1 of 1 completed\n"
     ]
    },
    {
     "name": "stdout",
     "output_type": "stream",
     "text": [
      "Téléchargement des données pour SNA de 2025-10-04 00:00:00 à 2025-10-07 00:00:00\n",
      "Téléchargement des données pour SNPS de 2025-10-04 00:00:00 à 2025-10-07 00:00:00\n"
     ]
    },
    {
     "name": "stderr",
     "output_type": "stream",
     "text": [
      "[*********************100%***********************]  1 of 1 completed\n",
      "[*********************100%***********************]  1 of 1 completed\n"
     ]
    },
    {
     "name": "stdout",
     "output_type": "stream",
     "text": [
      "Téléchargement des données pour SO de 2025-10-04 00:00:00 à 2025-10-07 00:00:00\n",
      "Téléchargement des données pour SOLV de 2025-10-04 00:00:00 à 2025-10-07 00:00:00\n"
     ]
    },
    {
     "name": "stderr",
     "output_type": "stream",
     "text": [
      "[*********************100%***********************]  1 of 1 completed\n",
      "[*********************100%***********************]  1 of 1 completed\n"
     ]
    },
    {
     "name": "stdout",
     "output_type": "stream",
     "text": [
      "Téléchargement des données pour SPG de 2025-10-04 00:00:00 à 2025-10-07 00:00:00\n",
      "Téléchargement des données pour SPGI de 2025-10-04 00:00:00 à 2025-10-07 00:00:00\n"
     ]
    },
    {
     "name": "stderr",
     "output_type": "stream",
     "text": [
      "[*********************100%***********************]  1 of 1 completed\n",
      "[*********************100%***********************]  1 of 1 completed\n"
     ]
    },
    {
     "name": "stdout",
     "output_type": "stream",
     "text": [
      "Téléchargement des données pour SRE de 2025-10-04 00:00:00 à 2025-10-07 00:00:00\n",
      "Téléchargement des données pour STE de 2025-10-04 00:00:00 à 2025-10-07 00:00:00\n"
     ]
    },
    {
     "name": "stderr",
     "output_type": "stream",
     "text": [
      "[*********************100%***********************]  1 of 1 completed\n",
      "[*********************100%***********************]  1 of 1 completed\n"
     ]
    },
    {
     "name": "stdout",
     "output_type": "stream",
     "text": [
      "Téléchargement des données pour STLD de 2025-10-04 00:00:00 à 2025-10-07 00:00:00\n",
      "Téléchargement des données pour STT de 2025-10-04 00:00:00 à 2025-10-07 00:00:00\n"
     ]
    },
    {
     "name": "stderr",
     "output_type": "stream",
     "text": [
      "[*********************100%***********************]  1 of 1 completed\n",
      "[*********************100%***********************]  1 of 1 completed\n"
     ]
    },
    {
     "name": "stdout",
     "output_type": "stream",
     "text": [
      "Téléchargement des données pour STX de 2025-10-04 00:00:00 à 2025-10-07 00:00:00\n",
      "Téléchargement des données pour STZ de 2025-10-04 00:00:00 à 2025-10-07 00:00:00\n"
     ]
    },
    {
     "name": "stderr",
     "output_type": "stream",
     "text": [
      "[*********************100%***********************]  1 of 1 completed\n",
      "[*********************100%***********************]  1 of 1 completed\n"
     ]
    },
    {
     "name": "stdout",
     "output_type": "stream",
     "text": [
      "Téléchargement des données pour SW de 2025-10-04 00:00:00 à 2025-10-07 00:00:00\n",
      "Téléchargement des données pour SWK de 2025-10-04 00:00:00 à 2025-10-07 00:00:00\n"
     ]
    },
    {
     "name": "stderr",
     "output_type": "stream",
     "text": [
      "[*********************100%***********************]  1 of 1 completed\n",
      "[*********************100%***********************]  1 of 1 completed\n"
     ]
    },
    {
     "name": "stdout",
     "output_type": "stream",
     "text": [
      "Téléchargement des données pour SWKS de 2025-10-04 00:00:00 à 2025-10-07 00:00:00\n",
      "Téléchargement des données pour SYF de 2025-10-04 00:00:00 à 2025-10-07 00:00:00\n"
     ]
    },
    {
     "name": "stderr",
     "output_type": "stream",
     "text": [
      "[*********************100%***********************]  1 of 1 completed\n",
      "[*********************100%***********************]  1 of 1 completed\n"
     ]
    },
    {
     "name": "stdout",
     "output_type": "stream",
     "text": [
      "Téléchargement des données pour SYK de 2025-10-04 00:00:00 à 2025-10-07 00:00:00\n",
      "Téléchargement des données pour SYY de 2025-10-04 00:00:00 à 2025-10-07 00:00:00\n"
     ]
    },
    {
     "name": "stderr",
     "output_type": "stream",
     "text": [
      "[*********************100%***********************]  1 of 1 completed\n",
      "[*********************100%***********************]  1 of 1 completed\n"
     ]
    },
    {
     "name": "stdout",
     "output_type": "stream",
     "text": [
      "Téléchargement des données pour TAP de 2025-10-04 00:00:00 à 2025-10-07 00:00:00\n",
      "Téléchargement des données pour TDG de 2025-10-04 00:00:00 à 2025-10-07 00:00:00\n"
     ]
    },
    {
     "name": "stderr",
     "output_type": "stream",
     "text": [
      "[*********************100%***********************]  1 of 1 completed\n",
      "[*********************100%***********************]  1 of 1 completed\n"
     ]
    },
    {
     "name": "stdout",
     "output_type": "stream",
     "text": [
      "Téléchargement des données pour TDY de 2025-10-04 00:00:00 à 2025-10-07 00:00:00\n",
      "Téléchargement des données pour TECH de 2025-10-04 00:00:00 à 2025-10-07 00:00:00\n"
     ]
    },
    {
     "name": "stderr",
     "output_type": "stream",
     "text": [
      "[*********************100%***********************]  1 of 1 completed\n",
      "[*********************100%***********************]  1 of 1 completed\n"
     ]
    },
    {
     "name": "stdout",
     "output_type": "stream",
     "text": [
      "Téléchargement des données pour TEL de 2025-10-04 00:00:00 à 2025-10-07 00:00:00\n",
      "Téléchargement des données pour TER de 2025-10-04 00:00:00 à 2025-10-07 00:00:00\n"
     ]
    },
    {
     "name": "stderr",
     "output_type": "stream",
     "text": [
      "[*********************100%***********************]  1 of 1 completed\n",
      "[*********************100%***********************]  1 of 1 completed\n"
     ]
    },
    {
     "name": "stdout",
     "output_type": "stream",
     "text": [
      "Téléchargement des données pour TFC de 2025-10-04 00:00:00 à 2025-10-07 00:00:00\n",
      "Téléchargement des données pour TGT de 2025-10-04 00:00:00 à 2025-10-07 00:00:00\n"
     ]
    },
    {
     "name": "stderr",
     "output_type": "stream",
     "text": [
      "[*********************100%***********************]  1 of 1 completed\n"
     ]
    },
    {
     "name": "stdout",
     "output_type": "stream",
     "text": [
      "Téléchargement des données pour TJX de 2025-10-04 00:00:00 à 2025-10-07 00:00:00\n"
     ]
    },
    {
     "name": "stderr",
     "output_type": "stream",
     "text": [
      "[*********************100%***********************]  1 of 1 completed\n",
      "[*********************100%***********************]  1 of 1 completed\n"
     ]
    },
    {
     "name": "stdout",
     "output_type": "stream",
     "text": [
      "Téléchargement des données pour TKO de 2025-10-04 00:00:00 à 2025-10-07 00:00:00\n",
      "Téléchargement des données pour TMO de 2025-10-04 00:00:00 à 2025-10-07 00:00:00\n"
     ]
    },
    {
     "name": "stderr",
     "output_type": "stream",
     "text": [
      "[*********************100%***********************]  1 of 1 completed\n",
      "[*********************100%***********************]  1 of 1 completed\n"
     ]
    },
    {
     "name": "stdout",
     "output_type": "stream",
     "text": [
      "Téléchargement des données pour TMUS de 2025-10-04 00:00:00 à 2025-10-07 00:00:00\n",
      "Téléchargement des données pour TPL de 2025-10-04 00:00:00 à 2025-10-07 00:00:00\n"
     ]
    },
    {
     "name": "stderr",
     "output_type": "stream",
     "text": [
      "[*********************100%***********************]  1 of 1 completed\n",
      "[*********************100%***********************]  1 of 1 completed\n"
     ]
    },
    {
     "name": "stdout",
     "output_type": "stream",
     "text": [
      "Téléchargement des données pour TPR de 2025-10-04 00:00:00 à 2025-10-07 00:00:00\n",
      "Téléchargement des données pour TRGP de 2025-10-04 00:00:00 à 2025-10-07 00:00:00\n"
     ]
    },
    {
     "name": "stderr",
     "output_type": "stream",
     "text": [
      "[*********************100%***********************]  1 of 1 completed\n",
      "[*********************100%***********************]  1 of 1 completed\n"
     ]
    },
    {
     "name": "stdout",
     "output_type": "stream",
     "text": [
      "Téléchargement des données pour TRMB de 2025-10-04 00:00:00 à 2025-10-07 00:00:00\n",
      "Téléchargement des données pour TROW de 2025-10-04 00:00:00 à 2025-10-07 00:00:00\n"
     ]
    },
    {
     "name": "stderr",
     "output_type": "stream",
     "text": [
      "[*********************100%***********************]  1 of 1 completed\n",
      "[*********************100%***********************]  1 of 1 completed\n"
     ]
    },
    {
     "name": "stdout",
     "output_type": "stream",
     "text": [
      "Téléchargement des données pour TRV de 2025-10-04 00:00:00 à 2025-10-07 00:00:00\n",
      "Téléchargement des données pour TSCO de 2025-10-04 00:00:00 à 2025-10-07 00:00:00\n"
     ]
    },
    {
     "name": "stderr",
     "output_type": "stream",
     "text": [
      "[*********************100%***********************]  1 of 1 completed\n",
      "[*********************100%***********************]  1 of 1 completed\n"
     ]
    },
    {
     "name": "stdout",
     "output_type": "stream",
     "text": [
      "Téléchargement des données pour TSLA de 2025-10-04 00:00:00 à 2025-10-07 00:00:00\n",
      "Téléchargement des données pour TSN de 2025-10-04 00:00:00 à 2025-10-07 00:00:00\n"
     ]
    },
    {
     "name": "stderr",
     "output_type": "stream",
     "text": [
      "[*********************100%***********************]  1 of 1 completed\n",
      "[*********************100%***********************]  1 of 1 completed\n"
     ]
    },
    {
     "name": "stdout",
     "output_type": "stream",
     "text": [
      "Téléchargement des données pour TT de 2025-10-04 00:00:00 à 2025-10-07 00:00:00\n",
      "Téléchargement des données pour TTD de 2025-10-04 00:00:00 à 2025-10-07 00:00:00\n"
     ]
    },
    {
     "name": "stderr",
     "output_type": "stream",
     "text": [
      "[*********************100%***********************]  1 of 1 completed\n",
      "[*********************100%***********************]  1 of 1 completed\n"
     ]
    },
    {
     "name": "stdout",
     "output_type": "stream",
     "text": [
      "Téléchargement des données pour TTWO de 2025-10-04 00:00:00 à 2025-10-07 00:00:00\n",
      "Téléchargement des données pour TXN de 2025-10-04 00:00:00 à 2025-10-07 00:00:00\n"
     ]
    },
    {
     "name": "stderr",
     "output_type": "stream",
     "text": [
      "[*********************100%***********************]  1 of 1 completed\n",
      "[*********************100%***********************]  1 of 1 completed\n"
     ]
    },
    {
     "name": "stdout",
     "output_type": "stream",
     "text": [
      "Téléchargement des données pour TXT de 2025-10-04 00:00:00 à 2025-10-07 00:00:00\n",
      "Téléchargement des données pour TYL de 2025-10-04 00:00:00 à 2025-10-07 00:00:00\n"
     ]
    },
    {
     "name": "stderr",
     "output_type": "stream",
     "text": [
      "[*********************100%***********************]  1 of 1 completed\n",
      "[*********************100%***********************]  1 of 1 completed\n"
     ]
    },
    {
     "name": "stdout",
     "output_type": "stream",
     "text": [
      "Téléchargement des données pour UAL de 2025-10-04 00:00:00 à 2025-10-07 00:00:00\n",
      "Téléchargement des données pour UBER de 2025-10-04 00:00:00 à 2025-10-07 00:00:00\n"
     ]
    },
    {
     "name": "stderr",
     "output_type": "stream",
     "text": [
      "[*********************100%***********************]  1 of 1 completed\n",
      "[*********************100%***********************]  1 of 1 completed\n"
     ]
    },
    {
     "name": "stdout",
     "output_type": "stream",
     "text": [
      "Téléchargement des données pour UDR de 2025-10-04 00:00:00 à 2025-10-07 00:00:00\n",
      "Téléchargement des données pour UHS de 2025-10-04 00:00:00 à 2025-10-07 00:00:00\n"
     ]
    },
    {
     "name": "stderr",
     "output_type": "stream",
     "text": [
      "[*********************100%***********************]  1 of 1 completed\n",
      "[*********************100%***********************]  1 of 1 completed\n"
     ]
    },
    {
     "name": "stdout",
     "output_type": "stream",
     "text": [
      "Téléchargement des données pour ULTA de 2025-10-04 00:00:00 à 2025-10-07 00:00:00\n",
      "Téléchargement des données pour UNH de 2025-10-04 00:00:00 à 2025-10-07 00:00:00\n"
     ]
    },
    {
     "name": "stderr",
     "output_type": "stream",
     "text": [
      "[*********************100%***********************]  1 of 1 completed\n",
      "[*********************100%***********************]  1 of 1 completed\n"
     ]
    },
    {
     "name": "stdout",
     "output_type": "stream",
     "text": [
      "Téléchargement des données pour UNP de 2025-10-04 00:00:00 à 2025-10-07 00:00:00\n",
      "Téléchargement des données pour UPS de 2025-10-04 00:00:00 à 2025-10-07 00:00:00\n"
     ]
    },
    {
     "name": "stderr",
     "output_type": "stream",
     "text": [
      "[*********************100%***********************]  1 of 1 completed\n",
      "[*********************100%***********************]  1 of 1 completed\n"
     ]
    },
    {
     "name": "stdout",
     "output_type": "stream",
     "text": [
      "Téléchargement des données pour URI de 2025-10-04 00:00:00 à 2025-10-07 00:00:00\n",
      "Téléchargement des données pour USB de 2025-10-04 00:00:00 à 2025-10-07 00:00:00\n"
     ]
    },
    {
     "name": "stderr",
     "output_type": "stream",
     "text": [
      "[*********************100%***********************]  1 of 1 completed\n",
      "[*********************100%***********************]  1 of 1 completed\n"
     ]
    },
    {
     "name": "stdout",
     "output_type": "stream",
     "text": [
      "Téléchargement des données pour V de 2025-10-04 00:00:00 à 2025-10-07 00:00:00\n",
      "Téléchargement des données pour VICI de 2025-10-04 00:00:00 à 2025-10-07 00:00:00\n"
     ]
    },
    {
     "name": "stderr",
     "output_type": "stream",
     "text": [
      "[*********************100%***********************]  1 of 1 completed\n",
      "[*********************100%***********************]  1 of 1 completed\n"
     ]
    },
    {
     "name": "stdout",
     "output_type": "stream",
     "text": [
      "Téléchargement des données pour VLO de 2025-10-04 00:00:00 à 2025-10-07 00:00:00\n",
      "Téléchargement des données pour VLTO de 2025-10-04 00:00:00 à 2025-10-07 00:00:00\n"
     ]
    },
    {
     "name": "stderr",
     "output_type": "stream",
     "text": [
      "[*********************100%***********************]  1 of 1 completed\n",
      "[*********************100%***********************]  1 of 1 completed\n"
     ]
    },
    {
     "name": "stdout",
     "output_type": "stream",
     "text": [
      "Téléchargement des données pour VMC de 2025-10-04 00:00:00 à 2025-10-07 00:00:00\n",
      "Téléchargement des données pour VRSK de 2025-10-04 00:00:00 à 2025-10-07 00:00:00\n"
     ]
    },
    {
     "name": "stderr",
     "output_type": "stream",
     "text": [
      "[*********************100%***********************]  1 of 1 completed\n",
      "[*********************100%***********************]  1 of 1 completed\n"
     ]
    },
    {
     "name": "stdout",
     "output_type": "stream",
     "text": [
      "Téléchargement des données pour VRSN de 2025-10-04 00:00:00 à 2025-10-07 00:00:00\n",
      "Téléchargement des données pour VRTX de 2025-10-04 00:00:00 à 2025-10-07 00:00:00\n"
     ]
    },
    {
     "name": "stderr",
     "output_type": "stream",
     "text": [
      "[*********************100%***********************]  1 of 1 completed\n",
      "[*********************100%***********************]  1 of 1 completed\n"
     ]
    },
    {
     "name": "stdout",
     "output_type": "stream",
     "text": [
      "Téléchargement des données pour VST de 2025-10-04 00:00:00 à 2025-10-07 00:00:00\n",
      "Téléchargement des données pour VTR de 2025-10-04 00:00:00 à 2025-10-07 00:00:00\n"
     ]
    },
    {
     "name": "stderr",
     "output_type": "stream",
     "text": [
      "[*********************100%***********************]  1 of 1 completed\n",
      "[*********************100%***********************]  1 of 1 completed\n"
     ]
    },
    {
     "name": "stdout",
     "output_type": "stream",
     "text": [
      "Téléchargement des données pour VTRS de 2025-10-04 00:00:00 à 2025-10-07 00:00:00\n",
      "Téléchargement des données pour VZ de 2025-10-04 00:00:00 à 2025-10-07 00:00:00\n"
     ]
    },
    {
     "name": "stderr",
     "output_type": "stream",
     "text": [
      "[*********************100%***********************]  1 of 1 completed\n",
      "[*********************100%***********************]  1 of 1 completed\n"
     ]
    },
    {
     "name": "stdout",
     "output_type": "stream",
     "text": [
      "Téléchargement des données pour WAB de 2025-10-04 00:00:00 à 2025-10-07 00:00:00\n",
      "Téléchargement des données pour WAT de 2025-10-04 00:00:00 à 2025-10-07 00:00:00\n"
     ]
    },
    {
     "name": "stderr",
     "output_type": "stream",
     "text": [
      "[*********************100%***********************]  1 of 1 completed\n"
     ]
    },
    {
     "name": "stdout",
     "output_type": "stream",
     "text": [
      "Téléchargement des données pour WBD de 2025-10-04 00:00:00 à 2025-10-07 00:00:00\n"
     ]
    },
    {
     "name": "stderr",
     "output_type": "stream",
     "text": [
      "[*********************100%***********************]  1 of 1 completed\n",
      "[*********************100%***********************]  1 of 1 completed\n"
     ]
    },
    {
     "name": "stdout",
     "output_type": "stream",
     "text": [
      "Téléchargement des données pour WDAY de 2025-10-04 00:00:00 à 2025-10-07 00:00:00\n",
      "Téléchargement des données pour WDC de 2025-10-04 00:00:00 à 2025-10-07 00:00:00\n"
     ]
    },
    {
     "name": "stderr",
     "output_type": "stream",
     "text": [
      "[*********************100%***********************]  1 of 1 completed\n",
      "[*********************100%***********************]  1 of 1 completed\n"
     ]
    },
    {
     "name": "stdout",
     "output_type": "stream",
     "text": [
      "Téléchargement des données pour WEC de 2025-10-04 00:00:00 à 2025-10-07 00:00:00\n",
      "Téléchargement des données pour WELL de 2025-10-04 00:00:00 à 2025-10-07 00:00:00\n"
     ]
    },
    {
     "name": "stderr",
     "output_type": "stream",
     "text": [
      "[*********************100%***********************]  1 of 1 completed\n",
      "[*********************100%***********************]  1 of 1 completed\n"
     ]
    },
    {
     "name": "stdout",
     "output_type": "stream",
     "text": [
      "Téléchargement des données pour WFC de 2025-10-04 00:00:00 à 2025-10-07 00:00:00\n",
      "Téléchargement des données pour WM de 2025-10-04 00:00:00 à 2025-10-07 00:00:00\n"
     ]
    },
    {
     "name": "stderr",
     "output_type": "stream",
     "text": [
      "[*********************100%***********************]  1 of 1 completed\n",
      "[*********************100%***********************]  1 of 1 completed\n"
     ]
    },
    {
     "name": "stdout",
     "output_type": "stream",
     "text": [
      "Téléchargement des données pour WMB de 2025-10-04 00:00:00 à 2025-10-07 00:00:00\n",
      "Téléchargement des données pour WMT de 2025-10-04 00:00:00 à 2025-10-07 00:00:00\n"
     ]
    },
    {
     "name": "stderr",
     "output_type": "stream",
     "text": [
      "[*********************100%***********************]  1 of 1 completed\n",
      "[*********************100%***********************]  1 of 1 completed\n"
     ]
    },
    {
     "name": "stdout",
     "output_type": "stream",
     "text": [
      "Téléchargement des données pour WRB de 2025-10-04 00:00:00 à 2025-10-07 00:00:00\n",
      "Téléchargement des données pour WSM de 2025-10-04 00:00:00 à 2025-10-07 00:00:00\n"
     ]
    },
    {
     "name": "stderr",
     "output_type": "stream",
     "text": [
      "[*********************100%***********************]  1 of 1 completed\n",
      "[*********************100%***********************]  1 of 1 completed\n"
     ]
    },
    {
     "name": "stdout",
     "output_type": "stream",
     "text": [
      "Téléchargement des données pour WST de 2025-10-04 00:00:00 à 2025-10-07 00:00:00\n",
      "Téléchargement des données pour WTW de 2025-10-04 00:00:00 à 2025-10-07 00:00:00\n"
     ]
    },
    {
     "name": "stderr",
     "output_type": "stream",
     "text": [
      "[*********************100%***********************]  1 of 1 completed\n",
      "[*********************100%***********************]  1 of 1 completed\n"
     ]
    },
    {
     "name": "stdout",
     "output_type": "stream",
     "text": [
      "Téléchargement des données pour WY de 2025-10-04 00:00:00 à 2025-10-07 00:00:00\n",
      "Téléchargement des données pour WYNN de 2025-10-04 00:00:00 à 2025-10-07 00:00:00\n"
     ]
    },
    {
     "name": "stderr",
     "output_type": "stream",
     "text": [
      "[*********************100%***********************]  1 of 1 completed\n",
      "[*********************100%***********************]  1 of 1 completed\n"
     ]
    },
    {
     "name": "stdout",
     "output_type": "stream",
     "text": [
      "Téléchargement des données pour XEL de 2025-10-04 00:00:00 à 2025-10-07 00:00:00\n",
      "Téléchargement des données pour XOM de 2025-10-04 00:00:00 à 2025-10-07 00:00:00\n"
     ]
    },
    {
     "name": "stderr",
     "output_type": "stream",
     "text": [
      "[*********************100%***********************]  1 of 1 completed\n",
      "[*********************100%***********************]  1 of 1 completed\n"
     ]
    },
    {
     "name": "stdout",
     "output_type": "stream",
     "text": [
      "Téléchargement des données pour XYL de 2025-10-04 00:00:00 à 2025-10-07 00:00:00\n",
      "Téléchargement des données pour XYZ de 2025-10-04 00:00:00 à 2025-10-07 00:00:00\n"
     ]
    },
    {
     "name": "stderr",
     "output_type": "stream",
     "text": [
      "[*********************100%***********************]  1 of 1 completed\n",
      "[*********************100%***********************]  1 of 1 completed\n"
     ]
    },
    {
     "name": "stdout",
     "output_type": "stream",
     "text": [
      "Téléchargement des données pour YUM de 2025-10-04 00:00:00 à 2025-10-07 00:00:00\n",
      "Téléchargement des données pour ZBH de 2025-10-04 00:00:00 à 2025-10-07 00:00:00\n"
     ]
    },
    {
     "name": "stderr",
     "output_type": "stream",
     "text": [
      "[*********************100%***********************]  1 of 1 completed\n",
      "[*********************100%***********************]  1 of 1 completed\n"
     ]
    },
    {
     "name": "stdout",
     "output_type": "stream",
     "text": [
      "Téléchargement des données pour ZBRA de 2025-10-04 00:00:00 à 2025-10-07 00:00:00\n",
      "Téléchargement des données pour ZTS de 2025-10-04 00:00:00 à 2025-10-07 00:00:00\n"
     ]
    },
    {
     "name": "stderr",
     "output_type": "stream",
     "text": [
      "[*********************100%***********************]  1 of 1 completed\n"
     ]
    },
    {
     "data": {
      "text/plain": [
       "Price            Close        High         Low        Open      Volume Ticker  \\\n",
       "Date                                                                            \n",
       "2025-10-06  141.610001  141.940002  139.899994  141.509995   1538400.0      A   \n",
       "2025-10-06  256.690002  259.070007  255.050003  257.989990  44292200.0   AAPL   \n",
       "2025-10-06  230.190002  232.949997  227.919998  231.710007  10903500.0   ABBV   \n",
       "2025-10-06  120.349998  123.150002  120.050003  120.730003   5469000.0   ABNB   \n",
       "2025-10-06  133.740005  135.240005  133.449997  134.320007   6682000.0    ABT   \n",
       "...                ...         ...         ...         ...         ...    ...   \n",
       "2025-10-06   77.779999   78.800003   76.690002   77.550003   5318100.0    XYZ   \n",
       "2025-10-06  148.779999  150.669998  148.600006  150.089996   1395000.0    YUM   \n",
       "2025-10-06   98.830002  101.309998   98.779999  101.029999   1065500.0    ZBH   \n",
       "2025-10-06  301.940002  309.079987  298.959991  308.079987    558200.0   ZBRA   \n",
       "2025-10-06  145.360001  147.039993  144.850006  146.429993   3114900.0    ZTS   \n",
       "\n",
       "Price       Adj Close  \n",
       "Date                   \n",
       "2025-10-06        NaN  \n",
       "2025-10-06        NaN  \n",
       "2025-10-06        NaN  \n",
       "2025-10-06        NaN  \n",
       "2025-10-06        NaN  \n",
       "...               ...  \n",
       "2025-10-06        NaN  \n",
       "2025-10-06        NaN  \n",
       "2025-10-06        NaN  \n",
       "2025-10-06        NaN  \n",
       "2025-10-06        NaN  \n",
       "\n",
       "[500 rows x 7 columns]"
      ],
      "text/html": [
       "<div>\n",
       "<style scoped>\n",
       "    .dataframe tbody tr th:only-of-type {\n",
       "        vertical-align: middle;\n",
       "    }\n",
       "\n",
       "    .dataframe tbody tr th {\n",
       "        vertical-align: top;\n",
       "    }\n",
       "\n",
       "    .dataframe thead th {\n",
       "        text-align: right;\n",
       "    }\n",
       "</style>\n",
       "<table border=\"1\" class=\"dataframe\">\n",
       "  <thead>\n",
       "    <tr style=\"text-align: right;\">\n",
       "      <th>Price</th>\n",
       "      <th>Close</th>\n",
       "      <th>High</th>\n",
       "      <th>Low</th>\n",
       "      <th>Open</th>\n",
       "      <th>Volume</th>\n",
       "      <th>Ticker</th>\n",
       "      <th>Adj Close</th>\n",
       "    </tr>\n",
       "    <tr>\n",
       "      <th>Date</th>\n",
       "      <th></th>\n",
       "      <th></th>\n",
       "      <th></th>\n",
       "      <th></th>\n",
       "      <th></th>\n",
       "      <th></th>\n",
       "      <th></th>\n",
       "    </tr>\n",
       "  </thead>\n",
       "  <tbody>\n",
       "    <tr>\n",
       "      <th>2025-10-06</th>\n",
       "      <td>141.610001</td>\n",
       "      <td>141.940002</td>\n",
       "      <td>139.899994</td>\n",
       "      <td>141.509995</td>\n",
       "      <td>1538400.0</td>\n",
       "      <td>A</td>\n",
       "      <td>NaN</td>\n",
       "    </tr>\n",
       "    <tr>\n",
       "      <th>2025-10-06</th>\n",
       "      <td>256.690002</td>\n",
       "      <td>259.070007</td>\n",
       "      <td>255.050003</td>\n",
       "      <td>257.989990</td>\n",
       "      <td>44292200.0</td>\n",
       "      <td>AAPL</td>\n",
       "      <td>NaN</td>\n",
       "    </tr>\n",
       "    <tr>\n",
       "      <th>2025-10-06</th>\n",
       "      <td>230.190002</td>\n",
       "      <td>232.949997</td>\n",
       "      <td>227.919998</td>\n",
       "      <td>231.710007</td>\n",
       "      <td>10903500.0</td>\n",
       "      <td>ABBV</td>\n",
       "      <td>NaN</td>\n",
       "    </tr>\n",
       "    <tr>\n",
       "      <th>2025-10-06</th>\n",
       "      <td>120.349998</td>\n",
       "      <td>123.150002</td>\n",
       "      <td>120.050003</td>\n",
       "      <td>120.730003</td>\n",
       "      <td>5469000.0</td>\n",
       "      <td>ABNB</td>\n",
       "      <td>NaN</td>\n",
       "    </tr>\n",
       "    <tr>\n",
       "      <th>2025-10-06</th>\n",
       "      <td>133.740005</td>\n",
       "      <td>135.240005</td>\n",
       "      <td>133.449997</td>\n",
       "      <td>134.320007</td>\n",
       "      <td>6682000.0</td>\n",
       "      <td>ABT</td>\n",
       "      <td>NaN</td>\n",
       "    </tr>\n",
       "    <tr>\n",
       "      <th>...</th>\n",
       "      <td>...</td>\n",
       "      <td>...</td>\n",
       "      <td>...</td>\n",
       "      <td>...</td>\n",
       "      <td>...</td>\n",
       "      <td>...</td>\n",
       "      <td>...</td>\n",
       "    </tr>\n",
       "    <tr>\n",
       "      <th>2025-10-06</th>\n",
       "      <td>77.779999</td>\n",
       "      <td>78.800003</td>\n",
       "      <td>76.690002</td>\n",
       "      <td>77.550003</td>\n",
       "      <td>5318100.0</td>\n",
       "      <td>XYZ</td>\n",
       "      <td>NaN</td>\n",
       "    </tr>\n",
       "    <tr>\n",
       "      <th>2025-10-06</th>\n",
       "      <td>148.779999</td>\n",
       "      <td>150.669998</td>\n",
       "      <td>148.600006</td>\n",
       "      <td>150.089996</td>\n",
       "      <td>1395000.0</td>\n",
       "      <td>YUM</td>\n",
       "      <td>NaN</td>\n",
       "    </tr>\n",
       "    <tr>\n",
       "      <th>2025-10-06</th>\n",
       "      <td>98.830002</td>\n",
       "      <td>101.309998</td>\n",
       "      <td>98.779999</td>\n",
       "      <td>101.029999</td>\n",
       "      <td>1065500.0</td>\n",
       "      <td>ZBH</td>\n",
       "      <td>NaN</td>\n",
       "    </tr>\n",
       "    <tr>\n",
       "      <th>2025-10-06</th>\n",
       "      <td>301.940002</td>\n",
       "      <td>309.079987</td>\n",
       "      <td>298.959991</td>\n",
       "      <td>308.079987</td>\n",
       "      <td>558200.0</td>\n",
       "      <td>ZBRA</td>\n",
       "      <td>NaN</td>\n",
       "    </tr>\n",
       "    <tr>\n",
       "      <th>2025-10-06</th>\n",
       "      <td>145.360001</td>\n",
       "      <td>147.039993</td>\n",
       "      <td>144.850006</td>\n",
       "      <td>146.429993</td>\n",
       "      <td>3114900.0</td>\n",
       "      <td>ZTS</td>\n",
       "      <td>NaN</td>\n",
       "    </tr>\n",
       "  </tbody>\n",
       "</table>\n",
       "<p>500 rows × 7 columns</p>\n",
       "</div>"
      ]
     },
     "execution_count": 15,
     "metadata": {},
     "output_type": "execute_result"
    }
   ],
   "execution_count": 15
  },
  {
   "metadata": {
    "ExecuteTime": {
     "end_time": "2025-10-07T11:51:43.717056Z",
     "start_time": "2025-10-07T11:51:43.711733Z"
    }
   },
   "cell_type": "code",
   "source": [
    "data_SP500 = data_SP500.reset_index()\n",
    "data_SP500"
   ],
   "id": "54fdf214b890458f",
   "outputs": [
    {
     "data": {
      "text/plain": [
       "Price       Date       Close        High         Low        Open      Volume  \\\n",
       "0     2025-10-06  141.610001  141.940002  139.899994  141.509995   1538400.0   \n",
       "1     2025-10-06  256.690002  259.070007  255.050003  257.989990  44292200.0   \n",
       "2     2025-10-06  230.190002  232.949997  227.919998  231.710007  10903500.0   \n",
       "3     2025-10-06  120.349998  123.150002  120.050003  120.730003   5469000.0   \n",
       "4     2025-10-06  133.740005  135.240005  133.449997  134.320007   6682000.0   \n",
       "..           ...         ...         ...         ...         ...         ...   \n",
       "495   2025-10-06   77.779999   78.800003   76.690002   77.550003   5318100.0   \n",
       "496   2025-10-06  148.779999  150.669998  148.600006  150.089996   1395000.0   \n",
       "497   2025-10-06   98.830002  101.309998   98.779999  101.029999   1065500.0   \n",
       "498   2025-10-06  301.940002  309.079987  298.959991  308.079987    558200.0   \n",
       "499   2025-10-06  145.360001  147.039993  144.850006  146.429993   3114900.0   \n",
       "\n",
       "Price Ticker  Adj Close  \n",
       "0          A        NaN  \n",
       "1       AAPL        NaN  \n",
       "2       ABBV        NaN  \n",
       "3       ABNB        NaN  \n",
       "4        ABT        NaN  \n",
       "..       ...        ...  \n",
       "495      XYZ        NaN  \n",
       "496      YUM        NaN  \n",
       "497      ZBH        NaN  \n",
       "498     ZBRA        NaN  \n",
       "499      ZTS        NaN  \n",
       "\n",
       "[500 rows x 8 columns]"
      ],
      "text/html": [
       "<div>\n",
       "<style scoped>\n",
       "    .dataframe tbody tr th:only-of-type {\n",
       "        vertical-align: middle;\n",
       "    }\n",
       "\n",
       "    .dataframe tbody tr th {\n",
       "        vertical-align: top;\n",
       "    }\n",
       "\n",
       "    .dataframe thead th {\n",
       "        text-align: right;\n",
       "    }\n",
       "</style>\n",
       "<table border=\"1\" class=\"dataframe\">\n",
       "  <thead>\n",
       "    <tr style=\"text-align: right;\">\n",
       "      <th>Price</th>\n",
       "      <th>Date</th>\n",
       "      <th>Close</th>\n",
       "      <th>High</th>\n",
       "      <th>Low</th>\n",
       "      <th>Open</th>\n",
       "      <th>Volume</th>\n",
       "      <th>Ticker</th>\n",
       "      <th>Adj Close</th>\n",
       "    </tr>\n",
       "  </thead>\n",
       "  <tbody>\n",
       "    <tr>\n",
       "      <th>0</th>\n",
       "      <td>2025-10-06</td>\n",
       "      <td>141.610001</td>\n",
       "      <td>141.940002</td>\n",
       "      <td>139.899994</td>\n",
       "      <td>141.509995</td>\n",
       "      <td>1538400.0</td>\n",
       "      <td>A</td>\n",
       "      <td>NaN</td>\n",
       "    </tr>\n",
       "    <tr>\n",
       "      <th>1</th>\n",
       "      <td>2025-10-06</td>\n",
       "      <td>256.690002</td>\n",
       "      <td>259.070007</td>\n",
       "      <td>255.050003</td>\n",
       "      <td>257.989990</td>\n",
       "      <td>44292200.0</td>\n",
       "      <td>AAPL</td>\n",
       "      <td>NaN</td>\n",
       "    </tr>\n",
       "    <tr>\n",
       "      <th>2</th>\n",
       "      <td>2025-10-06</td>\n",
       "      <td>230.190002</td>\n",
       "      <td>232.949997</td>\n",
       "      <td>227.919998</td>\n",
       "      <td>231.710007</td>\n",
       "      <td>10903500.0</td>\n",
       "      <td>ABBV</td>\n",
       "      <td>NaN</td>\n",
       "    </tr>\n",
       "    <tr>\n",
       "      <th>3</th>\n",
       "      <td>2025-10-06</td>\n",
       "      <td>120.349998</td>\n",
       "      <td>123.150002</td>\n",
       "      <td>120.050003</td>\n",
       "      <td>120.730003</td>\n",
       "      <td>5469000.0</td>\n",
       "      <td>ABNB</td>\n",
       "      <td>NaN</td>\n",
       "    </tr>\n",
       "    <tr>\n",
       "      <th>4</th>\n",
       "      <td>2025-10-06</td>\n",
       "      <td>133.740005</td>\n",
       "      <td>135.240005</td>\n",
       "      <td>133.449997</td>\n",
       "      <td>134.320007</td>\n",
       "      <td>6682000.0</td>\n",
       "      <td>ABT</td>\n",
       "      <td>NaN</td>\n",
       "    </tr>\n",
       "    <tr>\n",
       "      <th>...</th>\n",
       "      <td>...</td>\n",
       "      <td>...</td>\n",
       "      <td>...</td>\n",
       "      <td>...</td>\n",
       "      <td>...</td>\n",
       "      <td>...</td>\n",
       "      <td>...</td>\n",
       "      <td>...</td>\n",
       "    </tr>\n",
       "    <tr>\n",
       "      <th>495</th>\n",
       "      <td>2025-10-06</td>\n",
       "      <td>77.779999</td>\n",
       "      <td>78.800003</td>\n",
       "      <td>76.690002</td>\n",
       "      <td>77.550003</td>\n",
       "      <td>5318100.0</td>\n",
       "      <td>XYZ</td>\n",
       "      <td>NaN</td>\n",
       "    </tr>\n",
       "    <tr>\n",
       "      <th>496</th>\n",
       "      <td>2025-10-06</td>\n",
       "      <td>148.779999</td>\n",
       "      <td>150.669998</td>\n",
       "      <td>148.600006</td>\n",
       "      <td>150.089996</td>\n",
       "      <td>1395000.0</td>\n",
       "      <td>YUM</td>\n",
       "      <td>NaN</td>\n",
       "    </tr>\n",
       "    <tr>\n",
       "      <th>497</th>\n",
       "      <td>2025-10-06</td>\n",
       "      <td>98.830002</td>\n",
       "      <td>101.309998</td>\n",
       "      <td>98.779999</td>\n",
       "      <td>101.029999</td>\n",
       "      <td>1065500.0</td>\n",
       "      <td>ZBH</td>\n",
       "      <td>NaN</td>\n",
       "    </tr>\n",
       "    <tr>\n",
       "      <th>498</th>\n",
       "      <td>2025-10-06</td>\n",
       "      <td>301.940002</td>\n",
       "      <td>309.079987</td>\n",
       "      <td>298.959991</td>\n",
       "      <td>308.079987</td>\n",
       "      <td>558200.0</td>\n",
       "      <td>ZBRA</td>\n",
       "      <td>NaN</td>\n",
       "    </tr>\n",
       "    <tr>\n",
       "      <th>499</th>\n",
       "      <td>2025-10-06</td>\n",
       "      <td>145.360001</td>\n",
       "      <td>147.039993</td>\n",
       "      <td>144.850006</td>\n",
       "      <td>146.429993</td>\n",
       "      <td>3114900.0</td>\n",
       "      <td>ZTS</td>\n",
       "      <td>NaN</td>\n",
       "    </tr>\n",
       "  </tbody>\n",
       "</table>\n",
       "<p>500 rows × 8 columns</p>\n",
       "</div>"
      ]
     },
     "execution_count": 16,
     "metadata": {},
     "output_type": "execute_result"
    }
   ],
   "execution_count": 16
  },
  {
   "metadata": {
    "ExecuteTime": {
     "end_time": "2025-10-07T11:51:43.774897Z",
     "start_time": "2025-10-07T11:51:43.736203Z"
    }
   },
   "cell_type": "code",
   "source": [
    "df_concat = pd.concat([data_SP500, data_SP500_old])\n",
    "df_concat"
   ],
   "id": "98ab86e6f982813f",
   "outputs": [
    {
     "data": {
      "text/plain": [
       "Price       Date       Close        High         Low        Open      Volume  \\\n",
       "0     2025-10-06  141.610001  141.940002  139.899994  141.509995   1538400.0   \n",
       "1     2025-10-06  256.690002  259.070007  255.050003  257.989990  44292200.0   \n",
       "2     2025-10-06  230.190002  232.949997  227.919998  231.710007  10903500.0   \n",
       "3     2025-10-06  120.349998  123.150002  120.050003  120.730003   5469000.0   \n",
       "4     2025-10-06  133.740005  135.240005  133.449997  134.320007   6682000.0   \n",
       "..           ...         ...         ...         ...         ...         ...   \n",
       "737   2025-10-03   47.169998   47.330002   46.689999   46.689999   2766500.0   \n",
       "734   2025-10-03   28.639999   28.934999   28.615000   28.709999   3691600.0   \n",
       "731   2025-10-03  679.940002  688.369995  677.059998  677.059998   1293900.0   \n",
       "761   2025-10-03   24.040001   24.209999   23.799999   23.870001   4505800.0   \n",
       "749   2025-10-03  104.800003  106.349998  103.419998  103.769997   1766000.0   \n",
       "\n",
       "Price Ticker  Adj Close  \n",
       "0          A        NaN  \n",
       "1       AAPL        NaN  \n",
       "2       ABBV        NaN  \n",
       "3       ABNB        NaN  \n",
       "4        ABT        NaN  \n",
       "..       ...        ...  \n",
       "737       IP        NaN  \n",
       "734     INVH        NaN  \n",
       "731     INTU        NaN  \n",
       "761      IVZ        NaN  \n",
       "749      IRM        NaN  \n",
       "\n",
       "[3823687 rows x 8 columns]"
      ],
      "text/html": [
       "<div>\n",
       "<style scoped>\n",
       "    .dataframe tbody tr th:only-of-type {\n",
       "        vertical-align: middle;\n",
       "    }\n",
       "\n",
       "    .dataframe tbody tr th {\n",
       "        vertical-align: top;\n",
       "    }\n",
       "\n",
       "    .dataframe thead th {\n",
       "        text-align: right;\n",
       "    }\n",
       "</style>\n",
       "<table border=\"1\" class=\"dataframe\">\n",
       "  <thead>\n",
       "    <tr style=\"text-align: right;\">\n",
       "      <th>Price</th>\n",
       "      <th>Date</th>\n",
       "      <th>Close</th>\n",
       "      <th>High</th>\n",
       "      <th>Low</th>\n",
       "      <th>Open</th>\n",
       "      <th>Volume</th>\n",
       "      <th>Ticker</th>\n",
       "      <th>Adj Close</th>\n",
       "    </tr>\n",
       "  </thead>\n",
       "  <tbody>\n",
       "    <tr>\n",
       "      <th>0</th>\n",
       "      <td>2025-10-06</td>\n",
       "      <td>141.610001</td>\n",
       "      <td>141.940002</td>\n",
       "      <td>139.899994</td>\n",
       "      <td>141.509995</td>\n",
       "      <td>1538400.0</td>\n",
       "      <td>A</td>\n",
       "      <td>NaN</td>\n",
       "    </tr>\n",
       "    <tr>\n",
       "      <th>1</th>\n",
       "      <td>2025-10-06</td>\n",
       "      <td>256.690002</td>\n",
       "      <td>259.070007</td>\n",
       "      <td>255.050003</td>\n",
       "      <td>257.989990</td>\n",
       "      <td>44292200.0</td>\n",
       "      <td>AAPL</td>\n",
       "      <td>NaN</td>\n",
       "    </tr>\n",
       "    <tr>\n",
       "      <th>2</th>\n",
       "      <td>2025-10-06</td>\n",
       "      <td>230.190002</td>\n",
       "      <td>232.949997</td>\n",
       "      <td>227.919998</td>\n",
       "      <td>231.710007</td>\n",
       "      <td>10903500.0</td>\n",
       "      <td>ABBV</td>\n",
       "      <td>NaN</td>\n",
       "    </tr>\n",
       "    <tr>\n",
       "      <th>3</th>\n",
       "      <td>2025-10-06</td>\n",
       "      <td>120.349998</td>\n",
       "      <td>123.150002</td>\n",
       "      <td>120.050003</td>\n",
       "      <td>120.730003</td>\n",
       "      <td>5469000.0</td>\n",
       "      <td>ABNB</td>\n",
       "      <td>NaN</td>\n",
       "    </tr>\n",
       "    <tr>\n",
       "      <th>4</th>\n",
       "      <td>2025-10-06</td>\n",
       "      <td>133.740005</td>\n",
       "      <td>135.240005</td>\n",
       "      <td>133.449997</td>\n",
       "      <td>134.320007</td>\n",
       "      <td>6682000.0</td>\n",
       "      <td>ABT</td>\n",
       "      <td>NaN</td>\n",
       "    </tr>\n",
       "    <tr>\n",
       "      <th>...</th>\n",
       "      <td>...</td>\n",
       "      <td>...</td>\n",
       "      <td>...</td>\n",
       "      <td>...</td>\n",
       "      <td>...</td>\n",
       "      <td>...</td>\n",
       "      <td>...</td>\n",
       "      <td>...</td>\n",
       "    </tr>\n",
       "    <tr>\n",
       "      <th>737</th>\n",
       "      <td>2025-10-03</td>\n",
       "      <td>47.169998</td>\n",
       "      <td>47.330002</td>\n",
       "      <td>46.689999</td>\n",
       "      <td>46.689999</td>\n",
       "      <td>2766500.0</td>\n",
       "      <td>IP</td>\n",
       "      <td>NaN</td>\n",
       "    </tr>\n",
       "    <tr>\n",
       "      <th>734</th>\n",
       "      <td>2025-10-03</td>\n",
       "      <td>28.639999</td>\n",
       "      <td>28.934999</td>\n",
       "      <td>28.615000</td>\n",
       "      <td>28.709999</td>\n",
       "      <td>3691600.0</td>\n",
       "      <td>INVH</td>\n",
       "      <td>NaN</td>\n",
       "    </tr>\n",
       "    <tr>\n",
       "      <th>731</th>\n",
       "      <td>2025-10-03</td>\n",
       "      <td>679.940002</td>\n",
       "      <td>688.369995</td>\n",
       "      <td>677.059998</td>\n",
       "      <td>677.059998</td>\n",
       "      <td>1293900.0</td>\n",
       "      <td>INTU</td>\n",
       "      <td>NaN</td>\n",
       "    </tr>\n",
       "    <tr>\n",
       "      <th>761</th>\n",
       "      <td>2025-10-03</td>\n",
       "      <td>24.040001</td>\n",
       "      <td>24.209999</td>\n",
       "      <td>23.799999</td>\n",
       "      <td>23.870001</td>\n",
       "      <td>4505800.0</td>\n",
       "      <td>IVZ</td>\n",
       "      <td>NaN</td>\n",
       "    </tr>\n",
       "    <tr>\n",
       "      <th>749</th>\n",
       "      <td>2025-10-03</td>\n",
       "      <td>104.800003</td>\n",
       "      <td>106.349998</td>\n",
       "      <td>103.419998</td>\n",
       "      <td>103.769997</td>\n",
       "      <td>1766000.0</td>\n",
       "      <td>IRM</td>\n",
       "      <td>NaN</td>\n",
       "    </tr>\n",
       "  </tbody>\n",
       "</table>\n",
       "<p>3823687 rows × 8 columns</p>\n",
       "</div>"
      ]
     },
     "execution_count": 17,
     "metadata": {},
     "output_type": "execute_result"
    }
   ],
   "execution_count": 17
  },
  {
   "metadata": {
    "ExecuteTime": {
     "end_time": "2025-10-07T11:51:43.923451Z",
     "start_time": "2025-10-07T11:51:43.790053Z"
    }
   },
   "cell_type": "code",
   "source": [
    "df_concat.sort_values(by=['Date'], ascending=True, inplace=True)\n",
    "df_concat.tail(50)"
   ],
   "id": "600040841afb92f6",
   "outputs": [
    {
     "data": {
      "text/plain": [
       "Price       Date        Close         High          Low         Open  \\\n",
       "358   2025-10-06   124.370003   124.959999   123.260002   124.959999   \n",
       "359   2025-10-06    98.519997    99.580002    97.300003    98.160004   \n",
       "360   2025-10-06    16.040001    16.170000    15.860000    15.900000   \n",
       "361   2025-10-06    81.839996    82.580002    80.120003    82.500000   \n",
       "362   2025-10-06   139.699997   141.850006   138.880005   141.770004   \n",
       "363   2025-10-06    26.430000    27.360001    26.389999    27.270000   \n",
       "364   2025-10-06    84.180000    85.000000    83.339996    84.250000   \n",
       "365   2025-10-06   150.410004   152.320007   150.399994   151.500000   \n",
       "366   2025-10-06   240.500000   245.000000   239.410004   244.559998   \n",
       "367   2025-10-06   135.479996   138.100006   134.149994   137.720001   \n",
       "368   2025-10-06   212.929993   214.250000   211.869995   214.110001   \n",
       "369   2025-10-06   117.129997   117.790001   116.370003   117.000000   \n",
       "370   2025-10-06   179.529999   182.949997   177.830002   179.179993   \n",
       "371   2025-10-06   153.539993   153.649994   150.880005   152.139999   \n",
       "372   2025-10-06   195.619995   202.000000   194.679993   199.919998   \n",
       "373   2025-10-06   112.050003   113.029999   111.519997   112.540001   \n",
       "346   2025-10-06   231.419998   234.000000   227.100006   232.059998   \n",
       "345   2025-10-06    28.059999    28.549999    27.799999    28.549999   \n",
       "344   2025-10-06    31.809999    32.310001    31.320000    32.189999   \n",
       "343   2025-10-06  8068.750000  8199.000000  8033.310059  8199.000000   \n",
       "315   2025-10-06   193.520004   197.100006   193.190002   193.619995   \n",
       "316   2025-10-06   968.099976   986.630005   930.609985   932.580017   \n",
       "317   2025-10-06    88.800003    90.309998    88.550003    88.830002   \n",
       "318   2025-10-06    27.540001    28.670000    27.480000    28.490000   \n",
       "319   2025-10-06   158.089996   158.729996   155.009995   158.000000   \n",
       "320   2025-10-06   564.809998   568.200012   557.729980   564.059998   \n",
       "321   2025-10-06   528.570007   531.030029   518.200012   518.609985   \n",
       "322   2025-10-06   457.130005   458.420013   453.049988   454.790009   \n",
       "323   2025-10-06   190.000000   198.869995   189.910004   197.220001   \n",
       "324   2025-10-06    34.000000    34.580002    33.980000    34.500000   \n",
       "325   2025-10-06  1345.270020  1346.170044  1309.560059  1315.079956   \n",
       "326   2025-10-06   190.960007   201.000000   189.429993   195.009995   \n",
       "327   2025-10-06    24.100000    24.469999    23.650000    24.320000   \n",
       "313   2025-10-06   200.570007   204.199997   199.770004   202.100006   \n",
       "328   2025-10-06    88.169998    88.360001    87.500000    87.860001   \n",
       "330   2025-10-06    82.110001    82.370003    80.150002    80.150002   \n",
       "331   2025-10-06    88.510002    89.370003    87.400002    87.949997   \n",
       "332   2025-10-06  1163.310059  1163.579956  1145.449951  1160.369995   \n",
       "333   2025-10-06    44.169998    44.520000    43.779999    43.959999   \n",
       "334   2025-10-06    71.169998    72.389999    71.010002    72.019997   \n",
       "335   2025-10-06   618.520020   619.710022   609.000000   609.119995   \n",
       "336   2025-10-06   912.840027   929.760010   895.539978   904.020020   \n",
       "337   2025-10-06   163.949997   169.970001   163.100006   168.970001   \n",
       "338   2025-10-06   299.649994   301.529999   298.570007   301.440002   \n",
       "339   2025-10-06   120.419998   120.540001   117.570000   119.989998   \n",
       "340   2025-10-06   132.210007   133.919998   130.570007   133.250000   \n",
       "341   2025-10-06   135.589996   138.529999   135.559998   137.990005   \n",
       "342   2025-10-06   185.539993   187.229996   183.330002   185.500000   \n",
       "329   2025-10-06   234.119995   235.229996   230.580002   233.970001   \n",
       "0     2025-10-06   141.610001   141.940002   139.899994   141.509995   \n",
       "\n",
       "Price       Volume Ticker  Adj Close  \n",
       "358      2936000.0   PAYX        NaN  \n",
       "359      3159000.0   PCAR        NaN  \n",
       "360     29365300.0    PCG        NaN  \n",
       "361      3733100.0    PEG        NaN  \n",
       "362      6744100.0    PEP        NaN  \n",
       "363     62811500.0    PFE        NaN  \n",
       "364       830300.0    PFG        NaN  \n",
       "365      6734800.0     PG        NaN  \n",
       "366      3813200.0    PGR        NaN  \n",
       "367      1419500.0    PHM        NaN  \n",
       "368       590300.0    PKG        NaN  \n",
       "369      2540200.0    PLD        NaN  \n",
       "370     52383400.0   PLTR        NaN  \n",
       "371      7071400.0     PM        NaN  \n",
       "372      2208200.0    PNC        NaN  \n",
       "373      1083000.0    PNR        NaN  \n",
       "346      1949000.0   NXPI        NaN  \n",
       "345      3880100.0   NWSA        NaN  \n",
       "344      1211200.0    NWS        NaN  \n",
       "343        13000.0    NVR        NaN  \n",
       "315      1009100.0    MPC        NaN  \n",
       "316       652000.0   MPWR        NaN  \n",
       "317     11645700.0    MRK        NaN  \n",
       "318      8348200.0   MRNA        NaN  \n",
       "319      4696300.0     MS        NaN  \n",
       "320       396800.0   MSCI        NaN  \n",
       "321     21365200.0   MSFT        NaN  \n",
       "322       610300.0    MSI        NaN  \n",
       "323      1499800.0    MTB        NaN  \n",
       "324      3636500.0   MTCH        NaN  \n",
       "325       155300.0    MTD        NaN  \n",
       "326     36333100.0     MU        NaN  \n",
       "327     11149000.0   NCLH        NaN  \n",
       "313       854200.0    MOH        NaN  \n",
       "328      3518700.0   NDAQ        NaN  \n",
       "330     15762700.0    NEE        NaN  \n",
       "331      8874000.0    NEM        NaN  \n",
       "332      2954800.0   NFLX        NaN  \n",
       "333      4269200.0     NI        NaN  \n",
       "334     14013400.0    NKE        NaN  \n",
       "335       540200.0    NOC        NaN  \n",
       "336      1287800.0    NOW        NaN  \n",
       "337      2408300.0    NRG        NaN  \n",
       "338      2072600.0    NSC        NaN  \n",
       "339      1636800.0   NTAP        NaN  \n",
       "340       800900.0   NTRS        NaN  \n",
       "341      1158100.0    NUE        NaN  \n",
       "342    156436000.0   NVDA        NaN  \n",
       "329       214500.0   NDSN        NaN  \n",
       "0        1538400.0      A        NaN  "
      ],
      "text/html": [
       "<div>\n",
       "<style scoped>\n",
       "    .dataframe tbody tr th:only-of-type {\n",
       "        vertical-align: middle;\n",
       "    }\n",
       "\n",
       "    .dataframe tbody tr th {\n",
       "        vertical-align: top;\n",
       "    }\n",
       "\n",
       "    .dataframe thead th {\n",
       "        text-align: right;\n",
       "    }\n",
       "</style>\n",
       "<table border=\"1\" class=\"dataframe\">\n",
       "  <thead>\n",
       "    <tr style=\"text-align: right;\">\n",
       "      <th>Price</th>\n",
       "      <th>Date</th>\n",
       "      <th>Close</th>\n",
       "      <th>High</th>\n",
       "      <th>Low</th>\n",
       "      <th>Open</th>\n",
       "      <th>Volume</th>\n",
       "      <th>Ticker</th>\n",
       "      <th>Adj Close</th>\n",
       "    </tr>\n",
       "  </thead>\n",
       "  <tbody>\n",
       "    <tr>\n",
       "      <th>358</th>\n",
       "      <td>2025-10-06</td>\n",
       "      <td>124.370003</td>\n",
       "      <td>124.959999</td>\n",
       "      <td>123.260002</td>\n",
       "      <td>124.959999</td>\n",
       "      <td>2936000.0</td>\n",
       "      <td>PAYX</td>\n",
       "      <td>NaN</td>\n",
       "    </tr>\n",
       "    <tr>\n",
       "      <th>359</th>\n",
       "      <td>2025-10-06</td>\n",
       "      <td>98.519997</td>\n",
       "      <td>99.580002</td>\n",
       "      <td>97.300003</td>\n",
       "      <td>98.160004</td>\n",
       "      <td>3159000.0</td>\n",
       "      <td>PCAR</td>\n",
       "      <td>NaN</td>\n",
       "    </tr>\n",
       "    <tr>\n",
       "      <th>360</th>\n",
       "      <td>2025-10-06</td>\n",
       "      <td>16.040001</td>\n",
       "      <td>16.170000</td>\n",
       "      <td>15.860000</td>\n",
       "      <td>15.900000</td>\n",
       "      <td>29365300.0</td>\n",
       "      <td>PCG</td>\n",
       "      <td>NaN</td>\n",
       "    </tr>\n",
       "    <tr>\n",
       "      <th>361</th>\n",
       "      <td>2025-10-06</td>\n",
       "      <td>81.839996</td>\n",
       "      <td>82.580002</td>\n",
       "      <td>80.120003</td>\n",
       "      <td>82.500000</td>\n",
       "      <td>3733100.0</td>\n",
       "      <td>PEG</td>\n",
       "      <td>NaN</td>\n",
       "    </tr>\n",
       "    <tr>\n",
       "      <th>362</th>\n",
       "      <td>2025-10-06</td>\n",
       "      <td>139.699997</td>\n",
       "      <td>141.850006</td>\n",
       "      <td>138.880005</td>\n",
       "      <td>141.770004</td>\n",
       "      <td>6744100.0</td>\n",
       "      <td>PEP</td>\n",
       "      <td>NaN</td>\n",
       "    </tr>\n",
       "    <tr>\n",
       "      <th>363</th>\n",
       "      <td>2025-10-06</td>\n",
       "      <td>26.430000</td>\n",
       "      <td>27.360001</td>\n",
       "      <td>26.389999</td>\n",
       "      <td>27.270000</td>\n",
       "      <td>62811500.0</td>\n",
       "      <td>PFE</td>\n",
       "      <td>NaN</td>\n",
       "    </tr>\n",
       "    <tr>\n",
       "      <th>364</th>\n",
       "      <td>2025-10-06</td>\n",
       "      <td>84.180000</td>\n",
       "      <td>85.000000</td>\n",
       "      <td>83.339996</td>\n",
       "      <td>84.250000</td>\n",
       "      <td>830300.0</td>\n",
       "      <td>PFG</td>\n",
       "      <td>NaN</td>\n",
       "    </tr>\n",
       "    <tr>\n",
       "      <th>365</th>\n",
       "      <td>2025-10-06</td>\n",
       "      <td>150.410004</td>\n",
       "      <td>152.320007</td>\n",
       "      <td>150.399994</td>\n",
       "      <td>151.500000</td>\n",
       "      <td>6734800.0</td>\n",
       "      <td>PG</td>\n",
       "      <td>NaN</td>\n",
       "    </tr>\n",
       "    <tr>\n",
       "      <th>366</th>\n",
       "      <td>2025-10-06</td>\n",
       "      <td>240.500000</td>\n",
       "      <td>245.000000</td>\n",
       "      <td>239.410004</td>\n",
       "      <td>244.559998</td>\n",
       "      <td>3813200.0</td>\n",
       "      <td>PGR</td>\n",
       "      <td>NaN</td>\n",
       "    </tr>\n",
       "    <tr>\n",
       "      <th>367</th>\n",
       "      <td>2025-10-06</td>\n",
       "      <td>135.479996</td>\n",
       "      <td>138.100006</td>\n",
       "      <td>134.149994</td>\n",
       "      <td>137.720001</td>\n",
       "      <td>1419500.0</td>\n",
       "      <td>PHM</td>\n",
       "      <td>NaN</td>\n",
       "    </tr>\n",
       "    <tr>\n",
       "      <th>368</th>\n",
       "      <td>2025-10-06</td>\n",
       "      <td>212.929993</td>\n",
       "      <td>214.250000</td>\n",
       "      <td>211.869995</td>\n",
       "      <td>214.110001</td>\n",
       "      <td>590300.0</td>\n",
       "      <td>PKG</td>\n",
       "      <td>NaN</td>\n",
       "    </tr>\n",
       "    <tr>\n",
       "      <th>369</th>\n",
       "      <td>2025-10-06</td>\n",
       "      <td>117.129997</td>\n",
       "      <td>117.790001</td>\n",
       "      <td>116.370003</td>\n",
       "      <td>117.000000</td>\n",
       "      <td>2540200.0</td>\n",
       "      <td>PLD</td>\n",
       "      <td>NaN</td>\n",
       "    </tr>\n",
       "    <tr>\n",
       "      <th>370</th>\n",
       "      <td>2025-10-06</td>\n",
       "      <td>179.529999</td>\n",
       "      <td>182.949997</td>\n",
       "      <td>177.830002</td>\n",
       "      <td>179.179993</td>\n",
       "      <td>52383400.0</td>\n",
       "      <td>PLTR</td>\n",
       "      <td>NaN</td>\n",
       "    </tr>\n",
       "    <tr>\n",
       "      <th>371</th>\n",
       "      <td>2025-10-06</td>\n",
       "      <td>153.539993</td>\n",
       "      <td>153.649994</td>\n",
       "      <td>150.880005</td>\n",
       "      <td>152.139999</td>\n",
       "      <td>7071400.0</td>\n",
       "      <td>PM</td>\n",
       "      <td>NaN</td>\n",
       "    </tr>\n",
       "    <tr>\n",
       "      <th>372</th>\n",
       "      <td>2025-10-06</td>\n",
       "      <td>195.619995</td>\n",
       "      <td>202.000000</td>\n",
       "      <td>194.679993</td>\n",
       "      <td>199.919998</td>\n",
       "      <td>2208200.0</td>\n",
       "      <td>PNC</td>\n",
       "      <td>NaN</td>\n",
       "    </tr>\n",
       "    <tr>\n",
       "      <th>373</th>\n",
       "      <td>2025-10-06</td>\n",
       "      <td>112.050003</td>\n",
       "      <td>113.029999</td>\n",
       "      <td>111.519997</td>\n",
       "      <td>112.540001</td>\n",
       "      <td>1083000.0</td>\n",
       "      <td>PNR</td>\n",
       "      <td>NaN</td>\n",
       "    </tr>\n",
       "    <tr>\n",
       "      <th>346</th>\n",
       "      <td>2025-10-06</td>\n",
       "      <td>231.419998</td>\n",
       "      <td>234.000000</td>\n",
       "      <td>227.100006</td>\n",
       "      <td>232.059998</td>\n",
       "      <td>1949000.0</td>\n",
       "      <td>NXPI</td>\n",
       "      <td>NaN</td>\n",
       "    </tr>\n",
       "    <tr>\n",
       "      <th>345</th>\n",
       "      <td>2025-10-06</td>\n",
       "      <td>28.059999</td>\n",
       "      <td>28.549999</td>\n",
       "      <td>27.799999</td>\n",
       "      <td>28.549999</td>\n",
       "      <td>3880100.0</td>\n",
       "      <td>NWSA</td>\n",
       "      <td>NaN</td>\n",
       "    </tr>\n",
       "    <tr>\n",
       "      <th>344</th>\n",
       "      <td>2025-10-06</td>\n",
       "      <td>31.809999</td>\n",
       "      <td>32.310001</td>\n",
       "      <td>31.320000</td>\n",
       "      <td>32.189999</td>\n",
       "      <td>1211200.0</td>\n",
       "      <td>NWS</td>\n",
       "      <td>NaN</td>\n",
       "    </tr>\n",
       "    <tr>\n",
       "      <th>343</th>\n",
       "      <td>2025-10-06</td>\n",
       "      <td>8068.750000</td>\n",
       "      <td>8199.000000</td>\n",
       "      <td>8033.310059</td>\n",
       "      <td>8199.000000</td>\n",
       "      <td>13000.0</td>\n",
       "      <td>NVR</td>\n",
       "      <td>NaN</td>\n",
       "    </tr>\n",
       "    <tr>\n",
       "      <th>315</th>\n",
       "      <td>2025-10-06</td>\n",
       "      <td>193.520004</td>\n",
       "      <td>197.100006</td>\n",
       "      <td>193.190002</td>\n",
       "      <td>193.619995</td>\n",
       "      <td>1009100.0</td>\n",
       "      <td>MPC</td>\n",
       "      <td>NaN</td>\n",
       "    </tr>\n",
       "    <tr>\n",
       "      <th>316</th>\n",
       "      <td>2025-10-06</td>\n",
       "      <td>968.099976</td>\n",
       "      <td>986.630005</td>\n",
       "      <td>930.609985</td>\n",
       "      <td>932.580017</td>\n",
       "      <td>652000.0</td>\n",
       "      <td>MPWR</td>\n",
       "      <td>NaN</td>\n",
       "    </tr>\n",
       "    <tr>\n",
       "      <th>317</th>\n",
       "      <td>2025-10-06</td>\n",
       "      <td>88.800003</td>\n",
       "      <td>90.309998</td>\n",
       "      <td>88.550003</td>\n",
       "      <td>88.830002</td>\n",
       "      <td>11645700.0</td>\n",
       "      <td>MRK</td>\n",
       "      <td>NaN</td>\n",
       "    </tr>\n",
       "    <tr>\n",
       "      <th>318</th>\n",
       "      <td>2025-10-06</td>\n",
       "      <td>27.540001</td>\n",
       "      <td>28.670000</td>\n",
       "      <td>27.480000</td>\n",
       "      <td>28.490000</td>\n",
       "      <td>8348200.0</td>\n",
       "      <td>MRNA</td>\n",
       "      <td>NaN</td>\n",
       "    </tr>\n",
       "    <tr>\n",
       "      <th>319</th>\n",
       "      <td>2025-10-06</td>\n",
       "      <td>158.089996</td>\n",
       "      <td>158.729996</td>\n",
       "      <td>155.009995</td>\n",
       "      <td>158.000000</td>\n",
       "      <td>4696300.0</td>\n",
       "      <td>MS</td>\n",
       "      <td>NaN</td>\n",
       "    </tr>\n",
       "    <tr>\n",
       "      <th>320</th>\n",
       "      <td>2025-10-06</td>\n",
       "      <td>564.809998</td>\n",
       "      <td>568.200012</td>\n",
       "      <td>557.729980</td>\n",
       "      <td>564.059998</td>\n",
       "      <td>396800.0</td>\n",
       "      <td>MSCI</td>\n",
       "      <td>NaN</td>\n",
       "    </tr>\n",
       "    <tr>\n",
       "      <th>321</th>\n",
       "      <td>2025-10-06</td>\n",
       "      <td>528.570007</td>\n",
       "      <td>531.030029</td>\n",
       "      <td>518.200012</td>\n",
       "      <td>518.609985</td>\n",
       "      <td>21365200.0</td>\n",
       "      <td>MSFT</td>\n",
       "      <td>NaN</td>\n",
       "    </tr>\n",
       "    <tr>\n",
       "      <th>322</th>\n",
       "      <td>2025-10-06</td>\n",
       "      <td>457.130005</td>\n",
       "      <td>458.420013</td>\n",
       "      <td>453.049988</td>\n",
       "      <td>454.790009</td>\n",
       "      <td>610300.0</td>\n",
       "      <td>MSI</td>\n",
       "      <td>NaN</td>\n",
       "    </tr>\n",
       "    <tr>\n",
       "      <th>323</th>\n",
       "      <td>2025-10-06</td>\n",
       "      <td>190.000000</td>\n",
       "      <td>198.869995</td>\n",
       "      <td>189.910004</td>\n",
       "      <td>197.220001</td>\n",
       "      <td>1499800.0</td>\n",
       "      <td>MTB</td>\n",
       "      <td>NaN</td>\n",
       "    </tr>\n",
       "    <tr>\n",
       "      <th>324</th>\n",
       "      <td>2025-10-06</td>\n",
       "      <td>34.000000</td>\n",
       "      <td>34.580002</td>\n",
       "      <td>33.980000</td>\n",
       "      <td>34.500000</td>\n",
       "      <td>3636500.0</td>\n",
       "      <td>MTCH</td>\n",
       "      <td>NaN</td>\n",
       "    </tr>\n",
       "    <tr>\n",
       "      <th>325</th>\n",
       "      <td>2025-10-06</td>\n",
       "      <td>1345.270020</td>\n",
       "      <td>1346.170044</td>\n",
       "      <td>1309.560059</td>\n",
       "      <td>1315.079956</td>\n",
       "      <td>155300.0</td>\n",
       "      <td>MTD</td>\n",
       "      <td>NaN</td>\n",
       "    </tr>\n",
       "    <tr>\n",
       "      <th>326</th>\n",
       "      <td>2025-10-06</td>\n",
       "      <td>190.960007</td>\n",
       "      <td>201.000000</td>\n",
       "      <td>189.429993</td>\n",
       "      <td>195.009995</td>\n",
       "      <td>36333100.0</td>\n",
       "      <td>MU</td>\n",
       "      <td>NaN</td>\n",
       "    </tr>\n",
       "    <tr>\n",
       "      <th>327</th>\n",
       "      <td>2025-10-06</td>\n",
       "      <td>24.100000</td>\n",
       "      <td>24.469999</td>\n",
       "      <td>23.650000</td>\n",
       "      <td>24.320000</td>\n",
       "      <td>11149000.0</td>\n",
       "      <td>NCLH</td>\n",
       "      <td>NaN</td>\n",
       "    </tr>\n",
       "    <tr>\n",
       "      <th>313</th>\n",
       "      <td>2025-10-06</td>\n",
       "      <td>200.570007</td>\n",
       "      <td>204.199997</td>\n",
       "      <td>199.770004</td>\n",
       "      <td>202.100006</td>\n",
       "      <td>854200.0</td>\n",
       "      <td>MOH</td>\n",
       "      <td>NaN</td>\n",
       "    </tr>\n",
       "    <tr>\n",
       "      <th>328</th>\n",
       "      <td>2025-10-06</td>\n",
       "      <td>88.169998</td>\n",
       "      <td>88.360001</td>\n",
       "      <td>87.500000</td>\n",
       "      <td>87.860001</td>\n",
       "      <td>3518700.0</td>\n",
       "      <td>NDAQ</td>\n",
       "      <td>NaN</td>\n",
       "    </tr>\n",
       "    <tr>\n",
       "      <th>330</th>\n",
       "      <td>2025-10-06</td>\n",
       "      <td>82.110001</td>\n",
       "      <td>82.370003</td>\n",
       "      <td>80.150002</td>\n",
       "      <td>80.150002</td>\n",
       "      <td>15762700.0</td>\n",
       "      <td>NEE</td>\n",
       "      <td>NaN</td>\n",
       "    </tr>\n",
       "    <tr>\n",
       "      <th>331</th>\n",
       "      <td>2025-10-06</td>\n",
       "      <td>88.510002</td>\n",
       "      <td>89.370003</td>\n",
       "      <td>87.400002</td>\n",
       "      <td>87.949997</td>\n",
       "      <td>8874000.0</td>\n",
       "      <td>NEM</td>\n",
       "      <td>NaN</td>\n",
       "    </tr>\n",
       "    <tr>\n",
       "      <th>332</th>\n",
       "      <td>2025-10-06</td>\n",
       "      <td>1163.310059</td>\n",
       "      <td>1163.579956</td>\n",
       "      <td>1145.449951</td>\n",
       "      <td>1160.369995</td>\n",
       "      <td>2954800.0</td>\n",
       "      <td>NFLX</td>\n",
       "      <td>NaN</td>\n",
       "    </tr>\n",
       "    <tr>\n",
       "      <th>333</th>\n",
       "      <td>2025-10-06</td>\n",
       "      <td>44.169998</td>\n",
       "      <td>44.520000</td>\n",
       "      <td>43.779999</td>\n",
       "      <td>43.959999</td>\n",
       "      <td>4269200.0</td>\n",
       "      <td>NI</td>\n",
       "      <td>NaN</td>\n",
       "    </tr>\n",
       "    <tr>\n",
       "      <th>334</th>\n",
       "      <td>2025-10-06</td>\n",
       "      <td>71.169998</td>\n",
       "      <td>72.389999</td>\n",
       "      <td>71.010002</td>\n",
       "      <td>72.019997</td>\n",
       "      <td>14013400.0</td>\n",
       "      <td>NKE</td>\n",
       "      <td>NaN</td>\n",
       "    </tr>\n",
       "    <tr>\n",
       "      <th>335</th>\n",
       "      <td>2025-10-06</td>\n",
       "      <td>618.520020</td>\n",
       "      <td>619.710022</td>\n",
       "      <td>609.000000</td>\n",
       "      <td>609.119995</td>\n",
       "      <td>540200.0</td>\n",
       "      <td>NOC</td>\n",
       "      <td>NaN</td>\n",
       "    </tr>\n",
       "    <tr>\n",
       "      <th>336</th>\n",
       "      <td>2025-10-06</td>\n",
       "      <td>912.840027</td>\n",
       "      <td>929.760010</td>\n",
       "      <td>895.539978</td>\n",
       "      <td>904.020020</td>\n",
       "      <td>1287800.0</td>\n",
       "      <td>NOW</td>\n",
       "      <td>NaN</td>\n",
       "    </tr>\n",
       "    <tr>\n",
       "      <th>337</th>\n",
       "      <td>2025-10-06</td>\n",
       "      <td>163.949997</td>\n",
       "      <td>169.970001</td>\n",
       "      <td>163.100006</td>\n",
       "      <td>168.970001</td>\n",
       "      <td>2408300.0</td>\n",
       "      <td>NRG</td>\n",
       "      <td>NaN</td>\n",
       "    </tr>\n",
       "    <tr>\n",
       "      <th>338</th>\n",
       "      <td>2025-10-06</td>\n",
       "      <td>299.649994</td>\n",
       "      <td>301.529999</td>\n",
       "      <td>298.570007</td>\n",
       "      <td>301.440002</td>\n",
       "      <td>2072600.0</td>\n",
       "      <td>NSC</td>\n",
       "      <td>NaN</td>\n",
       "    </tr>\n",
       "    <tr>\n",
       "      <th>339</th>\n",
       "      <td>2025-10-06</td>\n",
       "      <td>120.419998</td>\n",
       "      <td>120.540001</td>\n",
       "      <td>117.570000</td>\n",
       "      <td>119.989998</td>\n",
       "      <td>1636800.0</td>\n",
       "      <td>NTAP</td>\n",
       "      <td>NaN</td>\n",
       "    </tr>\n",
       "    <tr>\n",
       "      <th>340</th>\n",
       "      <td>2025-10-06</td>\n",
       "      <td>132.210007</td>\n",
       "      <td>133.919998</td>\n",
       "      <td>130.570007</td>\n",
       "      <td>133.250000</td>\n",
       "      <td>800900.0</td>\n",
       "      <td>NTRS</td>\n",
       "      <td>NaN</td>\n",
       "    </tr>\n",
       "    <tr>\n",
       "      <th>341</th>\n",
       "      <td>2025-10-06</td>\n",
       "      <td>135.589996</td>\n",
       "      <td>138.529999</td>\n",
       "      <td>135.559998</td>\n",
       "      <td>137.990005</td>\n",
       "      <td>1158100.0</td>\n",
       "      <td>NUE</td>\n",
       "      <td>NaN</td>\n",
       "    </tr>\n",
       "    <tr>\n",
       "      <th>342</th>\n",
       "      <td>2025-10-06</td>\n",
       "      <td>185.539993</td>\n",
       "      <td>187.229996</td>\n",
       "      <td>183.330002</td>\n",
       "      <td>185.500000</td>\n",
       "      <td>156436000.0</td>\n",
       "      <td>NVDA</td>\n",
       "      <td>NaN</td>\n",
       "    </tr>\n",
       "    <tr>\n",
       "      <th>329</th>\n",
       "      <td>2025-10-06</td>\n",
       "      <td>234.119995</td>\n",
       "      <td>235.229996</td>\n",
       "      <td>230.580002</td>\n",
       "      <td>233.970001</td>\n",
       "      <td>214500.0</td>\n",
       "      <td>NDSN</td>\n",
       "      <td>NaN</td>\n",
       "    </tr>\n",
       "    <tr>\n",
       "      <th>0</th>\n",
       "      <td>2025-10-06</td>\n",
       "      <td>141.610001</td>\n",
       "      <td>141.940002</td>\n",
       "      <td>139.899994</td>\n",
       "      <td>141.509995</td>\n",
       "      <td>1538400.0</td>\n",
       "      <td>A</td>\n",
       "      <td>NaN</td>\n",
       "    </tr>\n",
       "  </tbody>\n",
       "</table>\n",
       "</div>"
      ]
     },
     "execution_count": 18,
     "metadata": {},
     "output_type": "execute_result"
    }
   ],
   "execution_count": 18
  },
  {
   "metadata": {
    "ExecuteTime": {
     "end_time": "2025-10-07T11:51:43.935459Z",
     "start_time": "2025-10-07T11:51:43.930975Z"
    }
   },
   "cell_type": "code",
   "source": "df_concat['Date'].max()",
   "id": "2fb50fac20b29100",
   "outputs": [
    {
     "data": {
      "text/plain": [
       "Timestamp('2025-10-06 00:00:00')"
      ]
     },
     "execution_count": 19,
     "metadata": {},
     "output_type": "execute_result"
    }
   ],
   "execution_count": 19
  },
  {
   "cell_type": "code",
   "id": "fc3ade3f-0c4a-4a1b-bcd5-8293c8818a65",
   "metadata": {
    "ExecuteTime": {
     "end_time": "2025-10-07T11:51:43.950083Z",
     "start_time": "2025-10-07T11:51:43.948667Z"
    }
   },
   "source": [
    "# Sauvegarder la DataFrame résultante dans un fichier CSV\n",
    "#data_SP500.to_csv('/Users/forget/PyCharmMiscProject/historical_data_S&P500_From_Wiki.csv')"
   ],
   "outputs": [],
   "execution_count": 20
  },
  {
   "metadata": {
    "ExecuteTime": {
     "end_time": "2025-10-07T11:51:43.963860Z",
     "start_time": "2025-10-07T11:51:43.961812Z"
    }
   },
   "cell_type": "code",
   "source": [
    "\"\"\"\n",
    "mask_1 = data_SP500[(data_SP500['Ticker'] == 'NVR') & (data_SP500['Date'] < '1993-10-01')]\n",
    "mask_2 = data_SP500[(data_SP500['Ticker'] == 'HUBB') & (data_SP500['Date'] < '1994-10-31')]\n",
    "mask_3 = data_SP500[(data_SP500['Date'] == '1984-12-31') & (data_SP500['Ticker'] == 'BEN')]\n",
    "\"\"\""
   ],
   "id": "5554fac36cbc425c",
   "outputs": [
    {
     "data": {
      "text/plain": [
       "\"\\nmask_1 = data_SP500[(data_SP500['Ticker'] == 'NVR') & (data_SP500['Date'] < '1993-10-01')]\\nmask_2 = data_SP500[(data_SP500['Ticker'] == 'HUBB') & (data_SP500['Date'] < '1994-10-31')]\\nmask_3 = data_SP500[(data_SP500['Date'] == '1984-12-31') & (data_SP500['Ticker'] == 'BEN')]\\n\""
      ]
     },
     "execution_count": 21,
     "metadata": {},
     "output_type": "execute_result"
    }
   ],
   "execution_count": 21
  },
  {
   "metadata": {
    "ExecuteTime": {
     "end_time": "2025-10-07T11:51:43.976573Z",
     "start_time": "2025-10-07T11:51:43.974748Z"
    }
   },
   "cell_type": "code",
   "source": [
    "\"\"\"\n",
    "idx_to_drop = mask_1.index.union(mask_2.index).union(mask_3.index)\n",
    "data_SP500 = data_SP500.drop(index=idx_to_drop).copy()\n",
    "\"\"\""
   ],
   "id": "3e44a0476c5466d",
   "outputs": [
    {
     "data": {
      "text/plain": [
       "'\\nidx_to_drop = mask_1.index.union(mask_2.index).union(mask_3.index)\\ndata_SP500 = data_SP500.drop(index=idx_to_drop).copy()\\n'"
      ]
     },
     "execution_count": 22,
     "metadata": {},
     "output_type": "execute_result"
    }
   ],
   "execution_count": 22
  },
  {
   "metadata": {
    "ExecuteTime": {
     "end_time": "2025-10-07T11:51:44.538541Z",
     "start_time": "2025-10-07T11:51:43.985160Z"
    }
   },
   "cell_type": "code",
   "source": "df_concat.to_parquet(\"/Users/forget/Library/Mobile Documents/com~apple~CloudDocs/Project Stock Market Deep Learning/Data/data_SP500.parquet\")",
   "id": "27b858f1805ff48d",
   "outputs": [],
   "execution_count": 23
  },
  {
   "metadata": {
    "ExecuteTime": {
     "end_time": "2025-10-07T11:51:44.548613Z",
     "start_time": "2025-10-07T11:51:44.543396Z"
    }
   },
   "cell_type": "code",
   "source": "data_SP500.sort_values(by='Date', ascending=True)",
   "id": "b867e3f09bf67cdd",
   "outputs": [
    {
     "data": {
      "text/plain": [
       "Price       Date       Close        High         Low        Open     Volume  \\\n",
       "0     2025-10-06  141.610001  141.940002  139.899994  141.509995  1538400.0   \n",
       "341   2025-10-06  135.589996  138.529999  135.559998  137.990005  1158100.0   \n",
       "340   2025-10-06  132.210007  133.919998  130.570007  133.250000   800900.0   \n",
       "339   2025-10-06  120.419998  120.540001  117.570000  119.989998  1636800.0   \n",
       "338   2025-10-06  299.649994  301.529999  298.570007  301.440002  2072600.0   \n",
       "..           ...         ...         ...         ...         ...        ...   \n",
       "159   2025-10-06  134.770004  135.490005  132.789993  133.199997  2218300.0   \n",
       "158   2025-10-06   63.720001   64.559998   63.430000   64.160004  1347200.0   \n",
       "157   2025-10-06  670.000000  679.020020  657.500000  657.640015   592100.0   \n",
       "170   2025-10-06   77.480003   77.709999   76.629997   76.639999  2480800.0   \n",
       "499   2025-10-06  145.360001  147.039993  144.850006  146.429993  3114900.0   \n",
       "\n",
       "Price Ticker  Adj Close  \n",
       "0          A        NaN  \n",
       "341      NUE        NaN  \n",
       "340     NTRS        NaN  \n",
       "339     NTAP        NaN  \n",
       "338      NSC        NaN  \n",
       "..       ...        ...  \n",
       "159      EMR        NaN  \n",
       "158      EMN        NaN  \n",
       "157      EME        NaN  \n",
       "170     EVRG        NaN  \n",
       "499      ZTS        NaN  \n",
       "\n",
       "[500 rows x 8 columns]"
      ],
      "text/html": [
       "<div>\n",
       "<style scoped>\n",
       "    .dataframe tbody tr th:only-of-type {\n",
       "        vertical-align: middle;\n",
       "    }\n",
       "\n",
       "    .dataframe tbody tr th {\n",
       "        vertical-align: top;\n",
       "    }\n",
       "\n",
       "    .dataframe thead th {\n",
       "        text-align: right;\n",
       "    }\n",
       "</style>\n",
       "<table border=\"1\" class=\"dataframe\">\n",
       "  <thead>\n",
       "    <tr style=\"text-align: right;\">\n",
       "      <th>Price</th>\n",
       "      <th>Date</th>\n",
       "      <th>Close</th>\n",
       "      <th>High</th>\n",
       "      <th>Low</th>\n",
       "      <th>Open</th>\n",
       "      <th>Volume</th>\n",
       "      <th>Ticker</th>\n",
       "      <th>Adj Close</th>\n",
       "    </tr>\n",
       "  </thead>\n",
       "  <tbody>\n",
       "    <tr>\n",
       "      <th>0</th>\n",
       "      <td>2025-10-06</td>\n",
       "      <td>141.610001</td>\n",
       "      <td>141.940002</td>\n",
       "      <td>139.899994</td>\n",
       "      <td>141.509995</td>\n",
       "      <td>1538400.0</td>\n",
       "      <td>A</td>\n",
       "      <td>NaN</td>\n",
       "    </tr>\n",
       "    <tr>\n",
       "      <th>341</th>\n",
       "      <td>2025-10-06</td>\n",
       "      <td>135.589996</td>\n",
       "      <td>138.529999</td>\n",
       "      <td>135.559998</td>\n",
       "      <td>137.990005</td>\n",
       "      <td>1158100.0</td>\n",
       "      <td>NUE</td>\n",
       "      <td>NaN</td>\n",
       "    </tr>\n",
       "    <tr>\n",
       "      <th>340</th>\n",
       "      <td>2025-10-06</td>\n",
       "      <td>132.210007</td>\n",
       "      <td>133.919998</td>\n",
       "      <td>130.570007</td>\n",
       "      <td>133.250000</td>\n",
       "      <td>800900.0</td>\n",
       "      <td>NTRS</td>\n",
       "      <td>NaN</td>\n",
       "    </tr>\n",
       "    <tr>\n",
       "      <th>339</th>\n",
       "      <td>2025-10-06</td>\n",
       "      <td>120.419998</td>\n",
       "      <td>120.540001</td>\n",
       "      <td>117.570000</td>\n",
       "      <td>119.989998</td>\n",
       "      <td>1636800.0</td>\n",
       "      <td>NTAP</td>\n",
       "      <td>NaN</td>\n",
       "    </tr>\n",
       "    <tr>\n",
       "      <th>338</th>\n",
       "      <td>2025-10-06</td>\n",
       "      <td>299.649994</td>\n",
       "      <td>301.529999</td>\n",
       "      <td>298.570007</td>\n",
       "      <td>301.440002</td>\n",
       "      <td>2072600.0</td>\n",
       "      <td>NSC</td>\n",
       "      <td>NaN</td>\n",
       "    </tr>\n",
       "    <tr>\n",
       "      <th>...</th>\n",
       "      <td>...</td>\n",
       "      <td>...</td>\n",
       "      <td>...</td>\n",
       "      <td>...</td>\n",
       "      <td>...</td>\n",
       "      <td>...</td>\n",
       "      <td>...</td>\n",
       "      <td>...</td>\n",
       "    </tr>\n",
       "    <tr>\n",
       "      <th>159</th>\n",
       "      <td>2025-10-06</td>\n",
       "      <td>134.770004</td>\n",
       "      <td>135.490005</td>\n",
       "      <td>132.789993</td>\n",
       "      <td>133.199997</td>\n",
       "      <td>2218300.0</td>\n",
       "      <td>EMR</td>\n",
       "      <td>NaN</td>\n",
       "    </tr>\n",
       "    <tr>\n",
       "      <th>158</th>\n",
       "      <td>2025-10-06</td>\n",
       "      <td>63.720001</td>\n",
       "      <td>64.559998</td>\n",
       "      <td>63.430000</td>\n",
       "      <td>64.160004</td>\n",
       "      <td>1347200.0</td>\n",
       "      <td>EMN</td>\n",
       "      <td>NaN</td>\n",
       "    </tr>\n",
       "    <tr>\n",
       "      <th>157</th>\n",
       "      <td>2025-10-06</td>\n",
       "      <td>670.000000</td>\n",
       "      <td>679.020020</td>\n",
       "      <td>657.500000</td>\n",
       "      <td>657.640015</td>\n",
       "      <td>592100.0</td>\n",
       "      <td>EME</td>\n",
       "      <td>NaN</td>\n",
       "    </tr>\n",
       "    <tr>\n",
       "      <th>170</th>\n",
       "      <td>2025-10-06</td>\n",
       "      <td>77.480003</td>\n",
       "      <td>77.709999</td>\n",
       "      <td>76.629997</td>\n",
       "      <td>76.639999</td>\n",
       "      <td>2480800.0</td>\n",
       "      <td>EVRG</td>\n",
       "      <td>NaN</td>\n",
       "    </tr>\n",
       "    <tr>\n",
       "      <th>499</th>\n",
       "      <td>2025-10-06</td>\n",
       "      <td>145.360001</td>\n",
       "      <td>147.039993</td>\n",
       "      <td>144.850006</td>\n",
       "      <td>146.429993</td>\n",
       "      <td>3114900.0</td>\n",
       "      <td>ZTS</td>\n",
       "      <td>NaN</td>\n",
       "    </tr>\n",
       "  </tbody>\n",
       "</table>\n",
       "<p>500 rows × 8 columns</p>\n",
       "</div>"
      ]
     },
     "execution_count": 24,
     "metadata": {},
     "output_type": "execute_result"
    }
   ],
   "execution_count": 24
  },
  {
   "metadata": {
    "ExecuteTime": {
     "end_time": "2025-10-07T11:51:44.559705Z",
     "start_time": "2025-10-07T11:51:44.558233Z"
    }
   },
   "cell_type": "code",
   "source": "a = data_SP500.copy()",
   "id": "5903367a0649e4ad",
   "outputs": [],
   "execution_count": 25
  },
  {
   "metadata": {
    "ExecuteTime": {
     "end_time": "2025-10-07T11:51:44.570762Z",
     "start_time": "2025-10-07T11:51:44.569074Z"
    }
   },
   "cell_type": "code",
   "source": "b = a[a['Ticker'] == 'BEN']",
   "id": "c323bd8dbbb022c8",
   "outputs": [],
   "execution_count": 26
  },
  {
   "metadata": {
    "ExecuteTime": {
     "end_time": "2025-10-07T11:51:44.579463Z",
     "start_time": "2025-10-07T11:51:44.575276Z"
    }
   },
   "cell_type": "code",
   "source": [
    "b = a[(a['Ticker'] == 'BEN') & (a['Date'] < '1985-02-01') & (a['Date'] > '1984-12-01')].sort_values('Date')\n",
    "b"
   ],
   "id": "6cef439176d3300",
   "outputs": [
    {
     "data": {
      "text/plain": [
       "Empty DataFrame\n",
       "Columns: [Date, Close, High, Low, Open, Volume, Ticker, Adj Close]\n",
       "Index: []"
      ],
      "text/html": [
       "<div>\n",
       "<style scoped>\n",
       "    .dataframe tbody tr th:only-of-type {\n",
       "        vertical-align: middle;\n",
       "    }\n",
       "\n",
       "    .dataframe tbody tr th {\n",
       "        vertical-align: top;\n",
       "    }\n",
       "\n",
       "    .dataframe thead th {\n",
       "        text-align: right;\n",
       "    }\n",
       "</style>\n",
       "<table border=\"1\" class=\"dataframe\">\n",
       "  <thead>\n",
       "    <tr style=\"text-align: right;\">\n",
       "      <th>Price</th>\n",
       "      <th>Date</th>\n",
       "      <th>Close</th>\n",
       "      <th>High</th>\n",
       "      <th>Low</th>\n",
       "      <th>Open</th>\n",
       "      <th>Volume</th>\n",
       "      <th>Ticker</th>\n",
       "      <th>Adj Close</th>\n",
       "    </tr>\n",
       "  </thead>\n",
       "  <tbody>\n",
       "  </tbody>\n",
       "</table>\n",
       "</div>"
      ]
     },
     "execution_count": 27,
     "metadata": {},
     "output_type": "execute_result"
    }
   ],
   "execution_count": 27
  },
  {
   "metadata": {
    "ExecuteTime": {
     "end_time": "2025-10-07T11:51:45.149333Z",
     "start_time": "2025-10-07T11:51:44.602585Z"
    }
   },
   "cell_type": "code",
   "source": [
    "import matplotlib.pyplot as plt\n",
    "\n",
    "x = b['Date']\n",
    "y = b['Close']\n",
    "plt.figure(figsize=(20, 10))\n",
    "plt.scatter(x, y, s=1)"
   ],
   "id": "23e518ae5dddc4bc",
   "outputs": [
    {
     "data": {
      "text/plain": [
       "<matplotlib.collections.PathCollection at 0x11bab3b60>"
      ]
     },
     "execution_count": 28,
     "metadata": {},
     "output_type": "execute_result"
    },
    {
     "data": {
      "text/plain": [
       "<Figure size 2000x1000 with 1 Axes>"
      ],
      "image/png": "[encoded data removed]"
     },
     "metadata": {},
     "output_type": "display_data"
    }
   ],
   "execution_count": 28
  },
  {
   "metadata": {
    "ExecuteTime": {
     "end_time": "2025-10-07T11:51:45.155608Z",
     "start_time": "2025-10-07T11:51:45.154343Z"
    }
   },
   "cell_type": "code",
   "source": "",
   "id": "3e4c7bacfb4707fe",
   "outputs": [],
   "execution_count": null
  }
 ],
 "metadata": {
  "kernelspec": {
   "display_name": "Python 3 (ipykernel)",
   "language": "python",
   "name": "python3"
  },
  "language_info": {
   "codemirror_mode": {
    "name": "ipython",
    "version": 3
   },
   "file_extension": ".py",
   "mimetype": "text/x-python",
   "name": "python",
   "nbconvert_exporter": "python",
   "pygments_lexer": "ipython3",
   "version": "3.12.4"
  }
 },
 "nbformat": 4,
 "nbformat_minor": 5
}
