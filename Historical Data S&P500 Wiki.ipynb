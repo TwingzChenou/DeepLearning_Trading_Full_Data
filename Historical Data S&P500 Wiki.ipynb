{
 "cells": [
  {
   "cell_type": "code",
   "id": "d57f0474-062c-4085-a442-4189e1e6d207",
   "metadata": {
    "ExecuteTime": {
     "end_time": "2025-09-15T14:27:31.113554Z",
     "start_time": "2025-09-15T14:27:30.712327Z"
    }
   },
   "source": [
    "import pandas as pd \n",
    "import yfinance as yf\n",
    "from datetime import datetime, timedelta\n"
   ],
   "outputs": [],
   "execution_count": 1
  },
  {
   "cell_type": "code",
   "id": "fc27d29a-7ea3-43eb-8465-e78d1137332c",
   "metadata": {
    "ExecuteTime": {
     "end_time": "2025-09-15T14:27:32.054351Z",
     "start_time": "2025-09-15T14:27:31.119254Z"
    }
   },
   "source": [
    "SP500_Url = \"https://en.wikipedia.org/wiki/List_of_S%26P_500_companies\"\n",
    "data_table = pd.read_html(\n",
    "    SP500_Url,\n",
    "    storage_options={\"User-Agent\": \"Mozilla/5.0 (X11; Linux x86_64) AppleWebKit/537.36 \"\n",
    "                                   \"(KHTML, like Gecko) Chrome/123.0 Safari/537.36\"}\n",
    ")\n",
    "data_table"
   ],
   "outputs": [
    {
     "data": {
      "text/plain": [
       "[    Symbol             Security             GICS Sector  \\\n",
       " 0      MMM                   3M             Industrials   \n",
       " 1      AOS          A. O. Smith             Industrials   \n",
       " 2      ABT  Abbott Laboratories             Health Care   \n",
       " 3     ABBV               AbbVie             Health Care   \n",
       " 4      ACN            Accenture  Information Technology   \n",
       " ..     ...                  ...                     ...   \n",
       " 498    XYL           Xylem Inc.             Industrials   \n",
       " 499    YUM          Yum! Brands  Consumer Discretionary   \n",
       " 500   ZBRA   Zebra Technologies  Information Technology   \n",
       " 501    ZBH        Zimmer Biomet             Health Care   \n",
       " 502    ZTS               Zoetis             Health Care   \n",
       " \n",
       "                                 GICS Sub-Industry    Headquarters Location  \\\n",
       " 0                        Industrial Conglomerates    Saint Paul, Minnesota   \n",
       " 1                               Building Products     Milwaukee, Wisconsin   \n",
       " 2                           Health Care Equipment  North Chicago, Illinois   \n",
       " 3                                   Biotechnology  North Chicago, Illinois   \n",
       " 4                  IT Consulting & Other Services          Dublin, Ireland   \n",
       " ..                                            ...                      ...   \n",
       " 498  Industrial Machinery & Supplies & Components   White Plains, New York   \n",
       " 499                                   Restaurants     Louisville, Kentucky   \n",
       " 500            Electronic Equipment & Instruments   Lincolnshire, Illinois   \n",
       " 501                         Health Care Equipment          Warsaw, Indiana   \n",
       " 502                               Pharmaceuticals   Parsippany, New Jersey   \n",
       " \n",
       "      Date added      CIK      Founded  \n",
       " 0    1957-03-04    66740         1902  \n",
       " 1    2017-07-26    91142         1916  \n",
       " 2    1957-03-04     1800         1888  \n",
       " 3    2012-12-31  1551152  2013 (1888)  \n",
       " 4    2011-07-06  1467373         1989  \n",
       " ..          ...      ...          ...  \n",
       " 498  2011-11-01  1524472         2011  \n",
       " 499  1997-10-06  1041061         1997  \n",
       " 500  2019-12-23   877212         1969  \n",
       " 501  2001-08-07  1136869         1927  \n",
       " 502  2013-06-21  1555280         1952  \n",
       " \n",
       " [503 rows x 8 columns],\n",
       "          Effective Date  Added                                Removed  \\\n",
       "          Effective Date Ticker                       Security  Ticker   \n",
       " 0    September 22, 2025    EME                          Emcor    ENPH   \n",
       " 1    September 22, 2025   HOOD              Robinhood Markets     CZR   \n",
       " 2    September 22, 2025    APP                       AppLovin    MKTX   \n",
       " 3       August 28, 2025   IBKR            Interactive Brokers     WBA   \n",
       " 4         July 23, 2025    XYZ                    Block, Inc.     HES   \n",
       " ..                  ...    ...                            ...     ...   \n",
       " 374   December 11, 1998   CPWR                      Compuware     SUN   \n",
       " 375       June 17, 1997    CCR  Countrywide Credit Industries     USL   \n",
       " 376  September 30, 1994    NCC                  National City     MCK   \n",
       " 377        July 1, 1976    BUD                 Anheuser Busch     HNG   \n",
       " 378        July 1, 1976    DIS        The Walt Disney Company     AYE   \n",
       " \n",
       "                                \\\n",
       "                      Security   \n",
       " 0              Enphase Energy   \n",
       " 1       Caesars Entertainment   \n",
       " 2                 MarketAxess   \n",
       " 3    Walgreens Boots Alliance   \n",
       " 4            Hess Corporation   \n",
       " ..                        ...   \n",
       " 374                SunAmerica   \n",
       " 375                    USLife   \n",
       " 376                  McKesson   \n",
       " 377       Houston Natural Gas   \n",
       " 378          Allegheny Energy   \n",
       " \n",
       "                                                 Reason  \n",
       "                                                 Reason  \n",
       " 0                     Market capitalization change.[4]  \n",
       " 1                     Market capitalization change.[4]  \n",
       " 2                     Market capitalization change.[4]  \n",
       " 3    Sycamore Partners acquired Walgreen Boots Alli...  \n",
       " 4    S&P 500 and S&P 100 constituent Chevron Corp. ...  \n",
       " ..                                                 ...  \n",
       " 374                     AIG purchased SunAmerica.[267]  \n",
       " 375                          AIG acquired USLife.[268]  \n",
       " 376  McKesson sold PCS Health Services to Eli Lilly...  \n",
       " 377  Major restructuring of S&P 500 to have fewer i...  \n",
       " 378  Major restructuring of S&P 500 to have fewer i...  \n",
       " \n",
       " [379 rows x 6 columns]]"
      ]
     },
     "execution_count": 2,
     "metadata": {},
     "output_type": "execute_result"
    }
   ],
   "execution_count": 2
  },
  {
   "cell_type": "code",
   "id": "1b24ff08-adf5-4396-8e7a-d6779a1b9d77",
   "metadata": {
    "ExecuteTime": {
     "end_time": "2025-09-15T14:27:32.059330Z",
     "start_time": "2025-09-15T14:27:32.057803Z"
    }
   },
   "source": "tickers = data_table[0][\"Symbol\"].tolist()",
   "outputs": [],
   "execution_count": 3
  },
  {
   "cell_type": "code",
   "id": "b60e277a-361e-45d8-ab57-1b025ec7d338",
   "metadata": {
    "ExecuteTime": {
     "end_time": "2025-09-15T14:27:32.067477Z",
     "start_time": "2025-09-15T14:27:32.066060Z"
    }
   },
   "source": [
    "for i in range(len(tickers)):\n",
    "    if tickers[i] == 'BRK.B':\n",
    "        tickers[i] = 'BRK-B'\n",
    "    elif tickers[i] == 'BF.B':\n",
    "        tickers[i] = 'BF-B'"
   ],
   "outputs": [],
   "execution_count": 4
  },
  {
   "metadata": {
    "ExecuteTime": {
     "end_time": "2025-09-15T14:27:32.077368Z",
     "start_time": "2025-09-15T14:27:32.071360Z"
    }
   },
   "cell_type": "code",
   "source": "data_table[1]",
   "id": "2c932a6255bd04f4",
   "outputs": [
    {
     "data": {
      "text/plain": [
       "         Effective Date  Added                                Removed  \\\n",
       "         Effective Date Ticker                       Security  Ticker   \n",
       "0    September 22, 2025    EME                          Emcor    ENPH   \n",
       "1    September 22, 2025   HOOD              Robinhood Markets     CZR   \n",
       "2    September 22, 2025    APP                       AppLovin    MKTX   \n",
       "3       August 28, 2025   IBKR            Interactive Brokers     WBA   \n",
       "4         July 23, 2025    XYZ                    Block, Inc.     HES   \n",
       "..                  ...    ...                            ...     ...   \n",
       "374   December 11, 1998   CPWR                      Compuware     SUN   \n",
       "375       June 17, 1997    CCR  Countrywide Credit Industries     USL   \n",
       "376  September 30, 1994    NCC                  National City     MCK   \n",
       "377        July 1, 1976    BUD                 Anheuser Busch     HNG   \n",
       "378        July 1, 1976    DIS        The Walt Disney Company     AYE   \n",
       "\n",
       "                               \\\n",
       "                     Security   \n",
       "0              Enphase Energy   \n",
       "1       Caesars Entertainment   \n",
       "2                 MarketAxess   \n",
       "3    Walgreens Boots Alliance   \n",
       "4            Hess Corporation   \n",
       "..                        ...   \n",
       "374                SunAmerica   \n",
       "375                    USLife   \n",
       "376                  McKesson   \n",
       "377       Houston Natural Gas   \n",
       "378          Allegheny Energy   \n",
       "\n",
       "                                                Reason  \n",
       "                                                Reason  \n",
       "0                     Market capitalization change.[4]  \n",
       "1                     Market capitalization change.[4]  \n",
       "2                     Market capitalization change.[4]  \n",
       "3    Sycamore Partners acquired Walgreen Boots Alli...  \n",
       "4    S&P 500 and S&P 100 constituent Chevron Corp. ...  \n",
       "..                                                 ...  \n",
       "374                     AIG purchased SunAmerica.[267]  \n",
       "375                          AIG acquired USLife.[268]  \n",
       "376  McKesson sold PCS Health Services to Eli Lilly...  \n",
       "377  Major restructuring of S&P 500 to have fewer i...  \n",
       "378  Major restructuring of S&P 500 to have fewer i...  \n",
       "\n",
       "[379 rows x 6 columns]"
      ],
      "text/html": [
       "<div>\n",
       "<style scoped>\n",
       "    .dataframe tbody tr th:only-of-type {\n",
       "        vertical-align: middle;\n",
       "    }\n",
       "\n",
       "    .dataframe tbody tr th {\n",
       "        vertical-align: top;\n",
       "    }\n",
       "\n",
       "    .dataframe thead tr th {\n",
       "        text-align: left;\n",
       "    }\n",
       "</style>\n",
       "<table border=\"1\" class=\"dataframe\">\n",
       "  <thead>\n",
       "    <tr>\n",
       "      <th></th>\n",
       "      <th>Effective Date</th>\n",
       "      <th colspan=\"2\" halign=\"left\">Added</th>\n",
       "      <th colspan=\"2\" halign=\"left\">Removed</th>\n",
       "      <th>Reason</th>\n",
       "    </tr>\n",
       "    <tr>\n",
       "      <th></th>\n",
       "      <th>Effective Date</th>\n",
       "      <th>Ticker</th>\n",
       "      <th>Security</th>\n",
       "      <th>Ticker</th>\n",
       "      <th>Security</th>\n",
       "      <th>Reason</th>\n",
       "    </tr>\n",
       "  </thead>\n",
       "  <tbody>\n",
       "    <tr>\n",
       "      <th>0</th>\n",
       "      <td>September 22, 2025</td>\n",
       "      <td>EME</td>\n",
       "      <td>Emcor</td>\n",
       "      <td>ENPH</td>\n",
       "      <td>Enphase Energy</td>\n",
       "      <td>Market capitalization change.[4]</td>\n",
       "    </tr>\n",
       "    <tr>\n",
       "      <th>1</th>\n",
       "      <td>September 22, 2025</td>\n",
       "      <td>HOOD</td>\n",
       "      <td>Robinhood Markets</td>\n",
       "      <td>CZR</td>\n",
       "      <td>Caesars Entertainment</td>\n",
       "      <td>Market capitalization change.[4]</td>\n",
       "    </tr>\n",
       "    <tr>\n",
       "      <th>2</th>\n",
       "      <td>September 22, 2025</td>\n",
       "      <td>APP</td>\n",
       "      <td>AppLovin</td>\n",
       "      <td>MKTX</td>\n",
       "      <td>MarketAxess</td>\n",
       "      <td>Market capitalization change.[4]</td>\n",
       "    </tr>\n",
       "    <tr>\n",
       "      <th>3</th>\n",
       "      <td>August 28, 2025</td>\n",
       "      <td>IBKR</td>\n",
       "      <td>Interactive Brokers</td>\n",
       "      <td>WBA</td>\n",
       "      <td>Walgreens Boots Alliance</td>\n",
       "      <td>Sycamore Partners acquired Walgreen Boots Alli...</td>\n",
       "    </tr>\n",
       "    <tr>\n",
       "      <th>4</th>\n",
       "      <td>July 23, 2025</td>\n",
       "      <td>XYZ</td>\n",
       "      <td>Block, Inc.</td>\n",
       "      <td>HES</td>\n",
       "      <td>Hess Corporation</td>\n",
       "      <td>S&amp;P 500 and S&amp;P 100 constituent Chevron Corp. ...</td>\n",
       "    </tr>\n",
       "    <tr>\n",
       "      <th>...</th>\n",
       "      <td>...</td>\n",
       "      <td>...</td>\n",
       "      <td>...</td>\n",
       "      <td>...</td>\n",
       "      <td>...</td>\n",
       "      <td>...</td>\n",
       "    </tr>\n",
       "    <tr>\n",
       "      <th>374</th>\n",
       "      <td>December 11, 1998</td>\n",
       "      <td>CPWR</td>\n",
       "      <td>Compuware</td>\n",
       "      <td>SUN</td>\n",
       "      <td>SunAmerica</td>\n",
       "      <td>AIG purchased SunAmerica.[267]</td>\n",
       "    </tr>\n",
       "    <tr>\n",
       "      <th>375</th>\n",
       "      <td>June 17, 1997</td>\n",
       "      <td>CCR</td>\n",
       "      <td>Countrywide Credit Industries</td>\n",
       "      <td>USL</td>\n",
       "      <td>USLife</td>\n",
       "      <td>AIG acquired USLife.[268]</td>\n",
       "    </tr>\n",
       "    <tr>\n",
       "      <th>376</th>\n",
       "      <td>September 30, 1994</td>\n",
       "      <td>NCC</td>\n",
       "      <td>National City</td>\n",
       "      <td>MCK</td>\n",
       "      <td>McKesson</td>\n",
       "      <td>McKesson sold PCS Health Services to Eli Lilly...</td>\n",
       "    </tr>\n",
       "    <tr>\n",
       "      <th>377</th>\n",
       "      <td>July 1, 1976</td>\n",
       "      <td>BUD</td>\n",
       "      <td>Anheuser Busch</td>\n",
       "      <td>HNG</td>\n",
       "      <td>Houston Natural Gas</td>\n",
       "      <td>Major restructuring of S&amp;P 500 to have fewer i...</td>\n",
       "    </tr>\n",
       "    <tr>\n",
       "      <th>378</th>\n",
       "      <td>July 1, 1976</td>\n",
       "      <td>DIS</td>\n",
       "      <td>The Walt Disney Company</td>\n",
       "      <td>AYE</td>\n",
       "      <td>Allegheny Energy</td>\n",
       "      <td>Major restructuring of S&amp;P 500 to have fewer i...</td>\n",
       "    </tr>\n",
       "  </tbody>\n",
       "</table>\n",
       "<p>379 rows × 6 columns</p>\n",
       "</div>"
      ]
     },
     "execution_count": 5,
     "metadata": {},
     "output_type": "execute_result"
    }
   ],
   "execution_count": 5
  },
  {
   "cell_type": "code",
   "id": "17d6901d-f2b7-48b7-88a9-48d3aee5d9b7",
   "metadata": {
    "ExecuteTime": {
     "end_time": "2025-09-15T14:27:32.097498Z",
     "start_time": "2025-09-15T14:27:32.090347Z"
    }
   },
   "source": [
    "# Extraction des données\n",
    "Date = data_table[1]['Effective Date'].astype(str).apply(pd.to_datetime)\n",
    "Removed = data_table[1]['Removed']['Ticker']  # Supposant que 'Removed' est un DataFrame ou Series\n",
    "Added = data_table[1]['Added']['Ticker']      # Supposant que 'Added' est un DataFrame ou Series\n",
    "\n",
    "# Combinaison des données dans un DataFrame\n",
    "Data_Change = pd.concat([Date, Added, Removed], axis = 1)\n",
    "\n",
    "#Date au format Date\n",
    "#Data_Change['Date'] = pd.to_datetime(Data_Change['Date'])\n",
    "\n",
    "# Changer le format de la date en 'jour/mois/année'\n",
    "#Data_Change['Date'] = Data_Change['Date'].dt.strftime('%Y-%m-%d')\n",
    "\n",
    "\n",
    "# Renommer toutes les colonnes\n",
    "Data_Change.columns = ['Date', 'Added', 'Removed']\n",
    "\n",
    "# Mettre 'colonne_a' en tant qu'index\n",
    "Data_Change.set_index('Date', inplace=True)\n",
    "\n",
    "# Nan en vide\n",
    "Data_Change = Data_Change.fillna('')\n",
    "\n",
    "Data_Change"
   ],
   "outputs": [
    {
     "data": {
      "text/plain": [
       "           Added Removed\n",
       "Date                    \n",
       "2025-09-22   EME    ENPH\n",
       "2025-09-22  HOOD     CZR\n",
       "2025-09-22   APP    MKTX\n",
       "2025-08-28  IBKR     WBA\n",
       "2025-07-23   XYZ     HES\n",
       "...          ...     ...\n",
       "1998-12-11  CPWR     SUN\n",
       "1997-06-17   CCR     USL\n",
       "1994-09-30   NCC     MCK\n",
       "1976-07-01   BUD     HNG\n",
       "1976-07-01   DIS     AYE\n",
       "\n",
       "[379 rows x 2 columns]"
      ],
      "text/html": [
       "<div>\n",
       "<style scoped>\n",
       "    .dataframe tbody tr th:only-of-type {\n",
       "        vertical-align: middle;\n",
       "    }\n",
       "\n",
       "    .dataframe tbody tr th {\n",
       "        vertical-align: top;\n",
       "    }\n",
       "\n",
       "    .dataframe thead th {\n",
       "        text-align: right;\n",
       "    }\n",
       "</style>\n",
       "<table border=\"1\" class=\"dataframe\">\n",
       "  <thead>\n",
       "    <tr style=\"text-align: right;\">\n",
       "      <th></th>\n",
       "      <th>Added</th>\n",
       "      <th>Removed</th>\n",
       "    </tr>\n",
       "    <tr>\n",
       "      <th>Date</th>\n",
       "      <th></th>\n",
       "      <th></th>\n",
       "    </tr>\n",
       "  </thead>\n",
       "  <tbody>\n",
       "    <tr>\n",
       "      <th>2025-09-22</th>\n",
       "      <td>EME</td>\n",
       "      <td>ENPH</td>\n",
       "    </tr>\n",
       "    <tr>\n",
       "      <th>2025-09-22</th>\n",
       "      <td>HOOD</td>\n",
       "      <td>CZR</td>\n",
       "    </tr>\n",
       "    <tr>\n",
       "      <th>2025-09-22</th>\n",
       "      <td>APP</td>\n",
       "      <td>MKTX</td>\n",
       "    </tr>\n",
       "    <tr>\n",
       "      <th>2025-08-28</th>\n",
       "      <td>IBKR</td>\n",
       "      <td>WBA</td>\n",
       "    </tr>\n",
       "    <tr>\n",
       "      <th>2025-07-23</th>\n",
       "      <td>XYZ</td>\n",
       "      <td>HES</td>\n",
       "    </tr>\n",
       "    <tr>\n",
       "      <th>...</th>\n",
       "      <td>...</td>\n",
       "      <td>...</td>\n",
       "    </tr>\n",
       "    <tr>\n",
       "      <th>1998-12-11</th>\n",
       "      <td>CPWR</td>\n",
       "      <td>SUN</td>\n",
       "    </tr>\n",
       "    <tr>\n",
       "      <th>1997-06-17</th>\n",
       "      <td>CCR</td>\n",
       "      <td>USL</td>\n",
       "    </tr>\n",
       "    <tr>\n",
       "      <th>1994-09-30</th>\n",
       "      <td>NCC</td>\n",
       "      <td>MCK</td>\n",
       "    </tr>\n",
       "    <tr>\n",
       "      <th>1976-07-01</th>\n",
       "      <td>BUD</td>\n",
       "      <td>HNG</td>\n",
       "    </tr>\n",
       "    <tr>\n",
       "      <th>1976-07-01</th>\n",
       "      <td>DIS</td>\n",
       "      <td>AYE</td>\n",
       "    </tr>\n",
       "  </tbody>\n",
       "</table>\n",
       "<p>379 rows × 2 columns</p>\n",
       "</div>"
      ]
     },
     "execution_count": 6,
     "metadata": {},
     "output_type": "execute_result"
    }
   ],
   "execution_count": 6
  },
  {
   "cell_type": "code",
   "id": "48c463b9-ff84-4821-85cb-6bde2c7350a6",
   "metadata": {
    "ExecuteTime": {
     "end_time": "2025-09-15T14:27:32.106460Z",
     "start_time": "2025-09-15T14:27:32.104749Z"
    }
   },
   "source": [
    "len(tickers)"
   ],
   "outputs": [
    {
     "data": {
      "text/plain": [
       "503"
      ]
     },
     "execution_count": 7,
     "metadata": {},
     "output_type": "execute_result"
    }
   ],
   "execution_count": 7
  },
  {
   "cell_type": "code",
   "id": "20a9d36e-3278-4048-b5f2-582ebcbdef5b",
   "metadata": {
    "scrolled": true,
    "ExecuteTime": {
     "end_time": "2025-09-15T14:27:32.839303Z",
     "start_time": "2025-09-15T14:27:32.117348Z"
    }
   },
   "source": [
    "# Supposons que la liste tickers ait déjà 503 éléments au départ\n",
    "# tickers = ['AAPL', 'MSFT', ...]  # Exemples de tickers initiaux\n",
    "\n",
    "# Initialiser un dictionnaire vide\n",
    "dict = {}\n",
    "\n",
    "# Boucle pour parcourir les données et mettre à jour le dictionnaire\n",
    "for i in range(0, len(Data_Change)):\n",
    "    \n",
    "    # Ajouter les nouveaux tickers (si ce n'est pas déjà un ensemble vide)\n",
    "    tickers.extend(Data_Change.Added[i])\n",
    "    \n",
    "    # Essayer de supprimer les tickers retirés, si possible\n",
    "    try:\n",
    "        tickers = [t for t in tickers if t not in Data_Change.Removed[i]]  # Supprimer les tickers retirés\n",
    "    except ValueError:\n",
    "        # Si l'élément à supprimer n'existe pas dans la liste, continuer sans erreur\n",
    "        pass\n",
    "    \n",
    "    # Trier les tickers\n",
    "    tickers = sorted(set(tickers))  # Utilisation de set pour éviter les doublons\n",
    "\n",
    "    # Ajouter une **copie** de la liste `tickers` dans le dictionnaire\n",
    "    dict[Data_Change.index[i]] = tickers.copy()\n",
    "\n",
    "df = pd.DataFrame(list(dict.items()), columns=['date', 'tickers'])\n",
    "\n",
    "df['date'] = pd.to_datetime(df['date'])\n",
    "\n",
    "# Mettre la colonne 'date' comme index\n",
    "df.set_index('date', inplace=True)\n",
    "\n",
    "df"
   ],
   "outputs": [
    {
     "name": "stderr",
     "output_type": "stream",
     "text": [
      "/var/folders/6k/82j2nnl13hj9ld7nmzpdt6fh0000gn/T/ipykernel_3539/1527443372.py:11: FutureWarning: Series.__getitem__ treating keys as positions is deprecated. In a future version, integer keys will always be treated as labels (consistent with DataFrame behavior). To access a value by position, use `ser.iloc[pos]`\n",
      "  tickers.extend(Data_Change.Added[i])\n",
      "/var/folders/6k/82j2nnl13hj9ld7nmzpdt6fh0000gn/T/ipykernel_3539/1527443372.py:15: FutureWarning: Series.__getitem__ treating keys as positions is deprecated. In a future version, integer keys will always be treated as labels (consistent with DataFrame behavior). To access a value by position, use `ser.iloc[pos]`\n",
      "  tickers = [t for t in tickers if t not in Data_Change.Removed[i]]  # Supprimer les tickers retirés\n"
     ]
    },
    {
     "data": {
      "text/plain": [
       "                                                      tickers\n",
       "date                                                         \n",
       "2025-09-22  [A, AAPL, ABBV, ABNB, ABT, ACGL, ACN, ADBE, AD...\n",
       "2025-08-28  [AAPL, ABBV, ABNB, ABT, ACGL, ACN, ADBE, ADI, ...\n",
       "2025-07-23  [AAPL, ABBV, ABNB, ABT, ACGL, ACN, ADBE, ADI, ...\n",
       "2025-07-18  [AAPL, ABBV, ABNB, ABT, ACGL, ACN, ADBE, ADI, ...\n",
       "2025-07-09  [AAPL, ABBV, ABNB, ABT, ACGL, ACN, ADBE, ADI, ...\n",
       "...                                                       ...\n",
       "1999-04-12  [A, AAPL, ABBV, ABNB, ABT, ACGL, ACN, ADBE, AD...\n",
       "1998-12-11  [AAPL, ABBV, ABNB, ABT, ACGL, ACN, ADBE, ADI, ...\n",
       "1997-06-17  [AAPL, ABBV, ABNB, ABT, ACGL, ACN, ADBE, ADI, ...\n",
       "1994-09-30  [AAPL, ABBV, ABNB, ABT, ACGL, ACN, ADBE, ADI, ...\n",
       "1976-07-01  [AAPL, ABBV, ABNB, ABT, ACGL, ACN, ADBE, ADI, ...\n",
       "\n",
       "[285 rows x 1 columns]"
      ],
      "text/html": [
       "<div>\n",
       "<style scoped>\n",
       "    .dataframe tbody tr th:only-of-type {\n",
       "        vertical-align: middle;\n",
       "    }\n",
       "\n",
       "    .dataframe tbody tr th {\n",
       "        vertical-align: top;\n",
       "    }\n",
       "\n",
       "    .dataframe thead th {\n",
       "        text-align: right;\n",
       "    }\n",
       "</style>\n",
       "<table border=\"1\" class=\"dataframe\">\n",
       "  <thead>\n",
       "    <tr style=\"text-align: right;\">\n",
       "      <th></th>\n",
       "      <th>tickers</th>\n",
       "    </tr>\n",
       "    <tr>\n",
       "      <th>date</th>\n",
       "      <th></th>\n",
       "    </tr>\n",
       "  </thead>\n",
       "  <tbody>\n",
       "    <tr>\n",
       "      <th>2025-09-22</th>\n",
       "      <td>[A, AAPL, ABBV, ABNB, ABT, ACGL, ACN, ADBE, AD...</td>\n",
       "    </tr>\n",
       "    <tr>\n",
       "      <th>2025-08-28</th>\n",
       "      <td>[AAPL, ABBV, ABNB, ABT, ACGL, ACN, ADBE, ADI, ...</td>\n",
       "    </tr>\n",
       "    <tr>\n",
       "      <th>2025-07-23</th>\n",
       "      <td>[AAPL, ABBV, ABNB, ABT, ACGL, ACN, ADBE, ADI, ...</td>\n",
       "    </tr>\n",
       "    <tr>\n",
       "      <th>2025-07-18</th>\n",
       "      <td>[AAPL, ABBV, ABNB, ABT, ACGL, ACN, ADBE, ADI, ...</td>\n",
       "    </tr>\n",
       "    <tr>\n",
       "      <th>2025-07-09</th>\n",
       "      <td>[AAPL, ABBV, ABNB, ABT, ACGL, ACN, ADBE, ADI, ...</td>\n",
       "    </tr>\n",
       "    <tr>\n",
       "      <th>...</th>\n",
       "      <td>...</td>\n",
       "    </tr>\n",
       "    <tr>\n",
       "      <th>1999-04-12</th>\n",
       "      <td>[A, AAPL, ABBV, ABNB, ABT, ACGL, ACN, ADBE, AD...</td>\n",
       "    </tr>\n",
       "    <tr>\n",
       "      <th>1998-12-11</th>\n",
       "      <td>[AAPL, ABBV, ABNB, ABT, ACGL, ACN, ADBE, ADI, ...</td>\n",
       "    </tr>\n",
       "    <tr>\n",
       "      <th>1997-06-17</th>\n",
       "      <td>[AAPL, ABBV, ABNB, ABT, ACGL, ACN, ADBE, ADI, ...</td>\n",
       "    </tr>\n",
       "    <tr>\n",
       "      <th>1994-09-30</th>\n",
       "      <td>[AAPL, ABBV, ABNB, ABT, ACGL, ACN, ADBE, ADI, ...</td>\n",
       "    </tr>\n",
       "    <tr>\n",
       "      <th>1976-07-01</th>\n",
       "      <td>[AAPL, ABBV, ABNB, ABT, ACGL, ACN, ADBE, ADI, ...</td>\n",
       "    </tr>\n",
       "  </tbody>\n",
       "</table>\n",
       "<p>285 rows × 1 columns</p>\n",
       "</div>"
      ]
     },
     "execution_count": 8,
     "metadata": {},
     "output_type": "execute_result"
    }
   ],
   "execution_count": 8
  },
  {
   "metadata": {
    "ExecuteTime": {
     "end_time": "2025-09-15T14:27:32.845027Z",
     "start_time": "2025-09-15T14:27:32.842880Z"
    }
   },
   "cell_type": "code",
   "source": [
    "# Récupère l'index en liste\n",
    "new_index = list(df.index)\n",
    "\n",
    "# Remplace la première valeur\n",
    "new_index[0] = datetime.today().date()\n",
    "\n",
    "# Réapplique l'index modifié\n",
    "df.index = pd.to_datetime(new_index)"
   ],
   "id": "7bb535b927d2bb5b",
   "outputs": [],
   "execution_count": 9
  },
  {
   "metadata": {
    "ExecuteTime": {
     "end_time": "2025-09-15T14:27:32.857258Z",
     "start_time": "2025-09-15T14:27:32.852650Z"
    }
   },
   "cell_type": "code",
   "source": "df",
   "id": "8726eeeb2cff1231",
   "outputs": [
    {
     "data": {
      "text/plain": [
       "                                                      tickers\n",
       "2025-09-15  [A, AAPL, ABBV, ABNB, ABT, ACGL, ACN, ADBE, AD...\n",
       "2025-08-28  [AAPL, ABBV, ABNB, ABT, ACGL, ACN, ADBE, ADI, ...\n",
       "2025-07-23  [AAPL, ABBV, ABNB, ABT, ACGL, ACN, ADBE, ADI, ...\n",
       "2025-07-18  [AAPL, ABBV, ABNB, ABT, ACGL, ACN, ADBE, ADI, ...\n",
       "2025-07-09  [AAPL, ABBV, ABNB, ABT, ACGL, ACN, ADBE, ADI, ...\n",
       "...                                                       ...\n",
       "1999-04-12  [A, AAPL, ABBV, ABNB, ABT, ACGL, ACN, ADBE, AD...\n",
       "1998-12-11  [AAPL, ABBV, ABNB, ABT, ACGL, ACN, ADBE, ADI, ...\n",
       "1997-06-17  [AAPL, ABBV, ABNB, ABT, ACGL, ACN, ADBE, ADI, ...\n",
       "1994-09-30  [AAPL, ABBV, ABNB, ABT, ACGL, ACN, ADBE, ADI, ...\n",
       "1976-07-01  [AAPL, ABBV, ABNB, ABT, ACGL, ACN, ADBE, ADI, ...\n",
       "\n",
       "[285 rows x 1 columns]"
      ],
      "text/html": [
       "<div>\n",
       "<style scoped>\n",
       "    .dataframe tbody tr th:only-of-type {\n",
       "        vertical-align: middle;\n",
       "    }\n",
       "\n",
       "    .dataframe tbody tr th {\n",
       "        vertical-align: top;\n",
       "    }\n",
       "\n",
       "    .dataframe thead th {\n",
       "        text-align: right;\n",
       "    }\n",
       "</style>\n",
       "<table border=\"1\" class=\"dataframe\">\n",
       "  <thead>\n",
       "    <tr style=\"text-align: right;\">\n",
       "      <th></th>\n",
       "      <th>tickers</th>\n",
       "    </tr>\n",
       "  </thead>\n",
       "  <tbody>\n",
       "    <tr>\n",
       "      <th>2025-09-15</th>\n",
       "      <td>[A, AAPL, ABBV, ABNB, ABT, ACGL, ACN, ADBE, AD...</td>\n",
       "    </tr>\n",
       "    <tr>\n",
       "      <th>2025-08-28</th>\n",
       "      <td>[AAPL, ABBV, ABNB, ABT, ACGL, ACN, ADBE, ADI, ...</td>\n",
       "    </tr>\n",
       "    <tr>\n",
       "      <th>2025-07-23</th>\n",
       "      <td>[AAPL, ABBV, ABNB, ABT, ACGL, ACN, ADBE, ADI, ...</td>\n",
       "    </tr>\n",
       "    <tr>\n",
       "      <th>2025-07-18</th>\n",
       "      <td>[AAPL, ABBV, ABNB, ABT, ACGL, ACN, ADBE, ADI, ...</td>\n",
       "    </tr>\n",
       "    <tr>\n",
       "      <th>2025-07-09</th>\n",
       "      <td>[AAPL, ABBV, ABNB, ABT, ACGL, ACN, ADBE, ADI, ...</td>\n",
       "    </tr>\n",
       "    <tr>\n",
       "      <th>...</th>\n",
       "      <td>...</td>\n",
       "    </tr>\n",
       "    <tr>\n",
       "      <th>1999-04-12</th>\n",
       "      <td>[A, AAPL, ABBV, ABNB, ABT, ACGL, ACN, ADBE, AD...</td>\n",
       "    </tr>\n",
       "    <tr>\n",
       "      <th>1998-12-11</th>\n",
       "      <td>[AAPL, ABBV, ABNB, ABT, ACGL, ACN, ADBE, ADI, ...</td>\n",
       "    </tr>\n",
       "    <tr>\n",
       "      <th>1997-06-17</th>\n",
       "      <td>[AAPL, ABBV, ABNB, ABT, ACGL, ACN, ADBE, ADI, ...</td>\n",
       "    </tr>\n",
       "    <tr>\n",
       "      <th>1994-09-30</th>\n",
       "      <td>[AAPL, ABBV, ABNB, ABT, ACGL, ACN, ADBE, ADI, ...</td>\n",
       "    </tr>\n",
       "    <tr>\n",
       "      <th>1976-07-01</th>\n",
       "      <td>[AAPL, ABBV, ABNB, ABT, ACGL, ACN, ADBE, ADI, ...</td>\n",
       "    </tr>\n",
       "  </tbody>\n",
       "</table>\n",
       "<p>285 rows × 1 columns</p>\n",
       "</div>"
      ]
     },
     "execution_count": 10,
     "metadata": {},
     "output_type": "execute_result"
    }
   ],
   "execution_count": 10
  },
  {
   "metadata": {
    "ExecuteTime": {
     "end_time": "2025-09-15T14:27:33.254740Z",
     "start_time": "2025-09-15T14:27:32.865920Z"
    }
   },
   "cell_type": "code",
   "source": [
    "\n",
    "data_SP500_old = pd.read_parquet('/Users/forget/Library/Mobile Documents/com~apple~CloudDocs/Project Stock Market Deep Learning/Data/data_SP500.parquet')\n",
    "last_date = data_SP500_old['Date'].sort_values(ascending=True).iloc[-1] + timedelta(days=1)\n",
    "last_date\n"
   ],
   "id": "d328e69739b0f844",
   "outputs": [
    {
     "data": {
      "text/plain": [
       "Timestamp('2025-09-13 00:00:00')"
      ]
     },
     "execution_count": 11,
     "metadata": {},
     "output_type": "execute_result"
    }
   ],
   "execution_count": 11
  },
  {
   "metadata": {
    "ExecuteTime": {
     "end_time": "2025-09-15T14:27:33.264129Z",
     "start_time": "2025-09-15T14:27:33.257877Z"
    }
   },
   "cell_type": "code",
   "source": [
    "df['Last_Date'] = last_date\n",
    "df"
   ],
   "id": "4ee6f7fd0f2fe091",
   "outputs": [
    {
     "data": {
      "text/plain": [
       "                                                      tickers  Last_Date\n",
       "2025-09-15  [A, AAPL, ABBV, ABNB, ABT, ACGL, ACN, ADBE, AD... 2025-09-13\n",
       "2025-08-28  [AAPL, ABBV, ABNB, ABT, ACGL, ACN, ADBE, ADI, ... 2025-09-13\n",
       "2025-07-23  [AAPL, ABBV, ABNB, ABT, ACGL, ACN, ADBE, ADI, ... 2025-09-13\n",
       "2025-07-18  [AAPL, ABBV, ABNB, ABT, ACGL, ACN, ADBE, ADI, ... 2025-09-13\n",
       "2025-07-09  [AAPL, ABBV, ABNB, ABT, ACGL, ACN, ADBE, ADI, ... 2025-09-13\n",
       "...                                                       ...        ...\n",
       "1999-04-12  [A, AAPL, ABBV, ABNB, ABT, ACGL, ACN, ADBE, AD... 2025-09-13\n",
       "1998-12-11  [AAPL, ABBV, ABNB, ABT, ACGL, ACN, ADBE, ADI, ... 2025-09-13\n",
       "1997-06-17  [AAPL, ABBV, ABNB, ABT, ACGL, ACN, ADBE, ADI, ... 2025-09-13\n",
       "1994-09-30  [AAPL, ABBV, ABNB, ABT, ACGL, ACN, ADBE, ADI, ... 2025-09-13\n",
       "1976-07-01  [AAPL, ABBV, ABNB, ABT, ACGL, ACN, ADBE, ADI, ... 2025-09-13\n",
       "\n",
       "[285 rows x 2 columns]"
      ],
      "text/html": [
       "<div>\n",
       "<style scoped>\n",
       "    .dataframe tbody tr th:only-of-type {\n",
       "        vertical-align: middle;\n",
       "    }\n",
       "\n",
       "    .dataframe tbody tr th {\n",
       "        vertical-align: top;\n",
       "    }\n",
       "\n",
       "    .dataframe thead th {\n",
       "        text-align: right;\n",
       "    }\n",
       "</style>\n",
       "<table border=\"1\" class=\"dataframe\">\n",
       "  <thead>\n",
       "    <tr style=\"text-align: right;\">\n",
       "      <th></th>\n",
       "      <th>tickers</th>\n",
       "      <th>Last_Date</th>\n",
       "    </tr>\n",
       "  </thead>\n",
       "  <tbody>\n",
       "    <tr>\n",
       "      <th>2025-09-15</th>\n",
       "      <td>[A, AAPL, ABBV, ABNB, ABT, ACGL, ACN, ADBE, AD...</td>\n",
       "      <td>2025-09-13</td>\n",
       "    </tr>\n",
       "    <tr>\n",
       "      <th>2025-08-28</th>\n",
       "      <td>[AAPL, ABBV, ABNB, ABT, ACGL, ACN, ADBE, ADI, ...</td>\n",
       "      <td>2025-09-13</td>\n",
       "    </tr>\n",
       "    <tr>\n",
       "      <th>2025-07-23</th>\n",
       "      <td>[AAPL, ABBV, ABNB, ABT, ACGL, ACN, ADBE, ADI, ...</td>\n",
       "      <td>2025-09-13</td>\n",
       "    </tr>\n",
       "    <tr>\n",
       "      <th>2025-07-18</th>\n",
       "      <td>[AAPL, ABBV, ABNB, ABT, ACGL, ACN, ADBE, ADI, ...</td>\n",
       "      <td>2025-09-13</td>\n",
       "    </tr>\n",
       "    <tr>\n",
       "      <th>2025-07-09</th>\n",
       "      <td>[AAPL, ABBV, ABNB, ABT, ACGL, ACN, ADBE, ADI, ...</td>\n",
       "      <td>2025-09-13</td>\n",
       "    </tr>\n",
       "    <tr>\n",
       "      <th>...</th>\n",
       "      <td>...</td>\n",
       "      <td>...</td>\n",
       "    </tr>\n",
       "    <tr>\n",
       "      <th>1999-04-12</th>\n",
       "      <td>[A, AAPL, ABBV, ABNB, ABT, ACGL, ACN, ADBE, AD...</td>\n",
       "      <td>2025-09-13</td>\n",
       "    </tr>\n",
       "    <tr>\n",
       "      <th>1998-12-11</th>\n",
       "      <td>[AAPL, ABBV, ABNB, ABT, ACGL, ACN, ADBE, ADI, ...</td>\n",
       "      <td>2025-09-13</td>\n",
       "    </tr>\n",
       "    <tr>\n",
       "      <th>1997-06-17</th>\n",
       "      <td>[AAPL, ABBV, ABNB, ABT, ACGL, ACN, ADBE, ADI, ...</td>\n",
       "      <td>2025-09-13</td>\n",
       "    </tr>\n",
       "    <tr>\n",
       "      <th>1994-09-30</th>\n",
       "      <td>[AAPL, ABBV, ABNB, ABT, ACGL, ACN, ADBE, ADI, ...</td>\n",
       "      <td>2025-09-13</td>\n",
       "    </tr>\n",
       "    <tr>\n",
       "      <th>1976-07-01</th>\n",
       "      <td>[AAPL, ABBV, ABNB, ABT, ACGL, ACN, ADBE, ADI, ...</td>\n",
       "      <td>2025-09-13</td>\n",
       "    </tr>\n",
       "  </tbody>\n",
       "</table>\n",
       "<p>285 rows × 2 columns</p>\n",
       "</div>"
      ]
     },
     "execution_count": 12,
     "metadata": {},
     "output_type": "execute_result"
    }
   ],
   "execution_count": 12
  },
  {
   "metadata": {
    "ExecuteTime": {
     "end_time": "2025-09-15T14:27:33.296829Z",
     "start_time": "2025-09-15T14:27:33.279624Z"
    }
   },
   "cell_type": "code",
   "source": [
    "\n",
    "# Initialiser une DataFrame vide pour stocker toutes les données\n",
    "data_SP500 = pd.DataFrame()\n",
    "\n",
    "df = df.explode('tickers')\n",
    "end_date = df[df.index > last_date].groupby('tickers').apply(lambda x: x.index.max())\n",
    "\n",
    "# Combiner les résultats dans une nouvelle DataFrame\n",
    "resultat = pd.DataFrame({'Start': last_date, 'End': end_date})\n",
    "resultat\n"
   ],
   "id": "1b8881d53f757d6b",
   "outputs": [
    {
     "name": "stderr",
     "output_type": "stream",
     "text": [
      "/var/folders/6k/82j2nnl13hj9ld7nmzpdt6fh0000gn/T/ipykernel_3539/2328952231.py:5: FutureWarning: DataFrameGroupBy.apply operated on the grouping columns. This behavior is deprecated, and in a future version of pandas the grouping columns will be excluded from the operation. Either pass `include_groups=False` to exclude the groupings or explicitly select the grouping columns after groupby to silence this warning.\n",
      "  end_date = df[df.index > last_date].groupby('tickers').apply(lambda x: x.index.max())\n"
     ]
    },
    {
     "data": {
      "text/plain": [
       "             Start        End\n",
       "tickers                      \n",
       "A       2025-09-13 2025-09-15\n",
       "AAPL    2025-09-13 2025-09-15\n",
       "ABBV    2025-09-13 2025-09-15\n",
       "ABNB    2025-09-13 2025-09-15\n",
       "ABT     2025-09-13 2025-09-15\n",
       "...            ...        ...\n",
       "XYZ     2025-09-13 2025-09-15\n",
       "YUM     2025-09-13 2025-09-15\n",
       "ZBH     2025-09-13 2025-09-15\n",
       "ZBRA    2025-09-13 2025-09-15\n",
       "ZTS     2025-09-13 2025-09-15\n",
       "\n",
       "[498 rows x 2 columns]"
      ],
      "text/html": [
       "<div>\n",
       "<style scoped>\n",
       "    .dataframe tbody tr th:only-of-type {\n",
       "        vertical-align: middle;\n",
       "    }\n",
       "\n",
       "    .dataframe tbody tr th {\n",
       "        vertical-align: top;\n",
       "    }\n",
       "\n",
       "    .dataframe thead th {\n",
       "        text-align: right;\n",
       "    }\n",
       "</style>\n",
       "<table border=\"1\" class=\"dataframe\">\n",
       "  <thead>\n",
       "    <tr style=\"text-align: right;\">\n",
       "      <th></th>\n",
       "      <th>Start</th>\n",
       "      <th>End</th>\n",
       "    </tr>\n",
       "    <tr>\n",
       "      <th>tickers</th>\n",
       "      <th></th>\n",
       "      <th></th>\n",
       "    </tr>\n",
       "  </thead>\n",
       "  <tbody>\n",
       "    <tr>\n",
       "      <th>A</th>\n",
       "      <td>2025-09-13</td>\n",
       "      <td>2025-09-15</td>\n",
       "    </tr>\n",
       "    <tr>\n",
       "      <th>AAPL</th>\n",
       "      <td>2025-09-13</td>\n",
       "      <td>2025-09-15</td>\n",
       "    </tr>\n",
       "    <tr>\n",
       "      <th>ABBV</th>\n",
       "      <td>2025-09-13</td>\n",
       "      <td>2025-09-15</td>\n",
       "    </tr>\n",
       "    <tr>\n",
       "      <th>ABNB</th>\n",
       "      <td>2025-09-13</td>\n",
       "      <td>2025-09-15</td>\n",
       "    </tr>\n",
       "    <tr>\n",
       "      <th>ABT</th>\n",
       "      <td>2025-09-13</td>\n",
       "      <td>2025-09-15</td>\n",
       "    </tr>\n",
       "    <tr>\n",
       "      <th>...</th>\n",
       "      <td>...</td>\n",
       "      <td>...</td>\n",
       "    </tr>\n",
       "    <tr>\n",
       "      <th>XYZ</th>\n",
       "      <td>2025-09-13</td>\n",
       "      <td>2025-09-15</td>\n",
       "    </tr>\n",
       "    <tr>\n",
       "      <th>YUM</th>\n",
       "      <td>2025-09-13</td>\n",
       "      <td>2025-09-15</td>\n",
       "    </tr>\n",
       "    <tr>\n",
       "      <th>ZBH</th>\n",
       "      <td>2025-09-13</td>\n",
       "      <td>2025-09-15</td>\n",
       "    </tr>\n",
       "    <tr>\n",
       "      <th>ZBRA</th>\n",
       "      <td>2025-09-13</td>\n",
       "      <td>2025-09-15</td>\n",
       "    </tr>\n",
       "    <tr>\n",
       "      <th>ZTS</th>\n",
       "      <td>2025-09-13</td>\n",
       "      <td>2025-09-15</td>\n",
       "    </tr>\n",
       "  </tbody>\n",
       "</table>\n",
       "<p>498 rows × 2 columns</p>\n",
       "</div>"
      ]
     },
     "execution_count": 13,
     "metadata": {},
     "output_type": "execute_result"
    }
   ],
   "execution_count": 13
  },
  {
   "metadata": {
    "ExecuteTime": {
     "end_time": "2025-09-15T14:27:33.313524Z",
     "start_time": "2025-09-15T14:27:33.311505Z"
    }
   },
   "cell_type": "code",
   "source": [
    "\"\"\"\n",
    "# Initialiser une DataFrame vide pour stocker toutes les données\n",
    "data_SP500 = pd.DataFrame()\n",
    "\n",
    "df = df.explode('tickers')\n",
    "start_date = df.groupby('tickers').apply(lambda x: x.index.min())\n",
    "end_date = df.groupby('tickers').apply(lambda x: x.index.max())\n",
    "\n",
    "# Combiner les résultats dans une nouvelle DataFrame\n",
    "resultat = pd.DataFrame({'Start': start_date, 'End': end_date})\n",
    "resultat\n",
    "\"\"\""
   ],
   "id": "435eb2e7a8761814",
   "outputs": [
    {
     "data": {
      "text/plain": [
       "\"\\n# Initialiser une DataFrame vide pour stocker toutes les données\\ndata_SP500 = pd.DataFrame()\\n\\ndf = df.explode('tickers')\\nstart_date = df.groupby('tickers').apply(lambda x: x.index.min())\\nend_date = df.groupby('tickers').apply(lambda x: x.index.max())\\n\\n# Combiner les résultats dans une nouvelle DataFrame\\nresultat = pd.DataFrame({'Start': start_date, 'End': end_date})\\nresultat\\n\""
      ]
     },
     "execution_count": 14,
     "metadata": {},
     "output_type": "execute_result"
    }
   ],
   "execution_count": 14
  },
  {
   "cell_type": "code",
   "id": "8edfe1d8-b9a5-4a07-ae0a-164b36e7b60c",
   "metadata": {
    "ExecuteTime": {
     "end_time": "2025-09-15T14:30:41.331549Z",
     "start_time": "2025-09-15T14:27:33.560884Z"
    }
   },
   "source": [
    "# Télécharger les données pour chaque ticker\n",
    "for ticker in resultat.index:\n",
    "    start_date = resultat.loc[ticker, 'Start']\n",
    "    end_date = resultat.loc[ticker, 'End']\n",
    "\n",
    "    print(f\"Téléchargement des données pour {ticker} de {start_date} à {end_date}\")\n",
    "\n",
    "    # Télécharger les données de l'action entre les dates spécifiées\n",
    "    data = yf.download(\n",
    "                        ticker,\n",
    "                        start=start_date,\n",
    "                        end=end_date,\n",
    "                        interval=\"1d\",\n",
    "                        auto_adjust=True,\n",
    "                        actions=False\n",
    "                        )\n",
    "\n",
    "    # Ajouter une colonne pour identifier le ticker\n",
    "    data['Ticker'] = ticker\n",
    "\n",
    "    # On retire le niveau des tickers pour ne garder que 'Close' et 'Volume'\n",
    "    data.columns = data.columns.droplevel(level=1)\n",
    "    \n",
    "    # Concaténer les données dans la DataFrame globale\n",
    "    data_SP500 = pd.concat([data_SP500, data])\n",
    "\n",
    "# Affichage de la DataFrame résultante\n",
    "data_SP500"
   ],
   "outputs": [
    {
     "name": "stdout",
     "output_type": "stream",
     "text": [
      "Téléchargement des données pour A de 2025-09-13 00:00:00 à 2025-09-15 00:00:00\n"
     ]
    },
    {
     "name": "stderr",
     "output_type": "stream",
     "text": [
      "[*********************100%***********************]  1 of 1 completed\n",
      "\n",
      "1 Failed download:\n",
      "['A']: YFPricesMissingError('possibly delisted; no price data found  (1d 2025-09-13 00:00:00 -> 2025-09-15 00:00:00)')\n"
     ]
    },
    {
     "name": "stdout",
     "output_type": "stream",
     "text": [
      "Téléchargement des données pour AAPL de 2025-09-13 00:00:00 à 2025-09-15 00:00:00\n"
     ]
    },
    {
     "name": "stderr",
     "output_type": "stream",
     "text": [
      "[*********************100%***********************]  1 of 1 completed\n",
      "\n",
      "1 Failed download:\n",
      "['AAPL']: YFPricesMissingError('possibly delisted; no price data found  (1d 2025-09-13 00:00:00 -> 2025-09-15 00:00:00)')\n"
     ]
    },
    {
     "name": "stdout",
     "output_type": "stream",
     "text": [
      "Téléchargement des données pour ABBV de 2025-09-13 00:00:00 à 2025-09-15 00:00:00\n"
     ]
    },
    {
     "name": "stderr",
     "output_type": "stream",
     "text": [
      "[*********************100%***********************]  1 of 1 completed\n",
      "\n",
      "1 Failed download:\n",
      "['ABBV']: YFPricesMissingError('possibly delisted; no price data found  (1d 2025-09-13 00:00:00 -> 2025-09-15 00:00:00)')\n"
     ]
    },
    {
     "name": "stdout",
     "output_type": "stream",
     "text": [
      "Téléchargement des données pour ABNB de 2025-09-13 00:00:00 à 2025-09-15 00:00:00\n"
     ]
    },
    {
     "name": "stderr",
     "output_type": "stream",
     "text": [
      "[*********************100%***********************]  1 of 1 completed\n",
      "\n",
      "1 Failed download:\n",
      "['ABNB']: YFPricesMissingError('possibly delisted; no price data found  (1d 2025-09-13 00:00:00 -> 2025-09-15 00:00:00)')\n"
     ]
    },
    {
     "name": "stdout",
     "output_type": "stream",
     "text": [
      "Téléchargement des données pour ABT de 2025-09-13 00:00:00 à 2025-09-15 00:00:00\n"
     ]
    },
    {
     "name": "stderr",
     "output_type": "stream",
     "text": [
      "[*********************100%***********************]  1 of 1 completed\n",
      "\n",
      "1 Failed download:\n",
      "['ABT']: YFPricesMissingError('possibly delisted; no price data found  (1d 2025-09-13 00:00:00 -> 2025-09-15 00:00:00)')\n"
     ]
    },
    {
     "name": "stdout",
     "output_type": "stream",
     "text": [
      "Téléchargement des données pour ACGL de 2025-09-13 00:00:00 à 2025-09-15 00:00:00\n"
     ]
    },
    {
     "name": "stderr",
     "output_type": "stream",
     "text": [
      "[*********************100%***********************]  1 of 1 completed\n",
      "\n",
      "1 Failed download:\n",
      "['ACGL']: YFPricesMissingError('possibly delisted; no price data found  (1d 2025-09-13 00:00:00 -> 2025-09-15 00:00:00)')\n"
     ]
    },
    {
     "name": "stdout",
     "output_type": "stream",
     "text": [
      "Téléchargement des données pour ACN de 2025-09-13 00:00:00 à 2025-09-15 00:00:00\n"
     ]
    },
    {
     "name": "stderr",
     "output_type": "stream",
     "text": [
      "[*********************100%***********************]  1 of 1 completed\n",
      "\n",
      "1 Failed download:\n",
      "['ACN']: YFPricesMissingError('possibly delisted; no price data found  (1d 2025-09-13 00:00:00 -> 2025-09-15 00:00:00)')\n"
     ]
    },
    {
     "name": "stdout",
     "output_type": "stream",
     "text": [
      "Téléchargement des données pour ADBE de 2025-09-13 00:00:00 à 2025-09-15 00:00:00\n"
     ]
    },
    {
     "name": "stderr",
     "output_type": "stream",
     "text": [
      "[*********************100%***********************]  1 of 1 completed\n",
      "\n",
      "1 Failed download:\n",
      "['ADBE']: YFPricesMissingError('possibly delisted; no price data found  (1d 2025-09-13 00:00:00 -> 2025-09-15 00:00:00)')\n"
     ]
    },
    {
     "name": "stdout",
     "output_type": "stream",
     "text": [
      "Téléchargement des données pour ADI de 2025-09-13 00:00:00 à 2025-09-15 00:00:00\n"
     ]
    },
    {
     "name": "stderr",
     "output_type": "stream",
     "text": [
      "[*********************100%***********************]  1 of 1 completed\n",
      "\n",
      "1 Failed download:\n",
      "['ADI']: YFPricesMissingError('possibly delisted; no price data found  (1d 2025-09-13 00:00:00 -> 2025-09-15 00:00:00)')\n"
     ]
    },
    {
     "name": "stdout",
     "output_type": "stream",
     "text": [
      "Téléchargement des données pour ADM de 2025-09-13 00:00:00 à 2025-09-15 00:00:00\n"
     ]
    },
    {
     "name": "stderr",
     "output_type": "stream",
     "text": [
      "[*********************100%***********************]  1 of 1 completed\n",
      "\n",
      "1 Failed download:\n",
      "['ADM']: YFPricesMissingError('possibly delisted; no price data found  (1d 2025-09-13 00:00:00 -> 2025-09-15 00:00:00)')\n"
     ]
    },
    {
     "name": "stdout",
     "output_type": "stream",
     "text": [
      "Téléchargement des données pour ADP de 2025-09-13 00:00:00 à 2025-09-15 00:00:00\n"
     ]
    },
    {
     "name": "stderr",
     "output_type": "stream",
     "text": [
      "[*********************100%***********************]  1 of 1 completed\n",
      "\n",
      "1 Failed download:\n",
      "['ADP']: YFPricesMissingError('possibly delisted; no price data found  (1d 2025-09-13 00:00:00 -> 2025-09-15 00:00:00)')\n"
     ]
    },
    {
     "name": "stdout",
     "output_type": "stream",
     "text": [
      "Téléchargement des données pour ADSK de 2025-09-13 00:00:00 à 2025-09-15 00:00:00\n"
     ]
    },
    {
     "name": "stderr",
     "output_type": "stream",
     "text": [
      "[*********************100%***********************]  1 of 1 completed\n",
      "\n",
      "1 Failed download:\n",
      "['ADSK']: YFPricesMissingError('possibly delisted; no price data found  (1d 2025-09-13 00:00:00 -> 2025-09-15 00:00:00)')\n"
     ]
    },
    {
     "name": "stdout",
     "output_type": "stream",
     "text": [
      "Téléchargement des données pour AEE de 2025-09-13 00:00:00 à 2025-09-15 00:00:00\n"
     ]
    },
    {
     "name": "stderr",
     "output_type": "stream",
     "text": [
      "[*********************100%***********************]  1 of 1 completed\n",
      "\n",
      "1 Failed download:\n",
      "['AEE']: YFPricesMissingError('possibly delisted; no price data found  (1d 2025-09-13 00:00:00 -> 2025-09-15 00:00:00)')\n"
     ]
    },
    {
     "name": "stdout",
     "output_type": "stream",
     "text": [
      "Téléchargement des données pour AEP de 2025-09-13 00:00:00 à 2025-09-15 00:00:00\n"
     ]
    },
    {
     "name": "stderr",
     "output_type": "stream",
     "text": [
      "[*********************100%***********************]  1 of 1 completed\n",
      "\n",
      "1 Failed download:\n",
      "['AEP']: YFPricesMissingError('possibly delisted; no price data found  (1d 2025-09-13 00:00:00 -> 2025-09-15 00:00:00)')\n"
     ]
    },
    {
     "name": "stdout",
     "output_type": "stream",
     "text": [
      "Téléchargement des données pour AES de 2025-09-13 00:00:00 à 2025-09-15 00:00:00\n"
     ]
    },
    {
     "name": "stderr",
     "output_type": "stream",
     "text": [
      "[*********************100%***********************]  1 of 1 completed\n",
      "\n",
      "1 Failed download:\n",
      "['AES']: YFPricesMissingError('possibly delisted; no price data found  (1d 2025-09-13 00:00:00 -> 2025-09-15 00:00:00)')\n"
     ]
    },
    {
     "name": "stdout",
     "output_type": "stream",
     "text": [
      "Téléchargement des données pour AFL de 2025-09-13 00:00:00 à 2025-09-15 00:00:00\n"
     ]
    },
    {
     "name": "stderr",
     "output_type": "stream",
     "text": [
      "[*********************100%***********************]  1 of 1 completed\n",
      "\n",
      "1 Failed download:\n",
      "['AFL']: YFPricesMissingError('possibly delisted; no price data found  (1d 2025-09-13 00:00:00 -> 2025-09-15 00:00:00)')\n"
     ]
    },
    {
     "name": "stdout",
     "output_type": "stream",
     "text": [
      "Téléchargement des données pour AIG de 2025-09-13 00:00:00 à 2025-09-15 00:00:00\n"
     ]
    },
    {
     "name": "stderr",
     "output_type": "stream",
     "text": [
      "[*********************100%***********************]  1 of 1 completed\n",
      "\n",
      "1 Failed download:\n",
      "['AIG']: YFPricesMissingError('possibly delisted; no price data found  (1d 2025-09-13 00:00:00 -> 2025-09-15 00:00:00)')\n"
     ]
    },
    {
     "name": "stdout",
     "output_type": "stream",
     "text": [
      "Téléchargement des données pour AIZ de 2025-09-13 00:00:00 à 2025-09-15 00:00:00\n"
     ]
    },
    {
     "name": "stderr",
     "output_type": "stream",
     "text": [
      "[*********************100%***********************]  1 of 1 completed\n",
      "\n",
      "1 Failed download:\n",
      "['AIZ']: YFPricesMissingError('possibly delisted; no price data found  (1d 2025-09-13 00:00:00 -> 2025-09-15 00:00:00)')\n"
     ]
    },
    {
     "name": "stdout",
     "output_type": "stream",
     "text": [
      "Téléchargement des données pour AJG de 2025-09-13 00:00:00 à 2025-09-15 00:00:00\n"
     ]
    },
    {
     "name": "stderr",
     "output_type": "stream",
     "text": [
      "[*********************100%***********************]  1 of 1 completed\n",
      "\n",
      "1 Failed download:\n",
      "['AJG']: YFPricesMissingError('possibly delisted; no price data found  (1d 2025-09-13 00:00:00 -> 2025-09-15 00:00:00)')\n"
     ]
    },
    {
     "name": "stdout",
     "output_type": "stream",
     "text": [
      "Téléchargement des données pour AKAM de 2025-09-13 00:00:00 à 2025-09-15 00:00:00\n"
     ]
    },
    {
     "name": "stderr",
     "output_type": "stream",
     "text": [
      "[*********************100%***********************]  1 of 1 completed\n",
      "\n",
      "1 Failed download:\n",
      "['AKAM']: YFPricesMissingError('possibly delisted; no price data found  (1d 2025-09-13 00:00:00 -> 2025-09-15 00:00:00)')\n"
     ]
    },
    {
     "name": "stdout",
     "output_type": "stream",
     "text": [
      "Téléchargement des données pour ALB de 2025-09-13 00:00:00 à 2025-09-15 00:00:00\n"
     ]
    },
    {
     "name": "stderr",
     "output_type": "stream",
     "text": [
      "[*********************100%***********************]  1 of 1 completed\n",
      "\n",
      "1 Failed download:\n",
      "['ALB']: YFPricesMissingError('possibly delisted; no price data found  (1d 2025-09-13 00:00:00 -> 2025-09-15 00:00:00)')\n"
     ]
    },
    {
     "name": "stdout",
     "output_type": "stream",
     "text": [
      "Téléchargement des données pour ALGN de 2025-09-13 00:00:00 à 2025-09-15 00:00:00\n"
     ]
    },
    {
     "name": "stderr",
     "output_type": "stream",
     "text": [
      "[*********************100%***********************]  1 of 1 completed\n",
      "\n",
      "1 Failed download:\n",
      "['ALGN']: YFPricesMissingError('possibly delisted; no price data found  (1d 2025-09-13 00:00:00 -> 2025-09-15 00:00:00)')\n"
     ]
    },
    {
     "name": "stdout",
     "output_type": "stream",
     "text": [
      "Téléchargement des données pour ALL de 2025-09-13 00:00:00 à 2025-09-15 00:00:00\n"
     ]
    },
    {
     "name": "stderr",
     "output_type": "stream",
     "text": [
      "[*********************100%***********************]  1 of 1 completed\n",
      "\n",
      "1 Failed download:\n",
      "['ALL']: YFPricesMissingError('possibly delisted; no price data found  (1d 2025-09-13 00:00:00 -> 2025-09-15 00:00:00)')\n"
     ]
    },
    {
     "name": "stdout",
     "output_type": "stream",
     "text": [
      "Téléchargement des données pour ALLE de 2025-09-13 00:00:00 à 2025-09-15 00:00:00\n"
     ]
    },
    {
     "name": "stderr",
     "output_type": "stream",
     "text": [
      "[*********************100%***********************]  1 of 1 completed\n",
      "\n",
      "1 Failed download:\n",
      "['ALLE']: YFPricesMissingError('possibly delisted; no price data found  (1d 2025-09-13 00:00:00 -> 2025-09-15 00:00:00)')\n"
     ]
    },
    {
     "name": "stdout",
     "output_type": "stream",
     "text": [
      "Téléchargement des données pour AMAT de 2025-09-13 00:00:00 à 2025-09-15 00:00:00\n"
     ]
    },
    {
     "name": "stderr",
     "output_type": "stream",
     "text": [
      "[*********************100%***********************]  1 of 1 completed\n",
      "\n",
      "1 Failed download:\n",
      "['AMAT']: YFPricesMissingError('possibly delisted; no price data found  (1d 2025-09-13 00:00:00 -> 2025-09-15 00:00:00)')\n"
     ]
    },
    {
     "name": "stdout",
     "output_type": "stream",
     "text": [
      "Téléchargement des données pour AMCR de 2025-09-13 00:00:00 à 2025-09-15 00:00:00\n"
     ]
    },
    {
     "name": "stderr",
     "output_type": "stream",
     "text": [
      "[*********************100%***********************]  1 of 1 completed\n",
      "\n",
      "1 Failed download:\n",
      "['AMCR']: YFPricesMissingError('possibly delisted; no price data found  (1d 2025-09-13 00:00:00 -> 2025-09-15 00:00:00)')\n"
     ]
    },
    {
     "name": "stdout",
     "output_type": "stream",
     "text": [
      "Téléchargement des données pour AMD de 2025-09-13 00:00:00 à 2025-09-15 00:00:00\n"
     ]
    },
    {
     "name": "stderr",
     "output_type": "stream",
     "text": [
      "[*********************100%***********************]  1 of 1 completed\n",
      "\n",
      "1 Failed download:\n",
      "['AMD']: YFPricesMissingError('possibly delisted; no price data found  (1d 2025-09-13 00:00:00 -> 2025-09-15 00:00:00)')\n"
     ]
    },
    {
     "name": "stdout",
     "output_type": "stream",
     "text": [
      "Téléchargement des données pour AME de 2025-09-13 00:00:00 à 2025-09-15 00:00:00\n"
     ]
    },
    {
     "name": "stderr",
     "output_type": "stream",
     "text": [
      "[*********************100%***********************]  1 of 1 completed\n",
      "\n",
      "1 Failed download:\n",
      "['AME']: YFPricesMissingError('possibly delisted; no price data found  (1d 2025-09-13 00:00:00 -> 2025-09-15 00:00:00)')\n"
     ]
    },
    {
     "name": "stdout",
     "output_type": "stream",
     "text": [
      "Téléchargement des données pour AMGN de 2025-09-13 00:00:00 à 2025-09-15 00:00:00\n"
     ]
    },
    {
     "name": "stderr",
     "output_type": "stream",
     "text": [
      "[*********************100%***********************]  1 of 1 completed\n",
      "\n",
      "1 Failed download:\n",
      "['AMGN']: YFPricesMissingError('possibly delisted; no price data found  (1d 2025-09-13 00:00:00 -> 2025-09-15 00:00:00)')\n"
     ]
    },
    {
     "name": "stdout",
     "output_type": "stream",
     "text": [
      "Téléchargement des données pour AMP de 2025-09-13 00:00:00 à 2025-09-15 00:00:00\n"
     ]
    },
    {
     "name": "stderr",
     "output_type": "stream",
     "text": [
      "[*********************100%***********************]  1 of 1 completed\n",
      "\n",
      "1 Failed download:\n",
      "['AMP']: YFPricesMissingError('possibly delisted; no price data found  (1d 2025-09-13 00:00:00 -> 2025-09-15 00:00:00)')\n"
     ]
    },
    {
     "name": "stdout",
     "output_type": "stream",
     "text": [
      "Téléchargement des données pour AMT de 2025-09-13 00:00:00 à 2025-09-15 00:00:00\n"
     ]
    },
    {
     "name": "stderr",
     "output_type": "stream",
     "text": [
      "[*********************100%***********************]  1 of 1 completed\n",
      "\n",
      "1 Failed download:\n",
      "['AMT']: YFPricesMissingError('possibly delisted; no price data found  (1d 2025-09-13 00:00:00 -> 2025-09-15 00:00:00)')\n"
     ]
    },
    {
     "name": "stdout",
     "output_type": "stream",
     "text": [
      "Téléchargement des données pour AMZN de 2025-09-13 00:00:00 à 2025-09-15 00:00:00\n"
     ]
    },
    {
     "name": "stderr",
     "output_type": "stream",
     "text": [
      "[*********************100%***********************]  1 of 1 completed\n",
      "\n",
      "1 Failed download:\n",
      "['AMZN']: YFPricesMissingError('possibly delisted; no price data found  (1d 2025-09-13 00:00:00 -> 2025-09-15 00:00:00)')\n"
     ]
    },
    {
     "name": "stdout",
     "output_type": "stream",
     "text": [
      "Téléchargement des données pour ANET de 2025-09-13 00:00:00 à 2025-09-15 00:00:00\n"
     ]
    },
    {
     "name": "stderr",
     "output_type": "stream",
     "text": [
      "[*********************100%***********************]  1 of 1 completed\n",
      "\n",
      "1 Failed download:\n",
      "['ANET']: YFPricesMissingError('possibly delisted; no price data found  (1d 2025-09-13 00:00:00 -> 2025-09-15 00:00:00)')\n"
     ]
    },
    {
     "name": "stdout",
     "output_type": "stream",
     "text": [
      "Téléchargement des données pour AON de 2025-09-13 00:00:00 à 2025-09-15 00:00:00\n"
     ]
    },
    {
     "name": "stderr",
     "output_type": "stream",
     "text": [
      "[*********************100%***********************]  1 of 1 completed\n",
      "\n",
      "1 Failed download:\n",
      "['AON']: YFPricesMissingError('possibly delisted; no price data found  (1d 2025-09-13 00:00:00 -> 2025-09-15 00:00:00)')\n"
     ]
    },
    {
     "name": "stdout",
     "output_type": "stream",
     "text": [
      "Téléchargement des données pour AOS de 2025-09-13 00:00:00 à 2025-09-15 00:00:00\n"
     ]
    },
    {
     "name": "stderr",
     "output_type": "stream",
     "text": [
      "[*********************100%***********************]  1 of 1 completed\n",
      "\n",
      "1 Failed download:\n",
      "['AOS']: YFPricesMissingError('possibly delisted; no price data found  (1d 2025-09-13 00:00:00 -> 2025-09-15 00:00:00)')\n"
     ]
    },
    {
     "name": "stdout",
     "output_type": "stream",
     "text": [
      "Téléchargement des données pour APA de 2025-09-13 00:00:00 à 2025-09-15 00:00:00\n"
     ]
    },
    {
     "name": "stderr",
     "output_type": "stream",
     "text": [
      "[*********************100%***********************]  1 of 1 completed\n",
      "\n",
      "1 Failed download:\n",
      "['APA']: YFPricesMissingError('possibly delisted; no price data found  (1d 2025-09-13 00:00:00 -> 2025-09-15 00:00:00)')\n"
     ]
    },
    {
     "name": "stdout",
     "output_type": "stream",
     "text": [
      "Téléchargement des données pour APD de 2025-09-13 00:00:00 à 2025-09-15 00:00:00\n"
     ]
    },
    {
     "name": "stderr",
     "output_type": "stream",
     "text": [
      "[*********************100%***********************]  1 of 1 completed\n",
      "\n",
      "1 Failed download:\n",
      "['APD']: YFPricesMissingError('possibly delisted; no price data found  (1d 2025-09-13 00:00:00 -> 2025-09-15 00:00:00)')\n"
     ]
    },
    {
     "name": "stdout",
     "output_type": "stream",
     "text": [
      "Téléchargement des données pour APH de 2025-09-13 00:00:00 à 2025-09-15 00:00:00\n"
     ]
    },
    {
     "name": "stderr",
     "output_type": "stream",
     "text": [
      "[*********************100%***********************]  1 of 1 completed\n",
      "\n",
      "1 Failed download:\n",
      "['APH']: YFPricesMissingError('possibly delisted; no price data found  (1d 2025-09-13 00:00:00 -> 2025-09-15 00:00:00)')\n"
     ]
    },
    {
     "name": "stdout",
     "output_type": "stream",
     "text": [
      "Téléchargement des données pour APO de 2025-09-13 00:00:00 à 2025-09-15 00:00:00\n"
     ]
    },
    {
     "name": "stderr",
     "output_type": "stream",
     "text": [
      "[*********************100%***********************]  1 of 1 completed\n",
      "\n",
      "1 Failed download:\n",
      "['APO']: YFPricesMissingError('possibly delisted; no price data found  (1d 2025-09-13 00:00:00 -> 2025-09-15 00:00:00)')\n"
     ]
    },
    {
     "name": "stdout",
     "output_type": "stream",
     "text": [
      "Téléchargement des données pour APTV de 2025-09-13 00:00:00 à 2025-09-15 00:00:00\n"
     ]
    },
    {
     "name": "stderr",
     "output_type": "stream",
     "text": [
      "[*********************100%***********************]  1 of 1 completed\n",
      "\n",
      "1 Failed download:\n",
      "['APTV']: YFPricesMissingError('possibly delisted; no price data found  (1d 2025-09-13 00:00:00 -> 2025-09-15 00:00:00)')\n"
     ]
    },
    {
     "name": "stdout",
     "output_type": "stream",
     "text": [
      "Téléchargement des données pour ARE de 2025-09-13 00:00:00 à 2025-09-15 00:00:00\n"
     ]
    },
    {
     "name": "stderr",
     "output_type": "stream",
     "text": [
      "[*********************100%***********************]  1 of 1 completed\n",
      "\n",
      "1 Failed download:\n",
      "['ARE']: YFPricesMissingError('possibly delisted; no price data found  (1d 2025-09-13 00:00:00 -> 2025-09-15 00:00:00)')\n"
     ]
    },
    {
     "name": "stdout",
     "output_type": "stream",
     "text": [
      "Téléchargement des données pour ATO de 2025-09-13 00:00:00 à 2025-09-15 00:00:00\n"
     ]
    },
    {
     "name": "stderr",
     "output_type": "stream",
     "text": [
      "[*********************100%***********************]  1 of 1 completed\n",
      "\n",
      "1 Failed download:\n",
      "['ATO']: YFPricesMissingError('possibly delisted; no price data found  (1d 2025-09-13 00:00:00 -> 2025-09-15 00:00:00)')\n"
     ]
    },
    {
     "name": "stdout",
     "output_type": "stream",
     "text": [
      "Téléchargement des données pour AVB de 2025-09-13 00:00:00 à 2025-09-15 00:00:00\n"
     ]
    },
    {
     "name": "stderr",
     "output_type": "stream",
     "text": [
      "[*********************100%***********************]  1 of 1 completed\n",
      "\n",
      "1 Failed download:\n",
      "['AVB']: YFPricesMissingError('possibly delisted; no price data found  (1d 2025-09-13 00:00:00 -> 2025-09-15 00:00:00)')\n"
     ]
    },
    {
     "name": "stdout",
     "output_type": "stream",
     "text": [
      "Téléchargement des données pour AVGO de 2025-09-13 00:00:00 à 2025-09-15 00:00:00\n"
     ]
    },
    {
     "name": "stderr",
     "output_type": "stream",
     "text": [
      "[*********************100%***********************]  1 of 1 completed\n",
      "\n",
      "1 Failed download:\n",
      "['AVGO']: YFPricesMissingError('possibly delisted; no price data found  (1d 2025-09-13 00:00:00 -> 2025-09-15 00:00:00)')\n"
     ]
    },
    {
     "name": "stdout",
     "output_type": "stream",
     "text": [
      "Téléchargement des données pour AVY de 2025-09-13 00:00:00 à 2025-09-15 00:00:00\n"
     ]
    },
    {
     "name": "stderr",
     "output_type": "stream",
     "text": [
      "[*********************100%***********************]  1 of 1 completed\n",
      "\n",
      "1 Failed download:\n",
      "['AVY']: YFPricesMissingError('possibly delisted; no price data found  (1d 2025-09-13 00:00:00 -> 2025-09-15 00:00:00)')\n"
     ]
    },
    {
     "name": "stdout",
     "output_type": "stream",
     "text": [
      "Téléchargement des données pour AWK de 2025-09-13 00:00:00 à 2025-09-15 00:00:00\n"
     ]
    },
    {
     "name": "stderr",
     "output_type": "stream",
     "text": [
      "[*********************100%***********************]  1 of 1 completed\n",
      "\n",
      "1 Failed download:\n",
      "['AWK']: YFPricesMissingError('possibly delisted; no price data found  (1d 2025-09-13 00:00:00 -> 2025-09-15 00:00:00)')\n"
     ]
    },
    {
     "name": "stdout",
     "output_type": "stream",
     "text": [
      "Téléchargement des données pour AXON de 2025-09-13 00:00:00 à 2025-09-15 00:00:00\n"
     ]
    },
    {
     "name": "stderr",
     "output_type": "stream",
     "text": [
      "[*********************100%***********************]  1 of 1 completed\n",
      "\n",
      "1 Failed download:\n",
      "['AXON']: YFPricesMissingError('possibly delisted; no price data found  (1d 2025-09-13 00:00:00 -> 2025-09-15 00:00:00)')\n"
     ]
    },
    {
     "name": "stdout",
     "output_type": "stream",
     "text": [
      "Téléchargement des données pour AXP de 2025-09-13 00:00:00 à 2025-09-15 00:00:00\n"
     ]
    },
    {
     "name": "stderr",
     "output_type": "stream",
     "text": [
      "[*********************100%***********************]  1 of 1 completed\n",
      "\n",
      "1 Failed download:\n",
      "['AXP']: YFPricesMissingError('possibly delisted; no price data found  (1d 2025-09-13 00:00:00 -> 2025-09-15 00:00:00)')\n"
     ]
    },
    {
     "name": "stdout",
     "output_type": "stream",
     "text": [
      "Téléchargement des données pour AZO de 2025-09-13 00:00:00 à 2025-09-15 00:00:00\n"
     ]
    },
    {
     "name": "stderr",
     "output_type": "stream",
     "text": [
      "[*********************100%***********************]  1 of 1 completed\n",
      "\n",
      "1 Failed download:\n",
      "['AZO']: YFPricesMissingError('possibly delisted; no price data found  (1d 2025-09-13 00:00:00 -> 2025-09-15 00:00:00)')\n"
     ]
    },
    {
     "name": "stdout",
     "output_type": "stream",
     "text": [
      "Téléchargement des données pour BA de 2025-09-13 00:00:00 à 2025-09-15 00:00:00\n"
     ]
    },
    {
     "name": "stderr",
     "output_type": "stream",
     "text": [
      "[*********************100%***********************]  1 of 1 completed\n",
      "\n",
      "1 Failed download:\n",
      "['BA']: YFPricesMissingError('possibly delisted; no price data found  (1d 2025-09-13 00:00:00 -> 2025-09-15 00:00:00)')\n"
     ]
    },
    {
     "name": "stdout",
     "output_type": "stream",
     "text": [
      "Téléchargement des données pour BAC de 2025-09-13 00:00:00 à 2025-09-15 00:00:00\n"
     ]
    },
    {
     "name": "stderr",
     "output_type": "stream",
     "text": [
      "[*********************100%***********************]  1 of 1 completed\n",
      "\n",
      "1 Failed download:\n",
      "['BAC']: YFPricesMissingError('possibly delisted; no price data found  (1d 2025-09-13 00:00:00 -> 2025-09-15 00:00:00)')\n"
     ]
    },
    {
     "name": "stdout",
     "output_type": "stream",
     "text": [
      "Téléchargement des données pour BALL de 2025-09-13 00:00:00 à 2025-09-15 00:00:00\n"
     ]
    },
    {
     "name": "stderr",
     "output_type": "stream",
     "text": [
      "[*********************100%***********************]  1 of 1 completed\n",
      "\n",
      "1 Failed download:\n",
      "['BALL']: YFPricesMissingError('possibly delisted; no price data found  (1d 2025-09-13 00:00:00 -> 2025-09-15 00:00:00)')\n"
     ]
    },
    {
     "name": "stdout",
     "output_type": "stream",
     "text": [
      "Téléchargement des données pour BAX de 2025-09-13 00:00:00 à 2025-09-15 00:00:00\n"
     ]
    },
    {
     "name": "stderr",
     "output_type": "stream",
     "text": [
      "[*********************100%***********************]  1 of 1 completed\n",
      "\n",
      "1 Failed download:\n",
      "['BAX']: YFPricesMissingError('possibly delisted; no price data found  (1d 2025-09-13 00:00:00 -> 2025-09-15 00:00:00)')\n"
     ]
    },
    {
     "name": "stdout",
     "output_type": "stream",
     "text": [
      "Téléchargement des données pour BBY de 2025-09-13 00:00:00 à 2025-09-15 00:00:00\n"
     ]
    },
    {
     "name": "stderr",
     "output_type": "stream",
     "text": [
      "[*********************100%***********************]  1 of 1 completed\n",
      "\n",
      "1 Failed download:\n",
      "['BBY']: YFPricesMissingError('possibly delisted; no price data found  (1d 2025-09-13 00:00:00 -> 2025-09-15 00:00:00)')\n"
     ]
    },
    {
     "name": "stdout",
     "output_type": "stream",
     "text": [
      "Téléchargement des données pour BDX de 2025-09-13 00:00:00 à 2025-09-15 00:00:00\n"
     ]
    },
    {
     "name": "stderr",
     "output_type": "stream",
     "text": [
      "[*********************100%***********************]  1 of 1 completed\n",
      "\n",
      "1 Failed download:\n",
      "['BDX']: YFPricesMissingError('possibly delisted; no price data found  (1d 2025-09-13 00:00:00 -> 2025-09-15 00:00:00)')\n"
     ]
    },
    {
     "name": "stdout",
     "output_type": "stream",
     "text": [
      "Téléchargement des données pour BEN de 2025-09-13 00:00:00 à 2025-09-15 00:00:00\n"
     ]
    },
    {
     "name": "stderr",
     "output_type": "stream",
     "text": [
      "[*********************100%***********************]  1 of 1 completed\n",
      "\n",
      "1 Failed download:\n",
      "['BEN']: YFPricesMissingError('possibly delisted; no price data found  (1d 2025-09-13 00:00:00 -> 2025-09-15 00:00:00)')\n"
     ]
    },
    {
     "name": "stdout",
     "output_type": "stream",
     "text": [
      "Téléchargement des données pour BF-B de 2025-09-13 00:00:00 à 2025-09-15 00:00:00\n"
     ]
    },
    {
     "name": "stderr",
     "output_type": "stream",
     "text": [
      "[*********************100%***********************]  1 of 1 completed\n",
      "\n",
      "1 Failed download:\n",
      "['BF-B']: YFPricesMissingError('possibly delisted; no price data found  (1d 2025-09-13 00:00:00 -> 2025-09-15 00:00:00)')\n"
     ]
    },
    {
     "name": "stdout",
     "output_type": "stream",
     "text": [
      "Téléchargement des données pour BG de 2025-09-13 00:00:00 à 2025-09-15 00:00:00\n"
     ]
    },
    {
     "name": "stderr",
     "output_type": "stream",
     "text": [
      "[*********************100%***********************]  1 of 1 completed\n",
      "\n",
      "1 Failed download:\n",
      "['BG']: YFPricesMissingError('possibly delisted; no price data found  (1d 2025-09-13 00:00:00 -> 2025-09-15 00:00:00)')\n"
     ]
    },
    {
     "name": "stdout",
     "output_type": "stream",
     "text": [
      "Téléchargement des données pour BIIB de 2025-09-13 00:00:00 à 2025-09-15 00:00:00\n"
     ]
    },
    {
     "name": "stderr",
     "output_type": "stream",
     "text": [
      "[*********************100%***********************]  1 of 1 completed\n",
      "\n",
      "1 Failed download:\n",
      "['BIIB']: YFPricesMissingError('possibly delisted; no price data found  (1d 2025-09-13 00:00:00 -> 2025-09-15 00:00:00)')\n"
     ]
    },
    {
     "name": "stdout",
     "output_type": "stream",
     "text": [
      "Téléchargement des données pour BK de 2025-09-13 00:00:00 à 2025-09-15 00:00:00\n"
     ]
    },
    {
     "name": "stderr",
     "output_type": "stream",
     "text": [
      "[*********************100%***********************]  1 of 1 completed\n",
      "\n",
      "1 Failed download:\n",
      "['BK']: YFPricesMissingError('possibly delisted; no price data found  (1d 2025-09-13 00:00:00 -> 2025-09-15 00:00:00)')\n"
     ]
    },
    {
     "name": "stdout",
     "output_type": "stream",
     "text": [
      "Téléchargement des données pour BKNG de 2025-09-13 00:00:00 à 2025-09-15 00:00:00\n"
     ]
    },
    {
     "name": "stderr",
     "output_type": "stream",
     "text": [
      "[*********************100%***********************]  1 of 1 completed\n",
      "\n",
      "1 Failed download:\n",
      "['BKNG']: YFPricesMissingError('possibly delisted; no price data found  (1d 2025-09-13 00:00:00 -> 2025-09-15 00:00:00)')\n"
     ]
    },
    {
     "name": "stdout",
     "output_type": "stream",
     "text": [
      "Téléchargement des données pour BKR de 2025-09-13 00:00:00 à 2025-09-15 00:00:00\n"
     ]
    },
    {
     "name": "stderr",
     "output_type": "stream",
     "text": [
      "[*********************100%***********************]  1 of 1 completed\n",
      "\n",
      "1 Failed download:\n",
      "['BKR']: YFPricesMissingError('possibly delisted; no price data found  (1d 2025-09-13 00:00:00 -> 2025-09-15 00:00:00)')\n"
     ]
    },
    {
     "name": "stdout",
     "output_type": "stream",
     "text": [
      "Téléchargement des données pour BLDR de 2025-09-13 00:00:00 à 2025-09-15 00:00:00\n"
     ]
    },
    {
     "name": "stderr",
     "output_type": "stream",
     "text": [
      "[*********************100%***********************]  1 of 1 completed\n",
      "\n",
      "1 Failed download:\n",
      "['BLDR']: YFPricesMissingError('possibly delisted; no price data found  (1d 2025-09-13 00:00:00 -> 2025-09-15 00:00:00)')\n"
     ]
    },
    {
     "name": "stdout",
     "output_type": "stream",
     "text": [
      "Téléchargement des données pour BLK de 2025-09-13 00:00:00 à 2025-09-15 00:00:00\n"
     ]
    },
    {
     "name": "stderr",
     "output_type": "stream",
     "text": [
      "[*********************100%***********************]  1 of 1 completed\n",
      "\n",
      "1 Failed download:\n",
      "['BLK']: YFPricesMissingError('possibly delisted; no price data found  (1d 2025-09-13 00:00:00 -> 2025-09-15 00:00:00)')\n"
     ]
    },
    {
     "name": "stdout",
     "output_type": "stream",
     "text": [
      "Téléchargement des données pour BMY de 2025-09-13 00:00:00 à 2025-09-15 00:00:00\n"
     ]
    },
    {
     "name": "stderr",
     "output_type": "stream",
     "text": [
      "[*********************100%***********************]  1 of 1 completed\n",
      "\n",
      "1 Failed download:\n",
      "['BMY']: YFPricesMissingError('possibly delisted; no price data found  (1d 2025-09-13 00:00:00 -> 2025-09-15 00:00:00)')\n"
     ]
    },
    {
     "name": "stdout",
     "output_type": "stream",
     "text": [
      "Téléchargement des données pour BR de 2025-09-13 00:00:00 à 2025-09-15 00:00:00\n"
     ]
    },
    {
     "name": "stderr",
     "output_type": "stream",
     "text": [
      "[*********************100%***********************]  1 of 1 completed\n",
      "\n",
      "1 Failed download:\n",
      "['BR']: YFPricesMissingError('possibly delisted; no price data found  (1d 2025-09-13 00:00:00 -> 2025-09-15 00:00:00)')\n"
     ]
    },
    {
     "name": "stdout",
     "output_type": "stream",
     "text": [
      "Téléchargement des données pour BRK-B de 2025-09-13 00:00:00 à 2025-09-15 00:00:00\n"
     ]
    },
    {
     "name": "stderr",
     "output_type": "stream",
     "text": [
      "[*********************100%***********************]  1 of 1 completed\n",
      "\n",
      "1 Failed download:\n",
      "['BRK-B']: YFPricesMissingError('possibly delisted; no price data found  (1d 2025-09-13 00:00:00 -> 2025-09-15 00:00:00)')\n"
     ]
    },
    {
     "name": "stdout",
     "output_type": "stream",
     "text": [
      "Téléchargement des données pour BRO de 2025-09-13 00:00:00 à 2025-09-15 00:00:00\n"
     ]
    },
    {
     "name": "stderr",
     "output_type": "stream",
     "text": [
      "[*********************100%***********************]  1 of 1 completed\n",
      "\n",
      "1 Failed download:\n",
      "['BRO']: YFPricesMissingError('possibly delisted; no price data found  (1d 2025-09-13 00:00:00 -> 2025-09-15 00:00:00)')\n"
     ]
    },
    {
     "name": "stdout",
     "output_type": "stream",
     "text": [
      "Téléchargement des données pour BSX de 2025-09-13 00:00:00 à 2025-09-15 00:00:00\n"
     ]
    },
    {
     "name": "stderr",
     "output_type": "stream",
     "text": [
      "[*********************100%***********************]  1 of 1 completed\n",
      "\n",
      "1 Failed download:\n",
      "['BSX']: YFPricesMissingError('possibly delisted; no price data found  (1d 2025-09-13 00:00:00 -> 2025-09-15 00:00:00)')\n"
     ]
    },
    {
     "name": "stdout",
     "output_type": "stream",
     "text": [
      "Téléchargement des données pour BX de 2025-09-13 00:00:00 à 2025-09-15 00:00:00\n"
     ]
    },
    {
     "name": "stderr",
     "output_type": "stream",
     "text": [
      "[*********************100%***********************]  1 of 1 completed\n",
      "\n",
      "1 Failed download:\n",
      "['BX']: YFPricesMissingError('possibly delisted; no price data found  (1d 2025-09-13 00:00:00 -> 2025-09-15 00:00:00)')\n"
     ]
    },
    {
     "name": "stdout",
     "output_type": "stream",
     "text": [
      "Téléchargement des données pour BXP de 2025-09-13 00:00:00 à 2025-09-15 00:00:00\n"
     ]
    },
    {
     "name": "stderr",
     "output_type": "stream",
     "text": [
      "[*********************100%***********************]  1 of 1 completed\n",
      "\n",
      "1 Failed download:\n",
      "['BXP']: YFPricesMissingError('possibly delisted; no price data found  (1d 2025-09-13 00:00:00 -> 2025-09-15 00:00:00)')\n"
     ]
    },
    {
     "name": "stdout",
     "output_type": "stream",
     "text": [
      "Téléchargement des données pour CAG de 2025-09-13 00:00:00 à 2025-09-15 00:00:00\n"
     ]
    },
    {
     "name": "stderr",
     "output_type": "stream",
     "text": [
      "[*********************100%***********************]  1 of 1 completed\n",
      "\n",
      "1 Failed download:\n",
      "['CAG']: YFPricesMissingError('possibly delisted; no price data found  (1d 2025-09-13 00:00:00 -> 2025-09-15 00:00:00)')\n"
     ]
    },
    {
     "name": "stdout",
     "output_type": "stream",
     "text": [
      "Téléchargement des données pour CAH de 2025-09-13 00:00:00 à 2025-09-15 00:00:00\n"
     ]
    },
    {
     "name": "stderr",
     "output_type": "stream",
     "text": [
      "[*********************100%***********************]  1 of 1 completed\n",
      "\n",
      "1 Failed download:\n",
      "['CAH']: YFPricesMissingError('possibly delisted; no price data found  (1d 2025-09-13 00:00:00 -> 2025-09-15 00:00:00)')\n"
     ]
    },
    {
     "name": "stdout",
     "output_type": "stream",
     "text": [
      "Téléchargement des données pour CARR de 2025-09-13 00:00:00 à 2025-09-15 00:00:00\n"
     ]
    },
    {
     "name": "stderr",
     "output_type": "stream",
     "text": [
      "[*********************100%***********************]  1 of 1 completed\n",
      "\n",
      "1 Failed download:\n",
      "['CARR']: YFPricesMissingError('possibly delisted; no price data found  (1d 2025-09-13 00:00:00 -> 2025-09-15 00:00:00)')\n"
     ]
    },
    {
     "name": "stdout",
     "output_type": "stream",
     "text": [
      "Téléchargement des données pour CAT de 2025-09-13 00:00:00 à 2025-09-15 00:00:00\n"
     ]
    },
    {
     "name": "stderr",
     "output_type": "stream",
     "text": [
      "[*********************100%***********************]  1 of 1 completed\n",
      "\n",
      "1 Failed download:\n",
      "['CAT']: YFPricesMissingError('possibly delisted; no price data found  (1d 2025-09-13 00:00:00 -> 2025-09-15 00:00:00)')\n"
     ]
    },
    {
     "name": "stdout",
     "output_type": "stream",
     "text": [
      "Téléchargement des données pour CB de 2025-09-13 00:00:00 à 2025-09-15 00:00:00\n"
     ]
    },
    {
     "name": "stderr",
     "output_type": "stream",
     "text": [
      "[*********************100%***********************]  1 of 1 completed\n",
      "\n",
      "1 Failed download:\n",
      "['CB']: YFPricesMissingError('possibly delisted; no price data found  (1d 2025-09-13 00:00:00 -> 2025-09-15 00:00:00)')\n"
     ]
    },
    {
     "name": "stdout",
     "output_type": "stream",
     "text": [
      "Téléchargement des données pour CBOE de 2025-09-13 00:00:00 à 2025-09-15 00:00:00\n"
     ]
    },
    {
     "name": "stderr",
     "output_type": "stream",
     "text": [
      "[*********************100%***********************]  1 of 1 completed\n",
      "\n",
      "1 Failed download:\n",
      "['CBOE']: YFPricesMissingError('possibly delisted; no price data found  (1d 2025-09-13 00:00:00 -> 2025-09-15 00:00:00)')\n"
     ]
    },
    {
     "name": "stdout",
     "output_type": "stream",
     "text": [
      "Téléchargement des données pour CBRE de 2025-09-13 00:00:00 à 2025-09-15 00:00:00\n"
     ]
    },
    {
     "name": "stderr",
     "output_type": "stream",
     "text": [
      "[*********************100%***********************]  1 of 1 completed\n",
      "\n",
      "1 Failed download:\n",
      "['CBRE']: YFPricesMissingError('possibly delisted; no price data found  (1d 2025-09-13 00:00:00 -> 2025-09-15 00:00:00)')\n"
     ]
    },
    {
     "name": "stdout",
     "output_type": "stream",
     "text": [
      "Téléchargement des données pour CCI de 2025-09-13 00:00:00 à 2025-09-15 00:00:00\n"
     ]
    },
    {
     "name": "stderr",
     "output_type": "stream",
     "text": [
      "[*********************100%***********************]  1 of 1 completed\n",
      "\n",
      "1 Failed download:\n",
      "['CCI']: YFPricesMissingError('possibly delisted; no price data found  (1d 2025-09-13 00:00:00 -> 2025-09-15 00:00:00)')\n"
     ]
    },
    {
     "name": "stdout",
     "output_type": "stream",
     "text": [
      "Téléchargement des données pour CCL de 2025-09-13 00:00:00 à 2025-09-15 00:00:00\n"
     ]
    },
    {
     "name": "stderr",
     "output_type": "stream",
     "text": [
      "[*********************100%***********************]  1 of 1 completed\n",
      "\n",
      "1 Failed download:\n",
      "['CCL']: YFPricesMissingError('possibly delisted; no price data found  (1d 2025-09-13 00:00:00 -> 2025-09-15 00:00:00)')\n"
     ]
    },
    {
     "name": "stdout",
     "output_type": "stream",
     "text": [
      "Téléchargement des données pour CDNS de 2025-09-13 00:00:00 à 2025-09-15 00:00:00\n"
     ]
    },
    {
     "name": "stderr",
     "output_type": "stream",
     "text": [
      "[*********************100%***********************]  1 of 1 completed\n",
      "\n",
      "1 Failed download:\n",
      "['CDNS']: YFPricesMissingError('possibly delisted; no price data found  (1d 2025-09-13 00:00:00 -> 2025-09-15 00:00:00)')\n"
     ]
    },
    {
     "name": "stdout",
     "output_type": "stream",
     "text": [
      "Téléchargement des données pour CDW de 2025-09-13 00:00:00 à 2025-09-15 00:00:00\n"
     ]
    },
    {
     "name": "stderr",
     "output_type": "stream",
     "text": [
      "[*********************100%***********************]  1 of 1 completed\n",
      "\n",
      "1 Failed download:\n",
      "['CDW']: YFPricesMissingError('possibly delisted; no price data found  (1d 2025-09-13 00:00:00 -> 2025-09-15 00:00:00)')\n"
     ]
    },
    {
     "name": "stdout",
     "output_type": "stream",
     "text": [
      "Téléchargement des données pour CEG de 2025-09-13 00:00:00 à 2025-09-15 00:00:00\n"
     ]
    },
    {
     "name": "stderr",
     "output_type": "stream",
     "text": [
      "[*********************100%***********************]  1 of 1 completed\n",
      "\n",
      "1 Failed download:\n",
      "['CEG']: YFPricesMissingError('possibly delisted; no price data found  (1d 2025-09-13 00:00:00 -> 2025-09-15 00:00:00)')\n"
     ]
    },
    {
     "name": "stdout",
     "output_type": "stream",
     "text": [
      "Téléchargement des données pour CF de 2025-09-13 00:00:00 à 2025-09-15 00:00:00\n"
     ]
    },
    {
     "name": "stderr",
     "output_type": "stream",
     "text": [
      "[*********************100%***********************]  1 of 1 completed\n",
      "\n",
      "1 Failed download:\n",
      "['CF']: YFPricesMissingError('possibly delisted; no price data found  (1d 2025-09-13 00:00:00 -> 2025-09-15 00:00:00)')\n"
     ]
    },
    {
     "name": "stdout",
     "output_type": "stream",
     "text": [
      "Téléchargement des données pour CFG de 2025-09-13 00:00:00 à 2025-09-15 00:00:00\n"
     ]
    },
    {
     "name": "stderr",
     "output_type": "stream",
     "text": [
      "[*********************100%***********************]  1 of 1 completed\n",
      "\n",
      "1 Failed download:\n",
      "['CFG']: YFPricesMissingError('possibly delisted; no price data found  (1d 2025-09-13 00:00:00 -> 2025-09-15 00:00:00)')\n"
     ]
    },
    {
     "name": "stdout",
     "output_type": "stream",
     "text": [
      "Téléchargement des données pour CHD de 2025-09-13 00:00:00 à 2025-09-15 00:00:00\n"
     ]
    },
    {
     "name": "stderr",
     "output_type": "stream",
     "text": [
      "[*********************100%***********************]  1 of 1 completed\n",
      "\n",
      "1 Failed download:\n",
      "['CHD']: YFPricesMissingError('possibly delisted; no price data found  (1d 2025-09-13 00:00:00 -> 2025-09-15 00:00:00)')\n"
     ]
    },
    {
     "name": "stdout",
     "output_type": "stream",
     "text": [
      "Téléchargement des données pour CHRW de 2025-09-13 00:00:00 à 2025-09-15 00:00:00\n"
     ]
    },
    {
     "name": "stderr",
     "output_type": "stream",
     "text": [
      "[*********************100%***********************]  1 of 1 completed\n",
      "\n",
      "1 Failed download:\n",
      "['CHRW']: YFPricesMissingError('possibly delisted; no price data found  (1d 2025-09-13 00:00:00 -> 2025-09-15 00:00:00)')\n"
     ]
    },
    {
     "name": "stdout",
     "output_type": "stream",
     "text": [
      "Téléchargement des données pour CHTR de 2025-09-13 00:00:00 à 2025-09-15 00:00:00\n"
     ]
    },
    {
     "name": "stderr",
     "output_type": "stream",
     "text": [
      "[*********************100%***********************]  1 of 1 completed\n",
      "\n",
      "1 Failed download:\n",
      "['CHTR']: YFPricesMissingError('possibly delisted; no price data found  (1d 2025-09-13 00:00:00 -> 2025-09-15 00:00:00)')\n"
     ]
    },
    {
     "name": "stdout",
     "output_type": "stream",
     "text": [
      "Téléchargement des données pour CI de 2025-09-13 00:00:00 à 2025-09-15 00:00:00\n"
     ]
    },
    {
     "name": "stderr",
     "output_type": "stream",
     "text": [
      "[*********************100%***********************]  1 of 1 completed\n",
      "\n",
      "1 Failed download:\n",
      "['CI']: YFPricesMissingError('possibly delisted; no price data found  (1d 2025-09-13 00:00:00 -> 2025-09-15 00:00:00)')\n"
     ]
    },
    {
     "name": "stdout",
     "output_type": "stream",
     "text": [
      "Téléchargement des données pour CINF de 2025-09-13 00:00:00 à 2025-09-15 00:00:00\n"
     ]
    },
    {
     "name": "stderr",
     "output_type": "stream",
     "text": [
      "[*********************100%***********************]  1 of 1 completed\n",
      "\n",
      "1 Failed download:\n",
      "['CINF']: YFPricesMissingError('possibly delisted; no price data found  (1d 2025-09-13 00:00:00 -> 2025-09-15 00:00:00)')\n"
     ]
    },
    {
     "name": "stdout",
     "output_type": "stream",
     "text": [
      "Téléchargement des données pour CL de 2025-09-13 00:00:00 à 2025-09-15 00:00:00\n"
     ]
    },
    {
     "name": "stderr",
     "output_type": "stream",
     "text": [
      "[*********************100%***********************]  1 of 1 completed\n",
      "\n",
      "1 Failed download:\n",
      "['CL']: YFPricesMissingError('possibly delisted; no price data found  (1d 2025-09-13 00:00:00 -> 2025-09-15 00:00:00)')\n"
     ]
    },
    {
     "name": "stdout",
     "output_type": "stream",
     "text": [
      "Téléchargement des données pour CLX de 2025-09-13 00:00:00 à 2025-09-15 00:00:00\n"
     ]
    },
    {
     "name": "stderr",
     "output_type": "stream",
     "text": [
      "[*********************100%***********************]  1 of 1 completed\n",
      "\n",
      "1 Failed download:\n",
      "['CLX']: YFPricesMissingError('possibly delisted; no price data found  (1d 2025-09-13 00:00:00 -> 2025-09-15 00:00:00)')\n"
     ]
    },
    {
     "name": "stdout",
     "output_type": "stream",
     "text": [
      "Téléchargement des données pour CMCSA de 2025-09-13 00:00:00 à 2025-09-15 00:00:00\n"
     ]
    },
    {
     "name": "stderr",
     "output_type": "stream",
     "text": [
      "[*********************100%***********************]  1 of 1 completed\n",
      "\n",
      "1 Failed download:\n",
      "['CMCSA']: YFPricesMissingError('possibly delisted; no price data found  (1d 2025-09-13 00:00:00 -> 2025-09-15 00:00:00)')\n"
     ]
    },
    {
     "name": "stdout",
     "output_type": "stream",
     "text": [
      "Téléchargement des données pour CME de 2025-09-13 00:00:00 à 2025-09-15 00:00:00\n"
     ]
    },
    {
     "name": "stderr",
     "output_type": "stream",
     "text": [
      "[*********************100%***********************]  1 of 1 completed\n",
      "\n",
      "1 Failed download:\n",
      "['CME']: YFPricesMissingError('possibly delisted; no price data found  (1d 2025-09-13 00:00:00 -> 2025-09-15 00:00:00)')\n"
     ]
    },
    {
     "name": "stdout",
     "output_type": "stream",
     "text": [
      "Téléchargement des données pour CMG de 2025-09-13 00:00:00 à 2025-09-15 00:00:00\n"
     ]
    },
    {
     "name": "stderr",
     "output_type": "stream",
     "text": [
      "[*********************100%***********************]  1 of 1 completed\n",
      "\n",
      "1 Failed download:\n",
      "['CMG']: YFPricesMissingError('possibly delisted; no price data found  (1d 2025-09-13 00:00:00 -> 2025-09-15 00:00:00)')\n"
     ]
    },
    {
     "name": "stdout",
     "output_type": "stream",
     "text": [
      "Téléchargement des données pour CMI de 2025-09-13 00:00:00 à 2025-09-15 00:00:00\n"
     ]
    },
    {
     "name": "stderr",
     "output_type": "stream",
     "text": [
      "[*********************100%***********************]  1 of 1 completed\n",
      "\n",
      "1 Failed download:\n",
      "['CMI']: YFPricesMissingError('possibly delisted; no price data found  (1d 2025-09-13 00:00:00 -> 2025-09-15 00:00:00)')\n"
     ]
    },
    {
     "name": "stdout",
     "output_type": "stream",
     "text": [
      "Téléchargement des données pour CMS de 2025-09-13 00:00:00 à 2025-09-15 00:00:00\n"
     ]
    },
    {
     "name": "stderr",
     "output_type": "stream",
     "text": [
      "[*********************100%***********************]  1 of 1 completed\n",
      "\n",
      "1 Failed download:\n",
      "['CMS']: YFPricesMissingError('possibly delisted; no price data found  (1d 2025-09-13 00:00:00 -> 2025-09-15 00:00:00)')\n"
     ]
    },
    {
     "name": "stdout",
     "output_type": "stream",
     "text": [
      "Téléchargement des données pour CNC de 2025-09-13 00:00:00 à 2025-09-15 00:00:00\n"
     ]
    },
    {
     "name": "stderr",
     "output_type": "stream",
     "text": [
      "[*********************100%***********************]  1 of 1 completed\n",
      "\n",
      "1 Failed download:\n",
      "['CNC']: YFPricesMissingError('possibly delisted; no price data found  (1d 2025-09-13 00:00:00 -> 2025-09-15 00:00:00)')\n"
     ]
    },
    {
     "name": "stdout",
     "output_type": "stream",
     "text": [
      "Téléchargement des données pour CNP de 2025-09-13 00:00:00 à 2025-09-15 00:00:00\n"
     ]
    },
    {
     "name": "stderr",
     "output_type": "stream",
     "text": [
      "[*********************100%***********************]  1 of 1 completed\n",
      "\n",
      "1 Failed download:\n",
      "['CNP']: YFPricesMissingError('possibly delisted; no price data found  (1d 2025-09-13 00:00:00 -> 2025-09-15 00:00:00)')\n"
     ]
    },
    {
     "name": "stdout",
     "output_type": "stream",
     "text": [
      "Téléchargement des données pour COF de 2025-09-13 00:00:00 à 2025-09-15 00:00:00\n"
     ]
    },
    {
     "name": "stderr",
     "output_type": "stream",
     "text": [
      "[*********************100%***********************]  1 of 1 completed\n",
      "\n",
      "1 Failed download:\n",
      "['COF']: YFPricesMissingError('possibly delisted; no price data found  (1d 2025-09-13 00:00:00 -> 2025-09-15 00:00:00)')\n"
     ]
    },
    {
     "name": "stdout",
     "output_type": "stream",
     "text": [
      "Téléchargement des données pour COIN de 2025-09-13 00:00:00 à 2025-09-15 00:00:00\n"
     ]
    },
    {
     "name": "stderr",
     "output_type": "stream",
     "text": [
      "[*********************100%***********************]  1 of 1 completed\n",
      "\n",
      "1 Failed download:\n",
      "['COIN']: YFPricesMissingError('possibly delisted; no price data found  (1d 2025-09-13 00:00:00 -> 2025-09-15 00:00:00)')\n"
     ]
    },
    {
     "name": "stdout",
     "output_type": "stream",
     "text": [
      "Téléchargement des données pour COO de 2025-09-13 00:00:00 à 2025-09-15 00:00:00\n"
     ]
    },
    {
     "name": "stderr",
     "output_type": "stream",
     "text": [
      "[*********************100%***********************]  1 of 1 completed\n",
      "\n",
      "1 Failed download:\n",
      "['COO']: YFPricesMissingError('possibly delisted; no price data found  (1d 2025-09-13 00:00:00 -> 2025-09-15 00:00:00)')\n"
     ]
    },
    {
     "name": "stdout",
     "output_type": "stream",
     "text": [
      "Téléchargement des données pour COP de 2025-09-13 00:00:00 à 2025-09-15 00:00:00\n"
     ]
    },
    {
     "name": "stderr",
     "output_type": "stream",
     "text": [
      "[*********************100%***********************]  1 of 1 completed\n",
      "\n",
      "1 Failed download:\n",
      "['COP']: YFPricesMissingError('possibly delisted; no price data found  (1d 2025-09-13 00:00:00 -> 2025-09-15 00:00:00)')\n"
     ]
    },
    {
     "name": "stdout",
     "output_type": "stream",
     "text": [
      "Téléchargement des données pour COR de 2025-09-13 00:00:00 à 2025-09-15 00:00:00\n"
     ]
    },
    {
     "name": "stderr",
     "output_type": "stream",
     "text": [
      "[*********************100%***********************]  1 of 1 completed\n",
      "\n",
      "1 Failed download:\n",
      "['COR']: YFPricesMissingError('possibly delisted; no price data found  (1d 2025-09-13 00:00:00 -> 2025-09-15 00:00:00)')\n"
     ]
    },
    {
     "name": "stdout",
     "output_type": "stream",
     "text": [
      "Téléchargement des données pour COST de 2025-09-13 00:00:00 à 2025-09-15 00:00:00\n"
     ]
    },
    {
     "name": "stderr",
     "output_type": "stream",
     "text": [
      "[*********************100%***********************]  1 of 1 completed\n",
      "\n",
      "1 Failed download:\n",
      "['COST']: YFPricesMissingError('possibly delisted; no price data found  (1d 2025-09-13 00:00:00 -> 2025-09-15 00:00:00)')\n"
     ]
    },
    {
     "name": "stdout",
     "output_type": "stream",
     "text": [
      "Téléchargement des données pour CPAY de 2025-09-13 00:00:00 à 2025-09-15 00:00:00\n"
     ]
    },
    {
     "name": "stderr",
     "output_type": "stream",
     "text": [
      "[*********************100%***********************]  1 of 1 completed\n",
      "\n",
      "1 Failed download:\n",
      "['CPAY']: YFPricesMissingError('possibly delisted; no price data found  (1d 2025-09-13 00:00:00 -> 2025-09-15 00:00:00)')\n"
     ]
    },
    {
     "name": "stdout",
     "output_type": "stream",
     "text": [
      "Téléchargement des données pour CPB de 2025-09-13 00:00:00 à 2025-09-15 00:00:00\n"
     ]
    },
    {
     "name": "stderr",
     "output_type": "stream",
     "text": [
      "[*********************100%***********************]  1 of 1 completed\n",
      "\n",
      "1 Failed download:\n",
      "['CPB']: YFPricesMissingError('possibly delisted; no price data found  (1d 2025-09-13 00:00:00 -> 2025-09-15 00:00:00)')\n"
     ]
    },
    {
     "name": "stdout",
     "output_type": "stream",
     "text": [
      "Téléchargement des données pour CPRT de 2025-09-13 00:00:00 à 2025-09-15 00:00:00\n"
     ]
    },
    {
     "name": "stderr",
     "output_type": "stream",
     "text": [
      "[*********************100%***********************]  1 of 1 completed\n",
      "\n",
      "1 Failed download:\n",
      "['CPRT']: YFPricesMissingError('possibly delisted; no price data found  (1d 2025-09-13 00:00:00 -> 2025-09-15 00:00:00)')\n"
     ]
    },
    {
     "name": "stdout",
     "output_type": "stream",
     "text": [
      "Téléchargement des données pour CPT de 2025-09-13 00:00:00 à 2025-09-15 00:00:00\n"
     ]
    },
    {
     "name": "stderr",
     "output_type": "stream",
     "text": [
      "[*********************100%***********************]  1 of 1 completed\n",
      "\n",
      "1 Failed download:\n",
      "['CPT']: YFPricesMissingError('possibly delisted; no price data found  (1d 2025-09-13 00:00:00 -> 2025-09-15 00:00:00)')\n"
     ]
    },
    {
     "name": "stdout",
     "output_type": "stream",
     "text": [
      "Téléchargement des données pour CRL de 2025-09-13 00:00:00 à 2025-09-15 00:00:00\n"
     ]
    },
    {
     "name": "stderr",
     "output_type": "stream",
     "text": [
      "[*********************100%***********************]  1 of 1 completed\n",
      "\n",
      "1 Failed download:\n",
      "['CRL']: YFPricesMissingError('possibly delisted; no price data found  (1d 2025-09-13 00:00:00 -> 2025-09-15 00:00:00)')\n"
     ]
    },
    {
     "name": "stdout",
     "output_type": "stream",
     "text": [
      "Téléchargement des données pour CRM de 2025-09-13 00:00:00 à 2025-09-15 00:00:00\n"
     ]
    },
    {
     "name": "stderr",
     "output_type": "stream",
     "text": [
      "[*********************100%***********************]  1 of 1 completed\n",
      "\n",
      "1 Failed download:\n",
      "['CRM']: YFPricesMissingError('possibly delisted; no price data found  (1d 2025-09-13 00:00:00 -> 2025-09-15 00:00:00)')\n"
     ]
    },
    {
     "name": "stdout",
     "output_type": "stream",
     "text": [
      "Téléchargement des données pour CRWD de 2025-09-13 00:00:00 à 2025-09-15 00:00:00\n"
     ]
    },
    {
     "name": "stderr",
     "output_type": "stream",
     "text": [
      "[*********************100%***********************]  1 of 1 completed\n",
      "\n",
      "1 Failed download:\n",
      "['CRWD']: YFPricesMissingError('possibly delisted; no price data found  (1d 2025-09-13 00:00:00 -> 2025-09-15 00:00:00)')\n"
     ]
    },
    {
     "name": "stdout",
     "output_type": "stream",
     "text": [
      "Téléchargement des données pour CSCO de 2025-09-13 00:00:00 à 2025-09-15 00:00:00\n"
     ]
    },
    {
     "name": "stderr",
     "output_type": "stream",
     "text": [
      "[*********************100%***********************]  1 of 1 completed\n",
      "\n",
      "1 Failed download:\n",
      "['CSCO']: YFPricesMissingError('possibly delisted; no price data found  (1d 2025-09-13 00:00:00 -> 2025-09-15 00:00:00)')\n"
     ]
    },
    {
     "name": "stdout",
     "output_type": "stream",
     "text": [
      "Téléchargement des données pour CSGP de 2025-09-13 00:00:00 à 2025-09-15 00:00:00\n"
     ]
    },
    {
     "name": "stderr",
     "output_type": "stream",
     "text": [
      "[*********************100%***********************]  1 of 1 completed\n",
      "\n",
      "1 Failed download:\n",
      "['CSGP']: YFPricesMissingError('possibly delisted; no price data found  (1d 2025-09-13 00:00:00 -> 2025-09-15 00:00:00)')\n"
     ]
    },
    {
     "name": "stdout",
     "output_type": "stream",
     "text": [
      "Téléchargement des données pour CSX de 2025-09-13 00:00:00 à 2025-09-15 00:00:00\n"
     ]
    },
    {
     "name": "stderr",
     "output_type": "stream",
     "text": [
      "[*********************100%***********************]  1 of 1 completed\n",
      "\n",
      "1 Failed download:\n",
      "['CSX']: YFPricesMissingError('possibly delisted; no price data found  (1d 2025-09-13 00:00:00 -> 2025-09-15 00:00:00)')\n"
     ]
    },
    {
     "name": "stdout",
     "output_type": "stream",
     "text": [
      "Téléchargement des données pour CTAS de 2025-09-13 00:00:00 à 2025-09-15 00:00:00\n"
     ]
    },
    {
     "name": "stderr",
     "output_type": "stream",
     "text": [
      "[*********************100%***********************]  1 of 1 completed\n",
      "\n",
      "1 Failed download:\n",
      "['CTAS']: YFPricesMissingError('possibly delisted; no price data found  (1d 2025-09-13 00:00:00 -> 2025-09-15 00:00:00)')\n"
     ]
    },
    {
     "name": "stdout",
     "output_type": "stream",
     "text": [
      "Téléchargement des données pour CTRA de 2025-09-13 00:00:00 à 2025-09-15 00:00:00\n"
     ]
    },
    {
     "name": "stderr",
     "output_type": "stream",
     "text": [
      "[*********************100%***********************]  1 of 1 completed\n",
      "\n",
      "1 Failed download:\n",
      "['CTRA']: YFPricesMissingError('possibly delisted; no price data found  (1d 2025-09-13 00:00:00 -> 2025-09-15 00:00:00)')\n"
     ]
    },
    {
     "name": "stdout",
     "output_type": "stream",
     "text": [
      "Téléchargement des données pour CTSH de 2025-09-13 00:00:00 à 2025-09-15 00:00:00\n"
     ]
    },
    {
     "name": "stderr",
     "output_type": "stream",
     "text": [
      "[*********************100%***********************]  1 of 1 completed\n",
      "\n",
      "1 Failed download:\n",
      "['CTSH']: YFPricesMissingError('possibly delisted; no price data found  (1d 2025-09-13 00:00:00 -> 2025-09-15 00:00:00)')\n"
     ]
    },
    {
     "name": "stdout",
     "output_type": "stream",
     "text": [
      "Téléchargement des données pour CTVA de 2025-09-13 00:00:00 à 2025-09-15 00:00:00\n"
     ]
    },
    {
     "name": "stderr",
     "output_type": "stream",
     "text": [
      "[*********************100%***********************]  1 of 1 completed\n",
      "\n",
      "1 Failed download:\n",
      "['CTVA']: YFPricesMissingError('possibly delisted; no price data found  (1d 2025-09-13 00:00:00 -> 2025-09-15 00:00:00)')\n"
     ]
    },
    {
     "name": "stdout",
     "output_type": "stream",
     "text": [
      "Téléchargement des données pour CVS de 2025-09-13 00:00:00 à 2025-09-15 00:00:00\n"
     ]
    },
    {
     "name": "stderr",
     "output_type": "stream",
     "text": [
      "[*********************100%***********************]  1 of 1 completed\n",
      "\n",
      "1 Failed download:\n",
      "['CVS']: YFPricesMissingError('possibly delisted; no price data found  (1d 2025-09-13 00:00:00 -> 2025-09-15 00:00:00)')\n"
     ]
    },
    {
     "name": "stdout",
     "output_type": "stream",
     "text": [
      "Téléchargement des données pour CVX de 2025-09-13 00:00:00 à 2025-09-15 00:00:00\n"
     ]
    },
    {
     "name": "stderr",
     "output_type": "stream",
     "text": [
      "[*********************100%***********************]  1 of 1 completed\n",
      "\n",
      "1 Failed download:\n",
      "['CVX']: YFPricesMissingError('possibly delisted; no price data found  (1d 2025-09-13 00:00:00 -> 2025-09-15 00:00:00)')\n"
     ]
    },
    {
     "name": "stdout",
     "output_type": "stream",
     "text": [
      "Téléchargement des données pour D de 2025-09-13 00:00:00 à 2025-09-15 00:00:00\n"
     ]
    },
    {
     "name": "stderr",
     "output_type": "stream",
     "text": [
      "[*********************100%***********************]  1 of 1 completed\n",
      "\n",
      "1 Failed download:\n",
      "['D']: YFPricesMissingError('possibly delisted; no price data found  (1d 2025-09-13 00:00:00 -> 2025-09-15 00:00:00)')\n"
     ]
    },
    {
     "name": "stdout",
     "output_type": "stream",
     "text": [
      "Téléchargement des données pour DAL de 2025-09-13 00:00:00 à 2025-09-15 00:00:00\n"
     ]
    },
    {
     "name": "stderr",
     "output_type": "stream",
     "text": [
      "[*********************100%***********************]  1 of 1 completed\n",
      "\n",
      "1 Failed download:\n",
      "['DAL']: YFPricesMissingError('possibly delisted; no price data found  (1d 2025-09-13 00:00:00 -> 2025-09-15 00:00:00)')\n"
     ]
    },
    {
     "name": "stdout",
     "output_type": "stream",
     "text": [
      "Téléchargement des données pour DASH de 2025-09-13 00:00:00 à 2025-09-15 00:00:00\n"
     ]
    },
    {
     "name": "stderr",
     "output_type": "stream",
     "text": [
      "[*********************100%***********************]  1 of 1 completed\n",
      "\n",
      "1 Failed download:\n",
      "['DASH']: YFPricesMissingError('possibly delisted; no price data found  (1d 2025-09-13 00:00:00 -> 2025-09-15 00:00:00)')\n"
     ]
    },
    {
     "name": "stdout",
     "output_type": "stream",
     "text": [
      "Téléchargement des données pour DAY de 2025-09-13 00:00:00 à 2025-09-15 00:00:00\n"
     ]
    },
    {
     "name": "stderr",
     "output_type": "stream",
     "text": [
      "[*********************100%***********************]  1 of 1 completed\n",
      "\n",
      "1 Failed download:\n",
      "['DAY']: YFPricesMissingError('possibly delisted; no price data found  (1d 2025-09-13 00:00:00 -> 2025-09-15 00:00:00)')\n"
     ]
    },
    {
     "name": "stdout",
     "output_type": "stream",
     "text": [
      "Téléchargement des données pour DD de 2025-09-13 00:00:00 à 2025-09-15 00:00:00\n"
     ]
    },
    {
     "name": "stderr",
     "output_type": "stream",
     "text": [
      "[*********************100%***********************]  1 of 1 completed\n",
      "\n",
      "1 Failed download:\n",
      "['DD']: YFPricesMissingError('possibly delisted; no price data found  (1d 2025-09-13 00:00:00 -> 2025-09-15 00:00:00)')\n"
     ]
    },
    {
     "name": "stdout",
     "output_type": "stream",
     "text": [
      "Téléchargement des données pour DDOG de 2025-09-13 00:00:00 à 2025-09-15 00:00:00\n"
     ]
    },
    {
     "name": "stderr",
     "output_type": "stream",
     "text": [
      "[*********************100%***********************]  1 of 1 completed\n",
      "\n",
      "1 Failed download:\n",
      "['DDOG']: YFPricesMissingError('possibly delisted; no price data found  (1d 2025-09-13 00:00:00 -> 2025-09-15 00:00:00)')\n"
     ]
    },
    {
     "name": "stdout",
     "output_type": "stream",
     "text": [
      "Téléchargement des données pour DE de 2025-09-13 00:00:00 à 2025-09-15 00:00:00\n"
     ]
    },
    {
     "name": "stderr",
     "output_type": "stream",
     "text": [
      "[*********************100%***********************]  1 of 1 completed\n",
      "\n",
      "1 Failed download:\n",
      "['DE']: YFPricesMissingError('possibly delisted; no price data found  (1d 2025-09-13 00:00:00 -> 2025-09-15 00:00:00)')\n"
     ]
    },
    {
     "name": "stdout",
     "output_type": "stream",
     "text": [
      "Téléchargement des données pour DECK de 2025-09-13 00:00:00 à 2025-09-15 00:00:00\n"
     ]
    },
    {
     "name": "stderr",
     "output_type": "stream",
     "text": [
      "[*********************100%***********************]  1 of 1 completed\n",
      "\n",
      "1 Failed download:\n",
      "['DECK']: YFPricesMissingError('possibly delisted; no price data found  (1d 2025-09-13 00:00:00 -> 2025-09-15 00:00:00)')\n"
     ]
    },
    {
     "name": "stdout",
     "output_type": "stream",
     "text": [
      "Téléchargement des données pour DELL de 2025-09-13 00:00:00 à 2025-09-15 00:00:00\n"
     ]
    },
    {
     "name": "stderr",
     "output_type": "stream",
     "text": [
      "[*********************100%***********************]  1 of 1 completed\n",
      "\n",
      "1 Failed download:\n",
      "['DELL']: YFPricesMissingError('possibly delisted; no price data found  (1d 2025-09-13 00:00:00 -> 2025-09-15 00:00:00)')\n"
     ]
    },
    {
     "name": "stdout",
     "output_type": "stream",
     "text": [
      "Téléchargement des données pour DG de 2025-09-13 00:00:00 à 2025-09-15 00:00:00\n"
     ]
    },
    {
     "name": "stderr",
     "output_type": "stream",
     "text": [
      "[*********************100%***********************]  1 of 1 completed\n",
      "\n",
      "1 Failed download:\n",
      "['DG']: YFPricesMissingError('possibly delisted; no price data found  (1d 2025-09-13 00:00:00 -> 2025-09-15 00:00:00)')\n"
     ]
    },
    {
     "name": "stdout",
     "output_type": "stream",
     "text": [
      "Téléchargement des données pour DGX de 2025-09-13 00:00:00 à 2025-09-15 00:00:00\n"
     ]
    },
    {
     "name": "stderr",
     "output_type": "stream",
     "text": [
      "[*********************100%***********************]  1 of 1 completed\n",
      "\n",
      "1 Failed download:\n",
      "['DGX']: YFPricesMissingError('possibly delisted; no price data found  (1d 2025-09-13 00:00:00 -> 2025-09-15 00:00:00)')\n"
     ]
    },
    {
     "name": "stdout",
     "output_type": "stream",
     "text": [
      "Téléchargement des données pour DHI de 2025-09-13 00:00:00 à 2025-09-15 00:00:00\n"
     ]
    },
    {
     "name": "stderr",
     "output_type": "stream",
     "text": [
      "[*********************100%***********************]  1 of 1 completed\n",
      "\n",
      "1 Failed download:\n",
      "['DHI']: YFPricesMissingError('possibly delisted; no price data found  (1d 2025-09-13 00:00:00 -> 2025-09-15 00:00:00)')\n"
     ]
    },
    {
     "name": "stdout",
     "output_type": "stream",
     "text": [
      "Téléchargement des données pour DHR de 2025-09-13 00:00:00 à 2025-09-15 00:00:00\n"
     ]
    },
    {
     "name": "stderr",
     "output_type": "stream",
     "text": [
      "[*********************100%***********************]  1 of 1 completed\n",
      "\n",
      "1 Failed download:\n",
      "['DHR']: YFPricesMissingError('possibly delisted; no price data found  (1d 2025-09-13 00:00:00 -> 2025-09-15 00:00:00)')\n"
     ]
    },
    {
     "name": "stdout",
     "output_type": "stream",
     "text": [
      "Téléchargement des données pour DIS de 2025-09-13 00:00:00 à 2025-09-15 00:00:00\n"
     ]
    },
    {
     "name": "stderr",
     "output_type": "stream",
     "text": [
      "[*********************100%***********************]  1 of 1 completed\n",
      "\n",
      "1 Failed download:\n",
      "['DIS']: YFPricesMissingError('possibly delisted; no price data found  (1d 2025-09-13 00:00:00 -> 2025-09-15 00:00:00)')\n"
     ]
    },
    {
     "name": "stdout",
     "output_type": "stream",
     "text": [
      "Téléchargement des données pour DLR de 2025-09-13 00:00:00 à 2025-09-15 00:00:00\n"
     ]
    },
    {
     "name": "stderr",
     "output_type": "stream",
     "text": [
      "[*********************100%***********************]  1 of 1 completed\n",
      "\n",
      "1 Failed download:\n",
      "['DLR']: YFPricesMissingError('possibly delisted; no price data found  (1d 2025-09-13 00:00:00 -> 2025-09-15 00:00:00)')\n"
     ]
    },
    {
     "name": "stdout",
     "output_type": "stream",
     "text": [
      "Téléchargement des données pour DLTR de 2025-09-13 00:00:00 à 2025-09-15 00:00:00\n"
     ]
    },
    {
     "name": "stderr",
     "output_type": "stream",
     "text": [
      "[*********************100%***********************]  1 of 1 completed\n",
      "\n",
      "1 Failed download:\n",
      "['DLTR']: YFPricesMissingError('possibly delisted; no price data found  (1d 2025-09-13 00:00:00 -> 2025-09-15 00:00:00)')\n"
     ]
    },
    {
     "name": "stdout",
     "output_type": "stream",
     "text": [
      "Téléchargement des données pour DOC de 2025-09-13 00:00:00 à 2025-09-15 00:00:00\n"
     ]
    },
    {
     "name": "stderr",
     "output_type": "stream",
     "text": [
      "[*********************100%***********************]  1 of 1 completed\n",
      "\n",
      "1 Failed download:\n",
      "['DOC']: YFPricesMissingError('possibly delisted; no price data found  (1d 2025-09-13 00:00:00 -> 2025-09-15 00:00:00)')\n"
     ]
    },
    {
     "name": "stdout",
     "output_type": "stream",
     "text": [
      "Téléchargement des données pour DOV de 2025-09-13 00:00:00 à 2025-09-15 00:00:00\n"
     ]
    },
    {
     "name": "stderr",
     "output_type": "stream",
     "text": [
      "[*********************100%***********************]  1 of 1 completed\n",
      "\n",
      "1 Failed download:\n",
      "['DOV']: YFPricesMissingError('possibly delisted; no price data found  (1d 2025-09-13 00:00:00 -> 2025-09-15 00:00:00)')\n"
     ]
    },
    {
     "name": "stdout",
     "output_type": "stream",
     "text": [
      "Téléchargement des données pour DOW de 2025-09-13 00:00:00 à 2025-09-15 00:00:00\n"
     ]
    },
    {
     "name": "stderr",
     "output_type": "stream",
     "text": [
      "[*********************100%***********************]  1 of 1 completed\n",
      "\n",
      "1 Failed download:\n",
      "['DOW']: YFPricesMissingError('possibly delisted; no price data found  (1d 2025-09-13 00:00:00 -> 2025-09-15 00:00:00)')\n"
     ]
    },
    {
     "name": "stdout",
     "output_type": "stream",
     "text": [
      "Téléchargement des données pour DPZ de 2025-09-13 00:00:00 à 2025-09-15 00:00:00\n"
     ]
    },
    {
     "name": "stderr",
     "output_type": "stream",
     "text": [
      "[*********************100%***********************]  1 of 1 completed\n",
      "\n",
      "1 Failed download:\n",
      "['DPZ']: YFPricesMissingError('possibly delisted; no price data found  (1d 2025-09-13 00:00:00 -> 2025-09-15 00:00:00)')\n"
     ]
    },
    {
     "name": "stdout",
     "output_type": "stream",
     "text": [
      "Téléchargement des données pour DRI de 2025-09-13 00:00:00 à 2025-09-15 00:00:00\n"
     ]
    },
    {
     "name": "stderr",
     "output_type": "stream",
     "text": [
      "[*********************100%***********************]  1 of 1 completed\n",
      "\n",
      "1 Failed download:\n",
      "['DRI']: YFPricesMissingError('possibly delisted; no price data found  (1d 2025-09-13 00:00:00 -> 2025-09-15 00:00:00)')\n"
     ]
    },
    {
     "name": "stdout",
     "output_type": "stream",
     "text": [
      "Téléchargement des données pour DTE de 2025-09-13 00:00:00 à 2025-09-15 00:00:00\n"
     ]
    },
    {
     "name": "stderr",
     "output_type": "stream",
     "text": [
      "[*********************100%***********************]  1 of 1 completed\n",
      "\n",
      "1 Failed download:\n",
      "['DTE']: YFPricesMissingError('possibly delisted; no price data found  (1d 2025-09-13 00:00:00 -> 2025-09-15 00:00:00)')\n"
     ]
    },
    {
     "name": "stdout",
     "output_type": "stream",
     "text": [
      "Téléchargement des données pour DUK de 2025-09-13 00:00:00 à 2025-09-15 00:00:00\n"
     ]
    },
    {
     "name": "stderr",
     "output_type": "stream",
     "text": [
      "[*********************100%***********************]  1 of 1 completed\n",
      "\n",
      "1 Failed download:\n",
      "['DUK']: YFPricesMissingError('possibly delisted; no price data found  (1d 2025-09-13 00:00:00 -> 2025-09-15 00:00:00)')\n"
     ]
    },
    {
     "name": "stdout",
     "output_type": "stream",
     "text": [
      "Téléchargement des données pour DVA de 2025-09-13 00:00:00 à 2025-09-15 00:00:00\n"
     ]
    },
    {
     "name": "stderr",
     "output_type": "stream",
     "text": [
      "[*********************100%***********************]  1 of 1 completed\n",
      "\n",
      "1 Failed download:\n",
      "['DVA']: YFPricesMissingError('possibly delisted; no price data found  (1d 2025-09-13 00:00:00 -> 2025-09-15 00:00:00)')\n"
     ]
    },
    {
     "name": "stdout",
     "output_type": "stream",
     "text": [
      "Téléchargement des données pour DVN de 2025-09-13 00:00:00 à 2025-09-15 00:00:00\n"
     ]
    },
    {
     "name": "stderr",
     "output_type": "stream",
     "text": [
      "[*********************100%***********************]  1 of 1 completed\n",
      "\n",
      "1 Failed download:\n",
      "['DVN']: YFPricesMissingError('possibly delisted; no price data found  (1d 2025-09-13 00:00:00 -> 2025-09-15 00:00:00)')\n"
     ]
    },
    {
     "name": "stdout",
     "output_type": "stream",
     "text": [
      "Téléchargement des données pour DXCM de 2025-09-13 00:00:00 à 2025-09-15 00:00:00\n"
     ]
    },
    {
     "name": "stderr",
     "output_type": "stream",
     "text": [
      "[*********************100%***********************]  1 of 1 completed\n",
      "\n",
      "1 Failed download:\n",
      "['DXCM']: YFPricesMissingError('possibly delisted; no price data found  (1d 2025-09-13 00:00:00 -> 2025-09-15 00:00:00)')\n"
     ]
    },
    {
     "name": "stdout",
     "output_type": "stream",
     "text": [
      "Téléchargement des données pour EA de 2025-09-13 00:00:00 à 2025-09-15 00:00:00\n"
     ]
    },
    {
     "name": "stderr",
     "output_type": "stream",
     "text": [
      "[*********************100%***********************]  1 of 1 completed\n",
      "\n",
      "1 Failed download:\n",
      "['EA']: YFPricesMissingError('possibly delisted; no price data found  (1d 2025-09-13 00:00:00 -> 2025-09-15 00:00:00)')\n"
     ]
    },
    {
     "name": "stdout",
     "output_type": "stream",
     "text": [
      "Téléchargement des données pour EBAY de 2025-09-13 00:00:00 à 2025-09-15 00:00:00\n"
     ]
    },
    {
     "name": "stderr",
     "output_type": "stream",
     "text": [
      "[*********************100%***********************]  1 of 1 completed\n",
      "\n",
      "1 Failed download:\n",
      "['EBAY']: YFPricesMissingError('possibly delisted; no price data found  (1d 2025-09-13 00:00:00 -> 2025-09-15 00:00:00)')\n"
     ]
    },
    {
     "name": "stdout",
     "output_type": "stream",
     "text": [
      "Téléchargement des données pour ECL de 2025-09-13 00:00:00 à 2025-09-15 00:00:00\n"
     ]
    },
    {
     "name": "stderr",
     "output_type": "stream",
     "text": [
      "[*********************100%***********************]  1 of 1 completed\n",
      "\n",
      "1 Failed download:\n",
      "['ECL']: YFPricesMissingError('possibly delisted; no price data found  (1d 2025-09-13 00:00:00 -> 2025-09-15 00:00:00)')\n"
     ]
    },
    {
     "name": "stdout",
     "output_type": "stream",
     "text": [
      "Téléchargement des données pour ED de 2025-09-13 00:00:00 à 2025-09-15 00:00:00\n"
     ]
    },
    {
     "name": "stderr",
     "output_type": "stream",
     "text": [
      "[*********************100%***********************]  1 of 1 completed\n",
      "\n",
      "1 Failed download:\n",
      "['ED']: YFPricesMissingError('possibly delisted; no price data found  (1d 2025-09-13 00:00:00 -> 2025-09-15 00:00:00)')\n"
     ]
    },
    {
     "name": "stdout",
     "output_type": "stream",
     "text": [
      "Téléchargement des données pour EFX de 2025-09-13 00:00:00 à 2025-09-15 00:00:00\n"
     ]
    },
    {
     "name": "stderr",
     "output_type": "stream",
     "text": [
      "[*********************100%***********************]  1 of 1 completed\n",
      "\n",
      "1 Failed download:\n",
      "['EFX']: YFPricesMissingError('possibly delisted; no price data found  (1d 2025-09-13 00:00:00 -> 2025-09-15 00:00:00)')\n"
     ]
    },
    {
     "name": "stdout",
     "output_type": "stream",
     "text": [
      "Téléchargement des données pour EG de 2025-09-13 00:00:00 à 2025-09-15 00:00:00\n"
     ]
    },
    {
     "name": "stderr",
     "output_type": "stream",
     "text": [
      "[*********************100%***********************]  1 of 1 completed\n",
      "\n",
      "1 Failed download:\n",
      "['EG']: YFPricesMissingError('possibly delisted; no price data found  (1d 2025-09-13 00:00:00 -> 2025-09-15 00:00:00)')\n"
     ]
    },
    {
     "name": "stdout",
     "output_type": "stream",
     "text": [
      "Téléchargement des données pour EIX de 2025-09-13 00:00:00 à 2025-09-15 00:00:00\n"
     ]
    },
    {
     "name": "stderr",
     "output_type": "stream",
     "text": [
      "[*********************100%***********************]  1 of 1 completed\n",
      "\n",
      "1 Failed download:\n",
      "['EIX']: YFPricesMissingError('possibly delisted; no price data found  (1d 2025-09-13 00:00:00 -> 2025-09-15 00:00:00)')\n"
     ]
    },
    {
     "name": "stdout",
     "output_type": "stream",
     "text": [
      "Téléchargement des données pour EL de 2025-09-13 00:00:00 à 2025-09-15 00:00:00\n"
     ]
    },
    {
     "name": "stderr",
     "output_type": "stream",
     "text": [
      "[*********************100%***********************]  1 of 1 completed\n",
      "\n",
      "1 Failed download:\n",
      "['EL']: YFPricesMissingError('possibly delisted; no price data found  (1d 2025-09-13 00:00:00 -> 2025-09-15 00:00:00)')\n"
     ]
    },
    {
     "name": "stdout",
     "output_type": "stream",
     "text": [
      "Téléchargement des données pour ELV de 2025-09-13 00:00:00 à 2025-09-15 00:00:00\n"
     ]
    },
    {
     "name": "stderr",
     "output_type": "stream",
     "text": [
      "[*********************100%***********************]  1 of 1 completed\n",
      "\n",
      "1 Failed download:\n",
      "['ELV']: YFPricesMissingError('possibly delisted; no price data found  (1d 2025-09-13 00:00:00 -> 2025-09-15 00:00:00)')\n"
     ]
    },
    {
     "name": "stdout",
     "output_type": "stream",
     "text": [
      "Téléchargement des données pour EMN de 2025-09-13 00:00:00 à 2025-09-15 00:00:00\n"
     ]
    },
    {
     "name": "stderr",
     "output_type": "stream",
     "text": [
      "[*********************100%***********************]  1 of 1 completed\n",
      "\n",
      "1 Failed download:\n",
      "['EMN']: YFPricesMissingError('possibly delisted; no price data found  (1d 2025-09-13 00:00:00 -> 2025-09-15 00:00:00)')\n"
     ]
    },
    {
     "name": "stdout",
     "output_type": "stream",
     "text": [
      "Téléchargement des données pour EMR de 2025-09-13 00:00:00 à 2025-09-15 00:00:00\n"
     ]
    },
    {
     "name": "stderr",
     "output_type": "stream",
     "text": [
      "[*********************100%***********************]  1 of 1 completed\n",
      "\n",
      "1 Failed download:\n",
      "['EMR']: YFPricesMissingError('possibly delisted; no price data found  (1d 2025-09-13 00:00:00 -> 2025-09-15 00:00:00)')\n"
     ]
    },
    {
     "name": "stdout",
     "output_type": "stream",
     "text": [
      "Téléchargement des données pour EOG de 2025-09-13 00:00:00 à 2025-09-15 00:00:00\n"
     ]
    },
    {
     "name": "stderr",
     "output_type": "stream",
     "text": [
      "[*********************100%***********************]  1 of 1 completed\n",
      "\n",
      "1 Failed download:\n",
      "['EOG']: YFPricesMissingError('possibly delisted; no price data found  (1d 2025-09-13 00:00:00 -> 2025-09-15 00:00:00)')\n"
     ]
    },
    {
     "name": "stdout",
     "output_type": "stream",
     "text": [
      "Téléchargement des données pour EPAM de 2025-09-13 00:00:00 à 2025-09-15 00:00:00\n"
     ]
    },
    {
     "name": "stderr",
     "output_type": "stream",
     "text": [
      "[*********************100%***********************]  1 of 1 completed\n",
      "\n",
      "1 Failed download:\n",
      "['EPAM']: YFPricesMissingError('possibly delisted; no price data found  (1d 2025-09-13 00:00:00 -> 2025-09-15 00:00:00)')\n"
     ]
    },
    {
     "name": "stdout",
     "output_type": "stream",
     "text": [
      "Téléchargement des données pour EQIX de 2025-09-13 00:00:00 à 2025-09-15 00:00:00\n"
     ]
    },
    {
     "name": "stderr",
     "output_type": "stream",
     "text": [
      "[*********************100%***********************]  1 of 1 completed\n",
      "\n",
      "1 Failed download:\n",
      "['EQIX']: YFPricesMissingError('possibly delisted; no price data found  (1d 2025-09-13 00:00:00 -> 2025-09-15 00:00:00)')\n"
     ]
    },
    {
     "name": "stdout",
     "output_type": "stream",
     "text": [
      "Téléchargement des données pour EQR de 2025-09-13 00:00:00 à 2025-09-15 00:00:00\n"
     ]
    },
    {
     "name": "stderr",
     "output_type": "stream",
     "text": [
      "[*********************100%***********************]  1 of 1 completed\n",
      "\n",
      "1 Failed download:\n",
      "['EQR']: YFPricesMissingError('possibly delisted; no price data found  (1d 2025-09-13 00:00:00 -> 2025-09-15 00:00:00)')\n"
     ]
    },
    {
     "name": "stdout",
     "output_type": "stream",
     "text": [
      "Téléchargement des données pour EQT de 2025-09-13 00:00:00 à 2025-09-15 00:00:00\n"
     ]
    },
    {
     "name": "stderr",
     "output_type": "stream",
     "text": [
      "[*********************100%***********************]  1 of 1 completed\n",
      "\n",
      "1 Failed download:\n",
      "['EQT']: YFPricesMissingError('possibly delisted; no price data found  (1d 2025-09-13 00:00:00 -> 2025-09-15 00:00:00)')\n"
     ]
    },
    {
     "name": "stdout",
     "output_type": "stream",
     "text": [
      "Téléchargement des données pour ERIE de 2025-09-13 00:00:00 à 2025-09-15 00:00:00\n"
     ]
    },
    {
     "name": "stderr",
     "output_type": "stream",
     "text": [
      "[*********************100%***********************]  1 of 1 completed\n",
      "\n",
      "1 Failed download:\n",
      "['ERIE']: YFPricesMissingError('possibly delisted; no price data found  (1d 2025-09-13 00:00:00 -> 2025-09-15 00:00:00)')\n"
     ]
    },
    {
     "name": "stdout",
     "output_type": "stream",
     "text": [
      "Téléchargement des données pour ES de 2025-09-13 00:00:00 à 2025-09-15 00:00:00\n"
     ]
    },
    {
     "name": "stderr",
     "output_type": "stream",
     "text": [
      "[*********************100%***********************]  1 of 1 completed\n",
      "\n",
      "1 Failed download:\n",
      "['ES']: YFPricesMissingError('possibly delisted; no price data found  (1d 2025-09-13 00:00:00 -> 2025-09-15 00:00:00)')\n"
     ]
    },
    {
     "name": "stdout",
     "output_type": "stream",
     "text": [
      "Téléchargement des données pour ESS de 2025-09-13 00:00:00 à 2025-09-15 00:00:00\n"
     ]
    },
    {
     "name": "stderr",
     "output_type": "stream",
     "text": [
      "[*********************100%***********************]  1 of 1 completed\n",
      "\n",
      "1 Failed download:\n",
      "['ESS']: YFPricesMissingError('possibly delisted; no price data found  (1d 2025-09-13 00:00:00 -> 2025-09-15 00:00:00)')\n"
     ]
    },
    {
     "name": "stdout",
     "output_type": "stream",
     "text": [
      "Téléchargement des données pour ETN de 2025-09-13 00:00:00 à 2025-09-15 00:00:00\n"
     ]
    },
    {
     "name": "stderr",
     "output_type": "stream",
     "text": [
      "[*********************100%***********************]  1 of 1 completed\n",
      "\n",
      "1 Failed download:\n",
      "['ETN']: YFPricesMissingError('possibly delisted; no price data found  (1d 2025-09-13 00:00:00 -> 2025-09-15 00:00:00)')\n"
     ]
    },
    {
     "name": "stdout",
     "output_type": "stream",
     "text": [
      "Téléchargement des données pour ETR de 2025-09-13 00:00:00 à 2025-09-15 00:00:00\n"
     ]
    },
    {
     "name": "stderr",
     "output_type": "stream",
     "text": [
      "[*********************100%***********************]  1 of 1 completed\n",
      "\n",
      "1 Failed download:\n",
      "['ETR']: YFPricesMissingError('possibly delisted; no price data found  (1d 2025-09-13 00:00:00 -> 2025-09-15 00:00:00)')\n"
     ]
    },
    {
     "name": "stdout",
     "output_type": "stream",
     "text": [
      "Téléchargement des données pour EVRG de 2025-09-13 00:00:00 à 2025-09-15 00:00:00\n"
     ]
    },
    {
     "name": "stderr",
     "output_type": "stream",
     "text": [
      "[*********************100%***********************]  1 of 1 completed\n",
      "\n",
      "1 Failed download:\n",
      "['EVRG']: YFPricesMissingError('possibly delisted; no price data found  (1d 2025-09-13 00:00:00 -> 2025-09-15 00:00:00)')\n"
     ]
    },
    {
     "name": "stdout",
     "output_type": "stream",
     "text": [
      "Téléchargement des données pour EW de 2025-09-13 00:00:00 à 2025-09-15 00:00:00\n"
     ]
    },
    {
     "name": "stderr",
     "output_type": "stream",
     "text": [
      "[*********************100%***********************]  1 of 1 completed\n",
      "\n",
      "1 Failed download:\n",
      "['EW']: YFPricesMissingError('possibly delisted; no price data found  (1d 2025-09-13 00:00:00 -> 2025-09-15 00:00:00)')\n"
     ]
    },
    {
     "name": "stdout",
     "output_type": "stream",
     "text": [
      "Téléchargement des données pour EXC de 2025-09-13 00:00:00 à 2025-09-15 00:00:00\n"
     ]
    },
    {
     "name": "stderr",
     "output_type": "stream",
     "text": [
      "[*********************100%***********************]  1 of 1 completed\n",
      "\n",
      "1 Failed download:\n",
      "['EXC']: YFPricesMissingError('possibly delisted; no price data found  (1d 2025-09-13 00:00:00 -> 2025-09-15 00:00:00)')\n"
     ]
    },
    {
     "name": "stdout",
     "output_type": "stream",
     "text": [
      "Téléchargement des données pour EXE de 2025-09-13 00:00:00 à 2025-09-15 00:00:00\n"
     ]
    },
    {
     "name": "stderr",
     "output_type": "stream",
     "text": [
      "[*********************100%***********************]  1 of 1 completed\n",
      "\n",
      "1 Failed download:\n",
      "['EXE']: YFPricesMissingError('possibly delisted; no price data found  (1d 2025-09-13 00:00:00 -> 2025-09-15 00:00:00)')\n"
     ]
    },
    {
     "name": "stdout",
     "output_type": "stream",
     "text": [
      "Téléchargement des données pour EXPD de 2025-09-13 00:00:00 à 2025-09-15 00:00:00\n"
     ]
    },
    {
     "name": "stderr",
     "output_type": "stream",
     "text": [
      "[*********************100%***********************]  1 of 1 completed\n",
      "\n",
      "1 Failed download:\n",
      "['EXPD']: YFPricesMissingError('possibly delisted; no price data found  (1d 2025-09-13 00:00:00 -> 2025-09-15 00:00:00)')\n"
     ]
    },
    {
     "name": "stdout",
     "output_type": "stream",
     "text": [
      "Téléchargement des données pour EXPE de 2025-09-13 00:00:00 à 2025-09-15 00:00:00\n"
     ]
    },
    {
     "name": "stderr",
     "output_type": "stream",
     "text": [
      "[*********************100%***********************]  1 of 1 completed\n",
      "\n",
      "1 Failed download:\n",
      "['EXPE']: YFPricesMissingError('possibly delisted; no price data found  (1d 2025-09-13 00:00:00 -> 2025-09-15 00:00:00)')\n"
     ]
    },
    {
     "name": "stdout",
     "output_type": "stream",
     "text": [
      "Téléchargement des données pour EXR de 2025-09-13 00:00:00 à 2025-09-15 00:00:00\n"
     ]
    },
    {
     "name": "stderr",
     "output_type": "stream",
     "text": [
      "[*********************100%***********************]  1 of 1 completed\n",
      "\n",
      "1 Failed download:\n",
      "['EXR']: YFPricesMissingError('possibly delisted; no price data found  (1d 2025-09-13 00:00:00 -> 2025-09-15 00:00:00)')\n"
     ]
    },
    {
     "name": "stdout",
     "output_type": "stream",
     "text": [
      "Téléchargement des données pour F de 2025-09-13 00:00:00 à 2025-09-15 00:00:00\n"
     ]
    },
    {
     "name": "stderr",
     "output_type": "stream",
     "text": [
      "[*********************100%***********************]  1 of 1 completed\n",
      "\n",
      "1 Failed download:\n",
      "['F']: YFPricesMissingError('possibly delisted; no price data found  (1d 2025-09-13 00:00:00 -> 2025-09-15 00:00:00)')\n"
     ]
    },
    {
     "name": "stdout",
     "output_type": "stream",
     "text": [
      "Téléchargement des données pour FANG de 2025-09-13 00:00:00 à 2025-09-15 00:00:00\n"
     ]
    },
    {
     "name": "stderr",
     "output_type": "stream",
     "text": [
      "[*********************100%***********************]  1 of 1 completed\n",
      "\n",
      "1 Failed download:\n",
      "['FANG']: YFPricesMissingError('possibly delisted; no price data found  (1d 2025-09-13 00:00:00 -> 2025-09-15 00:00:00)')\n"
     ]
    },
    {
     "name": "stdout",
     "output_type": "stream",
     "text": [
      "Téléchargement des données pour FAST de 2025-09-13 00:00:00 à 2025-09-15 00:00:00\n"
     ]
    },
    {
     "name": "stderr",
     "output_type": "stream",
     "text": [
      "[*********************100%***********************]  1 of 1 completed\n",
      "\n",
      "1 Failed download:\n",
      "['FAST']: YFPricesMissingError('possibly delisted; no price data found  (1d 2025-09-13 00:00:00 -> 2025-09-15 00:00:00)')\n"
     ]
    },
    {
     "name": "stdout",
     "output_type": "stream",
     "text": [
      "Téléchargement des données pour FCX de 2025-09-13 00:00:00 à 2025-09-15 00:00:00\n"
     ]
    },
    {
     "name": "stderr",
     "output_type": "stream",
     "text": [
      "[*********************100%***********************]  1 of 1 completed\n",
      "\n",
      "1 Failed download:\n",
      "['FCX']: YFPricesMissingError('possibly delisted; no price data found  (1d 2025-09-13 00:00:00 -> 2025-09-15 00:00:00)')\n"
     ]
    },
    {
     "name": "stdout",
     "output_type": "stream",
     "text": [
      "Téléchargement des données pour FDS de 2025-09-13 00:00:00 à 2025-09-15 00:00:00\n"
     ]
    },
    {
     "name": "stderr",
     "output_type": "stream",
     "text": [
      "[*********************100%***********************]  1 of 1 completed\n",
      "\n",
      "1 Failed download:\n",
      "['FDS']: YFPricesMissingError('possibly delisted; no price data found  (1d 2025-09-13 00:00:00 -> 2025-09-15 00:00:00)')\n"
     ]
    },
    {
     "name": "stdout",
     "output_type": "stream",
     "text": [
      "Téléchargement des données pour FDX de 2025-09-13 00:00:00 à 2025-09-15 00:00:00\n"
     ]
    },
    {
     "name": "stderr",
     "output_type": "stream",
     "text": [
      "[*********************100%***********************]  1 of 1 completed\n",
      "\n",
      "1 Failed download:\n",
      "['FDX']: YFPricesMissingError('possibly delisted; no price data found  (1d 2025-09-13 00:00:00 -> 2025-09-15 00:00:00)')\n"
     ]
    },
    {
     "name": "stdout",
     "output_type": "stream",
     "text": [
      "Téléchargement des données pour FE de 2025-09-13 00:00:00 à 2025-09-15 00:00:00\n"
     ]
    },
    {
     "name": "stderr",
     "output_type": "stream",
     "text": [
      "[*********************100%***********************]  1 of 1 completed\n",
      "\n",
      "1 Failed download:\n",
      "['FE']: YFPricesMissingError('possibly delisted; no price data found  (1d 2025-09-13 00:00:00 -> 2025-09-15 00:00:00)')\n"
     ]
    },
    {
     "name": "stdout",
     "output_type": "stream",
     "text": [
      "Téléchargement des données pour FFIV de 2025-09-13 00:00:00 à 2025-09-15 00:00:00\n"
     ]
    },
    {
     "name": "stderr",
     "output_type": "stream",
     "text": [
      "[*********************100%***********************]  1 of 1 completed\n",
      "\n",
      "1 Failed download:\n",
      "['FFIV']: YFPricesMissingError('possibly delisted; no price data found  (1d 2025-09-13 00:00:00 -> 2025-09-15 00:00:00)')\n"
     ]
    },
    {
     "name": "stdout",
     "output_type": "stream",
     "text": [
      "Téléchargement des données pour FI de 2025-09-13 00:00:00 à 2025-09-15 00:00:00\n"
     ]
    },
    {
     "name": "stderr",
     "output_type": "stream",
     "text": [
      "[*********************100%***********************]  1 of 1 completed\n",
      "\n",
      "1 Failed download:\n",
      "['FI']: YFPricesMissingError('possibly delisted; no price data found  (1d 2025-09-13 00:00:00 -> 2025-09-15 00:00:00)')\n"
     ]
    },
    {
     "name": "stdout",
     "output_type": "stream",
     "text": [
      "Téléchargement des données pour FICO de 2025-09-13 00:00:00 à 2025-09-15 00:00:00\n"
     ]
    },
    {
     "name": "stderr",
     "output_type": "stream",
     "text": [
      "[*********************100%***********************]  1 of 1 completed\n",
      "\n",
      "1 Failed download:\n",
      "['FICO']: YFPricesMissingError('possibly delisted; no price data found  (1d 2025-09-13 00:00:00 -> 2025-09-15 00:00:00)')\n"
     ]
    },
    {
     "name": "stdout",
     "output_type": "stream",
     "text": [
      "Téléchargement des données pour FIS de 2025-09-13 00:00:00 à 2025-09-15 00:00:00\n"
     ]
    },
    {
     "name": "stderr",
     "output_type": "stream",
     "text": [
      "[*********************100%***********************]  1 of 1 completed\n",
      "\n",
      "1 Failed download:\n",
      "['FIS']: YFPricesMissingError('possibly delisted; no price data found  (1d 2025-09-13 00:00:00 -> 2025-09-15 00:00:00)')\n"
     ]
    },
    {
     "name": "stdout",
     "output_type": "stream",
     "text": [
      "Téléchargement des données pour FITB de 2025-09-13 00:00:00 à 2025-09-15 00:00:00\n"
     ]
    },
    {
     "name": "stderr",
     "output_type": "stream",
     "text": [
      "[*********************100%***********************]  1 of 1 completed\n",
      "\n",
      "1 Failed download:\n",
      "['FITB']: YFPricesMissingError('possibly delisted; no price data found  (1d 2025-09-13 00:00:00 -> 2025-09-15 00:00:00)')\n"
     ]
    },
    {
     "name": "stdout",
     "output_type": "stream",
     "text": [
      "Téléchargement des données pour FOX de 2025-09-13 00:00:00 à 2025-09-15 00:00:00\n"
     ]
    },
    {
     "name": "stderr",
     "output_type": "stream",
     "text": [
      "[*********************100%***********************]  1 of 1 completed\n",
      "\n",
      "1 Failed download:\n",
      "['FOX']: YFPricesMissingError('possibly delisted; no price data found  (1d 2025-09-13 00:00:00 -> 2025-09-15 00:00:00)')\n"
     ]
    },
    {
     "name": "stdout",
     "output_type": "stream",
     "text": [
      "Téléchargement des données pour FOXA de 2025-09-13 00:00:00 à 2025-09-15 00:00:00\n"
     ]
    },
    {
     "name": "stderr",
     "output_type": "stream",
     "text": [
      "[*********************100%***********************]  1 of 1 completed\n",
      "\n",
      "1 Failed download:\n",
      "['FOXA']: YFPricesMissingError('possibly delisted; no price data found  (1d 2025-09-13 00:00:00 -> 2025-09-15 00:00:00)')\n"
     ]
    },
    {
     "name": "stdout",
     "output_type": "stream",
     "text": [
      "Téléchargement des données pour FRT de 2025-09-13 00:00:00 à 2025-09-15 00:00:00\n"
     ]
    },
    {
     "name": "stderr",
     "output_type": "stream",
     "text": [
      "[*********************100%***********************]  1 of 1 completed\n",
      "\n",
      "1 Failed download:\n",
      "['FRT']: YFPricesMissingError('possibly delisted; no price data found  (1d 2025-09-13 00:00:00 -> 2025-09-15 00:00:00)')\n"
     ]
    },
    {
     "name": "stdout",
     "output_type": "stream",
     "text": [
      "Téléchargement des données pour FSLR de 2025-09-13 00:00:00 à 2025-09-15 00:00:00\n"
     ]
    },
    {
     "name": "stderr",
     "output_type": "stream",
     "text": [
      "[*********************100%***********************]  1 of 1 completed\n",
      "\n",
      "1 Failed download:\n",
      "['FSLR']: YFPricesMissingError('possibly delisted; no price data found  (1d 2025-09-13 00:00:00 -> 2025-09-15 00:00:00)')\n"
     ]
    },
    {
     "name": "stdout",
     "output_type": "stream",
     "text": [
      "Téléchargement des données pour FTNT de 2025-09-13 00:00:00 à 2025-09-15 00:00:00\n"
     ]
    },
    {
     "name": "stderr",
     "output_type": "stream",
     "text": [
      "[*********************100%***********************]  1 of 1 completed\n",
      "\n",
      "1 Failed download:\n",
      "['FTNT']: YFPricesMissingError('possibly delisted; no price data found  (1d 2025-09-13 00:00:00 -> 2025-09-15 00:00:00)')\n"
     ]
    },
    {
     "name": "stdout",
     "output_type": "stream",
     "text": [
      "Téléchargement des données pour FTV de 2025-09-13 00:00:00 à 2025-09-15 00:00:00\n"
     ]
    },
    {
     "name": "stderr",
     "output_type": "stream",
     "text": [
      "[*********************100%***********************]  1 of 1 completed\n",
      "\n",
      "1 Failed download:\n",
      "['FTV']: YFPricesMissingError('possibly delisted; no price data found  (1d 2025-09-13 00:00:00 -> 2025-09-15 00:00:00)')\n"
     ]
    },
    {
     "name": "stdout",
     "output_type": "stream",
     "text": [
      "Téléchargement des données pour GD de 2025-09-13 00:00:00 à 2025-09-15 00:00:00\n"
     ]
    },
    {
     "name": "stderr",
     "output_type": "stream",
     "text": [
      "[*********************100%***********************]  1 of 1 completed\n",
      "\n",
      "1 Failed download:\n",
      "['GD']: YFPricesMissingError('possibly delisted; no price data found  (1d 2025-09-13 00:00:00 -> 2025-09-15 00:00:00)')\n"
     ]
    },
    {
     "name": "stdout",
     "output_type": "stream",
     "text": [
      "Téléchargement des données pour GDDY de 2025-09-13 00:00:00 à 2025-09-15 00:00:00\n"
     ]
    },
    {
     "name": "stderr",
     "output_type": "stream",
     "text": [
      "[*********************100%***********************]  1 of 1 completed\n",
      "\n",
      "1 Failed download:\n",
      "['GDDY']: YFPricesMissingError('possibly delisted; no price data found  (1d 2025-09-13 00:00:00 -> 2025-09-15 00:00:00)')\n"
     ]
    },
    {
     "name": "stdout",
     "output_type": "stream",
     "text": [
      "Téléchargement des données pour GE de 2025-09-13 00:00:00 à 2025-09-15 00:00:00\n"
     ]
    },
    {
     "name": "stderr",
     "output_type": "stream",
     "text": [
      "[*********************100%***********************]  1 of 1 completed\n",
      "\n",
      "1 Failed download:\n",
      "['GE']: YFPricesMissingError('possibly delisted; no price data found  (1d 2025-09-13 00:00:00 -> 2025-09-15 00:00:00)')\n"
     ]
    },
    {
     "name": "stdout",
     "output_type": "stream",
     "text": [
      "Téléchargement des données pour GEHC de 2025-09-13 00:00:00 à 2025-09-15 00:00:00\n"
     ]
    },
    {
     "name": "stderr",
     "output_type": "stream",
     "text": [
      "[*********************100%***********************]  1 of 1 completed\n",
      "\n",
      "1 Failed download:\n",
      "['GEHC']: YFPricesMissingError('possibly delisted; no price data found  (1d 2025-09-13 00:00:00 -> 2025-09-15 00:00:00)')\n"
     ]
    },
    {
     "name": "stdout",
     "output_type": "stream",
     "text": [
      "Téléchargement des données pour GEN de 2025-09-13 00:00:00 à 2025-09-15 00:00:00\n"
     ]
    },
    {
     "name": "stderr",
     "output_type": "stream",
     "text": [
      "[*********************100%***********************]  1 of 1 completed\n",
      "\n",
      "1 Failed download:\n",
      "['GEN']: YFPricesMissingError('possibly delisted; no price data found  (1d 2025-09-13 00:00:00 -> 2025-09-15 00:00:00)')\n"
     ]
    },
    {
     "name": "stdout",
     "output_type": "stream",
     "text": [
      "Téléchargement des données pour GEV de 2025-09-13 00:00:00 à 2025-09-15 00:00:00\n"
     ]
    },
    {
     "name": "stderr",
     "output_type": "stream",
     "text": [
      "[*********************100%***********************]  1 of 1 completed\n",
      "\n",
      "1 Failed download:\n",
      "['GEV']: YFPricesMissingError('possibly delisted; no price data found  (1d 2025-09-13 00:00:00 -> 2025-09-15 00:00:00)')\n"
     ]
    },
    {
     "name": "stdout",
     "output_type": "stream",
     "text": [
      "Téléchargement des données pour GILD de 2025-09-13 00:00:00 à 2025-09-15 00:00:00\n"
     ]
    },
    {
     "name": "stderr",
     "output_type": "stream",
     "text": [
      "[*********************100%***********************]  1 of 1 completed\n",
      "\n",
      "1 Failed download:\n",
      "['GILD']: YFPricesMissingError('possibly delisted; no price data found  (1d 2025-09-13 00:00:00 -> 2025-09-15 00:00:00)')\n"
     ]
    },
    {
     "name": "stdout",
     "output_type": "stream",
     "text": [
      "Téléchargement des données pour GIS de 2025-09-13 00:00:00 à 2025-09-15 00:00:00\n"
     ]
    },
    {
     "name": "stderr",
     "output_type": "stream",
     "text": [
      "[*********************100%***********************]  1 of 1 completed\n",
      "\n",
      "1 Failed download:\n",
      "['GIS']: YFPricesMissingError('possibly delisted; no price data found  (1d 2025-09-13 00:00:00 -> 2025-09-15 00:00:00)')\n"
     ]
    },
    {
     "name": "stdout",
     "output_type": "stream",
     "text": [
      "Téléchargement des données pour GL de 2025-09-13 00:00:00 à 2025-09-15 00:00:00\n"
     ]
    },
    {
     "name": "stderr",
     "output_type": "stream",
     "text": [
      "[*********************100%***********************]  1 of 1 completed\n",
      "\n",
      "1 Failed download:\n",
      "['GL']: YFPricesMissingError('possibly delisted; no price data found  (1d 2025-09-13 00:00:00 -> 2025-09-15 00:00:00)')\n"
     ]
    },
    {
     "name": "stdout",
     "output_type": "stream",
     "text": [
      "Téléchargement des données pour GLW de 2025-09-13 00:00:00 à 2025-09-15 00:00:00\n"
     ]
    },
    {
     "name": "stderr",
     "output_type": "stream",
     "text": [
      "[*********************100%***********************]  1 of 1 completed\n",
      "\n",
      "1 Failed download:\n",
      "['GLW']: YFPricesMissingError('possibly delisted; no price data found  (1d 2025-09-13 00:00:00 -> 2025-09-15 00:00:00)')\n"
     ]
    },
    {
     "name": "stdout",
     "output_type": "stream",
     "text": [
      "Téléchargement des données pour GM de 2025-09-13 00:00:00 à 2025-09-15 00:00:00\n"
     ]
    },
    {
     "name": "stderr",
     "output_type": "stream",
     "text": [
      "[*********************100%***********************]  1 of 1 completed\n",
      "\n",
      "1 Failed download:\n",
      "['GM']: YFPricesMissingError('possibly delisted; no price data found  (1d 2025-09-13 00:00:00 -> 2025-09-15 00:00:00)')\n"
     ]
    },
    {
     "name": "stdout",
     "output_type": "stream",
     "text": [
      "Téléchargement des données pour GNRC de 2025-09-13 00:00:00 à 2025-09-15 00:00:00\n"
     ]
    },
    {
     "name": "stderr",
     "output_type": "stream",
     "text": [
      "[*********************100%***********************]  1 of 1 completed\n",
      "\n",
      "1 Failed download:\n",
      "['GNRC']: YFPricesMissingError('possibly delisted; no price data found  (1d 2025-09-13 00:00:00 -> 2025-09-15 00:00:00)')\n"
     ]
    },
    {
     "name": "stdout",
     "output_type": "stream",
     "text": [
      "Téléchargement des données pour GOOG de 2025-09-13 00:00:00 à 2025-09-15 00:00:00\n"
     ]
    },
    {
     "name": "stderr",
     "output_type": "stream",
     "text": [
      "[*********************100%***********************]  1 of 1 completed\n",
      "\n",
      "1 Failed download:\n",
      "['GOOG']: YFPricesMissingError('possibly delisted; no price data found  (1d 2025-09-13 00:00:00 -> 2025-09-15 00:00:00)')\n"
     ]
    },
    {
     "name": "stdout",
     "output_type": "stream",
     "text": [
      "Téléchargement des données pour GOOGL de 2025-09-13 00:00:00 à 2025-09-15 00:00:00\n"
     ]
    },
    {
     "name": "stderr",
     "output_type": "stream",
     "text": [
      "[*********************100%***********************]  1 of 1 completed\n",
      "\n",
      "1 Failed download:\n",
      "['GOOGL']: YFPricesMissingError('possibly delisted; no price data found  (1d 2025-09-13 00:00:00 -> 2025-09-15 00:00:00)')\n"
     ]
    },
    {
     "name": "stdout",
     "output_type": "stream",
     "text": [
      "Téléchargement des données pour GPC de 2025-09-13 00:00:00 à 2025-09-15 00:00:00\n"
     ]
    },
    {
     "name": "stderr",
     "output_type": "stream",
     "text": [
      "[*********************100%***********************]  1 of 1 completed\n",
      "\n",
      "1 Failed download:\n",
      "['GPC']: YFPricesMissingError('possibly delisted; no price data found  (1d 2025-09-13 00:00:00 -> 2025-09-15 00:00:00)')\n"
     ]
    },
    {
     "name": "stdout",
     "output_type": "stream",
     "text": [
      "Téléchargement des données pour GPN de 2025-09-13 00:00:00 à 2025-09-15 00:00:00\n"
     ]
    },
    {
     "name": "stderr",
     "output_type": "stream",
     "text": [
      "[*********************100%***********************]  1 of 1 completed\n",
      "\n",
      "1 Failed download:\n",
      "['GPN']: YFPricesMissingError('possibly delisted; no price data found  (1d 2025-09-13 00:00:00 -> 2025-09-15 00:00:00)')\n"
     ]
    },
    {
     "name": "stdout",
     "output_type": "stream",
     "text": [
      "Téléchargement des données pour GRMN de 2025-09-13 00:00:00 à 2025-09-15 00:00:00\n"
     ]
    },
    {
     "name": "stderr",
     "output_type": "stream",
     "text": [
      "[*********************100%***********************]  1 of 1 completed\n",
      "\n",
      "1 Failed download:\n",
      "['GRMN']: YFPricesMissingError('possibly delisted; no price data found  (1d 2025-09-13 00:00:00 -> 2025-09-15 00:00:00)')\n"
     ]
    },
    {
     "name": "stdout",
     "output_type": "stream",
     "text": [
      "Téléchargement des données pour GS de 2025-09-13 00:00:00 à 2025-09-15 00:00:00\n"
     ]
    },
    {
     "name": "stderr",
     "output_type": "stream",
     "text": [
      "[*********************100%***********************]  1 of 1 completed\n",
      "\n",
      "1 Failed download:\n",
      "['GS']: YFPricesMissingError('possibly delisted; no price data found  (1d 2025-09-13 00:00:00 -> 2025-09-15 00:00:00)')\n"
     ]
    },
    {
     "name": "stdout",
     "output_type": "stream",
     "text": [
      "Téléchargement des données pour GWW de 2025-09-13 00:00:00 à 2025-09-15 00:00:00\n"
     ]
    },
    {
     "name": "stderr",
     "output_type": "stream",
     "text": [
      "[*********************100%***********************]  1 of 1 completed\n",
      "\n",
      "1 Failed download:\n",
      "['GWW']: YFPricesMissingError('possibly delisted; no price data found  (1d 2025-09-13 00:00:00 -> 2025-09-15 00:00:00)')\n"
     ]
    },
    {
     "name": "stdout",
     "output_type": "stream",
     "text": [
      "Téléchargement des données pour H de 2025-09-13 00:00:00 à 2025-09-15 00:00:00\n"
     ]
    },
    {
     "name": "stderr",
     "output_type": "stream",
     "text": [
      "[*********************100%***********************]  1 of 1 completed\n",
      "\n",
      "1 Failed download:\n",
      "['H']: YFPricesMissingError('possibly delisted; no price data found  (1d 2025-09-13 00:00:00 -> 2025-09-15 00:00:00)')\n"
     ]
    },
    {
     "name": "stdout",
     "output_type": "stream",
     "text": [
      "Téléchargement des données pour HAL de 2025-09-13 00:00:00 à 2025-09-15 00:00:00\n"
     ]
    },
    {
     "name": "stderr",
     "output_type": "stream",
     "text": [
      "[*********************100%***********************]  1 of 1 completed\n",
      "\n",
      "1 Failed download:\n",
      "['HAL']: YFPricesMissingError('possibly delisted; no price data found  (1d 2025-09-13 00:00:00 -> 2025-09-15 00:00:00)')\n"
     ]
    },
    {
     "name": "stdout",
     "output_type": "stream",
     "text": [
      "Téléchargement des données pour HAS de 2025-09-13 00:00:00 à 2025-09-15 00:00:00\n"
     ]
    },
    {
     "name": "stderr",
     "output_type": "stream",
     "text": [
      "[*********************100%***********************]  1 of 1 completed\n",
      "\n",
      "1 Failed download:\n",
      "['HAS']: YFPricesMissingError('possibly delisted; no price data found  (1d 2025-09-13 00:00:00 -> 2025-09-15 00:00:00)')\n"
     ]
    },
    {
     "name": "stdout",
     "output_type": "stream",
     "text": [
      "Téléchargement des données pour HBAN de 2025-09-13 00:00:00 à 2025-09-15 00:00:00\n"
     ]
    },
    {
     "name": "stderr",
     "output_type": "stream",
     "text": [
      "[*********************100%***********************]  1 of 1 completed\n",
      "\n",
      "1 Failed download:\n",
      "['HBAN']: YFPricesMissingError('possibly delisted; no price data found  (1d 2025-09-13 00:00:00 -> 2025-09-15 00:00:00)')\n"
     ]
    },
    {
     "name": "stdout",
     "output_type": "stream",
     "text": [
      "Téléchargement des données pour HCA de 2025-09-13 00:00:00 à 2025-09-15 00:00:00\n"
     ]
    },
    {
     "name": "stderr",
     "output_type": "stream",
     "text": [
      "[*********************100%***********************]  1 of 1 completed\n",
      "\n",
      "1 Failed download:\n",
      "['HCA']: YFPricesMissingError('possibly delisted; no price data found  (1d 2025-09-13 00:00:00 -> 2025-09-15 00:00:00)')\n"
     ]
    },
    {
     "name": "stdout",
     "output_type": "stream",
     "text": [
      "Téléchargement des données pour HD de 2025-09-13 00:00:00 à 2025-09-15 00:00:00\n"
     ]
    },
    {
     "name": "stderr",
     "output_type": "stream",
     "text": [
      "[*********************100%***********************]  1 of 1 completed\n",
      "\n",
      "1 Failed download:\n",
      "['HD']: YFPricesMissingError('possibly delisted; no price data found  (1d 2025-09-13 00:00:00 -> 2025-09-15 00:00:00)')\n"
     ]
    },
    {
     "name": "stdout",
     "output_type": "stream",
     "text": [
      "Téléchargement des données pour HIG de 2025-09-13 00:00:00 à 2025-09-15 00:00:00\n"
     ]
    },
    {
     "name": "stderr",
     "output_type": "stream",
     "text": [
      "[*********************100%***********************]  1 of 1 completed\n",
      "\n",
      "1 Failed download:\n",
      "['HIG']: YFPricesMissingError('possibly delisted; no price data found  (1d 2025-09-13 00:00:00 -> 2025-09-15 00:00:00)')\n"
     ]
    },
    {
     "name": "stdout",
     "output_type": "stream",
     "text": [
      "Téléchargement des données pour HII de 2025-09-13 00:00:00 à 2025-09-15 00:00:00\n"
     ]
    },
    {
     "name": "stderr",
     "output_type": "stream",
     "text": [
      "[*********************100%***********************]  1 of 1 completed\n",
      "\n",
      "1 Failed download:\n",
      "['HII']: YFPricesMissingError('possibly delisted; no price data found  (1d 2025-09-13 00:00:00 -> 2025-09-15 00:00:00)')\n"
     ]
    },
    {
     "name": "stdout",
     "output_type": "stream",
     "text": [
      "Téléchargement des données pour HLT de 2025-09-13 00:00:00 à 2025-09-15 00:00:00\n"
     ]
    },
    {
     "name": "stderr",
     "output_type": "stream",
     "text": [
      "[*********************100%***********************]  1 of 1 completed\n",
      "\n",
      "1 Failed download:\n",
      "['HLT']: YFPricesMissingError('possibly delisted; no price data found  (1d 2025-09-13 00:00:00 -> 2025-09-15 00:00:00)')\n"
     ]
    },
    {
     "name": "stdout",
     "output_type": "stream",
     "text": [
      "Téléchargement des données pour HOLX de 2025-09-13 00:00:00 à 2025-09-15 00:00:00\n"
     ]
    },
    {
     "name": "stderr",
     "output_type": "stream",
     "text": [
      "[*********************100%***********************]  1 of 1 completed\n",
      "\n",
      "1 Failed download:\n",
      "['HOLX']: YFPricesMissingError('possibly delisted; no price data found  (1d 2025-09-13 00:00:00 -> 2025-09-15 00:00:00)')\n"
     ]
    },
    {
     "name": "stdout",
     "output_type": "stream",
     "text": [
      "Téléchargement des données pour HON de 2025-09-13 00:00:00 à 2025-09-15 00:00:00\n"
     ]
    },
    {
     "name": "stderr",
     "output_type": "stream",
     "text": [
      "[*********************100%***********************]  1 of 1 completed\n",
      "\n",
      "1 Failed download:\n",
      "['HON']: YFPricesMissingError('possibly delisted; no price data found  (1d 2025-09-13 00:00:00 -> 2025-09-15 00:00:00)')\n"
     ]
    },
    {
     "name": "stdout",
     "output_type": "stream",
     "text": [
      "Téléchargement des données pour HPE de 2025-09-13 00:00:00 à 2025-09-15 00:00:00\n"
     ]
    },
    {
     "name": "stderr",
     "output_type": "stream",
     "text": [
      "[*********************100%***********************]  1 of 1 completed\n",
      "\n",
      "1 Failed download:\n",
      "['HPE']: YFPricesMissingError('possibly delisted; no price data found  (1d 2025-09-13 00:00:00 -> 2025-09-15 00:00:00)')\n"
     ]
    },
    {
     "name": "stdout",
     "output_type": "stream",
     "text": [
      "Téléchargement des données pour HPQ de 2025-09-13 00:00:00 à 2025-09-15 00:00:00\n"
     ]
    },
    {
     "name": "stderr",
     "output_type": "stream",
     "text": [
      "[*********************100%***********************]  1 of 1 completed\n",
      "\n",
      "1 Failed download:\n",
      "['HPQ']: YFPricesMissingError('possibly delisted; no price data found  (1d 2025-09-13 00:00:00 -> 2025-09-15 00:00:00)')\n"
     ]
    },
    {
     "name": "stdout",
     "output_type": "stream",
     "text": [
      "Téléchargement des données pour HRL de 2025-09-13 00:00:00 à 2025-09-15 00:00:00\n"
     ]
    },
    {
     "name": "stderr",
     "output_type": "stream",
     "text": [
      "[*********************100%***********************]  1 of 1 completed\n",
      "\n",
      "1 Failed download:\n",
      "['HRL']: YFPricesMissingError('possibly delisted; no price data found  (1d 2025-09-13 00:00:00 -> 2025-09-15 00:00:00)')\n"
     ]
    },
    {
     "name": "stdout",
     "output_type": "stream",
     "text": [
      "Téléchargement des données pour HSIC de 2025-09-13 00:00:00 à 2025-09-15 00:00:00\n"
     ]
    },
    {
     "name": "stderr",
     "output_type": "stream",
     "text": [
      "[*********************100%***********************]  1 of 1 completed\n",
      "\n",
      "1 Failed download:\n",
      "['HSIC']: YFPricesMissingError('possibly delisted; no price data found  (1d 2025-09-13 00:00:00 -> 2025-09-15 00:00:00)')\n"
     ]
    },
    {
     "name": "stdout",
     "output_type": "stream",
     "text": [
      "Téléchargement des données pour HST de 2025-09-13 00:00:00 à 2025-09-15 00:00:00\n"
     ]
    },
    {
     "name": "stderr",
     "output_type": "stream",
     "text": [
      "[*********************100%***********************]  1 of 1 completed\n",
      "\n",
      "1 Failed download:\n",
      "['HST']: YFPricesMissingError('possibly delisted; no price data found  (1d 2025-09-13 00:00:00 -> 2025-09-15 00:00:00)')\n"
     ]
    },
    {
     "name": "stdout",
     "output_type": "stream",
     "text": [
      "Téléchargement des données pour HSY de 2025-09-13 00:00:00 à 2025-09-15 00:00:00\n"
     ]
    },
    {
     "name": "stderr",
     "output_type": "stream",
     "text": [
      "[*********************100%***********************]  1 of 1 completed\n",
      "\n",
      "1 Failed download:\n",
      "['HSY']: YFPricesMissingError('possibly delisted; no price data found  (1d 2025-09-13 00:00:00 -> 2025-09-15 00:00:00)')\n"
     ]
    },
    {
     "name": "stdout",
     "output_type": "stream",
     "text": [
      "Téléchargement des données pour HUBB de 2025-09-13 00:00:00 à 2025-09-15 00:00:00\n"
     ]
    },
    {
     "name": "stderr",
     "output_type": "stream",
     "text": [
      "[*********************100%***********************]  1 of 1 completed\n",
      "\n",
      "1 Failed download:\n",
      "['HUBB']: YFPricesMissingError('possibly delisted; no price data found  (1d 2025-09-13 00:00:00 -> 2025-09-15 00:00:00)')\n"
     ]
    },
    {
     "name": "stdout",
     "output_type": "stream",
     "text": [
      "Téléchargement des données pour HUM de 2025-09-13 00:00:00 à 2025-09-15 00:00:00\n"
     ]
    },
    {
     "name": "stderr",
     "output_type": "stream",
     "text": [
      "[*********************100%***********************]  1 of 1 completed\n",
      "\n",
      "1 Failed download:\n",
      "['HUM']: YFPricesMissingError('possibly delisted; no price data found  (1d 2025-09-13 00:00:00 -> 2025-09-15 00:00:00)')\n"
     ]
    },
    {
     "name": "stdout",
     "output_type": "stream",
     "text": [
      "Téléchargement des données pour HWM de 2025-09-13 00:00:00 à 2025-09-15 00:00:00\n"
     ]
    },
    {
     "name": "stderr",
     "output_type": "stream",
     "text": [
      "[*********************100%***********************]  1 of 1 completed\n",
      "\n",
      "1 Failed download:\n",
      "['HWM']: YFPricesMissingError('possibly delisted; no price data found  (1d 2025-09-13 00:00:00 -> 2025-09-15 00:00:00)')\n"
     ]
    },
    {
     "name": "stdout",
     "output_type": "stream",
     "text": [
      "Téléchargement des données pour IBKR de 2025-09-13 00:00:00 à 2025-09-15 00:00:00\n"
     ]
    },
    {
     "name": "stderr",
     "output_type": "stream",
     "text": [
      "[*********************100%***********************]  1 of 1 completed\n",
      "\n",
      "1 Failed download:\n",
      "['IBKR']: YFPricesMissingError('possibly delisted; no price data found  (1d 2025-09-13 00:00:00 -> 2025-09-15 00:00:00)')\n"
     ]
    },
    {
     "name": "stdout",
     "output_type": "stream",
     "text": [
      "Téléchargement des données pour IBM de 2025-09-13 00:00:00 à 2025-09-15 00:00:00\n"
     ]
    },
    {
     "name": "stderr",
     "output_type": "stream",
     "text": [
      "[*********************100%***********************]  1 of 1 completed\n",
      "\n",
      "1 Failed download:\n",
      "['IBM']: YFPricesMissingError('possibly delisted; no price data found  (1d 2025-09-13 00:00:00 -> 2025-09-15 00:00:00)')\n"
     ]
    },
    {
     "name": "stdout",
     "output_type": "stream",
     "text": [
      "Téléchargement des données pour ICE de 2025-09-13 00:00:00 à 2025-09-15 00:00:00\n"
     ]
    },
    {
     "name": "stderr",
     "output_type": "stream",
     "text": [
      "[*********************100%***********************]  1 of 1 completed\n",
      "\n",
      "1 Failed download:\n",
      "['ICE']: YFPricesMissingError('possibly delisted; no price data found  (1d 2025-09-13 00:00:00 -> 2025-09-15 00:00:00)')\n"
     ]
    },
    {
     "name": "stdout",
     "output_type": "stream",
     "text": [
      "Téléchargement des données pour IDXX de 2025-09-13 00:00:00 à 2025-09-15 00:00:00\n"
     ]
    },
    {
     "name": "stderr",
     "output_type": "stream",
     "text": [
      "[*********************100%***********************]  1 of 1 completed\n",
      "\n",
      "1 Failed download:\n",
      "['IDXX']: YFPricesMissingError('possibly delisted; no price data found  (1d 2025-09-13 00:00:00 -> 2025-09-15 00:00:00)')\n"
     ]
    },
    {
     "name": "stdout",
     "output_type": "stream",
     "text": [
      "Téléchargement des données pour IEX de 2025-09-13 00:00:00 à 2025-09-15 00:00:00\n"
     ]
    },
    {
     "name": "stderr",
     "output_type": "stream",
     "text": [
      "[*********************100%***********************]  1 of 1 completed\n",
      "\n",
      "1 Failed download:\n",
      "['IEX']: YFPricesMissingError('possibly delisted; no price data found  (1d 2025-09-13 00:00:00 -> 2025-09-15 00:00:00)')\n"
     ]
    },
    {
     "name": "stdout",
     "output_type": "stream",
     "text": [
      "Téléchargement des données pour IFF de 2025-09-13 00:00:00 à 2025-09-15 00:00:00\n"
     ]
    },
    {
     "name": "stderr",
     "output_type": "stream",
     "text": [
      "[*********************100%***********************]  1 of 1 completed\n",
      "\n",
      "1 Failed download:\n",
      "['IFF']: YFPricesMissingError('possibly delisted; no price data found  (1d 2025-09-13 00:00:00 -> 2025-09-15 00:00:00)')\n"
     ]
    },
    {
     "name": "stdout",
     "output_type": "stream",
     "text": [
      "Téléchargement des données pour INCY de 2025-09-13 00:00:00 à 2025-09-15 00:00:00\n"
     ]
    },
    {
     "name": "stderr",
     "output_type": "stream",
     "text": [
      "[*********************100%***********************]  1 of 1 completed\n",
      "\n",
      "1 Failed download:\n",
      "['INCY']: YFPricesMissingError('possibly delisted; no price data found  (1d 2025-09-13 00:00:00 -> 2025-09-15 00:00:00)')\n"
     ]
    },
    {
     "name": "stdout",
     "output_type": "stream",
     "text": [
      "Téléchargement des données pour INTC de 2025-09-13 00:00:00 à 2025-09-15 00:00:00\n"
     ]
    },
    {
     "name": "stderr",
     "output_type": "stream",
     "text": [
      "[*********************100%***********************]  1 of 1 completed\n",
      "\n",
      "1 Failed download:\n",
      "['INTC']: YFPricesMissingError('possibly delisted; no price data found  (1d 2025-09-13 00:00:00 -> 2025-09-15 00:00:00)')\n"
     ]
    },
    {
     "name": "stdout",
     "output_type": "stream",
     "text": [
      "Téléchargement des données pour INTU de 2025-09-13 00:00:00 à 2025-09-15 00:00:00\n"
     ]
    },
    {
     "name": "stderr",
     "output_type": "stream",
     "text": [
      "[*********************100%***********************]  1 of 1 completed\n",
      "\n",
      "1 Failed download:\n",
      "['INTU']: YFPricesMissingError('possibly delisted; no price data found  (1d 2025-09-13 00:00:00 -> 2025-09-15 00:00:00)')\n"
     ]
    },
    {
     "name": "stdout",
     "output_type": "stream",
     "text": [
      "Téléchargement des données pour INVH de 2025-09-13 00:00:00 à 2025-09-15 00:00:00\n"
     ]
    },
    {
     "name": "stderr",
     "output_type": "stream",
     "text": [
      "[*********************100%***********************]  1 of 1 completed\n",
      "\n",
      "1 Failed download:\n",
      "['INVH']: YFPricesMissingError('possibly delisted; no price data found  (1d 2025-09-13 00:00:00 -> 2025-09-15 00:00:00)')\n"
     ]
    },
    {
     "name": "stdout",
     "output_type": "stream",
     "text": [
      "Téléchargement des données pour IP de 2025-09-13 00:00:00 à 2025-09-15 00:00:00\n"
     ]
    },
    {
     "name": "stderr",
     "output_type": "stream",
     "text": [
      "[*********************100%***********************]  1 of 1 completed\n",
      "\n",
      "1 Failed download:\n",
      "['IP']: YFPricesMissingError('possibly delisted; no price data found  (1d 2025-09-13 00:00:00 -> 2025-09-15 00:00:00)')\n"
     ]
    },
    {
     "name": "stdout",
     "output_type": "stream",
     "text": [
      "Téléchargement des données pour IPG de 2025-09-13 00:00:00 à 2025-09-15 00:00:00\n"
     ]
    },
    {
     "name": "stderr",
     "output_type": "stream",
     "text": [
      "[*********************100%***********************]  1 of 1 completed\n",
      "\n",
      "1 Failed download:\n",
      "['IPG']: YFPricesMissingError('possibly delisted; no price data found  (1d 2025-09-13 00:00:00 -> 2025-09-15 00:00:00)')\n"
     ]
    },
    {
     "name": "stdout",
     "output_type": "stream",
     "text": [
      "Téléchargement des données pour IQV de 2025-09-13 00:00:00 à 2025-09-15 00:00:00\n"
     ]
    },
    {
     "name": "stderr",
     "output_type": "stream",
     "text": [
      "[*********************100%***********************]  1 of 1 completed\n",
      "\n",
      "1 Failed download:\n",
      "['IQV']: YFPricesMissingError('possibly delisted; no price data found  (1d 2025-09-13 00:00:00 -> 2025-09-15 00:00:00)')\n"
     ]
    },
    {
     "name": "stdout",
     "output_type": "stream",
     "text": [
      "Téléchargement des données pour IR de 2025-09-13 00:00:00 à 2025-09-15 00:00:00\n"
     ]
    },
    {
     "name": "stderr",
     "output_type": "stream",
     "text": [
      "[*********************100%***********************]  1 of 1 completed\n",
      "\n",
      "1 Failed download:\n",
      "['IR']: YFPricesMissingError('possibly delisted; no price data found  (1d 2025-09-13 00:00:00 -> 2025-09-15 00:00:00)')\n"
     ]
    },
    {
     "name": "stdout",
     "output_type": "stream",
     "text": [
      "Téléchargement des données pour IRM de 2025-09-13 00:00:00 à 2025-09-15 00:00:00\n"
     ]
    },
    {
     "name": "stderr",
     "output_type": "stream",
     "text": [
      "[*********************100%***********************]  1 of 1 completed\n",
      "\n",
      "1 Failed download:\n",
      "['IRM']: YFPricesMissingError('possibly delisted; no price data found  (1d 2025-09-13 00:00:00 -> 2025-09-15 00:00:00)')\n"
     ]
    },
    {
     "name": "stdout",
     "output_type": "stream",
     "text": [
      "Téléchargement des données pour ISRG de 2025-09-13 00:00:00 à 2025-09-15 00:00:00\n"
     ]
    },
    {
     "name": "stderr",
     "output_type": "stream",
     "text": [
      "[*********************100%***********************]  1 of 1 completed\n",
      "\n",
      "1 Failed download:\n",
      "['ISRG']: YFPricesMissingError('possibly delisted; no price data found  (1d 2025-09-13 00:00:00 -> 2025-09-15 00:00:00)')\n"
     ]
    },
    {
     "name": "stdout",
     "output_type": "stream",
     "text": [
      "Téléchargement des données pour IT de 2025-09-13 00:00:00 à 2025-09-15 00:00:00\n"
     ]
    },
    {
     "name": "stderr",
     "output_type": "stream",
     "text": [
      "[*********************100%***********************]  1 of 1 completed\n",
      "\n",
      "1 Failed download:\n",
      "['IT']: YFPricesMissingError('possibly delisted; no price data found  (1d 2025-09-13 00:00:00 -> 2025-09-15 00:00:00)')\n"
     ]
    },
    {
     "name": "stdout",
     "output_type": "stream",
     "text": [
      "Téléchargement des données pour ITW de 2025-09-13 00:00:00 à 2025-09-15 00:00:00\n"
     ]
    },
    {
     "name": "stderr",
     "output_type": "stream",
     "text": [
      "[*********************100%***********************]  1 of 1 completed\n",
      "\n",
      "1 Failed download:\n",
      "['ITW']: YFPricesMissingError('possibly delisted; no price data found  (1d 2025-09-13 00:00:00 -> 2025-09-15 00:00:00)')\n"
     ]
    },
    {
     "name": "stdout",
     "output_type": "stream",
     "text": [
      "Téléchargement des données pour IVZ de 2025-09-13 00:00:00 à 2025-09-15 00:00:00\n"
     ]
    },
    {
     "name": "stderr",
     "output_type": "stream",
     "text": [
      "[*********************100%***********************]  1 of 1 completed\n",
      "\n",
      "1 Failed download:\n",
      "['IVZ']: YFPricesMissingError('possibly delisted; no price data found  (1d 2025-09-13 00:00:00 -> 2025-09-15 00:00:00)')\n"
     ]
    },
    {
     "name": "stdout",
     "output_type": "stream",
     "text": [
      "Téléchargement des données pour J de 2025-09-13 00:00:00 à 2025-09-15 00:00:00\n"
     ]
    },
    {
     "name": "stderr",
     "output_type": "stream",
     "text": [
      "[*********************100%***********************]  1 of 1 completed\n",
      "\n",
      "1 Failed download:\n",
      "['J']: YFPricesMissingError('possibly delisted; no price data found  (1d 2025-09-13 00:00:00 -> 2025-09-15 00:00:00)')\n"
     ]
    },
    {
     "name": "stdout",
     "output_type": "stream",
     "text": [
      "Téléchargement des données pour JBHT de 2025-09-13 00:00:00 à 2025-09-15 00:00:00\n"
     ]
    },
    {
     "name": "stderr",
     "output_type": "stream",
     "text": [
      "[*********************100%***********************]  1 of 1 completed\n",
      "\n",
      "1 Failed download:\n",
      "['JBHT']: YFPricesMissingError('possibly delisted; no price data found  (1d 2025-09-13 00:00:00 -> 2025-09-15 00:00:00)')\n"
     ]
    },
    {
     "name": "stdout",
     "output_type": "stream",
     "text": [
      "Téléchargement des données pour JBL de 2025-09-13 00:00:00 à 2025-09-15 00:00:00\n"
     ]
    },
    {
     "name": "stderr",
     "output_type": "stream",
     "text": [
      "[*********************100%***********************]  1 of 1 completed\n",
      "\n",
      "1 Failed download:\n",
      "['JBL']: YFPricesMissingError('possibly delisted; no price data found  (1d 2025-09-13 00:00:00 -> 2025-09-15 00:00:00)')\n"
     ]
    },
    {
     "name": "stdout",
     "output_type": "stream",
     "text": [
      "Téléchargement des données pour JCI de 2025-09-13 00:00:00 à 2025-09-15 00:00:00\n"
     ]
    },
    {
     "name": "stderr",
     "output_type": "stream",
     "text": [
      "[*********************100%***********************]  1 of 1 completed\n",
      "\n",
      "1 Failed download:\n",
      "['JCI']: YFPricesMissingError('possibly delisted; no price data found  (1d 2025-09-13 00:00:00 -> 2025-09-15 00:00:00)')\n"
     ]
    },
    {
     "name": "stdout",
     "output_type": "stream",
     "text": [
      "Téléchargement des données pour JKHY de 2025-09-13 00:00:00 à 2025-09-15 00:00:00\n"
     ]
    },
    {
     "name": "stderr",
     "output_type": "stream",
     "text": [
      "[*********************100%***********************]  1 of 1 completed\n",
      "\n",
      "1 Failed download:\n",
      "['JKHY']: YFPricesMissingError('possibly delisted; no price data found  (1d 2025-09-13 00:00:00 -> 2025-09-15 00:00:00)')\n"
     ]
    },
    {
     "name": "stdout",
     "output_type": "stream",
     "text": [
      "Téléchargement des données pour JNJ de 2025-09-13 00:00:00 à 2025-09-15 00:00:00\n"
     ]
    },
    {
     "name": "stderr",
     "output_type": "stream",
     "text": [
      "[*********************100%***********************]  1 of 1 completed\n",
      "\n",
      "1 Failed download:\n",
      "['JNJ']: YFPricesMissingError('possibly delisted; no price data found  (1d 2025-09-13 00:00:00 -> 2025-09-15 00:00:00)')\n"
     ]
    },
    {
     "name": "stdout",
     "output_type": "stream",
     "text": [
      "Téléchargement des données pour JPM de 2025-09-13 00:00:00 à 2025-09-15 00:00:00\n"
     ]
    },
    {
     "name": "stderr",
     "output_type": "stream",
     "text": [
      "[*********************100%***********************]  1 of 1 completed\n",
      "\n",
      "1 Failed download:\n",
      "['JPM']: YFPricesMissingError('possibly delisted; no price data found  (1d 2025-09-13 00:00:00 -> 2025-09-15 00:00:00)')\n"
     ]
    },
    {
     "name": "stdout",
     "output_type": "stream",
     "text": [
      "Téléchargement des données pour KDP de 2025-09-13 00:00:00 à 2025-09-15 00:00:00\n"
     ]
    },
    {
     "name": "stderr",
     "output_type": "stream",
     "text": [
      "[*********************100%***********************]  1 of 1 completed\n",
      "\n",
      "1 Failed download:\n",
      "['KDP']: YFPricesMissingError('possibly delisted; no price data found  (1d 2025-09-13 00:00:00 -> 2025-09-15 00:00:00)')\n"
     ]
    },
    {
     "name": "stdout",
     "output_type": "stream",
     "text": [
      "Téléchargement des données pour KEY de 2025-09-13 00:00:00 à 2025-09-15 00:00:00\n"
     ]
    },
    {
     "name": "stderr",
     "output_type": "stream",
     "text": [
      "[*********************100%***********************]  1 of 1 completed\n",
      "\n",
      "1 Failed download:\n",
      "['KEY']: YFPricesMissingError('possibly delisted; no price data found  (1d 2025-09-13 00:00:00 -> 2025-09-15 00:00:00)')\n"
     ]
    },
    {
     "name": "stdout",
     "output_type": "stream",
     "text": [
      "Téléchargement des données pour KEYS de 2025-09-13 00:00:00 à 2025-09-15 00:00:00\n"
     ]
    },
    {
     "name": "stderr",
     "output_type": "stream",
     "text": [
      "[*********************100%***********************]  1 of 1 completed\n",
      "\n",
      "1 Failed download:\n",
      "['KEYS']: YFPricesMissingError('possibly delisted; no price data found  (1d 2025-09-13 00:00:00 -> 2025-09-15 00:00:00)')\n"
     ]
    },
    {
     "name": "stdout",
     "output_type": "stream",
     "text": [
      "Téléchargement des données pour KHC de 2025-09-13 00:00:00 à 2025-09-15 00:00:00\n"
     ]
    },
    {
     "name": "stderr",
     "output_type": "stream",
     "text": [
      "[*********************100%***********************]  1 of 1 completed\n",
      "\n",
      "1 Failed download:\n",
      "['KHC']: YFPricesMissingError('possibly delisted; no price data found  (1d 2025-09-13 00:00:00 -> 2025-09-15 00:00:00)')\n"
     ]
    },
    {
     "name": "stdout",
     "output_type": "stream",
     "text": [
      "Téléchargement des données pour KIM de 2025-09-13 00:00:00 à 2025-09-15 00:00:00\n"
     ]
    },
    {
     "name": "stderr",
     "output_type": "stream",
     "text": [
      "[*********************100%***********************]  1 of 1 completed\n",
      "\n",
      "1 Failed download:\n",
      "['KIM']: YFPricesMissingError('possibly delisted; no price data found  (1d 2025-09-13 00:00:00 -> 2025-09-15 00:00:00)')\n"
     ]
    },
    {
     "name": "stdout",
     "output_type": "stream",
     "text": [
      "Téléchargement des données pour KKR de 2025-09-13 00:00:00 à 2025-09-15 00:00:00\n"
     ]
    },
    {
     "name": "stderr",
     "output_type": "stream",
     "text": [
      "[*********************100%***********************]  1 of 1 completed\n",
      "\n",
      "1 Failed download:\n",
      "['KKR']: YFPricesMissingError('possibly delisted; no price data found  (1d 2025-09-13 00:00:00 -> 2025-09-15 00:00:00)')\n"
     ]
    },
    {
     "name": "stdout",
     "output_type": "stream",
     "text": [
      "Téléchargement des données pour KLAC de 2025-09-13 00:00:00 à 2025-09-15 00:00:00\n"
     ]
    },
    {
     "name": "stderr",
     "output_type": "stream",
     "text": [
      "[*********************100%***********************]  1 of 1 completed\n",
      "\n",
      "1 Failed download:\n",
      "['KLAC']: YFPricesMissingError('possibly delisted; no price data found  (1d 2025-09-13 00:00:00 -> 2025-09-15 00:00:00)')\n"
     ]
    },
    {
     "name": "stdout",
     "output_type": "stream",
     "text": [
      "Téléchargement des données pour KMB de 2025-09-13 00:00:00 à 2025-09-15 00:00:00\n"
     ]
    },
    {
     "name": "stderr",
     "output_type": "stream",
     "text": [
      "[*********************100%***********************]  1 of 1 completed\n",
      "\n",
      "1 Failed download:\n",
      "['KMB']: YFPricesMissingError('possibly delisted; no price data found  (1d 2025-09-13 00:00:00 -> 2025-09-15 00:00:00)')\n"
     ]
    },
    {
     "name": "stdout",
     "output_type": "stream",
     "text": [
      "Téléchargement des données pour KMI de 2025-09-13 00:00:00 à 2025-09-15 00:00:00\n"
     ]
    },
    {
     "name": "stderr",
     "output_type": "stream",
     "text": [
      "[*********************100%***********************]  1 of 1 completed\n",
      "\n",
      "1 Failed download:\n",
      "['KMI']: YFPricesMissingError('possibly delisted; no price data found  (1d 2025-09-13 00:00:00 -> 2025-09-15 00:00:00)')\n"
     ]
    },
    {
     "name": "stdout",
     "output_type": "stream",
     "text": [
      "Téléchargement des données pour KMX de 2025-09-13 00:00:00 à 2025-09-15 00:00:00\n"
     ]
    },
    {
     "name": "stderr",
     "output_type": "stream",
     "text": [
      "[*********************100%***********************]  1 of 1 completed\n",
      "\n",
      "1 Failed download:\n",
      "['KMX']: YFPricesMissingError('possibly delisted; no price data found  (1d 2025-09-13 00:00:00 -> 2025-09-15 00:00:00)')\n"
     ]
    },
    {
     "name": "stdout",
     "output_type": "stream",
     "text": [
      "Téléchargement des données pour KO de 2025-09-13 00:00:00 à 2025-09-15 00:00:00\n"
     ]
    },
    {
     "name": "stderr",
     "output_type": "stream",
     "text": [
      "[*********************100%***********************]  1 of 1 completed\n",
      "\n",
      "1 Failed download:\n",
      "['KO']: YFPricesMissingError('possibly delisted; no price data found  (1d 2025-09-13 00:00:00 -> 2025-09-15 00:00:00)')\n"
     ]
    },
    {
     "name": "stdout",
     "output_type": "stream",
     "text": [
      "Téléchargement des données pour KR de 2025-09-13 00:00:00 à 2025-09-15 00:00:00\n"
     ]
    },
    {
     "name": "stderr",
     "output_type": "stream",
     "text": [
      "[*********************100%***********************]  1 of 1 completed\n",
      "\n",
      "1 Failed download:\n",
      "['KR']: YFPricesMissingError('possibly delisted; no price data found  (1d 2025-09-13 00:00:00 -> 2025-09-15 00:00:00)')\n"
     ]
    },
    {
     "name": "stdout",
     "output_type": "stream",
     "text": [
      "Téléchargement des données pour KVUE de 2025-09-13 00:00:00 à 2025-09-15 00:00:00\n"
     ]
    },
    {
     "name": "stderr",
     "output_type": "stream",
     "text": [
      "[*********************100%***********************]  1 of 1 completed\n",
      "\n",
      "1 Failed download:\n",
      "['KVUE']: YFPricesMissingError('possibly delisted; no price data found  (1d 2025-09-13 00:00:00 -> 2025-09-15 00:00:00)')\n"
     ]
    },
    {
     "name": "stdout",
     "output_type": "stream",
     "text": [
      "Téléchargement des données pour L de 2025-09-13 00:00:00 à 2025-09-15 00:00:00\n"
     ]
    },
    {
     "name": "stderr",
     "output_type": "stream",
     "text": [
      "[*********************100%***********************]  1 of 1 completed\n",
      "\n",
      "1 Failed download:\n",
      "['L']: YFPricesMissingError('possibly delisted; no price data found  (1d 2025-09-13 00:00:00 -> 2025-09-15 00:00:00)')\n"
     ]
    },
    {
     "name": "stdout",
     "output_type": "stream",
     "text": [
      "Téléchargement des données pour LDOS de 2025-09-13 00:00:00 à 2025-09-15 00:00:00\n"
     ]
    },
    {
     "name": "stderr",
     "output_type": "stream",
     "text": [
      "[*********************100%***********************]  1 of 1 completed\n",
      "\n",
      "1 Failed download:\n",
      "['LDOS']: YFPricesMissingError('possibly delisted; no price data found  (1d 2025-09-13 00:00:00 -> 2025-09-15 00:00:00)')\n"
     ]
    },
    {
     "name": "stdout",
     "output_type": "stream",
     "text": [
      "Téléchargement des données pour LEN de 2025-09-13 00:00:00 à 2025-09-15 00:00:00\n"
     ]
    },
    {
     "name": "stderr",
     "output_type": "stream",
     "text": [
      "[*********************100%***********************]  1 of 1 completed\n",
      "\n",
      "1 Failed download:\n",
      "['LEN']: YFPricesMissingError('possibly delisted; no price data found  (1d 2025-09-13 00:00:00 -> 2025-09-15 00:00:00)')\n"
     ]
    },
    {
     "name": "stdout",
     "output_type": "stream",
     "text": [
      "Téléchargement des données pour LH de 2025-09-13 00:00:00 à 2025-09-15 00:00:00\n"
     ]
    },
    {
     "name": "stderr",
     "output_type": "stream",
     "text": [
      "[*********************100%***********************]  1 of 1 completed\n",
      "\n",
      "1 Failed download:\n",
      "['LH']: YFPricesMissingError('possibly delisted; no price data found  (1d 2025-09-13 00:00:00 -> 2025-09-15 00:00:00)')\n"
     ]
    },
    {
     "name": "stdout",
     "output_type": "stream",
     "text": [
      "Téléchargement des données pour LHX de 2025-09-13 00:00:00 à 2025-09-15 00:00:00\n"
     ]
    },
    {
     "name": "stderr",
     "output_type": "stream",
     "text": [
      "[*********************100%***********************]  1 of 1 completed\n",
      "\n",
      "1 Failed download:\n",
      "['LHX']: YFPricesMissingError('possibly delisted; no price data found  (1d 2025-09-13 00:00:00 -> 2025-09-15 00:00:00)')\n"
     ]
    },
    {
     "name": "stdout",
     "output_type": "stream",
     "text": [
      "Téléchargement des données pour LII de 2025-09-13 00:00:00 à 2025-09-15 00:00:00\n"
     ]
    },
    {
     "name": "stderr",
     "output_type": "stream",
     "text": [
      "[*********************100%***********************]  1 of 1 completed\n",
      "\n",
      "1 Failed download:\n",
      "['LII']: YFPricesMissingError('possibly delisted; no price data found  (1d 2025-09-13 00:00:00 -> 2025-09-15 00:00:00)')\n"
     ]
    },
    {
     "name": "stdout",
     "output_type": "stream",
     "text": [
      "Téléchargement des données pour LIN de 2025-09-13 00:00:00 à 2025-09-15 00:00:00\n"
     ]
    },
    {
     "name": "stderr",
     "output_type": "stream",
     "text": [
      "[*********************100%***********************]  1 of 1 completed\n",
      "\n",
      "1 Failed download:\n",
      "['LIN']: YFPricesMissingError('possibly delisted; no price data found  (1d 2025-09-13 00:00:00 -> 2025-09-15 00:00:00)')\n"
     ]
    },
    {
     "name": "stdout",
     "output_type": "stream",
     "text": [
      "Téléchargement des données pour LKQ de 2025-09-13 00:00:00 à 2025-09-15 00:00:00\n"
     ]
    },
    {
     "name": "stderr",
     "output_type": "stream",
     "text": [
      "[*********************100%***********************]  1 of 1 completed\n",
      "\n",
      "1 Failed download:\n",
      "['LKQ']: YFPricesMissingError('possibly delisted; no price data found  (1d 2025-09-13 00:00:00 -> 2025-09-15 00:00:00)')\n"
     ]
    },
    {
     "name": "stdout",
     "output_type": "stream",
     "text": [
      "Téléchargement des données pour LLY de 2025-09-13 00:00:00 à 2025-09-15 00:00:00\n"
     ]
    },
    {
     "name": "stderr",
     "output_type": "stream",
     "text": [
      "[*********************100%***********************]  1 of 1 completed\n",
      "\n",
      "1 Failed download:\n",
      "['LLY']: YFPricesMissingError('possibly delisted; no price data found  (1d 2025-09-13 00:00:00 -> 2025-09-15 00:00:00)')\n"
     ]
    },
    {
     "name": "stdout",
     "output_type": "stream",
     "text": [
      "Téléchargement des données pour LMT de 2025-09-13 00:00:00 à 2025-09-15 00:00:00\n"
     ]
    },
    {
     "name": "stderr",
     "output_type": "stream",
     "text": [
      "[*********************100%***********************]  1 of 1 completed\n",
      "\n",
      "1 Failed download:\n",
      "['LMT']: YFPricesMissingError('possibly delisted; no price data found  (1d 2025-09-13 00:00:00 -> 2025-09-15 00:00:00)')\n"
     ]
    },
    {
     "name": "stdout",
     "output_type": "stream",
     "text": [
      "Téléchargement des données pour LNT de 2025-09-13 00:00:00 à 2025-09-15 00:00:00\n"
     ]
    },
    {
     "name": "stderr",
     "output_type": "stream",
     "text": [
      "[*********************100%***********************]  1 of 1 completed\n",
      "\n",
      "1 Failed download:\n",
      "['LNT']: YFPricesMissingError('possibly delisted; no price data found  (1d 2025-09-13 00:00:00 -> 2025-09-15 00:00:00)')\n"
     ]
    },
    {
     "name": "stdout",
     "output_type": "stream",
     "text": [
      "Téléchargement des données pour LOW de 2025-09-13 00:00:00 à 2025-09-15 00:00:00\n"
     ]
    },
    {
     "name": "stderr",
     "output_type": "stream",
     "text": [
      "[*********************100%***********************]  1 of 1 completed\n",
      "\n",
      "1 Failed download:\n",
      "['LOW']: YFPricesMissingError('possibly delisted; no price data found  (1d 2025-09-13 00:00:00 -> 2025-09-15 00:00:00)')\n"
     ]
    },
    {
     "name": "stdout",
     "output_type": "stream",
     "text": [
      "Téléchargement des données pour LRCX de 2025-09-13 00:00:00 à 2025-09-15 00:00:00\n"
     ]
    },
    {
     "name": "stderr",
     "output_type": "stream",
     "text": [
      "[*********************100%***********************]  1 of 1 completed\n",
      "\n",
      "1 Failed download:\n",
      "['LRCX']: YFPricesMissingError('possibly delisted; no price data found  (1d 2025-09-13 00:00:00 -> 2025-09-15 00:00:00)')\n"
     ]
    },
    {
     "name": "stdout",
     "output_type": "stream",
     "text": [
      "Téléchargement des données pour LULU de 2025-09-13 00:00:00 à 2025-09-15 00:00:00\n"
     ]
    },
    {
     "name": "stderr",
     "output_type": "stream",
     "text": [
      "[*********************100%***********************]  1 of 1 completed\n",
      "\n",
      "1 Failed download:\n",
      "['LULU']: YFPricesMissingError('possibly delisted; no price data found  (1d 2025-09-13 00:00:00 -> 2025-09-15 00:00:00)')\n"
     ]
    },
    {
     "name": "stdout",
     "output_type": "stream",
     "text": [
      "Téléchargement des données pour LUV de 2025-09-13 00:00:00 à 2025-09-15 00:00:00\n"
     ]
    },
    {
     "name": "stderr",
     "output_type": "stream",
     "text": [
      "[*********************100%***********************]  1 of 1 completed\n",
      "\n",
      "1 Failed download:\n",
      "['LUV']: YFPricesMissingError('possibly delisted; no price data found  (1d 2025-09-13 00:00:00 -> 2025-09-15 00:00:00)')\n"
     ]
    },
    {
     "name": "stdout",
     "output_type": "stream",
     "text": [
      "Téléchargement des données pour LVS de 2025-09-13 00:00:00 à 2025-09-15 00:00:00\n"
     ]
    },
    {
     "name": "stderr",
     "output_type": "stream",
     "text": [
      "[*********************100%***********************]  1 of 1 completed\n",
      "\n",
      "1 Failed download:\n",
      "['LVS']: YFPricesMissingError('possibly delisted; no price data found  (1d 2025-09-13 00:00:00 -> 2025-09-15 00:00:00)')\n"
     ]
    },
    {
     "name": "stdout",
     "output_type": "stream",
     "text": [
      "Téléchargement des données pour LW de 2025-09-13 00:00:00 à 2025-09-15 00:00:00\n"
     ]
    },
    {
     "name": "stderr",
     "output_type": "stream",
     "text": [
      "[*********************100%***********************]  1 of 1 completed\n",
      "\n",
      "1 Failed download:\n",
      "['LW']: YFPricesMissingError('possibly delisted; no price data found  (1d 2025-09-13 00:00:00 -> 2025-09-15 00:00:00)')\n"
     ]
    },
    {
     "name": "stdout",
     "output_type": "stream",
     "text": [
      "Téléchargement des données pour LYB de 2025-09-13 00:00:00 à 2025-09-15 00:00:00\n"
     ]
    },
    {
     "name": "stderr",
     "output_type": "stream",
     "text": [
      "[*********************100%***********************]  1 of 1 completed\n",
      "\n",
      "1 Failed download:\n",
      "['LYB']: YFPricesMissingError('possibly delisted; no price data found  (1d 2025-09-13 00:00:00 -> 2025-09-15 00:00:00)')\n"
     ]
    },
    {
     "name": "stdout",
     "output_type": "stream",
     "text": [
      "Téléchargement des données pour LYV de 2025-09-13 00:00:00 à 2025-09-15 00:00:00\n"
     ]
    },
    {
     "name": "stderr",
     "output_type": "stream",
     "text": [
      "[*********************100%***********************]  1 of 1 completed\n",
      "\n",
      "1 Failed download:\n",
      "['LYV']: YFPricesMissingError('possibly delisted; no price data found  (1d 2025-09-13 00:00:00 -> 2025-09-15 00:00:00)')\n"
     ]
    },
    {
     "name": "stdout",
     "output_type": "stream",
     "text": [
      "Téléchargement des données pour MA de 2025-09-13 00:00:00 à 2025-09-15 00:00:00\n"
     ]
    },
    {
     "name": "stderr",
     "output_type": "stream",
     "text": [
      "[*********************100%***********************]  1 of 1 completed\n",
      "\n",
      "1 Failed download:\n",
      "['MA']: YFPricesMissingError('possibly delisted; no price data found  (1d 2025-09-13 00:00:00 -> 2025-09-15 00:00:00)')\n"
     ]
    },
    {
     "name": "stdout",
     "output_type": "stream",
     "text": [
      "Téléchargement des données pour MAA de 2025-09-13 00:00:00 à 2025-09-15 00:00:00\n"
     ]
    },
    {
     "name": "stderr",
     "output_type": "stream",
     "text": [
      "[*********************100%***********************]  1 of 1 completed\n",
      "\n",
      "1 Failed download:\n",
      "['MAA']: YFPricesMissingError('possibly delisted; no price data found  (1d 2025-09-13 00:00:00 -> 2025-09-15 00:00:00)')\n"
     ]
    },
    {
     "name": "stdout",
     "output_type": "stream",
     "text": [
      "Téléchargement des données pour MAR de 2025-09-13 00:00:00 à 2025-09-15 00:00:00\n"
     ]
    },
    {
     "name": "stderr",
     "output_type": "stream",
     "text": [
      "[*********************100%***********************]  1 of 1 completed\n",
      "\n",
      "1 Failed download:\n",
      "['MAR']: YFPricesMissingError('possibly delisted; no price data found  (1d 2025-09-13 00:00:00 -> 2025-09-15 00:00:00)')\n"
     ]
    },
    {
     "name": "stdout",
     "output_type": "stream",
     "text": [
      "Téléchargement des données pour MAS de 2025-09-13 00:00:00 à 2025-09-15 00:00:00\n"
     ]
    },
    {
     "name": "stderr",
     "output_type": "stream",
     "text": [
      "[*********************100%***********************]  1 of 1 completed\n",
      "\n",
      "1 Failed download:\n",
      "['MAS']: YFPricesMissingError('possibly delisted; no price data found  (1d 2025-09-13 00:00:00 -> 2025-09-15 00:00:00)')\n"
     ]
    },
    {
     "name": "stdout",
     "output_type": "stream",
     "text": [
      "Téléchargement des données pour MCD de 2025-09-13 00:00:00 à 2025-09-15 00:00:00\n"
     ]
    },
    {
     "name": "stderr",
     "output_type": "stream",
     "text": [
      "[*********************100%***********************]  1 of 1 completed\n",
      "\n",
      "1 Failed download:\n",
      "['MCD']: YFPricesMissingError('possibly delisted; no price data found  (1d 2025-09-13 00:00:00 -> 2025-09-15 00:00:00)')\n"
     ]
    },
    {
     "name": "stdout",
     "output_type": "stream",
     "text": [
      "Téléchargement des données pour MCHP de 2025-09-13 00:00:00 à 2025-09-15 00:00:00\n"
     ]
    },
    {
     "name": "stderr",
     "output_type": "stream",
     "text": [
      "[*********************100%***********************]  1 of 1 completed\n",
      "\n",
      "1 Failed download:\n",
      "['MCHP']: YFPricesMissingError('possibly delisted; no price data found  (1d 2025-09-13 00:00:00 -> 2025-09-15 00:00:00)')\n"
     ]
    },
    {
     "name": "stdout",
     "output_type": "stream",
     "text": [
      "Téléchargement des données pour MCK de 2025-09-13 00:00:00 à 2025-09-15 00:00:00\n"
     ]
    },
    {
     "name": "stderr",
     "output_type": "stream",
     "text": [
      "[*********************100%***********************]  1 of 1 completed\n",
      "\n",
      "1 Failed download:\n",
      "['MCK']: YFPricesMissingError('possibly delisted; no price data found  (1d 2025-09-13 00:00:00 -> 2025-09-15 00:00:00)')\n"
     ]
    },
    {
     "name": "stdout",
     "output_type": "stream",
     "text": [
      "Téléchargement des données pour MCO de 2025-09-13 00:00:00 à 2025-09-15 00:00:00\n"
     ]
    },
    {
     "name": "stderr",
     "output_type": "stream",
     "text": [
      "[*********************100%***********************]  1 of 1 completed\n",
      "\n",
      "1 Failed download:\n",
      "['MCO']: YFPricesMissingError('possibly delisted; no price data found  (1d 2025-09-13 00:00:00 -> 2025-09-15 00:00:00)')\n"
     ]
    },
    {
     "name": "stdout",
     "output_type": "stream",
     "text": [
      "Téléchargement des données pour MDLZ de 2025-09-13 00:00:00 à 2025-09-15 00:00:00\n"
     ]
    },
    {
     "name": "stderr",
     "output_type": "stream",
     "text": [
      "[*********************100%***********************]  1 of 1 completed\n",
      "\n",
      "1 Failed download:\n",
      "['MDLZ']: YFPricesMissingError('possibly delisted; no price data found  (1d 2025-09-13 00:00:00 -> 2025-09-15 00:00:00)')\n"
     ]
    },
    {
     "name": "stdout",
     "output_type": "stream",
     "text": [
      "Téléchargement des données pour MDT de 2025-09-13 00:00:00 à 2025-09-15 00:00:00\n"
     ]
    },
    {
     "name": "stderr",
     "output_type": "stream",
     "text": [
      "[*********************100%***********************]  1 of 1 completed\n",
      "\n",
      "1 Failed download:\n",
      "['MDT']: YFPricesMissingError('possibly delisted; no price data found  (1d 2025-09-13 00:00:00 -> 2025-09-15 00:00:00)')\n"
     ]
    },
    {
     "name": "stdout",
     "output_type": "stream",
     "text": [
      "Téléchargement des données pour MET de 2025-09-13 00:00:00 à 2025-09-15 00:00:00\n"
     ]
    },
    {
     "name": "stderr",
     "output_type": "stream",
     "text": [
      "[*********************100%***********************]  1 of 1 completed\n",
      "\n",
      "1 Failed download:\n",
      "['MET']: YFPricesMissingError('possibly delisted; no price data found  (1d 2025-09-13 00:00:00 -> 2025-09-15 00:00:00)')\n"
     ]
    },
    {
     "name": "stdout",
     "output_type": "stream",
     "text": [
      "Téléchargement des données pour META de 2025-09-13 00:00:00 à 2025-09-15 00:00:00\n"
     ]
    },
    {
     "name": "stderr",
     "output_type": "stream",
     "text": [
      "[*********************100%***********************]  1 of 1 completed\n",
      "\n",
      "1 Failed download:\n",
      "['META']: YFPricesMissingError('possibly delisted; no price data found  (1d 2025-09-13 00:00:00 -> 2025-09-15 00:00:00)')\n"
     ]
    },
    {
     "name": "stdout",
     "output_type": "stream",
     "text": [
      "Téléchargement des données pour MGM de 2025-09-13 00:00:00 à 2025-09-15 00:00:00\n"
     ]
    },
    {
     "name": "stderr",
     "output_type": "stream",
     "text": [
      "[*********************100%***********************]  1 of 1 completed\n",
      "\n",
      "1 Failed download:\n",
      "['MGM']: YFPricesMissingError('possibly delisted; no price data found  (1d 2025-09-13 00:00:00 -> 2025-09-15 00:00:00)')\n"
     ]
    },
    {
     "name": "stdout",
     "output_type": "stream",
     "text": [
      "Téléchargement des données pour MHK de 2025-09-13 00:00:00 à 2025-09-15 00:00:00\n"
     ]
    },
    {
     "name": "stderr",
     "output_type": "stream",
     "text": [
      "[*********************100%***********************]  1 of 1 completed\n",
      "\n",
      "1 Failed download:\n",
      "['MHK']: YFPricesMissingError('possibly delisted; no price data found  (1d 2025-09-13 00:00:00 -> 2025-09-15 00:00:00)')\n"
     ]
    },
    {
     "name": "stdout",
     "output_type": "stream",
     "text": [
      "Téléchargement des données pour MKC de 2025-09-13 00:00:00 à 2025-09-15 00:00:00\n"
     ]
    },
    {
     "name": "stderr",
     "output_type": "stream",
     "text": [
      "[*********************100%***********************]  1 of 1 completed\n",
      "\n",
      "1 Failed download:\n",
      "['MKC']: YFPricesMissingError('possibly delisted; no price data found  (1d 2025-09-13 00:00:00 -> 2025-09-15 00:00:00)')\n"
     ]
    },
    {
     "name": "stdout",
     "output_type": "stream",
     "text": [
      "Téléchargement des données pour MLM de 2025-09-13 00:00:00 à 2025-09-15 00:00:00\n"
     ]
    },
    {
     "name": "stderr",
     "output_type": "stream",
     "text": [
      "[*********************100%***********************]  1 of 1 completed\n",
      "\n",
      "1 Failed download:\n",
      "['MLM']: YFPricesMissingError('possibly delisted; no price data found  (1d 2025-09-13 00:00:00 -> 2025-09-15 00:00:00)')\n"
     ]
    },
    {
     "name": "stdout",
     "output_type": "stream",
     "text": [
      "Téléchargement des données pour MMC de 2025-09-13 00:00:00 à 2025-09-15 00:00:00\n"
     ]
    },
    {
     "name": "stderr",
     "output_type": "stream",
     "text": [
      "[*********************100%***********************]  1 of 1 completed\n",
      "\n",
      "1 Failed download:\n",
      "['MMC']: YFPricesMissingError('possibly delisted; no price data found  (1d 2025-09-13 00:00:00 -> 2025-09-15 00:00:00)')\n"
     ]
    },
    {
     "name": "stdout",
     "output_type": "stream",
     "text": [
      "Téléchargement des données pour MMM de 2025-09-13 00:00:00 à 2025-09-15 00:00:00\n"
     ]
    },
    {
     "name": "stderr",
     "output_type": "stream",
     "text": [
      "[*********************100%***********************]  1 of 1 completed\n",
      "\n",
      "1 Failed download:\n",
      "['MMM']: YFPricesMissingError('possibly delisted; no price data found  (1d 2025-09-13 00:00:00 -> 2025-09-15 00:00:00)')\n"
     ]
    },
    {
     "name": "stdout",
     "output_type": "stream",
     "text": [
      "Téléchargement des données pour MNST de 2025-09-13 00:00:00 à 2025-09-15 00:00:00\n"
     ]
    },
    {
     "name": "stderr",
     "output_type": "stream",
     "text": [
      "[*********************100%***********************]  1 of 1 completed\n",
      "\n",
      "1 Failed download:\n",
      "['MNST']: YFPricesMissingError('possibly delisted; no price data found  (1d 2025-09-13 00:00:00 -> 2025-09-15 00:00:00)')\n"
     ]
    },
    {
     "name": "stdout",
     "output_type": "stream",
     "text": [
      "Téléchargement des données pour MO de 2025-09-13 00:00:00 à 2025-09-15 00:00:00\n"
     ]
    },
    {
     "name": "stderr",
     "output_type": "stream",
     "text": [
      "[*********************100%***********************]  1 of 1 completed\n",
      "\n",
      "1 Failed download:\n",
      "['MO']: YFPricesMissingError('possibly delisted; no price data found  (1d 2025-09-13 00:00:00 -> 2025-09-15 00:00:00)')\n"
     ]
    },
    {
     "name": "stdout",
     "output_type": "stream",
     "text": [
      "Téléchargement des données pour MOH de 2025-09-13 00:00:00 à 2025-09-15 00:00:00\n"
     ]
    },
    {
     "name": "stderr",
     "output_type": "stream",
     "text": [
      "[*********************100%***********************]  1 of 1 completed\n",
      "\n",
      "1 Failed download:\n",
      "['MOH']: YFPricesMissingError('possibly delisted; no price data found  (1d 2025-09-13 00:00:00 -> 2025-09-15 00:00:00)')\n"
     ]
    },
    {
     "name": "stdout",
     "output_type": "stream",
     "text": [
      "Téléchargement des données pour MOS de 2025-09-13 00:00:00 à 2025-09-15 00:00:00\n"
     ]
    },
    {
     "name": "stderr",
     "output_type": "stream",
     "text": [
      "[*********************100%***********************]  1 of 1 completed\n",
      "\n",
      "1 Failed download:\n",
      "['MOS']: YFPricesMissingError('possibly delisted; no price data found  (1d 2025-09-13 00:00:00 -> 2025-09-15 00:00:00)')\n"
     ]
    },
    {
     "name": "stdout",
     "output_type": "stream",
     "text": [
      "Téléchargement des données pour MPC de 2025-09-13 00:00:00 à 2025-09-15 00:00:00\n"
     ]
    },
    {
     "name": "stderr",
     "output_type": "stream",
     "text": [
      "[*********************100%***********************]  1 of 1 completed\n",
      "\n",
      "1 Failed download:\n",
      "['MPC']: YFPricesMissingError('possibly delisted; no price data found  (1d 2025-09-13 00:00:00 -> 2025-09-15 00:00:00)')\n"
     ]
    },
    {
     "name": "stdout",
     "output_type": "stream",
     "text": [
      "Téléchargement des données pour MPWR de 2025-09-13 00:00:00 à 2025-09-15 00:00:00\n"
     ]
    },
    {
     "name": "stderr",
     "output_type": "stream",
     "text": [
      "[*********************100%***********************]  1 of 1 completed\n",
      "\n",
      "1 Failed download:\n",
      "['MPWR']: YFPricesMissingError('possibly delisted; no price data found  (1d 2025-09-13 00:00:00 -> 2025-09-15 00:00:00)')\n"
     ]
    },
    {
     "name": "stdout",
     "output_type": "stream",
     "text": [
      "Téléchargement des données pour MRK de 2025-09-13 00:00:00 à 2025-09-15 00:00:00\n"
     ]
    },
    {
     "name": "stderr",
     "output_type": "stream",
     "text": [
      "[*********************100%***********************]  1 of 1 completed\n",
      "\n",
      "1 Failed download:\n",
      "['MRK']: YFPricesMissingError('possibly delisted; no price data found  (1d 2025-09-13 00:00:00 -> 2025-09-15 00:00:00)')\n"
     ]
    },
    {
     "name": "stdout",
     "output_type": "stream",
     "text": [
      "Téléchargement des données pour MRNA de 2025-09-13 00:00:00 à 2025-09-15 00:00:00\n"
     ]
    },
    {
     "name": "stderr",
     "output_type": "stream",
     "text": [
      "[*********************100%***********************]  1 of 1 completed\n",
      "\n",
      "1 Failed download:\n",
      "['MRNA']: YFPricesMissingError('possibly delisted; no price data found  (1d 2025-09-13 00:00:00 -> 2025-09-15 00:00:00)')\n"
     ]
    },
    {
     "name": "stdout",
     "output_type": "stream",
     "text": [
      "Téléchargement des données pour MS de 2025-09-13 00:00:00 à 2025-09-15 00:00:00\n"
     ]
    },
    {
     "name": "stderr",
     "output_type": "stream",
     "text": [
      "[*********************100%***********************]  1 of 1 completed\n",
      "\n",
      "1 Failed download:\n",
      "['MS']: YFPricesMissingError('possibly delisted; no price data found  (1d 2025-09-13 00:00:00 -> 2025-09-15 00:00:00)')\n"
     ]
    },
    {
     "name": "stdout",
     "output_type": "stream",
     "text": [
      "Téléchargement des données pour MSCI de 2025-09-13 00:00:00 à 2025-09-15 00:00:00\n"
     ]
    },
    {
     "name": "stderr",
     "output_type": "stream",
     "text": [
      "[*********************100%***********************]  1 of 1 completed\n",
      "\n",
      "1 Failed download:\n",
      "['MSCI']: YFPricesMissingError('possibly delisted; no price data found  (1d 2025-09-13 00:00:00 -> 2025-09-15 00:00:00)')\n"
     ]
    },
    {
     "name": "stdout",
     "output_type": "stream",
     "text": [
      "Téléchargement des données pour MSFT de 2025-09-13 00:00:00 à 2025-09-15 00:00:00\n"
     ]
    },
    {
     "name": "stderr",
     "output_type": "stream",
     "text": [
      "[*********************100%***********************]  1 of 1 completed\n",
      "\n",
      "1 Failed download:\n",
      "['MSFT']: YFPricesMissingError('possibly delisted; no price data found  (1d 2025-09-13 00:00:00 -> 2025-09-15 00:00:00)')\n"
     ]
    },
    {
     "name": "stdout",
     "output_type": "stream",
     "text": [
      "Téléchargement des données pour MSI de 2025-09-13 00:00:00 à 2025-09-15 00:00:00\n"
     ]
    },
    {
     "name": "stderr",
     "output_type": "stream",
     "text": [
      "[*********************100%***********************]  1 of 1 completed\n",
      "\n",
      "1 Failed download:\n",
      "['MSI']: YFPricesMissingError('possibly delisted; no price data found  (1d 2025-09-13 00:00:00 -> 2025-09-15 00:00:00)')\n"
     ]
    },
    {
     "name": "stdout",
     "output_type": "stream",
     "text": [
      "Téléchargement des données pour MTB de 2025-09-13 00:00:00 à 2025-09-15 00:00:00\n"
     ]
    },
    {
     "name": "stderr",
     "output_type": "stream",
     "text": [
      "[*********************100%***********************]  1 of 1 completed\n",
      "\n",
      "1 Failed download:\n",
      "['MTB']: YFPricesMissingError('possibly delisted; no price data found  (1d 2025-09-13 00:00:00 -> 2025-09-15 00:00:00)')\n"
     ]
    },
    {
     "name": "stdout",
     "output_type": "stream",
     "text": [
      "Téléchargement des données pour MTCH de 2025-09-13 00:00:00 à 2025-09-15 00:00:00\n"
     ]
    },
    {
     "name": "stderr",
     "output_type": "stream",
     "text": [
      "[*********************100%***********************]  1 of 1 completed\n",
      "\n",
      "1 Failed download:\n",
      "['MTCH']: YFPricesMissingError('possibly delisted; no price data found  (1d 2025-09-13 00:00:00 -> 2025-09-15 00:00:00)')\n"
     ]
    },
    {
     "name": "stdout",
     "output_type": "stream",
     "text": [
      "Téléchargement des données pour MTD de 2025-09-13 00:00:00 à 2025-09-15 00:00:00\n"
     ]
    },
    {
     "name": "stderr",
     "output_type": "stream",
     "text": [
      "[*********************100%***********************]  1 of 1 completed\n",
      "\n",
      "1 Failed download:\n",
      "['MTD']: YFPricesMissingError('possibly delisted; no price data found  (1d 2025-09-13 00:00:00 -> 2025-09-15 00:00:00)')\n"
     ]
    },
    {
     "name": "stdout",
     "output_type": "stream",
     "text": [
      "Téléchargement des données pour MU de 2025-09-13 00:00:00 à 2025-09-15 00:00:00\n"
     ]
    },
    {
     "name": "stderr",
     "output_type": "stream",
     "text": [
      "[*********************100%***********************]  1 of 1 completed\n",
      "\n",
      "1 Failed download:\n",
      "['MU']: YFPricesMissingError('possibly delisted; no price data found  (1d 2025-09-13 00:00:00 -> 2025-09-15 00:00:00)')\n"
     ]
    },
    {
     "name": "stdout",
     "output_type": "stream",
     "text": [
      "Téléchargement des données pour NCLH de 2025-09-13 00:00:00 à 2025-09-15 00:00:00\n"
     ]
    },
    {
     "name": "stderr",
     "output_type": "stream",
     "text": [
      "[*********************100%***********************]  1 of 1 completed\n",
      "\n",
      "1 Failed download:\n",
      "['NCLH']: YFPricesMissingError('possibly delisted; no price data found  (1d 2025-09-13 00:00:00 -> 2025-09-15 00:00:00)')\n"
     ]
    },
    {
     "name": "stdout",
     "output_type": "stream",
     "text": [
      "Téléchargement des données pour NDAQ de 2025-09-13 00:00:00 à 2025-09-15 00:00:00\n"
     ]
    },
    {
     "name": "stderr",
     "output_type": "stream",
     "text": [
      "[*********************100%***********************]  1 of 1 completed\n",
      "\n",
      "1 Failed download:\n",
      "['NDAQ']: YFPricesMissingError('possibly delisted; no price data found  (1d 2025-09-13 00:00:00 -> 2025-09-15 00:00:00)')\n"
     ]
    },
    {
     "name": "stdout",
     "output_type": "stream",
     "text": [
      "Téléchargement des données pour NDSN de 2025-09-13 00:00:00 à 2025-09-15 00:00:00\n"
     ]
    },
    {
     "name": "stderr",
     "output_type": "stream",
     "text": [
      "[*********************100%***********************]  1 of 1 completed\n",
      "\n",
      "1 Failed download:\n",
      "['NDSN']: YFPricesMissingError('possibly delisted; no price data found  (1d 2025-09-13 00:00:00 -> 2025-09-15 00:00:00)')\n"
     ]
    },
    {
     "name": "stdout",
     "output_type": "stream",
     "text": [
      "Téléchargement des données pour NEE de 2025-09-13 00:00:00 à 2025-09-15 00:00:00\n"
     ]
    },
    {
     "name": "stderr",
     "output_type": "stream",
     "text": [
      "[*********************100%***********************]  1 of 1 completed\n",
      "\n",
      "1 Failed download:\n",
      "['NEE']: YFPricesMissingError('possibly delisted; no price data found  (1d 2025-09-13 00:00:00 -> 2025-09-15 00:00:00)')\n"
     ]
    },
    {
     "name": "stdout",
     "output_type": "stream",
     "text": [
      "Téléchargement des données pour NEM de 2025-09-13 00:00:00 à 2025-09-15 00:00:00\n"
     ]
    },
    {
     "name": "stderr",
     "output_type": "stream",
     "text": [
      "[*********************100%***********************]  1 of 1 completed\n",
      "\n",
      "1 Failed download:\n",
      "['NEM']: YFPricesMissingError('possibly delisted; no price data found  (1d 2025-09-13 00:00:00 -> 2025-09-15 00:00:00)')\n"
     ]
    },
    {
     "name": "stdout",
     "output_type": "stream",
     "text": [
      "Téléchargement des données pour NFLX de 2025-09-13 00:00:00 à 2025-09-15 00:00:00\n"
     ]
    },
    {
     "name": "stderr",
     "output_type": "stream",
     "text": [
      "[*********************100%***********************]  1 of 1 completed\n",
      "\n",
      "1 Failed download:\n",
      "['NFLX']: YFPricesMissingError('possibly delisted; no price data found  (1d 2025-09-13 00:00:00 -> 2025-09-15 00:00:00)')\n"
     ]
    },
    {
     "name": "stdout",
     "output_type": "stream",
     "text": [
      "Téléchargement des données pour NI de 2025-09-13 00:00:00 à 2025-09-15 00:00:00\n"
     ]
    },
    {
     "name": "stderr",
     "output_type": "stream",
     "text": [
      "[*********************100%***********************]  1 of 1 completed\n",
      "\n",
      "1 Failed download:\n",
      "['NI']: YFPricesMissingError('possibly delisted; no price data found  (1d 2025-09-13 00:00:00 -> 2025-09-15 00:00:00)')\n"
     ]
    },
    {
     "name": "stdout",
     "output_type": "stream",
     "text": [
      "Téléchargement des données pour NKE de 2025-09-13 00:00:00 à 2025-09-15 00:00:00\n"
     ]
    },
    {
     "name": "stderr",
     "output_type": "stream",
     "text": [
      "[*********************100%***********************]  1 of 1 completed\n",
      "\n",
      "1 Failed download:\n",
      "['NKE']: YFPricesMissingError('possibly delisted; no price data found  (1d 2025-09-13 00:00:00 -> 2025-09-15 00:00:00)')\n"
     ]
    },
    {
     "name": "stdout",
     "output_type": "stream",
     "text": [
      "Téléchargement des données pour NOC de 2025-09-13 00:00:00 à 2025-09-15 00:00:00\n"
     ]
    },
    {
     "name": "stderr",
     "output_type": "stream",
     "text": [
      "[*********************100%***********************]  1 of 1 completed\n",
      "\n",
      "1 Failed download:\n",
      "['NOC']: YFPricesMissingError('possibly delisted; no price data found  (1d 2025-09-13 00:00:00 -> 2025-09-15 00:00:00)')\n"
     ]
    },
    {
     "name": "stdout",
     "output_type": "stream",
     "text": [
      "Téléchargement des données pour NOW de 2025-09-13 00:00:00 à 2025-09-15 00:00:00\n"
     ]
    },
    {
     "name": "stderr",
     "output_type": "stream",
     "text": [
      "[*********************100%***********************]  1 of 1 completed\n",
      "\n",
      "1 Failed download:\n",
      "['NOW']: YFPricesMissingError('possibly delisted; no price data found  (1d 2025-09-13 00:00:00 -> 2025-09-15 00:00:00)')\n"
     ]
    },
    {
     "name": "stdout",
     "output_type": "stream",
     "text": [
      "Téléchargement des données pour NRG de 2025-09-13 00:00:00 à 2025-09-15 00:00:00\n"
     ]
    },
    {
     "name": "stderr",
     "output_type": "stream",
     "text": [
      "[*********************100%***********************]  1 of 1 completed\n",
      "\n",
      "1 Failed download:\n",
      "['NRG']: YFPricesMissingError('possibly delisted; no price data found  (1d 2025-09-13 00:00:00 -> 2025-09-15 00:00:00)')\n"
     ]
    },
    {
     "name": "stdout",
     "output_type": "stream",
     "text": [
      "Téléchargement des données pour NSC de 2025-09-13 00:00:00 à 2025-09-15 00:00:00\n"
     ]
    },
    {
     "name": "stderr",
     "output_type": "stream",
     "text": [
      "[*********************100%***********************]  1 of 1 completed\n",
      "\n",
      "1 Failed download:\n",
      "['NSC']: YFPricesMissingError('possibly delisted; no price data found  (1d 2025-09-13 00:00:00 -> 2025-09-15 00:00:00)')\n"
     ]
    },
    {
     "name": "stdout",
     "output_type": "stream",
     "text": [
      "Téléchargement des données pour NTAP de 2025-09-13 00:00:00 à 2025-09-15 00:00:00\n"
     ]
    },
    {
     "name": "stderr",
     "output_type": "stream",
     "text": [
      "[*********************100%***********************]  1 of 1 completed\n",
      "\n",
      "1 Failed download:\n",
      "['NTAP']: YFPricesMissingError('possibly delisted; no price data found  (1d 2025-09-13 00:00:00 -> 2025-09-15 00:00:00)')\n"
     ]
    },
    {
     "name": "stdout",
     "output_type": "stream",
     "text": [
      "Téléchargement des données pour NTRS de 2025-09-13 00:00:00 à 2025-09-15 00:00:00\n"
     ]
    },
    {
     "name": "stderr",
     "output_type": "stream",
     "text": [
      "[*********************100%***********************]  1 of 1 completed\n",
      "\n",
      "1 Failed download:\n",
      "['NTRS']: YFPricesMissingError('possibly delisted; no price data found  (1d 2025-09-13 00:00:00 -> 2025-09-15 00:00:00)')\n"
     ]
    },
    {
     "name": "stdout",
     "output_type": "stream",
     "text": [
      "Téléchargement des données pour NUE de 2025-09-13 00:00:00 à 2025-09-15 00:00:00\n"
     ]
    },
    {
     "name": "stderr",
     "output_type": "stream",
     "text": [
      "[*********************100%***********************]  1 of 1 completed\n",
      "\n",
      "1 Failed download:\n",
      "['NUE']: YFPricesMissingError('possibly delisted; no price data found  (1d 2025-09-13 00:00:00 -> 2025-09-15 00:00:00)')\n"
     ]
    },
    {
     "name": "stdout",
     "output_type": "stream",
     "text": [
      "Téléchargement des données pour NVDA de 2025-09-13 00:00:00 à 2025-09-15 00:00:00\n"
     ]
    },
    {
     "name": "stderr",
     "output_type": "stream",
     "text": [
      "[*********************100%***********************]  1 of 1 completed\n",
      "\n",
      "1 Failed download:\n",
      "['NVDA']: YFPricesMissingError('possibly delisted; no price data found  (1d 2025-09-13 00:00:00 -> 2025-09-15 00:00:00)')\n"
     ]
    },
    {
     "name": "stdout",
     "output_type": "stream",
     "text": [
      "Téléchargement des données pour NVR de 2025-09-13 00:00:00 à 2025-09-15 00:00:00\n"
     ]
    },
    {
     "name": "stderr",
     "output_type": "stream",
     "text": [
      "[*********************100%***********************]  1 of 1 completed\n",
      "\n",
      "1 Failed download:\n",
      "['NVR']: YFPricesMissingError('possibly delisted; no price data found  (1d 2025-09-13 00:00:00 -> 2025-09-15 00:00:00)')\n"
     ]
    },
    {
     "name": "stdout",
     "output_type": "stream",
     "text": [
      "Téléchargement des données pour NWS de 2025-09-13 00:00:00 à 2025-09-15 00:00:00\n"
     ]
    },
    {
     "name": "stderr",
     "output_type": "stream",
     "text": [
      "[*********************100%***********************]  1 of 1 completed\n",
      "\n",
      "1 Failed download:\n",
      "['NWS']: YFPricesMissingError('possibly delisted; no price data found  (1d 2025-09-13 00:00:00 -> 2025-09-15 00:00:00)')\n"
     ]
    },
    {
     "name": "stdout",
     "output_type": "stream",
     "text": [
      "Téléchargement des données pour NWSA de 2025-09-13 00:00:00 à 2025-09-15 00:00:00\n"
     ]
    },
    {
     "name": "stderr",
     "output_type": "stream",
     "text": [
      "[*********************100%***********************]  1 of 1 completed\n",
      "\n",
      "1 Failed download:\n",
      "['NWSA']: YFPricesMissingError('possibly delisted; no price data found  (1d 2025-09-13 00:00:00 -> 2025-09-15 00:00:00)')\n"
     ]
    },
    {
     "name": "stdout",
     "output_type": "stream",
     "text": [
      "Téléchargement des données pour NXPI de 2025-09-13 00:00:00 à 2025-09-15 00:00:00\n"
     ]
    },
    {
     "name": "stderr",
     "output_type": "stream",
     "text": [
      "[*********************100%***********************]  1 of 1 completed\n",
      "\n",
      "1 Failed download:\n",
      "['NXPI']: YFPricesMissingError('possibly delisted; no price data found  (1d 2025-09-13 00:00:00 -> 2025-09-15 00:00:00)')\n"
     ]
    },
    {
     "name": "stdout",
     "output_type": "stream",
     "text": [
      "Téléchargement des données pour O de 2025-09-13 00:00:00 à 2025-09-15 00:00:00\n"
     ]
    },
    {
     "name": "stderr",
     "output_type": "stream",
     "text": [
      "[*********************100%***********************]  1 of 1 completed\n",
      "\n",
      "1 Failed download:\n",
      "['O']: YFPricesMissingError('possibly delisted; no price data found  (1d 2025-09-13 00:00:00 -> 2025-09-15 00:00:00)')\n"
     ]
    },
    {
     "name": "stdout",
     "output_type": "stream",
     "text": [
      "Téléchargement des données pour ODFL de 2025-09-13 00:00:00 à 2025-09-15 00:00:00\n"
     ]
    },
    {
     "name": "stderr",
     "output_type": "stream",
     "text": [
      "[*********************100%***********************]  1 of 1 completed\n",
      "\n",
      "1 Failed download:\n",
      "['ODFL']: YFPricesMissingError('possibly delisted; no price data found  (1d 2025-09-13 00:00:00 -> 2025-09-15 00:00:00)')\n"
     ]
    },
    {
     "name": "stdout",
     "output_type": "stream",
     "text": [
      "Téléchargement des données pour OKE de 2025-09-13 00:00:00 à 2025-09-15 00:00:00\n"
     ]
    },
    {
     "name": "stderr",
     "output_type": "stream",
     "text": [
      "[*********************100%***********************]  1 of 1 completed\n",
      "\n",
      "1 Failed download:\n",
      "['OKE']: YFPricesMissingError('possibly delisted; no price data found  (1d 2025-09-13 00:00:00 -> 2025-09-15 00:00:00)')\n"
     ]
    },
    {
     "name": "stdout",
     "output_type": "stream",
     "text": [
      "Téléchargement des données pour OMC de 2025-09-13 00:00:00 à 2025-09-15 00:00:00\n"
     ]
    },
    {
     "name": "stderr",
     "output_type": "stream",
     "text": [
      "[*********************100%***********************]  1 of 1 completed\n",
      "\n",
      "1 Failed download:\n",
      "['OMC']: YFPricesMissingError('possibly delisted; no price data found  (1d 2025-09-13 00:00:00 -> 2025-09-15 00:00:00)')\n"
     ]
    },
    {
     "name": "stdout",
     "output_type": "stream",
     "text": [
      "Téléchargement des données pour ON de 2025-09-13 00:00:00 à 2025-09-15 00:00:00\n"
     ]
    },
    {
     "name": "stderr",
     "output_type": "stream",
     "text": [
      "[*********************100%***********************]  1 of 1 completed\n",
      "\n",
      "1 Failed download:\n",
      "['ON']: YFPricesMissingError('possibly delisted; no price data found  (1d 2025-09-13 00:00:00 -> 2025-09-15 00:00:00)')\n"
     ]
    },
    {
     "name": "stdout",
     "output_type": "stream",
     "text": [
      "Téléchargement des données pour ORCL de 2025-09-13 00:00:00 à 2025-09-15 00:00:00\n"
     ]
    },
    {
     "name": "stderr",
     "output_type": "stream",
     "text": [
      "[*********************100%***********************]  1 of 1 completed\n",
      "\n",
      "1 Failed download:\n",
      "['ORCL']: YFPricesMissingError('possibly delisted; no price data found  (1d 2025-09-13 00:00:00 -> 2025-09-15 00:00:00)')\n"
     ]
    },
    {
     "name": "stdout",
     "output_type": "stream",
     "text": [
      "Téléchargement des données pour ORLY de 2025-09-13 00:00:00 à 2025-09-15 00:00:00\n"
     ]
    },
    {
     "name": "stderr",
     "output_type": "stream",
     "text": [
      "[*********************100%***********************]  1 of 1 completed\n",
      "\n",
      "1 Failed download:\n",
      "['ORLY']: YFPricesMissingError('possibly delisted; no price data found  (1d 2025-09-13 00:00:00 -> 2025-09-15 00:00:00)')\n"
     ]
    },
    {
     "name": "stdout",
     "output_type": "stream",
     "text": [
      "Téléchargement des données pour OTIS de 2025-09-13 00:00:00 à 2025-09-15 00:00:00\n"
     ]
    },
    {
     "name": "stderr",
     "output_type": "stream",
     "text": [
      "[*********************100%***********************]  1 of 1 completed\n",
      "\n",
      "1 Failed download:\n",
      "['OTIS']: YFPricesMissingError('possibly delisted; no price data found  (1d 2025-09-13 00:00:00 -> 2025-09-15 00:00:00)')\n"
     ]
    },
    {
     "name": "stdout",
     "output_type": "stream",
     "text": [
      "Téléchargement des données pour OXY de 2025-09-13 00:00:00 à 2025-09-15 00:00:00\n"
     ]
    },
    {
     "name": "stderr",
     "output_type": "stream",
     "text": [
      "[*********************100%***********************]  1 of 1 completed\n",
      "\n",
      "1 Failed download:\n",
      "['OXY']: YFPricesMissingError('possibly delisted; no price data found  (1d 2025-09-13 00:00:00 -> 2025-09-15 00:00:00)')\n"
     ]
    },
    {
     "name": "stdout",
     "output_type": "stream",
     "text": [
      "Téléchargement des données pour P de 2025-09-13 00:00:00 à 2025-09-15 00:00:00\n"
     ]
    },
    {
     "name": "stderr",
     "output_type": "stream",
     "text": [
      "[*********************100%***********************]  1 of 1 completed\n",
      "\n",
      "1 Failed download:\n",
      "['P']: YFPricesMissingError('possibly delisted; no price data found  (1d 2025-09-13 00:00:00 -> 2025-09-15 00:00:00)')\n"
     ]
    },
    {
     "name": "stdout",
     "output_type": "stream",
     "text": [
      "Téléchargement des données pour PANW de 2025-09-13 00:00:00 à 2025-09-15 00:00:00\n"
     ]
    },
    {
     "name": "stderr",
     "output_type": "stream",
     "text": [
      "[*********************100%***********************]  1 of 1 completed\n",
      "\n",
      "1 Failed download:\n",
      "['PANW']: YFPricesMissingError('possibly delisted; no price data found  (1d 2025-09-13 00:00:00 -> 2025-09-15 00:00:00)')\n"
     ]
    },
    {
     "name": "stdout",
     "output_type": "stream",
     "text": [
      "Téléchargement des données pour PAYC de 2025-09-13 00:00:00 à 2025-09-15 00:00:00\n"
     ]
    },
    {
     "name": "stderr",
     "output_type": "stream",
     "text": [
      "[*********************100%***********************]  1 of 1 completed\n",
      "\n",
      "1 Failed download:\n",
      "['PAYC']: YFPricesMissingError('possibly delisted; no price data found  (1d 2025-09-13 00:00:00 -> 2025-09-15 00:00:00)')\n"
     ]
    },
    {
     "name": "stdout",
     "output_type": "stream",
     "text": [
      "Téléchargement des données pour PAYX de 2025-09-13 00:00:00 à 2025-09-15 00:00:00\n"
     ]
    },
    {
     "name": "stderr",
     "output_type": "stream",
     "text": [
      "[*********************100%***********************]  1 of 1 completed\n",
      "\n",
      "1 Failed download:\n",
      "['PAYX']: YFPricesMissingError('possibly delisted; no price data found  (1d 2025-09-13 00:00:00 -> 2025-09-15 00:00:00)')\n"
     ]
    },
    {
     "name": "stdout",
     "output_type": "stream",
     "text": [
      "Téléchargement des données pour PCAR de 2025-09-13 00:00:00 à 2025-09-15 00:00:00\n"
     ]
    },
    {
     "name": "stderr",
     "output_type": "stream",
     "text": [
      "[*********************100%***********************]  1 of 1 completed\n",
      "\n",
      "1 Failed download:\n",
      "['PCAR']: YFPricesMissingError('possibly delisted; no price data found  (1d 2025-09-13 00:00:00 -> 2025-09-15 00:00:00)')\n"
     ]
    },
    {
     "name": "stdout",
     "output_type": "stream",
     "text": [
      "Téléchargement des données pour PCG de 2025-09-13 00:00:00 à 2025-09-15 00:00:00\n"
     ]
    },
    {
     "name": "stderr",
     "output_type": "stream",
     "text": [
      "[*********************100%***********************]  1 of 1 completed\n",
      "\n",
      "1 Failed download:\n",
      "['PCG']: YFPricesMissingError('possibly delisted; no price data found  (1d 2025-09-13 00:00:00 -> 2025-09-15 00:00:00)')\n"
     ]
    },
    {
     "name": "stdout",
     "output_type": "stream",
     "text": [
      "Téléchargement des données pour PEG de 2025-09-13 00:00:00 à 2025-09-15 00:00:00\n"
     ]
    },
    {
     "name": "stderr",
     "output_type": "stream",
     "text": [
      "[*********************100%***********************]  1 of 1 completed\n",
      "\n",
      "1 Failed download:\n",
      "['PEG']: YFPricesMissingError('possibly delisted; no price data found  (1d 2025-09-13 00:00:00 -> 2025-09-15 00:00:00)')\n"
     ]
    },
    {
     "name": "stdout",
     "output_type": "stream",
     "text": [
      "Téléchargement des données pour PEP de 2025-09-13 00:00:00 à 2025-09-15 00:00:00\n"
     ]
    },
    {
     "name": "stderr",
     "output_type": "stream",
     "text": [
      "[*********************100%***********************]  1 of 1 completed\n",
      "\n",
      "1 Failed download:\n",
      "['PEP']: YFPricesMissingError('possibly delisted; no price data found  (1d 2025-09-13 00:00:00 -> 2025-09-15 00:00:00)')\n"
     ]
    },
    {
     "name": "stdout",
     "output_type": "stream",
     "text": [
      "Téléchargement des données pour PFE de 2025-09-13 00:00:00 à 2025-09-15 00:00:00\n"
     ]
    },
    {
     "name": "stderr",
     "output_type": "stream",
     "text": [
      "[*********************100%***********************]  1 of 1 completed\n",
      "\n",
      "1 Failed download:\n",
      "['PFE']: YFPricesMissingError('possibly delisted; no price data found  (1d 2025-09-13 00:00:00 -> 2025-09-15 00:00:00)')\n"
     ]
    },
    {
     "name": "stdout",
     "output_type": "stream",
     "text": [
      "Téléchargement des données pour PFG de 2025-09-13 00:00:00 à 2025-09-15 00:00:00\n"
     ]
    },
    {
     "name": "stderr",
     "output_type": "stream",
     "text": [
      "[*********************100%***********************]  1 of 1 completed\n",
      "\n",
      "1 Failed download:\n",
      "['PFG']: YFPricesMissingError('possibly delisted; no price data found  (1d 2025-09-13 00:00:00 -> 2025-09-15 00:00:00)')\n"
     ]
    },
    {
     "name": "stdout",
     "output_type": "stream",
     "text": [
      "Téléchargement des données pour PG de 2025-09-13 00:00:00 à 2025-09-15 00:00:00\n"
     ]
    },
    {
     "name": "stderr",
     "output_type": "stream",
     "text": [
      "[*********************100%***********************]  1 of 1 completed\n",
      "\n",
      "1 Failed download:\n",
      "['PG']: YFPricesMissingError('possibly delisted; no price data found  (1d 2025-09-13 00:00:00 -> 2025-09-15 00:00:00)')\n"
     ]
    },
    {
     "name": "stdout",
     "output_type": "stream",
     "text": [
      "Téléchargement des données pour PGR de 2025-09-13 00:00:00 à 2025-09-15 00:00:00\n"
     ]
    },
    {
     "name": "stderr",
     "output_type": "stream",
     "text": [
      "[*********************100%***********************]  1 of 1 completed\n",
      "\n",
      "1 Failed download:\n",
      "['PGR']: YFPricesMissingError('possibly delisted; no price data found  (1d 2025-09-13 00:00:00 -> 2025-09-15 00:00:00)')\n"
     ]
    },
    {
     "name": "stdout",
     "output_type": "stream",
     "text": [
      "Téléchargement des données pour PHM de 2025-09-13 00:00:00 à 2025-09-15 00:00:00\n"
     ]
    },
    {
     "name": "stderr",
     "output_type": "stream",
     "text": [
      "[*********************100%***********************]  1 of 1 completed\n",
      "\n",
      "1 Failed download:\n",
      "['PHM']: YFPricesMissingError('possibly delisted; no price data found  (1d 2025-09-13 00:00:00 -> 2025-09-15 00:00:00)')\n"
     ]
    },
    {
     "name": "stdout",
     "output_type": "stream",
     "text": [
      "Téléchargement des données pour PKG de 2025-09-13 00:00:00 à 2025-09-15 00:00:00\n"
     ]
    },
    {
     "name": "stderr",
     "output_type": "stream",
     "text": [
      "[*********************100%***********************]  1 of 1 completed\n",
      "\n",
      "1 Failed download:\n",
      "['PKG']: YFPricesMissingError('possibly delisted; no price data found  (1d 2025-09-13 00:00:00 -> 2025-09-15 00:00:00)')\n"
     ]
    },
    {
     "name": "stdout",
     "output_type": "stream",
     "text": [
      "Téléchargement des données pour PLD de 2025-09-13 00:00:00 à 2025-09-15 00:00:00\n"
     ]
    },
    {
     "name": "stderr",
     "output_type": "stream",
     "text": [
      "[*********************100%***********************]  1 of 1 completed\n",
      "\n",
      "1 Failed download:\n",
      "['PLD']: YFPricesMissingError('possibly delisted; no price data found  (1d 2025-09-13 00:00:00 -> 2025-09-15 00:00:00)')\n"
     ]
    },
    {
     "name": "stdout",
     "output_type": "stream",
     "text": [
      "Téléchargement des données pour PLTR de 2025-09-13 00:00:00 à 2025-09-15 00:00:00\n"
     ]
    },
    {
     "name": "stderr",
     "output_type": "stream",
     "text": [
      "[*********************100%***********************]  1 of 1 completed\n",
      "\n",
      "1 Failed download:\n",
      "['PLTR']: YFPricesMissingError('possibly delisted; no price data found  (1d 2025-09-13 00:00:00 -> 2025-09-15 00:00:00)')\n"
     ]
    },
    {
     "name": "stdout",
     "output_type": "stream",
     "text": [
      "Téléchargement des données pour PM de 2025-09-13 00:00:00 à 2025-09-15 00:00:00\n"
     ]
    },
    {
     "name": "stderr",
     "output_type": "stream",
     "text": [
      "[*********************100%***********************]  1 of 1 completed\n",
      "\n",
      "1 Failed download:\n",
      "['PM']: YFPricesMissingError('possibly delisted; no price data found  (1d 2025-09-13 00:00:00 -> 2025-09-15 00:00:00)')\n"
     ]
    },
    {
     "name": "stdout",
     "output_type": "stream",
     "text": [
      "Téléchargement des données pour PNC de 2025-09-13 00:00:00 à 2025-09-15 00:00:00\n"
     ]
    },
    {
     "name": "stderr",
     "output_type": "stream",
     "text": [
      "[*********************100%***********************]  1 of 1 completed\n",
      "\n",
      "1 Failed download:\n",
      "['PNC']: YFPricesMissingError('possibly delisted; no price data found  (1d 2025-09-13 00:00:00 -> 2025-09-15 00:00:00)')\n"
     ]
    },
    {
     "name": "stdout",
     "output_type": "stream",
     "text": [
      "Téléchargement des données pour PNR de 2025-09-13 00:00:00 à 2025-09-15 00:00:00\n"
     ]
    },
    {
     "name": "stderr",
     "output_type": "stream",
     "text": [
      "[*********************100%***********************]  1 of 1 completed\n",
      "\n",
      "1 Failed download:\n",
      "['PNR']: YFPricesMissingError('possibly delisted; no price data found  (1d 2025-09-13 00:00:00 -> 2025-09-15 00:00:00)')\n"
     ]
    },
    {
     "name": "stdout",
     "output_type": "stream",
     "text": [
      "Téléchargement des données pour PNW de 2025-09-13 00:00:00 à 2025-09-15 00:00:00\n"
     ]
    },
    {
     "name": "stderr",
     "output_type": "stream",
     "text": [
      "[*********************100%***********************]  1 of 1 completed\n",
      "\n",
      "1 Failed download:\n",
      "['PNW']: YFPricesMissingError('possibly delisted; no price data found  (1d 2025-09-13 00:00:00 -> 2025-09-15 00:00:00)')\n"
     ]
    },
    {
     "name": "stdout",
     "output_type": "stream",
     "text": [
      "Téléchargement des données pour PODD de 2025-09-13 00:00:00 à 2025-09-15 00:00:00\n"
     ]
    },
    {
     "name": "stderr",
     "output_type": "stream",
     "text": [
      "[*********************100%***********************]  1 of 1 completed\n",
      "\n",
      "1 Failed download:\n",
      "['PODD']: YFPricesMissingError('possibly delisted; no price data found  (1d 2025-09-13 00:00:00 -> 2025-09-15 00:00:00)')\n"
     ]
    },
    {
     "name": "stdout",
     "output_type": "stream",
     "text": [
      "Téléchargement des données pour POOL de 2025-09-13 00:00:00 à 2025-09-15 00:00:00\n"
     ]
    },
    {
     "name": "stderr",
     "output_type": "stream",
     "text": [
      "[*********************100%***********************]  1 of 1 completed\n",
      "\n",
      "1 Failed download:\n",
      "['POOL']: YFPricesMissingError('possibly delisted; no price data found  (1d 2025-09-13 00:00:00 -> 2025-09-15 00:00:00)')\n"
     ]
    },
    {
     "name": "stdout",
     "output_type": "stream",
     "text": [
      "Téléchargement des données pour PPG de 2025-09-13 00:00:00 à 2025-09-15 00:00:00\n"
     ]
    },
    {
     "name": "stderr",
     "output_type": "stream",
     "text": [
      "[*********************100%***********************]  1 of 1 completed\n",
      "\n",
      "1 Failed download:\n",
      "['PPG']: YFPricesMissingError('possibly delisted; no price data found  (1d 2025-09-13 00:00:00 -> 2025-09-15 00:00:00)')\n"
     ]
    },
    {
     "name": "stdout",
     "output_type": "stream",
     "text": [
      "Téléchargement des données pour PPL de 2025-09-13 00:00:00 à 2025-09-15 00:00:00\n"
     ]
    },
    {
     "name": "stderr",
     "output_type": "stream",
     "text": [
      "[*********************100%***********************]  1 of 1 completed\n",
      "\n",
      "1 Failed download:\n",
      "['PPL']: YFPricesMissingError('possibly delisted; no price data found  (1d 2025-09-13 00:00:00 -> 2025-09-15 00:00:00)')\n"
     ]
    },
    {
     "name": "stdout",
     "output_type": "stream",
     "text": [
      "Téléchargement des données pour PRU de 2025-09-13 00:00:00 à 2025-09-15 00:00:00\n"
     ]
    },
    {
     "name": "stderr",
     "output_type": "stream",
     "text": [
      "[*********************100%***********************]  1 of 1 completed\n",
      "\n",
      "1 Failed download:\n",
      "['PRU']: YFPricesMissingError('possibly delisted; no price data found  (1d 2025-09-13 00:00:00 -> 2025-09-15 00:00:00)')\n"
     ]
    },
    {
     "name": "stdout",
     "output_type": "stream",
     "text": [
      "Téléchargement des données pour PSA de 2025-09-13 00:00:00 à 2025-09-15 00:00:00\n"
     ]
    },
    {
     "name": "stderr",
     "output_type": "stream",
     "text": [
      "[*********************100%***********************]  1 of 1 completed\n",
      "\n",
      "1 Failed download:\n",
      "['PSA']: YFPricesMissingError('possibly delisted; no price data found  (1d 2025-09-13 00:00:00 -> 2025-09-15 00:00:00)')\n"
     ]
    },
    {
     "name": "stdout",
     "output_type": "stream",
     "text": [
      "Téléchargement des données pour PSKY de 2025-09-13 00:00:00 à 2025-09-15 00:00:00\n"
     ]
    },
    {
     "name": "stderr",
     "output_type": "stream",
     "text": [
      "[*********************100%***********************]  1 of 1 completed\n",
      "\n",
      "1 Failed download:\n",
      "['PSKY']: YFPricesMissingError('possibly delisted; no price data found  (1d 2025-09-13 00:00:00 -> 2025-09-15 00:00:00)')\n"
     ]
    },
    {
     "name": "stdout",
     "output_type": "stream",
     "text": [
      "Téléchargement des données pour PSX de 2025-09-13 00:00:00 à 2025-09-15 00:00:00\n"
     ]
    },
    {
     "name": "stderr",
     "output_type": "stream",
     "text": [
      "[*********************100%***********************]  1 of 1 completed\n",
      "\n",
      "1 Failed download:\n",
      "['PSX']: YFPricesMissingError('possibly delisted; no price data found  (1d 2025-09-13 00:00:00 -> 2025-09-15 00:00:00)')\n"
     ]
    },
    {
     "name": "stdout",
     "output_type": "stream",
     "text": [
      "Téléchargement des données pour PTC de 2025-09-13 00:00:00 à 2025-09-15 00:00:00\n"
     ]
    },
    {
     "name": "stderr",
     "output_type": "stream",
     "text": [
      "[*********************100%***********************]  1 of 1 completed\n",
      "\n",
      "1 Failed download:\n",
      "['PTC']: YFPricesMissingError('possibly delisted; no price data found  (1d 2025-09-13 00:00:00 -> 2025-09-15 00:00:00)')\n"
     ]
    },
    {
     "name": "stdout",
     "output_type": "stream",
     "text": [
      "Téléchargement des données pour PWR de 2025-09-13 00:00:00 à 2025-09-15 00:00:00\n"
     ]
    },
    {
     "name": "stderr",
     "output_type": "stream",
     "text": [
      "[*********************100%***********************]  1 of 1 completed\n",
      "\n",
      "1 Failed download:\n",
      "['PWR']: YFPricesMissingError('possibly delisted; no price data found  (1d 2025-09-13 00:00:00 -> 2025-09-15 00:00:00)')\n"
     ]
    },
    {
     "name": "stdout",
     "output_type": "stream",
     "text": [
      "Téléchargement des données pour PYPL de 2025-09-13 00:00:00 à 2025-09-15 00:00:00\n"
     ]
    },
    {
     "name": "stderr",
     "output_type": "stream",
     "text": [
      "[*********************100%***********************]  1 of 1 completed\n",
      "\n",
      "1 Failed download:\n",
      "['PYPL']: YFPricesMissingError('possibly delisted; no price data found  (1d 2025-09-13 00:00:00 -> 2025-09-15 00:00:00)')\n"
     ]
    },
    {
     "name": "stdout",
     "output_type": "stream",
     "text": [
      "Téléchargement des données pour QCOM de 2025-09-13 00:00:00 à 2025-09-15 00:00:00\n"
     ]
    },
    {
     "name": "stderr",
     "output_type": "stream",
     "text": [
      "[*********************100%***********************]  1 of 1 completed\n",
      "\n",
      "1 Failed download:\n",
      "['QCOM']: YFPricesMissingError('possibly delisted; no price data found  (1d 2025-09-13 00:00:00 -> 2025-09-15 00:00:00)')\n"
     ]
    },
    {
     "name": "stdout",
     "output_type": "stream",
     "text": [
      "Téléchargement des données pour RCL de 2025-09-13 00:00:00 à 2025-09-15 00:00:00\n"
     ]
    },
    {
     "name": "stderr",
     "output_type": "stream",
     "text": [
      "[*********************100%***********************]  1 of 1 completed\n",
      "\n",
      "1 Failed download:\n",
      "['RCL']: YFPricesMissingError('possibly delisted; no price data found  (1d 2025-09-13 00:00:00 -> 2025-09-15 00:00:00)')\n"
     ]
    },
    {
     "name": "stdout",
     "output_type": "stream",
     "text": [
      "Téléchargement des données pour REG de 2025-09-13 00:00:00 à 2025-09-15 00:00:00\n"
     ]
    },
    {
     "name": "stderr",
     "output_type": "stream",
     "text": [
      "[*********************100%***********************]  1 of 1 completed\n",
      "\n",
      "1 Failed download:\n",
      "['REG']: YFPricesMissingError('possibly delisted; no price data found  (1d 2025-09-13 00:00:00 -> 2025-09-15 00:00:00)')\n"
     ]
    },
    {
     "name": "stdout",
     "output_type": "stream",
     "text": [
      "Téléchargement des données pour REGN de 2025-09-13 00:00:00 à 2025-09-15 00:00:00\n"
     ]
    },
    {
     "name": "stderr",
     "output_type": "stream",
     "text": [
      "[*********************100%***********************]  1 of 1 completed\n",
      "\n",
      "1 Failed download:\n",
      "['REGN']: YFPricesMissingError('possibly delisted; no price data found  (1d 2025-09-13 00:00:00 -> 2025-09-15 00:00:00)')\n"
     ]
    },
    {
     "name": "stdout",
     "output_type": "stream",
     "text": [
      "Téléchargement des données pour RF de 2025-09-13 00:00:00 à 2025-09-15 00:00:00\n"
     ]
    },
    {
     "name": "stderr",
     "output_type": "stream",
     "text": [
      "[*********************100%***********************]  1 of 1 completed\n",
      "\n",
      "1 Failed download:\n",
      "['RF']: YFPricesMissingError('possibly delisted; no price data found  (1d 2025-09-13 00:00:00 -> 2025-09-15 00:00:00)')\n"
     ]
    },
    {
     "name": "stdout",
     "output_type": "stream",
     "text": [
      "Téléchargement des données pour RJF de 2025-09-13 00:00:00 à 2025-09-15 00:00:00\n"
     ]
    },
    {
     "name": "stderr",
     "output_type": "stream",
     "text": [
      "[*********************100%***********************]  1 of 1 completed\n",
      "\n",
      "1 Failed download:\n",
      "['RJF']: YFPricesMissingError('possibly delisted; no price data found  (1d 2025-09-13 00:00:00 -> 2025-09-15 00:00:00)')\n"
     ]
    },
    {
     "name": "stdout",
     "output_type": "stream",
     "text": [
      "Téléchargement des données pour RL de 2025-09-13 00:00:00 à 2025-09-15 00:00:00\n"
     ]
    },
    {
     "name": "stderr",
     "output_type": "stream",
     "text": [
      "[*********************100%***********************]  1 of 1 completed\n",
      "\n",
      "1 Failed download:\n",
      "['RL']: YFPricesMissingError('possibly delisted; no price data found  (1d 2025-09-13 00:00:00 -> 2025-09-15 00:00:00)')\n"
     ]
    },
    {
     "name": "stdout",
     "output_type": "stream",
     "text": [
      "Téléchargement des données pour RMD de 2025-09-13 00:00:00 à 2025-09-15 00:00:00\n"
     ]
    },
    {
     "name": "stderr",
     "output_type": "stream",
     "text": [
      "[*********************100%***********************]  1 of 1 completed\n",
      "\n",
      "1 Failed download:\n",
      "['RMD']: YFPricesMissingError('possibly delisted; no price data found  (1d 2025-09-13 00:00:00 -> 2025-09-15 00:00:00)')\n"
     ]
    },
    {
     "name": "stdout",
     "output_type": "stream",
     "text": [
      "Téléchargement des données pour ROK de 2025-09-13 00:00:00 à 2025-09-15 00:00:00\n"
     ]
    },
    {
     "name": "stderr",
     "output_type": "stream",
     "text": [
      "[*********************100%***********************]  1 of 1 completed\n",
      "\n",
      "1 Failed download:\n",
      "['ROK']: YFPricesMissingError('possibly delisted; no price data found  (1d 2025-09-13 00:00:00 -> 2025-09-15 00:00:00)')\n"
     ]
    },
    {
     "name": "stdout",
     "output_type": "stream",
     "text": [
      "Téléchargement des données pour ROL de 2025-09-13 00:00:00 à 2025-09-15 00:00:00\n"
     ]
    },
    {
     "name": "stderr",
     "output_type": "stream",
     "text": [
      "[*********************100%***********************]  1 of 1 completed\n",
      "\n",
      "1 Failed download:\n",
      "['ROL']: YFPricesMissingError('possibly delisted; no price data found  (1d 2025-09-13 00:00:00 -> 2025-09-15 00:00:00)')\n"
     ]
    },
    {
     "name": "stdout",
     "output_type": "stream",
     "text": [
      "Téléchargement des données pour ROP de 2025-09-13 00:00:00 à 2025-09-15 00:00:00\n"
     ]
    },
    {
     "name": "stderr",
     "output_type": "stream",
     "text": [
      "[*********************100%***********************]  1 of 1 completed\n",
      "\n",
      "1 Failed download:\n",
      "['ROP']: YFPricesMissingError('possibly delisted; no price data found  (1d 2025-09-13 00:00:00 -> 2025-09-15 00:00:00)')\n"
     ]
    },
    {
     "name": "stdout",
     "output_type": "stream",
     "text": [
      "Téléchargement des données pour ROST de 2025-09-13 00:00:00 à 2025-09-15 00:00:00\n"
     ]
    },
    {
     "name": "stderr",
     "output_type": "stream",
     "text": [
      "[*********************100%***********************]  1 of 1 completed\n",
      "\n",
      "1 Failed download:\n",
      "['ROST']: YFPricesMissingError('possibly delisted; no price data found  (1d 2025-09-13 00:00:00 -> 2025-09-15 00:00:00)')\n"
     ]
    },
    {
     "name": "stdout",
     "output_type": "stream",
     "text": [
      "Téléchargement des données pour RSG de 2025-09-13 00:00:00 à 2025-09-15 00:00:00\n"
     ]
    },
    {
     "name": "stderr",
     "output_type": "stream",
     "text": [
      "[*********************100%***********************]  1 of 1 completed\n",
      "\n",
      "1 Failed download:\n",
      "['RSG']: YFPricesMissingError('possibly delisted; no price data found  (1d 2025-09-13 00:00:00 -> 2025-09-15 00:00:00)')\n"
     ]
    },
    {
     "name": "stdout",
     "output_type": "stream",
     "text": [
      "Téléchargement des données pour RTX de 2025-09-13 00:00:00 à 2025-09-15 00:00:00\n"
     ]
    },
    {
     "name": "stderr",
     "output_type": "stream",
     "text": [
      "[*********************100%***********************]  1 of 1 completed\n",
      "\n",
      "1 Failed download:\n",
      "['RTX']: YFPricesMissingError('possibly delisted; no price data found  (1d 2025-09-13 00:00:00 -> 2025-09-15 00:00:00)')\n"
     ]
    },
    {
     "name": "stdout",
     "output_type": "stream",
     "text": [
      "Téléchargement des données pour RVTY de 2025-09-13 00:00:00 à 2025-09-15 00:00:00\n"
     ]
    },
    {
     "name": "stderr",
     "output_type": "stream",
     "text": [
      "[*********************100%***********************]  1 of 1 completed\n",
      "\n",
      "1 Failed download:\n",
      "['RVTY']: YFPricesMissingError('possibly delisted; no price data found  (1d 2025-09-13 00:00:00 -> 2025-09-15 00:00:00)')\n"
     ]
    },
    {
     "name": "stdout",
     "output_type": "stream",
     "text": [
      "Téléchargement des données pour SBAC de 2025-09-13 00:00:00 à 2025-09-15 00:00:00\n"
     ]
    },
    {
     "name": "stderr",
     "output_type": "stream",
     "text": [
      "[*********************100%***********************]  1 of 1 completed\n",
      "\n",
      "1 Failed download:\n",
      "['SBAC']: YFPricesMissingError('possibly delisted; no price data found  (1d 2025-09-13 00:00:00 -> 2025-09-15 00:00:00)')\n"
     ]
    },
    {
     "name": "stdout",
     "output_type": "stream",
     "text": [
      "Téléchargement des données pour SBUX de 2025-09-13 00:00:00 à 2025-09-15 00:00:00\n"
     ]
    },
    {
     "name": "stderr",
     "output_type": "stream",
     "text": [
      "[*********************100%***********************]  1 of 1 completed\n",
      "\n",
      "1 Failed download:\n",
      "['SBUX']: YFPricesMissingError('possibly delisted; no price data found  (1d 2025-09-13 00:00:00 -> 2025-09-15 00:00:00)')\n"
     ]
    },
    {
     "name": "stdout",
     "output_type": "stream",
     "text": [
      "Téléchargement des données pour SCHW de 2025-09-13 00:00:00 à 2025-09-15 00:00:00\n"
     ]
    },
    {
     "name": "stderr",
     "output_type": "stream",
     "text": [
      "[*********************100%***********************]  1 of 1 completed\n",
      "\n",
      "1 Failed download:\n",
      "['SCHW']: YFPricesMissingError('possibly delisted; no price data found  (1d 2025-09-13 00:00:00 -> 2025-09-15 00:00:00)')\n"
     ]
    },
    {
     "name": "stdout",
     "output_type": "stream",
     "text": [
      "Téléchargement des données pour SHW de 2025-09-13 00:00:00 à 2025-09-15 00:00:00\n"
     ]
    },
    {
     "name": "stderr",
     "output_type": "stream",
     "text": [
      "[*********************100%***********************]  1 of 1 completed\n",
      "\n",
      "1 Failed download:\n",
      "['SHW']: YFPricesMissingError('possibly delisted; no price data found  (1d 2025-09-13 00:00:00 -> 2025-09-15 00:00:00)')\n"
     ]
    },
    {
     "name": "stdout",
     "output_type": "stream",
     "text": [
      "Téléchargement des données pour SJM de 2025-09-13 00:00:00 à 2025-09-15 00:00:00\n"
     ]
    },
    {
     "name": "stderr",
     "output_type": "stream",
     "text": [
      "[*********************100%***********************]  1 of 1 completed\n",
      "\n",
      "1 Failed download:\n",
      "['SJM']: YFPricesMissingError('possibly delisted; no price data found  (1d 2025-09-13 00:00:00 -> 2025-09-15 00:00:00)')\n"
     ]
    },
    {
     "name": "stdout",
     "output_type": "stream",
     "text": [
      "Téléchargement des données pour SLB de 2025-09-13 00:00:00 à 2025-09-15 00:00:00\n"
     ]
    },
    {
     "name": "stderr",
     "output_type": "stream",
     "text": [
      "[*********************100%***********************]  1 of 1 completed\n",
      "\n",
      "1 Failed download:\n",
      "['SLB']: YFPricesMissingError('possibly delisted; no price data found  (1d 2025-09-13 00:00:00 -> 2025-09-15 00:00:00)')\n"
     ]
    },
    {
     "name": "stdout",
     "output_type": "stream",
     "text": [
      "Téléchargement des données pour SMCI de 2025-09-13 00:00:00 à 2025-09-15 00:00:00\n"
     ]
    },
    {
     "name": "stderr",
     "output_type": "stream",
     "text": [
      "[*********************100%***********************]  1 of 1 completed\n",
      "\n",
      "1 Failed download:\n",
      "['SMCI']: YFPricesMissingError('possibly delisted; no price data found  (1d 2025-09-13 00:00:00 -> 2025-09-15 00:00:00)')\n"
     ]
    },
    {
     "name": "stdout",
     "output_type": "stream",
     "text": [
      "Téléchargement des données pour SNA de 2025-09-13 00:00:00 à 2025-09-15 00:00:00\n"
     ]
    },
    {
     "name": "stderr",
     "output_type": "stream",
     "text": [
      "[*********************100%***********************]  1 of 1 completed\n",
      "\n",
      "1 Failed download:\n",
      "['SNA']: YFPricesMissingError('possibly delisted; no price data found  (1d 2025-09-13 00:00:00 -> 2025-09-15 00:00:00)')\n"
     ]
    },
    {
     "name": "stdout",
     "output_type": "stream",
     "text": [
      "Téléchargement des données pour SNPS de 2025-09-13 00:00:00 à 2025-09-15 00:00:00\n"
     ]
    },
    {
     "name": "stderr",
     "output_type": "stream",
     "text": [
      "[*********************100%***********************]  1 of 1 completed\n",
      "\n",
      "1 Failed download:\n",
      "['SNPS']: YFPricesMissingError('possibly delisted; no price data found  (1d 2025-09-13 00:00:00 -> 2025-09-15 00:00:00)')\n"
     ]
    },
    {
     "name": "stdout",
     "output_type": "stream",
     "text": [
      "Téléchargement des données pour SO de 2025-09-13 00:00:00 à 2025-09-15 00:00:00\n"
     ]
    },
    {
     "name": "stderr",
     "output_type": "stream",
     "text": [
      "[*********************100%***********************]  1 of 1 completed\n",
      "\n",
      "1 Failed download:\n",
      "['SO']: YFPricesMissingError('possibly delisted; no price data found  (1d 2025-09-13 00:00:00 -> 2025-09-15 00:00:00)')\n"
     ]
    },
    {
     "name": "stdout",
     "output_type": "stream",
     "text": [
      "Téléchargement des données pour SOLV de 2025-09-13 00:00:00 à 2025-09-15 00:00:00\n"
     ]
    },
    {
     "name": "stderr",
     "output_type": "stream",
     "text": [
      "[*********************100%***********************]  1 of 1 completed\n",
      "\n",
      "1 Failed download:\n",
      "['SOLV']: YFPricesMissingError('possibly delisted; no price data found  (1d 2025-09-13 00:00:00 -> 2025-09-15 00:00:00)')\n"
     ]
    },
    {
     "name": "stdout",
     "output_type": "stream",
     "text": [
      "Téléchargement des données pour SPG de 2025-09-13 00:00:00 à 2025-09-15 00:00:00\n"
     ]
    },
    {
     "name": "stderr",
     "output_type": "stream",
     "text": [
      "[*********************100%***********************]  1 of 1 completed\n",
      "\n",
      "1 Failed download:\n",
      "['SPG']: YFPricesMissingError('possibly delisted; no price data found  (1d 2025-09-13 00:00:00 -> 2025-09-15 00:00:00)')\n"
     ]
    },
    {
     "name": "stdout",
     "output_type": "stream",
     "text": [
      "Téléchargement des données pour SPGI de 2025-09-13 00:00:00 à 2025-09-15 00:00:00\n"
     ]
    },
    {
     "name": "stderr",
     "output_type": "stream",
     "text": [
      "[*********************100%***********************]  1 of 1 completed\n",
      "\n",
      "1 Failed download:\n",
      "['SPGI']: YFPricesMissingError('possibly delisted; no price data found  (1d 2025-09-13 00:00:00 -> 2025-09-15 00:00:00)')\n"
     ]
    },
    {
     "name": "stdout",
     "output_type": "stream",
     "text": [
      "Téléchargement des données pour SRE de 2025-09-13 00:00:00 à 2025-09-15 00:00:00\n"
     ]
    },
    {
     "name": "stderr",
     "output_type": "stream",
     "text": [
      "[*********************100%***********************]  1 of 1 completed\n",
      "\n",
      "1 Failed download:\n",
      "['SRE']: YFPricesMissingError('possibly delisted; no price data found  (1d 2025-09-13 00:00:00 -> 2025-09-15 00:00:00)')\n"
     ]
    },
    {
     "name": "stdout",
     "output_type": "stream",
     "text": [
      "Téléchargement des données pour STE de 2025-09-13 00:00:00 à 2025-09-15 00:00:00\n"
     ]
    },
    {
     "name": "stderr",
     "output_type": "stream",
     "text": [
      "[*********************100%***********************]  1 of 1 completed\n",
      "\n",
      "1 Failed download:\n",
      "['STE']: YFPricesMissingError('possibly delisted; no price data found  (1d 2025-09-13 00:00:00 -> 2025-09-15 00:00:00)')\n"
     ]
    },
    {
     "name": "stdout",
     "output_type": "stream",
     "text": [
      "Téléchargement des données pour STLD de 2025-09-13 00:00:00 à 2025-09-15 00:00:00\n"
     ]
    },
    {
     "name": "stderr",
     "output_type": "stream",
     "text": [
      "[*********************100%***********************]  1 of 1 completed\n",
      "\n",
      "1 Failed download:\n",
      "['STLD']: YFPricesMissingError('possibly delisted; no price data found  (1d 2025-09-13 00:00:00 -> 2025-09-15 00:00:00)')\n"
     ]
    },
    {
     "name": "stdout",
     "output_type": "stream",
     "text": [
      "Téléchargement des données pour STT de 2025-09-13 00:00:00 à 2025-09-15 00:00:00\n"
     ]
    },
    {
     "name": "stderr",
     "output_type": "stream",
     "text": [
      "[*********************100%***********************]  1 of 1 completed\n",
      "\n",
      "1 Failed download:\n",
      "['STT']: YFPricesMissingError('possibly delisted; no price data found  (1d 2025-09-13 00:00:00 -> 2025-09-15 00:00:00)')\n"
     ]
    },
    {
     "name": "stdout",
     "output_type": "stream",
     "text": [
      "Téléchargement des données pour STX de 2025-09-13 00:00:00 à 2025-09-15 00:00:00\n"
     ]
    },
    {
     "name": "stderr",
     "output_type": "stream",
     "text": [
      "[*********************100%***********************]  1 of 1 completed\n",
      "\n",
      "1 Failed download:\n",
      "['STX']: YFPricesMissingError('possibly delisted; no price data found  (1d 2025-09-13 00:00:00 -> 2025-09-15 00:00:00)')\n"
     ]
    },
    {
     "name": "stdout",
     "output_type": "stream",
     "text": [
      "Téléchargement des données pour STZ de 2025-09-13 00:00:00 à 2025-09-15 00:00:00\n"
     ]
    },
    {
     "name": "stderr",
     "output_type": "stream",
     "text": [
      "[*********************100%***********************]  1 of 1 completed\n",
      "\n",
      "1 Failed download:\n",
      "['STZ']: YFPricesMissingError('possibly delisted; no price data found  (1d 2025-09-13 00:00:00 -> 2025-09-15 00:00:00)')\n"
     ]
    },
    {
     "name": "stdout",
     "output_type": "stream",
     "text": [
      "Téléchargement des données pour SW de 2025-09-13 00:00:00 à 2025-09-15 00:00:00\n"
     ]
    },
    {
     "name": "stderr",
     "output_type": "stream",
     "text": [
      "[*********************100%***********************]  1 of 1 completed\n",
      "\n",
      "1 Failed download:\n",
      "['SW']: YFPricesMissingError('possibly delisted; no price data found  (1d 2025-09-13 00:00:00 -> 2025-09-15 00:00:00)')\n"
     ]
    },
    {
     "name": "stdout",
     "output_type": "stream",
     "text": [
      "Téléchargement des données pour SWK de 2025-09-13 00:00:00 à 2025-09-15 00:00:00\n"
     ]
    },
    {
     "name": "stderr",
     "output_type": "stream",
     "text": [
      "[*********************100%***********************]  1 of 1 completed\n",
      "\n",
      "1 Failed download:\n",
      "['SWK']: YFPricesMissingError('possibly delisted; no price data found  (1d 2025-09-13 00:00:00 -> 2025-09-15 00:00:00)')\n"
     ]
    },
    {
     "name": "stdout",
     "output_type": "stream",
     "text": [
      "Téléchargement des données pour SWKS de 2025-09-13 00:00:00 à 2025-09-15 00:00:00\n"
     ]
    },
    {
     "name": "stderr",
     "output_type": "stream",
     "text": [
      "[*********************100%***********************]  1 of 1 completed\n",
      "\n",
      "1 Failed download:\n",
      "['SWKS']: YFPricesMissingError('possibly delisted; no price data found  (1d 2025-09-13 00:00:00 -> 2025-09-15 00:00:00)')\n"
     ]
    },
    {
     "name": "stdout",
     "output_type": "stream",
     "text": [
      "Téléchargement des données pour SYF de 2025-09-13 00:00:00 à 2025-09-15 00:00:00\n"
     ]
    },
    {
     "name": "stderr",
     "output_type": "stream",
     "text": [
      "[*********************100%***********************]  1 of 1 completed\n",
      "\n",
      "1 Failed download:\n",
      "['SYF']: YFPricesMissingError('possibly delisted; no price data found  (1d 2025-09-13 00:00:00 -> 2025-09-15 00:00:00)')\n"
     ]
    },
    {
     "name": "stdout",
     "output_type": "stream",
     "text": [
      "Téléchargement des données pour SYK de 2025-09-13 00:00:00 à 2025-09-15 00:00:00\n"
     ]
    },
    {
     "name": "stderr",
     "output_type": "stream",
     "text": [
      "[*********************100%***********************]  1 of 1 completed\n",
      "\n",
      "1 Failed download:\n",
      "['SYK']: YFPricesMissingError('possibly delisted; no price data found  (1d 2025-09-13 00:00:00 -> 2025-09-15 00:00:00)')\n"
     ]
    },
    {
     "name": "stdout",
     "output_type": "stream",
     "text": [
      "Téléchargement des données pour SYY de 2025-09-13 00:00:00 à 2025-09-15 00:00:00\n"
     ]
    },
    {
     "name": "stderr",
     "output_type": "stream",
     "text": [
      "[*********************100%***********************]  1 of 1 completed\n",
      "\n",
      "1 Failed download:\n",
      "['SYY']: YFPricesMissingError('possibly delisted; no price data found  (1d 2025-09-13 00:00:00 -> 2025-09-15 00:00:00)')\n"
     ]
    },
    {
     "name": "stdout",
     "output_type": "stream",
     "text": [
      "Téléchargement des données pour TAP de 2025-09-13 00:00:00 à 2025-09-15 00:00:00\n"
     ]
    },
    {
     "name": "stderr",
     "output_type": "stream",
     "text": [
      "[*********************100%***********************]  1 of 1 completed\n",
      "\n",
      "1 Failed download:\n",
      "['TAP']: YFPricesMissingError('possibly delisted; no price data found  (1d 2025-09-13 00:00:00 -> 2025-09-15 00:00:00)')\n"
     ]
    },
    {
     "name": "stdout",
     "output_type": "stream",
     "text": [
      "Téléchargement des données pour TDG de 2025-09-13 00:00:00 à 2025-09-15 00:00:00\n"
     ]
    },
    {
     "name": "stderr",
     "output_type": "stream",
     "text": [
      "[*********************100%***********************]  1 of 1 completed\n",
      "\n",
      "1 Failed download:\n",
      "['TDG']: YFPricesMissingError('possibly delisted; no price data found  (1d 2025-09-13 00:00:00 -> 2025-09-15 00:00:00)')\n"
     ]
    },
    {
     "name": "stdout",
     "output_type": "stream",
     "text": [
      "Téléchargement des données pour TDY de 2025-09-13 00:00:00 à 2025-09-15 00:00:00\n"
     ]
    },
    {
     "name": "stderr",
     "output_type": "stream",
     "text": [
      "[*********************100%***********************]  1 of 1 completed\n",
      "\n",
      "1 Failed download:\n",
      "['TDY']: YFPricesMissingError('possibly delisted; no price data found  (1d 2025-09-13 00:00:00 -> 2025-09-15 00:00:00)')\n"
     ]
    },
    {
     "name": "stdout",
     "output_type": "stream",
     "text": [
      "Téléchargement des données pour TECH de 2025-09-13 00:00:00 à 2025-09-15 00:00:00\n"
     ]
    },
    {
     "name": "stderr",
     "output_type": "stream",
     "text": [
      "[*********************100%***********************]  1 of 1 completed\n",
      "\n",
      "1 Failed download:\n",
      "['TECH']: YFPricesMissingError('possibly delisted; no price data found  (1d 2025-09-13 00:00:00 -> 2025-09-15 00:00:00)')\n"
     ]
    },
    {
     "name": "stdout",
     "output_type": "stream",
     "text": [
      "Téléchargement des données pour TEL de 2025-09-13 00:00:00 à 2025-09-15 00:00:00\n"
     ]
    },
    {
     "name": "stderr",
     "output_type": "stream",
     "text": [
      "[*********************100%***********************]  1 of 1 completed\n",
      "\n",
      "1 Failed download:\n",
      "['TEL']: YFPricesMissingError('possibly delisted; no price data found  (1d 2025-09-13 00:00:00 -> 2025-09-15 00:00:00)')\n"
     ]
    },
    {
     "name": "stdout",
     "output_type": "stream",
     "text": [
      "Téléchargement des données pour TER de 2025-09-13 00:00:00 à 2025-09-15 00:00:00\n"
     ]
    },
    {
     "name": "stderr",
     "output_type": "stream",
     "text": [
      "[*********************100%***********************]  1 of 1 completed\n",
      "\n",
      "1 Failed download:\n",
      "['TER']: YFPricesMissingError('possibly delisted; no price data found  (1d 2025-09-13 00:00:00 -> 2025-09-15 00:00:00)')\n"
     ]
    },
    {
     "name": "stdout",
     "output_type": "stream",
     "text": [
      "Téléchargement des données pour TFC de 2025-09-13 00:00:00 à 2025-09-15 00:00:00\n"
     ]
    },
    {
     "name": "stderr",
     "output_type": "stream",
     "text": [
      "[*********************100%***********************]  1 of 1 completed\n",
      "\n",
      "1 Failed download:\n",
      "['TFC']: YFPricesMissingError('possibly delisted; no price data found  (1d 2025-09-13 00:00:00 -> 2025-09-15 00:00:00)')\n"
     ]
    },
    {
     "name": "stdout",
     "output_type": "stream",
     "text": [
      "Téléchargement des données pour TGT de 2025-09-13 00:00:00 à 2025-09-15 00:00:00\n"
     ]
    },
    {
     "name": "stderr",
     "output_type": "stream",
     "text": [
      "[*********************100%***********************]  1 of 1 completed\n",
      "\n",
      "1 Failed download:\n",
      "['TGT']: YFPricesMissingError('possibly delisted; no price data found  (1d 2025-09-13 00:00:00 -> 2025-09-15 00:00:00)')\n"
     ]
    },
    {
     "name": "stdout",
     "output_type": "stream",
     "text": [
      "Téléchargement des données pour TJX de 2025-09-13 00:00:00 à 2025-09-15 00:00:00\n"
     ]
    },
    {
     "name": "stderr",
     "output_type": "stream",
     "text": [
      "[*********************100%***********************]  1 of 1 completed\n",
      "\n",
      "1 Failed download:\n",
      "['TJX']: YFPricesMissingError('possibly delisted; no price data found  (1d 2025-09-13 00:00:00 -> 2025-09-15 00:00:00)')\n"
     ]
    },
    {
     "name": "stdout",
     "output_type": "stream",
     "text": [
      "Téléchargement des données pour TKO de 2025-09-13 00:00:00 à 2025-09-15 00:00:00\n"
     ]
    },
    {
     "name": "stderr",
     "output_type": "stream",
     "text": [
      "[*********************100%***********************]  1 of 1 completed\n",
      "\n",
      "1 Failed download:\n",
      "['TKO']: YFPricesMissingError('possibly delisted; no price data found  (1d 2025-09-13 00:00:00 -> 2025-09-15 00:00:00)')\n"
     ]
    },
    {
     "name": "stdout",
     "output_type": "stream",
     "text": [
      "Téléchargement des données pour TMO de 2025-09-13 00:00:00 à 2025-09-15 00:00:00\n"
     ]
    },
    {
     "name": "stderr",
     "output_type": "stream",
     "text": [
      "[*********************100%***********************]  1 of 1 completed\n",
      "\n",
      "1 Failed download:\n",
      "['TMO']: YFPricesMissingError('possibly delisted; no price data found  (1d 2025-09-13 00:00:00 -> 2025-09-15 00:00:00)')\n"
     ]
    },
    {
     "name": "stdout",
     "output_type": "stream",
     "text": [
      "Téléchargement des données pour TMUS de 2025-09-13 00:00:00 à 2025-09-15 00:00:00\n"
     ]
    },
    {
     "name": "stderr",
     "output_type": "stream",
     "text": [
      "[*********************100%***********************]  1 of 1 completed\n",
      "\n",
      "1 Failed download:\n",
      "['TMUS']: YFPricesMissingError('possibly delisted; no price data found  (1d 2025-09-13 00:00:00 -> 2025-09-15 00:00:00)')\n"
     ]
    },
    {
     "name": "stdout",
     "output_type": "stream",
     "text": [
      "Téléchargement des données pour TPL de 2025-09-13 00:00:00 à 2025-09-15 00:00:00\n"
     ]
    },
    {
     "name": "stderr",
     "output_type": "stream",
     "text": [
      "[*********************100%***********************]  1 of 1 completed\n",
      "\n",
      "1 Failed download:\n",
      "['TPL']: YFPricesMissingError('possibly delisted; no price data found  (1d 2025-09-13 00:00:00 -> 2025-09-15 00:00:00)')\n"
     ]
    },
    {
     "name": "stdout",
     "output_type": "stream",
     "text": [
      "Téléchargement des données pour TPR de 2025-09-13 00:00:00 à 2025-09-15 00:00:00\n"
     ]
    },
    {
     "name": "stderr",
     "output_type": "stream",
     "text": [
      "[*********************100%***********************]  1 of 1 completed\n",
      "\n",
      "1 Failed download:\n",
      "['TPR']: YFPricesMissingError('possibly delisted; no price data found  (1d 2025-09-13 00:00:00 -> 2025-09-15 00:00:00)')\n"
     ]
    },
    {
     "name": "stdout",
     "output_type": "stream",
     "text": [
      "Téléchargement des données pour TRGP de 2025-09-13 00:00:00 à 2025-09-15 00:00:00\n"
     ]
    },
    {
     "name": "stderr",
     "output_type": "stream",
     "text": [
      "[*********************100%***********************]  1 of 1 completed\n",
      "\n",
      "1 Failed download:\n",
      "['TRGP']: YFPricesMissingError('possibly delisted; no price data found  (1d 2025-09-13 00:00:00 -> 2025-09-15 00:00:00)')\n"
     ]
    },
    {
     "name": "stdout",
     "output_type": "stream",
     "text": [
      "Téléchargement des données pour TRMB de 2025-09-13 00:00:00 à 2025-09-15 00:00:00\n"
     ]
    },
    {
     "name": "stderr",
     "output_type": "stream",
     "text": [
      "[*********************100%***********************]  1 of 1 completed\n",
      "\n",
      "1 Failed download:\n",
      "['TRMB']: YFPricesMissingError('possibly delisted; no price data found  (1d 2025-09-13 00:00:00 -> 2025-09-15 00:00:00)')\n"
     ]
    },
    {
     "name": "stdout",
     "output_type": "stream",
     "text": [
      "Téléchargement des données pour TROW de 2025-09-13 00:00:00 à 2025-09-15 00:00:00\n"
     ]
    },
    {
     "name": "stderr",
     "output_type": "stream",
     "text": [
      "[*********************100%***********************]  1 of 1 completed\n",
      "\n",
      "1 Failed download:\n",
      "['TROW']: YFPricesMissingError('possibly delisted; no price data found  (1d 2025-09-13 00:00:00 -> 2025-09-15 00:00:00)')\n"
     ]
    },
    {
     "name": "stdout",
     "output_type": "stream",
     "text": [
      "Téléchargement des données pour TRV de 2025-09-13 00:00:00 à 2025-09-15 00:00:00\n"
     ]
    },
    {
     "name": "stderr",
     "output_type": "stream",
     "text": [
      "[*********************100%***********************]  1 of 1 completed\n",
      "\n",
      "1 Failed download:\n",
      "['TRV']: YFPricesMissingError('possibly delisted; no price data found  (1d 2025-09-13 00:00:00 -> 2025-09-15 00:00:00)')\n"
     ]
    },
    {
     "name": "stdout",
     "output_type": "stream",
     "text": [
      "Téléchargement des données pour TSCO de 2025-09-13 00:00:00 à 2025-09-15 00:00:00\n"
     ]
    },
    {
     "name": "stderr",
     "output_type": "stream",
     "text": [
      "[*********************100%***********************]  1 of 1 completed\n",
      "\n",
      "1 Failed download:\n",
      "['TSCO']: YFPricesMissingError('possibly delisted; no price data found  (1d 2025-09-13 00:00:00 -> 2025-09-15 00:00:00)')\n"
     ]
    },
    {
     "name": "stdout",
     "output_type": "stream",
     "text": [
      "Téléchargement des données pour TSLA de 2025-09-13 00:00:00 à 2025-09-15 00:00:00\n"
     ]
    },
    {
     "name": "stderr",
     "output_type": "stream",
     "text": [
      "[*********************100%***********************]  1 of 1 completed\n",
      "\n",
      "1 Failed download:\n",
      "['TSLA']: YFPricesMissingError('possibly delisted; no price data found  (1d 2025-09-13 00:00:00 -> 2025-09-15 00:00:00)')\n"
     ]
    },
    {
     "name": "stdout",
     "output_type": "stream",
     "text": [
      "Téléchargement des données pour TSN de 2025-09-13 00:00:00 à 2025-09-15 00:00:00\n"
     ]
    },
    {
     "name": "stderr",
     "output_type": "stream",
     "text": [
      "[*********************100%***********************]  1 of 1 completed\n",
      "\n",
      "1 Failed download:\n",
      "['TSN']: YFPricesMissingError('possibly delisted; no price data found  (1d 2025-09-13 00:00:00 -> 2025-09-15 00:00:00)')\n"
     ]
    },
    {
     "name": "stdout",
     "output_type": "stream",
     "text": [
      "Téléchargement des données pour TT de 2025-09-13 00:00:00 à 2025-09-15 00:00:00\n"
     ]
    },
    {
     "name": "stderr",
     "output_type": "stream",
     "text": [
      "[*********************100%***********************]  1 of 1 completed\n",
      "\n",
      "1 Failed download:\n",
      "['TT']: YFPricesMissingError('possibly delisted; no price data found  (1d 2025-09-13 00:00:00 -> 2025-09-15 00:00:00)')\n"
     ]
    },
    {
     "name": "stdout",
     "output_type": "stream",
     "text": [
      "Téléchargement des données pour TTD de 2025-09-13 00:00:00 à 2025-09-15 00:00:00\n"
     ]
    },
    {
     "name": "stderr",
     "output_type": "stream",
     "text": [
      "[*********************100%***********************]  1 of 1 completed\n",
      "\n",
      "1 Failed download:\n",
      "['TTD']: YFPricesMissingError('possibly delisted; no price data found  (1d 2025-09-13 00:00:00 -> 2025-09-15 00:00:00)')\n"
     ]
    },
    {
     "name": "stdout",
     "output_type": "stream",
     "text": [
      "Téléchargement des données pour TTWO de 2025-09-13 00:00:00 à 2025-09-15 00:00:00\n"
     ]
    },
    {
     "name": "stderr",
     "output_type": "stream",
     "text": [
      "[*********************100%***********************]  1 of 1 completed\n",
      "\n",
      "1 Failed download:\n",
      "['TTWO']: YFPricesMissingError('possibly delisted; no price data found  (1d 2025-09-13 00:00:00 -> 2025-09-15 00:00:00)')\n"
     ]
    },
    {
     "name": "stdout",
     "output_type": "stream",
     "text": [
      "Téléchargement des données pour TXN de 2025-09-13 00:00:00 à 2025-09-15 00:00:00\n"
     ]
    },
    {
     "name": "stderr",
     "output_type": "stream",
     "text": [
      "[*********************100%***********************]  1 of 1 completed\n",
      "\n",
      "1 Failed download:\n",
      "['TXN']: YFPricesMissingError('possibly delisted; no price data found  (1d 2025-09-13 00:00:00 -> 2025-09-15 00:00:00)')\n"
     ]
    },
    {
     "name": "stdout",
     "output_type": "stream",
     "text": [
      "Téléchargement des données pour TXT de 2025-09-13 00:00:00 à 2025-09-15 00:00:00\n"
     ]
    },
    {
     "name": "stderr",
     "output_type": "stream",
     "text": [
      "[*********************100%***********************]  1 of 1 completed\n",
      "\n",
      "1 Failed download:\n",
      "['TXT']: YFPricesMissingError('possibly delisted; no price data found  (1d 2025-09-13 00:00:00 -> 2025-09-15 00:00:00)')\n"
     ]
    },
    {
     "name": "stdout",
     "output_type": "stream",
     "text": [
      "Téléchargement des données pour TYL de 2025-09-13 00:00:00 à 2025-09-15 00:00:00\n"
     ]
    },
    {
     "name": "stderr",
     "output_type": "stream",
     "text": [
      "[*********************100%***********************]  1 of 1 completed\n",
      "\n",
      "1 Failed download:\n",
      "['TYL']: YFPricesMissingError('possibly delisted; no price data found  (1d 2025-09-13 00:00:00 -> 2025-09-15 00:00:00)')\n"
     ]
    },
    {
     "name": "stdout",
     "output_type": "stream",
     "text": [
      "Téléchargement des données pour UAL de 2025-09-13 00:00:00 à 2025-09-15 00:00:00\n"
     ]
    },
    {
     "name": "stderr",
     "output_type": "stream",
     "text": [
      "[*********************100%***********************]  1 of 1 completed\n",
      "\n",
      "1 Failed download:\n",
      "['UAL']: YFPricesMissingError('possibly delisted; no price data found  (1d 2025-09-13 00:00:00 -> 2025-09-15 00:00:00)')\n"
     ]
    },
    {
     "name": "stdout",
     "output_type": "stream",
     "text": [
      "Téléchargement des données pour UBER de 2025-09-13 00:00:00 à 2025-09-15 00:00:00\n"
     ]
    },
    {
     "name": "stderr",
     "output_type": "stream",
     "text": [
      "[*********************100%***********************]  1 of 1 completed\n",
      "\n",
      "1 Failed download:\n",
      "['UBER']: YFPricesMissingError('possibly delisted; no price data found  (1d 2025-09-13 00:00:00 -> 2025-09-15 00:00:00)')\n"
     ]
    },
    {
     "name": "stdout",
     "output_type": "stream",
     "text": [
      "Téléchargement des données pour UDR de 2025-09-13 00:00:00 à 2025-09-15 00:00:00\n"
     ]
    },
    {
     "name": "stderr",
     "output_type": "stream",
     "text": [
      "[*********************100%***********************]  1 of 1 completed\n",
      "\n",
      "1 Failed download:\n",
      "['UDR']: YFPricesMissingError('possibly delisted; no price data found  (1d 2025-09-13 00:00:00 -> 2025-09-15 00:00:00)')\n"
     ]
    },
    {
     "name": "stdout",
     "output_type": "stream",
     "text": [
      "Téléchargement des données pour UHS de 2025-09-13 00:00:00 à 2025-09-15 00:00:00\n"
     ]
    },
    {
     "name": "stderr",
     "output_type": "stream",
     "text": [
      "[*********************100%***********************]  1 of 1 completed\n",
      "\n",
      "1 Failed download:\n",
      "['UHS']: YFPricesMissingError('possibly delisted; no price data found  (1d 2025-09-13 00:00:00 -> 2025-09-15 00:00:00)')\n"
     ]
    },
    {
     "name": "stdout",
     "output_type": "stream",
     "text": [
      "Téléchargement des données pour ULTA de 2025-09-13 00:00:00 à 2025-09-15 00:00:00\n"
     ]
    },
    {
     "name": "stderr",
     "output_type": "stream",
     "text": [
      "[*********************100%***********************]  1 of 1 completed\n",
      "\n",
      "1 Failed download:\n",
      "['ULTA']: YFPricesMissingError('possibly delisted; no price data found  (1d 2025-09-13 00:00:00 -> 2025-09-15 00:00:00)')\n"
     ]
    },
    {
     "name": "stdout",
     "output_type": "stream",
     "text": [
      "Téléchargement des données pour UNH de 2025-09-13 00:00:00 à 2025-09-15 00:00:00\n"
     ]
    },
    {
     "name": "stderr",
     "output_type": "stream",
     "text": [
      "[*********************100%***********************]  1 of 1 completed\n",
      "\n",
      "1 Failed download:\n",
      "['UNH']: YFPricesMissingError('possibly delisted; no price data found  (1d 2025-09-13 00:00:00 -> 2025-09-15 00:00:00)')\n"
     ]
    },
    {
     "name": "stdout",
     "output_type": "stream",
     "text": [
      "Téléchargement des données pour UNP de 2025-09-13 00:00:00 à 2025-09-15 00:00:00\n"
     ]
    },
    {
     "name": "stderr",
     "output_type": "stream",
     "text": [
      "[*********************100%***********************]  1 of 1 completed\n",
      "\n",
      "1 Failed download:\n",
      "['UNP']: YFPricesMissingError('possibly delisted; no price data found  (1d 2025-09-13 00:00:00 -> 2025-09-15 00:00:00)')\n"
     ]
    },
    {
     "name": "stdout",
     "output_type": "stream",
     "text": [
      "Téléchargement des données pour UPS de 2025-09-13 00:00:00 à 2025-09-15 00:00:00\n"
     ]
    },
    {
     "ename": "KeyboardInterrupt",
     "evalue": "",
     "output_type": "error",
     "traceback": [
      "\u001B[31m---------------------------------------------------------------------------\u001B[39m",
      "\u001B[31mKeyboardInterrupt\u001B[39m                         Traceback (most recent call last)",
      "\u001B[36mCell\u001B[39m\u001B[36m \u001B[39m\u001B[32mIn[15]\u001B[39m\u001B[32m, line 9\u001B[39m\n\u001B[32m      6\u001B[39m \u001B[38;5;28mprint\u001B[39m(\u001B[33mf\u001B[39m\u001B[33m\"\u001B[39m\u001B[33mTéléchargement des données pour \u001B[39m\u001B[38;5;132;01m{\u001B[39;00mticker\u001B[38;5;132;01m}\u001B[39;00m\u001B[33m de \u001B[39m\u001B[38;5;132;01m{\u001B[39;00mstart_date\u001B[38;5;132;01m}\u001B[39;00m\u001B[33m à \u001B[39m\u001B[38;5;132;01m{\u001B[39;00mend_date\u001B[38;5;132;01m}\u001B[39;00m\u001B[33m\"\u001B[39m)\n\u001B[32m      8\u001B[39m \u001B[38;5;66;03m# Télécharger les données de l'action entre les dates spécifiées\u001B[39;00m\n\u001B[32m----> \u001B[39m\u001B[32m9\u001B[39m data = \u001B[43myf\u001B[49m\u001B[43m.\u001B[49m\u001B[43mdownload\u001B[49m\u001B[43m(\u001B[49m\n\u001B[32m     10\u001B[39m \u001B[43m                    \u001B[49m\u001B[43mticker\u001B[49m\u001B[43m,\u001B[49m\n\u001B[32m     11\u001B[39m \u001B[43m                    \u001B[49m\u001B[43mstart\u001B[49m\u001B[43m=\u001B[49m\u001B[43mstart_date\u001B[49m\u001B[43m,\u001B[49m\n\u001B[32m     12\u001B[39m \u001B[43m                    \u001B[49m\u001B[43mend\u001B[49m\u001B[43m=\u001B[49m\u001B[43mend_date\u001B[49m\u001B[43m,\u001B[49m\n\u001B[32m     13\u001B[39m \u001B[43m                    \u001B[49m\u001B[43minterval\u001B[49m\u001B[43m=\u001B[49m\u001B[33;43m\"\u001B[39;49m\u001B[33;43m1d\u001B[39;49m\u001B[33;43m\"\u001B[39;49m\u001B[43m,\u001B[49m\n\u001B[32m     14\u001B[39m \u001B[43m                    \u001B[49m\u001B[43mauto_adjust\u001B[49m\u001B[43m=\u001B[49m\u001B[38;5;28;43;01mTrue\u001B[39;49;00m\u001B[43m,\u001B[49m\n\u001B[32m     15\u001B[39m \u001B[43m                    \u001B[49m\u001B[43mactions\u001B[49m\u001B[43m=\u001B[49m\u001B[38;5;28;43;01mFalse\u001B[39;49;00m\n\u001B[32m     16\u001B[39m \u001B[43m                    \u001B[49m\u001B[43m)\u001B[49m\n\u001B[32m     18\u001B[39m \u001B[38;5;66;03m# Ajouter une colonne pour identifier le ticker\u001B[39;00m\n\u001B[32m     19\u001B[39m data[\u001B[33m'\u001B[39m\u001B[33mTicker\u001B[39m\u001B[33m'\u001B[39m] = ticker\n",
      "\u001B[36mFile \u001B[39m\u001B[32m~/PycharmProjects/PythonProject/PythonProject/DeepLearning_Trading/.venv/lib/python3.13/site-packages/yfinance/utils.py:92\u001B[39m, in \u001B[36mlog_indent_decorator.<locals>.wrapper\u001B[39m\u001B[34m(*args, **kwargs)\u001B[39m\n\u001B[32m     89\u001B[39m logger.debug(\u001B[33mf\u001B[39m\u001B[33m'\u001B[39m\u001B[33mEntering \u001B[39m\u001B[38;5;132;01m{\u001B[39;00mfunc.\u001B[34m__name__\u001B[39m\u001B[38;5;132;01m}\u001B[39;00m\u001B[33m()\u001B[39m\u001B[33m'\u001B[39m)\n\u001B[32m     91\u001B[39m \u001B[38;5;28;01mwith\u001B[39;00m IndentationContext():\n\u001B[32m---> \u001B[39m\u001B[32m92\u001B[39m     result = \u001B[43mfunc\u001B[49m\u001B[43m(\u001B[49m\u001B[43m*\u001B[49m\u001B[43margs\u001B[49m\u001B[43m,\u001B[49m\u001B[43m \u001B[49m\u001B[43m*\u001B[49m\u001B[43m*\u001B[49m\u001B[43mkwargs\u001B[49m\u001B[43m)\u001B[49m\n\u001B[32m     94\u001B[39m logger.debug(\u001B[33mf\u001B[39m\u001B[33m'\u001B[39m\u001B[33mExiting \u001B[39m\u001B[38;5;132;01m{\u001B[39;00mfunc.\u001B[34m__name__\u001B[39m\u001B[38;5;132;01m}\u001B[39;00m\u001B[33m()\u001B[39m\u001B[33m'\u001B[39m)\n\u001B[32m     95\u001B[39m \u001B[38;5;28;01mreturn\u001B[39;00m result\n",
      "\u001B[36mFile \u001B[39m\u001B[32m~/PycharmProjects/PythonProject/PythonProject/DeepLearning_Trading/.venv/lib/python3.13/site-packages/yfinance/multi.py:167\u001B[39m, in \u001B[36mdownload\u001B[39m\u001B[34m(tickers, start, end, actions, threads, ignore_tz, group_by, auto_adjust, back_adjust, repair, keepna, progress, period, interval, prepost, proxy, rounding, timeout, session, multi_level_index)\u001B[39m\n\u001B[32m    160\u001B[39m         _download_one_threaded(ticker, period=period, interval=interval,\n\u001B[32m    161\u001B[39m                                start=start, end=end, prepost=prepost,\n\u001B[32m    162\u001B[39m                                actions=actions, auto_adjust=auto_adjust,\n\u001B[32m    163\u001B[39m                                back_adjust=back_adjust, repair=repair, keepna=keepna,\n\u001B[32m    164\u001B[39m                                progress=(progress \u001B[38;5;129;01mand\u001B[39;00m i > \u001B[32m0\u001B[39m),\n\u001B[32m    165\u001B[39m                                rounding=rounding, timeout=timeout)\n\u001B[32m    166\u001B[39m     \u001B[38;5;28;01mwhile\u001B[39;00m \u001B[38;5;28mlen\u001B[39m(shared._DFS) < \u001B[38;5;28mlen\u001B[39m(tickers):\n\u001B[32m--> \u001B[39m\u001B[32m167\u001B[39m         \u001B[43m_time\u001B[49m\u001B[43m.\u001B[49m\u001B[43msleep\u001B[49m\u001B[43m(\u001B[49m\u001B[32;43m0.01\u001B[39;49m\u001B[43m)\u001B[49m\n\u001B[32m    168\u001B[39m \u001B[38;5;66;03m# download synchronously\u001B[39;00m\n\u001B[32m    169\u001B[39m \u001B[38;5;28;01melse\u001B[39;00m:\n\u001B[32m    170\u001B[39m     \u001B[38;5;28;01mfor\u001B[39;00m i, ticker \u001B[38;5;129;01min\u001B[39;00m \u001B[38;5;28menumerate\u001B[39m(tickers):\n",
      "\u001B[31mKeyboardInterrupt\u001B[39m: "
     ]
    }
   ],
   "execution_count": 15
  },
  {
   "metadata": {
    "ExecuteTime": {
     "end_time": "2025-09-15T14:30:41.363963Z",
     "start_time": "2025-09-14T14:51:24.009538Z"
    }
   },
   "cell_type": "code",
   "source": [
    "data_SP500 = data_SP500.reset_index()\n",
    "data_SP500"
   ],
   "id": "54fdf214b890458f",
   "outputs": [
    {
     "data": {
      "text/plain": [
       "Price         Date       Close        High         Low        Open  \\\n",
       "0       1999-11-18   26.399939   29.999932   23.999944   27.299935   \n",
       "1       1999-11-19   24.224939   25.799935   23.887440   25.762434   \n",
       "2       1999-11-22   26.399939   26.399939   24.037443   24.787442   \n",
       "3       1999-11-23   23.999937   26.174932   23.999937   25.499933   \n",
       "4       1999-11-24   24.637444   25.162443   23.999944   24.074945   \n",
       "...            ...         ...         ...         ...         ...   \n",
       "3822389 2025-09-08  151.750000  152.970001  146.490005  152.500000   \n",
       "3822390 2025-09-09  149.789993  152.119995  149.639999  151.410004   \n",
       "3822391 2025-09-10  149.419998  150.580002  148.380005  149.000000   \n",
       "3822392 2025-09-11  150.610001  152.000000  149.419998  149.779999   \n",
       "3822393 2025-09-12  148.199997  150.050003  146.539993  149.649994   \n",
       "\n",
       "Price        Volume Ticker  Adj Close  \n",
       "0        62546380.0      A        NaN  \n",
       "1        15234146.0      A        NaN  \n",
       "2         6577870.0      A        NaN  \n",
       "3         5975611.0      A        NaN  \n",
       "4         4843231.0      A        NaN  \n",
       "...             ...    ...        ...  \n",
       "3822389   3313000.0    ZTS        NaN  \n",
       "3822390   1952600.0    ZTS        NaN  \n",
       "3822391   2734300.0    ZTS        NaN  \n",
       "3822392   3194000.0    ZTS        NaN  \n",
       "3822393   3111200.0    ZTS        NaN  \n",
       "\n",
       "[3822394 rows x 8 columns]"
      ],
      "text/html": [
       "<div>\n",
       "<style scoped>\n",
       "    .dataframe tbody tr th:only-of-type {\n",
       "        vertical-align: middle;\n",
       "    }\n",
       "\n",
       "    .dataframe tbody tr th {\n",
       "        vertical-align: top;\n",
       "    }\n",
       "\n",
       "    .dataframe thead th {\n",
       "        text-align: right;\n",
       "    }\n",
       "</style>\n",
       "<table border=\"1\" class=\"dataframe\">\n",
       "  <thead>\n",
       "    <tr style=\"text-align: right;\">\n",
       "      <th>Price</th>\n",
       "      <th>Date</th>\n",
       "      <th>Close</th>\n",
       "      <th>High</th>\n",
       "      <th>Low</th>\n",
       "      <th>Open</th>\n",
       "      <th>Volume</th>\n",
       "      <th>Ticker</th>\n",
       "      <th>Adj Close</th>\n",
       "    </tr>\n",
       "  </thead>\n",
       "  <tbody>\n",
       "    <tr>\n",
       "      <th>0</th>\n",
       "      <td>1999-11-18</td>\n",
       "      <td>26.399939</td>\n",
       "      <td>29.999932</td>\n",
       "      <td>23.999944</td>\n",
       "      <td>27.299935</td>\n",
       "      <td>62546380.0</td>\n",
       "      <td>A</td>\n",
       "      <td>NaN</td>\n",
       "    </tr>\n",
       "    <tr>\n",
       "      <th>1</th>\n",
       "      <td>1999-11-19</td>\n",
       "      <td>24.224939</td>\n",
       "      <td>25.799935</td>\n",
       "      <td>23.887440</td>\n",
       "      <td>25.762434</td>\n",
       "      <td>15234146.0</td>\n",
       "      <td>A</td>\n",
       "      <td>NaN</td>\n",
       "    </tr>\n",
       "    <tr>\n",
       "      <th>2</th>\n",
       "      <td>1999-11-22</td>\n",
       "      <td>26.399939</td>\n",
       "      <td>26.399939</td>\n",
       "      <td>24.037443</td>\n",
       "      <td>24.787442</td>\n",
       "      <td>6577870.0</td>\n",
       "      <td>A</td>\n",
       "      <td>NaN</td>\n",
       "    </tr>\n",
       "    <tr>\n",
       "      <th>3</th>\n",
       "      <td>1999-11-23</td>\n",
       "      <td>23.999937</td>\n",
       "      <td>26.174932</td>\n",
       "      <td>23.999937</td>\n",
       "      <td>25.499933</td>\n",
       "      <td>5975611.0</td>\n",
       "      <td>A</td>\n",
       "      <td>NaN</td>\n",
       "    </tr>\n",
       "    <tr>\n",
       "      <th>4</th>\n",
       "      <td>1999-11-24</td>\n",
       "      <td>24.637444</td>\n",
       "      <td>25.162443</td>\n",
       "      <td>23.999944</td>\n",
       "      <td>24.074945</td>\n",
       "      <td>4843231.0</td>\n",
       "      <td>A</td>\n",
       "      <td>NaN</td>\n",
       "    </tr>\n",
       "    <tr>\n",
       "      <th>...</th>\n",
       "      <td>...</td>\n",
       "      <td>...</td>\n",
       "      <td>...</td>\n",
       "      <td>...</td>\n",
       "      <td>...</td>\n",
       "      <td>...</td>\n",
       "      <td>...</td>\n",
       "      <td>...</td>\n",
       "    </tr>\n",
       "    <tr>\n",
       "      <th>3822389</th>\n",
       "      <td>2025-09-08</td>\n",
       "      <td>151.750000</td>\n",
       "      <td>152.970001</td>\n",
       "      <td>146.490005</td>\n",
       "      <td>152.500000</td>\n",
       "      <td>3313000.0</td>\n",
       "      <td>ZTS</td>\n",
       "      <td>NaN</td>\n",
       "    </tr>\n",
       "    <tr>\n",
       "      <th>3822390</th>\n",
       "      <td>2025-09-09</td>\n",
       "      <td>149.789993</td>\n",
       "      <td>152.119995</td>\n",
       "      <td>149.639999</td>\n",
       "      <td>151.410004</td>\n",
       "      <td>1952600.0</td>\n",
       "      <td>ZTS</td>\n",
       "      <td>NaN</td>\n",
       "    </tr>\n",
       "    <tr>\n",
       "      <th>3822391</th>\n",
       "      <td>2025-09-10</td>\n",
       "      <td>149.419998</td>\n",
       "      <td>150.580002</td>\n",
       "      <td>148.380005</td>\n",
       "      <td>149.000000</td>\n",
       "      <td>2734300.0</td>\n",
       "      <td>ZTS</td>\n",
       "      <td>NaN</td>\n",
       "    </tr>\n",
       "    <tr>\n",
       "      <th>3822392</th>\n",
       "      <td>2025-09-11</td>\n",
       "      <td>150.610001</td>\n",
       "      <td>152.000000</td>\n",
       "      <td>149.419998</td>\n",
       "      <td>149.779999</td>\n",
       "      <td>3194000.0</td>\n",
       "      <td>ZTS</td>\n",
       "      <td>NaN</td>\n",
       "    </tr>\n",
       "    <tr>\n",
       "      <th>3822393</th>\n",
       "      <td>2025-09-12</td>\n",
       "      <td>148.199997</td>\n",
       "      <td>150.050003</td>\n",
       "      <td>146.539993</td>\n",
       "      <td>149.649994</td>\n",
       "      <td>3111200.0</td>\n",
       "      <td>ZTS</td>\n",
       "      <td>NaN</td>\n",
       "    </tr>\n",
       "  </tbody>\n",
       "</table>\n",
       "<p>3822394 rows × 8 columns</p>\n",
       "</div>"
      ]
     },
     "execution_count": 16,
     "metadata": {},
     "output_type": "execute_result"
    }
   ],
   "execution_count": 16
  },
  {
   "metadata": {
    "ExecuteTime": {
     "end_time": "2025-09-15T14:30:41.364339Z",
     "start_time": "2025-09-14T14:46:46.155260Z"
    }
   },
   "cell_type": "code",
   "source": [
    "df_concat = pd.concat([data_SP500, data_SP500_old])\n",
    "df_concat"
   ],
   "id": "98ab86e6f982813f",
   "outputs": [
    {
     "data": {
      "text/plain": [
       "Price       Date       Close        High         Low        Open       Volume  \\\n",
       "0     2025-09-12  123.239998  126.525002  123.139999  126.449997     959590.0   \n",
       "1     2025-09-12  234.070007  234.509995  229.020004  229.270004   55220889.0   \n",
       "2     2025-09-12  218.339996  220.375000  218.225006  219.119995    3110454.0   \n",
       "3     2025-09-12  122.550003  123.449997  121.839996  122.989998    5072519.0   \n",
       "4     2025-09-12  133.729996  134.960007  131.399994  131.820007    5698902.0   \n",
       "..           ...         ...         ...         ...         ...          ...   \n",
       "337   2025-09-12  129.419998  130.440002  128.740005  129.089996     801900.0   \n",
       "338   2025-09-12  141.350006  143.580002  141.259995  143.279999     929900.0   \n",
       "339   2025-09-12  177.820007  178.600006  176.449997  177.770004  124618700.0   \n",
       "326   2025-09-12  223.169998  227.020004  222.809998  227.020004     195900.0   \n",
       "0     2025-09-12  123.239998  126.529999  123.129997  126.449997    1250800.0   \n",
       "\n",
       "Price Ticker  Adj Close  \n",
       "0          A        NaN  \n",
       "1       AAPL        NaN  \n",
       "2       ABBV        NaN  \n",
       "3       ABNB        NaN  \n",
       "4        ABT        NaN  \n",
       "..       ...        ...  \n",
       "337     NTRS        NaN  \n",
       "338      NUE        NaN  \n",
       "339     NVDA        NaN  \n",
       "326     NDSN        NaN  \n",
       "0          A        NaN  \n",
       "\n",
       "[3816185 rows x 8 columns]"
      ],
      "text/html": [
       "<div>\n",
       "<style scoped>\n",
       "    .dataframe tbody tr th:only-of-type {\n",
       "        vertical-align: middle;\n",
       "    }\n",
       "\n",
       "    .dataframe tbody tr th {\n",
       "        vertical-align: top;\n",
       "    }\n",
       "\n",
       "    .dataframe thead th {\n",
       "        text-align: right;\n",
       "    }\n",
       "</style>\n",
       "<table border=\"1\" class=\"dataframe\">\n",
       "  <thead>\n",
       "    <tr style=\"text-align: right;\">\n",
       "      <th>Price</th>\n",
       "      <th>Date</th>\n",
       "      <th>Close</th>\n",
       "      <th>High</th>\n",
       "      <th>Low</th>\n",
       "      <th>Open</th>\n",
       "      <th>Volume</th>\n",
       "      <th>Ticker</th>\n",
       "      <th>Adj Close</th>\n",
       "    </tr>\n",
       "  </thead>\n",
       "  <tbody>\n",
       "    <tr>\n",
       "      <th>0</th>\n",
       "      <td>2025-09-12</td>\n",
       "      <td>123.239998</td>\n",
       "      <td>126.525002</td>\n",
       "      <td>123.139999</td>\n",
       "      <td>126.449997</td>\n",
       "      <td>959590.0</td>\n",
       "      <td>A</td>\n",
       "      <td>NaN</td>\n",
       "    </tr>\n",
       "    <tr>\n",
       "      <th>1</th>\n",
       "      <td>2025-09-12</td>\n",
       "      <td>234.070007</td>\n",
       "      <td>234.509995</td>\n",
       "      <td>229.020004</td>\n",
       "      <td>229.270004</td>\n",
       "      <td>55220889.0</td>\n",
       "      <td>AAPL</td>\n",
       "      <td>NaN</td>\n",
       "    </tr>\n",
       "    <tr>\n",
       "      <th>2</th>\n",
       "      <td>2025-09-12</td>\n",
       "      <td>218.339996</td>\n",
       "      <td>220.375000</td>\n",
       "      <td>218.225006</td>\n",
       "      <td>219.119995</td>\n",
       "      <td>3110454.0</td>\n",
       "      <td>ABBV</td>\n",
       "      <td>NaN</td>\n",
       "    </tr>\n",
       "    <tr>\n",
       "      <th>3</th>\n",
       "      <td>2025-09-12</td>\n",
       "      <td>122.550003</td>\n",
       "      <td>123.449997</td>\n",
       "      <td>121.839996</td>\n",
       "      <td>122.989998</td>\n",
       "      <td>5072519.0</td>\n",
       "      <td>ABNB</td>\n",
       "      <td>NaN</td>\n",
       "    </tr>\n",
       "    <tr>\n",
       "      <th>4</th>\n",
       "      <td>2025-09-12</td>\n",
       "      <td>133.729996</td>\n",
       "      <td>134.960007</td>\n",
       "      <td>131.399994</td>\n",
       "      <td>131.820007</td>\n",
       "      <td>5698902.0</td>\n",
       "      <td>ABT</td>\n",
       "      <td>NaN</td>\n",
       "    </tr>\n",
       "    <tr>\n",
       "      <th>...</th>\n",
       "      <td>...</td>\n",
       "      <td>...</td>\n",
       "      <td>...</td>\n",
       "      <td>...</td>\n",
       "      <td>...</td>\n",
       "      <td>...</td>\n",
       "      <td>...</td>\n",
       "      <td>...</td>\n",
       "    </tr>\n",
       "    <tr>\n",
       "      <th>337</th>\n",
       "      <td>2025-09-12</td>\n",
       "      <td>129.419998</td>\n",
       "      <td>130.440002</td>\n",
       "      <td>128.740005</td>\n",
       "      <td>129.089996</td>\n",
       "      <td>801900.0</td>\n",
       "      <td>NTRS</td>\n",
       "      <td>NaN</td>\n",
       "    </tr>\n",
       "    <tr>\n",
       "      <th>338</th>\n",
       "      <td>2025-09-12</td>\n",
       "      <td>141.350006</td>\n",
       "      <td>143.580002</td>\n",
       "      <td>141.259995</td>\n",
       "      <td>143.279999</td>\n",
       "      <td>929900.0</td>\n",
       "      <td>NUE</td>\n",
       "      <td>NaN</td>\n",
       "    </tr>\n",
       "    <tr>\n",
       "      <th>339</th>\n",
       "      <td>2025-09-12</td>\n",
       "      <td>177.820007</td>\n",
       "      <td>178.600006</td>\n",
       "      <td>176.449997</td>\n",
       "      <td>177.770004</td>\n",
       "      <td>124618700.0</td>\n",
       "      <td>NVDA</td>\n",
       "      <td>NaN</td>\n",
       "    </tr>\n",
       "    <tr>\n",
       "      <th>326</th>\n",
       "      <td>2025-09-12</td>\n",
       "      <td>223.169998</td>\n",
       "      <td>227.020004</td>\n",
       "      <td>222.809998</td>\n",
       "      <td>227.020004</td>\n",
       "      <td>195900.0</td>\n",
       "      <td>NDSN</td>\n",
       "      <td>NaN</td>\n",
       "    </tr>\n",
       "    <tr>\n",
       "      <th>0</th>\n",
       "      <td>2025-09-12</td>\n",
       "      <td>123.239998</td>\n",
       "      <td>126.529999</td>\n",
       "      <td>123.129997</td>\n",
       "      <td>126.449997</td>\n",
       "      <td>1250800.0</td>\n",
       "      <td>A</td>\n",
       "      <td>NaN</td>\n",
       "    </tr>\n",
       "  </tbody>\n",
       "</table>\n",
       "<p>3816185 rows × 8 columns</p>\n",
       "</div>"
      ]
     },
     "execution_count": 17,
     "metadata": {},
     "output_type": "execute_result"
    }
   ],
   "execution_count": 17
  },
  {
   "metadata": {
    "ExecuteTime": {
     "end_time": "2025-09-15T14:30:41.364463Z",
     "start_time": "2025-09-14T14:46:46.209372Z"
    }
   },
   "cell_type": "code",
   "source": [
    "df_concat.sort_values(by=['Date'], ascending=True, inplace=True)\n",
    "df_concat.tail(50)"
   ],
   "id": "600040841afb92f6",
   "outputs": [
    {
     "data": {
      "text/plain": [
       "Price       Date        Close         High          Low         Open  \\\n",
       "355   2025-09-12   102.510002   103.480003   100.570000   101.500000   \n",
       "356   2025-09-12    15.450000    15.860000    15.370000    15.750000   \n",
       "357   2025-09-12    82.690002    82.917503    81.835403    81.860001   \n",
       "358   2025-09-12   143.529999   144.244995   142.899994   144.070007   \n",
       "359   2025-09-12    23.870001    24.840000    23.840000    24.809999   \n",
       "360   2025-09-12    82.699997    82.930000    81.820000    81.980003   \n",
       "361   2025-09-12   157.899994   159.104996   157.779999   157.929993   \n",
       "362   2025-09-12   248.279999   249.710007   247.669998   248.750000   \n",
       "363   2025-09-12   137.100006   138.800003   136.410004   137.380005   \n",
       "364   2025-09-12   215.149994   216.800003   214.940002   215.740005   \n",
       "365   2025-09-12   115.349998   115.900002   114.169998   114.860001   \n",
       "366   2025-09-12   171.429993   171.529999   164.009995   165.360001   \n",
       "367   2025-09-12   166.110001   168.794998   165.100006   167.320007   \n",
       "368   2025-09-12   201.979996   203.039993   201.589996   202.750000   \n",
       "369   2025-09-12   110.949997   112.524002   110.870003   112.349998   \n",
       "370   2025-09-12    88.190002    88.510002    88.070000    88.089996   \n",
       "343   2025-09-12    60.410000    60.590000    60.029999    60.090000   \n",
       "342   2025-09-12   218.820007   223.089996   218.600006   222.660004   \n",
       "341   2025-09-12    29.230000    29.610001    29.180000    29.610001   \n",
       "340   2025-09-12    32.270000    32.470001    32.055000    32.209999   \n",
       "312   2025-09-12   834.140015   844.960022   830.130005   844.960022   \n",
       "313   2025-09-12    82.809998    85.180000    82.800003    84.620003   \n",
       "314   2025-09-12    23.510000    25.415001    23.180000    25.225000   \n",
       "315   2025-09-12   156.389999   156.860001   155.615005   156.044998   \n",
       "316   2025-09-12   583.250000   585.450012   576.340027   584.070007   \n",
       "317   2025-09-12   509.899994   512.549988   503.868408   506.510010   \n",
       "318   2025-09-12   481.709991   487.679993   481.290009   487.970001   \n",
       "319   2025-09-12   198.800003   199.839996   197.020004   198.100006   \n",
       "320   2025-09-12    37.750000    38.349998    37.549999    38.130001   \n",
       "321   2025-09-12  1259.540039  1276.930054  1255.219971  1279.420044   \n",
       "322   2025-09-12   157.229996   158.279999   153.210007   153.595001   \n",
       "323   2025-09-12    26.650000    27.179899    26.645000    27.120001   \n",
       "324   2025-09-12    93.949997    96.139999    93.889999    95.739998   \n",
       "248   2025-09-12   263.359985   265.970001   262.933014   265.279999   \n",
       "325   2025-09-12   223.169998   227.020004   222.820007   227.020004   \n",
       "327   2025-09-12    79.250000    80.060402    78.764999    79.720001   \n",
       "328   2025-09-12  1188.439941  1211.780029  1182.400024  1203.494995   \n",
       "329   2025-09-12    41.009998    41.195499    40.750000    40.830002   \n",
       "330   2025-09-12    73.000000    74.279999    71.930000    74.239998   \n",
       "331   2025-09-12   575.960022   583.130005   575.179993   582.340027   \n",
       "332   2025-09-12   928.960022   941.849976   926.929993   941.729980   \n",
       "333   2025-09-12   164.839996   165.820007   157.020004   157.699997   \n",
       "334   2025-09-12   274.720001   276.230011   273.760010   273.859985   \n",
       "335   2025-09-12   124.000000   125.260002   123.745003   125.050003   \n",
       "336   2025-09-12   129.419998   130.440002   128.735001   129.089996   \n",
       "337   2025-09-12   141.350006   143.580002   141.270004   143.279999   \n",
       "338   2025-09-12   177.820007   178.589996   176.449997   177.770004   \n",
       "339   2025-09-12  8414.820312  8544.389648  8377.629883  8506.349609   \n",
       "326   2025-09-12    71.639999    72.489998    70.809998    71.150002   \n",
       "0     2025-09-12   123.239998   126.529999   123.129997   126.449997   \n",
       "\n",
       "Price       Volume Ticker  Adj Close  \n",
       "355      3809654.0   PCAR        NaN  \n",
       "356     24142974.0    PCG        NaN  \n",
       "357      1609010.0    PEG        NaN  \n",
       "358      5683061.0    PEP        NaN  \n",
       "359     74185639.0    PFE        NaN  \n",
       "360       970744.0    PFG        NaN  \n",
       "361      5956095.0     PG        NaN  \n",
       "362      2611998.0    PGR        NaN  \n",
       "363      1266152.0    PHM        NaN  \n",
       "364       471233.0    PKG        NaN  \n",
       "365      3363726.0    PLD        NaN  \n",
       "366     53334275.0   PLTR        NaN  \n",
       "367      3691179.0     PM        NaN  \n",
       "368       770420.0    PNC        NaN  \n",
       "369       915213.0    PNR        NaN  \n",
       "370       758980.0    PNW        NaN  \n",
       "343      3906501.0      O        NaN  \n",
       "342      2061704.0   NXPI        NaN  \n",
       "341      4691604.0   NWSA        NaN  \n",
       "340      1178223.0    NWS        NaN  \n",
       "312       329576.0   MPWR        NaN  \n",
       "313      7839467.0    MRK        NaN  \n",
       "314     31128753.0   MRNA        NaN  \n",
       "315      4341264.0     MS        NaN  \n",
       "316       722142.0   MSCI        NaN  \n",
       "317     23242411.0   MSFT        NaN  \n",
       "318       788273.0    MSI        NaN  \n",
       "319       696729.0    MTB        NaN  \n",
       "320      3724358.0   MTCH        NaN  \n",
       "321       109047.0    MTD        NaN  \n",
       "322     32180131.0     MU        NaN  \n",
       "323     13694722.0   NCLH        NaN  \n",
       "324      2947549.0   NDAQ        NaN  \n",
       "248       668429.0    ITW        NaN  \n",
       "325       193348.0   NDSN        NaN  \n",
       "327      7051297.0    NEM        NaN  \n",
       "328      3768854.0   NFLX        NaN  \n",
       "329      2379899.0     NI        NaN  \n",
       "330     11790695.0    NKE        NaN  \n",
       "331       465936.0    NOC        NaN  \n",
       "332       710703.0    NOW        NaN  \n",
       "333      2277515.0    NRG        NaN  \n",
       "334      2243787.0    NSC        NaN  \n",
       "335      1834075.0   NTAP        NaN  \n",
       "336       784077.0   NTRS        NaN  \n",
       "337       737804.0    NUE        NaN  \n",
       "338    121530793.0   NVDA        NaN  \n",
       "339        15872.0    NVR        NaN  \n",
       "326      9342890.0    NEE        NaN  \n",
       "0        1250800.0      A        NaN  "
      ],
      "text/html": [
       "<div>\n",
       "<style scoped>\n",
       "    .dataframe tbody tr th:only-of-type {\n",
       "        vertical-align: middle;\n",
       "    }\n",
       "\n",
       "    .dataframe tbody tr th {\n",
       "        vertical-align: top;\n",
       "    }\n",
       "\n",
       "    .dataframe thead th {\n",
       "        text-align: right;\n",
       "    }\n",
       "</style>\n",
       "<table border=\"1\" class=\"dataframe\">\n",
       "  <thead>\n",
       "    <tr style=\"text-align: right;\">\n",
       "      <th>Price</th>\n",
       "      <th>Date</th>\n",
       "      <th>Close</th>\n",
       "      <th>High</th>\n",
       "      <th>Low</th>\n",
       "      <th>Open</th>\n",
       "      <th>Volume</th>\n",
       "      <th>Ticker</th>\n",
       "      <th>Adj Close</th>\n",
       "    </tr>\n",
       "  </thead>\n",
       "  <tbody>\n",
       "    <tr>\n",
       "      <th>355</th>\n",
       "      <td>2025-09-12</td>\n",
       "      <td>102.510002</td>\n",
       "      <td>103.480003</td>\n",
       "      <td>100.570000</td>\n",
       "      <td>101.500000</td>\n",
       "      <td>3809654.0</td>\n",
       "      <td>PCAR</td>\n",
       "      <td>NaN</td>\n",
       "    </tr>\n",
       "    <tr>\n",
       "      <th>356</th>\n",
       "      <td>2025-09-12</td>\n",
       "      <td>15.450000</td>\n",
       "      <td>15.860000</td>\n",
       "      <td>15.370000</td>\n",
       "      <td>15.750000</td>\n",
       "      <td>24142974.0</td>\n",
       "      <td>PCG</td>\n",
       "      <td>NaN</td>\n",
       "    </tr>\n",
       "    <tr>\n",
       "      <th>357</th>\n",
       "      <td>2025-09-12</td>\n",
       "      <td>82.690002</td>\n",
       "      <td>82.917503</td>\n",
       "      <td>81.835403</td>\n",
       "      <td>81.860001</td>\n",
       "      <td>1609010.0</td>\n",
       "      <td>PEG</td>\n",
       "      <td>NaN</td>\n",
       "    </tr>\n",
       "    <tr>\n",
       "      <th>358</th>\n",
       "      <td>2025-09-12</td>\n",
       "      <td>143.529999</td>\n",
       "      <td>144.244995</td>\n",
       "      <td>142.899994</td>\n",
       "      <td>144.070007</td>\n",
       "      <td>5683061.0</td>\n",
       "      <td>PEP</td>\n",
       "      <td>NaN</td>\n",
       "    </tr>\n",
       "    <tr>\n",
       "      <th>359</th>\n",
       "      <td>2025-09-12</td>\n",
       "      <td>23.870001</td>\n",
       "      <td>24.840000</td>\n",
       "      <td>23.840000</td>\n",
       "      <td>24.809999</td>\n",
       "      <td>74185639.0</td>\n",
       "      <td>PFE</td>\n",
       "      <td>NaN</td>\n",
       "    </tr>\n",
       "    <tr>\n",
       "      <th>360</th>\n",
       "      <td>2025-09-12</td>\n",
       "      <td>82.699997</td>\n",
       "      <td>82.930000</td>\n",
       "      <td>81.820000</td>\n",
       "      <td>81.980003</td>\n",
       "      <td>970744.0</td>\n",
       "      <td>PFG</td>\n",
       "      <td>NaN</td>\n",
       "    </tr>\n",
       "    <tr>\n",
       "      <th>361</th>\n",
       "      <td>2025-09-12</td>\n",
       "      <td>157.899994</td>\n",
       "      <td>159.104996</td>\n",
       "      <td>157.779999</td>\n",
       "      <td>157.929993</td>\n",
       "      <td>5956095.0</td>\n",
       "      <td>PG</td>\n",
       "      <td>NaN</td>\n",
       "    </tr>\n",
       "    <tr>\n",
       "      <th>362</th>\n",
       "      <td>2025-09-12</td>\n",
       "      <td>248.279999</td>\n",
       "      <td>249.710007</td>\n",
       "      <td>247.669998</td>\n",
       "      <td>248.750000</td>\n",
       "      <td>2611998.0</td>\n",
       "      <td>PGR</td>\n",
       "      <td>NaN</td>\n",
       "    </tr>\n",
       "    <tr>\n",
       "      <th>363</th>\n",
       "      <td>2025-09-12</td>\n",
       "      <td>137.100006</td>\n",
       "      <td>138.800003</td>\n",
       "      <td>136.410004</td>\n",
       "      <td>137.380005</td>\n",
       "      <td>1266152.0</td>\n",
       "      <td>PHM</td>\n",
       "      <td>NaN</td>\n",
       "    </tr>\n",
       "    <tr>\n",
       "      <th>364</th>\n",
       "      <td>2025-09-12</td>\n",
       "      <td>215.149994</td>\n",
       "      <td>216.800003</td>\n",
       "      <td>214.940002</td>\n",
       "      <td>215.740005</td>\n",
       "      <td>471233.0</td>\n",
       "      <td>PKG</td>\n",
       "      <td>NaN</td>\n",
       "    </tr>\n",
       "    <tr>\n",
       "      <th>365</th>\n",
       "      <td>2025-09-12</td>\n",
       "      <td>115.349998</td>\n",
       "      <td>115.900002</td>\n",
       "      <td>114.169998</td>\n",
       "      <td>114.860001</td>\n",
       "      <td>3363726.0</td>\n",
       "      <td>PLD</td>\n",
       "      <td>NaN</td>\n",
       "    </tr>\n",
       "    <tr>\n",
       "      <th>366</th>\n",
       "      <td>2025-09-12</td>\n",
       "      <td>171.429993</td>\n",
       "      <td>171.529999</td>\n",
       "      <td>164.009995</td>\n",
       "      <td>165.360001</td>\n",
       "      <td>53334275.0</td>\n",
       "      <td>PLTR</td>\n",
       "      <td>NaN</td>\n",
       "    </tr>\n",
       "    <tr>\n",
       "      <th>367</th>\n",
       "      <td>2025-09-12</td>\n",
       "      <td>166.110001</td>\n",
       "      <td>168.794998</td>\n",
       "      <td>165.100006</td>\n",
       "      <td>167.320007</td>\n",
       "      <td>3691179.0</td>\n",
       "      <td>PM</td>\n",
       "      <td>NaN</td>\n",
       "    </tr>\n",
       "    <tr>\n",
       "      <th>368</th>\n",
       "      <td>2025-09-12</td>\n",
       "      <td>201.979996</td>\n",
       "      <td>203.039993</td>\n",
       "      <td>201.589996</td>\n",
       "      <td>202.750000</td>\n",
       "      <td>770420.0</td>\n",
       "      <td>PNC</td>\n",
       "      <td>NaN</td>\n",
       "    </tr>\n",
       "    <tr>\n",
       "      <th>369</th>\n",
       "      <td>2025-09-12</td>\n",
       "      <td>110.949997</td>\n",
       "      <td>112.524002</td>\n",
       "      <td>110.870003</td>\n",
       "      <td>112.349998</td>\n",
       "      <td>915213.0</td>\n",
       "      <td>PNR</td>\n",
       "      <td>NaN</td>\n",
       "    </tr>\n",
       "    <tr>\n",
       "      <th>370</th>\n",
       "      <td>2025-09-12</td>\n",
       "      <td>88.190002</td>\n",
       "      <td>88.510002</td>\n",
       "      <td>88.070000</td>\n",
       "      <td>88.089996</td>\n",
       "      <td>758980.0</td>\n",
       "      <td>PNW</td>\n",
       "      <td>NaN</td>\n",
       "    </tr>\n",
       "    <tr>\n",
       "      <th>343</th>\n",
       "      <td>2025-09-12</td>\n",
       "      <td>60.410000</td>\n",
       "      <td>60.590000</td>\n",
       "      <td>60.029999</td>\n",
       "      <td>60.090000</td>\n",
       "      <td>3906501.0</td>\n",
       "      <td>O</td>\n",
       "      <td>NaN</td>\n",
       "    </tr>\n",
       "    <tr>\n",
       "      <th>342</th>\n",
       "      <td>2025-09-12</td>\n",
       "      <td>218.820007</td>\n",
       "      <td>223.089996</td>\n",
       "      <td>218.600006</td>\n",
       "      <td>222.660004</td>\n",
       "      <td>2061704.0</td>\n",
       "      <td>NXPI</td>\n",
       "      <td>NaN</td>\n",
       "    </tr>\n",
       "    <tr>\n",
       "      <th>341</th>\n",
       "      <td>2025-09-12</td>\n",
       "      <td>29.230000</td>\n",
       "      <td>29.610001</td>\n",
       "      <td>29.180000</td>\n",
       "      <td>29.610001</td>\n",
       "      <td>4691604.0</td>\n",
       "      <td>NWSA</td>\n",
       "      <td>NaN</td>\n",
       "    </tr>\n",
       "    <tr>\n",
       "      <th>340</th>\n",
       "      <td>2025-09-12</td>\n",
       "      <td>32.270000</td>\n",
       "      <td>32.470001</td>\n",
       "      <td>32.055000</td>\n",
       "      <td>32.209999</td>\n",
       "      <td>1178223.0</td>\n",
       "      <td>NWS</td>\n",
       "      <td>NaN</td>\n",
       "    </tr>\n",
       "    <tr>\n",
       "      <th>312</th>\n",
       "      <td>2025-09-12</td>\n",
       "      <td>834.140015</td>\n",
       "      <td>844.960022</td>\n",
       "      <td>830.130005</td>\n",
       "      <td>844.960022</td>\n",
       "      <td>329576.0</td>\n",
       "      <td>MPWR</td>\n",
       "      <td>NaN</td>\n",
       "    </tr>\n",
       "    <tr>\n",
       "      <th>313</th>\n",
       "      <td>2025-09-12</td>\n",
       "      <td>82.809998</td>\n",
       "      <td>85.180000</td>\n",
       "      <td>82.800003</td>\n",
       "      <td>84.620003</td>\n",
       "      <td>7839467.0</td>\n",
       "      <td>MRK</td>\n",
       "      <td>NaN</td>\n",
       "    </tr>\n",
       "    <tr>\n",
       "      <th>314</th>\n",
       "      <td>2025-09-12</td>\n",
       "      <td>23.510000</td>\n",
       "      <td>25.415001</td>\n",
       "      <td>23.180000</td>\n",
       "      <td>25.225000</td>\n",
       "      <td>31128753.0</td>\n",
       "      <td>MRNA</td>\n",
       "      <td>NaN</td>\n",
       "    </tr>\n",
       "    <tr>\n",
       "      <th>315</th>\n",
       "      <td>2025-09-12</td>\n",
       "      <td>156.389999</td>\n",
       "      <td>156.860001</td>\n",
       "      <td>155.615005</td>\n",
       "      <td>156.044998</td>\n",
       "      <td>4341264.0</td>\n",
       "      <td>MS</td>\n",
       "      <td>NaN</td>\n",
       "    </tr>\n",
       "    <tr>\n",
       "      <th>316</th>\n",
       "      <td>2025-09-12</td>\n",
       "      <td>583.250000</td>\n",
       "      <td>585.450012</td>\n",
       "      <td>576.340027</td>\n",
       "      <td>584.070007</td>\n",
       "      <td>722142.0</td>\n",
       "      <td>MSCI</td>\n",
       "      <td>NaN</td>\n",
       "    </tr>\n",
       "    <tr>\n",
       "      <th>317</th>\n",
       "      <td>2025-09-12</td>\n",
       "      <td>509.899994</td>\n",
       "      <td>512.549988</td>\n",
       "      <td>503.868408</td>\n",
       "      <td>506.510010</td>\n",
       "      <td>23242411.0</td>\n",
       "      <td>MSFT</td>\n",
       "      <td>NaN</td>\n",
       "    </tr>\n",
       "    <tr>\n",
       "      <th>318</th>\n",
       "      <td>2025-09-12</td>\n",
       "      <td>481.709991</td>\n",
       "      <td>487.679993</td>\n",
       "      <td>481.290009</td>\n",
       "      <td>487.970001</td>\n",
       "      <td>788273.0</td>\n",
       "      <td>MSI</td>\n",
       "      <td>NaN</td>\n",
       "    </tr>\n",
       "    <tr>\n",
       "      <th>319</th>\n",
       "      <td>2025-09-12</td>\n",
       "      <td>198.800003</td>\n",
       "      <td>199.839996</td>\n",
       "      <td>197.020004</td>\n",
       "      <td>198.100006</td>\n",
       "      <td>696729.0</td>\n",
       "      <td>MTB</td>\n",
       "      <td>NaN</td>\n",
       "    </tr>\n",
       "    <tr>\n",
       "      <th>320</th>\n",
       "      <td>2025-09-12</td>\n",
       "      <td>37.750000</td>\n",
       "      <td>38.349998</td>\n",
       "      <td>37.549999</td>\n",
       "      <td>38.130001</td>\n",
       "      <td>3724358.0</td>\n",
       "      <td>MTCH</td>\n",
       "      <td>NaN</td>\n",
       "    </tr>\n",
       "    <tr>\n",
       "      <th>321</th>\n",
       "      <td>2025-09-12</td>\n",
       "      <td>1259.540039</td>\n",
       "      <td>1276.930054</td>\n",
       "      <td>1255.219971</td>\n",
       "      <td>1279.420044</td>\n",
       "      <td>109047.0</td>\n",
       "      <td>MTD</td>\n",
       "      <td>NaN</td>\n",
       "    </tr>\n",
       "    <tr>\n",
       "      <th>322</th>\n",
       "      <td>2025-09-12</td>\n",
       "      <td>157.229996</td>\n",
       "      <td>158.279999</td>\n",
       "      <td>153.210007</td>\n",
       "      <td>153.595001</td>\n",
       "      <td>32180131.0</td>\n",
       "      <td>MU</td>\n",
       "      <td>NaN</td>\n",
       "    </tr>\n",
       "    <tr>\n",
       "      <th>323</th>\n",
       "      <td>2025-09-12</td>\n",
       "      <td>26.650000</td>\n",
       "      <td>27.179899</td>\n",
       "      <td>26.645000</td>\n",
       "      <td>27.120001</td>\n",
       "      <td>13694722.0</td>\n",
       "      <td>NCLH</td>\n",
       "      <td>NaN</td>\n",
       "    </tr>\n",
       "    <tr>\n",
       "      <th>324</th>\n",
       "      <td>2025-09-12</td>\n",
       "      <td>93.949997</td>\n",
       "      <td>96.139999</td>\n",
       "      <td>93.889999</td>\n",
       "      <td>95.739998</td>\n",
       "      <td>2947549.0</td>\n",
       "      <td>NDAQ</td>\n",
       "      <td>NaN</td>\n",
       "    </tr>\n",
       "    <tr>\n",
       "      <th>248</th>\n",
       "      <td>2025-09-12</td>\n",
       "      <td>263.359985</td>\n",
       "      <td>265.970001</td>\n",
       "      <td>262.933014</td>\n",
       "      <td>265.279999</td>\n",
       "      <td>668429.0</td>\n",
       "      <td>ITW</td>\n",
       "      <td>NaN</td>\n",
       "    </tr>\n",
       "    <tr>\n",
       "      <th>325</th>\n",
       "      <td>2025-09-12</td>\n",
       "      <td>223.169998</td>\n",
       "      <td>227.020004</td>\n",
       "      <td>222.820007</td>\n",
       "      <td>227.020004</td>\n",
       "      <td>193348.0</td>\n",
       "      <td>NDSN</td>\n",
       "      <td>NaN</td>\n",
       "    </tr>\n",
       "    <tr>\n",
       "      <th>327</th>\n",
       "      <td>2025-09-12</td>\n",
       "      <td>79.250000</td>\n",
       "      <td>80.060402</td>\n",
       "      <td>78.764999</td>\n",
       "      <td>79.720001</td>\n",
       "      <td>7051297.0</td>\n",
       "      <td>NEM</td>\n",
       "      <td>NaN</td>\n",
       "    </tr>\n",
       "    <tr>\n",
       "      <th>328</th>\n",
       "      <td>2025-09-12</td>\n",
       "      <td>1188.439941</td>\n",
       "      <td>1211.780029</td>\n",
       "      <td>1182.400024</td>\n",
       "      <td>1203.494995</td>\n",
       "      <td>3768854.0</td>\n",
       "      <td>NFLX</td>\n",
       "      <td>NaN</td>\n",
       "    </tr>\n",
       "    <tr>\n",
       "      <th>329</th>\n",
       "      <td>2025-09-12</td>\n",
       "      <td>41.009998</td>\n",
       "      <td>41.195499</td>\n",
       "      <td>40.750000</td>\n",
       "      <td>40.830002</td>\n",
       "      <td>2379899.0</td>\n",
       "      <td>NI</td>\n",
       "      <td>NaN</td>\n",
       "    </tr>\n",
       "    <tr>\n",
       "      <th>330</th>\n",
       "      <td>2025-09-12</td>\n",
       "      <td>73.000000</td>\n",
       "      <td>74.279999</td>\n",
       "      <td>71.930000</td>\n",
       "      <td>74.239998</td>\n",
       "      <td>11790695.0</td>\n",
       "      <td>NKE</td>\n",
       "      <td>NaN</td>\n",
       "    </tr>\n",
       "    <tr>\n",
       "      <th>331</th>\n",
       "      <td>2025-09-12</td>\n",
       "      <td>575.960022</td>\n",
       "      <td>583.130005</td>\n",
       "      <td>575.179993</td>\n",
       "      <td>582.340027</td>\n",
       "      <td>465936.0</td>\n",
       "      <td>NOC</td>\n",
       "      <td>NaN</td>\n",
       "    </tr>\n",
       "    <tr>\n",
       "      <th>332</th>\n",
       "      <td>2025-09-12</td>\n",
       "      <td>928.960022</td>\n",
       "      <td>941.849976</td>\n",
       "      <td>926.929993</td>\n",
       "      <td>941.729980</td>\n",
       "      <td>710703.0</td>\n",
       "      <td>NOW</td>\n",
       "      <td>NaN</td>\n",
       "    </tr>\n",
       "    <tr>\n",
       "      <th>333</th>\n",
       "      <td>2025-09-12</td>\n",
       "      <td>164.839996</td>\n",
       "      <td>165.820007</td>\n",
       "      <td>157.020004</td>\n",
       "      <td>157.699997</td>\n",
       "      <td>2277515.0</td>\n",
       "      <td>NRG</td>\n",
       "      <td>NaN</td>\n",
       "    </tr>\n",
       "    <tr>\n",
       "      <th>334</th>\n",
       "      <td>2025-09-12</td>\n",
       "      <td>274.720001</td>\n",
       "      <td>276.230011</td>\n",
       "      <td>273.760010</td>\n",
       "      <td>273.859985</td>\n",
       "      <td>2243787.0</td>\n",
       "      <td>NSC</td>\n",
       "      <td>NaN</td>\n",
       "    </tr>\n",
       "    <tr>\n",
       "      <th>335</th>\n",
       "      <td>2025-09-12</td>\n",
       "      <td>124.000000</td>\n",
       "      <td>125.260002</td>\n",
       "      <td>123.745003</td>\n",
       "      <td>125.050003</td>\n",
       "      <td>1834075.0</td>\n",
       "      <td>NTAP</td>\n",
       "      <td>NaN</td>\n",
       "    </tr>\n",
       "    <tr>\n",
       "      <th>336</th>\n",
       "      <td>2025-09-12</td>\n",
       "      <td>129.419998</td>\n",
       "      <td>130.440002</td>\n",
       "      <td>128.735001</td>\n",
       "      <td>129.089996</td>\n",
       "      <td>784077.0</td>\n",
       "      <td>NTRS</td>\n",
       "      <td>NaN</td>\n",
       "    </tr>\n",
       "    <tr>\n",
       "      <th>337</th>\n",
       "      <td>2025-09-12</td>\n",
       "      <td>141.350006</td>\n",
       "      <td>143.580002</td>\n",
       "      <td>141.270004</td>\n",
       "      <td>143.279999</td>\n",
       "      <td>737804.0</td>\n",
       "      <td>NUE</td>\n",
       "      <td>NaN</td>\n",
       "    </tr>\n",
       "    <tr>\n",
       "      <th>338</th>\n",
       "      <td>2025-09-12</td>\n",
       "      <td>177.820007</td>\n",
       "      <td>178.589996</td>\n",
       "      <td>176.449997</td>\n",
       "      <td>177.770004</td>\n",
       "      <td>121530793.0</td>\n",
       "      <td>NVDA</td>\n",
       "      <td>NaN</td>\n",
       "    </tr>\n",
       "    <tr>\n",
       "      <th>339</th>\n",
       "      <td>2025-09-12</td>\n",
       "      <td>8414.820312</td>\n",
       "      <td>8544.389648</td>\n",
       "      <td>8377.629883</td>\n",
       "      <td>8506.349609</td>\n",
       "      <td>15872.0</td>\n",
       "      <td>NVR</td>\n",
       "      <td>NaN</td>\n",
       "    </tr>\n",
       "    <tr>\n",
       "      <th>326</th>\n",
       "      <td>2025-09-12</td>\n",
       "      <td>71.639999</td>\n",
       "      <td>72.489998</td>\n",
       "      <td>70.809998</td>\n",
       "      <td>71.150002</td>\n",
       "      <td>9342890.0</td>\n",
       "      <td>NEE</td>\n",
       "      <td>NaN</td>\n",
       "    </tr>\n",
       "    <tr>\n",
       "      <th>0</th>\n",
       "      <td>2025-09-12</td>\n",
       "      <td>123.239998</td>\n",
       "      <td>126.529999</td>\n",
       "      <td>123.129997</td>\n",
       "      <td>126.449997</td>\n",
       "      <td>1250800.0</td>\n",
       "      <td>A</td>\n",
       "      <td>NaN</td>\n",
       "    </tr>\n",
       "  </tbody>\n",
       "</table>\n",
       "</div>"
      ]
     },
     "execution_count": 18,
     "metadata": {},
     "output_type": "execute_result"
    }
   ],
   "execution_count": 18
  },
  {
   "metadata": {
    "ExecuteTime": {
     "end_time": "2025-09-15T14:30:41.384906Z",
     "start_time": "2025-09-14T14:46:46.364697Z"
    }
   },
   "cell_type": "code",
   "source": "df_concat['Date'].max()",
   "id": "2fb50fac20b29100",
   "outputs": [
    {
     "data": {
      "text/plain": [
       "Timestamp('2025-09-12 00:00:00')"
      ]
     },
     "execution_count": 19,
     "metadata": {},
     "output_type": "execute_result"
    }
   ],
   "execution_count": 19
  },
  {
   "cell_type": "code",
   "id": "fc3ade3f-0c4a-4a1b-bcd5-8293c8818a65",
   "metadata": {
    "ExecuteTime": {
     "end_time": "2025-09-15T14:30:41.389416Z",
     "start_time": "2025-09-14T14:46:46.375820Z"
    }
   },
   "source": [
    "# Sauvegarder la DataFrame résultante dans un fichier CSV\n",
    "#data_SP500.to_csv('/Users/forget/PyCharmMiscProject/historical_data_S&P500_From_Wiki.csv')"
   ],
   "outputs": [],
   "execution_count": 20
  },
  {
   "metadata": {
    "ExecuteTime": {
     "end_time": "2025-09-15T14:30:41.391407Z",
     "start_time": "2025-09-14T14:51:51.235566Z"
    }
   },
   "cell_type": "code",
   "source": [
    "\"\"\"\n",
    "mask_1 = data_SP500[(data_SP500['Ticker'] == 'NVR') & (data_SP500['Date'] < '1993-10-01')]\n",
    "mask_2 = data_SP500[(data_SP500['Ticker'] == 'HUBB') & (data_SP500['Date'] < '1994-10-31')]\n",
    "mask_3 = data_SP500[(data_SP500['Date'] == '1984-12-31') & (data_SP500['Ticker'] == 'BEN')]\n",
    "\"\"\""
   ],
   "id": "5554fac36cbc425c",
   "outputs": [],
   "execution_count": 17
  },
  {
   "metadata": {
    "ExecuteTime": {
     "end_time": "2025-09-15T14:30:41.391529Z",
     "start_time": "2025-09-14T14:52:03.149221Z"
    }
   },
   "cell_type": "code",
   "source": [
    "\"\"\"\n",
    "idx_to_drop = mask_1.index.union(mask_2.index).union(mask_3.index)\n",
    "data_SP500 = data_SP500.drop(index=idx_to_drop).copy()\n",
    "\"\"\""
   ],
   "id": "3e44a0476c5466d",
   "outputs": [],
   "execution_count": 18
  },
  {
   "metadata": {
    "ExecuteTime": {
     "end_time": "2025-09-15T14:30:41.391586Z",
     "start_time": "2025-09-14T14:52:21.764890Z"
    }
   },
   "cell_type": "code",
   "source": "df_concat.to_parquet(\"/Users/forget/Library/Mobile Documents/com~apple~CloudDocs/Project Stock Market Deep Learning/Data/data_SP500.parquet\")",
   "id": "27b858f1805ff48d",
   "outputs": [],
   "execution_count": 20
  },
  {
   "metadata": {
    "ExecuteTime": {
     "end_time": "2025-09-15T14:30:41.391663Z",
     "start_time": "2025-09-14T14:46:46.973563Z"
    }
   },
   "cell_type": "code",
   "source": "data_SP500.sort_values(by='Date', ascending=True)",
   "id": "b867e3f09bf67cdd",
   "outputs": [
    {
     "data": {
      "text/plain": [
       "Price       Date       Close        High         Low        Open       Volume  \\\n",
       "0     2025-09-12  123.239998  126.525002  123.139999  126.449997     959590.0   \n",
       "338   2025-09-12  177.820007  178.589996  176.449997  177.770004  121530793.0   \n",
       "337   2025-09-12  141.350006  143.580002  141.270004  143.279999     737804.0   \n",
       "336   2025-09-12  129.419998  130.440002  128.735001  129.089996     784077.0   \n",
       "335   2025-09-12  124.000000  125.260002  123.745003  125.050003    1834075.0   \n",
       "..           ...         ...         ...         ...         ...          ...   \n",
       "158   2025-09-12  118.160004  121.019997  117.970001  120.769997    1967005.0   \n",
       "157   2025-09-12  135.100006  137.539993  135.029999  137.350006    1821855.0   \n",
       "156   2025-09-12   67.160004   67.730003   66.745003   67.410004    1631060.0   \n",
       "169   2025-09-12   77.570000   77.824997   76.489998   77.489998    5084666.0   \n",
       "495   2025-09-12  148.199997  150.050003  146.535004  149.645004    3111221.0   \n",
       "\n",
       "Price Ticker  Adj Close  \n",
       "0          A        NaN  \n",
       "338     NVDA        NaN  \n",
       "337      NUE        NaN  \n",
       "336     NTRS        NaN  \n",
       "335     NTAP        NaN  \n",
       "..       ...        ...  \n",
       "158      EOG        NaN  \n",
       "157      EMR        NaN  \n",
       "156      EMN        NaN  \n",
       "169       EW        NaN  \n",
       "495      ZTS        NaN  \n",
       "\n",
       "[496 rows x 8 columns]"
      ],
      "text/html": [
       "<div>\n",
       "<style scoped>\n",
       "    .dataframe tbody tr th:only-of-type {\n",
       "        vertical-align: middle;\n",
       "    }\n",
       "\n",
       "    .dataframe tbody tr th {\n",
       "        vertical-align: top;\n",
       "    }\n",
       "\n",
       "    .dataframe thead th {\n",
       "        text-align: right;\n",
       "    }\n",
       "</style>\n",
       "<table border=\"1\" class=\"dataframe\">\n",
       "  <thead>\n",
       "    <tr style=\"text-align: right;\">\n",
       "      <th>Price</th>\n",
       "      <th>Date</th>\n",
       "      <th>Close</th>\n",
       "      <th>High</th>\n",
       "      <th>Low</th>\n",
       "      <th>Open</th>\n",
       "      <th>Volume</th>\n",
       "      <th>Ticker</th>\n",
       "      <th>Adj Close</th>\n",
       "    </tr>\n",
       "  </thead>\n",
       "  <tbody>\n",
       "    <tr>\n",
       "      <th>0</th>\n",
       "      <td>2025-09-12</td>\n",
       "      <td>123.239998</td>\n",
       "      <td>126.525002</td>\n",
       "      <td>123.139999</td>\n",
       "      <td>126.449997</td>\n",
       "      <td>959590.0</td>\n",
       "      <td>A</td>\n",
       "      <td>NaN</td>\n",
       "    </tr>\n",
       "    <tr>\n",
       "      <th>338</th>\n",
       "      <td>2025-09-12</td>\n",
       "      <td>177.820007</td>\n",
       "      <td>178.589996</td>\n",
       "      <td>176.449997</td>\n",
       "      <td>177.770004</td>\n",
       "      <td>121530793.0</td>\n",
       "      <td>NVDA</td>\n",
       "      <td>NaN</td>\n",
       "    </tr>\n",
       "    <tr>\n",
       "      <th>337</th>\n",
       "      <td>2025-09-12</td>\n",
       "      <td>141.350006</td>\n",
       "      <td>143.580002</td>\n",
       "      <td>141.270004</td>\n",
       "      <td>143.279999</td>\n",
       "      <td>737804.0</td>\n",
       "      <td>NUE</td>\n",
       "      <td>NaN</td>\n",
       "    </tr>\n",
       "    <tr>\n",
       "      <th>336</th>\n",
       "      <td>2025-09-12</td>\n",
       "      <td>129.419998</td>\n",
       "      <td>130.440002</td>\n",
       "      <td>128.735001</td>\n",
       "      <td>129.089996</td>\n",
       "      <td>784077.0</td>\n",
       "      <td>NTRS</td>\n",
       "      <td>NaN</td>\n",
       "    </tr>\n",
       "    <tr>\n",
       "      <th>335</th>\n",
       "      <td>2025-09-12</td>\n",
       "      <td>124.000000</td>\n",
       "      <td>125.260002</td>\n",
       "      <td>123.745003</td>\n",
       "      <td>125.050003</td>\n",
       "      <td>1834075.0</td>\n",
       "      <td>NTAP</td>\n",
       "      <td>NaN</td>\n",
       "    </tr>\n",
       "    <tr>\n",
       "      <th>...</th>\n",
       "      <td>...</td>\n",
       "      <td>...</td>\n",
       "      <td>...</td>\n",
       "      <td>...</td>\n",
       "      <td>...</td>\n",
       "      <td>...</td>\n",
       "      <td>...</td>\n",
       "      <td>...</td>\n",
       "    </tr>\n",
       "    <tr>\n",
       "      <th>158</th>\n",
       "      <td>2025-09-12</td>\n",
       "      <td>118.160004</td>\n",
       "      <td>121.019997</td>\n",
       "      <td>117.970001</td>\n",
       "      <td>120.769997</td>\n",
       "      <td>1967005.0</td>\n",
       "      <td>EOG</td>\n",
       "      <td>NaN</td>\n",
       "    </tr>\n",
       "    <tr>\n",
       "      <th>157</th>\n",
       "      <td>2025-09-12</td>\n",
       "      <td>135.100006</td>\n",
       "      <td>137.539993</td>\n",
       "      <td>135.029999</td>\n",
       "      <td>137.350006</td>\n",
       "      <td>1821855.0</td>\n",
       "      <td>EMR</td>\n",
       "      <td>NaN</td>\n",
       "    </tr>\n",
       "    <tr>\n",
       "      <th>156</th>\n",
       "      <td>2025-09-12</td>\n",
       "      <td>67.160004</td>\n",
       "      <td>67.730003</td>\n",
       "      <td>66.745003</td>\n",
       "      <td>67.410004</td>\n",
       "      <td>1631060.0</td>\n",
       "      <td>EMN</td>\n",
       "      <td>NaN</td>\n",
       "    </tr>\n",
       "    <tr>\n",
       "      <th>169</th>\n",
       "      <td>2025-09-12</td>\n",
       "      <td>77.570000</td>\n",
       "      <td>77.824997</td>\n",
       "      <td>76.489998</td>\n",
       "      <td>77.489998</td>\n",
       "      <td>5084666.0</td>\n",
       "      <td>EW</td>\n",
       "      <td>NaN</td>\n",
       "    </tr>\n",
       "    <tr>\n",
       "      <th>495</th>\n",
       "      <td>2025-09-12</td>\n",
       "      <td>148.199997</td>\n",
       "      <td>150.050003</td>\n",
       "      <td>146.535004</td>\n",
       "      <td>149.645004</td>\n",
       "      <td>3111221.0</td>\n",
       "      <td>ZTS</td>\n",
       "      <td>NaN</td>\n",
       "    </tr>\n",
       "  </tbody>\n",
       "</table>\n",
       "<p>496 rows × 8 columns</p>\n",
       "</div>"
      ]
     },
     "execution_count": 24,
     "metadata": {},
     "output_type": "execute_result"
    }
   ],
   "execution_count": 24
  },
  {
   "metadata": {
    "ExecuteTime": {
     "end_time": "2025-09-15T14:30:41.391792Z",
     "start_time": "2025-09-14T14:46:46.984286Z"
    }
   },
   "cell_type": "code",
   "source": "a = data_SP500.copy()",
   "id": "5903367a0649e4ad",
   "outputs": [],
   "execution_count": 25
  },
  {
   "metadata": {
    "ExecuteTime": {
     "end_time": "2025-09-15T14:30:41.391863Z",
     "start_time": "2025-09-14T14:46:46.992079Z"
    }
   },
   "cell_type": "code",
   "source": "b = a[a['Ticker'] == 'BEN']",
   "id": "c323bd8dbbb022c8",
   "outputs": [],
   "execution_count": 26
  },
  {
   "metadata": {
    "ExecuteTime": {
     "end_time": "2025-09-15T14:30:41.391956Z",
     "start_time": "2025-09-14T14:46:46.997453Z"
    }
   },
   "cell_type": "code",
   "source": [
    "b = a[(a['Ticker'] == 'BEN') & (a['Date'] < '1985-02-01') & (a['Date'] > '1984-12-01')].sort_values('Date')\n",
    "b"
   ],
   "id": "6cef439176d3300",
   "outputs": [
    {
     "data": {
      "text/plain": [
       "Empty DataFrame\n",
       "Columns: [Date, Close, High, Low, Open, Volume, Ticker, Adj Close]\n",
       "Index: []"
      ],
      "text/html": [
       "<div>\n",
       "<style scoped>\n",
       "    .dataframe tbody tr th:only-of-type {\n",
       "        vertical-align: middle;\n",
       "    }\n",
       "\n",
       "    .dataframe tbody tr th {\n",
       "        vertical-align: top;\n",
       "    }\n",
       "\n",
       "    .dataframe thead th {\n",
       "        text-align: right;\n",
       "    }\n",
       "</style>\n",
       "<table border=\"1\" class=\"dataframe\">\n",
       "  <thead>\n",
       "    <tr style=\"text-align: right;\">\n",
       "      <th>Price</th>\n",
       "      <th>Date</th>\n",
       "      <th>Close</th>\n",
       "      <th>High</th>\n",
       "      <th>Low</th>\n",
       "      <th>Open</th>\n",
       "      <th>Volume</th>\n",
       "      <th>Ticker</th>\n",
       "      <th>Adj Close</th>\n",
       "    </tr>\n",
       "  </thead>\n",
       "  <tbody>\n",
       "  </tbody>\n",
       "</table>\n",
       "</div>"
      ]
     },
     "execution_count": 27,
     "metadata": {},
     "output_type": "execute_result"
    }
   ],
   "execution_count": 27
  },
  {
   "metadata": {
    "ExecuteTime": {
     "end_time": "2025-09-15T14:30:41.392045Z",
     "start_time": "2025-09-14T14:46:47.020593Z"
    }
   },
   "cell_type": "code",
   "source": [
    "import matplotlib.pyplot as plt\n",
    "\n",
    "x = b['Date']\n",
    "y = b['Close']\n",
    "plt.figure(figsize=(20, 10))\n",
    "plt.scatter(x, y, s=1)"
   ],
   "id": "23e518ae5dddc4bc",
   "outputs": [
    {
     "data": {
      "text/plain": [
       "<matplotlib.collections.PathCollection at 0x11d9cf620>"
      ]
     },
     "execution_count": 28,
     "metadata": {},
     "output_type": "execute_result"
    },
    {
     "data": {
      "text/plain": [
       "<Figure size 2000x1000 with 1 Axes>"
      ],
      "image/png": "[encoded data removed]"
     },
     "metadata": {},
     "output_type": "display_data"
    }
   ],
   "execution_count": 28
  },
  {
   "metadata": {
    "ExecuteTime": {
     "end_time": "2025-09-15T14:30:41.392126Z",
     "start_time": "2025-09-14T14:46:47.334337Z"
    }
   },
   "cell_type": "code",
   "source": "",
   "id": "3e4c7bacfb4707fe",
   "outputs": [],
   "execution_count": null
  }
 ],
 "metadata": {
  "kernelspec": {
   "display_name": "Python 3 (ipykernel)",
   "language": "python",
   "name": "python3"
  },
  "language_info": {
   "codemirror_mode": {
    "name": "ipython",
    "version": 3
   },
   "file_extension": ".py",
   "mimetype": "text/x-python",
   "name": "python",
   "nbconvert_exporter": "python",
   "pygments_lexer": "ipython3",
   "version": "3.12.4"
  }
 },
 "nbformat": 4,
 "nbformat_minor": 5
}
