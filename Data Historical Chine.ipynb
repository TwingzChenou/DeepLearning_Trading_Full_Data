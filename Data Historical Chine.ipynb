{
 "cells": [
  {
   "cell_type": "code",
   "id": "initial_id",
   "metadata": {
    "collapsed": true,
    "ExecuteTime": {
     "end_time": "2025-09-17T16:39:39.215769Z",
     "start_time": "2025-09-17T16:39:38.800462Z"
    }
   },
   "source": [
    "import pandas as pd\n",
    "import financedatabase as fd\n",
    "import yfinance as yf"
   ],
   "outputs": [],
   "execution_count": 1
  },
  {
   "metadata": {
    "ExecuteTime": {
     "end_time": "2025-09-17T16:39:40.096767Z",
     "start_time": "2025-09-17T16:39:39.736712Z"
    }
   },
   "cell_type": "code",
   "source": "fd.show_options(\"equities\")",
   "id": "997e7f70fb5ca98a",
   "outputs": [
    {
     "data": {
      "text/plain": [
       "{'currency': array(['ARS', 'AUD', 'BRL', 'CAD', 'CHF', 'CLP', 'CNY', 'COP', 'CZK',\n",
       "        'DKK', 'EUR', 'GBP', 'HKD', 'HUF', 'IDR', 'ILA', 'ILS', 'INR',\n",
       "        'ISK', 'JPY', 'KES', 'KRW', 'LKR', 'MXN', 'MYR', 'NOK', 'NZD',\n",
       "        'PEN', 'PHP', 'PLN', 'QAR', 'RUB', 'SAR', 'SEK', 'SGD', 'THB',\n",
       "        'TRY', 'TWD', 'USD', 'ZAC', 'ZAR'], dtype=object),\n",
       " 'sector': array(['Communication Services', 'Consumer Discretionary',\n",
       "        'Consumer Staples', 'Energy', 'Financials', 'Health Care',\n",
       "        'Industrials', 'Information Technology', 'Materials',\n",
       "        'Real Estate', 'Utilities'], dtype=object),\n",
       " 'industry_group': array(['Automobiles & Components', 'Banks', 'Capital Goods',\n",
       "        'Commercial & Professional Services',\n",
       "        'Consumer Durables & Apparel', 'Consumer Services',\n",
       "        'Diversified Financials', 'Energy', 'Food & Staples Retailing',\n",
       "        'Food, Beverage & Tobacco', 'Health Care Equipment & Services',\n",
       "        'Household & Personal Products', 'Insurance', 'Materials',\n",
       "        'Media & Entertainment',\n",
       "        'Pharmaceuticals, Biotechnology & Life Sciences', 'Real Estate',\n",
       "        'Retailing', 'Semiconductors & Semiconductor Equipment',\n",
       "        'Software & Services', 'Technology Hardware & Equipment',\n",
       "        'Telecommunication Services', 'Transportation', 'Utilities'],\n",
       "       dtype=object),\n",
       " 'industry': array(['Aerospace & Defense', 'Air Freight & Logistics', 'Airlines',\n",
       "        'Auto Components', 'Automobiles', 'Banks', 'Beverages',\n",
       "        'Biotechnology', 'Building Products', 'Capital Markets',\n",
       "        'Chemicals', 'Commercial Services & Supplies',\n",
       "        'Communications Equipment', 'Construction & Engineering',\n",
       "        'Construction Materials', 'Consumer Finance', 'Distributors',\n",
       "        'Diversified Consumer Services', 'Diversified Financial Services',\n",
       "        'Diversified Telecommunication Services', 'Electric Utilities',\n",
       "        'Electrical Equipment',\n",
       "        'Electronic Equipment, Instruments & Components',\n",
       "        'Energy Equipment & Services', 'Entertainment',\n",
       "        'Equity Real Estate Investment Trusts (REITs)',\n",
       "        'Food & Staples Retailing', 'Food Products', 'Gas Utilities',\n",
       "        'Health Care Equipment & Supplies',\n",
       "        'Health Care Providers & Services', 'Health Care Technology',\n",
       "        'Hotels, Restaurants & Leisure', 'Household Durables',\n",
       "        'Household Products', 'IT Services',\n",
       "        'Independent Power and Renewable Electricity Producers',\n",
       "        'Industrial Conglomerates', 'Insurance',\n",
       "        'Interactive Media & Services',\n",
       "        'Internet & Direct Marketing Retail', 'Machinery', 'Marine',\n",
       "        'Media', 'Metals & Mining', 'Multi-Utilities',\n",
       "        'Oil, Gas & Consumable Fuels', 'Paper & Forest Products',\n",
       "        'Pharmaceuticals', 'Professional Services',\n",
       "        'Real Estate Management & Development', 'Road & Rail',\n",
       "        'Semiconductors & Semiconductor Equipment', 'Software',\n",
       "        'Specialty Retail', 'Technology Hardware, Storage & Peripherals',\n",
       "        'Textiles, Apparel & Luxury Goods', 'Thrifts & Mortgage Finance',\n",
       "        'Tobacco', 'Trading Companies & Distributors',\n",
       "        'Transportation Infrastructure', 'Water Utilities'], dtype=object),\n",
       " 'exchange': array(['AMS', 'AQS', 'ASE', 'ASX', 'ATH', 'BER', 'BRU', 'BSE', 'BTS',\n",
       "        'BUD', 'BUE', 'CAI', 'CCS', 'CNQ', 'CPH', 'CSE', 'DOH', 'DUS',\n",
       "        'EBS', 'ENX', 'FKA', 'FRA', 'GER', 'HAM', 'HAN', 'HEL', 'HKG',\n",
       "        'ICE', 'IOB', 'ISE', 'IST', 'JKT', 'JNB', 'JPX', 'KLS', 'KOE',\n",
       "        'KSC', 'LIS', 'LIT', 'LSE', 'MCE', 'MCX', 'MEX', 'MIL', 'MUN',\n",
       "        'NAE', 'NAS', 'NCM', 'NEO', 'NGM', 'NMS', 'NSE', 'NSI', 'NYQ',\n",
       "        'NYS', 'NZE', 'OBB', 'OSL', 'PAR', 'PCX', 'PNK', 'PRA', 'RIS',\n",
       "        'SAO', 'SAP', 'SAT', 'SAU', 'SES', 'SET', 'SGO', 'SHH', 'SHZ',\n",
       "        'STO', 'STU', 'TAI', 'TAL', 'TLO', 'TLV', 'TOR', 'TWO', 'VAN',\n",
       "        'VIE'], dtype=object),\n",
       " 'market': array(['Aequitas NEO Exchange (Lit Book)', 'Aktie Torget',\n",
       "        'Aquis Exchange', 'Athens Stock Exchange',\n",
       "        'Australian Securities Exchange', 'BATS BZX Exchange', 'BSE India',\n",
       "        'BX Worldcaps', 'Berlin Stock Exchange',\n",
       "        'Bolsa De Valores De Caracas',\n",
       "        'Bolsa de Comercio de Santiago de Chile', 'Borsa Istanbul',\n",
       "        'Borsa Italiana', 'Bovespa Soma', 'Budapest Stock Exchange',\n",
       "        'Buenos Aires Mercato De Valores', 'Bursa Malaysia',\n",
       "        'Canadian Securities Exchange', 'Dusseldorf Stock Exchange',\n",
       "        'Egyptian Exchange', 'EuroTLX', 'Euronext', 'Euronext Amsterdam',\n",
       "        'Euronext Brussels', 'Euronext Lisbon', 'Euronext Paris',\n",
       "        'First North Copenhagen', 'First North Iceland',\n",
       "        'Frankfurt Stock Exchange', 'Fukuoka Stock Exchange',\n",
       "        'Hamburg Stock Exchange', 'Hanover Stock Exchange',\n",
       "        'Hong Kong Stock Exchange', 'Indonesia Stock Exchange',\n",
       "        'Irish Stock Exchange', 'Johannesburg Stock Exchange', 'KONEX',\n",
       "        'KOSPI Stock Market', 'London Stock Exchange (OTC and ITR)',\n",
       "        'London Stock Exchange (international)',\n",
       "        'Metropolitan Stock Exchange', 'Mexico Stock Exchange',\n",
       "        'Moscow Exchange - MICEX', 'Munich Stock Exchange',\n",
       "        'NASDAQ Capital Market', 'NASDAQ Global Select',\n",
       "        'NASDAQ OMX Helsinki', 'NASDAQ OMX Riga', 'NASDAQ OMX Stockholm',\n",
       "        'NASDAQ OMX Tallinn', 'NASDAQ OMX Vilnius', 'NYSE Arca',\n",
       "        'NYSE MKT', 'Nasdaq Copenhagen',\n",
       "        'National Stock Exchange of India', 'New York Stock Exchange',\n",
       "        'New Zealand Exchange', 'Nordic Growth Market',\n",
       "        'OTC Bulletin Board', 'Oslo Bors', 'Prague Stock Exchange',\n",
       "        'Qatar Exchange', 'Sapporo Securities Exchange',\n",
       "        'Saudi Arabian Stock Exchange', 'Shanghai Stock Exchange',\n",
       "        'Shenzhen Stock Exchange', 'Singapore Exchange',\n",
       "        'Sociedad de Bolsas (SIBE)', 'Stuttgart Stock Exchange',\n",
       "        'TSX Toronto Exchange', 'TSX Venture Exchange',\n",
       "        'Taiwan Stock Exchange', 'Tel Aviv Stock Exchange',\n",
       "        'The Stock Exchange of Thailand', 'Tokyo Stock Exchange',\n",
       "        'Vienna Stock Exchange', 'XETRA', 'us24_market', 'us_market'],\n",
       "       dtype=object),\n",
       " 'country': array(['Afghanistan', 'Anguilla', 'Argentina', 'Australia', 'Austria',\n",
       "        'Azerbaijan', 'Bahamas', 'Bangladesh', 'Barbados', 'Belgium',\n",
       "        'Belize', 'Bermuda', 'Botswana', 'Brazil',\n",
       "        'British Virgin Islands', 'Cambodia', 'Canada', 'Cayman Islands',\n",
       "        'Chile', 'China', 'Colombia', 'Costa Rica', 'Cyprus',\n",
       "        'Czech Republic', 'Denmark', 'Dominican Republic', 'Egypt',\n",
       "        'Estonia', 'Falkland Islands', 'Finland', 'France',\n",
       "        'French Guiana', 'Gabon', 'Georgia', 'Germany', 'Ghana',\n",
       "        'Gibraltar', 'Greece', 'Greenland', 'Guernsey', 'Hong Kong',\n",
       "        'Hungary', 'Iceland', 'India', 'Indonesia', 'Ireland',\n",
       "        'Isle of Man', 'Israel', 'Italy', 'Ivory Coast', 'Japan', 'Jersey',\n",
       "        'Jordan', 'Kazakhstan', 'Kenya', 'Kyrgyzstan', 'Latvia',\n",
       "        'Liechtenstein', 'Lithuania', 'Luxembourg', 'Macau', 'Macedonia',\n",
       "        'Malaysia', 'Malta', 'Mauritius', 'Mexico', 'Monaco', 'Mongolia',\n",
       "        'Montenegro', 'Morocco', 'Mozambique', 'Myanmar', 'Namibia',\n",
       "        'Netherlands', 'Netherlands Antilles', 'New Zealand', 'Nigeria',\n",
       "        'Norway', 'Panama', 'Papua New Guinea', 'Peru', 'Philippines',\n",
       "        'Poland', 'Portugal', 'Qatar', 'Reunion', 'Romania', 'Russia',\n",
       "        'Saudi Arabia', 'Senegal', 'Singapore', 'Slovakia', 'Slovenia',\n",
       "        'South Africa', 'South Korea', 'Spain', 'Suriname', 'Sweden',\n",
       "        'Switzerland', 'Taiwan', 'Tanzania', 'Thailand', 'Turkey',\n",
       "        'U.S. Virgin Islands', 'Ukraine', 'United Arab Emirates',\n",
       "        'United Kingdom', 'United States', 'Uruguay', 'Vietnam', 'Zambia'],\n",
       "       dtype=object),\n",
       " 'state': array(['AB', 'ACT', 'AK', 'AL', 'AM', 'AN', 'AP', 'AR', 'AV', 'AZ', 'BA',\n",
       "        'BC', 'BG', 'BI', 'BJ', 'BL', 'BO', 'BS', 'CA', 'CE', 'CI', 'CO',\n",
       "        'CT', 'CU', 'DC', 'DE', 'DF', 'EM', 'ES', 'FE', 'FI', 'FL', 'FO',\n",
       "        'FR', 'GA', 'GE', 'GJ', 'GO', 'GU', 'Gujarat', 'HI', 'IA', 'ID',\n",
       "        'IL', 'IN', 'JA', 'KS', 'KY', 'LA', 'LC', 'LT', 'LU', 'MA', 'MB',\n",
       "        'MD', 'ME', 'MG', 'MH', 'MI', 'MN', 'MO', 'MS', 'MT', 'NB', 'NC',\n",
       "        'ND', 'NE', 'NF', 'NH', 'NJ', 'NL', 'NM', 'NS', 'NSW', 'NT', 'NU',\n",
       "        'NV', 'NY', 'OH', 'OK', 'ON', 'OR', 'PA', 'PD', 'PE', 'PG', 'PI',\n",
       "        'PR', 'PS', 'PV', 'QC', 'QLD', 'QR', 'RA', 'RE', 'RI', 'RJ', 'RM',\n",
       "        'RN', 'RS', 'SA', 'SC', 'SD', 'SE', 'SI', 'SK', 'SO', 'SP', 'TAS',\n",
       "        'TN', 'TO', 'TR', 'TS', 'TV', 'TX', 'UD', 'UT', 'VA', 'VC', 'VE',\n",
       "        'VI', 'VIC', 'VR', 'VT', 'WA', 'WI', 'WV', 'WY', 'YT'],\n",
       "       dtype=object),\n",
       " 'city': array([\"'s-Hertogenbosch\", '6th of October', 'Aabenraa', ...,\n",
       "        'a¬Ä¬òs-Hertogenbosch', 'tacheng', '√É¬çlhavo'],\n",
       "       shape=(5724,), dtype=object),\n",
       " 'zipcode': array(['00-105', '00-116', '00-124', ..., 'YO8 8PH', 'Z05T1X3', 'v4B 3L1'],\n",
       "       shape=(16276,), dtype=object),\n",
       " 'market_cap': array(['Large Cap', 'Mega Cap', 'Micro Cap', 'Mid Cap', 'Nano Cap',\n",
       "        'Small Cap'], dtype=object),\n",
       " 'isin': array(['AN8068571086', 'ANN4327C1220', 'AT000000STR1', ...,\n",
       "        'ZAE000265971', 'ZAE000296554', 'ZAE000298253'],\n",
       "       shape=(8962,), dtype=object),\n",
       " 'cusip': array(['00089H106', '00090Q103', '00108J109', ..., '99406100', '99501108',\n",
       "        '99502106'], shape=(2459,), dtype=object),\n",
       " 'figi': array(['#REF!', 'BBG000B9XKF0', 'BBG000B9XZV9', ..., 'BBG01FC8CFV3',\n",
       "        'BBG01FPC3G48', 'BBG01FRH5MP7'], shape=(25103,), dtype=object),\n",
       " 'composite_figi': array(['BBG000B9WX45', 'BBG000B9XG87', 'BBG000B9XRY4', ...,\n",
       "        'BBG01FC8CFN2', 'BBG01FP5R015', 'BBG01FRH5MK2'],\n",
       "       shape=(12389,), dtype=object),\n",
       " 'shareclass_figi': array(['BBG001S112S8', 'BBG001S112X2', 'BBG001S112Y1', ...,\n",
       "        'BBG01CCBKDK1', 'BBG01FP5R033', 'BBG01FRH5ND8'],\n",
       "       shape=(7463,), dtype=object)}"
      ]
     },
     "execution_count": 2,
     "metadata": {},
     "output_type": "execute_result"
    }
   ],
   "execution_count": 2
  },
  {
   "metadata": {
    "ExecuteTime": {
     "end_time": "2025-09-17T16:39:42.527038Z",
     "start_time": "2025-09-17T16:39:40.453856Z"
    }
   },
   "cell_type": "code",
   "source": [
    "equities = fd.Equities()\n",
    "df = equities.select()\n"
   ],
   "id": "978eca49fbffe76c",
   "outputs": [],
   "execution_count": 3
  },
  {
   "metadata": {
    "ExecuteTime": {
     "end_time": "2025-09-17T16:39:42.657600Z",
     "start_time": "2025-09-17T16:39:42.531941Z"
    }
   },
   "cell_type": "code",
   "source": [
    "LargeCap_Chine = pd.DataFrame()\n",
    "\n",
    "LargeCap_Chine = equities.select(market=\"Shenzhen Stock Exchange\",\n",
    "                market_cap=[\"Large Cap\"])\n",
    "LargeCap_Chine.index = LargeCap_Chine.index.str.replace(\" \", \"\", regex=False)\n",
    "LargeCap_Chine"
   ],
   "id": "d2f25450628148c7",
   "outputs": [
    {
     "data": {
      "text/plain": [
       "                                                        name  \\\n",
       "symbol                                                         \n",
       "000002.SZ                              China Vanke Co., Ltd.   \n",
       "000063.SZ                                    ZTE Corporation   \n",
       "000157.SZ  Zoomlion Heavy Industry Science and Technology...   \n",
       "000166.SZ                   Shenwan Hongyuan Group Co., Ltd.   \n",
       "000301.SZ                Jiangsu Eastern Shenghong Co., Ltd.   \n",
       "...                                                      ...   \n",
       "300782.SZ          Maxscend Microelectronics Company Limited   \n",
       "300896.SZ              Imeik Technology Development Co.,Ltd.   \n",
       "300919.SZ                    CNGR Advanced Material Co.,Ltd.   \n",
       "300957.SZ         Yunnan Botanee Bio-Technology Group Co.LTD   \n",
       "300999.SZ              Yihai Kerry Arawana Holdings Co., Ltd   \n",
       "\n",
       "                                                     summary currency  \\\n",
       "symbol                                                                  \n",
       "000002.SZ  China Vanke Co., Ltd., together with its subsi...      CNY   \n",
       "000063.SZ  ZTE Corporation provides integrated telecommun...      CNY   \n",
       "000157.SZ  Zoomlion Heavy Industry Science and Technology...      CNY   \n",
       "000166.SZ  Shenwan Hongyuan Group Co., Ltd. provides vari...      CNY   \n",
       "000301.SZ  Jiangsu Eastern Shenghong Co., Ltd. engages in...      CNY   \n",
       "...                                                      ...      ...   \n",
       "300782.SZ  Maxscend Microelectronics Company Limited deve...      CNY   \n",
       "300896.SZ  Imeik Technology Development Co.,Ltd focuses o...      CNY   \n",
       "300919.SZ  CNGR Advanced Material Co.,Ltd. engages in the...      CNY   \n",
       "300957.SZ  Yunnan Botanee Bio-Technology Group Co.LTD man...      CNY   \n",
       "300999.SZ  Yihai Kerry Arawana Holdings Co., Ltd engages ...      CNY   \n",
       "\n",
       "                           sector  \\\n",
       "symbol                              \n",
       "000002.SZ             Real Estate   \n",
       "000063.SZ  Information Technology   \n",
       "000157.SZ             Industrials   \n",
       "000166.SZ              Financials   \n",
       "000301.SZ  Consumer Discretionary   \n",
       "...                           ...   \n",
       "300782.SZ  Information Technology   \n",
       "300896.SZ             Health Care   \n",
       "300919.SZ               Materials   \n",
       "300957.SZ             Health Care   \n",
       "300999.SZ        Consumer Staples   \n",
       "\n",
       "                                           industry_group  \\\n",
       "symbol                                                      \n",
       "000002.SZ                                     Real Estate   \n",
       "000063.SZ                 Technology Hardware & Equipment   \n",
       "000157.SZ                                   Capital Goods   \n",
       "000166.SZ                          Diversified Financials   \n",
       "000301.SZ                     Consumer Durables & Apparel   \n",
       "...                                                   ...   \n",
       "300782.SZ        Semiconductors & Semiconductor Equipment   \n",
       "300896.SZ                Health Care Equipment & Services   \n",
       "300919.SZ                                       Materials   \n",
       "300957.SZ  Pharmaceuticals, Biotechnology & Life Sciences   \n",
       "300999.SZ                        Food & Staples Retailing   \n",
       "\n",
       "                                           industry exchange  \\\n",
       "symbol                                                         \n",
       "000002.SZ      Real Estate Management & Development      SHZ   \n",
       "000063.SZ                  Communications Equipment      SHZ   \n",
       "000157.SZ                                 Machinery      SHZ   \n",
       "000166.SZ                           Capital Markets      SHZ   \n",
       "000301.SZ          Textiles, Apparel & Luxury Goods      SHZ   \n",
       "...                                             ...      ...   \n",
       "300782.SZ  Semiconductors & Semiconductor Equipment      SHZ   \n",
       "300896.SZ          Health Care Equipment & Supplies      SHZ   \n",
       "300919.SZ                                 Chemicals      SHZ   \n",
       "300957.SZ                             Biotechnology      SHZ   \n",
       "300999.SZ                  Food & Staples Retailing      SHZ   \n",
       "\n",
       "                            market country state      city zipcode  \\\n",
       "symbol                                                               \n",
       "000002.SZ  Shenzhen Stock Exchange   China   NaN  Shenzhen  518083   \n",
       "000063.SZ  Shenzhen Stock Exchange   China   NaN  Shenzhen  518057   \n",
       "000157.SZ  Shenzhen Stock Exchange   China   NaN  Changsha  410013   \n",
       "000166.SZ  Shenzhen Stock Exchange   China   NaN    Urumqi  830011   \n",
       "000301.SZ  Shenzhen Stock Exchange   China   NaN    Suzhou     NaN   \n",
       "...                            ...     ...   ...       ...     ...   \n",
       "300782.SZ  Shenzhen Stock Exchange   China   NaN      Wuxi  214072   \n",
       "300896.SZ  Shenzhen Stock Exchange   China   NaN   Beijing  100022   \n",
       "300919.SZ  Shenzhen Stock Exchange   China   NaN   Tongren  554001   \n",
       "300957.SZ  Shenzhen Stock Exchange   China   NaN   Kunming  650106   \n",
       "300999.SZ  Shenzhen Stock Exchange   China   NaN  Shanghai     NaN   \n",
       "\n",
       "                                website market_cap          isin cusip figi  \\\n",
       "symbol                                                                        \n",
       "000002.SZ          http://www.vanke.com  Large Cap  CNE100001SR9   NaN  NaN   \n",
       "000063.SZ         http://www.zte.com.cn  Large Cap           NaN   NaN  NaN   \n",
       "000157.SZ       http://www.zoomlion.com  Large Cap           NaN   NaN  NaN   \n",
       "000166.SZ         http://www.swhygh.com  Large Cap  CNE100003K53   NaN  NaN   \n",
       "000301.SZ        http://www.cesm.com.cn  Large Cap           NaN   NaN  NaN   \n",
       "...                                 ...        ...           ...   ...  ...   \n",
       "300782.SZ       http://www.maxscend.com  Large Cap           NaN   NaN  NaN   \n",
       "300896.SZ          http://www.imeik.net  Large Cap           NaN   NaN  NaN   \n",
       "300919.SZ      http://www.cngrgf.com.cn  Large Cap           NaN   NaN  NaN   \n",
       "300957.SZ     http://www.botanee.com.cn  Large Cap           NaN   NaN  NaN   \n",
       "300999.SZ  http://www.yihaikerry.net.cn  Large Cap           NaN   NaN  NaN   \n",
       "\n",
       "          composite_figi shareclass_figi  \n",
       "symbol                                    \n",
       "000002.SZ            NaN             NaN  \n",
       "000063.SZ            NaN             NaN  \n",
       "000157.SZ            NaN             NaN  \n",
       "000166.SZ            NaN             NaN  \n",
       "000301.SZ            NaN             NaN  \n",
       "...                  ...             ...  \n",
       "300782.SZ            NaN             NaN  \n",
       "300896.SZ            NaN             NaN  \n",
       "300919.SZ            NaN             NaN  \n",
       "300957.SZ            NaN             NaN  \n",
       "300999.SZ            NaN             NaN  \n",
       "\n",
       "[78 rows x 19 columns]"
      ],
      "text/html": [
       "<div>\n",
       "<style scoped>\n",
       "    .dataframe tbody tr th:only-of-type {\n",
       "        vertical-align: middle;\n",
       "    }\n",
       "\n",
       "    .dataframe tbody tr th {\n",
       "        vertical-align: top;\n",
       "    }\n",
       "\n",
       "    .dataframe thead th {\n",
       "        text-align: right;\n",
       "    }\n",
       "</style>\n",
       "<table border=\"1\" class=\"dataframe\">\n",
       "  <thead>\n",
       "    <tr style=\"text-align: right;\">\n",
       "      <th></th>\n",
       "      <th>name</th>\n",
       "      <th>summary</th>\n",
       "      <th>currency</th>\n",
       "      <th>sector</th>\n",
       "      <th>industry_group</th>\n",
       "      <th>industry</th>\n",
       "      <th>exchange</th>\n",
       "      <th>market</th>\n",
       "      <th>country</th>\n",
       "      <th>state</th>\n",
       "      <th>city</th>\n",
       "      <th>zipcode</th>\n",
       "      <th>website</th>\n",
       "      <th>market_cap</th>\n",
       "      <th>isin</th>\n",
       "      <th>cusip</th>\n",
       "      <th>figi</th>\n",
       "      <th>composite_figi</th>\n",
       "      <th>shareclass_figi</th>\n",
       "    </tr>\n",
       "    <tr>\n",
       "      <th>symbol</th>\n",
       "      <th></th>\n",
       "      <th></th>\n",
       "      <th></th>\n",
       "      <th></th>\n",
       "      <th></th>\n",
       "      <th></th>\n",
       "      <th></th>\n",
       "      <th></th>\n",
       "      <th></th>\n",
       "      <th></th>\n",
       "      <th></th>\n",
       "      <th></th>\n",
       "      <th></th>\n",
       "      <th></th>\n",
       "      <th></th>\n",
       "      <th></th>\n",
       "      <th></th>\n",
       "      <th></th>\n",
       "      <th></th>\n",
       "    </tr>\n",
       "  </thead>\n",
       "  <tbody>\n",
       "    <tr>\n",
       "      <th>000002.SZ</th>\n",
       "      <td>China Vanke Co., Ltd.</td>\n",
       "      <td>China Vanke Co., Ltd., together with its subsi...</td>\n",
       "      <td>CNY</td>\n",
       "      <td>Real Estate</td>\n",
       "      <td>Real Estate</td>\n",
       "      <td>Real Estate Management &amp; Development</td>\n",
       "      <td>SHZ</td>\n",
       "      <td>Shenzhen Stock Exchange</td>\n",
       "      <td>China</td>\n",
       "      <td>NaN</td>\n",
       "      <td>Shenzhen</td>\n",
       "      <td>518083</td>\n",
       "      <td>http://www.vanke.com</td>\n",
       "      <td>Large Cap</td>\n",
       "      <td>CNE100001SR9</td>\n",
       "      <td>NaN</td>\n",
       "      <td>NaN</td>\n",
       "      <td>NaN</td>\n",
       "      <td>NaN</td>\n",
       "    </tr>\n",
       "    <tr>\n",
       "      <th>000063.SZ</th>\n",
       "      <td>ZTE Corporation</td>\n",
       "      <td>ZTE Corporation provides integrated telecommun...</td>\n",
       "      <td>CNY</td>\n",
       "      <td>Information Technology</td>\n",
       "      <td>Technology Hardware &amp; Equipment</td>\n",
       "      <td>Communications Equipment</td>\n",
       "      <td>SHZ</td>\n",
       "      <td>Shenzhen Stock Exchange</td>\n",
       "      <td>China</td>\n",
       "      <td>NaN</td>\n",
       "      <td>Shenzhen</td>\n",
       "      <td>518057</td>\n",
       "      <td>http://www.zte.com.cn</td>\n",
       "      <td>Large Cap</td>\n",
       "      <td>NaN</td>\n",
       "      <td>NaN</td>\n",
       "      <td>NaN</td>\n",
       "      <td>NaN</td>\n",
       "      <td>NaN</td>\n",
       "    </tr>\n",
       "    <tr>\n",
       "      <th>000157.SZ</th>\n",
       "      <td>Zoomlion Heavy Industry Science and Technology...</td>\n",
       "      <td>Zoomlion Heavy Industry Science and Technology...</td>\n",
       "      <td>CNY</td>\n",
       "      <td>Industrials</td>\n",
       "      <td>Capital Goods</td>\n",
       "      <td>Machinery</td>\n",
       "      <td>SHZ</td>\n",
       "      <td>Shenzhen Stock Exchange</td>\n",
       "      <td>China</td>\n",
       "      <td>NaN</td>\n",
       "      <td>Changsha</td>\n",
       "      <td>410013</td>\n",
       "      <td>http://www.zoomlion.com</td>\n",
       "      <td>Large Cap</td>\n",
       "      <td>NaN</td>\n",
       "      <td>NaN</td>\n",
       "      <td>NaN</td>\n",
       "      <td>NaN</td>\n",
       "      <td>NaN</td>\n",
       "    </tr>\n",
       "    <tr>\n",
       "      <th>000166.SZ</th>\n",
       "      <td>Shenwan Hongyuan Group Co., Ltd.</td>\n",
       "      <td>Shenwan Hongyuan Group Co., Ltd. provides vari...</td>\n",
       "      <td>CNY</td>\n",
       "      <td>Financials</td>\n",
       "      <td>Diversified Financials</td>\n",
       "      <td>Capital Markets</td>\n",
       "      <td>SHZ</td>\n",
       "      <td>Shenzhen Stock Exchange</td>\n",
       "      <td>China</td>\n",
       "      <td>NaN</td>\n",
       "      <td>Urumqi</td>\n",
       "      <td>830011</td>\n",
       "      <td>http://www.swhygh.com</td>\n",
       "      <td>Large Cap</td>\n",
       "      <td>CNE100003K53</td>\n",
       "      <td>NaN</td>\n",
       "      <td>NaN</td>\n",
       "      <td>NaN</td>\n",
       "      <td>NaN</td>\n",
       "    </tr>\n",
       "    <tr>\n",
       "      <th>000301.SZ</th>\n",
       "      <td>Jiangsu Eastern Shenghong Co., Ltd.</td>\n",
       "      <td>Jiangsu Eastern Shenghong Co., Ltd. engages in...</td>\n",
       "      <td>CNY</td>\n",
       "      <td>Consumer Discretionary</td>\n",
       "      <td>Consumer Durables &amp; Apparel</td>\n",
       "      <td>Textiles, Apparel &amp; Luxury Goods</td>\n",
       "      <td>SHZ</td>\n",
       "      <td>Shenzhen Stock Exchange</td>\n",
       "      <td>China</td>\n",
       "      <td>NaN</td>\n",
       "      <td>Suzhou</td>\n",
       "      <td>NaN</td>\n",
       "      <td>http://www.cesm.com.cn</td>\n",
       "      <td>Large Cap</td>\n",
       "      <td>NaN</td>\n",
       "      <td>NaN</td>\n",
       "      <td>NaN</td>\n",
       "      <td>NaN</td>\n",
       "      <td>NaN</td>\n",
       "    </tr>\n",
       "    <tr>\n",
       "      <th>...</th>\n",
       "      <td>...</td>\n",
       "      <td>...</td>\n",
       "      <td>...</td>\n",
       "      <td>...</td>\n",
       "      <td>...</td>\n",
       "      <td>...</td>\n",
       "      <td>...</td>\n",
       "      <td>...</td>\n",
       "      <td>...</td>\n",
       "      <td>...</td>\n",
       "      <td>...</td>\n",
       "      <td>...</td>\n",
       "      <td>...</td>\n",
       "      <td>...</td>\n",
       "      <td>...</td>\n",
       "      <td>...</td>\n",
       "      <td>...</td>\n",
       "      <td>...</td>\n",
       "      <td>...</td>\n",
       "    </tr>\n",
       "    <tr>\n",
       "      <th>300782.SZ</th>\n",
       "      <td>Maxscend Microelectronics Company Limited</td>\n",
       "      <td>Maxscend Microelectronics Company Limited deve...</td>\n",
       "      <td>CNY</td>\n",
       "      <td>Information Technology</td>\n",
       "      <td>Semiconductors &amp; Semiconductor Equipment</td>\n",
       "      <td>Semiconductors &amp; Semiconductor Equipment</td>\n",
       "      <td>SHZ</td>\n",
       "      <td>Shenzhen Stock Exchange</td>\n",
       "      <td>China</td>\n",
       "      <td>NaN</td>\n",
       "      <td>Wuxi</td>\n",
       "      <td>214072</td>\n",
       "      <td>http://www.maxscend.com</td>\n",
       "      <td>Large Cap</td>\n",
       "      <td>NaN</td>\n",
       "      <td>NaN</td>\n",
       "      <td>NaN</td>\n",
       "      <td>NaN</td>\n",
       "      <td>NaN</td>\n",
       "    </tr>\n",
       "    <tr>\n",
       "      <th>300896.SZ</th>\n",
       "      <td>Imeik Technology Development Co.,Ltd.</td>\n",
       "      <td>Imeik Technology Development Co.,Ltd focuses o...</td>\n",
       "      <td>CNY</td>\n",
       "      <td>Health Care</td>\n",
       "      <td>Health Care Equipment &amp; Services</td>\n",
       "      <td>Health Care Equipment &amp; Supplies</td>\n",
       "      <td>SHZ</td>\n",
       "      <td>Shenzhen Stock Exchange</td>\n",
       "      <td>China</td>\n",
       "      <td>NaN</td>\n",
       "      <td>Beijing</td>\n",
       "      <td>100022</td>\n",
       "      <td>http://www.imeik.net</td>\n",
       "      <td>Large Cap</td>\n",
       "      <td>NaN</td>\n",
       "      <td>NaN</td>\n",
       "      <td>NaN</td>\n",
       "      <td>NaN</td>\n",
       "      <td>NaN</td>\n",
       "    </tr>\n",
       "    <tr>\n",
       "      <th>300919.SZ</th>\n",
       "      <td>CNGR Advanced Material Co.,Ltd.</td>\n",
       "      <td>CNGR Advanced Material Co.,Ltd. engages in the...</td>\n",
       "      <td>CNY</td>\n",
       "      <td>Materials</td>\n",
       "      <td>Materials</td>\n",
       "      <td>Chemicals</td>\n",
       "      <td>SHZ</td>\n",
       "      <td>Shenzhen Stock Exchange</td>\n",
       "      <td>China</td>\n",
       "      <td>NaN</td>\n",
       "      <td>Tongren</td>\n",
       "      <td>554001</td>\n",
       "      <td>http://www.cngrgf.com.cn</td>\n",
       "      <td>Large Cap</td>\n",
       "      <td>NaN</td>\n",
       "      <td>NaN</td>\n",
       "      <td>NaN</td>\n",
       "      <td>NaN</td>\n",
       "      <td>NaN</td>\n",
       "    </tr>\n",
       "    <tr>\n",
       "      <th>300957.SZ</th>\n",
       "      <td>Yunnan Botanee Bio-Technology Group Co.LTD</td>\n",
       "      <td>Yunnan Botanee Bio-Technology Group Co.LTD man...</td>\n",
       "      <td>CNY</td>\n",
       "      <td>Health Care</td>\n",
       "      <td>Pharmaceuticals, Biotechnology &amp; Life Sciences</td>\n",
       "      <td>Biotechnology</td>\n",
       "      <td>SHZ</td>\n",
       "      <td>Shenzhen Stock Exchange</td>\n",
       "      <td>China</td>\n",
       "      <td>NaN</td>\n",
       "      <td>Kunming</td>\n",
       "      <td>650106</td>\n",
       "      <td>http://www.botanee.com.cn</td>\n",
       "      <td>Large Cap</td>\n",
       "      <td>NaN</td>\n",
       "      <td>NaN</td>\n",
       "      <td>NaN</td>\n",
       "      <td>NaN</td>\n",
       "      <td>NaN</td>\n",
       "    </tr>\n",
       "    <tr>\n",
       "      <th>300999.SZ</th>\n",
       "      <td>Yihai Kerry Arawana Holdings Co., Ltd</td>\n",
       "      <td>Yihai Kerry Arawana Holdings Co., Ltd engages ...</td>\n",
       "      <td>CNY</td>\n",
       "      <td>Consumer Staples</td>\n",
       "      <td>Food &amp; Staples Retailing</td>\n",
       "      <td>Food &amp; Staples Retailing</td>\n",
       "      <td>SHZ</td>\n",
       "      <td>Shenzhen Stock Exchange</td>\n",
       "      <td>China</td>\n",
       "      <td>NaN</td>\n",
       "      <td>Shanghai</td>\n",
       "      <td>NaN</td>\n",
       "      <td>http://www.yihaikerry.net.cn</td>\n",
       "      <td>Large Cap</td>\n",
       "      <td>NaN</td>\n",
       "      <td>NaN</td>\n",
       "      <td>NaN</td>\n",
       "      <td>NaN</td>\n",
       "      <td>NaN</td>\n",
       "    </tr>\n",
       "  </tbody>\n",
       "</table>\n",
       "<p>78 rows × 19 columns</p>\n",
       "</div>"
      ]
     },
     "execution_count": 4,
     "metadata": {},
     "output_type": "execute_result"
    }
   ],
   "execution_count": 4
  },
  {
   "metadata": {
    "ExecuteTime": {
     "end_time": "2025-09-17T16:40:03.452177Z",
     "start_time": "2025-09-17T16:39:42.674102Z"
    }
   },
   "cell_type": "code",
   "source": [
    "list_tickers_LargeCap_Chine = LargeCap_Chine.index.to_list()\n",
    "\n",
    "data_LargeCap_Chine = pd.DataFrame()\n",
    "\n",
    "# Télécharger les données pour chaque ticker\n",
    "for ticker in list_tickers_LargeCap_Chine:\n",
    "\n",
    "    print(f\"Téléchargement des données pour {ticker}\")\n",
    "\n",
    "    # Télécharger les données de l'action entre les dates spécifiées\n",
    "    data = yf.download(\n",
    "                        ticker,\n",
    "                        interval=\"1d\",\n",
    "                        period=\"max\",\n",
    "                        auto_adjust=True,\n",
    "                        actions=False\n",
    "                        )\n",
    "\n",
    "    # Ajouter une colonne pour identifier le ticker\n",
    "    data['Ticker'] = ticker\n",
    "\n",
    "    # On retire le niveau des tickers pour ne garder que 'Close' et 'Volume'\n",
    "    data.columns = data.columns.droplevel(level=1)\n",
    "\n",
    "    # Concaténer les données dans la DataFrame globale\n",
    "    data_LargeCap_Chine= pd.concat([data, data_LargeCap_Chine])\n",
    "\n",
    "# Affichage de la DataFrame résultante\n",
    "data_LargeCap_Chine"
   ],
   "id": "5a0384744b83d9f5",
   "outputs": [
    {
     "name": "stdout",
     "output_type": "stream",
     "text": [
      "Téléchargement des données pour 000002.SZ\n"
     ]
    },
    {
     "name": "stderr",
     "output_type": "stream",
     "text": [
      "[*********************100%***********************]  1 of 1 completed\n"
     ]
    },
    {
     "name": "stdout",
     "output_type": "stream",
     "text": [
      "Téléchargement des données pour 000063.SZ\n"
     ]
    },
    {
     "name": "stderr",
     "output_type": "stream",
     "text": [
      "[*********************100%***********************]  1 of 1 completed\n"
     ]
    },
    {
     "name": "stdout",
     "output_type": "stream",
     "text": [
      "Téléchargement des données pour 000157.SZ\n"
     ]
    },
    {
     "name": "stderr",
     "output_type": "stream",
     "text": [
      "[*********************100%***********************]  1 of 1 completed\n"
     ]
    },
    {
     "name": "stdout",
     "output_type": "stream",
     "text": [
      "Téléchargement des données pour 000166.SZ\n"
     ]
    },
    {
     "name": "stderr",
     "output_type": "stream",
     "text": [
      "[*********************100%***********************]  1 of 1 completed\n"
     ]
    },
    {
     "name": "stdout",
     "output_type": "stream",
     "text": [
      "Téléchargement des données pour 000301.SZ\n"
     ]
    },
    {
     "name": "stderr",
     "output_type": "stream",
     "text": [
      "[*********************100%***********************]  1 of 1 completed\n"
     ]
    },
    {
     "name": "stdout",
     "output_type": "stream",
     "text": [
      "Téléchargement des données pour 000333.SZ\n"
     ]
    },
    {
     "name": "stderr",
     "output_type": "stream",
     "text": [
      "[*********************100%***********************]  1 of 1 completed\n"
     ]
    },
    {
     "name": "stdout",
     "output_type": "stream",
     "text": [
      "Téléchargement des données pour 000338.SZ\n"
     ]
    },
    {
     "name": "stderr",
     "output_type": "stream",
     "text": [
      "[*********************100%***********************]  1 of 1 completed\n"
     ]
    },
    {
     "name": "stdout",
     "output_type": "stream",
     "text": [
      "Téléchargement des données pour 000538.SZ\n"
     ]
    },
    {
     "name": "stderr",
     "output_type": "stream",
     "text": [
      "[*********************100%***********************]  1 of 1 completed\n"
     ]
    },
    {
     "name": "stdout",
     "output_type": "stream",
     "text": [
      "Téléchargement des données pour 000568.SZ\n"
     ]
    },
    {
     "name": "stderr",
     "output_type": "stream",
     "text": [
      "[*********************100%***********************]  1 of 1 completed\n"
     ]
    },
    {
     "name": "stdout",
     "output_type": "stream",
     "text": [
      "Téléchargement des données pour 000596.SZ\n"
     ]
    },
    {
     "name": "stderr",
     "output_type": "stream",
     "text": [
      "[*********************100%***********************]  1 of 1 completed\n"
     ]
    },
    {
     "name": "stdout",
     "output_type": "stream",
     "text": [
      "Téléchargement des données pour 000617.SZ\n"
     ]
    },
    {
     "name": "stderr",
     "output_type": "stream",
     "text": [
      "[*********************100%***********************]  1 of 1 completed\n"
     ]
    },
    {
     "name": "stdout",
     "output_type": "stream",
     "text": [
      "Téléchargement des données pour 000625.SZ\n"
     ]
    },
    {
     "name": "stderr",
     "output_type": "stream",
     "text": [
      "[*********************100%***********************]  1 of 1 completed\n"
     ]
    },
    {
     "name": "stdout",
     "output_type": "stream",
     "text": [
      "Téléchargement des données pour 000651.SZ\n"
     ]
    },
    {
     "name": "stderr",
     "output_type": "stream",
     "text": [
      "[*********************100%***********************]  1 of 1 completed\n"
     ]
    },
    {
     "name": "stdout",
     "output_type": "stream",
     "text": [
      "Téléchargement des données pour 000661.SZ\n"
     ]
    },
    {
     "name": "stderr",
     "output_type": "stream",
     "text": [
      "[*********************100%***********************]  1 of 1 completed\n"
     ]
    },
    {
     "name": "stdout",
     "output_type": "stream",
     "text": [
      "Téléchargement des données pour 000768.SZ\n"
     ]
    },
    {
     "name": "stderr",
     "output_type": "stream",
     "text": [
      "[*********************100%***********************]  1 of 1 completed\n"
     ]
    },
    {
     "name": "stdout",
     "output_type": "stream",
     "text": [
      "Téléchargement des données pour 000799.SZ\n"
     ]
    },
    {
     "name": "stderr",
     "output_type": "stream",
     "text": [
      "[*********************100%***********************]  1 of 1 completed\n"
     ]
    },
    {
     "name": "stdout",
     "output_type": "stream",
     "text": [
      "Téléchargement des données pour 000858.SZ\n"
     ]
    },
    {
     "name": "stderr",
     "output_type": "stream",
     "text": [
      "[*********************100%***********************]  1 of 1 completed\n"
     ]
    },
    {
     "name": "stdout",
     "output_type": "stream",
     "text": [
      "Téléchargement des données pour 000876.SZ\n"
     ]
    },
    {
     "name": "stderr",
     "output_type": "stream",
     "text": [
      "[*********************100%***********************]  1 of 1 completed\n"
     ]
    },
    {
     "name": "stdout",
     "output_type": "stream",
     "text": [
      "Téléchargement des données pour 000895.SZ\n"
     ]
    },
    {
     "name": "stderr",
     "output_type": "stream",
     "text": [
      "[*********************100%***********************]  1 of 1 completed\n"
     ]
    },
    {
     "name": "stdout",
     "output_type": "stream",
     "text": [
      "Téléchargement des données pour 000938.SZ\n"
     ]
    },
    {
     "name": "stderr",
     "output_type": "stream",
     "text": [
      "[*********************100%***********************]  1 of 1 completed\n"
     ]
    },
    {
     "name": "stdout",
     "output_type": "stream",
     "text": [
      "Téléchargement des données pour 000963.SZ\n"
     ]
    },
    {
     "name": "stderr",
     "output_type": "stream",
     "text": [
      "[*********************100%***********************]  1 of 1 completed\n"
     ]
    },
    {
     "name": "stdout",
     "output_type": "stream",
     "text": [
      "Téléchargement des données pour 002001.SZ\n"
     ]
    },
    {
     "name": "stderr",
     "output_type": "stream",
     "text": [
      "[*********************100%***********************]  1 of 1 completed\n"
     ]
    },
    {
     "name": "stdout",
     "output_type": "stream",
     "text": [
      "Téléchargement des données pour 002007.SZ\n"
     ]
    },
    {
     "name": "stderr",
     "output_type": "stream",
     "text": [
      "[*********************100%***********************]  1 of 1 completed\n"
     ]
    },
    {
     "name": "stdout",
     "output_type": "stream",
     "text": [
      "Téléchargement des données pour 002049.SZ\n"
     ]
    },
    {
     "name": "stderr",
     "output_type": "stream",
     "text": [
      "[*********************100%***********************]  1 of 1 completed\n"
     ]
    },
    {
     "name": "stdout",
     "output_type": "stream",
     "text": [
      "Téléchargement des données pour 002050.SZ\n"
     ]
    },
    {
     "name": "stderr",
     "output_type": "stream",
     "text": [
      "[*********************100%***********************]  1 of 1 completed\n"
     ]
    },
    {
     "name": "stdout",
     "output_type": "stream",
     "text": [
      "Téléchargement des données pour 002129.SZ\n"
     ]
    },
    {
     "name": "stderr",
     "output_type": "stream",
     "text": [
      "[*********************100%***********************]  1 of 1 completed\n"
     ]
    },
    {
     "name": "stdout",
     "output_type": "stream",
     "text": [
      "Téléchargement des données pour 002142.SZ\n"
     ]
    },
    {
     "name": "stderr",
     "output_type": "stream",
     "text": [
      "[*********************100%***********************]  1 of 1 completed\n"
     ]
    },
    {
     "name": "stdout",
     "output_type": "stream",
     "text": [
      "Téléchargement des données pour 002179.SZ\n"
     ]
    },
    {
     "name": "stderr",
     "output_type": "stream",
     "text": [
      "[*********************100%***********************]  1 of 1 completed\n"
     ]
    },
    {
     "name": "stdout",
     "output_type": "stream",
     "text": [
      "Téléchargement des données pour 002230.SZ\n"
     ]
    },
    {
     "name": "stderr",
     "output_type": "stream",
     "text": [
      "[*********************100%***********************]  1 of 1 completed\n"
     ]
    },
    {
     "name": "stdout",
     "output_type": "stream",
     "text": [
      "Téléchargement des données pour 002236.SZ\n"
     ]
    },
    {
     "name": "stderr",
     "output_type": "stream",
     "text": [
      "[*********************100%***********************]  1 of 1 completed\n"
     ]
    },
    {
     "name": "stdout",
     "output_type": "stream",
     "text": [
      "Téléchargement des données pour 002241.SZ\n"
     ]
    },
    {
     "name": "stderr",
     "output_type": "stream",
     "text": [
      "[*********************100%***********************]  1 of 1 completed\n"
     ]
    },
    {
     "name": "stdout",
     "output_type": "stream",
     "text": [
      "Téléchargement des données pour 002271.SZ\n"
     ]
    },
    {
     "name": "stderr",
     "output_type": "stream",
     "text": [
      "[*********************100%***********************]  1 of 1 completed\n"
     ]
    },
    {
     "name": "stdout",
     "output_type": "stream",
     "text": [
      "Téléchargement des données pour 002304.SZ\n"
     ]
    },
    {
     "name": "stderr",
     "output_type": "stream",
     "text": [
      "[*********************100%***********************]  1 of 1 completed\n"
     ]
    },
    {
     "name": "stdout",
     "output_type": "stream",
     "text": [
      "Téléchargement des données pour 002311.SZ\n"
     ]
    },
    {
     "name": "stderr",
     "output_type": "stream",
     "text": [
      "[*********************100%***********************]  1 of 1 completed\n"
     ]
    },
    {
     "name": "stdout",
     "output_type": "stream",
     "text": [
      "Téléchargement des données pour 002352.SZ\n"
     ]
    },
    {
     "name": "stderr",
     "output_type": "stream",
     "text": [
      "[*********************100%***********************]  1 of 1 completed\n"
     ]
    },
    {
     "name": "stdout",
     "output_type": "stream",
     "text": [
      "Téléchargement des données pour 002371.SZ\n"
     ]
    },
    {
     "name": "stderr",
     "output_type": "stream",
     "text": [
      "[*********************100%***********************]  1 of 1 completed\n"
     ]
    },
    {
     "name": "stdout",
     "output_type": "stream",
     "text": [
      "Téléchargement des données pour 002410.SZ\n"
     ]
    },
    {
     "name": "stderr",
     "output_type": "stream",
     "text": [
      "[*********************100%***********************]  1 of 1 completed\n"
     ]
    },
    {
     "name": "stdout",
     "output_type": "stream",
     "text": [
      "Téléchargement des données pour 002415.SZ\n"
     ]
    },
    {
     "name": "stderr",
     "output_type": "stream",
     "text": [
      "[*********************100%***********************]  1 of 1 completed\n"
     ]
    },
    {
     "name": "stdout",
     "output_type": "stream",
     "text": [
      "Téléchargement des données pour 002460.SZ\n"
     ]
    },
    {
     "name": "stderr",
     "output_type": "stream",
     "text": [
      "[*********************100%***********************]  1 of 1 completed\n"
     ]
    },
    {
     "name": "stdout",
     "output_type": "stream",
     "text": [
      "Téléchargement des données pour 002475.SZ\n"
     ]
    },
    {
     "name": "stderr",
     "output_type": "stream",
     "text": [
      "[*********************100%***********************]  1 of 1 completed\n"
     ]
    },
    {
     "name": "stdout",
     "output_type": "stream",
     "text": [
      "Téléchargement des données pour 002493.SZ\n"
     ]
    },
    {
     "name": "stderr",
     "output_type": "stream",
     "text": [
      "[*********************100%***********************]  1 of 1 completed\n"
     ]
    },
    {
     "name": "stdout",
     "output_type": "stream",
     "text": [
      "Téléchargement des données pour 002601.SZ\n"
     ]
    },
    {
     "name": "stderr",
     "output_type": "stream",
     "text": [
      "[*********************100%***********************]  1 of 1 completed\n"
     ]
    },
    {
     "name": "stdout",
     "output_type": "stream",
     "text": [
      "Téléchargement des données pour 002607.SZ\n"
     ]
    },
    {
     "name": "stderr",
     "output_type": "stream",
     "text": [
      "[*********************100%***********************]  1 of 1 completed\n"
     ]
    },
    {
     "name": "stdout",
     "output_type": "stream",
     "text": [
      "Téléchargement des données pour 002709.SZ\n"
     ]
    },
    {
     "name": "stderr",
     "output_type": "stream",
     "text": [
      "[*********************100%***********************]  1 of 1 completed\n"
     ]
    },
    {
     "name": "stdout",
     "output_type": "stream",
     "text": [
      "Téléchargement des données pour 002714.SZ\n"
     ]
    },
    {
     "name": "stderr",
     "output_type": "stream",
     "text": [
      "[*********************100%***********************]  1 of 1 completed\n",
      "[*********************100%***********************]  1 of 1 completed"
     ]
    },
    {
     "name": "stdout",
     "output_type": "stream",
     "text": [
      "Téléchargement des données pour 002736.SZ\n"
     ]
    },
    {
     "name": "stderr",
     "output_type": "stream",
     "text": [
      "\n",
      "[*********************100%***********************]  1 of 1 completed\n"
     ]
    },
    {
     "name": "stdout",
     "output_type": "stream",
     "text": [
      "Téléchargement des données pour 002795.SZ\n",
      "Téléchargement des données pour 002812.SZ\n"
     ]
    },
    {
     "name": "stderr",
     "output_type": "stream",
     "text": [
      "[*********************100%***********************]  1 of 1 completed\n"
     ]
    },
    {
     "name": "stdout",
     "output_type": "stream",
     "text": [
      "Téléchargement des données pour 002821.SZ\n"
     ]
    },
    {
     "name": "stderr",
     "output_type": "stream",
     "text": [
      "[*********************100%***********************]  1 of 1 completed\n"
     ]
    },
    {
     "name": "stdout",
     "output_type": "stream",
     "text": [
      "Téléchargement des données pour 002841.SZ\n"
     ]
    },
    {
     "name": "stderr",
     "output_type": "stream",
     "text": [
      "[*********************100%***********************]  1 of 1 completed\n",
      "[*********************100%***********************]  1 of 1 completed\n"
     ]
    },
    {
     "name": "stdout",
     "output_type": "stream",
     "text": [
      "Téléchargement des données pour 002938.SZ\n",
      "Téléchargement des données pour 163302.SZ\n"
     ]
    },
    {
     "name": "stderr",
     "output_type": "stream",
     "text": [
      "[*********************100%***********************]  1 of 1 completed\n",
      "\n",
      "1 Failed download:\n",
      "['163302.SZ']: YFInvalidPeriodError(\"163302.SZ: Period 'max' is invalid, must be one of: 1d, 5d\")\n",
      "[*********************100%***********************]  1 of 1 completed\n"
     ]
    },
    {
     "name": "stdout",
     "output_type": "stream",
     "text": [
      "Téléchargement des données pour 164508.SZ\n",
      "Téléchargement des données pour 200596.SZ\n"
     ]
    },
    {
     "name": "stderr",
     "output_type": "stream",
     "text": [
      "[*********************100%***********************]  1 of 1 completed\n"
     ]
    },
    {
     "name": "stdout",
     "output_type": "stream",
     "text": [
      "Téléchargement des données pour 200625.SZ\n"
     ]
    },
    {
     "name": "stderr",
     "output_type": "stream",
     "text": [
      "[*********************100%***********************]  1 of 1 completed\n"
     ]
    },
    {
     "name": "stdout",
     "output_type": "stream",
     "text": [
      "Téléchargement des données pour 300015.SZ\n"
     ]
    },
    {
     "name": "stderr",
     "output_type": "stream",
     "text": [
      "[*********************100%***********************]  1 of 1 completed\n"
     ]
    },
    {
     "name": "stdout",
     "output_type": "stream",
     "text": [
      "Téléchargement des données pour 300071.SZ\n"
     ]
    },
    {
     "name": "stderr",
     "output_type": "stream",
     "text": [
      "[*********************100%***********************]  1 of 1 completed\n"
     ]
    },
    {
     "name": "stdout",
     "output_type": "stream",
     "text": [
      "Téléchargement des données pour 300122.SZ\n"
     ]
    },
    {
     "name": "stderr",
     "output_type": "stream",
     "text": [
      "[*********************100%***********************]  1 of 1 completed\n"
     ]
    },
    {
     "name": "stdout",
     "output_type": "stream",
     "text": [
      "Téléchargement des données pour 300124.SZ\n"
     ]
    },
    {
     "name": "stderr",
     "output_type": "stream",
     "text": [
      "[*********************100%***********************]  1 of 1 completed\n"
     ]
    },
    {
     "name": "stdout",
     "output_type": "stream",
     "text": [
      "Téléchargement des données pour 300142.SZ\n"
     ]
    },
    {
     "name": "stderr",
     "output_type": "stream",
     "text": [
      "[*********************100%***********************]  1 of 1 completed\n"
     ]
    },
    {
     "name": "stdout",
     "output_type": "stream",
     "text": [
      "Téléchargement des données pour 300274.SZ\n"
     ]
    },
    {
     "name": "stderr",
     "output_type": "stream",
     "text": [
      "[*********************100%***********************]  1 of 1 completed\n"
     ]
    },
    {
     "name": "stdout",
     "output_type": "stream",
     "text": [
      "Téléchargement des données pour 300347.SZ\n"
     ]
    },
    {
     "name": "stderr",
     "output_type": "stream",
     "text": [
      "[*********************100%***********************]  1 of 1 completed\n",
      "[*********************100%***********************]  1 of 1 completed"
     ]
    },
    {
     "name": "stdout",
     "output_type": "stream",
     "text": [
      "Téléchargement des données pour 300408.SZ\n"
     ]
    },
    {
     "name": "stderr",
     "output_type": "stream",
     "text": [
      "\n"
     ]
    },
    {
     "name": "stdout",
     "output_type": "stream",
     "text": [
      "Téléchargement des données pour 300413.SZ\n"
     ]
    },
    {
     "name": "stderr",
     "output_type": "stream",
     "text": [
      "[*********************100%***********************]  1 of 1 completed\n"
     ]
    },
    {
     "name": "stdout",
     "output_type": "stream",
     "text": [
      "Téléchargement des données pour 300433.SZ\n"
     ]
    },
    {
     "name": "stderr",
     "output_type": "stream",
     "text": [
      "[*********************100%***********************]  1 of 1 completed\n"
     ]
    },
    {
     "name": "stdout",
     "output_type": "stream",
     "text": [
      "Téléchargement des données pour 300454.SZ\n"
     ]
    },
    {
     "name": "stderr",
     "output_type": "stream",
     "text": [
      "[*********************100%***********************]  1 of 1 completed\n"
     ]
    },
    {
     "name": "stdout",
     "output_type": "stream",
     "text": [
      "Téléchargement des données pour 300498.SZ\n"
     ]
    },
    {
     "name": "stderr",
     "output_type": "stream",
     "text": [
      "[*********************100%***********************]  1 of 1 completed\n"
     ]
    },
    {
     "name": "stdout",
     "output_type": "stream",
     "text": [
      "Téléchargement des données pour 300529.SZ\n"
     ]
    },
    {
     "name": "stderr",
     "output_type": "stream",
     "text": [
      "[*********************100%***********************]  1 of 1 completed\n"
     ]
    },
    {
     "name": "stdout",
     "output_type": "stream",
     "text": [
      "Téléchargement des données pour 300595.SZ\n"
     ]
    },
    {
     "name": "stderr",
     "output_type": "stream",
     "text": [
      "[*********************100%***********************]  1 of 1 completed\n"
     ]
    },
    {
     "name": "stdout",
     "output_type": "stream",
     "text": [
      "Téléchargement des données pour 300601.SZ\n"
     ]
    },
    {
     "name": "stderr",
     "output_type": "stream",
     "text": [
      "[*********************100%***********************]  1 of 1 completed\n"
     ]
    },
    {
     "name": "stdout",
     "output_type": "stream",
     "text": [
      "Téléchargement des données pour 300750.SZ\n"
     ]
    },
    {
     "name": "stderr",
     "output_type": "stream",
     "text": [
      "[*********************100%***********************]  1 of 1 completed\n"
     ]
    },
    {
     "name": "stdout",
     "output_type": "stream",
     "text": [
      "Téléchargement des données pour 300759.SZ\n"
     ]
    },
    {
     "name": "stderr",
     "output_type": "stream",
     "text": [
      "[*********************100%***********************]  1 of 1 completed\n"
     ]
    },
    {
     "name": "stdout",
     "output_type": "stream",
     "text": [
      "Téléchargement des données pour 300760.SZ\n"
     ]
    },
    {
     "name": "stderr",
     "output_type": "stream",
     "text": [
      "[*********************100%***********************]  1 of 1 completed\n"
     ]
    },
    {
     "name": "stdout",
     "output_type": "stream",
     "text": [
      "Téléchargement des données pour 300782.SZ\n"
     ]
    },
    {
     "name": "stderr",
     "output_type": "stream",
     "text": [
      "[*********************100%***********************]  1 of 1 completed\n"
     ]
    },
    {
     "name": "stdout",
     "output_type": "stream",
     "text": [
      "Téléchargement des données pour 300896.SZ\n"
     ]
    },
    {
     "name": "stderr",
     "output_type": "stream",
     "text": [
      "[*********************100%***********************]  1 of 1 completed\n",
      "[*********************100%***********************]  1 of 1 completed\n"
     ]
    },
    {
     "name": "stdout",
     "output_type": "stream",
     "text": [
      "Téléchargement des données pour 300919.SZ\n",
      "Téléchargement des données pour 300957.SZ\n"
     ]
    },
    {
     "name": "stderr",
     "output_type": "stream",
     "text": [
      "[*********************100%***********************]  1 of 1 completed\n",
      "[*********************100%***********************]  1 of 1 completed\n"
     ]
    },
    {
     "name": "stdout",
     "output_type": "stream",
     "text": [
      "Téléchargement des données pour 300999.SZ\n"
     ]
    },
    {
     "data": {
      "text/plain": [
       "Price           Close       High        Low       Open       Volume  \\\n",
       "Date                                                                  \n",
       "2020-10-15  55.329391  61.899758  39.175187  48.373696  251921794.0   \n",
       "2020-10-16  48.413219  55.200949  47.435073  48.413219  180063547.0   \n",
       "2020-10-19  44.619198  46.931176  44.352431  46.437164  113690787.0   \n",
       "2020-10-20  47.326389  48.610821  44.856327  44.856327  106877312.0   \n",
       "2020-10-21  46.941059  49.539566  45.350342  46.437168  113833107.0   \n",
       "...               ...        ...        ...        ...          ...   \n",
       "2025-09-11   6.830000   6.840000   6.730000   6.820000  146290475.0   \n",
       "2025-09-12   6.940000   7.140000   6.830000   6.830000  322089159.0   \n",
       "2025-09-15   6.970000   7.040000   6.820000   6.920000  228923025.0   \n",
       "2025-09-16   7.040000   7.050000   6.890000   6.950000  222680538.0   \n",
       "2025-09-17   7.050000   7.080000   6.930000   6.830000  166363987.0   \n",
       "\n",
       "Price          Ticker  Adj Close  \n",
       "Date                              \n",
       "2020-10-15  300999.SZ        NaN  \n",
       "2020-10-16  300999.SZ        NaN  \n",
       "2020-10-19  300999.SZ        NaN  \n",
       "2020-10-20  300999.SZ        NaN  \n",
       "2020-10-21  300999.SZ        NaN  \n",
       "...               ...        ...  \n",
       "2025-09-11  000002.SZ        NaN  \n",
       "2025-09-12  000002.SZ        NaN  \n",
       "2025-09-15  000002.SZ        NaN  \n",
       "2025-09-16  000002.SZ        NaN  \n",
       "2025-09-17  000002.SZ        NaN  \n",
       "\n",
       "[320967 rows x 7 columns]"
      ],
      "text/html": [
       "<div>\n",
       "<style scoped>\n",
       "    .dataframe tbody tr th:only-of-type {\n",
       "        vertical-align: middle;\n",
       "    }\n",
       "\n",
       "    .dataframe tbody tr th {\n",
       "        vertical-align: top;\n",
       "    }\n",
       "\n",
       "    .dataframe thead th {\n",
       "        text-align: right;\n",
       "    }\n",
       "</style>\n",
       "<table border=\"1\" class=\"dataframe\">\n",
       "  <thead>\n",
       "    <tr style=\"text-align: right;\">\n",
       "      <th>Price</th>\n",
       "      <th>Close</th>\n",
       "      <th>High</th>\n",
       "      <th>Low</th>\n",
       "      <th>Open</th>\n",
       "      <th>Volume</th>\n",
       "      <th>Ticker</th>\n",
       "      <th>Adj Close</th>\n",
       "    </tr>\n",
       "    <tr>\n",
       "      <th>Date</th>\n",
       "      <th></th>\n",
       "      <th></th>\n",
       "      <th></th>\n",
       "      <th></th>\n",
       "      <th></th>\n",
       "      <th></th>\n",
       "      <th></th>\n",
       "    </tr>\n",
       "  </thead>\n",
       "  <tbody>\n",
       "    <tr>\n",
       "      <th>2020-10-15</th>\n",
       "      <td>55.329391</td>\n",
       "      <td>61.899758</td>\n",
       "      <td>39.175187</td>\n",
       "      <td>48.373696</td>\n",
       "      <td>251921794.0</td>\n",
       "      <td>300999.SZ</td>\n",
       "      <td>NaN</td>\n",
       "    </tr>\n",
       "    <tr>\n",
       "      <th>2020-10-16</th>\n",
       "      <td>48.413219</td>\n",
       "      <td>55.200949</td>\n",
       "      <td>47.435073</td>\n",
       "      <td>48.413219</td>\n",
       "      <td>180063547.0</td>\n",
       "      <td>300999.SZ</td>\n",
       "      <td>NaN</td>\n",
       "    </tr>\n",
       "    <tr>\n",
       "      <th>2020-10-19</th>\n",
       "      <td>44.619198</td>\n",
       "      <td>46.931176</td>\n",
       "      <td>44.352431</td>\n",
       "      <td>46.437164</td>\n",
       "      <td>113690787.0</td>\n",
       "      <td>300999.SZ</td>\n",
       "      <td>NaN</td>\n",
       "    </tr>\n",
       "    <tr>\n",
       "      <th>2020-10-20</th>\n",
       "      <td>47.326389</td>\n",
       "      <td>48.610821</td>\n",
       "      <td>44.856327</td>\n",
       "      <td>44.856327</td>\n",
       "      <td>106877312.0</td>\n",
       "      <td>300999.SZ</td>\n",
       "      <td>NaN</td>\n",
       "    </tr>\n",
       "    <tr>\n",
       "      <th>2020-10-21</th>\n",
       "      <td>46.941059</td>\n",
       "      <td>49.539566</td>\n",
       "      <td>45.350342</td>\n",
       "      <td>46.437168</td>\n",
       "      <td>113833107.0</td>\n",
       "      <td>300999.SZ</td>\n",
       "      <td>NaN</td>\n",
       "    </tr>\n",
       "    <tr>\n",
       "      <th>...</th>\n",
       "      <td>...</td>\n",
       "      <td>...</td>\n",
       "      <td>...</td>\n",
       "      <td>...</td>\n",
       "      <td>...</td>\n",
       "      <td>...</td>\n",
       "      <td>...</td>\n",
       "    </tr>\n",
       "    <tr>\n",
       "      <th>2025-09-11</th>\n",
       "      <td>6.830000</td>\n",
       "      <td>6.840000</td>\n",
       "      <td>6.730000</td>\n",
       "      <td>6.820000</td>\n",
       "      <td>146290475.0</td>\n",
       "      <td>000002.SZ</td>\n",
       "      <td>NaN</td>\n",
       "    </tr>\n",
       "    <tr>\n",
       "      <th>2025-09-12</th>\n",
       "      <td>6.940000</td>\n",
       "      <td>7.140000</td>\n",
       "      <td>6.830000</td>\n",
       "      <td>6.830000</td>\n",
       "      <td>322089159.0</td>\n",
       "      <td>000002.SZ</td>\n",
       "      <td>NaN</td>\n",
       "    </tr>\n",
       "    <tr>\n",
       "      <th>2025-09-15</th>\n",
       "      <td>6.970000</td>\n",
       "      <td>7.040000</td>\n",
       "      <td>6.820000</td>\n",
       "      <td>6.920000</td>\n",
       "      <td>228923025.0</td>\n",
       "      <td>000002.SZ</td>\n",
       "      <td>NaN</td>\n",
       "    </tr>\n",
       "    <tr>\n",
       "      <th>2025-09-16</th>\n",
       "      <td>7.040000</td>\n",
       "      <td>7.050000</td>\n",
       "      <td>6.890000</td>\n",
       "      <td>6.950000</td>\n",
       "      <td>222680538.0</td>\n",
       "      <td>000002.SZ</td>\n",
       "      <td>NaN</td>\n",
       "    </tr>\n",
       "    <tr>\n",
       "      <th>2025-09-17</th>\n",
       "      <td>7.050000</td>\n",
       "      <td>7.080000</td>\n",
       "      <td>6.930000</td>\n",
       "      <td>6.830000</td>\n",
       "      <td>166363987.0</td>\n",
       "      <td>000002.SZ</td>\n",
       "      <td>NaN</td>\n",
       "    </tr>\n",
       "  </tbody>\n",
       "</table>\n",
       "<p>320967 rows × 7 columns</p>\n",
       "</div>"
      ]
     },
     "execution_count": 5,
     "metadata": {},
     "output_type": "execute_result"
    }
   ],
   "execution_count": 5
  },
  {
   "metadata": {
    "ExecuteTime": {
     "end_time": "2025-09-17T16:40:20.823368Z",
     "start_time": "2025-09-17T16:40:20.815147Z"
    }
   },
   "cell_type": "code",
   "source": "data_LargeCap_Chine = data_LargeCap_Chine.reset_index()",
   "id": "608d3f8d64991855",
   "outputs": [],
   "execution_count": 6
  },
  {
   "metadata": {
    "ExecuteTime": {
     "end_time": "2025-09-17T16:40:22.022800Z",
     "start_time": "2025-09-17T16:40:21.942216Z"
    }
   },
   "cell_type": "code",
   "source": "data_LargeCap_Chine.to_parquet('/Users/forget/Library/Mobile Documents/com~apple~CloudDocs/Project Stock Market Deep Learning/Data/data_LargeCap_Chine.parquet')",
   "id": "6245ff6a81acb90b",
   "outputs": [],
   "execution_count": 7
  }
 ],
 "metadata": {
  "kernelspec": {
   "display_name": "Python 3",
   "language": "python",
   "name": "python3"
  },
  "language_info": {
   "codemirror_mode": {
    "name": "ipython",
    "version": 2
   },
   "file_extension": ".py",
   "mimetype": "text/x-python",
   "name": "python",
   "nbconvert_exporter": "python",
   "pygments_lexer": "ipython2",
   "version": "2.7.6"
  }
 },
 "nbformat": 4,
 "nbformat_minor": 5
}
