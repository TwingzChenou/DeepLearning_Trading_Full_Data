{
 "cells": [
  {
   "cell_type": "code",
   "id": "d57f0474-062c-4085-a442-4189e1e6d207",
   "metadata": {
    "ExecuteTime": {
     "end_time": "2025-10-01T13:42:16.689795Z",
     "start_time": "2025-10-01T13:42:16.307360Z"
    }
   },
   "source": [
    "import pandas as pd \n",
    "import yfinance as yf\n",
    "from datetime import datetime, timedelta\n"
   ],
   "outputs": [],
   "execution_count": 1
  },
  {
   "cell_type": "code",
   "id": "fc27d29a-7ea3-43eb-8465-e78d1137332c",
   "metadata": {
    "ExecuteTime": {
     "end_time": "2025-10-01T13:42:17.648561Z",
     "start_time": "2025-10-01T13:42:16.694066Z"
    }
   },
   "source": [
    "SP500_Url = \"https://en.wikipedia.org/wiki/Nasdaq-100\"\n",
    "data_table = pd.read_html(\n",
    "    SP500_Url,\n",
    "    storage_options={\"User-Agent\": \"Mozilla/5.0 (X11; Linux x86_64) AppleWebKit/537.36 \"\n",
    "                                   \"(KHTML, like Gecko) Chrome/123.0 Safari/537.36\"}\n",
    ")\n",
    "data_table"
   ],
   "outputs": [
    {
     "data": {
      "text/plain": [
       "[                                     0                                      1\n",
       " 0   Nasdaq-100 Index from 1985 to 2015     Nasdaq-100 Index from 1985 to 2015\n",
       " 1                           Foundation         January 31, 1985; 40 years ago\n",
       " 2                             Operator                           Nasdaq, Inc.\n",
       " 3                            Exchanges                                 Nasdaq\n",
       " 4                       Trading symbol                            ^NDX or NDX\n",
       " 5                         Constituents                                    101\n",
       " 6                                 Type                              Large-cap\n",
       " 7                           Market cap  US$25.34 trillion (as of May 1, 2025)\n",
       " 8                     Weighting method     Free-float capitalization-weighted\n",
       " 9                      Related indices                   Nasdaq Financial-100\n",
       " 10                             Website                  nasdaq.com/nasdaq-100,\n",
       "    Category  All-Time Highs[8]         All-Time Highs[8].1\n",
       " 0   Closing           24761.07  Monday, September 22, 2025\n",
       " 1  Intraday           24781.73  Monday, September 22, 2025,\n",
       "     Milestone[9][obsolete source] (closing) Date of Record (closing)[9]  \\\n",
       " 0                                      1000                July 8, 1997   \n",
       " 1                                      2000            January 11, 1999   \n",
       " 2                                      3000           November 18, 1999   \n",
       " 3                                      4000            February 8, 2000   \n",
       " 4                                      5000             January 6, 2017   \n",
       " 5                                      6000          September 13, 2017   \n",
       " 6                                      7000            January 26, 2018   \n",
       " 7                                      8000               July 24, 2019   \n",
       " 8                                      9000            January 13, 2020   \n",
       " 9                                     10000               June 10, 2020   \n",
       " 10                                    11000              August 3, 2020   \n",
       " 11                                    12000             August 31, 2020   \n",
       " 12                                    13000             January 8, 2021   \n",
       " 13                                    14000              April 15, 2021   \n",
       " 14                                    15000               July 23, 2021   \n",
       " 15                                    16000            November 3, 2021   \n",
       " 16                                    17000            January 19, 2024   \n",
       " 17                                    18000           February 22, 2024   \n",
       " 18                                    19000                June 5, 2024   \n",
       " 19                                    20000                July 2, 2024   \n",
       " 20                                    21000            November 7, 2024   \n",
       " 21                                    22000           December 16, 2024   \n",
       " 22                                    23000               July 17, 2025   \n",
       " 23                                    24000          September 12, 2025   \n",
       " \n",
       "     Trading Days[9]  \n",
       " 0              3143  \n",
       " 1               381  \n",
       " 2               217  \n",
       " 3                55  \n",
       " 4              4255  \n",
       " 5               172  \n",
       " 6                93  \n",
       " 7               374  \n",
       " 8               119  \n",
       " 9               103  \n",
       " 10               37  \n",
       " 11               20  \n",
       " 12               90  \n",
       " 13               66  \n",
       " 14               69  \n",
       " 15               72  \n",
       " 16              554  \n",
       " 17               23  \n",
       " 18               72  \n",
       " 19               18  \n",
       " 20               90  \n",
       " 21               26  \n",
       " 22              144  \n",
       " 23               40  ,\n",
       "     Year  Closing level Change in Index in Points Change in Index in %\n",
       " 0   1985         132.29                       NaN                  NaN\n",
       " 1   1986         141.41                      9.12                 6.89\n",
       " 2   1987         156.25                     14.84                10.49\n",
       " 3   1988         177.41                     21.16                13.54\n",
       " 4   1989         223.84                     46.43                26.17\n",
       " 5   1990         200.53                    −23.31               −10.41\n",
       " 6   1991         330.86                    130.33                64.99\n",
       " 7   1992         360.19                     29.33                 8.86\n",
       " 8   1993         398.28                     38.09                10.57\n",
       " 9   1994         404.27                      5.99                 1.50\n",
       " 10  1995         576.23                    171.96                42.54\n",
       " 11  1996         821.36                    245.13                42.54\n",
       " 12  1997         990.80                    169.44                20.63\n",
       " 13  1998        1836.01                    845.21                85.31\n",
       " 14  1999        3707.83                   1871.81               101.95\n",
       " 15  2000        2341.70                 −1,366.13               −36.84\n",
       " 16  2001        1577.05                   −764.65               −32.65\n",
       " 17  2002         984.36                   −592.69               −37.58\n",
       " 18  2003        1467.92                    483.56                49.12\n",
       " 19  2004        1621.12                    153.20                10.44\n",
       " 20  2005        1645.20                     24.08                 1.49\n",
       " 21  2006        1756.90                    111.70                 6.79\n",
       " 22  2007        2084.93                    328.03                18.67\n",
       " 23  2008        1211.65                   −873.28               −41.89\n",
       " 24  2009        1860.31                    648.66                53.54\n",
       " 25  2010        2217.86                    357.55                19.22\n",
       " 26  2011        2277.83                     59.97                 2.70\n",
       " 27  2012        2660.93                    383.10                16.82\n",
       " 28  2013        3592.00                    931.07                34.99\n",
       " 29  2014        4236.28                    644.28                17.94\n",
       " 30  2015        4593.27                    356.99                 8.43\n",
       " 31  2016        4863.62                    270.35                 5.89\n",
       " 32  2017        6396.42                   1532.80                31.52\n",
       " 33  2018        6329.96                    −66.46                −1.04\n",
       " 34  2019        8733.07                   2403.11                37.96\n",
       " 35  2020       12888.28                   4155.21                47.58\n",
       " 36  2021       16320.08                   3431.80                26.63\n",
       " 37  2022       10939.76                 −5,380.32               −32.97\n",
       " 38  2023       16825.93                   5886.17                53.81\n",
       " 39  2024       21012.17                   4186.24                24.88,\n",
       "     Ticker                  Company             GICS Sector  \\\n",
       " 0     ADBE               Adobe Inc.  Information Technology   \n",
       " 1      AMD   Advanced Micro Devices  Information Technology   \n",
       " 2     ABNB                   Airbnb  Consumer Discretionary   \n",
       " 3    GOOGL  Alphabet Inc. (Class A)  Communication Services   \n",
       " 4     GOOG  Alphabet Inc. (Class C)  Communication Services   \n",
       " ..     ...                      ...                     ...   \n",
       " 96    VRTX   Vertex Pharmaceuticals             Health Care   \n",
       " 97     WBD   Warner Bros. Discovery  Communication Services   \n",
       " 98    WDAY            Workday, Inc.  Information Technology   \n",
       " 99     XEL              Xcel Energy               Utilities   \n",
       " 100     ZS                  Zscaler  Information Technology   \n",
       " \n",
       "                   GICS Sub-Industry  \n",
       " 0              Application Software  \n",
       " 1                    Semiconductors  \n",
       " 2    Hotels, Resorts & Cruise Lines  \n",
       " 3      Interactive Media & Services  \n",
       " 4      Interactive Media & Services  \n",
       " ..                              ...  \n",
       " 96                    Biotechnology  \n",
       " 97                     Broadcasting  \n",
       " 98             Application Software  \n",
       " 99                  Multi-Utilities  \n",
       " 100            Application Software  \n",
       " \n",
       " [101 rows x 4 columns],\n",
       "                   Date  Added                        Removed  \\\n",
       "                   Date Ticker               Security  Ticker   \n",
       " 0        July 28, 2025    TRI        Thomson Reuters     NaN   \n",
       " 1        July 17, 2025    NaN                    NaN    ANSS   \n",
       " 2         May 19, 2025   SHOP                Shopify     MDB   \n",
       " 3    December 23, 2024   PLTR  Palantir Technologies    ILMN   \n",
       " 4    December 23, 2024   MSTR          MicroStrategy    MRNA   \n",
       " ..                 ...    ...                    ...     ...   \n",
       " 202      July 12, 2007   FWLT         Foster Wheeler    BMET   \n",
       " 203       June 1, 2007   CEPH               Cephalon    MEDI   \n",
       " 204      March 8, 2007   UAUA        UAL Corporation    AEOS   \n",
       " 205  February 14, 2007  RYAAY                Ryanair    APCC   \n",
       " 206   February 1, 2007   LOGI               Logitech    CMVT   \n",
       " \n",
       "                                 \\\n",
       "                       Security   \n",
       " 0                          NaN   \n",
       " 1                        Ansys   \n",
       " 2                      MongoDB   \n",
       " 3                      Ilumina   \n",
       " 4                      Moderna   \n",
       " ..                         ...   \n",
       " 202                     Biomet   \n",
       " 203                  MedImmune   \n",
       " 204  American Eagle Outfitters   \n",
       " 205  American Power Conversion   \n",
       " 206        Comverse Technology   \n",
       " \n",
       "                                                 Reason  \n",
       "                                                 Reason  \n",
       " 0     Thomson Reuters replaced Ansys in the index.[15]  \n",
       " 1                      Ansys was acquired by Synopsys.  \n",
       " 2    MongoDB did not meet the minimum monthly weigh...  \n",
       " 3                     Annual index reconstitution.[17]  \n",
       " 4                     Annual index reconstitution.[17]  \n",
       " ..                                                 ...  \n",
       " 202                     Biomet was taken private.[110]  \n",
       " 203        MedImmune was acquired by AstraZeneca.[111]  \n",
       " 204  American Eagle Outfitters transferred its list...  \n",
       " 205       APC was acquired by Schneider Electric.[114]  \n",
       " 206  Comverse did not meet the minimum monthly weig...  \n",
       " \n",
       " [207 rows x 6 columns],\n",
       "                 vteCompanies of the Nasdaq-100 index  \\\n",
       " 0  Adobe ADP AMD Airbnb Alphabet Amazon AEP Amgen...   \n",
       " \n",
       "               vteCompanies of the Nasdaq-100 index.1  \n",
       " 0  Adobe ADP AMD Airbnb Alphabet Amazon AEP Amgen...  ,\n",
       "                                      vteNasdaq, Inc.  \\\n",
       " 0  Operator of the Nasdaq, Nasdaq Baltic and Nasd...   \n",
       " 1                                          Exchanges   \n",
       " 2                                       Main indices   \n",
       " 3                                     Other holdings   \n",
       " \n",
       "                                    vteNasdaq, Inc..1  \\\n",
       " 0  Operator of the Nasdaq, Nasdaq Baltic and Nasd...   \n",
       " 1  Nasdaq BX Canada GEMX ISE MRX Nasdaq NOM PHLX ...   \n",
       " 2  Nasdaq 100 Composite Nasdaq Baltic Baltic 10 N...   \n",
       " 3  Adenza Longitude Nasdaq MarketSite Nasdaq Priv...   \n",
       " \n",
       "                                    vteNasdaq, Inc..2  \n",
       " 0  Operator of the Nasdaq, Nasdaq Baltic and Nasd...  \n",
       " 1                                                NaN  \n",
       " 2                                                NaN  \n",
       " 3                                                NaN  ,\n",
       "    vteStock market indices                          vteStock market indices.1\n",
       " 0                   Global  Equities MSCI ACWI Index MSCI World S&P Global...\n",
       " 1                 Equities  MSCI ACWI Index MSCI World S&P Global 100 S&P ...\n",
       " 2              Commodities  Bloomberg Commodity Index S&P GSCI Deutsche Ba...\n",
       " 3                 Regional  Asia S&P Asia 50 Europe EURO STOXX 50 STOXX Eu...\n",
       " 4                     Asia                                        S&P Asia 50\n",
       " 5                   Europe  EURO STOXX 50 STOXX Europe 600 FTSEurofirst 30...\n",
       " 6            Latin America                               S&P Latin America 40\n",
       " 7                    Other                                 MSCI EAFE MSCI GCC\n",
       " 8         Industry indices  Energy Amex Oil Index Electronics PHLX Semicon...\n",
       " 9                   Energy                                     Amex Oil Index\n",
       " 10             Electronics                   PHLX Semiconductor Sector TecDax\n",
       " 11                  Metals  HUI Gold Index Philadelphia Gold and Silver Index\n",
       " 12             Real estate                              CBV Real Estate Index\n",
       " 13                   Water                              Palisades Water Index\n",
       " 14                   Other                                   Baltic Dry Index\n",
       " 15                Americas  USMajor Dow Jones Industrial Average NYSE Comp...\n",
       " 16                      US  Major Dow Jones Industrial Average NYSE Compos...\n",
       " 17                   Major  Dow Jones Industrial Average NYSE Composite Na...\n",
       " 18                   Other  Dow Jones Transportation Average Dow Jones Uti...\n",
       " 19                  Canada                 S&P/TSX 60 S&P/TSX Composite Index\n",
       " 20                   Other  Indice de Precios y Cotizaciones (Mexico) COLC...\n",
       " 21                  Europe  UK FT 30 FTSE 100 Index FTSE 250 Index FTSE 35...\n",
       " 22                      UK  FT 30 FTSE 100 Index FTSE 250 Index FTSE 350 I...\n",
       " 23                  France  CAC 40 CAC Next 20 CAC Mid 60 CAC Small CAC Al...\n",
       " 24                   Other  AEX ATX BEL 20 BUX DAX FTSE MIB IBEX 35 ISEQ 2...\n",
       " 25                    Asia  China SSE Composite SZSE Component SSE 50 Inde...\n",
       " 26                   China  SSE Composite SZSE Component SSE 50 Index SSE ...\n",
       " 27                   India  BSE SENSEX NIFTY 50 NIFTY Next 50 NIFTY 500 GI...\n",
       " 28                   Japan                     Nikkei 225 TOPIX S&P/TOPIX 150\n",
       " 29             South Korea                             KOSPI KOSPI 200 KOSDAQ\n",
       " 30                   Other  KASE (Kazakhstan) KSE (Kyrgyzstan) Tashkent (U...\n",
       " 31                 Oceania  Australia S&P/ASX 20 S&P/ASX 50 S&P/ASX 200 S&...\n",
       " 32               Australia  S&P/ASX 20 S&P/ASX 50 S&P/ASX 200 S&P/ASX 300 ...\n",
       " 33             New Zealand                                   S&P/NZX 50 Index\n",
       " 34                  Africa                     EGX 30 JSE Top 40 MADEX NSE 30,\n",
       "              0                                                  1\n",
       " 0     Equities  MSCI ACWI Index MSCI World S&P Global 100 S&P ...\n",
       " 1  Commodities  Bloomberg Commodity Index S&P GSCI Deutsche Ba...,\n",
       "                0                                                  1\n",
       " 0           Asia                                        S&P Asia 50\n",
       " 1         Europe  EURO STOXX 50 STOXX Europe 600 FTSEurofirst 30...\n",
       " 2  Latin America                               S&P Latin America 40\n",
       " 3          Other                                 MSCI EAFE MSCI GCC,\n",
       "              0                                                  1\n",
       " 0       Energy                                     Amex Oil Index\n",
       " 1  Electronics                   PHLX Semiconductor Sector TecDax\n",
       " 2       Metals  HUI Gold Index Philadelphia Gold and Silver Index\n",
       " 3  Real estate                              CBV Real Estate Index\n",
       " 4        Water                              Palisades Water Index\n",
       " 5        Other                                   Baltic Dry Index,\n",
       "         0                                                  1\n",
       " 0      US  Major Dow Jones Industrial Average NYSE Compos...\n",
       " 1   Major  Dow Jones Industrial Average NYSE Composite Na...\n",
       " 2   Other  Dow Jones Transportation Average Dow Jones Uti...\n",
       " 3  Canada                 S&P/TSX 60 S&P/TSX Composite Index\n",
       " 4   Other  Indice de Precios y Cotizaciones (Mexico) COLC...,\n",
       "        0                                                  1\n",
       " 0  Major  Dow Jones Industrial Average NYSE Composite Na...\n",
       " 1  Other  Dow Jones Transportation Average Dow Jones Uti...,\n",
       "         0                                                  1\n",
       " 0      UK  FT 30 FTSE 100 Index FTSE 250 Index FTSE 350 I...\n",
       " 1  France  CAC 40 CAC Next 20 CAC Mid 60 CAC Small CAC Al...\n",
       " 2   Other  AEX ATX BEL 20 BUX DAX FTSE MIB IBEX 35 ISEQ 2...,\n",
       "              0                                                  1\n",
       " 0        China  SSE Composite SZSE Component SSE 50 Index SSE ...\n",
       " 1        India  BSE SENSEX NIFTY 50 NIFTY Next 50 NIFTY 500 GI...\n",
       " 2        Japan                     Nikkei 225 TOPIX S&P/TOPIX 150\n",
       " 3  South Korea                             KOSPI KOSPI 200 KOSDAQ\n",
       " 4        Other  KASE (Kazakhstan) KSE (Kyrgyzstan) Tashkent (U...,\n",
       "              0                                                  1\n",
       " 0    Australia  S&P/ASX 20 S&P/ASX 50 S&P/ASX 200 S&P/ASX 300 ...\n",
       " 1  New Zealand                                   S&P/NZX 50 Index,\n",
       "          vteMajor United States stock market indices  \\\n",
       " 0  Dow Jones Industrial Average historical compon...   \n",
       " \n",
       "        vteMajor United States stock market indices.1  \n",
       " 0  Dow Jones Industrial Average historical compon...  ,\n",
       "   vteMajor North and South American stock market indices  \\\n",
       " 0                                      United States       \n",
       " 1                                             Canada       \n",
       " 2                                             Mexico       \n",
       " 3                                           Colombia       \n",
       " 4                                             Brazil       \n",
       " 5                                              Chile       \n",
       " 6                                          Argentina       \n",
       " 7                                               Peru       \n",
       " \n",
       "   vteMajor North and South American stock market indices.1  \n",
       " 0  Dow Jones Industrial Average Dow Jones Transpo...        \n",
       " 1                 S&P/TSX 60 S&P/TSX Composite Index        \n",
       " 2                   Indice de Precios y Cotizaciones        \n",
       " 3  COLCAP Indice General de la Bolsa de Valores d...        \n",
       " 4                                     Índice Bovespa        \n",
       " 5            Índice de Precios Selectivo de Acciones        \n",
       " 6                                             MERVAL        \n",
       " 7                         S&P/BVL Peru General Index        ]"
      ]
     },
     "execution_count": 2,
     "metadata": {},
     "output_type": "execute_result"
    }
   ],
   "execution_count": 2
  },
  {
   "cell_type": "code",
   "id": "1b24ff08-adf5-4396-8e7a-d6779a1b9d77",
   "metadata": {
    "ExecuteTime": {
     "end_time": "2025-10-01T13:42:17.655720Z",
     "start_time": "2025-10-01T13:42:17.654107Z"
    }
   },
   "source": "tickers = data_table[4][\"Ticker\"].tolist()",
   "outputs": [],
   "execution_count": 3
  },
  {
   "metadata": {
    "ExecuteTime": {
     "end_time": "2025-10-01T13:42:17.665933Z",
     "start_time": "2025-10-01T13:42:17.664072Z"
    }
   },
   "cell_type": "code",
   "source": [
    "supp = ['ASML', 'AZN', 'F', 'G', 'GOOGL', 'H', 'I', 'J', 'L', 'O', 'Q', 'R', 'U', 'VRSK', 'W', 'Y']\n",
    "\n",
    "tickers = [x for x in tickers if x not in supp]\n",
    "print(len(tickers), len(supp))"
   ],
   "id": "71a1b132b62bcbee",
   "outputs": [
    {
     "name": "stdout",
     "output_type": "stream",
     "text": [
      "97 16\n"
     ]
    }
   ],
   "execution_count": 4
  },
  {
   "cell_type": "code",
   "id": "17d6901d-f2b7-48b7-88a9-48d3aee5d9b7",
   "metadata": {
    "ExecuteTime": {
     "end_time": "2025-10-01T13:42:17.686241Z",
     "start_time": "2025-10-01T13:42:17.674760Z"
    }
   },
   "source": [
    "# Extraction des données\n",
    "Date = data_table[5]['Date']\n",
    "Removed = data_table[5]['Removed']['Ticker']  # Supposant que 'Removed' est un DataFrame ou Series\n",
    "Added = data_table[5]['Added']['Ticker']      # Supposant que 'Added' est un DataFrame ou Series\n",
    "\n",
    "# Combinaison des données dans un DataFrame\n",
    "Data_Change = pd.concat([Date, Added, Removed], axis = 1)\n",
    "\n",
    "#Date au format Date\n",
    "Data_Change['Date'] = pd.to_datetime(Data_Change['Date'])\n",
    "\n",
    "# Changer le format de la date en 'jour/mois/année'\n",
    "Data_Change['Date'] = Data_Change['Date'].dt.strftime('%Y-%m-%d')\n",
    "\n",
    "\n",
    "# Renommer toutes les colonnes\n",
    "Data_Change.columns = ['Date', 'Added', 'Removed']\n",
    "\n",
    "# Mettre 'colonne_a' en tant qu'index\n",
    "Data_Change.set_index('Date', inplace=True)\n",
    "\n",
    "# Nan en vide\n",
    "Data_Change = Data_Change.fillna('')\n",
    "\n",
    "Data_Change"
   ],
   "outputs": [
    {
     "data": {
      "text/plain": [
       "            Added Removed\n",
       "Date                     \n",
       "2025-07-28    TRI        \n",
       "2025-07-17           ANSS\n",
       "2025-05-19   SHOP     MDB\n",
       "2024-12-23   PLTR    ILMN\n",
       "2024-12-23   MSTR    MRNA\n",
       "...           ...     ...\n",
       "2007-07-12   FWLT    BMET\n",
       "2007-06-01   CEPH    MEDI\n",
       "2007-03-08   UAUA    AEOS\n",
       "2007-02-14  RYAAY    APCC\n",
       "2007-02-01   LOGI    CMVT\n",
       "\n",
       "[207 rows x 2 columns]"
      ],
      "text/html": [
       "<div>\n",
       "<style scoped>\n",
       "    .dataframe tbody tr th:only-of-type {\n",
       "        vertical-align: middle;\n",
       "    }\n",
       "\n",
       "    .dataframe tbody tr th {\n",
       "        vertical-align: top;\n",
       "    }\n",
       "\n",
       "    .dataframe thead th {\n",
       "        text-align: right;\n",
       "    }\n",
       "</style>\n",
       "<table border=\"1\" class=\"dataframe\">\n",
       "  <thead>\n",
       "    <tr style=\"text-align: right;\">\n",
       "      <th></th>\n",
       "      <th>Added</th>\n",
       "      <th>Removed</th>\n",
       "    </tr>\n",
       "    <tr>\n",
       "      <th>Date</th>\n",
       "      <th></th>\n",
       "      <th></th>\n",
       "    </tr>\n",
       "  </thead>\n",
       "  <tbody>\n",
       "    <tr>\n",
       "      <th>2025-07-28</th>\n",
       "      <td>TRI</td>\n",
       "      <td></td>\n",
       "    </tr>\n",
       "    <tr>\n",
       "      <th>2025-07-17</th>\n",
       "      <td></td>\n",
       "      <td>ANSS</td>\n",
       "    </tr>\n",
       "    <tr>\n",
       "      <th>2025-05-19</th>\n",
       "      <td>SHOP</td>\n",
       "      <td>MDB</td>\n",
       "    </tr>\n",
       "    <tr>\n",
       "      <th>2024-12-23</th>\n",
       "      <td>PLTR</td>\n",
       "      <td>ILMN</td>\n",
       "    </tr>\n",
       "    <tr>\n",
       "      <th>2024-12-23</th>\n",
       "      <td>MSTR</td>\n",
       "      <td>MRNA</td>\n",
       "    </tr>\n",
       "    <tr>\n",
       "      <th>...</th>\n",
       "      <td>...</td>\n",
       "      <td>...</td>\n",
       "    </tr>\n",
       "    <tr>\n",
       "      <th>2007-07-12</th>\n",
       "      <td>FWLT</td>\n",
       "      <td>BMET</td>\n",
       "    </tr>\n",
       "    <tr>\n",
       "      <th>2007-06-01</th>\n",
       "      <td>CEPH</td>\n",
       "      <td>MEDI</td>\n",
       "    </tr>\n",
       "    <tr>\n",
       "      <th>2007-03-08</th>\n",
       "      <td>UAUA</td>\n",
       "      <td>AEOS</td>\n",
       "    </tr>\n",
       "    <tr>\n",
       "      <th>2007-02-14</th>\n",
       "      <td>RYAAY</td>\n",
       "      <td>APCC</td>\n",
       "    </tr>\n",
       "    <tr>\n",
       "      <th>2007-02-01</th>\n",
       "      <td>LOGI</td>\n",
       "      <td>CMVT</td>\n",
       "    </tr>\n",
       "  </tbody>\n",
       "</table>\n",
       "<p>207 rows × 2 columns</p>\n",
       "</div>"
      ]
     },
     "execution_count": 5,
     "metadata": {},
     "output_type": "execute_result"
    }
   ],
   "execution_count": 5
  },
  {
   "cell_type": "code",
   "id": "48c463b9-ff84-4821-85cb-6bde2c7350a6",
   "metadata": {
    "ExecuteTime": {
     "end_time": "2025-10-01T13:42:17.695901Z",
     "start_time": "2025-10-01T13:42:17.693986Z"
    }
   },
   "source": [
    "len(tickers)"
   ],
   "outputs": [
    {
     "data": {
      "text/plain": [
       "97"
      ]
     },
     "execution_count": 6,
     "metadata": {},
     "output_type": "execute_result"
    }
   ],
   "execution_count": 6
  },
  {
   "cell_type": "code",
   "id": "20a9d36e-3278-4048-b5f2-582ebcbdef5b",
   "metadata": {
    "scrolled": true,
    "ExecuteTime": {
     "end_time": "2025-10-01T13:42:17.796238Z",
     "start_time": "2025-10-01T13:42:17.704682Z"
    }
   },
   "source": [
    "# Supposons que la liste tickers ait déjà 503 éléments au départ\n",
    "# tickers = ['AAPL', 'MSFT', ...]  # Exemples de tickers initiaux\n",
    "\n",
    "# Initialiser un dictionnaire vide\n",
    "dict = {}\n",
    "\n",
    "# Boucle pour parcourir les données et mettre à jour le dictionnaire\n",
    "for i in range(0, len(Data_Change)):\n",
    "    \n",
    "    # Ajouter les nouveaux tickers (si ce n'est pas déjà un ensemble vide)\n",
    "    tickers.extend(Data_Change.Added[i])\n",
    "    \n",
    "    # Essayer de supprimer les tickers retirés, si possible\n",
    "    try:\n",
    "        tickers = [t for t in tickers if t not in Data_Change.Removed[i]]  # Supprimer les tickers retirés\n",
    "    except ValueError:\n",
    "        # Si l'élément à supprimer n'existe pas dans la liste, continuer sans erreur\n",
    "        pass\n",
    "    \n",
    "    # Trier les tickers\n",
    "    tickers = sorted(set(tickers))  # Utilisation de set pour éviter les doublons\n",
    "\n",
    "    # Ajouter une **copie** de la liste `tickers` dans le dictionnaire\n",
    "    dict[Data_Change.index[i]] = tickers.copy()\n",
    "\n",
    "df = pd.DataFrame(list(dict.items()), columns=['date', 'tickers'])\n",
    "\n",
    "df['date'] = pd.to_datetime(df['date'])\n",
    "\n",
    "# Mettre la colonne 'date' comme index\n",
    "df.set_index('date', inplace=True)\n",
    "\n",
    "df"
   ],
   "outputs": [
    {
     "name": "stderr",
     "output_type": "stream",
     "text": [
      "/var/folders/6k/82j2nnl13hj9ld7nmzpdt6fh0000gn/T/ipykernel_4171/1527443372.py:11: FutureWarning: Series.__getitem__ treating keys as positions is deprecated. In a future version, integer keys will always be treated as labels (consistent with DataFrame behavior). To access a value by position, use `ser.iloc[pos]`\n",
      "  tickers.extend(Data_Change.Added[i])\n",
      "/var/folders/6k/82j2nnl13hj9ld7nmzpdt6fh0000gn/T/ipykernel_4171/1527443372.py:15: FutureWarning: Series.__getitem__ treating keys as positions is deprecated. In a future version, integer keys will always be treated as labels (consistent with DataFrame behavior). To access a value by position, use `ser.iloc[pos]`\n",
      "  tickers = [t for t in tickers if t not in Data_Change.Removed[i]]  # Supprimer les tickers retirés\n"
     ]
    },
    {
     "data": {
      "text/plain": [
       "                                                      tickers\n",
       "date                                                         \n",
       "2025-07-28  [AAPL, ABNB, ADBE, ADI, ADP, ADSK, AEP, AMAT, ...\n",
       "2025-07-17  [AAPL, ABNB, ADBE, ADI, ADP, ADSK, AEP, AMAT, ...\n",
       "2025-05-19  [AAPL, ABNB, ADBE, ADI, ADP, ADSK, AEP, AMAT, ...\n",
       "2024-12-23  [A, AAPL, ABNB, ADBE, ADI, ADP, ADSK, AEP, AMA...\n",
       "2024-11-18  [A, AAPL, ABNB, ADBE, ADI, ADP, ADSK, AEP, AMA...\n",
       "...                                                       ...\n",
       "2007-07-12  [A, AAPL, ABNB, ADBE, ADI, ADP, ADSK, AEP, AMA...\n",
       "2007-06-01  [A, AAPL, ABNB, ADBE, ADI, ADP, ADSK, AEP, AMA...\n",
       "2007-03-08  [AAPL, ABNB, ADBE, ADI, ADP, ADSK, AEP, AMAT, ...\n",
       "2007-02-14  [AAPL, ABNB, ADBE, ADI, ADP, ADSK, AEP, AMAT, ...\n",
       "2007-02-01  [AAPL, ABNB, ADBE, ADI, ADP, ADSK, AEP, AMAT, ...\n",
       "\n",
       "[100 rows x 1 columns]"
      ],
      "text/html": [
       "<div>\n",
       "<style scoped>\n",
       "    .dataframe tbody tr th:only-of-type {\n",
       "        vertical-align: middle;\n",
       "    }\n",
       "\n",
       "    .dataframe tbody tr th {\n",
       "        vertical-align: top;\n",
       "    }\n",
       "\n",
       "    .dataframe thead th {\n",
       "        text-align: right;\n",
       "    }\n",
       "</style>\n",
       "<table border=\"1\" class=\"dataframe\">\n",
       "  <thead>\n",
       "    <tr style=\"text-align: right;\">\n",
       "      <th></th>\n",
       "      <th>tickers</th>\n",
       "    </tr>\n",
       "    <tr>\n",
       "      <th>date</th>\n",
       "      <th></th>\n",
       "    </tr>\n",
       "  </thead>\n",
       "  <tbody>\n",
       "    <tr>\n",
       "      <th>2025-07-28</th>\n",
       "      <td>[AAPL, ABNB, ADBE, ADI, ADP, ADSK, AEP, AMAT, ...</td>\n",
       "    </tr>\n",
       "    <tr>\n",
       "      <th>2025-07-17</th>\n",
       "      <td>[AAPL, ABNB, ADBE, ADI, ADP, ADSK, AEP, AMAT, ...</td>\n",
       "    </tr>\n",
       "    <tr>\n",
       "      <th>2025-05-19</th>\n",
       "      <td>[AAPL, ABNB, ADBE, ADI, ADP, ADSK, AEP, AMAT, ...</td>\n",
       "    </tr>\n",
       "    <tr>\n",
       "      <th>2024-12-23</th>\n",
       "      <td>[A, AAPL, ABNB, ADBE, ADI, ADP, ADSK, AEP, AMA...</td>\n",
       "    </tr>\n",
       "    <tr>\n",
       "      <th>2024-11-18</th>\n",
       "      <td>[A, AAPL, ABNB, ADBE, ADI, ADP, ADSK, AEP, AMA...</td>\n",
       "    </tr>\n",
       "    <tr>\n",
       "      <th>...</th>\n",
       "      <td>...</td>\n",
       "    </tr>\n",
       "    <tr>\n",
       "      <th>2007-07-12</th>\n",
       "      <td>[A, AAPL, ABNB, ADBE, ADI, ADP, ADSK, AEP, AMA...</td>\n",
       "    </tr>\n",
       "    <tr>\n",
       "      <th>2007-06-01</th>\n",
       "      <td>[A, AAPL, ABNB, ADBE, ADI, ADP, ADSK, AEP, AMA...</td>\n",
       "    </tr>\n",
       "    <tr>\n",
       "      <th>2007-03-08</th>\n",
       "      <td>[AAPL, ABNB, ADBE, ADI, ADP, ADSK, AEP, AMAT, ...</td>\n",
       "    </tr>\n",
       "    <tr>\n",
       "      <th>2007-02-14</th>\n",
       "      <td>[AAPL, ABNB, ADBE, ADI, ADP, ADSK, AEP, AMAT, ...</td>\n",
       "    </tr>\n",
       "    <tr>\n",
       "      <th>2007-02-01</th>\n",
       "      <td>[AAPL, ABNB, ADBE, ADI, ADP, ADSK, AEP, AMAT, ...</td>\n",
       "    </tr>\n",
       "  </tbody>\n",
       "</table>\n",
       "<p>100 rows × 1 columns</p>\n",
       "</div>"
      ]
     },
     "execution_count": 7,
     "metadata": {},
     "output_type": "execute_result"
    }
   ],
   "execution_count": 7
  },
  {
   "metadata": {
    "ExecuteTime": {
     "end_time": "2025-10-01T13:42:17.803133Z",
     "start_time": "2025-10-01T13:42:17.801214Z"
    }
   },
   "cell_type": "code",
   "source": [
    "# Récupère l'index en liste\n",
    "new_index = list(df.index)\n",
    "\n",
    "# Remplace la première valeur\n",
    "new_index[0] = datetime.today().date()\n",
    "\n",
    "# Réapplique l'index modifié\n",
    "df.index = pd.to_datetime(new_index)"
   ],
   "id": "7bb535b927d2bb5b",
   "outputs": [],
   "execution_count": 8
  },
  {
   "metadata": {
    "ExecuteTime": {
     "end_time": "2025-10-01T13:42:17.816045Z",
     "start_time": "2025-10-01T13:42:17.810797Z"
    }
   },
   "cell_type": "code",
   "source": "df",
   "id": "8726eeeb2cff1231",
   "outputs": [
    {
     "data": {
      "text/plain": [
       "                                                      tickers\n",
       "2025-10-01  [AAPL, ABNB, ADBE, ADI, ADP, ADSK, AEP, AMAT, ...\n",
       "2025-07-17  [AAPL, ABNB, ADBE, ADI, ADP, ADSK, AEP, AMAT, ...\n",
       "2025-05-19  [AAPL, ABNB, ADBE, ADI, ADP, ADSK, AEP, AMAT, ...\n",
       "2024-12-23  [A, AAPL, ABNB, ADBE, ADI, ADP, ADSK, AEP, AMA...\n",
       "2024-11-18  [A, AAPL, ABNB, ADBE, ADI, ADP, ADSK, AEP, AMA...\n",
       "...                                                       ...\n",
       "2007-07-12  [A, AAPL, ABNB, ADBE, ADI, ADP, ADSK, AEP, AMA...\n",
       "2007-06-01  [A, AAPL, ABNB, ADBE, ADI, ADP, ADSK, AEP, AMA...\n",
       "2007-03-08  [AAPL, ABNB, ADBE, ADI, ADP, ADSK, AEP, AMAT, ...\n",
       "2007-02-14  [AAPL, ABNB, ADBE, ADI, ADP, ADSK, AEP, AMAT, ...\n",
       "2007-02-01  [AAPL, ABNB, ADBE, ADI, ADP, ADSK, AEP, AMAT, ...\n",
       "\n",
       "[100 rows x 1 columns]"
      ],
      "text/html": [
       "<div>\n",
       "<style scoped>\n",
       "    .dataframe tbody tr th:only-of-type {\n",
       "        vertical-align: middle;\n",
       "    }\n",
       "\n",
       "    .dataframe tbody tr th {\n",
       "        vertical-align: top;\n",
       "    }\n",
       "\n",
       "    .dataframe thead th {\n",
       "        text-align: right;\n",
       "    }\n",
       "</style>\n",
       "<table border=\"1\" class=\"dataframe\">\n",
       "  <thead>\n",
       "    <tr style=\"text-align: right;\">\n",
       "      <th></th>\n",
       "      <th>tickers</th>\n",
       "    </tr>\n",
       "  </thead>\n",
       "  <tbody>\n",
       "    <tr>\n",
       "      <th>2025-10-01</th>\n",
       "      <td>[AAPL, ABNB, ADBE, ADI, ADP, ADSK, AEP, AMAT, ...</td>\n",
       "    </tr>\n",
       "    <tr>\n",
       "      <th>2025-07-17</th>\n",
       "      <td>[AAPL, ABNB, ADBE, ADI, ADP, ADSK, AEP, AMAT, ...</td>\n",
       "    </tr>\n",
       "    <tr>\n",
       "      <th>2025-05-19</th>\n",
       "      <td>[AAPL, ABNB, ADBE, ADI, ADP, ADSK, AEP, AMAT, ...</td>\n",
       "    </tr>\n",
       "    <tr>\n",
       "      <th>2024-12-23</th>\n",
       "      <td>[A, AAPL, ABNB, ADBE, ADI, ADP, ADSK, AEP, AMA...</td>\n",
       "    </tr>\n",
       "    <tr>\n",
       "      <th>2024-11-18</th>\n",
       "      <td>[A, AAPL, ABNB, ADBE, ADI, ADP, ADSK, AEP, AMA...</td>\n",
       "    </tr>\n",
       "    <tr>\n",
       "      <th>...</th>\n",
       "      <td>...</td>\n",
       "    </tr>\n",
       "    <tr>\n",
       "      <th>2007-07-12</th>\n",
       "      <td>[A, AAPL, ABNB, ADBE, ADI, ADP, ADSK, AEP, AMA...</td>\n",
       "    </tr>\n",
       "    <tr>\n",
       "      <th>2007-06-01</th>\n",
       "      <td>[A, AAPL, ABNB, ADBE, ADI, ADP, ADSK, AEP, AMA...</td>\n",
       "    </tr>\n",
       "    <tr>\n",
       "      <th>2007-03-08</th>\n",
       "      <td>[AAPL, ABNB, ADBE, ADI, ADP, ADSK, AEP, AMAT, ...</td>\n",
       "    </tr>\n",
       "    <tr>\n",
       "      <th>2007-02-14</th>\n",
       "      <td>[AAPL, ABNB, ADBE, ADI, ADP, ADSK, AEP, AMAT, ...</td>\n",
       "    </tr>\n",
       "    <tr>\n",
       "      <th>2007-02-01</th>\n",
       "      <td>[AAPL, ABNB, ADBE, ADI, ADP, ADSK, AEP, AMAT, ...</td>\n",
       "    </tr>\n",
       "  </tbody>\n",
       "</table>\n",
       "<p>100 rows × 1 columns</p>\n",
       "</div>"
      ]
     },
     "execution_count": 9,
     "metadata": {},
     "output_type": "execute_result"
    }
   ],
   "execution_count": 9
  },
  {
   "metadata": {
    "ExecuteTime": {
     "end_time": "2025-10-01T13:42:17.885641Z",
     "start_time": "2025-10-01T13:42:17.822335Z"
    }
   },
   "cell_type": "code",
   "source": [
    "\n",
    "data_SP500_old = pd.read_parquet('/Users/forget/Library/Mobile Documents/com~apple~CloudDocs/Project Stock Market Deep Learning/Data/data_NASDAQ.parquet')\n",
    "last_date = data_SP500_old['Date'].sort_values(ascending=True).iloc[-1] + timedelta(days=1)\n",
    "last_date\n"
   ],
   "id": "d328e69739b0f844",
   "outputs": [
    {
     "data": {
      "text/plain": [
       "Timestamp('2025-09-27 00:00:00')"
      ]
     },
     "execution_count": 10,
     "metadata": {},
     "output_type": "execute_result"
    }
   ],
   "execution_count": 10
  },
  {
   "metadata": {
    "ExecuteTime": {
     "end_time": "2025-10-01T13:42:17.895294Z",
     "start_time": "2025-10-01T13:42:17.889442Z"
    }
   },
   "cell_type": "code",
   "source": [
    "\n",
    "df['Last_Date'] = last_date\n",
    "df"
   ],
   "id": "4ee6f7fd0f2fe091",
   "outputs": [
    {
     "data": {
      "text/plain": [
       "                                                      tickers  Last_Date\n",
       "2025-10-01  [AAPL, ABNB, ADBE, ADI, ADP, ADSK, AEP, AMAT, ... 2025-09-27\n",
       "2025-07-17  [AAPL, ABNB, ADBE, ADI, ADP, ADSK, AEP, AMAT, ... 2025-09-27\n",
       "2025-05-19  [AAPL, ABNB, ADBE, ADI, ADP, ADSK, AEP, AMAT, ... 2025-09-27\n",
       "2024-12-23  [A, AAPL, ABNB, ADBE, ADI, ADP, ADSK, AEP, AMA... 2025-09-27\n",
       "2024-11-18  [A, AAPL, ABNB, ADBE, ADI, ADP, ADSK, AEP, AMA... 2025-09-27\n",
       "...                                                       ...        ...\n",
       "2007-07-12  [A, AAPL, ABNB, ADBE, ADI, ADP, ADSK, AEP, AMA... 2025-09-27\n",
       "2007-06-01  [A, AAPL, ABNB, ADBE, ADI, ADP, ADSK, AEP, AMA... 2025-09-27\n",
       "2007-03-08  [AAPL, ABNB, ADBE, ADI, ADP, ADSK, AEP, AMAT, ... 2025-09-27\n",
       "2007-02-14  [AAPL, ABNB, ADBE, ADI, ADP, ADSK, AEP, AMAT, ... 2025-09-27\n",
       "2007-02-01  [AAPL, ABNB, ADBE, ADI, ADP, ADSK, AEP, AMAT, ... 2025-09-27\n",
       "\n",
       "[100 rows x 2 columns]"
      ],
      "text/html": [
       "<div>\n",
       "<style scoped>\n",
       "    .dataframe tbody tr th:only-of-type {\n",
       "        vertical-align: middle;\n",
       "    }\n",
       "\n",
       "    .dataframe tbody tr th {\n",
       "        vertical-align: top;\n",
       "    }\n",
       "\n",
       "    .dataframe thead th {\n",
       "        text-align: right;\n",
       "    }\n",
       "</style>\n",
       "<table border=\"1\" class=\"dataframe\">\n",
       "  <thead>\n",
       "    <tr style=\"text-align: right;\">\n",
       "      <th></th>\n",
       "      <th>tickers</th>\n",
       "      <th>Last_Date</th>\n",
       "    </tr>\n",
       "  </thead>\n",
       "  <tbody>\n",
       "    <tr>\n",
       "      <th>2025-10-01</th>\n",
       "      <td>[AAPL, ABNB, ADBE, ADI, ADP, ADSK, AEP, AMAT, ...</td>\n",
       "      <td>2025-09-27</td>\n",
       "    </tr>\n",
       "    <tr>\n",
       "      <th>2025-07-17</th>\n",
       "      <td>[AAPL, ABNB, ADBE, ADI, ADP, ADSK, AEP, AMAT, ...</td>\n",
       "      <td>2025-09-27</td>\n",
       "    </tr>\n",
       "    <tr>\n",
       "      <th>2025-05-19</th>\n",
       "      <td>[AAPL, ABNB, ADBE, ADI, ADP, ADSK, AEP, AMAT, ...</td>\n",
       "      <td>2025-09-27</td>\n",
       "    </tr>\n",
       "    <tr>\n",
       "      <th>2024-12-23</th>\n",
       "      <td>[A, AAPL, ABNB, ADBE, ADI, ADP, ADSK, AEP, AMA...</td>\n",
       "      <td>2025-09-27</td>\n",
       "    </tr>\n",
       "    <tr>\n",
       "      <th>2024-11-18</th>\n",
       "      <td>[A, AAPL, ABNB, ADBE, ADI, ADP, ADSK, AEP, AMA...</td>\n",
       "      <td>2025-09-27</td>\n",
       "    </tr>\n",
       "    <tr>\n",
       "      <th>...</th>\n",
       "      <td>...</td>\n",
       "      <td>...</td>\n",
       "    </tr>\n",
       "    <tr>\n",
       "      <th>2007-07-12</th>\n",
       "      <td>[A, AAPL, ABNB, ADBE, ADI, ADP, ADSK, AEP, AMA...</td>\n",
       "      <td>2025-09-27</td>\n",
       "    </tr>\n",
       "    <tr>\n",
       "      <th>2007-06-01</th>\n",
       "      <td>[A, AAPL, ABNB, ADBE, ADI, ADP, ADSK, AEP, AMA...</td>\n",
       "      <td>2025-09-27</td>\n",
       "    </tr>\n",
       "    <tr>\n",
       "      <th>2007-03-08</th>\n",
       "      <td>[AAPL, ABNB, ADBE, ADI, ADP, ADSK, AEP, AMAT, ...</td>\n",
       "      <td>2025-09-27</td>\n",
       "    </tr>\n",
       "    <tr>\n",
       "      <th>2007-02-14</th>\n",
       "      <td>[AAPL, ABNB, ADBE, ADI, ADP, ADSK, AEP, AMAT, ...</td>\n",
       "      <td>2025-09-27</td>\n",
       "    </tr>\n",
       "    <tr>\n",
       "      <th>2007-02-01</th>\n",
       "      <td>[AAPL, ABNB, ADBE, ADI, ADP, ADSK, AEP, AMAT, ...</td>\n",
       "      <td>2025-09-27</td>\n",
       "    </tr>\n",
       "  </tbody>\n",
       "</table>\n",
       "<p>100 rows × 2 columns</p>\n",
       "</div>"
      ]
     },
     "execution_count": 11,
     "metadata": {},
     "output_type": "execute_result"
    }
   ],
   "execution_count": 11
  },
  {
   "metadata": {
    "ExecuteTime": {
     "end_time": "2025-10-01T13:42:17.909636Z",
     "start_time": "2025-10-01T13:42:17.899684Z"
    }
   },
   "cell_type": "code",
   "source": [
    "\n",
    "# Initialiser une DataFrame vide pour stocker toutes les données\n",
    "data_SP500 = pd.DataFrame()\n",
    "\n",
    "df = df.explode('tickers')\n",
    "end_date = df[df.index > last_date].groupby('tickers').apply(lambda x: x.index.max())\n",
    "\n",
    "# Combiner les résultats dans une nouvelle DataFrame\n",
    "resultat = pd.DataFrame({'Start': last_date, 'End': end_date})\n",
    "resultat\n"
   ],
   "id": "1b8881d53f757d6b",
   "outputs": [
    {
     "name": "stderr",
     "output_type": "stream",
     "text": [
      "/var/folders/6k/82j2nnl13hj9ld7nmzpdt6fh0000gn/T/ipykernel_4171/2328952231.py:5: FutureWarning: DataFrameGroupBy.apply operated on the grouping columns. This behavior is deprecated, and in a future version of pandas the grouping columns will be excluded from the operation. Either pass `include_groups=False` to exclude the groupings or explicitly select the grouping columns after groupby to silence this warning.\n",
      "  end_date = df[df.index > last_date].groupby('tickers').apply(lambda x: x.index.max())\n"
     ]
    },
    {
     "data": {
      "text/plain": [
       "             Start        End\n",
       "tickers                      \n",
       "AAPL    2025-09-27 2025-10-01\n",
       "ABNB    2025-09-27 2025-10-01\n",
       "ADBE    2025-09-27 2025-10-01\n",
       "ADI     2025-09-27 2025-10-01\n",
       "ADP     2025-09-27 2025-10-01\n",
       "...            ...        ...\n",
       "VRTX    2025-09-27 2025-10-01\n",
       "WBD     2025-09-27 2025-10-01\n",
       "WDAY    2025-09-27 2025-10-01\n",
       "XEL     2025-09-27 2025-10-01\n",
       "ZS      2025-09-27 2025-10-01\n",
       "\n",
       "[100 rows x 2 columns]"
      ],
      "text/html": [
       "<div>\n",
       "<style scoped>\n",
       "    .dataframe tbody tr th:only-of-type {\n",
       "        vertical-align: middle;\n",
       "    }\n",
       "\n",
       "    .dataframe tbody tr th {\n",
       "        vertical-align: top;\n",
       "    }\n",
       "\n",
       "    .dataframe thead th {\n",
       "        text-align: right;\n",
       "    }\n",
       "</style>\n",
       "<table border=\"1\" class=\"dataframe\">\n",
       "  <thead>\n",
       "    <tr style=\"text-align: right;\">\n",
       "      <th></th>\n",
       "      <th>Start</th>\n",
       "      <th>End</th>\n",
       "    </tr>\n",
       "    <tr>\n",
       "      <th>tickers</th>\n",
       "      <th></th>\n",
       "      <th></th>\n",
       "    </tr>\n",
       "  </thead>\n",
       "  <tbody>\n",
       "    <tr>\n",
       "      <th>AAPL</th>\n",
       "      <td>2025-09-27</td>\n",
       "      <td>2025-10-01</td>\n",
       "    </tr>\n",
       "    <tr>\n",
       "      <th>ABNB</th>\n",
       "      <td>2025-09-27</td>\n",
       "      <td>2025-10-01</td>\n",
       "    </tr>\n",
       "    <tr>\n",
       "      <th>ADBE</th>\n",
       "      <td>2025-09-27</td>\n",
       "      <td>2025-10-01</td>\n",
       "    </tr>\n",
       "    <tr>\n",
       "      <th>ADI</th>\n",
       "      <td>2025-09-27</td>\n",
       "      <td>2025-10-01</td>\n",
       "    </tr>\n",
       "    <tr>\n",
       "      <th>ADP</th>\n",
       "      <td>2025-09-27</td>\n",
       "      <td>2025-10-01</td>\n",
       "    </tr>\n",
       "    <tr>\n",
       "      <th>...</th>\n",
       "      <td>...</td>\n",
       "      <td>...</td>\n",
       "    </tr>\n",
       "    <tr>\n",
       "      <th>VRTX</th>\n",
       "      <td>2025-09-27</td>\n",
       "      <td>2025-10-01</td>\n",
       "    </tr>\n",
       "    <tr>\n",
       "      <th>WBD</th>\n",
       "      <td>2025-09-27</td>\n",
       "      <td>2025-10-01</td>\n",
       "    </tr>\n",
       "    <tr>\n",
       "      <th>WDAY</th>\n",
       "      <td>2025-09-27</td>\n",
       "      <td>2025-10-01</td>\n",
       "    </tr>\n",
       "    <tr>\n",
       "      <th>XEL</th>\n",
       "      <td>2025-09-27</td>\n",
       "      <td>2025-10-01</td>\n",
       "    </tr>\n",
       "    <tr>\n",
       "      <th>ZS</th>\n",
       "      <td>2025-09-27</td>\n",
       "      <td>2025-10-01</td>\n",
       "    </tr>\n",
       "  </tbody>\n",
       "</table>\n",
       "<p>100 rows × 2 columns</p>\n",
       "</div>"
      ]
     },
     "execution_count": 12,
     "metadata": {},
     "output_type": "execute_result"
    }
   ],
   "execution_count": 12
  },
  {
   "metadata": {
    "ExecuteTime": {
     "end_time": "2025-10-01T13:42:17.918936Z",
     "start_time": "2025-10-01T13:42:17.916501Z"
    }
   },
   "cell_type": "code",
   "source": [
    "\"\"\"\n",
    "# Initialiser une DataFrame vide pour stocker toutes les données\n",
    "data_SP500 = pd.DataFrame()\n",
    "\n",
    "df = df.explode('tickers')\n",
    "start_date = df.groupby('tickers').apply(lambda x: x.index.min())\n",
    "end_date = df.groupby('tickers').apply(lambda x: x.index.max())\n",
    "\n",
    "# Combiner les résultats dans une nouvelle DataFrame\n",
    "resultat = pd.DataFrame({'Start': start_date, 'End': end_date})\n",
    "resultat\n",
    "\"\"\""
   ],
   "id": "435eb2e7a8761814",
   "outputs": [
    {
     "data": {
      "text/plain": [
       "\"\\n# Initialiser une DataFrame vide pour stocker toutes les données\\ndata_SP500 = pd.DataFrame()\\n\\ndf = df.explode('tickers')\\nstart_date = df.groupby('tickers').apply(lambda x: x.index.min())\\nend_date = df.groupby('tickers').apply(lambda x: x.index.max())\\n\\n# Combiner les résultats dans une nouvelle DataFrame\\nresultat = pd.DataFrame({'Start': start_date, 'End': end_date})\\nresultat\\n\""
      ]
     },
     "execution_count": 13,
     "metadata": {},
     "output_type": "execute_result"
    }
   ],
   "execution_count": 13
  },
  {
   "cell_type": "code",
   "id": "8edfe1d8-b9a5-4a07-ae0a-164b36e7b60c",
   "metadata": {
    "ExecuteTime": {
     "end_time": "2025-10-01T13:42:55.188335Z",
     "start_time": "2025-10-01T13:42:17.930805Z"
    }
   },
   "source": [
    "# Télécharger les données pour chaque ticker\n",
    "for ticker in resultat.index:\n",
    "    start_date = resultat.loc[ticker, 'Start']\n",
    "    end_date = resultat.loc[ticker, 'End']\n",
    "\n",
    "    print(f\"Téléchargement des données pour {ticker} de {start_date} à {end_date}\")\n",
    "\n",
    "    # Télécharger les données de l'action entre les dates spécifiées\n",
    "    data = yf.download(\n",
    "                        ticker,\n",
    "                        start=start_date,\n",
    "                        end=end_date,\n",
    "                        interval=\"1d\",\n",
    "                        auto_adjust=True,\n",
    "                        actions=False\n",
    "                        )\n",
    "\n",
    "    # Ajouter une colonne pour identifier le ticker\n",
    "    data['Ticker'] = ticker\n",
    "\n",
    "    # On retire le niveau des tickers pour ne garder que 'Close' et 'Volume'\n",
    "    data.columns = data.columns.droplevel(level=1)\n",
    "    \n",
    "    # Concaténer les données dans la DataFrame globale\n",
    "    data_SP500 = pd.concat([data_SP500, data])\n",
    "\n",
    "# Affichage de la DataFrame résultante\n",
    "data_SP500"
   ],
   "outputs": [
    {
     "name": "stdout",
     "output_type": "stream",
     "text": [
      "Téléchargement des données pour AAPL de 2025-09-27 00:00:00 à 2025-10-01 00:00:00\n"
     ]
    },
    {
     "name": "stderr",
     "output_type": "stream",
     "text": [
      "[*********************100%***********************]  1 of 1 completed\n"
     ]
    },
    {
     "name": "stdout",
     "output_type": "stream",
     "text": [
      "Téléchargement des données pour ABNB de 2025-09-27 00:00:00 à 2025-10-01 00:00:00\n"
     ]
    },
    {
     "name": "stderr",
     "output_type": "stream",
     "text": [
      "[*********************100%***********************]  1 of 1 completed\n"
     ]
    },
    {
     "name": "stdout",
     "output_type": "stream",
     "text": [
      "Téléchargement des données pour ADBE de 2025-09-27 00:00:00 à 2025-10-01 00:00:00\n"
     ]
    },
    {
     "name": "stderr",
     "output_type": "stream",
     "text": [
      "[*********************100%***********************]  1 of 1 completed\n"
     ]
    },
    {
     "name": "stdout",
     "output_type": "stream",
     "text": [
      "Téléchargement des données pour ADI de 2025-09-27 00:00:00 à 2025-10-01 00:00:00\n"
     ]
    },
    {
     "name": "stderr",
     "output_type": "stream",
     "text": [
      "[*********************100%***********************]  1 of 1 completed\n"
     ]
    },
    {
     "name": "stdout",
     "output_type": "stream",
     "text": [
      "Téléchargement des données pour ADP de 2025-09-27 00:00:00 à 2025-10-01 00:00:00\n"
     ]
    },
    {
     "name": "stderr",
     "output_type": "stream",
     "text": [
      "[*********************100%***********************]  1 of 1 completed\n"
     ]
    },
    {
     "name": "stdout",
     "output_type": "stream",
     "text": [
      "Téléchargement des données pour ADSK de 2025-09-27 00:00:00 à 2025-10-01 00:00:00\n"
     ]
    },
    {
     "name": "stderr",
     "output_type": "stream",
     "text": [
      "[*********************100%***********************]  1 of 1 completed\n"
     ]
    },
    {
     "name": "stdout",
     "output_type": "stream",
     "text": [
      "Téléchargement des données pour AEP de 2025-09-27 00:00:00 à 2025-10-01 00:00:00\n"
     ]
    },
    {
     "name": "stderr",
     "output_type": "stream",
     "text": [
      "[*********************100%***********************]  1 of 1 completed\n"
     ]
    },
    {
     "name": "stdout",
     "output_type": "stream",
     "text": [
      "Téléchargement des données pour AMAT de 2025-09-27 00:00:00 à 2025-10-01 00:00:00\n"
     ]
    },
    {
     "name": "stderr",
     "output_type": "stream",
     "text": [
      "[*********************100%***********************]  1 of 1 completed\n"
     ]
    },
    {
     "name": "stdout",
     "output_type": "stream",
     "text": [
      "Téléchargement des données pour AMD de 2025-09-27 00:00:00 à 2025-10-01 00:00:00\n"
     ]
    },
    {
     "name": "stderr",
     "output_type": "stream",
     "text": [
      "[*********************100%***********************]  1 of 1 completed\n"
     ]
    },
    {
     "name": "stdout",
     "output_type": "stream",
     "text": [
      "Téléchargement des données pour AMGN de 2025-09-27 00:00:00 à 2025-10-01 00:00:00\n"
     ]
    },
    {
     "name": "stderr",
     "output_type": "stream",
     "text": [
      "[*********************100%***********************]  1 of 1 completed\n"
     ]
    },
    {
     "name": "stdout",
     "output_type": "stream",
     "text": [
      "Téléchargement des données pour AMZN de 2025-09-27 00:00:00 à 2025-10-01 00:00:00\n"
     ]
    },
    {
     "name": "stderr",
     "output_type": "stream",
     "text": [
      "[*********************100%***********************]  1 of 1 completed\n"
     ]
    },
    {
     "name": "stdout",
     "output_type": "stream",
     "text": [
      "Téléchargement des données pour APP de 2025-09-27 00:00:00 à 2025-10-01 00:00:00\n"
     ]
    },
    {
     "name": "stderr",
     "output_type": "stream",
     "text": [
      "[*********************100%***********************]  1 of 1 completed\n"
     ]
    },
    {
     "name": "stdout",
     "output_type": "stream",
     "text": [
      "Téléchargement des données pour ARM de 2025-09-27 00:00:00 à 2025-10-01 00:00:00\n"
     ]
    },
    {
     "name": "stderr",
     "output_type": "stream",
     "text": [
      "[*********************100%***********************]  1 of 1 completed\n"
     ]
    },
    {
     "name": "stdout",
     "output_type": "stream",
     "text": [
      "Téléchargement des données pour AVGO de 2025-09-27 00:00:00 à 2025-10-01 00:00:00\n"
     ]
    },
    {
     "name": "stderr",
     "output_type": "stream",
     "text": [
      "[*********************100%***********************]  1 of 1 completed\n"
     ]
    },
    {
     "name": "stdout",
     "output_type": "stream",
     "text": [
      "Téléchargement des données pour AXON de 2025-09-27 00:00:00 à 2025-10-01 00:00:00\n"
     ]
    },
    {
     "name": "stderr",
     "output_type": "stream",
     "text": [
      "[*********************100%***********************]  1 of 1 completed\n"
     ]
    },
    {
     "name": "stdout",
     "output_type": "stream",
     "text": [
      "Téléchargement des données pour BIIB de 2025-09-27 00:00:00 à 2025-10-01 00:00:00\n"
     ]
    },
    {
     "name": "stderr",
     "output_type": "stream",
     "text": [
      "[*********************100%***********************]  1 of 1 completed\n"
     ]
    },
    {
     "name": "stdout",
     "output_type": "stream",
     "text": [
      "Téléchargement des données pour BKNG de 2025-09-27 00:00:00 à 2025-10-01 00:00:00\n"
     ]
    },
    {
     "name": "stderr",
     "output_type": "stream",
     "text": [
      "[*********************100%***********************]  1 of 1 completed\n"
     ]
    },
    {
     "name": "stdout",
     "output_type": "stream",
     "text": [
      "Téléchargement des données pour BKR de 2025-09-27 00:00:00 à 2025-10-01 00:00:00\n"
     ]
    },
    {
     "name": "stderr",
     "output_type": "stream",
     "text": [
      "[*********************100%***********************]  1 of 1 completed\n"
     ]
    },
    {
     "name": "stdout",
     "output_type": "stream",
     "text": [
      "Téléchargement des données pour CCEP de 2025-09-27 00:00:00 à 2025-10-01 00:00:00\n"
     ]
    },
    {
     "name": "stderr",
     "output_type": "stream",
     "text": [
      "[*********************100%***********************]  1 of 1 completed\n"
     ]
    },
    {
     "name": "stdout",
     "output_type": "stream",
     "text": [
      "Téléchargement des données pour CDNS de 2025-09-27 00:00:00 à 2025-10-01 00:00:00\n"
     ]
    },
    {
     "name": "stderr",
     "output_type": "stream",
     "text": [
      "[*********************100%***********************]  1 of 1 completed\n"
     ]
    },
    {
     "name": "stdout",
     "output_type": "stream",
     "text": [
      "Téléchargement des données pour CDW de 2025-09-27 00:00:00 à 2025-10-01 00:00:00\n"
     ]
    },
    {
     "name": "stderr",
     "output_type": "stream",
     "text": [
      "[*********************100%***********************]  1 of 1 completed\n"
     ]
    },
    {
     "name": "stdout",
     "output_type": "stream",
     "text": [
      "Téléchargement des données pour CEG de 2025-09-27 00:00:00 à 2025-10-01 00:00:00\n"
     ]
    },
    {
     "name": "stderr",
     "output_type": "stream",
     "text": [
      "[*********************100%***********************]  1 of 1 completed\n"
     ]
    },
    {
     "name": "stdout",
     "output_type": "stream",
     "text": [
      "Téléchargement des données pour CHTR de 2025-09-27 00:00:00 à 2025-10-01 00:00:00\n"
     ]
    },
    {
     "name": "stderr",
     "output_type": "stream",
     "text": [
      "[*********************100%***********************]  1 of 1 completed\n"
     ]
    },
    {
     "name": "stdout",
     "output_type": "stream",
     "text": [
      "Téléchargement des données pour CMCSA de 2025-09-27 00:00:00 à 2025-10-01 00:00:00\n"
     ]
    },
    {
     "name": "stderr",
     "output_type": "stream",
     "text": [
      "[*********************100%***********************]  1 of 1 completed\n"
     ]
    },
    {
     "name": "stdout",
     "output_type": "stream",
     "text": [
      "Téléchargement des données pour COST de 2025-09-27 00:00:00 à 2025-10-01 00:00:00\n"
     ]
    },
    {
     "name": "stderr",
     "output_type": "stream",
     "text": [
      "[*********************100%***********************]  1 of 1 completed\n"
     ]
    },
    {
     "name": "stdout",
     "output_type": "stream",
     "text": [
      "Téléchargement des données pour CPRT de 2025-09-27 00:00:00 à 2025-10-01 00:00:00\n"
     ]
    },
    {
     "name": "stderr",
     "output_type": "stream",
     "text": [
      "[*********************100%***********************]  1 of 1 completed\n"
     ]
    },
    {
     "name": "stdout",
     "output_type": "stream",
     "text": [
      "Téléchargement des données pour CRWD de 2025-09-27 00:00:00 à 2025-10-01 00:00:00\n"
     ]
    },
    {
     "name": "stderr",
     "output_type": "stream",
     "text": [
      "[*********************100%***********************]  1 of 1 completed\n"
     ]
    },
    {
     "name": "stdout",
     "output_type": "stream",
     "text": [
      "Téléchargement des données pour CSCO de 2025-09-27 00:00:00 à 2025-10-01 00:00:00\n"
     ]
    },
    {
     "name": "stderr",
     "output_type": "stream",
     "text": [
      "[*********************100%***********************]  1 of 1 completed\n"
     ]
    },
    {
     "name": "stdout",
     "output_type": "stream",
     "text": [
      "Téléchargement des données pour CSGP de 2025-09-27 00:00:00 à 2025-10-01 00:00:00\n"
     ]
    },
    {
     "name": "stderr",
     "output_type": "stream",
     "text": [
      "[*********************100%***********************]  1 of 1 completed\n"
     ]
    },
    {
     "name": "stdout",
     "output_type": "stream",
     "text": [
      "Téléchargement des données pour CSX de 2025-09-27 00:00:00 à 2025-10-01 00:00:00\n"
     ]
    },
    {
     "name": "stderr",
     "output_type": "stream",
     "text": [
      "[*********************100%***********************]  1 of 1 completed\n"
     ]
    },
    {
     "name": "stdout",
     "output_type": "stream",
     "text": [
      "Téléchargement des données pour CTAS de 2025-09-27 00:00:00 à 2025-10-01 00:00:00\n"
     ]
    },
    {
     "name": "stderr",
     "output_type": "stream",
     "text": [
      "[*********************100%***********************]  1 of 1 completed\n"
     ]
    },
    {
     "name": "stdout",
     "output_type": "stream",
     "text": [
      "Téléchargement des données pour CTSH de 2025-09-27 00:00:00 à 2025-10-01 00:00:00\n"
     ]
    },
    {
     "name": "stderr",
     "output_type": "stream",
     "text": [
      "[*********************100%***********************]  1 of 1 completed\n"
     ]
    },
    {
     "name": "stdout",
     "output_type": "stream",
     "text": [
      "Téléchargement des données pour DASH de 2025-09-27 00:00:00 à 2025-10-01 00:00:00\n"
     ]
    },
    {
     "name": "stderr",
     "output_type": "stream",
     "text": [
      "[*********************100%***********************]  1 of 1 completed\n"
     ]
    },
    {
     "name": "stdout",
     "output_type": "stream",
     "text": [
      "Téléchargement des données pour DDOG de 2025-09-27 00:00:00 à 2025-10-01 00:00:00\n"
     ]
    },
    {
     "name": "stderr",
     "output_type": "stream",
     "text": [
      "[*********************100%***********************]  1 of 1 completed\n"
     ]
    },
    {
     "name": "stdout",
     "output_type": "stream",
     "text": [
      "Téléchargement des données pour DXCM de 2025-09-27 00:00:00 à 2025-10-01 00:00:00\n"
     ]
    },
    {
     "name": "stderr",
     "output_type": "stream",
     "text": [
      "[*********************100%***********************]  1 of 1 completed\n"
     ]
    },
    {
     "name": "stdout",
     "output_type": "stream",
     "text": [
      "Téléchargement des données pour EA de 2025-09-27 00:00:00 à 2025-10-01 00:00:00\n"
     ]
    },
    {
     "name": "stderr",
     "output_type": "stream",
     "text": [
      "[*********************100%***********************]  1 of 1 completed\n"
     ]
    },
    {
     "name": "stdout",
     "output_type": "stream",
     "text": [
      "Téléchargement des données pour EXC de 2025-09-27 00:00:00 à 2025-10-01 00:00:00\n"
     ]
    },
    {
     "name": "stderr",
     "output_type": "stream",
     "text": [
      "[*********************100%***********************]  1 of 1 completed\n"
     ]
    },
    {
     "name": "stdout",
     "output_type": "stream",
     "text": [
      "Téléchargement des données pour FANG de 2025-09-27 00:00:00 à 2025-10-01 00:00:00\n"
     ]
    },
    {
     "name": "stderr",
     "output_type": "stream",
     "text": [
      "[*********************100%***********************]  1 of 1 completed\n"
     ]
    },
    {
     "name": "stdout",
     "output_type": "stream",
     "text": [
      "Téléchargement des données pour FAST de 2025-09-27 00:00:00 à 2025-10-01 00:00:00\n"
     ]
    },
    {
     "name": "stderr",
     "output_type": "stream",
     "text": [
      "[*********************100%***********************]  1 of 1 completed\n"
     ]
    },
    {
     "name": "stdout",
     "output_type": "stream",
     "text": [
      "Téléchargement des données pour FTNT de 2025-09-27 00:00:00 à 2025-10-01 00:00:00\n"
     ]
    },
    {
     "name": "stderr",
     "output_type": "stream",
     "text": [
      "[*********************100%***********************]  1 of 1 completed\n"
     ]
    },
    {
     "name": "stdout",
     "output_type": "stream",
     "text": [
      "Téléchargement des données pour GEHC de 2025-09-27 00:00:00 à 2025-10-01 00:00:00\n"
     ]
    },
    {
     "name": "stderr",
     "output_type": "stream",
     "text": [
      "[*********************100%***********************]  1 of 1 completed\n"
     ]
    },
    {
     "name": "stdout",
     "output_type": "stream",
     "text": [
      "Téléchargement des données pour GFS de 2025-09-27 00:00:00 à 2025-10-01 00:00:00\n"
     ]
    },
    {
     "name": "stderr",
     "output_type": "stream",
     "text": [
      "[*********************100%***********************]  1 of 1 completed\n"
     ]
    },
    {
     "name": "stdout",
     "output_type": "stream",
     "text": [
      "Téléchargement des données pour GILD de 2025-09-27 00:00:00 à 2025-10-01 00:00:00\n"
     ]
    },
    {
     "name": "stderr",
     "output_type": "stream",
     "text": [
      "[*********************100%***********************]  1 of 1 completed\n"
     ]
    },
    {
     "name": "stdout",
     "output_type": "stream",
     "text": [
      "Téléchargement des données pour GOOG de 2025-09-27 00:00:00 à 2025-10-01 00:00:00\n"
     ]
    },
    {
     "name": "stderr",
     "output_type": "stream",
     "text": [
      "[*********************100%***********************]  1 of 1 completed\n"
     ]
    },
    {
     "name": "stdout",
     "output_type": "stream",
     "text": [
      "Téléchargement des données pour HON de 2025-09-27 00:00:00 à 2025-10-01 00:00:00\n"
     ]
    },
    {
     "name": "stderr",
     "output_type": "stream",
     "text": [
      "[*********************100%***********************]  1 of 1 completed\n"
     ]
    },
    {
     "name": "stdout",
     "output_type": "stream",
     "text": [
      "Téléchargement des données pour I de 2025-09-27 00:00:00 à 2025-10-01 00:00:00\n"
     ]
    },
    {
     "name": "stderr",
     "output_type": "stream",
     "text": [
      "[*********************100%***********************]  1 of 1 completed\n",
      "\n",
      "1 Failed download:\n",
      "['I']: YFTzMissingError('possibly delisted; no timezone found')\n"
     ]
    },
    {
     "name": "stdout",
     "output_type": "stream",
     "text": [
      "Téléchargement des données pour IDXX de 2025-09-27 00:00:00 à 2025-10-01 00:00:00\n"
     ]
    },
    {
     "name": "stderr",
     "output_type": "stream",
     "text": [
      "[*********************100%***********************]  1 of 1 completed\n"
     ]
    },
    {
     "name": "stdout",
     "output_type": "stream",
     "text": [
      "Téléchargement des données pour INTC de 2025-09-27 00:00:00 à 2025-10-01 00:00:00\n"
     ]
    },
    {
     "name": "stderr",
     "output_type": "stream",
     "text": [
      "[*********************100%***********************]  1 of 1 completed\n"
     ]
    },
    {
     "name": "stdout",
     "output_type": "stream",
     "text": [
      "Téléchargement des données pour INTU de 2025-09-27 00:00:00 à 2025-10-01 00:00:00\n"
     ]
    },
    {
     "name": "stderr",
     "output_type": "stream",
     "text": [
      "[*********************100%***********************]  1 of 1 completed\n"
     ]
    },
    {
     "name": "stdout",
     "output_type": "stream",
     "text": [
      "Téléchargement des données pour ISRG de 2025-09-27 00:00:00 à 2025-10-01 00:00:00\n"
     ]
    },
    {
     "name": "stderr",
     "output_type": "stream",
     "text": [
      "[*********************100%***********************]  1 of 1 completed\n"
     ]
    },
    {
     "name": "stdout",
     "output_type": "stream",
     "text": [
      "Téléchargement des données pour KDP de 2025-09-27 00:00:00 à 2025-10-01 00:00:00\n"
     ]
    },
    {
     "name": "stderr",
     "output_type": "stream",
     "text": [
      "[*********************100%***********************]  1 of 1 completed\n"
     ]
    },
    {
     "name": "stdout",
     "output_type": "stream",
     "text": [
      "Téléchargement des données pour KHC de 2025-09-27 00:00:00 à 2025-10-01 00:00:00\n"
     ]
    },
    {
     "name": "stderr",
     "output_type": "stream",
     "text": [
      "[*********************100%***********************]  1 of 1 completed\n"
     ]
    },
    {
     "name": "stdout",
     "output_type": "stream",
     "text": [
      "Téléchargement des données pour KLAC de 2025-09-27 00:00:00 à 2025-10-01 00:00:00\n"
     ]
    },
    {
     "name": "stderr",
     "output_type": "stream",
     "text": [
      "[*********************100%***********************]  1 of 1 completed\n"
     ]
    },
    {
     "name": "stdout",
     "output_type": "stream",
     "text": [
      "Téléchargement des données pour LIN de 2025-09-27 00:00:00 à 2025-10-01 00:00:00\n"
     ]
    },
    {
     "name": "stderr",
     "output_type": "stream",
     "text": [
      "[*********************100%***********************]  1 of 1 completed\n"
     ]
    },
    {
     "name": "stdout",
     "output_type": "stream",
     "text": [
      "Téléchargement des données pour LRCX de 2025-09-27 00:00:00 à 2025-10-01 00:00:00\n"
     ]
    },
    {
     "name": "stderr",
     "output_type": "stream",
     "text": [
      "[*********************100%***********************]  1 of 1 completed\n"
     ]
    },
    {
     "name": "stdout",
     "output_type": "stream",
     "text": [
      "Téléchargement des données pour LULU de 2025-09-27 00:00:00 à 2025-10-01 00:00:00\n"
     ]
    },
    {
     "name": "stderr",
     "output_type": "stream",
     "text": [
      "[*********************100%***********************]  1 of 1 completed\n"
     ]
    },
    {
     "name": "stdout",
     "output_type": "stream",
     "text": [
      "Téléchargement des données pour MAR de 2025-09-27 00:00:00 à 2025-10-01 00:00:00\n"
     ]
    },
    {
     "name": "stderr",
     "output_type": "stream",
     "text": [
      "[*********************100%***********************]  1 of 1 completed\n"
     ]
    },
    {
     "name": "stdout",
     "output_type": "stream",
     "text": [
      "Téléchargement des données pour MCHP de 2025-09-27 00:00:00 à 2025-10-01 00:00:00\n"
     ]
    },
    {
     "name": "stderr",
     "output_type": "stream",
     "text": [
      "[*********************100%***********************]  1 of 1 completed\n"
     ]
    },
    {
     "name": "stdout",
     "output_type": "stream",
     "text": [
      "Téléchargement des données pour MDLZ de 2025-09-27 00:00:00 à 2025-10-01 00:00:00\n"
     ]
    },
    {
     "name": "stderr",
     "output_type": "stream",
     "text": [
      "[*********************100%***********************]  1 of 1 completed\n"
     ]
    },
    {
     "name": "stdout",
     "output_type": "stream",
     "text": [
      "Téléchargement des données pour MELI de 2025-09-27 00:00:00 à 2025-10-01 00:00:00\n"
     ]
    },
    {
     "name": "stderr",
     "output_type": "stream",
     "text": [
      "[*********************100%***********************]  1 of 1 completed\n"
     ]
    },
    {
     "name": "stdout",
     "output_type": "stream",
     "text": [
      "Téléchargement des données pour META de 2025-09-27 00:00:00 à 2025-10-01 00:00:00\n"
     ]
    },
    {
     "name": "stderr",
     "output_type": "stream",
     "text": [
      "[*********************100%***********************]  1 of 1 completed\n"
     ]
    },
    {
     "name": "stdout",
     "output_type": "stream",
     "text": [
      "Téléchargement des données pour MNST de 2025-09-27 00:00:00 à 2025-10-01 00:00:00\n"
     ]
    },
    {
     "name": "stderr",
     "output_type": "stream",
     "text": [
      "[*********************100%***********************]  1 of 1 completed\n"
     ]
    },
    {
     "name": "stdout",
     "output_type": "stream",
     "text": [
      "Téléchargement des données pour MRVL de 2025-09-27 00:00:00 à 2025-10-01 00:00:00\n"
     ]
    },
    {
     "name": "stderr",
     "output_type": "stream",
     "text": [
      "[*********************100%***********************]  1 of 1 completed\n"
     ]
    },
    {
     "name": "stdout",
     "output_type": "stream",
     "text": [
      "Téléchargement des données pour MSFT de 2025-09-27 00:00:00 à 2025-10-01 00:00:00\n"
     ]
    },
    {
     "name": "stderr",
     "output_type": "stream",
     "text": [
      "[*********************100%***********************]  1 of 1 completed\n"
     ]
    },
    {
     "name": "stdout",
     "output_type": "stream",
     "text": [
      "Téléchargement des données pour MSTR de 2025-09-27 00:00:00 à 2025-10-01 00:00:00\n"
     ]
    },
    {
     "name": "stderr",
     "output_type": "stream",
     "text": [
      "[*********************100%***********************]  1 of 1 completed\n"
     ]
    },
    {
     "name": "stdout",
     "output_type": "stream",
     "text": [
      "Téléchargement des données pour MU de 2025-09-27 00:00:00 à 2025-10-01 00:00:00\n"
     ]
    },
    {
     "name": "stderr",
     "output_type": "stream",
     "text": [
      "[*********************100%***********************]  1 of 1 completed\n"
     ]
    },
    {
     "name": "stdout",
     "output_type": "stream",
     "text": [
      "Téléchargement des données pour NFLX de 2025-09-27 00:00:00 à 2025-10-01 00:00:00\n"
     ]
    },
    {
     "name": "stderr",
     "output_type": "stream",
     "text": [
      "[*********************100%***********************]  1 of 1 completed\n"
     ]
    },
    {
     "name": "stdout",
     "output_type": "stream",
     "text": [
      "Téléchargement des données pour NVDA de 2025-09-27 00:00:00 à 2025-10-01 00:00:00\n"
     ]
    },
    {
     "name": "stderr",
     "output_type": "stream",
     "text": [
      "[*********************100%***********************]  1 of 1 completed\n"
     ]
    },
    {
     "name": "stdout",
     "output_type": "stream",
     "text": [
      "Téléchargement des données pour NXPI de 2025-09-27 00:00:00 à 2025-10-01 00:00:00\n"
     ]
    },
    {
     "name": "stderr",
     "output_type": "stream",
     "text": [
      "[*********************100%***********************]  1 of 1 completed\n"
     ]
    },
    {
     "name": "stdout",
     "output_type": "stream",
     "text": [
      "Téléchargement des données pour ODFL de 2025-09-27 00:00:00 à 2025-10-01 00:00:00\n"
     ]
    },
    {
     "name": "stderr",
     "output_type": "stream",
     "text": [
      "[*********************100%***********************]  1 of 1 completed\n"
     ]
    },
    {
     "name": "stdout",
     "output_type": "stream",
     "text": [
      "Téléchargement des données pour ON de 2025-09-27 00:00:00 à 2025-10-01 00:00:00\n"
     ]
    },
    {
     "name": "stderr",
     "output_type": "stream",
     "text": [
      "[*********************100%***********************]  1 of 1 completed\n"
     ]
    },
    {
     "name": "stdout",
     "output_type": "stream",
     "text": [
      "Téléchargement des données pour ORLY de 2025-09-27 00:00:00 à 2025-10-01 00:00:00\n"
     ]
    },
    {
     "name": "stderr",
     "output_type": "stream",
     "text": [
      "[*********************100%***********************]  1 of 1 completed\n"
     ]
    },
    {
     "name": "stdout",
     "output_type": "stream",
     "text": [
      "Téléchargement des données pour PANW de 2025-09-27 00:00:00 à 2025-10-01 00:00:00\n"
     ]
    },
    {
     "name": "stderr",
     "output_type": "stream",
     "text": [
      "[*********************100%***********************]  1 of 1 completed\n"
     ]
    },
    {
     "name": "stdout",
     "output_type": "stream",
     "text": [
      "Téléchargement des données pour PAYX de 2025-09-27 00:00:00 à 2025-10-01 00:00:00\n"
     ]
    },
    {
     "name": "stderr",
     "output_type": "stream",
     "text": [
      "[*********************100%***********************]  1 of 1 completed\n"
     ]
    },
    {
     "name": "stdout",
     "output_type": "stream",
     "text": [
      "Téléchargement des données pour PCAR de 2025-09-27 00:00:00 à 2025-10-01 00:00:00\n"
     ]
    },
    {
     "name": "stderr",
     "output_type": "stream",
     "text": [
      "[*********************100%***********************]  1 of 1 completed\n"
     ]
    },
    {
     "name": "stdout",
     "output_type": "stream",
     "text": [
      "Téléchargement des données pour PDD de 2025-09-27 00:00:00 à 2025-10-01 00:00:00\n"
     ]
    },
    {
     "name": "stderr",
     "output_type": "stream",
     "text": [
      "[*********************100%***********************]  1 of 1 completed\n"
     ]
    },
    {
     "name": "stdout",
     "output_type": "stream",
     "text": [
      "Téléchargement des données pour PEP de 2025-09-27 00:00:00 à 2025-10-01 00:00:00\n"
     ]
    },
    {
     "name": "stderr",
     "output_type": "stream",
     "text": [
      "[*********************100%***********************]  1 of 1 completed\n"
     ]
    },
    {
     "name": "stdout",
     "output_type": "stream",
     "text": [
      "Téléchargement des données pour PLTR de 2025-09-27 00:00:00 à 2025-10-01 00:00:00\n"
     ]
    },
    {
     "name": "stderr",
     "output_type": "stream",
     "text": [
      "[*********************100%***********************]  1 of 1 completed\n"
     ]
    },
    {
     "name": "stdout",
     "output_type": "stream",
     "text": [
      "Téléchargement des données pour PYPL de 2025-09-27 00:00:00 à 2025-10-01 00:00:00\n"
     ]
    },
    {
     "name": "stderr",
     "output_type": "stream",
     "text": [
      "[*********************100%***********************]  1 of 1 completed\n"
     ]
    },
    {
     "name": "stdout",
     "output_type": "stream",
     "text": [
      "Téléchargement des données pour QCOM de 2025-09-27 00:00:00 à 2025-10-01 00:00:00\n"
     ]
    },
    {
     "name": "stderr",
     "output_type": "stream",
     "text": [
      "[*********************100%***********************]  1 of 1 completed\n"
     ]
    },
    {
     "name": "stdout",
     "output_type": "stream",
     "text": [
      "Téléchargement des données pour R de 2025-09-27 00:00:00 à 2025-10-01 00:00:00\n"
     ]
    },
    {
     "name": "stderr",
     "output_type": "stream",
     "text": [
      "[*********************100%***********************]  1 of 1 completed\n"
     ]
    },
    {
     "name": "stdout",
     "output_type": "stream",
     "text": [
      "Téléchargement des données pour REGN de 2025-09-27 00:00:00 à 2025-10-01 00:00:00\n"
     ]
    },
    {
     "name": "stderr",
     "output_type": "stream",
     "text": [
      "[*********************100%***********************]  1 of 1 completed\n"
     ]
    },
    {
     "name": "stdout",
     "output_type": "stream",
     "text": [
      "Téléchargement des données pour ROP de 2025-09-27 00:00:00 à 2025-10-01 00:00:00\n"
     ]
    },
    {
     "name": "stderr",
     "output_type": "stream",
     "text": [
      "[*********************100%***********************]  1 of 1 completed\n"
     ]
    },
    {
     "name": "stdout",
     "output_type": "stream",
     "text": [
      "Téléchargement des données pour ROST de 2025-09-27 00:00:00 à 2025-10-01 00:00:00\n"
     ]
    },
    {
     "name": "stderr",
     "output_type": "stream",
     "text": [
      "[*********************100%***********************]  1 of 1 completed\n"
     ]
    },
    {
     "name": "stdout",
     "output_type": "stream",
     "text": [
      "Téléchargement des données pour SBUX de 2025-09-27 00:00:00 à 2025-10-01 00:00:00\n"
     ]
    },
    {
     "name": "stderr",
     "output_type": "stream",
     "text": [
      "[*********************100%***********************]  1 of 1 completed\n"
     ]
    },
    {
     "name": "stdout",
     "output_type": "stream",
     "text": [
      "Téléchargement des données pour SHOP de 2025-09-27 00:00:00 à 2025-10-01 00:00:00\n"
     ]
    },
    {
     "name": "stderr",
     "output_type": "stream",
     "text": [
      "[*********************100%***********************]  1 of 1 completed\n"
     ]
    },
    {
     "name": "stdout",
     "output_type": "stream",
     "text": [
      "Téléchargement des données pour SNPS de 2025-09-27 00:00:00 à 2025-10-01 00:00:00\n"
     ]
    },
    {
     "name": "stderr",
     "output_type": "stream",
     "text": [
      "[*********************100%***********************]  1 of 1 completed\n"
     ]
    },
    {
     "name": "stdout",
     "output_type": "stream",
     "text": [
      "Téléchargement des données pour T de 2025-09-27 00:00:00 à 2025-10-01 00:00:00\n"
     ]
    },
    {
     "name": "stderr",
     "output_type": "stream",
     "text": [
      "[*********************100%***********************]  1 of 1 completed\n"
     ]
    },
    {
     "name": "stdout",
     "output_type": "stream",
     "text": [
      "Téléchargement des données pour TEAM de 2025-09-27 00:00:00 à 2025-10-01 00:00:00\n"
     ]
    },
    {
     "name": "stderr",
     "output_type": "stream",
     "text": [
      "[*********************100%***********************]  1 of 1 completed\n"
     ]
    },
    {
     "name": "stdout",
     "output_type": "stream",
     "text": [
      "Téléchargement des données pour TMUS de 2025-09-27 00:00:00 à 2025-10-01 00:00:00\n"
     ]
    },
    {
     "name": "stderr",
     "output_type": "stream",
     "text": [
      "[*********************100%***********************]  1 of 1 completed\n"
     ]
    },
    {
     "name": "stdout",
     "output_type": "stream",
     "text": [
      "Téléchargement des données pour TRI de 2025-09-27 00:00:00 à 2025-10-01 00:00:00\n"
     ]
    },
    {
     "name": "stderr",
     "output_type": "stream",
     "text": [
      "[*********************100%***********************]  1 of 1 completed\n"
     ]
    },
    {
     "name": "stdout",
     "output_type": "stream",
     "text": [
      "Téléchargement des données pour TSLA de 2025-09-27 00:00:00 à 2025-10-01 00:00:00\n"
     ]
    },
    {
     "name": "stderr",
     "output_type": "stream",
     "text": [
      "[*********************100%***********************]  1 of 1 completed\n"
     ]
    },
    {
     "name": "stdout",
     "output_type": "stream",
     "text": [
      "Téléchargement des données pour TTD de 2025-09-27 00:00:00 à 2025-10-01 00:00:00\n"
     ]
    },
    {
     "name": "stderr",
     "output_type": "stream",
     "text": [
      "[*********************100%***********************]  1 of 1 completed\n"
     ]
    },
    {
     "name": "stdout",
     "output_type": "stream",
     "text": [
      "Téléchargement des données pour TTWO de 2025-09-27 00:00:00 à 2025-10-01 00:00:00\n"
     ]
    },
    {
     "name": "stderr",
     "output_type": "stream",
     "text": [
      "[*********************100%***********************]  1 of 1 completed\n"
     ]
    },
    {
     "name": "stdout",
     "output_type": "stream",
     "text": [
      "Téléchargement des données pour TXN de 2025-09-27 00:00:00 à 2025-10-01 00:00:00\n"
     ]
    },
    {
     "name": "stderr",
     "output_type": "stream",
     "text": [
      "[*********************100%***********************]  1 of 1 completed\n"
     ]
    },
    {
     "name": "stdout",
     "output_type": "stream",
     "text": [
      "Téléchargement des données pour VRTX de 2025-09-27 00:00:00 à 2025-10-01 00:00:00\n"
     ]
    },
    {
     "name": "stderr",
     "output_type": "stream",
     "text": [
      "[*********************100%***********************]  1 of 1 completed\n"
     ]
    },
    {
     "name": "stdout",
     "output_type": "stream",
     "text": [
      "Téléchargement des données pour WBD de 2025-09-27 00:00:00 à 2025-10-01 00:00:00\n"
     ]
    },
    {
     "name": "stderr",
     "output_type": "stream",
     "text": [
      "[*********************100%***********************]  1 of 1 completed\n"
     ]
    },
    {
     "name": "stdout",
     "output_type": "stream",
     "text": [
      "Téléchargement des données pour WDAY de 2025-09-27 00:00:00 à 2025-10-01 00:00:00\n"
     ]
    },
    {
     "name": "stderr",
     "output_type": "stream",
     "text": [
      "[*********************100%***********************]  1 of 1 completed\n"
     ]
    },
    {
     "name": "stdout",
     "output_type": "stream",
     "text": [
      "Téléchargement des données pour XEL de 2025-09-27 00:00:00 à 2025-10-01 00:00:00\n"
     ]
    },
    {
     "name": "stderr",
     "output_type": "stream",
     "text": [
      "[*********************100%***********************]  1 of 1 completed\n"
     ]
    },
    {
     "name": "stdout",
     "output_type": "stream",
     "text": [
      "Téléchargement des données pour ZS de 2025-09-27 00:00:00 à 2025-10-01 00:00:00\n"
     ]
    },
    {
     "name": "stderr",
     "output_type": "stream",
     "text": [
      "[*********************100%***********************]  1 of 1 completed\n"
     ]
    },
    {
     "data": {
      "text/plain": [
       "Price            Close        High         Low        Open      Volume Ticker  \\\n",
       "Date                                                                            \n",
       "2025-09-29  254.429993  255.000000  253.009995  254.559998  40127700.0   AAPL   \n",
       "2025-09-30  254.630005  255.919998  253.110001  254.860001  37666900.0   AAPL   \n",
       "2025-09-29  122.919998  124.580002  122.830002  124.440002   3874700.0   ABNB   \n",
       "2025-09-30  121.419998  123.080002  120.519997  122.900002   3728900.0   ABNB   \n",
       "2025-09-29  359.420013  363.170013  358.799988  362.040009   4075900.0   ADBE   \n",
       "...                ...         ...         ...         ...         ...    ...   \n",
       "2025-09-30  240.729996  249.139999  239.880005  248.460007   3001400.0   WDAY   \n",
       "2025-09-29   80.050003   80.070000   78.410004   79.459999   5527100.0    XEL   \n",
       "2025-09-30   80.650002   80.959999   79.589996   79.769997   4011000.0    XEL   \n",
       "2025-09-29  296.899994  300.809998  293.510010  297.109985   1418600.0     ZS   \n",
       "2025-09-30  299.660004  300.209991  291.570007  295.839996   1885600.0     ZS   \n",
       "\n",
       "Price       Adj Close  \n",
       "Date                   \n",
       "2025-09-29        NaN  \n",
       "2025-09-30        NaN  \n",
       "2025-09-29        NaN  \n",
       "2025-09-30        NaN  \n",
       "2025-09-29        NaN  \n",
       "...               ...  \n",
       "2025-09-30        NaN  \n",
       "2025-09-29        NaN  \n",
       "2025-09-30        NaN  \n",
       "2025-09-29        NaN  \n",
       "2025-09-30        NaN  \n",
       "\n",
       "[198 rows x 7 columns]"
      ],
      "text/html": [
       "<div>\n",
       "<style scoped>\n",
       "    .dataframe tbody tr th:only-of-type {\n",
       "        vertical-align: middle;\n",
       "    }\n",
       "\n",
       "    .dataframe tbody tr th {\n",
       "        vertical-align: top;\n",
       "    }\n",
       "\n",
       "    .dataframe thead th {\n",
       "        text-align: right;\n",
       "    }\n",
       "</style>\n",
       "<table border=\"1\" class=\"dataframe\">\n",
       "  <thead>\n",
       "    <tr style=\"text-align: right;\">\n",
       "      <th>Price</th>\n",
       "      <th>Close</th>\n",
       "      <th>High</th>\n",
       "      <th>Low</th>\n",
       "      <th>Open</th>\n",
       "      <th>Volume</th>\n",
       "      <th>Ticker</th>\n",
       "      <th>Adj Close</th>\n",
       "    </tr>\n",
       "    <tr>\n",
       "      <th>Date</th>\n",
       "      <th></th>\n",
       "      <th></th>\n",
       "      <th></th>\n",
       "      <th></th>\n",
       "      <th></th>\n",
       "      <th></th>\n",
       "      <th></th>\n",
       "    </tr>\n",
       "  </thead>\n",
       "  <tbody>\n",
       "    <tr>\n",
       "      <th>2025-09-29</th>\n",
       "      <td>254.429993</td>\n",
       "      <td>255.000000</td>\n",
       "      <td>253.009995</td>\n",
       "      <td>254.559998</td>\n",
       "      <td>40127700.0</td>\n",
       "      <td>AAPL</td>\n",
       "      <td>NaN</td>\n",
       "    </tr>\n",
       "    <tr>\n",
       "      <th>2025-09-30</th>\n",
       "      <td>254.630005</td>\n",
       "      <td>255.919998</td>\n",
       "      <td>253.110001</td>\n",
       "      <td>254.860001</td>\n",
       "      <td>37666900.0</td>\n",
       "      <td>AAPL</td>\n",
       "      <td>NaN</td>\n",
       "    </tr>\n",
       "    <tr>\n",
       "      <th>2025-09-29</th>\n",
       "      <td>122.919998</td>\n",
       "      <td>124.580002</td>\n",
       "      <td>122.830002</td>\n",
       "      <td>124.440002</td>\n",
       "      <td>3874700.0</td>\n",
       "      <td>ABNB</td>\n",
       "      <td>NaN</td>\n",
       "    </tr>\n",
       "    <tr>\n",
       "      <th>2025-09-30</th>\n",
       "      <td>121.419998</td>\n",
       "      <td>123.080002</td>\n",
       "      <td>120.519997</td>\n",
       "      <td>122.900002</td>\n",
       "      <td>3728900.0</td>\n",
       "      <td>ABNB</td>\n",
       "      <td>NaN</td>\n",
       "    </tr>\n",
       "    <tr>\n",
       "      <th>2025-09-29</th>\n",
       "      <td>359.420013</td>\n",
       "      <td>363.170013</td>\n",
       "      <td>358.799988</td>\n",
       "      <td>362.040009</td>\n",
       "      <td>4075900.0</td>\n",
       "      <td>ADBE</td>\n",
       "      <td>NaN</td>\n",
       "    </tr>\n",
       "    <tr>\n",
       "      <th>...</th>\n",
       "      <td>...</td>\n",
       "      <td>...</td>\n",
       "      <td>...</td>\n",
       "      <td>...</td>\n",
       "      <td>...</td>\n",
       "      <td>...</td>\n",
       "      <td>...</td>\n",
       "    </tr>\n",
       "    <tr>\n",
       "      <th>2025-09-30</th>\n",
       "      <td>240.729996</td>\n",
       "      <td>249.139999</td>\n",
       "      <td>239.880005</td>\n",
       "      <td>248.460007</td>\n",
       "      <td>3001400.0</td>\n",
       "      <td>WDAY</td>\n",
       "      <td>NaN</td>\n",
       "    </tr>\n",
       "    <tr>\n",
       "      <th>2025-09-29</th>\n",
       "      <td>80.050003</td>\n",
       "      <td>80.070000</td>\n",
       "      <td>78.410004</td>\n",
       "      <td>79.459999</td>\n",
       "      <td>5527100.0</td>\n",
       "      <td>XEL</td>\n",
       "      <td>NaN</td>\n",
       "    </tr>\n",
       "    <tr>\n",
       "      <th>2025-09-30</th>\n",
       "      <td>80.650002</td>\n",
       "      <td>80.959999</td>\n",
       "      <td>79.589996</td>\n",
       "      <td>79.769997</td>\n",
       "      <td>4011000.0</td>\n",
       "      <td>XEL</td>\n",
       "      <td>NaN</td>\n",
       "    </tr>\n",
       "    <tr>\n",
       "      <th>2025-09-29</th>\n",
       "      <td>296.899994</td>\n",
       "      <td>300.809998</td>\n",
       "      <td>293.510010</td>\n",
       "      <td>297.109985</td>\n",
       "      <td>1418600.0</td>\n",
       "      <td>ZS</td>\n",
       "      <td>NaN</td>\n",
       "    </tr>\n",
       "    <tr>\n",
       "      <th>2025-09-30</th>\n",
       "      <td>299.660004</td>\n",
       "      <td>300.209991</td>\n",
       "      <td>291.570007</td>\n",
       "      <td>295.839996</td>\n",
       "      <td>1885600.0</td>\n",
       "      <td>ZS</td>\n",
       "      <td>NaN</td>\n",
       "    </tr>\n",
       "  </tbody>\n",
       "</table>\n",
       "<p>198 rows × 7 columns</p>\n",
       "</div>"
      ]
     },
     "execution_count": 14,
     "metadata": {},
     "output_type": "execute_result"
    }
   ],
   "execution_count": 14
  },
  {
   "metadata": {
    "ExecuteTime": {
     "end_time": "2025-10-01T13:42:55.223343Z",
     "start_time": "2025-10-01T13:42:55.216573Z"
    }
   },
   "cell_type": "code",
   "source": [
    "data_SP500 = data_SP500.reset_index()\n",
    "data_SP500"
   ],
   "id": "54fdf214b890458f",
   "outputs": [
    {
     "data": {
      "text/plain": [
       "Price       Date       Close        High         Low        Open      Volume  \\\n",
       "0     2025-09-29  254.429993  255.000000  253.009995  254.559998  40127700.0   \n",
       "1     2025-09-30  254.630005  255.919998  253.110001  254.860001  37666900.0   \n",
       "2     2025-09-29  122.919998  124.580002  122.830002  124.440002   3874700.0   \n",
       "3     2025-09-30  121.419998  123.080002  120.519997  122.900002   3728900.0   \n",
       "4     2025-09-29  359.420013  363.170013  358.799988  362.040009   4075900.0   \n",
       "..           ...         ...         ...         ...         ...         ...   \n",
       "193   2025-09-30  240.729996  249.139999  239.880005  248.460007   3001400.0   \n",
       "194   2025-09-29   80.050003   80.070000   78.410004   79.459999   5527100.0   \n",
       "195   2025-09-30   80.650002   80.959999   79.589996   79.769997   4011000.0   \n",
       "196   2025-09-29  296.899994  300.809998  293.510010  297.109985   1418600.0   \n",
       "197   2025-09-30  299.660004  300.209991  291.570007  295.839996   1885600.0   \n",
       "\n",
       "Price Ticker  Adj Close  \n",
       "0       AAPL        NaN  \n",
       "1       AAPL        NaN  \n",
       "2       ABNB        NaN  \n",
       "3       ABNB        NaN  \n",
       "4       ADBE        NaN  \n",
       "..       ...        ...  \n",
       "193     WDAY        NaN  \n",
       "194      XEL        NaN  \n",
       "195      XEL        NaN  \n",
       "196       ZS        NaN  \n",
       "197       ZS        NaN  \n",
       "\n",
       "[198 rows x 8 columns]"
      ],
      "text/html": [
       "<div>\n",
       "<style scoped>\n",
       "    .dataframe tbody tr th:only-of-type {\n",
       "        vertical-align: middle;\n",
       "    }\n",
       "\n",
       "    .dataframe tbody tr th {\n",
       "        vertical-align: top;\n",
       "    }\n",
       "\n",
       "    .dataframe thead th {\n",
       "        text-align: right;\n",
       "    }\n",
       "</style>\n",
       "<table border=\"1\" class=\"dataframe\">\n",
       "  <thead>\n",
       "    <tr style=\"text-align: right;\">\n",
       "      <th>Price</th>\n",
       "      <th>Date</th>\n",
       "      <th>Close</th>\n",
       "      <th>High</th>\n",
       "      <th>Low</th>\n",
       "      <th>Open</th>\n",
       "      <th>Volume</th>\n",
       "      <th>Ticker</th>\n",
       "      <th>Adj Close</th>\n",
       "    </tr>\n",
       "  </thead>\n",
       "  <tbody>\n",
       "    <tr>\n",
       "      <th>0</th>\n",
       "      <td>2025-09-29</td>\n",
       "      <td>254.429993</td>\n",
       "      <td>255.000000</td>\n",
       "      <td>253.009995</td>\n",
       "      <td>254.559998</td>\n",
       "      <td>40127700.0</td>\n",
       "      <td>AAPL</td>\n",
       "      <td>NaN</td>\n",
       "    </tr>\n",
       "    <tr>\n",
       "      <th>1</th>\n",
       "      <td>2025-09-30</td>\n",
       "      <td>254.630005</td>\n",
       "      <td>255.919998</td>\n",
       "      <td>253.110001</td>\n",
       "      <td>254.860001</td>\n",
       "      <td>37666900.0</td>\n",
       "      <td>AAPL</td>\n",
       "      <td>NaN</td>\n",
       "    </tr>\n",
       "    <tr>\n",
       "      <th>2</th>\n",
       "      <td>2025-09-29</td>\n",
       "      <td>122.919998</td>\n",
       "      <td>124.580002</td>\n",
       "      <td>122.830002</td>\n",
       "      <td>124.440002</td>\n",
       "      <td>3874700.0</td>\n",
       "      <td>ABNB</td>\n",
       "      <td>NaN</td>\n",
       "    </tr>\n",
       "    <tr>\n",
       "      <th>3</th>\n",
       "      <td>2025-09-30</td>\n",
       "      <td>121.419998</td>\n",
       "      <td>123.080002</td>\n",
       "      <td>120.519997</td>\n",
       "      <td>122.900002</td>\n",
       "      <td>3728900.0</td>\n",
       "      <td>ABNB</td>\n",
       "      <td>NaN</td>\n",
       "    </tr>\n",
       "    <tr>\n",
       "      <th>4</th>\n",
       "      <td>2025-09-29</td>\n",
       "      <td>359.420013</td>\n",
       "      <td>363.170013</td>\n",
       "      <td>358.799988</td>\n",
       "      <td>362.040009</td>\n",
       "      <td>4075900.0</td>\n",
       "      <td>ADBE</td>\n",
       "      <td>NaN</td>\n",
       "    </tr>\n",
       "    <tr>\n",
       "      <th>...</th>\n",
       "      <td>...</td>\n",
       "      <td>...</td>\n",
       "      <td>...</td>\n",
       "      <td>...</td>\n",
       "      <td>...</td>\n",
       "      <td>...</td>\n",
       "      <td>...</td>\n",
       "      <td>...</td>\n",
       "    </tr>\n",
       "    <tr>\n",
       "      <th>193</th>\n",
       "      <td>2025-09-30</td>\n",
       "      <td>240.729996</td>\n",
       "      <td>249.139999</td>\n",
       "      <td>239.880005</td>\n",
       "      <td>248.460007</td>\n",
       "      <td>3001400.0</td>\n",
       "      <td>WDAY</td>\n",
       "      <td>NaN</td>\n",
       "    </tr>\n",
       "    <tr>\n",
       "      <th>194</th>\n",
       "      <td>2025-09-29</td>\n",
       "      <td>80.050003</td>\n",
       "      <td>80.070000</td>\n",
       "      <td>78.410004</td>\n",
       "      <td>79.459999</td>\n",
       "      <td>5527100.0</td>\n",
       "      <td>XEL</td>\n",
       "      <td>NaN</td>\n",
       "    </tr>\n",
       "    <tr>\n",
       "      <th>195</th>\n",
       "      <td>2025-09-30</td>\n",
       "      <td>80.650002</td>\n",
       "      <td>80.959999</td>\n",
       "      <td>79.589996</td>\n",
       "      <td>79.769997</td>\n",
       "      <td>4011000.0</td>\n",
       "      <td>XEL</td>\n",
       "      <td>NaN</td>\n",
       "    </tr>\n",
       "    <tr>\n",
       "      <th>196</th>\n",
       "      <td>2025-09-29</td>\n",
       "      <td>296.899994</td>\n",
       "      <td>300.809998</td>\n",
       "      <td>293.510010</td>\n",
       "      <td>297.109985</td>\n",
       "      <td>1418600.0</td>\n",
       "      <td>ZS</td>\n",
       "      <td>NaN</td>\n",
       "    </tr>\n",
       "    <tr>\n",
       "      <th>197</th>\n",
       "      <td>2025-09-30</td>\n",
       "      <td>299.660004</td>\n",
       "      <td>300.209991</td>\n",
       "      <td>291.570007</td>\n",
       "      <td>295.839996</td>\n",
       "      <td>1885600.0</td>\n",
       "      <td>ZS</td>\n",
       "      <td>NaN</td>\n",
       "    </tr>\n",
       "  </tbody>\n",
       "</table>\n",
       "<p>198 rows × 8 columns</p>\n",
       "</div>"
      ]
     },
     "execution_count": 15,
     "metadata": {},
     "output_type": "execute_result"
    }
   ],
   "execution_count": 15
  },
  {
   "metadata": {
    "ExecuteTime": {
     "end_time": "2025-10-01T13:42:55.250873Z",
     "start_time": "2025-10-01T13:42:55.241690Z"
    }
   },
   "cell_type": "code",
   "source": [
    "df_concat = pd.concat([data_SP500, data_SP500_old])\n",
    "df_concat"
   ],
   "id": "98ab86e6f982813f",
   "outputs": [
    {
     "data": {
      "text/plain": [
       "Price       Date       Close        High         Low        Open       Volume  \\\n",
       "0     2025-09-29  254.429993  255.000000  253.009995  254.559998   40127700.0   \n",
       "1     2025-09-30  254.630005  255.919998  253.110001  254.860001   37666900.0   \n",
       "2     2025-09-29  122.919998  124.580002  122.830002  124.440002    3874700.0   \n",
       "3     2025-09-30  121.419998  123.080002  120.519997  122.900002    3728900.0   \n",
       "4     2025-09-29  359.420013  363.170013  358.799988  362.040009    4075900.0   \n",
       "..           ...         ...         ...         ...         ...          ...   \n",
       "153   2025-09-26  177.570007  180.119995  174.910004  179.050003   44200200.0   \n",
       "89    2025-09-26  208.190002  209.050003  207.350006  208.419998    3551600.0   \n",
       "91    2025-09-26  632.219971  636.000000  615.330017  619.309998     344300.0   \n",
       "93    2025-09-26   35.500000   36.299999   34.490002   35.020000  267991500.0   \n",
       "197   2025-09-26  294.649994  296.880005  285.700012  287.000000    1540800.0   \n",
       "\n",
       "Price Ticker  Adj Close  \n",
       "0       AAPL        NaN  \n",
       "1       AAPL        NaN  \n",
       "2       ABNB        NaN  \n",
       "3       ABNB        NaN  \n",
       "4       ADBE        NaN  \n",
       "..       ...        ...  \n",
       "153     PLTR        NaN  \n",
       "89       HON        NaN  \n",
       "91      IDXX        NaN  \n",
       "93      INTC        NaN  \n",
       "197       ZS        NaN  \n",
       "\n",
       "[431962 rows x 8 columns]"
      ],
      "text/html": [
       "<div>\n",
       "<style scoped>\n",
       "    .dataframe tbody tr th:only-of-type {\n",
       "        vertical-align: middle;\n",
       "    }\n",
       "\n",
       "    .dataframe tbody tr th {\n",
       "        vertical-align: top;\n",
       "    }\n",
       "\n",
       "    .dataframe thead th {\n",
       "        text-align: right;\n",
       "    }\n",
       "</style>\n",
       "<table border=\"1\" class=\"dataframe\">\n",
       "  <thead>\n",
       "    <tr style=\"text-align: right;\">\n",
       "      <th>Price</th>\n",
       "      <th>Date</th>\n",
       "      <th>Close</th>\n",
       "      <th>High</th>\n",
       "      <th>Low</th>\n",
       "      <th>Open</th>\n",
       "      <th>Volume</th>\n",
       "      <th>Ticker</th>\n",
       "      <th>Adj Close</th>\n",
       "    </tr>\n",
       "  </thead>\n",
       "  <tbody>\n",
       "    <tr>\n",
       "      <th>0</th>\n",
       "      <td>2025-09-29</td>\n",
       "      <td>254.429993</td>\n",
       "      <td>255.000000</td>\n",
       "      <td>253.009995</td>\n",
       "      <td>254.559998</td>\n",
       "      <td>40127700.0</td>\n",
       "      <td>AAPL</td>\n",
       "      <td>NaN</td>\n",
       "    </tr>\n",
       "    <tr>\n",
       "      <th>1</th>\n",
       "      <td>2025-09-30</td>\n",
       "      <td>254.630005</td>\n",
       "      <td>255.919998</td>\n",
       "      <td>253.110001</td>\n",
       "      <td>254.860001</td>\n",
       "      <td>37666900.0</td>\n",
       "      <td>AAPL</td>\n",
       "      <td>NaN</td>\n",
       "    </tr>\n",
       "    <tr>\n",
       "      <th>2</th>\n",
       "      <td>2025-09-29</td>\n",
       "      <td>122.919998</td>\n",
       "      <td>124.580002</td>\n",
       "      <td>122.830002</td>\n",
       "      <td>124.440002</td>\n",
       "      <td>3874700.0</td>\n",
       "      <td>ABNB</td>\n",
       "      <td>NaN</td>\n",
       "    </tr>\n",
       "    <tr>\n",
       "      <th>3</th>\n",
       "      <td>2025-09-30</td>\n",
       "      <td>121.419998</td>\n",
       "      <td>123.080002</td>\n",
       "      <td>120.519997</td>\n",
       "      <td>122.900002</td>\n",
       "      <td>3728900.0</td>\n",
       "      <td>ABNB</td>\n",
       "      <td>NaN</td>\n",
       "    </tr>\n",
       "    <tr>\n",
       "      <th>4</th>\n",
       "      <td>2025-09-29</td>\n",
       "      <td>359.420013</td>\n",
       "      <td>363.170013</td>\n",
       "      <td>358.799988</td>\n",
       "      <td>362.040009</td>\n",
       "      <td>4075900.0</td>\n",
       "      <td>ADBE</td>\n",
       "      <td>NaN</td>\n",
       "    </tr>\n",
       "    <tr>\n",
       "      <th>...</th>\n",
       "      <td>...</td>\n",
       "      <td>...</td>\n",
       "      <td>...</td>\n",
       "      <td>...</td>\n",
       "      <td>...</td>\n",
       "      <td>...</td>\n",
       "      <td>...</td>\n",
       "      <td>...</td>\n",
       "    </tr>\n",
       "    <tr>\n",
       "      <th>153</th>\n",
       "      <td>2025-09-26</td>\n",
       "      <td>177.570007</td>\n",
       "      <td>180.119995</td>\n",
       "      <td>174.910004</td>\n",
       "      <td>179.050003</td>\n",
       "      <td>44200200.0</td>\n",
       "      <td>PLTR</td>\n",
       "      <td>NaN</td>\n",
       "    </tr>\n",
       "    <tr>\n",
       "      <th>89</th>\n",
       "      <td>2025-09-26</td>\n",
       "      <td>208.190002</td>\n",
       "      <td>209.050003</td>\n",
       "      <td>207.350006</td>\n",
       "      <td>208.419998</td>\n",
       "      <td>3551600.0</td>\n",
       "      <td>HON</td>\n",
       "      <td>NaN</td>\n",
       "    </tr>\n",
       "    <tr>\n",
       "      <th>91</th>\n",
       "      <td>2025-09-26</td>\n",
       "      <td>632.219971</td>\n",
       "      <td>636.000000</td>\n",
       "      <td>615.330017</td>\n",
       "      <td>619.309998</td>\n",
       "      <td>344300.0</td>\n",
       "      <td>IDXX</td>\n",
       "      <td>NaN</td>\n",
       "    </tr>\n",
       "    <tr>\n",
       "      <th>93</th>\n",
       "      <td>2025-09-26</td>\n",
       "      <td>35.500000</td>\n",
       "      <td>36.299999</td>\n",
       "      <td>34.490002</td>\n",
       "      <td>35.020000</td>\n",
       "      <td>267991500.0</td>\n",
       "      <td>INTC</td>\n",
       "      <td>NaN</td>\n",
       "    </tr>\n",
       "    <tr>\n",
       "      <th>197</th>\n",
       "      <td>2025-09-26</td>\n",
       "      <td>294.649994</td>\n",
       "      <td>296.880005</td>\n",
       "      <td>285.700012</td>\n",
       "      <td>287.000000</td>\n",
       "      <td>1540800.0</td>\n",
       "      <td>ZS</td>\n",
       "      <td>NaN</td>\n",
       "    </tr>\n",
       "  </tbody>\n",
       "</table>\n",
       "<p>431962 rows × 8 columns</p>\n",
       "</div>"
      ]
     },
     "execution_count": 16,
     "metadata": {},
     "output_type": "execute_result"
    }
   ],
   "execution_count": 16
  },
  {
   "metadata": {
    "ExecuteTime": {
     "end_time": "2025-10-01T13:42:55.294032Z",
     "start_time": "2025-10-01T13:42:55.268586Z"
    }
   },
   "cell_type": "code",
   "source": [
    "df_concat.sort_values(by=['Date'], ascending=True, inplace=True)\n",
    "df_concat.tail(50)"
   ],
   "id": "600040841afb92f6",
   "outputs": [
    {
     "data": {
      "text/plain": [
       "Price       Date        Close         High          Low         Open  \\\n",
       "105   2025-09-30   475.000000   478.779999   473.230011   473.700012   \n",
       "107   2025-09-30   133.899994   134.210007   130.809998   131.350006   \n",
       "143   2025-09-30   203.619995   206.070007   201.919998   203.619995   \n",
       "109   2025-09-30   177.929993   180.089996   176.490005   178.529999   \n",
       "111   2025-09-30   260.440002   265.959991   259.619995   265.500000   \n",
       "141   2025-09-30   107.809998   108.720001   107.500000   107.500000   \n",
       "113   2025-09-30    64.220001    64.870003    63.029999    64.269997   \n",
       "115   2025-09-30    62.470001    62.869999    62.150002    62.450001   \n",
       "139   2025-09-30    49.310001    49.619999    47.900002    49.500000   \n",
       "117   2025-09-30  2336.939941  2481.100098  2314.179932  2475.000000   \n",
       "119   2025-09-30   734.380005   742.969971   726.299988   742.250000   \n",
       "137   2025-09-30   140.779999   141.199997   138.070007   140.000000   \n",
       "121   2025-09-30    67.309998    67.440002    66.709999    67.129997   \n",
       "123   2025-09-30    84.070000    84.430000    81.400002    81.699997   \n",
       "135   2025-09-30   227.729996   227.949997   222.880005   225.559998   \n",
       "125   2025-09-30   517.950012   518.159973   509.660004   513.239990   \n",
       "127   2025-09-30   322.209991   324.500000   316.190002   320.829987   \n",
       "133   2025-09-30   186.580002   187.350006   181.479996   182.080002   \n",
       "129   2025-09-30   167.320007   168.949997   163.960007   164.110001   \n",
       "149   2025-09-30   132.169998   134.380005   131.160004   132.779999   \n",
       "169   2025-09-30   148.610001   151.779999   145.470001   147.990005   \n",
       "95    2025-09-30   682.909973   702.119995   680.119995   697.020020   \n",
       "151   2025-09-30   140.440002   141.029999   139.830002   140.169998   \n",
       "59    2025-09-30    35.509998    35.750000    35.259998    35.740002   \n",
       "167   2025-09-30    84.599998    85.250000    84.180000    85.230003   \n",
       "61    2025-09-30   205.259995   205.929993   201.750000   202.600006   \n",
       "63    2025-09-30    67.070000    67.610001    66.610001    66.910004   \n",
       "165   2025-09-30   152.389999   152.899994   151.059998   151.139999   \n",
       "131   2025-09-30  1198.920044  1208.500000  1178.000000  1206.410034   \n",
       "67    2025-09-30   142.399994   144.494995   139.630005   144.429993   \n",
       "163   2025-09-30   498.690002   502.079987   495.809998   500.450012   \n",
       "69    2025-09-30    67.290001    67.610001    66.180000    66.699997   \n",
       "71    2025-09-30   201.699997   202.149994   201.300003   201.750000   \n",
       "161   2025-09-30   562.270020   574.039978   555.000000   560.580017   \n",
       "73    2025-09-30    45.009998    45.060001    44.250000    44.310001   \n",
       "75    2025-09-30   143.100006   144.130005   140.750000   141.740005   \n",
       "159   2025-09-30   188.639999   189.009995   185.080002   186.389999   \n",
       "77    2025-09-30    49.040001    49.110001    48.680000    48.790001   \n",
       "79    2025-09-30    84.080002    84.989998    83.500000    84.330002   \n",
       "157   2025-09-30   166.360001   166.839996   164.880005   165.639999   \n",
       "81    2025-09-30    75.099998    75.269997    72.709999    72.800003   \n",
       "83    2025-09-30    35.840000    36.959999    34.810001    36.939999   \n",
       "155   2025-09-30    67.059998    69.830002    66.849998    69.824997   \n",
       "85    2025-09-30   111.000000   114.860001   110.919998   113.029999   \n",
       "87    2025-09-30   243.550003   243.675003   239.570999   243.059998   \n",
       "153   2025-09-30   182.419998   182.770004   178.220001   178.979996   \n",
       "89    2025-09-30   210.500000   211.110001   208.449997   208.949997   \n",
       "91    2025-09-30   638.890015   639.530029   629.669983   631.270020   \n",
       "93    2025-09-30    33.549999    34.240002    33.020000    33.930000   \n",
       "197   2025-09-30   299.660004   300.209991   291.570007   295.839996   \n",
       "\n",
       "Price       Volume Ticker  Adj Close  \n",
       "105      2171200.0    LIN        NaN  \n",
       "107     10325700.0   LRCX        NaN  \n",
       "143      4393500.0   PANW        NaN  \n",
       "109      3412700.0   LULU        NaN  \n",
       "111      1695300.0    MAR        NaN  \n",
       "141      5027500.0   ORLY        NaN  \n",
       "113      7685200.0   MCHP        NaN  \n",
       "115      6603800.0   MDLZ        NaN  \n",
       "139      8569500.0     ON        NaN  \n",
       "117       928300.0   MELI        NaN  \n",
       "119     16207600.0   META        NaN  \n",
       "137      2368000.0   ODFL        NaN  \n",
       "121      4775200.0   MNST        NaN  \n",
       "123     18713200.0   MRVL        NaN  \n",
       "135      1723300.0   NXPI        NaN  \n",
       "125     19712400.0   MSFT        NaN  \n",
       "127      7781400.0   MSTR        NaN  \n",
       "133    236479800.0   NVDA        NaN  \n",
       "129     20052200.0     MU        NaN  \n",
       "149     12737000.0    PDD        NaN  \n",
       "169      9250100.0   SHOP        NaN  \n",
       "95       2377900.0   INTU        NaN  \n",
       "151      7579800.0    PEP        NaN  \n",
       "59      17211500.0    CSX        NaN  \n",
       "167      7570300.0   SBUX        NaN  \n",
       "61       1822700.0   CTAS        NaN  \n",
       "63       4064400.0   CTSH        NaN  \n",
       "165      2025100.0   ROST        NaN  \n",
       "131      3823900.0   NFLX        NaN  \n",
       "67       4304400.0   DDOG        NaN  \n",
       "163       804800.0    ROP        NaN  \n",
       "69       3793400.0   DXCM        NaN  \n",
       "71       8927400.0     EA        NaN  \n",
       "161      1662500.0   REGN        NaN  \n",
       "73       6770400.0    EXC        NaN  \n",
       "75       2488400.0   FANG        NaN  \n",
       "159       324400.0      R        NaN  \n",
       "77       6660000.0   FAST        NaN  \n",
       "79       3965300.0   FTNT        NaN  \n",
       "157      5591200.0   QCOM        NaN  \n",
       "81       4089000.0   GEHC        NaN  \n",
       "83       8550200.0    GFS        NaN  \n",
       "155     21365000.0   PYPL        NaN  \n",
       "85      10300200.0   GILD        NaN  \n",
       "87      22530900.0   GOOG        NaN  \n",
       "153     43431700.0   PLTR        NaN  \n",
       "89       4182300.0    HON        NaN  \n",
       "91        367500.0   IDXX        NaN  \n",
       "93     124468400.0   INTC        NaN  \n",
       "197      1885600.0     ZS        NaN  "
      ],
      "text/html": [
       "<div>\n",
       "<style scoped>\n",
       "    .dataframe tbody tr th:only-of-type {\n",
       "        vertical-align: middle;\n",
       "    }\n",
       "\n",
       "    .dataframe tbody tr th {\n",
       "        vertical-align: top;\n",
       "    }\n",
       "\n",
       "    .dataframe thead th {\n",
       "        text-align: right;\n",
       "    }\n",
       "</style>\n",
       "<table border=\"1\" class=\"dataframe\">\n",
       "  <thead>\n",
       "    <tr style=\"text-align: right;\">\n",
       "      <th>Price</th>\n",
       "      <th>Date</th>\n",
       "      <th>Close</th>\n",
       "      <th>High</th>\n",
       "      <th>Low</th>\n",
       "      <th>Open</th>\n",
       "      <th>Volume</th>\n",
       "      <th>Ticker</th>\n",
       "      <th>Adj Close</th>\n",
       "    </tr>\n",
       "  </thead>\n",
       "  <tbody>\n",
       "    <tr>\n",
       "      <th>105</th>\n",
       "      <td>2025-09-30</td>\n",
       "      <td>475.000000</td>\n",
       "      <td>478.779999</td>\n",
       "      <td>473.230011</td>\n",
       "      <td>473.700012</td>\n",
       "      <td>2171200.0</td>\n",
       "      <td>LIN</td>\n",
       "      <td>NaN</td>\n",
       "    </tr>\n",
       "    <tr>\n",
       "      <th>107</th>\n",
       "      <td>2025-09-30</td>\n",
       "      <td>133.899994</td>\n",
       "      <td>134.210007</td>\n",
       "      <td>130.809998</td>\n",
       "      <td>131.350006</td>\n",
       "      <td>10325700.0</td>\n",
       "      <td>LRCX</td>\n",
       "      <td>NaN</td>\n",
       "    </tr>\n",
       "    <tr>\n",
       "      <th>143</th>\n",
       "      <td>2025-09-30</td>\n",
       "      <td>203.619995</td>\n",
       "      <td>206.070007</td>\n",
       "      <td>201.919998</td>\n",
       "      <td>203.619995</td>\n",
       "      <td>4393500.0</td>\n",
       "      <td>PANW</td>\n",
       "      <td>NaN</td>\n",
       "    </tr>\n",
       "    <tr>\n",
       "      <th>109</th>\n",
       "      <td>2025-09-30</td>\n",
       "      <td>177.929993</td>\n",
       "      <td>180.089996</td>\n",
       "      <td>176.490005</td>\n",
       "      <td>178.529999</td>\n",
       "      <td>3412700.0</td>\n",
       "      <td>LULU</td>\n",
       "      <td>NaN</td>\n",
       "    </tr>\n",
       "    <tr>\n",
       "      <th>111</th>\n",
       "      <td>2025-09-30</td>\n",
       "      <td>260.440002</td>\n",
       "      <td>265.959991</td>\n",
       "      <td>259.619995</td>\n",
       "      <td>265.500000</td>\n",
       "      <td>1695300.0</td>\n",
       "      <td>MAR</td>\n",
       "      <td>NaN</td>\n",
       "    </tr>\n",
       "    <tr>\n",
       "      <th>141</th>\n",
       "      <td>2025-09-30</td>\n",
       "      <td>107.809998</td>\n",
       "      <td>108.720001</td>\n",
       "      <td>107.500000</td>\n",
       "      <td>107.500000</td>\n",
       "      <td>5027500.0</td>\n",
       "      <td>ORLY</td>\n",
       "      <td>NaN</td>\n",
       "    </tr>\n",
       "    <tr>\n",
       "      <th>113</th>\n",
       "      <td>2025-09-30</td>\n",
       "      <td>64.220001</td>\n",
       "      <td>64.870003</td>\n",
       "      <td>63.029999</td>\n",
       "      <td>64.269997</td>\n",
       "      <td>7685200.0</td>\n",
       "      <td>MCHP</td>\n",
       "      <td>NaN</td>\n",
       "    </tr>\n",
       "    <tr>\n",
       "      <th>115</th>\n",
       "      <td>2025-09-30</td>\n",
       "      <td>62.470001</td>\n",
       "      <td>62.869999</td>\n",
       "      <td>62.150002</td>\n",
       "      <td>62.450001</td>\n",
       "      <td>6603800.0</td>\n",
       "      <td>MDLZ</td>\n",
       "      <td>NaN</td>\n",
       "    </tr>\n",
       "    <tr>\n",
       "      <th>139</th>\n",
       "      <td>2025-09-30</td>\n",
       "      <td>49.310001</td>\n",
       "      <td>49.619999</td>\n",
       "      <td>47.900002</td>\n",
       "      <td>49.500000</td>\n",
       "      <td>8569500.0</td>\n",
       "      <td>ON</td>\n",
       "      <td>NaN</td>\n",
       "    </tr>\n",
       "    <tr>\n",
       "      <th>117</th>\n",
       "      <td>2025-09-30</td>\n",
       "      <td>2336.939941</td>\n",
       "      <td>2481.100098</td>\n",
       "      <td>2314.179932</td>\n",
       "      <td>2475.000000</td>\n",
       "      <td>928300.0</td>\n",
       "      <td>MELI</td>\n",
       "      <td>NaN</td>\n",
       "    </tr>\n",
       "    <tr>\n",
       "      <th>119</th>\n",
       "      <td>2025-09-30</td>\n",
       "      <td>734.380005</td>\n",
       "      <td>742.969971</td>\n",
       "      <td>726.299988</td>\n",
       "      <td>742.250000</td>\n",
       "      <td>16207600.0</td>\n",
       "      <td>META</td>\n",
       "      <td>NaN</td>\n",
       "    </tr>\n",
       "    <tr>\n",
       "      <th>137</th>\n",
       "      <td>2025-09-30</td>\n",
       "      <td>140.779999</td>\n",
       "      <td>141.199997</td>\n",
       "      <td>138.070007</td>\n",
       "      <td>140.000000</td>\n",
       "      <td>2368000.0</td>\n",
       "      <td>ODFL</td>\n",
       "      <td>NaN</td>\n",
       "    </tr>\n",
       "    <tr>\n",
       "      <th>121</th>\n",
       "      <td>2025-09-30</td>\n",
       "      <td>67.309998</td>\n",
       "      <td>67.440002</td>\n",
       "      <td>66.709999</td>\n",
       "      <td>67.129997</td>\n",
       "      <td>4775200.0</td>\n",
       "      <td>MNST</td>\n",
       "      <td>NaN</td>\n",
       "    </tr>\n",
       "    <tr>\n",
       "      <th>123</th>\n",
       "      <td>2025-09-30</td>\n",
       "      <td>84.070000</td>\n",
       "      <td>84.430000</td>\n",
       "      <td>81.400002</td>\n",
       "      <td>81.699997</td>\n",
       "      <td>18713200.0</td>\n",
       "      <td>MRVL</td>\n",
       "      <td>NaN</td>\n",
       "    </tr>\n",
       "    <tr>\n",
       "      <th>135</th>\n",
       "      <td>2025-09-30</td>\n",
       "      <td>227.729996</td>\n",
       "      <td>227.949997</td>\n",
       "      <td>222.880005</td>\n",
       "      <td>225.559998</td>\n",
       "      <td>1723300.0</td>\n",
       "      <td>NXPI</td>\n",
       "      <td>NaN</td>\n",
       "    </tr>\n",
       "    <tr>\n",
       "      <th>125</th>\n",
       "      <td>2025-09-30</td>\n",
       "      <td>517.950012</td>\n",
       "      <td>518.159973</td>\n",
       "      <td>509.660004</td>\n",
       "      <td>513.239990</td>\n",
       "      <td>19712400.0</td>\n",
       "      <td>MSFT</td>\n",
       "      <td>NaN</td>\n",
       "    </tr>\n",
       "    <tr>\n",
       "      <th>127</th>\n",
       "      <td>2025-09-30</td>\n",
       "      <td>322.209991</td>\n",
       "      <td>324.500000</td>\n",
       "      <td>316.190002</td>\n",
       "      <td>320.829987</td>\n",
       "      <td>7781400.0</td>\n",
       "      <td>MSTR</td>\n",
       "      <td>NaN</td>\n",
       "    </tr>\n",
       "    <tr>\n",
       "      <th>133</th>\n",
       "      <td>2025-09-30</td>\n",
       "      <td>186.580002</td>\n",
       "      <td>187.350006</td>\n",
       "      <td>181.479996</td>\n",
       "      <td>182.080002</td>\n",
       "      <td>236479800.0</td>\n",
       "      <td>NVDA</td>\n",
       "      <td>NaN</td>\n",
       "    </tr>\n",
       "    <tr>\n",
       "      <th>129</th>\n",
       "      <td>2025-09-30</td>\n",
       "      <td>167.320007</td>\n",
       "      <td>168.949997</td>\n",
       "      <td>163.960007</td>\n",
       "      <td>164.110001</td>\n",
       "      <td>20052200.0</td>\n",
       "      <td>MU</td>\n",
       "      <td>NaN</td>\n",
       "    </tr>\n",
       "    <tr>\n",
       "      <th>149</th>\n",
       "      <td>2025-09-30</td>\n",
       "      <td>132.169998</td>\n",
       "      <td>134.380005</td>\n",
       "      <td>131.160004</td>\n",
       "      <td>132.779999</td>\n",
       "      <td>12737000.0</td>\n",
       "      <td>PDD</td>\n",
       "      <td>NaN</td>\n",
       "    </tr>\n",
       "    <tr>\n",
       "      <th>169</th>\n",
       "      <td>2025-09-30</td>\n",
       "      <td>148.610001</td>\n",
       "      <td>151.779999</td>\n",
       "      <td>145.470001</td>\n",
       "      <td>147.990005</td>\n",
       "      <td>9250100.0</td>\n",
       "      <td>SHOP</td>\n",
       "      <td>NaN</td>\n",
       "    </tr>\n",
       "    <tr>\n",
       "      <th>95</th>\n",
       "      <td>2025-09-30</td>\n",
       "      <td>682.909973</td>\n",
       "      <td>702.119995</td>\n",
       "      <td>680.119995</td>\n",
       "      <td>697.020020</td>\n",
       "      <td>2377900.0</td>\n",
       "      <td>INTU</td>\n",
       "      <td>NaN</td>\n",
       "    </tr>\n",
       "    <tr>\n",
       "      <th>151</th>\n",
       "      <td>2025-09-30</td>\n",
       "      <td>140.440002</td>\n",
       "      <td>141.029999</td>\n",
       "      <td>139.830002</td>\n",
       "      <td>140.169998</td>\n",
       "      <td>7579800.0</td>\n",
       "      <td>PEP</td>\n",
       "      <td>NaN</td>\n",
       "    </tr>\n",
       "    <tr>\n",
       "      <th>59</th>\n",
       "      <td>2025-09-30</td>\n",
       "      <td>35.509998</td>\n",
       "      <td>35.750000</td>\n",
       "      <td>35.259998</td>\n",
       "      <td>35.740002</td>\n",
       "      <td>17211500.0</td>\n",
       "      <td>CSX</td>\n",
       "      <td>NaN</td>\n",
       "    </tr>\n",
       "    <tr>\n",
       "      <th>167</th>\n",
       "      <td>2025-09-30</td>\n",
       "      <td>84.599998</td>\n",
       "      <td>85.250000</td>\n",
       "      <td>84.180000</td>\n",
       "      <td>85.230003</td>\n",
       "      <td>7570300.0</td>\n",
       "      <td>SBUX</td>\n",
       "      <td>NaN</td>\n",
       "    </tr>\n",
       "    <tr>\n",
       "      <th>61</th>\n",
       "      <td>2025-09-30</td>\n",
       "      <td>205.259995</td>\n",
       "      <td>205.929993</td>\n",
       "      <td>201.750000</td>\n",
       "      <td>202.600006</td>\n",
       "      <td>1822700.0</td>\n",
       "      <td>CTAS</td>\n",
       "      <td>NaN</td>\n",
       "    </tr>\n",
       "    <tr>\n",
       "      <th>63</th>\n",
       "      <td>2025-09-30</td>\n",
       "      <td>67.070000</td>\n",
       "      <td>67.610001</td>\n",
       "      <td>66.610001</td>\n",
       "      <td>66.910004</td>\n",
       "      <td>4064400.0</td>\n",
       "      <td>CTSH</td>\n",
       "      <td>NaN</td>\n",
       "    </tr>\n",
       "    <tr>\n",
       "      <th>165</th>\n",
       "      <td>2025-09-30</td>\n",
       "      <td>152.389999</td>\n",
       "      <td>152.899994</td>\n",
       "      <td>151.059998</td>\n",
       "      <td>151.139999</td>\n",
       "      <td>2025100.0</td>\n",
       "      <td>ROST</td>\n",
       "      <td>NaN</td>\n",
       "    </tr>\n",
       "    <tr>\n",
       "      <th>131</th>\n",
       "      <td>2025-09-30</td>\n",
       "      <td>1198.920044</td>\n",
       "      <td>1208.500000</td>\n",
       "      <td>1178.000000</td>\n",
       "      <td>1206.410034</td>\n",
       "      <td>3823900.0</td>\n",
       "      <td>NFLX</td>\n",
       "      <td>NaN</td>\n",
       "    </tr>\n",
       "    <tr>\n",
       "      <th>67</th>\n",
       "      <td>2025-09-30</td>\n",
       "      <td>142.399994</td>\n",
       "      <td>144.494995</td>\n",
       "      <td>139.630005</td>\n",
       "      <td>144.429993</td>\n",
       "      <td>4304400.0</td>\n",
       "      <td>DDOG</td>\n",
       "      <td>NaN</td>\n",
       "    </tr>\n",
       "    <tr>\n",
       "      <th>163</th>\n",
       "      <td>2025-09-30</td>\n",
       "      <td>498.690002</td>\n",
       "      <td>502.079987</td>\n",
       "      <td>495.809998</td>\n",
       "      <td>500.450012</td>\n",
       "      <td>804800.0</td>\n",
       "      <td>ROP</td>\n",
       "      <td>NaN</td>\n",
       "    </tr>\n",
       "    <tr>\n",
       "      <th>69</th>\n",
       "      <td>2025-09-30</td>\n",
       "      <td>67.290001</td>\n",
       "      <td>67.610001</td>\n",
       "      <td>66.180000</td>\n",
       "      <td>66.699997</td>\n",
       "      <td>3793400.0</td>\n",
       "      <td>DXCM</td>\n",
       "      <td>NaN</td>\n",
       "    </tr>\n",
       "    <tr>\n",
       "      <th>71</th>\n",
       "      <td>2025-09-30</td>\n",
       "      <td>201.699997</td>\n",
       "      <td>202.149994</td>\n",
       "      <td>201.300003</td>\n",
       "      <td>201.750000</td>\n",
       "      <td>8927400.0</td>\n",
       "      <td>EA</td>\n",
       "      <td>NaN</td>\n",
       "    </tr>\n",
       "    <tr>\n",
       "      <th>161</th>\n",
       "      <td>2025-09-30</td>\n",
       "      <td>562.270020</td>\n",
       "      <td>574.039978</td>\n",
       "      <td>555.000000</td>\n",
       "      <td>560.580017</td>\n",
       "      <td>1662500.0</td>\n",
       "      <td>REGN</td>\n",
       "      <td>NaN</td>\n",
       "    </tr>\n",
       "    <tr>\n",
       "      <th>73</th>\n",
       "      <td>2025-09-30</td>\n",
       "      <td>45.009998</td>\n",
       "      <td>45.060001</td>\n",
       "      <td>44.250000</td>\n",
       "      <td>44.310001</td>\n",
       "      <td>6770400.0</td>\n",
       "      <td>EXC</td>\n",
       "      <td>NaN</td>\n",
       "    </tr>\n",
       "    <tr>\n",
       "      <th>75</th>\n",
       "      <td>2025-09-30</td>\n",
       "      <td>143.100006</td>\n",
       "      <td>144.130005</td>\n",
       "      <td>140.750000</td>\n",
       "      <td>141.740005</td>\n",
       "      <td>2488400.0</td>\n",
       "      <td>FANG</td>\n",
       "      <td>NaN</td>\n",
       "    </tr>\n",
       "    <tr>\n",
       "      <th>159</th>\n",
       "      <td>2025-09-30</td>\n",
       "      <td>188.639999</td>\n",
       "      <td>189.009995</td>\n",
       "      <td>185.080002</td>\n",
       "      <td>186.389999</td>\n",
       "      <td>324400.0</td>\n",
       "      <td>R</td>\n",
       "      <td>NaN</td>\n",
       "    </tr>\n",
       "    <tr>\n",
       "      <th>77</th>\n",
       "      <td>2025-09-30</td>\n",
       "      <td>49.040001</td>\n",
       "      <td>49.110001</td>\n",
       "      <td>48.680000</td>\n",
       "      <td>48.790001</td>\n",
       "      <td>6660000.0</td>\n",
       "      <td>FAST</td>\n",
       "      <td>NaN</td>\n",
       "    </tr>\n",
       "    <tr>\n",
       "      <th>79</th>\n",
       "      <td>2025-09-30</td>\n",
       "      <td>84.080002</td>\n",
       "      <td>84.989998</td>\n",
       "      <td>83.500000</td>\n",
       "      <td>84.330002</td>\n",
       "      <td>3965300.0</td>\n",
       "      <td>FTNT</td>\n",
       "      <td>NaN</td>\n",
       "    </tr>\n",
       "    <tr>\n",
       "      <th>157</th>\n",
       "      <td>2025-09-30</td>\n",
       "      <td>166.360001</td>\n",
       "      <td>166.839996</td>\n",
       "      <td>164.880005</td>\n",
       "      <td>165.639999</td>\n",
       "      <td>5591200.0</td>\n",
       "      <td>QCOM</td>\n",
       "      <td>NaN</td>\n",
       "    </tr>\n",
       "    <tr>\n",
       "      <th>81</th>\n",
       "      <td>2025-09-30</td>\n",
       "      <td>75.099998</td>\n",
       "      <td>75.269997</td>\n",
       "      <td>72.709999</td>\n",
       "      <td>72.800003</td>\n",
       "      <td>4089000.0</td>\n",
       "      <td>GEHC</td>\n",
       "      <td>NaN</td>\n",
       "    </tr>\n",
       "    <tr>\n",
       "      <th>83</th>\n",
       "      <td>2025-09-30</td>\n",
       "      <td>35.840000</td>\n",
       "      <td>36.959999</td>\n",
       "      <td>34.810001</td>\n",
       "      <td>36.939999</td>\n",
       "      <td>8550200.0</td>\n",
       "      <td>GFS</td>\n",
       "      <td>NaN</td>\n",
       "    </tr>\n",
       "    <tr>\n",
       "      <th>155</th>\n",
       "      <td>2025-09-30</td>\n",
       "      <td>67.059998</td>\n",
       "      <td>69.830002</td>\n",
       "      <td>66.849998</td>\n",
       "      <td>69.824997</td>\n",
       "      <td>21365000.0</td>\n",
       "      <td>PYPL</td>\n",
       "      <td>NaN</td>\n",
       "    </tr>\n",
       "    <tr>\n",
       "      <th>85</th>\n",
       "      <td>2025-09-30</td>\n",
       "      <td>111.000000</td>\n",
       "      <td>114.860001</td>\n",
       "      <td>110.919998</td>\n",
       "      <td>113.029999</td>\n",
       "      <td>10300200.0</td>\n",
       "      <td>GILD</td>\n",
       "      <td>NaN</td>\n",
       "    </tr>\n",
       "    <tr>\n",
       "      <th>87</th>\n",
       "      <td>2025-09-30</td>\n",
       "      <td>243.550003</td>\n",
       "      <td>243.675003</td>\n",
       "      <td>239.570999</td>\n",
       "      <td>243.059998</td>\n",
       "      <td>22530900.0</td>\n",
       "      <td>GOOG</td>\n",
       "      <td>NaN</td>\n",
       "    </tr>\n",
       "    <tr>\n",
       "      <th>153</th>\n",
       "      <td>2025-09-30</td>\n",
       "      <td>182.419998</td>\n",
       "      <td>182.770004</td>\n",
       "      <td>178.220001</td>\n",
       "      <td>178.979996</td>\n",
       "      <td>43431700.0</td>\n",
       "      <td>PLTR</td>\n",
       "      <td>NaN</td>\n",
       "    </tr>\n",
       "    <tr>\n",
       "      <th>89</th>\n",
       "      <td>2025-09-30</td>\n",
       "      <td>210.500000</td>\n",
       "      <td>211.110001</td>\n",
       "      <td>208.449997</td>\n",
       "      <td>208.949997</td>\n",
       "      <td>4182300.0</td>\n",
       "      <td>HON</td>\n",
       "      <td>NaN</td>\n",
       "    </tr>\n",
       "    <tr>\n",
       "      <th>91</th>\n",
       "      <td>2025-09-30</td>\n",
       "      <td>638.890015</td>\n",
       "      <td>639.530029</td>\n",
       "      <td>629.669983</td>\n",
       "      <td>631.270020</td>\n",
       "      <td>367500.0</td>\n",
       "      <td>IDXX</td>\n",
       "      <td>NaN</td>\n",
       "    </tr>\n",
       "    <tr>\n",
       "      <th>93</th>\n",
       "      <td>2025-09-30</td>\n",
       "      <td>33.549999</td>\n",
       "      <td>34.240002</td>\n",
       "      <td>33.020000</td>\n",
       "      <td>33.930000</td>\n",
       "      <td>124468400.0</td>\n",
       "      <td>INTC</td>\n",
       "      <td>NaN</td>\n",
       "    </tr>\n",
       "    <tr>\n",
       "      <th>197</th>\n",
       "      <td>2025-09-30</td>\n",
       "      <td>299.660004</td>\n",
       "      <td>300.209991</td>\n",
       "      <td>291.570007</td>\n",
       "      <td>295.839996</td>\n",
       "      <td>1885600.0</td>\n",
       "      <td>ZS</td>\n",
       "      <td>NaN</td>\n",
       "    </tr>\n",
       "  </tbody>\n",
       "</table>\n",
       "</div>"
      ]
     },
     "execution_count": 17,
     "metadata": {},
     "output_type": "execute_result"
    }
   ],
   "execution_count": 17
  },
  {
   "metadata": {
    "ExecuteTime": {
     "end_time": "2025-10-01T13:42:55.305200Z",
     "start_time": "2025-10-01T13:42:55.302283Z"
    }
   },
   "cell_type": "code",
   "source": "df_concat['Date'].max()",
   "id": "2fb50fac20b29100",
   "outputs": [
    {
     "data": {
      "text/plain": [
       "Timestamp('2025-09-30 00:00:00')"
      ]
     },
     "execution_count": 18,
     "metadata": {},
     "output_type": "execute_result"
    }
   ],
   "execution_count": 18
  },
  {
   "cell_type": "code",
   "id": "fc3ade3f-0c4a-4a1b-bcd5-8293c8818a65",
   "metadata": {
    "ExecuteTime": {
     "end_time": "2025-10-01T13:42:55.318073Z",
     "start_time": "2025-10-01T13:42:55.316692Z"
    }
   },
   "source": [
    "# Sauvegarder la DataFrame résultante dans un fichier CSV\n",
    "#data_SP500.to_csv('/Users/forget/PyCharmMiscProject/historical_data_S&P500_From_Wiki.csv')"
   ],
   "outputs": [],
   "execution_count": 19
  },
  {
   "metadata": {
    "ExecuteTime": {
     "end_time": "2025-10-01T13:42:55.329584Z",
     "start_time": "2025-10-01T13:42:55.327148Z"
    }
   },
   "cell_type": "code",
   "source": [
    "\"\"\"\n",
    "mask_1 = data_SP500[(data_SP500['Ticker'] == 'NVR') & (data_SP500['Date'] < '1993-10-01')]\n",
    "mask_2 = data_SP500[(data_SP500['Ticker'] == 'HUBB') & (data_SP500['Date'] < '1994-10-31')]\n",
    "mask_3 = data_SP500[(data_SP500['Date'] == '1984-12-31') & (data_SP500['Ticker'] == 'BEN')]\n",
    "\"\"\""
   ],
   "id": "5554fac36cbc425c",
   "outputs": [
    {
     "data": {
      "text/plain": [
       "\"\\nmask_1 = data_SP500[(data_SP500['Ticker'] == 'NVR') & (data_SP500['Date'] < '1993-10-01')]\\nmask_2 = data_SP500[(data_SP500['Ticker'] == 'HUBB') & (data_SP500['Date'] < '1994-10-31')]\\nmask_3 = data_SP500[(data_SP500['Date'] == '1984-12-31') & (data_SP500['Ticker'] == 'BEN')]\\n\""
      ]
     },
     "execution_count": 20,
     "metadata": {},
     "output_type": "execute_result"
    }
   ],
   "execution_count": 20
  },
  {
   "metadata": {
    "ExecuteTime": {
     "end_time": "2025-10-01T13:42:55.348725Z",
     "start_time": "2025-10-01T13:42:55.345388Z"
    }
   },
   "cell_type": "code",
   "source": [
    "\"\"\"\n",
    "idx_to_drop = mask_1.index.union(mask_2.index).union(mask_3.index)\n",
    "data_SP500 = data_SP500.drop(index=idx_to_drop).copy()\n",
    "\"\"\""
   ],
   "id": "3e44a0476c5466d",
   "outputs": [
    {
     "data": {
      "text/plain": [
       "'\\nidx_to_drop = mask_1.index.union(mask_2.index).union(mask_3.index)\\ndata_SP500 = data_SP500.drop(index=idx_to_drop).copy()\\n'"
      ]
     },
     "execution_count": 21,
     "metadata": {},
     "output_type": "execute_result"
    }
   ],
   "execution_count": 21
  },
  {
   "metadata": {
    "ExecuteTime": {
     "end_time": "2025-10-01T13:42:55.456803Z",
     "start_time": "2025-10-01T13:42:55.362630Z"
    }
   },
   "cell_type": "code",
   "source": "df_concat.to_parquet(\"/Users/forget/Library/Mobile Documents/com~apple~CloudDocs/Project Stock Market Deep Learning/Data/data_NASDAQ.parquet\")",
   "id": "27b858f1805ff48d",
   "outputs": [],
   "execution_count": 22
  }
 ],
 "metadata": {
  "kernelspec": {
   "display_name": "Python 3 (ipykernel)",
   "language": "python",
   "name": "python3"
  },
  "language_info": {
   "codemirror_mode": {
    "name": "ipython",
    "version": 3
   },
   "file_extension": ".py",
   "mimetype": "text/x-python",
   "name": "python",
   "nbconvert_exporter": "python",
   "pygments_lexer": "ipython3",
   "version": "3.12.4"
  }
 },
 "nbformat": 4,
 "nbformat_minor": 5
}
