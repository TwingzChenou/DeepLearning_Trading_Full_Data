{
 "cells": [
  {
   "cell_type": "code",
   "id": "d57f0474-062c-4085-a442-4189e1e6d207",
   "metadata": {
    "ExecuteTime": {
     "end_time": "2025-09-15T14:24:42.614257Z",
     "start_time": "2025-09-15T14:24:41.155267Z"
    }
   },
   "source": [
    "import pandas as pd \n",
    "import yfinance as yf\n",
    "from datetime import datetime, timedelta\n"
   ],
   "outputs": [],
   "execution_count": 1
  },
  {
   "cell_type": "code",
   "id": "fc27d29a-7ea3-43eb-8465-e78d1137332c",
   "metadata": {
    "ExecuteTime": {
     "end_time": "2025-09-15T14:24:43.449830Z",
     "start_time": "2025-09-15T14:24:42.619242Z"
    }
   },
   "source": [
    "SP500_Url = \"https://en.wikipedia.org/wiki/Nasdaq-100\"\n",
    "data_table = pd.read_html(\n",
    "    SP500_Url,\n",
    "    storage_options={\"User-Agent\": \"Mozilla/5.0 (X11; Linux x86_64) AppleWebKit/537.36 \"\n",
    "                                   \"(KHTML, like Gecko) Chrome/123.0 Safari/537.36\"}\n",
    ")\n",
    "data_table"
   ],
   "outputs": [
    {
     "data": {
      "text/plain": [
       "[                                     0                                      1\n",
       " 0   Nasdaq-100 Index from 1985 to 2015     Nasdaq-100 Index from 1985 to 2015\n",
       " 1                           Foundation         January 31, 1985; 40 years ago\n",
       " 2                             Operator                           Nasdaq, Inc.\n",
       " 3                            Exchanges                                 Nasdaq\n",
       " 4                       Trading symbol                            ^NDX or NDX\n",
       " 5                         Constituents                                    101\n",
       " 6                                 Type                              Large-cap\n",
       " 7                           Market cap  US$25.34 trillion (as of May 1, 2025)\n",
       " 8                     Weighting method     Free-float capitalization-weighted\n",
       " 9                      Related indices                   Nasdaq Financial-100\n",
       " 10                             Website                  nasdaq.com/nasdaq-100,\n",
       "    Category  All-Time Highs[8]       All-Time Highs[8].1\n",
       " 0   Closing            23839.2  Tuesday, August 12, 2025\n",
       " 1  Intraday            23849.5  Tuesday, August 12, 2025,\n",
       "     Milestone[9][obsolete source] (closing) Date of Record (closing)[9]  \\\n",
       " 0                                      1000                July 8, 1997   \n",
       " 1                                      2000            January 11, 1999   \n",
       " 2                                      3000           November 18, 1999   \n",
       " 3                                      4000            February 8, 2000   \n",
       " 4                                      5000             January 6, 2017   \n",
       " 5                                      6000          September 13, 2017   \n",
       " 6                                      7000            January 26, 2018   \n",
       " 7                                      8000               July 24, 2019   \n",
       " 8                                      9000            January 13, 2020   \n",
       " 9                                     10000               June 10, 2020   \n",
       " 10                                    11000              August 3, 2020   \n",
       " 11                                    12000             August 31, 2020   \n",
       " 12                                    13000             January 8, 2021   \n",
       " 13                                    14000              April 15, 2021   \n",
       " 14                                    15000               July 23, 2021   \n",
       " 15                                    16000            November 3, 2021   \n",
       " 16                                    17000            January 19, 2024   \n",
       " 17                                    18000           February 22, 2024   \n",
       " 18                                    19000                June 5, 2024   \n",
       " 19                                    20000                July 2, 2024   \n",
       " 20                                    21000            November 7, 2024   \n",
       " 21                                    22000           December 16, 2024   \n",
       " 22                                    23000               July 17, 2025   \n",
       " \n",
       "     Trading Days[9]  \n",
       " 0              3143  \n",
       " 1               381  \n",
       " 2               217  \n",
       " 3                55  \n",
       " 4              4255  \n",
       " 5               172  \n",
       " 6                93  \n",
       " 7               374  \n",
       " 8               119  \n",
       " 9               103  \n",
       " 10               37  \n",
       " 11               20  \n",
       " 12               90  \n",
       " 13               66  \n",
       " 14               69  \n",
       " 15               72  \n",
       " 16              554  \n",
       " 17               23  \n",
       " 18               72  \n",
       " 19               18  \n",
       " 20               90  \n",
       " 21               26  \n",
       " 22              144  ,\n",
       "     Year  Closing level Change in Index in Points Change in Index in %\n",
       " 0   1985         132.29                       NaN                  NaN\n",
       " 1   1986         141.41                      9.12                 6.89\n",
       " 2   1987         156.25                     14.84                10.49\n",
       " 3   1988         177.41                     21.16                13.54\n",
       " 4   1989         223.84                     46.43                26.17\n",
       " 5   1990         200.53                    −23.31               −10.41\n",
       " 6   1991         330.86                    130.33                64.99\n",
       " 7   1992         360.19                     29.33                 8.86\n",
       " 8   1993         398.28                     38.09                10.57\n",
       " 9   1994         404.27                      5.99                 1.50\n",
       " 10  1995         576.23                    171.96                42.54\n",
       " 11  1996         821.36                    245.13                42.54\n",
       " 12  1997         990.80                    169.44                20.63\n",
       " 13  1998        1836.01                    845.21                85.31\n",
       " 14  1999        3707.83                   1871.81               101.95\n",
       " 15  2000        2341.70                 −1,366.13               −36.84\n",
       " 16  2001        1577.05                   −764.65               −32.65\n",
       " 17  2002         984.36                   −592.69               −37.58\n",
       " 18  2003        1467.92                    483.56                49.12\n",
       " 19  2004        1621.12                    153.20                10.44\n",
       " 20  2005        1645.20                     24.08                 1.49\n",
       " 21  2006        1756.90                    111.70                 6.79\n",
       " 22  2007        2084.93                    328.03                18.67\n",
       " 23  2008        1211.65                   −873.28               −41.89\n",
       " 24  2009        1860.31                    648.66                53.54\n",
       " 25  2010        2217.86                    357.55                19.22\n",
       " 26  2011        2277.83                     59.97                 2.70\n",
       " 27  2012        2660.93                    383.10                16.82\n",
       " 28  2013        3592.00                    931.07                34.99\n",
       " 29  2014        4236.28                    644.28                17.94\n",
       " 30  2015        4593.27                    356.99                 8.43\n",
       " 31  2016        4863.62                    270.35                 5.89\n",
       " 32  2017        6396.42                   1532.80                31.52\n",
       " 33  2018        6329.96                    −66.46                −1.04\n",
       " 34  2019        8733.07                   2403.11                37.96\n",
       " 35  2020       12888.28                   4155.21                47.58\n",
       " 36  2021       16320.08                   3431.80                26.63\n",
       " 37  2022       10939.76                 −5,380.32               −32.97\n",
       " 38  2023       16825.93                   5886.17                53.81\n",
       " 39  2024       21012.17                   4186.24                24.88,\n",
       "     Ticker                  Company             GICS Sector  \\\n",
       " 0     ADBE               Adobe Inc.  Information Technology   \n",
       " 1      AMD   Advanced Micro Devices  Information Technology   \n",
       " 2     ABNB                   Airbnb  Consumer Discretionary   \n",
       " 3    GOOGL  Alphabet Inc. (Class A)  Communication Services   \n",
       " 4     GOOG  Alphabet Inc. (Class C)  Communication Services   \n",
       " ..     ...                      ...                     ...   \n",
       " 96    VRTX   Vertex Pharmaceuticals             Health Care   \n",
       " 97     WBD   Warner Bros. Discovery  Communication Services   \n",
       " 98    WDAY            Workday, Inc.  Information Technology   \n",
       " 99     XEL              Xcel Energy               Utilities   \n",
       " 100     ZS                  Zscaler  Information Technology   \n",
       " \n",
       "                   GICS Sub-Industry  \n",
       " 0              Application Software  \n",
       " 1                    Semiconductors  \n",
       " 2    Hotels, Resorts & Cruise Lines  \n",
       " 3      Interactive Media & Services  \n",
       " 4      Interactive Media & Services  \n",
       " ..                              ...  \n",
       " 96                    Biotechnology  \n",
       " 97                     Broadcasting  \n",
       " 98             Application Software  \n",
       " 99                  Multi-Utilities  \n",
       " 100            Application Software  \n",
       " \n",
       " [101 rows x 4 columns],\n",
       "                   Date  Added                        Removed  \\\n",
       "                   Date Ticker               Security  Ticker   \n",
       " 0        July 28, 2025    TRI        Thomson Reuters     NaN   \n",
       " 1        July 17, 2025    NaN                    NaN    ANSS   \n",
       " 2         May 19, 2025   SHOP                Shopify     MDB   \n",
       " 3    December 23, 2024   PLTR  Palantir Technologies    ILMN   \n",
       " 4    December 23, 2024   MSTR          MicroStrategy    MRNA   \n",
       " ..                 ...    ...                    ...     ...   \n",
       " 202      July 12, 2007   FWLT         Foster Wheeler    BMET   \n",
       " 203       June 1, 2007   CEPH               Cephalon    MEDI   \n",
       " 204      March 8, 2007   UAUA        UAL Corporation    AEOS   \n",
       " 205  February 14, 2007  RYAAY                Ryanair    APCC   \n",
       " 206   February 1, 2007   LOGI               Logitech    CMVT   \n",
       " \n",
       "                                 \\\n",
       "                       Security   \n",
       " 0                          NaN   \n",
       " 1                        Ansys   \n",
       " 2                      MongoDB   \n",
       " 3                      Ilumina   \n",
       " 4                      Moderna   \n",
       " ..                         ...   \n",
       " 202                     Biomet   \n",
       " 203                  MedImmune   \n",
       " 204  American Eagle Outfitters   \n",
       " 205  American Power Conversion   \n",
       " 206        Comverse Technology   \n",
       " \n",
       "                                                 Reason  \n",
       "                                                 Reason  \n",
       " 0     Thomson Reuters replaced Ansys in the index.[15]  \n",
       " 1                      Ansys was acquired by Synopsys.  \n",
       " 2    MongoDB did not meet the minimum monthly weigh...  \n",
       " 3                     Annual index reconstitution.[17]  \n",
       " 4                     Annual index reconstitution.[17]  \n",
       " ..                                                 ...  \n",
       " 202                     Biomet was taken private.[110]  \n",
       " 203        MedImmune was acquired by AstraZeneca.[111]  \n",
       " 204  American Eagle Outfitters transferred its list...  \n",
       " 205       APC was acquired by Schneider Electric.[114]  \n",
       " 206  Comverse did not meet the minimum monthly weig...  \n",
       " \n",
       " [207 rows x 6 columns],\n",
       "                 vteCompanies of the Nasdaq-100 index  \\\n",
       " 0  Adobe ADP AMD Airbnb Alphabet Amazon AEP Amgen...   \n",
       " \n",
       "               vteCompanies of the Nasdaq-100 index.1  \n",
       " 0  Adobe ADP AMD Airbnb Alphabet Amazon AEP Amgen...  ,\n",
       "                                      vteNasdaq, Inc.  \\\n",
       " 0  Operator of the Nasdaq, Nasdaq Baltic and Nasd...   \n",
       " 1                                          Exchanges   \n",
       " 2                                       Main indices   \n",
       " 3                                     Other holdings   \n",
       " \n",
       "                                    vteNasdaq, Inc..1  \\\n",
       " 0  Operator of the Nasdaq, Nasdaq Baltic and Nasd...   \n",
       " 1  Nasdaq BX Canada GEMX ISE MRX Nasdaq NOM PHLX ...   \n",
       " 2  Nasdaq 100 Composite Nasdaq Baltic Baltic 10 N...   \n",
       " 3  Adenza Longitude Nasdaq MarketSite Nasdaq Priv...   \n",
       " \n",
       "                                    vteNasdaq, Inc..2  \n",
       " 0  Operator of the Nasdaq, Nasdaq Baltic and Nasd...  \n",
       " 1                                                NaN  \n",
       " 2                                                NaN  \n",
       " 3                                                NaN  ,\n",
       "    vteStock market indices                          vteStock market indices.1\n",
       " 0                   Global  Equities MSCI ACWI Index MSCI World S&P Global...\n",
       " 1                 Equities  MSCI ACWI Index MSCI World S&P Global 100 S&P ...\n",
       " 2              Commodities  Bloomberg Commodity Index S&P GSCI Deutsche Ba...\n",
       " 3                 Regional  Asia S&P Asia 50 Europe EURO STOXX 50 STOXX Eu...\n",
       " 4                     Asia                                        S&P Asia 50\n",
       " 5                   Europe  EURO STOXX 50 STOXX Europe 600 FTSEurofirst 30...\n",
       " 6            Latin America                               S&P Latin America 40\n",
       " 7                    Other                                 MSCI EAFE MSCI GCC\n",
       " 8         Industry indices  Energy Amex Oil Index Electronics PHLX Semicon...\n",
       " 9                   Energy                                     Amex Oil Index\n",
       " 10             Electronics                   PHLX Semiconductor Sector TecDax\n",
       " 11                  Metals  HUI Gold Index Philadelphia Gold and Silver Index\n",
       " 12             Real estate                              CBV Real Estate Index\n",
       " 13                   Water                              Palisades Water Index\n",
       " 14                   Other                                   Baltic Dry Index\n",
       " 15                Americas  USMajor Dow Jones Industrial Average NYSE Comp...\n",
       " 16                      US  Major Dow Jones Industrial Average NYSE Compos...\n",
       " 17                   Major  Dow Jones Industrial Average NYSE Composite Na...\n",
       " 18                   Other  Dow Jones Transportation Average Dow Jones Uti...\n",
       " 19                  Canada                 S&P/TSX 60 S&P/TSX Composite Index\n",
       " 20                   Other  Indice de Precios y Cotizaciones (Mexico) COLC...\n",
       " 21                  Europe  UK FT 30 FTSE 100 Index FTSE 250 Index FTSE 35...\n",
       " 22                      UK  FT 30 FTSE 100 Index FTSE 250 Index FTSE 350 I...\n",
       " 23                  France  CAC 40 CAC Next 20 CAC Mid 60 CAC Small CAC Al...\n",
       " 24                   Other  AEX ATX BEL 20 BUX DAX FTSE MIB IBEX 35 ISEQ 2...\n",
       " 25                    Asia  China SSE Composite SZSE Component SSE 50 Inde...\n",
       " 26                   China  SSE Composite SZSE Component SSE 50 Index SSE ...\n",
       " 27                   India  BSE SENSEX NIFTY 50 NIFTY Next 50 NIFTY 500 GI...\n",
       " 28                   Japan                     Nikkei 225 TOPIX S&P/TOPIX 150\n",
       " 29             South Korea                             KOSPI KOSPI 200 KOSDAQ\n",
       " 30                   Other  KASE (Kazakhstan) KSE (Kyrgyzstan) Tashkent (U...\n",
       " 31                 Oceania  Australia S&P/ASX 20 S&P/ASX 50 S&P/ASX 200 S&...\n",
       " 32               Australia  S&P/ASX 20 S&P/ASX 50 S&P/ASX 200 S&P/ASX 300 ...\n",
       " 33             New Zealand                                   S&P/NZX 50 Index\n",
       " 34                  Africa                     EGX 30 JSE Top 40 MADEX NSE 30,\n",
       "              0                                                  1\n",
       " 0     Equities  MSCI ACWI Index MSCI World S&P Global 100 S&P ...\n",
       " 1  Commodities  Bloomberg Commodity Index S&P GSCI Deutsche Ba...,\n",
       "                0                                                  1\n",
       " 0           Asia                                        S&P Asia 50\n",
       " 1         Europe  EURO STOXX 50 STOXX Europe 600 FTSEurofirst 30...\n",
       " 2  Latin America                               S&P Latin America 40\n",
       " 3          Other                                 MSCI EAFE MSCI GCC,\n",
       "              0                                                  1\n",
       " 0       Energy                                     Amex Oil Index\n",
       " 1  Electronics                   PHLX Semiconductor Sector TecDax\n",
       " 2       Metals  HUI Gold Index Philadelphia Gold and Silver Index\n",
       " 3  Real estate                              CBV Real Estate Index\n",
       " 4        Water                              Palisades Water Index\n",
       " 5        Other                                   Baltic Dry Index,\n",
       "         0                                                  1\n",
       " 0      US  Major Dow Jones Industrial Average NYSE Compos...\n",
       " 1   Major  Dow Jones Industrial Average NYSE Composite Na...\n",
       " 2   Other  Dow Jones Transportation Average Dow Jones Uti...\n",
       " 3  Canada                 S&P/TSX 60 S&P/TSX Composite Index\n",
       " 4   Other  Indice de Precios y Cotizaciones (Mexico) COLC...,\n",
       "        0                                                  1\n",
       " 0  Major  Dow Jones Industrial Average NYSE Composite Na...\n",
       " 1  Other  Dow Jones Transportation Average Dow Jones Uti...,\n",
       "         0                                                  1\n",
       " 0      UK  FT 30 FTSE 100 Index FTSE 250 Index FTSE 350 I...\n",
       " 1  France  CAC 40 CAC Next 20 CAC Mid 60 CAC Small CAC Al...\n",
       " 2   Other  AEX ATX BEL 20 BUX DAX FTSE MIB IBEX 35 ISEQ 2...,\n",
       "              0                                                  1\n",
       " 0        China  SSE Composite SZSE Component SSE 50 Index SSE ...\n",
       " 1        India  BSE SENSEX NIFTY 50 NIFTY Next 50 NIFTY 500 GI...\n",
       " 2        Japan                     Nikkei 225 TOPIX S&P/TOPIX 150\n",
       " 3  South Korea                             KOSPI KOSPI 200 KOSDAQ\n",
       " 4        Other  KASE (Kazakhstan) KSE (Kyrgyzstan) Tashkent (U...,\n",
       "              0                                                  1\n",
       " 0    Australia  S&P/ASX 20 S&P/ASX 50 S&P/ASX 200 S&P/ASX 300 ...\n",
       " 1  New Zealand                                   S&P/NZX 50 Index,\n",
       "          vteMajor United States stock market indices  \\\n",
       " 0  Dow Jones Industrial Average historical compon...   \n",
       " \n",
       "        vteMajor United States stock market indices.1  \n",
       " 0  Dow Jones Industrial Average historical compon...  ,\n",
       "   vteMajor North and South American stock market indices  \\\n",
       " 0                                      United States       \n",
       " 1                                             Canada       \n",
       " 2                                             Mexico       \n",
       " 3                                           Colombia       \n",
       " 4                                             Brazil       \n",
       " 5                                              Chile       \n",
       " 6                                          Argentina       \n",
       " 7                                               Peru       \n",
       " \n",
       "   vteMajor North and South American stock market indices.1  \n",
       " 0  Dow Jones Industrial Average Dow Jones Transpo...        \n",
       " 1                 S&P/TSX 60 S&P/TSX Composite Index        \n",
       " 2                   Indice de Precios y Cotizaciones        \n",
       " 3  COLCAP Indice General de la Bolsa de Valores d...        \n",
       " 4                                     Índice Bovespa        \n",
       " 5            Índice de Precios Selectivo de Acciones        \n",
       " 6                                             MERVAL        \n",
       " 7                         S&P/BVL Peru General Index        ]"
      ]
     },
     "execution_count": 2,
     "metadata": {},
     "output_type": "execute_result"
    }
   ],
   "execution_count": 2
  },
  {
   "cell_type": "code",
   "id": "1b24ff08-adf5-4396-8e7a-d6779a1b9d77",
   "metadata": {
    "ExecuteTime": {
     "end_time": "2025-09-15T14:24:43.455487Z",
     "start_time": "2025-09-15T14:24:43.453934Z"
    }
   },
   "source": "tickers = data_table[4][\"Ticker\"].tolist()",
   "outputs": [],
   "execution_count": 3
  },
  {
   "metadata": {
    "ExecuteTime": {
     "end_time": "2025-09-15T14:24:43.476255Z",
     "start_time": "2025-09-15T14:24:43.474395Z"
    }
   },
   "cell_type": "code",
   "source": [
    "supp = ['ASML', 'AZN', 'F', 'G', 'GOOGL', 'H', 'I', 'J', 'L', 'O', 'Q', 'R', 'U', 'VRSK', 'W', 'Y']\n",
    "\n",
    "tickers = [x for x in tickers if x not in supp]\n",
    "print(len(tickers), len(supp))"
   ],
   "id": "71a1b132b62bcbee",
   "outputs": [
    {
     "name": "stdout",
     "output_type": "stream",
     "text": [
      "97 16\n"
     ]
    }
   ],
   "execution_count": 4
  },
  {
   "cell_type": "code",
   "id": "17d6901d-f2b7-48b7-88a9-48d3aee5d9b7",
   "metadata": {
    "ExecuteTime": {
     "end_time": "2025-09-15T14:24:43.493318Z",
     "start_time": "2025-09-15T14:24:43.483880Z"
    }
   },
   "source": [
    "# Extraction des données\n",
    "Date = data_table[5]['Date']\n",
    "Removed = data_table[5]['Removed']['Ticker']  # Supposant que 'Removed' est un DataFrame ou Series\n",
    "Added = data_table[5]['Added']['Ticker']      # Supposant que 'Added' est un DataFrame ou Series\n",
    "\n",
    "# Combinaison des données dans un DataFrame\n",
    "Data_Change = pd.concat([Date, Added, Removed], axis = 1)\n",
    "\n",
    "#Date au format Date\n",
    "Data_Change['Date'] = pd.to_datetime(Data_Change['Date'])\n",
    "\n",
    "# Changer le format de la date en 'jour/mois/année'\n",
    "Data_Change['Date'] = Data_Change['Date'].dt.strftime('%Y-%m-%d')\n",
    "\n",
    "\n",
    "# Renommer toutes les colonnes\n",
    "Data_Change.columns = ['Date', 'Added', 'Removed']\n",
    "\n",
    "# Mettre 'colonne_a' en tant qu'index\n",
    "Data_Change.set_index('Date', inplace=True)\n",
    "\n",
    "# Nan en vide\n",
    "Data_Change = Data_Change.fillna('')\n",
    "\n",
    "Data_Change"
   ],
   "outputs": [
    {
     "data": {
      "text/plain": [
       "            Added Removed\n",
       "Date                     \n",
       "2025-07-28    TRI        \n",
       "2025-07-17           ANSS\n",
       "2025-05-19   SHOP     MDB\n",
       "2024-12-23   PLTR    ILMN\n",
       "2024-12-23   MSTR    MRNA\n",
       "...           ...     ...\n",
       "2007-07-12   FWLT    BMET\n",
       "2007-06-01   CEPH    MEDI\n",
       "2007-03-08   UAUA    AEOS\n",
       "2007-02-14  RYAAY    APCC\n",
       "2007-02-01   LOGI    CMVT\n",
       "\n",
       "[207 rows x 2 columns]"
      ],
      "text/html": [
       "<div>\n",
       "<style scoped>\n",
       "    .dataframe tbody tr th:only-of-type {\n",
       "        vertical-align: middle;\n",
       "    }\n",
       "\n",
       "    .dataframe tbody tr th {\n",
       "        vertical-align: top;\n",
       "    }\n",
       "\n",
       "    .dataframe thead th {\n",
       "        text-align: right;\n",
       "    }\n",
       "</style>\n",
       "<table border=\"1\" class=\"dataframe\">\n",
       "  <thead>\n",
       "    <tr style=\"text-align: right;\">\n",
       "      <th></th>\n",
       "      <th>Added</th>\n",
       "      <th>Removed</th>\n",
       "    </tr>\n",
       "    <tr>\n",
       "      <th>Date</th>\n",
       "      <th></th>\n",
       "      <th></th>\n",
       "    </tr>\n",
       "  </thead>\n",
       "  <tbody>\n",
       "    <tr>\n",
       "      <th>2025-07-28</th>\n",
       "      <td>TRI</td>\n",
       "      <td></td>\n",
       "    </tr>\n",
       "    <tr>\n",
       "      <th>2025-07-17</th>\n",
       "      <td></td>\n",
       "      <td>ANSS</td>\n",
       "    </tr>\n",
       "    <tr>\n",
       "      <th>2025-05-19</th>\n",
       "      <td>SHOP</td>\n",
       "      <td>MDB</td>\n",
       "    </tr>\n",
       "    <tr>\n",
       "      <th>2024-12-23</th>\n",
       "      <td>PLTR</td>\n",
       "      <td>ILMN</td>\n",
       "    </tr>\n",
       "    <tr>\n",
       "      <th>2024-12-23</th>\n",
       "      <td>MSTR</td>\n",
       "      <td>MRNA</td>\n",
       "    </tr>\n",
       "    <tr>\n",
       "      <th>...</th>\n",
       "      <td>...</td>\n",
       "      <td>...</td>\n",
       "    </tr>\n",
       "    <tr>\n",
       "      <th>2007-07-12</th>\n",
       "      <td>FWLT</td>\n",
       "      <td>BMET</td>\n",
       "    </tr>\n",
       "    <tr>\n",
       "      <th>2007-06-01</th>\n",
       "      <td>CEPH</td>\n",
       "      <td>MEDI</td>\n",
       "    </tr>\n",
       "    <tr>\n",
       "      <th>2007-03-08</th>\n",
       "      <td>UAUA</td>\n",
       "      <td>AEOS</td>\n",
       "    </tr>\n",
       "    <tr>\n",
       "      <th>2007-02-14</th>\n",
       "      <td>RYAAY</td>\n",
       "      <td>APCC</td>\n",
       "    </tr>\n",
       "    <tr>\n",
       "      <th>2007-02-01</th>\n",
       "      <td>LOGI</td>\n",
       "      <td>CMVT</td>\n",
       "    </tr>\n",
       "  </tbody>\n",
       "</table>\n",
       "<p>207 rows × 2 columns</p>\n",
       "</div>"
      ]
     },
     "execution_count": 5,
     "metadata": {},
     "output_type": "execute_result"
    }
   ],
   "execution_count": 5
  },
  {
   "cell_type": "code",
   "id": "48c463b9-ff84-4821-85cb-6bde2c7350a6",
   "metadata": {
    "ExecuteTime": {
     "end_time": "2025-09-15T14:24:43.502978Z",
     "start_time": "2025-09-15T14:24:43.501037Z"
    }
   },
   "source": [
    "len(tickers)"
   ],
   "outputs": [
    {
     "data": {
      "text/plain": [
       "97"
      ]
     },
     "execution_count": 6,
     "metadata": {},
     "output_type": "execute_result"
    }
   ],
   "execution_count": 6
  },
  {
   "cell_type": "code",
   "id": "20a9d36e-3278-4048-b5f2-582ebcbdef5b",
   "metadata": {
    "scrolled": true,
    "ExecuteTime": {
     "end_time": "2025-09-15T14:24:43.605126Z",
     "start_time": "2025-09-15T14:24:43.509271Z"
    }
   },
   "source": [
    "# Supposons que la liste tickers ait déjà 503 éléments au départ\n",
    "# tickers = ['AAPL', 'MSFT', ...]  # Exemples de tickers initiaux\n",
    "\n",
    "# Initialiser un dictionnaire vide\n",
    "dict = {}\n",
    "\n",
    "# Boucle pour parcourir les données et mettre à jour le dictionnaire\n",
    "for i in range(0, len(Data_Change)):\n",
    "    \n",
    "    # Ajouter les nouveaux tickers (si ce n'est pas déjà un ensemble vide)\n",
    "    tickers.extend(Data_Change.Added[i])\n",
    "    \n",
    "    # Essayer de supprimer les tickers retirés, si possible\n",
    "    try:\n",
    "        tickers = [t for t in tickers if t not in Data_Change.Removed[i]]  # Supprimer les tickers retirés\n",
    "    except ValueError:\n",
    "        # Si l'élément à supprimer n'existe pas dans la liste, continuer sans erreur\n",
    "        pass\n",
    "    \n",
    "    # Trier les tickers\n",
    "    tickers = sorted(set(tickers))  # Utilisation de set pour éviter les doublons\n",
    "\n",
    "    # Ajouter une **copie** de la liste `tickers` dans le dictionnaire\n",
    "    dict[Data_Change.index[i]] = tickers.copy()\n",
    "\n",
    "df = pd.DataFrame(list(dict.items()), columns=['date', 'tickers'])\n",
    "\n",
    "df['date'] = pd.to_datetime(df['date'])\n",
    "\n",
    "# Mettre la colonne 'date' comme index\n",
    "df.set_index('date', inplace=True)\n",
    "\n",
    "df"
   ],
   "outputs": [
    {
     "name": "stderr",
     "output_type": "stream",
     "text": [
      "/var/folders/6k/82j2nnl13hj9ld7nmzpdt6fh0000gn/T/ipykernel_3527/1527443372.py:11: FutureWarning: Series.__getitem__ treating keys as positions is deprecated. In a future version, integer keys will always be treated as labels (consistent with DataFrame behavior). To access a value by position, use `ser.iloc[pos]`\n",
      "  tickers.extend(Data_Change.Added[i])\n",
      "/var/folders/6k/82j2nnl13hj9ld7nmzpdt6fh0000gn/T/ipykernel_3527/1527443372.py:15: FutureWarning: Series.__getitem__ treating keys as positions is deprecated. In a future version, integer keys will always be treated as labels (consistent with DataFrame behavior). To access a value by position, use `ser.iloc[pos]`\n",
      "  tickers = [t for t in tickers if t not in Data_Change.Removed[i]]  # Supprimer les tickers retirés\n"
     ]
    },
    {
     "data": {
      "text/plain": [
       "                                                      tickers\n",
       "date                                                         \n",
       "2025-07-28  [AAPL, ABNB, ADBE, ADI, ADP, ADSK, AEP, AMAT, ...\n",
       "2025-07-17  [AAPL, ABNB, ADBE, ADI, ADP, ADSK, AEP, AMAT, ...\n",
       "2025-05-19  [AAPL, ABNB, ADBE, ADI, ADP, ADSK, AEP, AMAT, ...\n",
       "2024-12-23  [A, AAPL, ABNB, ADBE, ADI, ADP, ADSK, AEP, AMA...\n",
       "2024-11-18  [A, AAPL, ABNB, ADBE, ADI, ADP, ADSK, AEP, AMA...\n",
       "...                                                       ...\n",
       "2007-07-12  [A, AAPL, ABNB, ADBE, ADI, ADP, ADSK, AEP, AMA...\n",
       "2007-06-01  [A, AAPL, ABNB, ADBE, ADI, ADP, ADSK, AEP, AMA...\n",
       "2007-03-08  [AAPL, ABNB, ADBE, ADI, ADP, ADSK, AEP, AMAT, ...\n",
       "2007-02-14  [AAPL, ABNB, ADBE, ADI, ADP, ADSK, AEP, AMAT, ...\n",
       "2007-02-01  [AAPL, ABNB, ADBE, ADI, ADP, ADSK, AEP, AMAT, ...\n",
       "\n",
       "[101 rows x 1 columns]"
      ],
      "text/html": [
       "<div>\n",
       "<style scoped>\n",
       "    .dataframe tbody tr th:only-of-type {\n",
       "        vertical-align: middle;\n",
       "    }\n",
       "\n",
       "    .dataframe tbody tr th {\n",
       "        vertical-align: top;\n",
       "    }\n",
       "\n",
       "    .dataframe thead th {\n",
       "        text-align: right;\n",
       "    }\n",
       "</style>\n",
       "<table border=\"1\" class=\"dataframe\">\n",
       "  <thead>\n",
       "    <tr style=\"text-align: right;\">\n",
       "      <th></th>\n",
       "      <th>tickers</th>\n",
       "    </tr>\n",
       "    <tr>\n",
       "      <th>date</th>\n",
       "      <th></th>\n",
       "    </tr>\n",
       "  </thead>\n",
       "  <tbody>\n",
       "    <tr>\n",
       "      <th>2025-07-28</th>\n",
       "      <td>[AAPL, ABNB, ADBE, ADI, ADP, ADSK, AEP, AMAT, ...</td>\n",
       "    </tr>\n",
       "    <tr>\n",
       "      <th>2025-07-17</th>\n",
       "      <td>[AAPL, ABNB, ADBE, ADI, ADP, ADSK, AEP, AMAT, ...</td>\n",
       "    </tr>\n",
       "    <tr>\n",
       "      <th>2025-05-19</th>\n",
       "      <td>[AAPL, ABNB, ADBE, ADI, ADP, ADSK, AEP, AMAT, ...</td>\n",
       "    </tr>\n",
       "    <tr>\n",
       "      <th>2024-12-23</th>\n",
       "      <td>[A, AAPL, ABNB, ADBE, ADI, ADP, ADSK, AEP, AMA...</td>\n",
       "    </tr>\n",
       "    <tr>\n",
       "      <th>2024-11-18</th>\n",
       "      <td>[A, AAPL, ABNB, ADBE, ADI, ADP, ADSK, AEP, AMA...</td>\n",
       "    </tr>\n",
       "    <tr>\n",
       "      <th>...</th>\n",
       "      <td>...</td>\n",
       "    </tr>\n",
       "    <tr>\n",
       "      <th>2007-07-12</th>\n",
       "      <td>[A, AAPL, ABNB, ADBE, ADI, ADP, ADSK, AEP, AMA...</td>\n",
       "    </tr>\n",
       "    <tr>\n",
       "      <th>2007-06-01</th>\n",
       "      <td>[A, AAPL, ABNB, ADBE, ADI, ADP, ADSK, AEP, AMA...</td>\n",
       "    </tr>\n",
       "    <tr>\n",
       "      <th>2007-03-08</th>\n",
       "      <td>[AAPL, ABNB, ADBE, ADI, ADP, ADSK, AEP, AMAT, ...</td>\n",
       "    </tr>\n",
       "    <tr>\n",
       "      <th>2007-02-14</th>\n",
       "      <td>[AAPL, ABNB, ADBE, ADI, ADP, ADSK, AEP, AMAT, ...</td>\n",
       "    </tr>\n",
       "    <tr>\n",
       "      <th>2007-02-01</th>\n",
       "      <td>[AAPL, ABNB, ADBE, ADI, ADP, ADSK, AEP, AMAT, ...</td>\n",
       "    </tr>\n",
       "  </tbody>\n",
       "</table>\n",
       "<p>101 rows × 1 columns</p>\n",
       "</div>"
      ]
     },
     "execution_count": 7,
     "metadata": {},
     "output_type": "execute_result"
    }
   ],
   "execution_count": 7
  },
  {
   "metadata": {
    "ExecuteTime": {
     "end_time": "2025-09-15T14:24:43.616266Z",
     "start_time": "2025-09-15T14:24:43.614159Z"
    }
   },
   "cell_type": "code",
   "source": [
    "# Récupère l'index en liste\n",
    "new_index = list(df.index)\n",
    "\n",
    "# Remplace la première valeur\n",
    "new_index[0] = datetime.today().date()\n",
    "\n",
    "# Réapplique l'index modifié\n",
    "df.index = pd.to_datetime(new_index)"
   ],
   "id": "7bb535b927d2bb5b",
   "outputs": [],
   "execution_count": 8
  },
  {
   "metadata": {
    "ExecuteTime": {
     "end_time": "2025-09-15T14:24:43.624351Z",
     "start_time": "2025-09-15T14:24:43.619394Z"
    }
   },
   "cell_type": "code",
   "source": "df",
   "id": "8726eeeb2cff1231",
   "outputs": [
    {
     "data": {
      "text/plain": [
       "                                                      tickers\n",
       "2025-09-15  [AAPL, ABNB, ADBE, ADI, ADP, ADSK, AEP, AMAT, ...\n",
       "2025-07-17  [AAPL, ABNB, ADBE, ADI, ADP, ADSK, AEP, AMAT, ...\n",
       "2025-05-19  [AAPL, ABNB, ADBE, ADI, ADP, ADSK, AEP, AMAT, ...\n",
       "2024-12-23  [A, AAPL, ABNB, ADBE, ADI, ADP, ADSK, AEP, AMA...\n",
       "2024-11-18  [A, AAPL, ABNB, ADBE, ADI, ADP, ADSK, AEP, AMA...\n",
       "...                                                       ...\n",
       "2007-07-12  [A, AAPL, ABNB, ADBE, ADI, ADP, ADSK, AEP, AMA...\n",
       "2007-06-01  [A, AAPL, ABNB, ADBE, ADI, ADP, ADSK, AEP, AMA...\n",
       "2007-03-08  [AAPL, ABNB, ADBE, ADI, ADP, ADSK, AEP, AMAT, ...\n",
       "2007-02-14  [AAPL, ABNB, ADBE, ADI, ADP, ADSK, AEP, AMAT, ...\n",
       "2007-02-01  [AAPL, ABNB, ADBE, ADI, ADP, ADSK, AEP, AMAT, ...\n",
       "\n",
       "[101 rows x 1 columns]"
      ],
      "text/html": [
       "<div>\n",
       "<style scoped>\n",
       "    .dataframe tbody tr th:only-of-type {\n",
       "        vertical-align: middle;\n",
       "    }\n",
       "\n",
       "    .dataframe tbody tr th {\n",
       "        vertical-align: top;\n",
       "    }\n",
       "\n",
       "    .dataframe thead th {\n",
       "        text-align: right;\n",
       "    }\n",
       "</style>\n",
       "<table border=\"1\" class=\"dataframe\">\n",
       "  <thead>\n",
       "    <tr style=\"text-align: right;\">\n",
       "      <th></th>\n",
       "      <th>tickers</th>\n",
       "    </tr>\n",
       "  </thead>\n",
       "  <tbody>\n",
       "    <tr>\n",
       "      <th>2025-09-15</th>\n",
       "      <td>[AAPL, ABNB, ADBE, ADI, ADP, ADSK, AEP, AMAT, ...</td>\n",
       "    </tr>\n",
       "    <tr>\n",
       "      <th>2025-07-17</th>\n",
       "      <td>[AAPL, ABNB, ADBE, ADI, ADP, ADSK, AEP, AMAT, ...</td>\n",
       "    </tr>\n",
       "    <tr>\n",
       "      <th>2025-05-19</th>\n",
       "      <td>[AAPL, ABNB, ADBE, ADI, ADP, ADSK, AEP, AMAT, ...</td>\n",
       "    </tr>\n",
       "    <tr>\n",
       "      <th>2024-12-23</th>\n",
       "      <td>[A, AAPL, ABNB, ADBE, ADI, ADP, ADSK, AEP, AMA...</td>\n",
       "    </tr>\n",
       "    <tr>\n",
       "      <th>2024-11-18</th>\n",
       "      <td>[A, AAPL, ABNB, ADBE, ADI, ADP, ADSK, AEP, AMA...</td>\n",
       "    </tr>\n",
       "    <tr>\n",
       "      <th>...</th>\n",
       "      <td>...</td>\n",
       "    </tr>\n",
       "    <tr>\n",
       "      <th>2007-07-12</th>\n",
       "      <td>[A, AAPL, ABNB, ADBE, ADI, ADP, ADSK, AEP, AMA...</td>\n",
       "    </tr>\n",
       "    <tr>\n",
       "      <th>2007-06-01</th>\n",
       "      <td>[A, AAPL, ABNB, ADBE, ADI, ADP, ADSK, AEP, AMA...</td>\n",
       "    </tr>\n",
       "    <tr>\n",
       "      <th>2007-03-08</th>\n",
       "      <td>[AAPL, ABNB, ADBE, ADI, ADP, ADSK, AEP, AMAT, ...</td>\n",
       "    </tr>\n",
       "    <tr>\n",
       "      <th>2007-02-14</th>\n",
       "      <td>[AAPL, ABNB, ADBE, ADI, ADP, ADSK, AEP, AMAT, ...</td>\n",
       "    </tr>\n",
       "    <tr>\n",
       "      <th>2007-02-01</th>\n",
       "      <td>[AAPL, ABNB, ADBE, ADI, ADP, ADSK, AEP, AMAT, ...</td>\n",
       "    </tr>\n",
       "  </tbody>\n",
       "</table>\n",
       "<p>101 rows × 1 columns</p>\n",
       "</div>"
      ]
     },
     "execution_count": 9,
     "metadata": {},
     "output_type": "execute_result"
    }
   ],
   "execution_count": 9
  },
  {
   "metadata": {
    "ExecuteTime": {
     "end_time": "2025-09-15T14:24:43.706230Z",
     "start_time": "2025-09-15T14:24:43.632289Z"
    }
   },
   "cell_type": "code",
   "source": [
    "\n",
    "data_SP500_old = pd.read_parquet('/Users/forget/Library/Mobile Documents/com~apple~CloudDocs/Project Stock Market Deep Learning/Data/data_NASDAQ.parquet')\n",
    "last_date = data_SP500_old['Date'].sort_values(ascending=True).iloc[-1] + timedelta(days=1)\n",
    "last_date\n"
   ],
   "id": "d328e69739b0f844",
   "outputs": [
    {
     "data": {
      "text/plain": [
       "Timestamp('2025-09-13 00:00:00')"
      ]
     },
     "execution_count": 10,
     "metadata": {},
     "output_type": "execute_result"
    }
   ],
   "execution_count": 10
  },
  {
   "metadata": {
    "ExecuteTime": {
     "end_time": "2025-09-15T14:24:43.719414Z",
     "start_time": "2025-09-15T14:24:43.713200Z"
    }
   },
   "cell_type": "code",
   "source": [
    "\n",
    "df['Last_Date'] = last_date\n",
    "df"
   ],
   "id": "4ee6f7fd0f2fe091",
   "outputs": [
    {
     "data": {
      "text/plain": [
       "                                                      tickers  Last_Date\n",
       "2025-09-15  [AAPL, ABNB, ADBE, ADI, ADP, ADSK, AEP, AMAT, ... 2025-09-13\n",
       "2025-07-17  [AAPL, ABNB, ADBE, ADI, ADP, ADSK, AEP, AMAT, ... 2025-09-13\n",
       "2025-05-19  [AAPL, ABNB, ADBE, ADI, ADP, ADSK, AEP, AMAT, ... 2025-09-13\n",
       "2024-12-23  [A, AAPL, ABNB, ADBE, ADI, ADP, ADSK, AEP, AMA... 2025-09-13\n",
       "2024-11-18  [A, AAPL, ABNB, ADBE, ADI, ADP, ADSK, AEP, AMA... 2025-09-13\n",
       "...                                                       ...        ...\n",
       "2007-07-12  [A, AAPL, ABNB, ADBE, ADI, ADP, ADSK, AEP, AMA... 2025-09-13\n",
       "2007-06-01  [A, AAPL, ABNB, ADBE, ADI, ADP, ADSK, AEP, AMA... 2025-09-13\n",
       "2007-03-08  [AAPL, ABNB, ADBE, ADI, ADP, ADSK, AEP, AMAT, ... 2025-09-13\n",
       "2007-02-14  [AAPL, ABNB, ADBE, ADI, ADP, ADSK, AEP, AMAT, ... 2025-09-13\n",
       "2007-02-01  [AAPL, ABNB, ADBE, ADI, ADP, ADSK, AEP, AMAT, ... 2025-09-13\n",
       "\n",
       "[101 rows x 2 columns]"
      ],
      "text/html": [
       "<div>\n",
       "<style scoped>\n",
       "    .dataframe tbody tr th:only-of-type {\n",
       "        vertical-align: middle;\n",
       "    }\n",
       "\n",
       "    .dataframe tbody tr th {\n",
       "        vertical-align: top;\n",
       "    }\n",
       "\n",
       "    .dataframe thead th {\n",
       "        text-align: right;\n",
       "    }\n",
       "</style>\n",
       "<table border=\"1\" class=\"dataframe\">\n",
       "  <thead>\n",
       "    <tr style=\"text-align: right;\">\n",
       "      <th></th>\n",
       "      <th>tickers</th>\n",
       "      <th>Last_Date</th>\n",
       "    </tr>\n",
       "  </thead>\n",
       "  <tbody>\n",
       "    <tr>\n",
       "      <th>2025-09-15</th>\n",
       "      <td>[AAPL, ABNB, ADBE, ADI, ADP, ADSK, AEP, AMAT, ...</td>\n",
       "      <td>2025-09-13</td>\n",
       "    </tr>\n",
       "    <tr>\n",
       "      <th>2025-07-17</th>\n",
       "      <td>[AAPL, ABNB, ADBE, ADI, ADP, ADSK, AEP, AMAT, ...</td>\n",
       "      <td>2025-09-13</td>\n",
       "    </tr>\n",
       "    <tr>\n",
       "      <th>2025-05-19</th>\n",
       "      <td>[AAPL, ABNB, ADBE, ADI, ADP, ADSK, AEP, AMAT, ...</td>\n",
       "      <td>2025-09-13</td>\n",
       "    </tr>\n",
       "    <tr>\n",
       "      <th>2024-12-23</th>\n",
       "      <td>[A, AAPL, ABNB, ADBE, ADI, ADP, ADSK, AEP, AMA...</td>\n",
       "      <td>2025-09-13</td>\n",
       "    </tr>\n",
       "    <tr>\n",
       "      <th>2024-11-18</th>\n",
       "      <td>[A, AAPL, ABNB, ADBE, ADI, ADP, ADSK, AEP, AMA...</td>\n",
       "      <td>2025-09-13</td>\n",
       "    </tr>\n",
       "    <tr>\n",
       "      <th>...</th>\n",
       "      <td>...</td>\n",
       "      <td>...</td>\n",
       "    </tr>\n",
       "    <tr>\n",
       "      <th>2007-07-12</th>\n",
       "      <td>[A, AAPL, ABNB, ADBE, ADI, ADP, ADSK, AEP, AMA...</td>\n",
       "      <td>2025-09-13</td>\n",
       "    </tr>\n",
       "    <tr>\n",
       "      <th>2007-06-01</th>\n",
       "      <td>[A, AAPL, ABNB, ADBE, ADI, ADP, ADSK, AEP, AMA...</td>\n",
       "      <td>2025-09-13</td>\n",
       "    </tr>\n",
       "    <tr>\n",
       "      <th>2007-03-08</th>\n",
       "      <td>[AAPL, ABNB, ADBE, ADI, ADP, ADSK, AEP, AMAT, ...</td>\n",
       "      <td>2025-09-13</td>\n",
       "    </tr>\n",
       "    <tr>\n",
       "      <th>2007-02-14</th>\n",
       "      <td>[AAPL, ABNB, ADBE, ADI, ADP, ADSK, AEP, AMAT, ...</td>\n",
       "      <td>2025-09-13</td>\n",
       "    </tr>\n",
       "    <tr>\n",
       "      <th>2007-02-01</th>\n",
       "      <td>[AAPL, ABNB, ADBE, ADI, ADP, ADSK, AEP, AMAT, ...</td>\n",
       "      <td>2025-09-13</td>\n",
       "    </tr>\n",
       "  </tbody>\n",
       "</table>\n",
       "<p>101 rows × 2 columns</p>\n",
       "</div>"
      ]
     },
     "execution_count": 11,
     "metadata": {},
     "output_type": "execute_result"
    }
   ],
   "execution_count": 11
  },
  {
   "metadata": {
    "ExecuteTime": {
     "end_time": "2025-09-15T14:24:43.735248Z",
     "start_time": "2025-09-15T14:24:43.727565Z"
    }
   },
   "cell_type": "code",
   "source": [
    "\n",
    "# Initialiser une DataFrame vide pour stocker toutes les données\n",
    "data_SP500 = pd.DataFrame()\n",
    "\n",
    "df = df.explode('tickers')\n",
    "end_date = df[df.index > last_date].groupby('tickers').apply(lambda x: x.index.max())\n",
    "\n",
    "# Combiner les résultats dans une nouvelle DataFrame\n",
    "resultat = pd.DataFrame({'Start': last_date, 'End': end_date})\n",
    "resultat\n"
   ],
   "id": "1b8881d53f757d6b",
   "outputs": [
    {
     "name": "stderr",
     "output_type": "stream",
     "text": [
      "/var/folders/6k/82j2nnl13hj9ld7nmzpdt6fh0000gn/T/ipykernel_3527/2328952231.py:5: FutureWarning: DataFrameGroupBy.apply operated on the grouping columns. This behavior is deprecated, and in a future version of pandas the grouping columns will be excluded from the operation. Either pass `include_groups=False` to exclude the groupings or explicitly select the grouping columns after groupby to silence this warning.\n",
      "  end_date = df[df.index > last_date].groupby('tickers').apply(lambda x: x.index.max())\n"
     ]
    },
    {
     "data": {
      "text/plain": [
       "             Start        End\n",
       "tickers                      \n",
       "AAPL    2025-09-13 2025-09-15\n",
       "ABNB    2025-09-13 2025-09-15\n",
       "ADBE    2025-09-13 2025-09-15\n",
       "ADI     2025-09-13 2025-09-15\n",
       "ADP     2025-09-13 2025-09-15\n",
       "...            ...        ...\n",
       "VRTX    2025-09-13 2025-09-15\n",
       "WBD     2025-09-13 2025-09-15\n",
       "WDAY    2025-09-13 2025-09-15\n",
       "XEL     2025-09-13 2025-09-15\n",
       "ZS      2025-09-13 2025-09-15\n",
       "\n",
       "[100 rows x 2 columns]"
      ],
      "text/html": [
       "<div>\n",
       "<style scoped>\n",
       "    .dataframe tbody tr th:only-of-type {\n",
       "        vertical-align: middle;\n",
       "    }\n",
       "\n",
       "    .dataframe tbody tr th {\n",
       "        vertical-align: top;\n",
       "    }\n",
       "\n",
       "    .dataframe thead th {\n",
       "        text-align: right;\n",
       "    }\n",
       "</style>\n",
       "<table border=\"1\" class=\"dataframe\">\n",
       "  <thead>\n",
       "    <tr style=\"text-align: right;\">\n",
       "      <th></th>\n",
       "      <th>Start</th>\n",
       "      <th>End</th>\n",
       "    </tr>\n",
       "    <tr>\n",
       "      <th>tickers</th>\n",
       "      <th></th>\n",
       "      <th></th>\n",
       "    </tr>\n",
       "  </thead>\n",
       "  <tbody>\n",
       "    <tr>\n",
       "      <th>AAPL</th>\n",
       "      <td>2025-09-13</td>\n",
       "      <td>2025-09-15</td>\n",
       "    </tr>\n",
       "    <tr>\n",
       "      <th>ABNB</th>\n",
       "      <td>2025-09-13</td>\n",
       "      <td>2025-09-15</td>\n",
       "    </tr>\n",
       "    <tr>\n",
       "      <th>ADBE</th>\n",
       "      <td>2025-09-13</td>\n",
       "      <td>2025-09-15</td>\n",
       "    </tr>\n",
       "    <tr>\n",
       "      <th>ADI</th>\n",
       "      <td>2025-09-13</td>\n",
       "      <td>2025-09-15</td>\n",
       "    </tr>\n",
       "    <tr>\n",
       "      <th>ADP</th>\n",
       "      <td>2025-09-13</td>\n",
       "      <td>2025-09-15</td>\n",
       "    </tr>\n",
       "    <tr>\n",
       "      <th>...</th>\n",
       "      <td>...</td>\n",
       "      <td>...</td>\n",
       "    </tr>\n",
       "    <tr>\n",
       "      <th>VRTX</th>\n",
       "      <td>2025-09-13</td>\n",
       "      <td>2025-09-15</td>\n",
       "    </tr>\n",
       "    <tr>\n",
       "      <th>WBD</th>\n",
       "      <td>2025-09-13</td>\n",
       "      <td>2025-09-15</td>\n",
       "    </tr>\n",
       "    <tr>\n",
       "      <th>WDAY</th>\n",
       "      <td>2025-09-13</td>\n",
       "      <td>2025-09-15</td>\n",
       "    </tr>\n",
       "    <tr>\n",
       "      <th>XEL</th>\n",
       "      <td>2025-09-13</td>\n",
       "      <td>2025-09-15</td>\n",
       "    </tr>\n",
       "    <tr>\n",
       "      <th>ZS</th>\n",
       "      <td>2025-09-13</td>\n",
       "      <td>2025-09-15</td>\n",
       "    </tr>\n",
       "  </tbody>\n",
       "</table>\n",
       "<p>100 rows × 2 columns</p>\n",
       "</div>"
      ]
     },
     "execution_count": 12,
     "metadata": {},
     "output_type": "execute_result"
    }
   ],
   "execution_count": 12
  },
  {
   "metadata": {
    "ExecuteTime": {
     "end_time": "2025-09-15T14:24:43.748054Z",
     "start_time": "2025-09-15T14:24:43.745859Z"
    }
   },
   "cell_type": "code",
   "source": [
    "\"\"\"\n",
    "# Initialiser une DataFrame vide pour stocker toutes les données\n",
    "data_SP500 = pd.DataFrame()\n",
    "\n",
    "df = df.explode('tickers')\n",
    "start_date = df.groupby('tickers').apply(lambda x: x.index.min())\n",
    "end_date = df.groupby('tickers').apply(lambda x: x.index.max())\n",
    "\n",
    "# Combiner les résultats dans une nouvelle DataFrame\n",
    "resultat = pd.DataFrame({'Start': start_date, 'End': end_date})\n",
    "resultat\n",
    "\"\"\""
   ],
   "id": "435eb2e7a8761814",
   "outputs": [
    {
     "data": {
      "text/plain": [
       "\"\\n# Initialiser une DataFrame vide pour stocker toutes les données\\ndata_SP500 = pd.DataFrame()\\n\\ndf = df.explode('tickers')\\nstart_date = df.groupby('tickers').apply(lambda x: x.index.min())\\nend_date = df.groupby('tickers').apply(lambda x: x.index.max())\\n\\n# Combiner les résultats dans une nouvelle DataFrame\\nresultat = pd.DataFrame({'Start': start_date, 'End': end_date})\\nresultat\\n\""
      ]
     },
     "execution_count": 13,
     "metadata": {},
     "output_type": "execute_result"
    }
   ],
   "execution_count": 13
  },
  {
   "cell_type": "code",
   "id": "8edfe1d8-b9a5-4a07-ae0a-164b36e7b60c",
   "metadata": {
    "ExecuteTime": {
     "end_time": "2025-09-15T14:25:26.125630Z",
     "start_time": "2025-09-15T14:24:43.787748Z"
    }
   },
   "source": [
    "# Télécharger les données pour chaque ticker\n",
    "for ticker in resultat.index:\n",
    "    start_date = resultat.loc[ticker, 'Start']\n",
    "    end_date = resultat.loc[ticker, 'End']\n",
    "\n",
    "    print(f\"Téléchargement des données pour {ticker} de {start_date} à {end_date}\")\n",
    "\n",
    "    # Télécharger les données de l'action entre les dates spécifiées\n",
    "    data = yf.download(\n",
    "                        ticker,\n",
    "                        start=start_date,\n",
    "                        end=end_date,\n",
    "                        interval=\"1d\",\n",
    "                        auto_adjust=True,\n",
    "                        actions=False\n",
    "                        )\n",
    "\n",
    "    # Ajouter une colonne pour identifier le ticker\n",
    "    data['Ticker'] = ticker\n",
    "\n",
    "    # On retire le niveau des tickers pour ne garder que 'Close' et 'Volume'\n",
    "    data.columns = data.columns.droplevel(level=1)\n",
    "    \n",
    "    # Concaténer les données dans la DataFrame globale\n",
    "    data_SP500 = pd.concat([data_SP500, data])\n",
    "\n",
    "# Affichage de la DataFrame résultante\n",
    "data_SP500"
   ],
   "outputs": [
    {
     "name": "stdout",
     "output_type": "stream",
     "text": [
      "Téléchargement des données pour AAPL de 2025-09-13 00:00:00 à 2025-09-15 00:00:00\n"
     ]
    },
    {
     "name": "stderr",
     "output_type": "stream",
     "text": [
      "[*********************100%***********************]  1 of 1 completed\n",
      "\n",
      "1 Failed download:\n",
      "['AAPL']: YFPricesMissingError('possibly delisted; no price data found  (1d 2025-09-13 00:00:00 -> 2025-09-15 00:00:00)')\n"
     ]
    },
    {
     "name": "stdout",
     "output_type": "stream",
     "text": [
      "Téléchargement des données pour ABNB de 2025-09-13 00:00:00 à 2025-09-15 00:00:00\n"
     ]
    },
    {
     "name": "stderr",
     "output_type": "stream",
     "text": [
      "[*********************100%***********************]  1 of 1 completed\n",
      "\n",
      "1 Failed download:\n",
      "['ABNB']: YFPricesMissingError('possibly delisted; no price data found  (1d 2025-09-13 00:00:00 -> 2025-09-15 00:00:00)')\n"
     ]
    },
    {
     "name": "stdout",
     "output_type": "stream",
     "text": [
      "Téléchargement des données pour ADBE de 2025-09-13 00:00:00 à 2025-09-15 00:00:00\n"
     ]
    },
    {
     "name": "stderr",
     "output_type": "stream",
     "text": [
      "[*********************100%***********************]  1 of 1 completed\n",
      "\n",
      "1 Failed download:\n",
      "['ADBE']: YFPricesMissingError('possibly delisted; no price data found  (1d 2025-09-13 00:00:00 -> 2025-09-15 00:00:00)')\n"
     ]
    },
    {
     "name": "stdout",
     "output_type": "stream",
     "text": [
      "Téléchargement des données pour ADI de 2025-09-13 00:00:00 à 2025-09-15 00:00:00\n"
     ]
    },
    {
     "name": "stderr",
     "output_type": "stream",
     "text": [
      "[*********************100%***********************]  1 of 1 completed\n",
      "\n",
      "1 Failed download:\n",
      "['ADI']: YFPricesMissingError('possibly delisted; no price data found  (1d 2025-09-13 00:00:00 -> 2025-09-15 00:00:00)')\n"
     ]
    },
    {
     "name": "stdout",
     "output_type": "stream",
     "text": [
      "Téléchargement des données pour ADP de 2025-09-13 00:00:00 à 2025-09-15 00:00:00\n"
     ]
    },
    {
     "name": "stderr",
     "output_type": "stream",
     "text": [
      "[*********************100%***********************]  1 of 1 completed\n",
      "\n",
      "1 Failed download:\n",
      "['ADP']: YFPricesMissingError('possibly delisted; no price data found  (1d 2025-09-13 00:00:00 -> 2025-09-15 00:00:00)')\n"
     ]
    },
    {
     "name": "stdout",
     "output_type": "stream",
     "text": [
      "Téléchargement des données pour ADSK de 2025-09-13 00:00:00 à 2025-09-15 00:00:00\n"
     ]
    },
    {
     "name": "stderr",
     "output_type": "stream",
     "text": [
      "[*********************100%***********************]  1 of 1 completed\n",
      "\n",
      "1 Failed download:\n",
      "['ADSK']: YFPricesMissingError('possibly delisted; no price data found  (1d 2025-09-13 00:00:00 -> 2025-09-15 00:00:00)')\n"
     ]
    },
    {
     "name": "stdout",
     "output_type": "stream",
     "text": [
      "Téléchargement des données pour AEP de 2025-09-13 00:00:00 à 2025-09-15 00:00:00\n"
     ]
    },
    {
     "name": "stderr",
     "output_type": "stream",
     "text": [
      "[*********************100%***********************]  1 of 1 completed\n",
      "\n",
      "1 Failed download:\n",
      "['AEP']: YFPricesMissingError('possibly delisted; no price data found  (1d 2025-09-13 00:00:00 -> 2025-09-15 00:00:00)')\n"
     ]
    },
    {
     "name": "stdout",
     "output_type": "stream",
     "text": [
      "Téléchargement des données pour AMAT de 2025-09-13 00:00:00 à 2025-09-15 00:00:00\n"
     ]
    },
    {
     "name": "stderr",
     "output_type": "stream",
     "text": [
      "[*********************100%***********************]  1 of 1 completed\n",
      "\n",
      "1 Failed download:\n",
      "['AMAT']: YFPricesMissingError('possibly delisted; no price data found  (1d 2025-09-13 00:00:00 -> 2025-09-15 00:00:00)')\n"
     ]
    },
    {
     "name": "stdout",
     "output_type": "stream",
     "text": [
      "Téléchargement des données pour AMD de 2025-09-13 00:00:00 à 2025-09-15 00:00:00\n"
     ]
    },
    {
     "name": "stderr",
     "output_type": "stream",
     "text": [
      "[*********************100%***********************]  1 of 1 completed\n",
      "\n",
      "1 Failed download:\n",
      "['AMD']: YFPricesMissingError('possibly delisted; no price data found  (1d 2025-09-13 00:00:00 -> 2025-09-15 00:00:00)')\n"
     ]
    },
    {
     "name": "stdout",
     "output_type": "stream",
     "text": [
      "Téléchargement des données pour AMGN de 2025-09-13 00:00:00 à 2025-09-15 00:00:00\n"
     ]
    },
    {
     "name": "stderr",
     "output_type": "stream",
     "text": [
      "[*********************100%***********************]  1 of 1 completed\n",
      "\n",
      "1 Failed download:\n",
      "['AMGN']: YFPricesMissingError('possibly delisted; no price data found  (1d 2025-09-13 00:00:00 -> 2025-09-15 00:00:00)')\n"
     ]
    },
    {
     "name": "stdout",
     "output_type": "stream",
     "text": [
      "Téléchargement des données pour AMZN de 2025-09-13 00:00:00 à 2025-09-15 00:00:00\n"
     ]
    },
    {
     "name": "stderr",
     "output_type": "stream",
     "text": [
      "[*********************100%***********************]  1 of 1 completed\n",
      "\n",
      "1 Failed download:\n",
      "['AMZN']: YFPricesMissingError('possibly delisted; no price data found  (1d 2025-09-13 00:00:00 -> 2025-09-15 00:00:00)')\n"
     ]
    },
    {
     "name": "stdout",
     "output_type": "stream",
     "text": [
      "Téléchargement des données pour APP de 2025-09-13 00:00:00 à 2025-09-15 00:00:00\n"
     ]
    },
    {
     "name": "stderr",
     "output_type": "stream",
     "text": [
      "[*********************100%***********************]  1 of 1 completed\n",
      "\n",
      "1 Failed download:\n",
      "['APP']: YFPricesMissingError('possibly delisted; no price data found  (1d 2025-09-13 00:00:00 -> 2025-09-15 00:00:00)')\n"
     ]
    },
    {
     "name": "stdout",
     "output_type": "stream",
     "text": [
      "Téléchargement des données pour ARM de 2025-09-13 00:00:00 à 2025-09-15 00:00:00\n"
     ]
    },
    {
     "name": "stderr",
     "output_type": "stream",
     "text": [
      "[*********************100%***********************]  1 of 1 completed\n",
      "\n",
      "1 Failed download:\n",
      "['ARM']: YFPricesMissingError('possibly delisted; no price data found  (1d 2025-09-13 00:00:00 -> 2025-09-15 00:00:00)')\n"
     ]
    },
    {
     "name": "stdout",
     "output_type": "stream",
     "text": [
      "Téléchargement des données pour AVGO de 2025-09-13 00:00:00 à 2025-09-15 00:00:00\n"
     ]
    },
    {
     "name": "stderr",
     "output_type": "stream",
     "text": [
      "[*********************100%***********************]  1 of 1 completed\n",
      "\n",
      "1 Failed download:\n",
      "['AVGO']: YFPricesMissingError('possibly delisted; no price data found  (1d 2025-09-13 00:00:00 -> 2025-09-15 00:00:00)')\n"
     ]
    },
    {
     "name": "stdout",
     "output_type": "stream",
     "text": [
      "Téléchargement des données pour AXON de 2025-09-13 00:00:00 à 2025-09-15 00:00:00\n"
     ]
    },
    {
     "name": "stderr",
     "output_type": "stream",
     "text": [
      "[*********************100%***********************]  1 of 1 completed\n",
      "\n",
      "1 Failed download:\n",
      "['AXON']: YFPricesMissingError('possibly delisted; no price data found  (1d 2025-09-13 00:00:00 -> 2025-09-15 00:00:00)')\n"
     ]
    },
    {
     "name": "stdout",
     "output_type": "stream",
     "text": [
      "Téléchargement des données pour BIIB de 2025-09-13 00:00:00 à 2025-09-15 00:00:00\n"
     ]
    },
    {
     "name": "stderr",
     "output_type": "stream",
     "text": [
      "[*********************100%***********************]  1 of 1 completed\n",
      "\n",
      "1 Failed download:\n",
      "['BIIB']: YFPricesMissingError('possibly delisted; no price data found  (1d 2025-09-13 00:00:00 -> 2025-09-15 00:00:00)')\n"
     ]
    },
    {
     "name": "stdout",
     "output_type": "stream",
     "text": [
      "Téléchargement des données pour BKNG de 2025-09-13 00:00:00 à 2025-09-15 00:00:00\n"
     ]
    },
    {
     "name": "stderr",
     "output_type": "stream",
     "text": [
      "[*********************100%***********************]  1 of 1 completed\n",
      "\n",
      "1 Failed download:\n",
      "['BKNG']: YFPricesMissingError('possibly delisted; no price data found  (1d 2025-09-13 00:00:00 -> 2025-09-15 00:00:00)')\n"
     ]
    },
    {
     "name": "stdout",
     "output_type": "stream",
     "text": [
      "Téléchargement des données pour BKR de 2025-09-13 00:00:00 à 2025-09-15 00:00:00\n"
     ]
    },
    {
     "name": "stderr",
     "output_type": "stream",
     "text": [
      "[*********************100%***********************]  1 of 1 completed\n",
      "\n",
      "1 Failed download:\n",
      "['BKR']: YFPricesMissingError('possibly delisted; no price data found  (1d 2025-09-13 00:00:00 -> 2025-09-15 00:00:00)')\n"
     ]
    },
    {
     "name": "stdout",
     "output_type": "stream",
     "text": [
      "Téléchargement des données pour CCEP de 2025-09-13 00:00:00 à 2025-09-15 00:00:00\n"
     ]
    },
    {
     "name": "stderr",
     "output_type": "stream",
     "text": [
      "[*********************100%***********************]  1 of 1 completed\n",
      "\n",
      "1 Failed download:\n",
      "['CCEP']: YFPricesMissingError('possibly delisted; no price data found  (1d 2025-09-13 00:00:00 -> 2025-09-15 00:00:00)')\n"
     ]
    },
    {
     "name": "stdout",
     "output_type": "stream",
     "text": [
      "Téléchargement des données pour CDNS de 2025-09-13 00:00:00 à 2025-09-15 00:00:00\n"
     ]
    },
    {
     "name": "stderr",
     "output_type": "stream",
     "text": [
      "[*********************100%***********************]  1 of 1 completed\n",
      "\n",
      "1 Failed download:\n",
      "['CDNS']: YFPricesMissingError('possibly delisted; no price data found  (1d 2025-09-13 00:00:00 -> 2025-09-15 00:00:00)')\n"
     ]
    },
    {
     "name": "stdout",
     "output_type": "stream",
     "text": [
      "Téléchargement des données pour CDW de 2025-09-13 00:00:00 à 2025-09-15 00:00:00\n"
     ]
    },
    {
     "name": "stderr",
     "output_type": "stream",
     "text": [
      "[*********************100%***********************]  1 of 1 completed\n",
      "\n",
      "1 Failed download:\n",
      "['CDW']: YFPricesMissingError('possibly delisted; no price data found  (1d 2025-09-13 00:00:00 -> 2025-09-15 00:00:00)')\n"
     ]
    },
    {
     "name": "stdout",
     "output_type": "stream",
     "text": [
      "Téléchargement des données pour CEG de 2025-09-13 00:00:00 à 2025-09-15 00:00:00\n"
     ]
    },
    {
     "name": "stderr",
     "output_type": "stream",
     "text": [
      "[*********************100%***********************]  1 of 1 completed\n",
      "\n",
      "1 Failed download:\n",
      "['CEG']: YFPricesMissingError('possibly delisted; no price data found  (1d 2025-09-13 00:00:00 -> 2025-09-15 00:00:00)')\n"
     ]
    },
    {
     "name": "stdout",
     "output_type": "stream",
     "text": [
      "Téléchargement des données pour CHTR de 2025-09-13 00:00:00 à 2025-09-15 00:00:00\n"
     ]
    },
    {
     "name": "stderr",
     "output_type": "stream",
     "text": [
      "[*********************100%***********************]  1 of 1 completed\n",
      "\n",
      "1 Failed download:\n",
      "['CHTR']: YFPricesMissingError('possibly delisted; no price data found  (1d 2025-09-13 00:00:00 -> 2025-09-15 00:00:00)')\n"
     ]
    },
    {
     "name": "stdout",
     "output_type": "stream",
     "text": [
      "Téléchargement des données pour CMCSA de 2025-09-13 00:00:00 à 2025-09-15 00:00:00\n"
     ]
    },
    {
     "name": "stderr",
     "output_type": "stream",
     "text": [
      "[*********************100%***********************]  1 of 1 completed\n",
      "\n",
      "1 Failed download:\n",
      "['CMCSA']: YFPricesMissingError('possibly delisted; no price data found  (1d 2025-09-13 00:00:00 -> 2025-09-15 00:00:00)')\n"
     ]
    },
    {
     "name": "stdout",
     "output_type": "stream",
     "text": [
      "Téléchargement des données pour COST de 2025-09-13 00:00:00 à 2025-09-15 00:00:00\n"
     ]
    },
    {
     "name": "stderr",
     "output_type": "stream",
     "text": [
      "[*********************100%***********************]  1 of 1 completed\n",
      "\n",
      "1 Failed download:\n",
      "['COST']: YFPricesMissingError('possibly delisted; no price data found  (1d 2025-09-13 00:00:00 -> 2025-09-15 00:00:00)')\n"
     ]
    },
    {
     "name": "stdout",
     "output_type": "stream",
     "text": [
      "Téléchargement des données pour CPRT de 2025-09-13 00:00:00 à 2025-09-15 00:00:00\n"
     ]
    },
    {
     "name": "stderr",
     "output_type": "stream",
     "text": [
      "[*********************100%***********************]  1 of 1 completed\n",
      "\n",
      "1 Failed download:\n",
      "['CPRT']: YFPricesMissingError('possibly delisted; no price data found  (1d 2025-09-13 00:00:00 -> 2025-09-15 00:00:00)')\n"
     ]
    },
    {
     "name": "stdout",
     "output_type": "stream",
     "text": [
      "Téléchargement des données pour CRWD de 2025-09-13 00:00:00 à 2025-09-15 00:00:00\n"
     ]
    },
    {
     "name": "stderr",
     "output_type": "stream",
     "text": [
      "[*********************100%***********************]  1 of 1 completed\n",
      "\n",
      "1 Failed download:\n",
      "['CRWD']: YFPricesMissingError('possibly delisted; no price data found  (1d 2025-09-13 00:00:00 -> 2025-09-15 00:00:00)')\n"
     ]
    },
    {
     "name": "stdout",
     "output_type": "stream",
     "text": [
      "Téléchargement des données pour CSCO de 2025-09-13 00:00:00 à 2025-09-15 00:00:00\n"
     ]
    },
    {
     "name": "stderr",
     "output_type": "stream",
     "text": [
      "[*********************100%***********************]  1 of 1 completed\n",
      "\n",
      "1 Failed download:\n",
      "['CSCO']: YFPricesMissingError('possibly delisted; no price data found  (1d 2025-09-13 00:00:00 -> 2025-09-15 00:00:00)')\n"
     ]
    },
    {
     "name": "stdout",
     "output_type": "stream",
     "text": [
      "Téléchargement des données pour CSGP de 2025-09-13 00:00:00 à 2025-09-15 00:00:00\n"
     ]
    },
    {
     "name": "stderr",
     "output_type": "stream",
     "text": [
      "[*********************100%***********************]  1 of 1 completed\n",
      "\n",
      "1 Failed download:\n",
      "['CSGP']: YFPricesMissingError('possibly delisted; no price data found  (1d 2025-09-13 00:00:00 -> 2025-09-15 00:00:00)')\n"
     ]
    },
    {
     "name": "stdout",
     "output_type": "stream",
     "text": [
      "Téléchargement des données pour CSX de 2025-09-13 00:00:00 à 2025-09-15 00:00:00\n"
     ]
    },
    {
     "name": "stderr",
     "output_type": "stream",
     "text": [
      "[*********************100%***********************]  1 of 1 completed\n",
      "\n",
      "1 Failed download:\n",
      "['CSX']: YFPricesMissingError('possibly delisted; no price data found  (1d 2025-09-13 00:00:00 -> 2025-09-15 00:00:00)')\n"
     ]
    },
    {
     "name": "stdout",
     "output_type": "stream",
     "text": [
      "Téléchargement des données pour CTAS de 2025-09-13 00:00:00 à 2025-09-15 00:00:00\n"
     ]
    },
    {
     "name": "stderr",
     "output_type": "stream",
     "text": [
      "[*********************100%***********************]  1 of 1 completed\n",
      "\n",
      "1 Failed download:\n",
      "['CTAS']: YFPricesMissingError('possibly delisted; no price data found  (1d 2025-09-13 00:00:00 -> 2025-09-15 00:00:00)')\n"
     ]
    },
    {
     "name": "stdout",
     "output_type": "stream",
     "text": [
      "Téléchargement des données pour CTSH de 2025-09-13 00:00:00 à 2025-09-15 00:00:00\n"
     ]
    },
    {
     "name": "stderr",
     "output_type": "stream",
     "text": [
      "[*********************100%***********************]  1 of 1 completed\n",
      "\n",
      "1 Failed download:\n",
      "['CTSH']: YFPricesMissingError('possibly delisted; no price data found  (1d 2025-09-13 00:00:00 -> 2025-09-15 00:00:00)')\n"
     ]
    },
    {
     "name": "stdout",
     "output_type": "stream",
     "text": [
      "Téléchargement des données pour DASH de 2025-09-13 00:00:00 à 2025-09-15 00:00:00\n"
     ]
    },
    {
     "name": "stderr",
     "output_type": "stream",
     "text": [
      "[*********************100%***********************]  1 of 1 completed\n",
      "\n",
      "1 Failed download:\n",
      "['DASH']: YFPricesMissingError('possibly delisted; no price data found  (1d 2025-09-13 00:00:00 -> 2025-09-15 00:00:00)')\n"
     ]
    },
    {
     "name": "stdout",
     "output_type": "stream",
     "text": [
      "Téléchargement des données pour DDOG de 2025-09-13 00:00:00 à 2025-09-15 00:00:00\n"
     ]
    },
    {
     "name": "stderr",
     "output_type": "stream",
     "text": [
      "[*********************100%***********************]  1 of 1 completed\n",
      "\n",
      "1 Failed download:\n",
      "['DDOG']: YFPricesMissingError('possibly delisted; no price data found  (1d 2025-09-13 00:00:00 -> 2025-09-15 00:00:00)')\n"
     ]
    },
    {
     "name": "stdout",
     "output_type": "stream",
     "text": [
      "Téléchargement des données pour DXCM de 2025-09-13 00:00:00 à 2025-09-15 00:00:00\n"
     ]
    },
    {
     "name": "stderr",
     "output_type": "stream",
     "text": [
      "[*********************100%***********************]  1 of 1 completed\n",
      "\n",
      "1 Failed download:\n",
      "['DXCM']: YFPricesMissingError('possibly delisted; no price data found  (1d 2025-09-13 00:00:00 -> 2025-09-15 00:00:00)')\n"
     ]
    },
    {
     "name": "stdout",
     "output_type": "stream",
     "text": [
      "Téléchargement des données pour EA de 2025-09-13 00:00:00 à 2025-09-15 00:00:00\n"
     ]
    },
    {
     "name": "stderr",
     "output_type": "stream",
     "text": [
      "[*********************100%***********************]  1 of 1 completed\n",
      "\n",
      "1 Failed download:\n",
      "['EA']: YFPricesMissingError('possibly delisted; no price data found  (1d 2025-09-13 00:00:00 -> 2025-09-15 00:00:00)')\n"
     ]
    },
    {
     "name": "stdout",
     "output_type": "stream",
     "text": [
      "Téléchargement des données pour EXC de 2025-09-13 00:00:00 à 2025-09-15 00:00:00\n"
     ]
    },
    {
     "name": "stderr",
     "output_type": "stream",
     "text": [
      "[*********************100%***********************]  1 of 1 completed\n",
      "\n",
      "1 Failed download:\n",
      "['EXC']: YFPricesMissingError('possibly delisted; no price data found  (1d 2025-09-13 00:00:00 -> 2025-09-15 00:00:00)')\n"
     ]
    },
    {
     "name": "stdout",
     "output_type": "stream",
     "text": [
      "Téléchargement des données pour FANG de 2025-09-13 00:00:00 à 2025-09-15 00:00:00\n"
     ]
    },
    {
     "name": "stderr",
     "output_type": "stream",
     "text": [
      "[*********************100%***********************]  1 of 1 completed\n",
      "\n",
      "1 Failed download:\n",
      "['FANG']: YFPricesMissingError('possibly delisted; no price data found  (1d 2025-09-13 00:00:00 -> 2025-09-15 00:00:00)')\n"
     ]
    },
    {
     "name": "stdout",
     "output_type": "stream",
     "text": [
      "Téléchargement des données pour FAST de 2025-09-13 00:00:00 à 2025-09-15 00:00:00\n"
     ]
    },
    {
     "name": "stderr",
     "output_type": "stream",
     "text": [
      "[*********************100%***********************]  1 of 1 completed\n",
      "\n",
      "1 Failed download:\n",
      "['FAST']: YFPricesMissingError('possibly delisted; no price data found  (1d 2025-09-13 00:00:00 -> 2025-09-15 00:00:00)')\n"
     ]
    },
    {
     "name": "stdout",
     "output_type": "stream",
     "text": [
      "Téléchargement des données pour FTNT de 2025-09-13 00:00:00 à 2025-09-15 00:00:00\n"
     ]
    },
    {
     "name": "stderr",
     "output_type": "stream",
     "text": [
      "[*********************100%***********************]  1 of 1 completed\n",
      "\n",
      "1 Failed download:\n",
      "['FTNT']: YFPricesMissingError('possibly delisted; no price data found  (1d 2025-09-13 00:00:00 -> 2025-09-15 00:00:00)')\n"
     ]
    },
    {
     "name": "stdout",
     "output_type": "stream",
     "text": [
      "Téléchargement des données pour GEHC de 2025-09-13 00:00:00 à 2025-09-15 00:00:00\n"
     ]
    },
    {
     "name": "stderr",
     "output_type": "stream",
     "text": [
      "[*********************100%***********************]  1 of 1 completed\n",
      "\n",
      "1 Failed download:\n",
      "['GEHC']: YFPricesMissingError('possibly delisted; no price data found  (1d 2025-09-13 00:00:00 -> 2025-09-15 00:00:00)')\n"
     ]
    },
    {
     "name": "stdout",
     "output_type": "stream",
     "text": [
      "Téléchargement des données pour GFS de 2025-09-13 00:00:00 à 2025-09-15 00:00:00\n"
     ]
    },
    {
     "name": "stderr",
     "output_type": "stream",
     "text": [
      "[*********************100%***********************]  1 of 1 completed\n",
      "\n",
      "1 Failed download:\n",
      "['GFS']: YFPricesMissingError('possibly delisted; no price data found  (1d 2025-09-13 00:00:00 -> 2025-09-15 00:00:00)')\n"
     ]
    },
    {
     "name": "stdout",
     "output_type": "stream",
     "text": [
      "Téléchargement des données pour GILD de 2025-09-13 00:00:00 à 2025-09-15 00:00:00\n"
     ]
    },
    {
     "name": "stderr",
     "output_type": "stream",
     "text": [
      "[*********************100%***********************]  1 of 1 completed\n",
      "\n",
      "1 Failed download:\n",
      "['GILD']: YFPricesMissingError('possibly delisted; no price data found  (1d 2025-09-13 00:00:00 -> 2025-09-15 00:00:00)')\n"
     ]
    },
    {
     "name": "stdout",
     "output_type": "stream",
     "text": [
      "Téléchargement des données pour GOOG de 2025-09-13 00:00:00 à 2025-09-15 00:00:00\n"
     ]
    },
    {
     "name": "stderr",
     "output_type": "stream",
     "text": [
      "[*********************100%***********************]  1 of 1 completed\n",
      "\n",
      "1 Failed download:\n",
      "['GOOG']: YFPricesMissingError('possibly delisted; no price data found  (1d 2025-09-13 00:00:00 -> 2025-09-15 00:00:00)')\n"
     ]
    },
    {
     "name": "stdout",
     "output_type": "stream",
     "text": [
      "Téléchargement des données pour HON de 2025-09-13 00:00:00 à 2025-09-15 00:00:00\n"
     ]
    },
    {
     "name": "stderr",
     "output_type": "stream",
     "text": [
      "[*********************100%***********************]  1 of 1 completed\n",
      "\n",
      "1 Failed download:\n",
      "['HON']: YFPricesMissingError('possibly delisted; no price data found  (1d 2025-09-13 00:00:00 -> 2025-09-15 00:00:00)')\n"
     ]
    },
    {
     "name": "stdout",
     "output_type": "stream",
     "text": [
      "Téléchargement des données pour I de 2025-09-13 00:00:00 à 2025-09-15 00:00:00\n"
     ]
    },
    {
     "name": "stderr",
     "output_type": "stream",
     "text": [
      "[*********************100%***********************]  1 of 1 completed\n",
      "\n",
      "1 Failed download:\n",
      "['I']: YFTzMissingError('possibly delisted; no timezone found')\n"
     ]
    },
    {
     "name": "stdout",
     "output_type": "stream",
     "text": [
      "Téléchargement des données pour IDXX de 2025-09-13 00:00:00 à 2025-09-15 00:00:00\n"
     ]
    },
    {
     "name": "stderr",
     "output_type": "stream",
     "text": [
      "[*********************100%***********************]  1 of 1 completed\n",
      "\n",
      "1 Failed download:\n",
      "['IDXX']: YFPricesMissingError('possibly delisted; no price data found  (1d 2025-09-13 00:00:00 -> 2025-09-15 00:00:00)')\n"
     ]
    },
    {
     "name": "stdout",
     "output_type": "stream",
     "text": [
      "Téléchargement des données pour INTC de 2025-09-13 00:00:00 à 2025-09-15 00:00:00\n"
     ]
    },
    {
     "name": "stderr",
     "output_type": "stream",
     "text": [
      "[*********************100%***********************]  1 of 1 completed\n",
      "\n",
      "1 Failed download:\n",
      "['INTC']: YFPricesMissingError('possibly delisted; no price data found  (1d 2025-09-13 00:00:00 -> 2025-09-15 00:00:00)')\n"
     ]
    },
    {
     "name": "stdout",
     "output_type": "stream",
     "text": [
      "Téléchargement des données pour INTU de 2025-09-13 00:00:00 à 2025-09-15 00:00:00\n"
     ]
    },
    {
     "name": "stderr",
     "output_type": "stream",
     "text": [
      "[*********************100%***********************]  1 of 1 completed\n",
      "\n",
      "1 Failed download:\n",
      "['INTU']: YFPricesMissingError('possibly delisted; no price data found  (1d 2025-09-13 00:00:00 -> 2025-09-15 00:00:00)')\n"
     ]
    },
    {
     "name": "stdout",
     "output_type": "stream",
     "text": [
      "Téléchargement des données pour ISRG de 2025-09-13 00:00:00 à 2025-09-15 00:00:00\n"
     ]
    },
    {
     "name": "stderr",
     "output_type": "stream",
     "text": [
      "[*********************100%***********************]  1 of 1 completed\n",
      "\n",
      "1 Failed download:\n",
      "['ISRG']: YFPricesMissingError('possibly delisted; no price data found  (1d 2025-09-13 00:00:00 -> 2025-09-15 00:00:00)')\n"
     ]
    },
    {
     "name": "stdout",
     "output_type": "stream",
     "text": [
      "Téléchargement des données pour KDP de 2025-09-13 00:00:00 à 2025-09-15 00:00:00\n"
     ]
    },
    {
     "name": "stderr",
     "output_type": "stream",
     "text": [
      "[*********************100%***********************]  1 of 1 completed\n",
      "\n",
      "1 Failed download:\n",
      "['KDP']: YFPricesMissingError('possibly delisted; no price data found  (1d 2025-09-13 00:00:00 -> 2025-09-15 00:00:00)')\n"
     ]
    },
    {
     "name": "stdout",
     "output_type": "stream",
     "text": [
      "Téléchargement des données pour KHC de 2025-09-13 00:00:00 à 2025-09-15 00:00:00\n"
     ]
    },
    {
     "name": "stderr",
     "output_type": "stream",
     "text": [
      "[*********************100%***********************]  1 of 1 completed\n",
      "\n",
      "1 Failed download:\n",
      "['KHC']: YFPricesMissingError('possibly delisted; no price data found  (1d 2025-09-13 00:00:00 -> 2025-09-15 00:00:00)')\n"
     ]
    },
    {
     "name": "stdout",
     "output_type": "stream",
     "text": [
      "Téléchargement des données pour KLAC de 2025-09-13 00:00:00 à 2025-09-15 00:00:00\n"
     ]
    },
    {
     "name": "stderr",
     "output_type": "stream",
     "text": [
      "[*********************100%***********************]  1 of 1 completed\n",
      "\n",
      "1 Failed download:\n",
      "['KLAC']: YFPricesMissingError('possibly delisted; no price data found  (1d 2025-09-13 00:00:00 -> 2025-09-15 00:00:00)')\n"
     ]
    },
    {
     "name": "stdout",
     "output_type": "stream",
     "text": [
      "Téléchargement des données pour LIN de 2025-09-13 00:00:00 à 2025-09-15 00:00:00\n"
     ]
    },
    {
     "name": "stderr",
     "output_type": "stream",
     "text": [
      "[*********************100%***********************]  1 of 1 completed\n",
      "\n",
      "1 Failed download:\n",
      "['LIN']: YFPricesMissingError('possibly delisted; no price data found  (1d 2025-09-13 00:00:00 -> 2025-09-15 00:00:00)')\n"
     ]
    },
    {
     "name": "stdout",
     "output_type": "stream",
     "text": [
      "Téléchargement des données pour LRCX de 2025-09-13 00:00:00 à 2025-09-15 00:00:00\n"
     ]
    },
    {
     "name": "stderr",
     "output_type": "stream",
     "text": [
      "[*********************100%***********************]  1 of 1 completed\n",
      "\n",
      "1 Failed download:\n",
      "['LRCX']: YFPricesMissingError('possibly delisted; no price data found  (1d 2025-09-13 00:00:00 -> 2025-09-15 00:00:00)')\n"
     ]
    },
    {
     "name": "stdout",
     "output_type": "stream",
     "text": [
      "Téléchargement des données pour LULU de 2025-09-13 00:00:00 à 2025-09-15 00:00:00\n"
     ]
    },
    {
     "name": "stderr",
     "output_type": "stream",
     "text": [
      "[*********************100%***********************]  1 of 1 completed\n",
      "\n",
      "1 Failed download:\n",
      "['LULU']: YFPricesMissingError('possibly delisted; no price data found  (1d 2025-09-13 00:00:00 -> 2025-09-15 00:00:00)')\n"
     ]
    },
    {
     "name": "stdout",
     "output_type": "stream",
     "text": [
      "Téléchargement des données pour MAR de 2025-09-13 00:00:00 à 2025-09-15 00:00:00\n"
     ]
    },
    {
     "name": "stderr",
     "output_type": "stream",
     "text": [
      "[*********************100%***********************]  1 of 1 completed\n",
      "\n",
      "1 Failed download:\n",
      "['MAR']: YFPricesMissingError('possibly delisted; no price data found  (1d 2025-09-13 00:00:00 -> 2025-09-15 00:00:00)')\n"
     ]
    },
    {
     "name": "stdout",
     "output_type": "stream",
     "text": [
      "Téléchargement des données pour MCHP de 2025-09-13 00:00:00 à 2025-09-15 00:00:00\n"
     ]
    },
    {
     "name": "stderr",
     "output_type": "stream",
     "text": [
      "[*********************100%***********************]  1 of 1 completed\n",
      "\n",
      "1 Failed download:\n",
      "['MCHP']: YFPricesMissingError('possibly delisted; no price data found  (1d 2025-09-13 00:00:00 -> 2025-09-15 00:00:00)')\n"
     ]
    },
    {
     "name": "stdout",
     "output_type": "stream",
     "text": [
      "Téléchargement des données pour MDLZ de 2025-09-13 00:00:00 à 2025-09-15 00:00:00\n"
     ]
    },
    {
     "name": "stderr",
     "output_type": "stream",
     "text": [
      "[*********************100%***********************]  1 of 1 completed\n",
      "\n",
      "1 Failed download:\n",
      "['MDLZ']: YFPricesMissingError('possibly delisted; no price data found  (1d 2025-09-13 00:00:00 -> 2025-09-15 00:00:00)')\n"
     ]
    },
    {
     "name": "stdout",
     "output_type": "stream",
     "text": [
      "Téléchargement des données pour MELI de 2025-09-13 00:00:00 à 2025-09-15 00:00:00\n"
     ]
    },
    {
     "name": "stderr",
     "output_type": "stream",
     "text": [
      "[*********************100%***********************]  1 of 1 completed\n",
      "\n",
      "1 Failed download:\n",
      "['MELI']: YFPricesMissingError('possibly delisted; no price data found  (1d 2025-09-13 00:00:00 -> 2025-09-15 00:00:00)')\n"
     ]
    },
    {
     "name": "stdout",
     "output_type": "stream",
     "text": [
      "Téléchargement des données pour META de 2025-09-13 00:00:00 à 2025-09-15 00:00:00\n"
     ]
    },
    {
     "name": "stderr",
     "output_type": "stream",
     "text": [
      "[*********************100%***********************]  1 of 1 completed\n",
      "\n",
      "1 Failed download:\n",
      "['META']: YFPricesMissingError('possibly delisted; no price data found  (1d 2025-09-13 00:00:00 -> 2025-09-15 00:00:00)')\n"
     ]
    },
    {
     "name": "stdout",
     "output_type": "stream",
     "text": [
      "Téléchargement des données pour MNST de 2025-09-13 00:00:00 à 2025-09-15 00:00:00\n"
     ]
    },
    {
     "name": "stderr",
     "output_type": "stream",
     "text": [
      "[*********************100%***********************]  1 of 1 completed\n",
      "\n",
      "1 Failed download:\n",
      "['MNST']: YFPricesMissingError('possibly delisted; no price data found  (1d 2025-09-13 00:00:00 -> 2025-09-15 00:00:00)')\n"
     ]
    },
    {
     "name": "stdout",
     "output_type": "stream",
     "text": [
      "Téléchargement des données pour MRVL de 2025-09-13 00:00:00 à 2025-09-15 00:00:00\n"
     ]
    },
    {
     "name": "stderr",
     "output_type": "stream",
     "text": [
      "[*********************100%***********************]  1 of 1 completed\n",
      "\n",
      "1 Failed download:\n",
      "['MRVL']: YFPricesMissingError('possibly delisted; no price data found  (1d 2025-09-13 00:00:00 -> 2025-09-15 00:00:00)')\n"
     ]
    },
    {
     "name": "stdout",
     "output_type": "stream",
     "text": [
      "Téléchargement des données pour MSFT de 2025-09-13 00:00:00 à 2025-09-15 00:00:00\n"
     ]
    },
    {
     "name": "stderr",
     "output_type": "stream",
     "text": [
      "[*********************100%***********************]  1 of 1 completed\n",
      "\n",
      "1 Failed download:\n",
      "['MSFT']: YFPricesMissingError('possibly delisted; no price data found  (1d 2025-09-13 00:00:00 -> 2025-09-15 00:00:00)')\n"
     ]
    },
    {
     "name": "stdout",
     "output_type": "stream",
     "text": [
      "Téléchargement des données pour MSTR de 2025-09-13 00:00:00 à 2025-09-15 00:00:00\n"
     ]
    },
    {
     "name": "stderr",
     "output_type": "stream",
     "text": [
      "[*********************100%***********************]  1 of 1 completed\n",
      "\n",
      "1 Failed download:\n",
      "['MSTR']: YFPricesMissingError('possibly delisted; no price data found  (1d 2025-09-13 00:00:00 -> 2025-09-15 00:00:00)')\n"
     ]
    },
    {
     "name": "stdout",
     "output_type": "stream",
     "text": [
      "Téléchargement des données pour MU de 2025-09-13 00:00:00 à 2025-09-15 00:00:00\n"
     ]
    },
    {
     "name": "stderr",
     "output_type": "stream",
     "text": [
      "[*********************100%***********************]  1 of 1 completed\n",
      "\n",
      "1 Failed download:\n",
      "['MU']: YFPricesMissingError('possibly delisted; no price data found  (1d 2025-09-13 00:00:00 -> 2025-09-15 00:00:00)')\n"
     ]
    },
    {
     "name": "stdout",
     "output_type": "stream",
     "text": [
      "Téléchargement des données pour NFLX de 2025-09-13 00:00:00 à 2025-09-15 00:00:00\n"
     ]
    },
    {
     "name": "stderr",
     "output_type": "stream",
     "text": [
      "[*********************100%***********************]  1 of 1 completed\n",
      "\n",
      "1 Failed download:\n",
      "['NFLX']: YFPricesMissingError('possibly delisted; no price data found  (1d 2025-09-13 00:00:00 -> 2025-09-15 00:00:00)')\n"
     ]
    },
    {
     "name": "stdout",
     "output_type": "stream",
     "text": [
      "Téléchargement des données pour NVDA de 2025-09-13 00:00:00 à 2025-09-15 00:00:00\n"
     ]
    },
    {
     "name": "stderr",
     "output_type": "stream",
     "text": [
      "[*********************100%***********************]  1 of 1 completed\n",
      "\n",
      "1 Failed download:\n",
      "['NVDA']: YFPricesMissingError('possibly delisted; no price data found  (1d 2025-09-13 00:00:00 -> 2025-09-15 00:00:00)')\n"
     ]
    },
    {
     "name": "stdout",
     "output_type": "stream",
     "text": [
      "Téléchargement des données pour NXPI de 2025-09-13 00:00:00 à 2025-09-15 00:00:00\n"
     ]
    },
    {
     "name": "stderr",
     "output_type": "stream",
     "text": [
      "[*********************100%***********************]  1 of 1 completed\n",
      "\n",
      "1 Failed download:\n",
      "['NXPI']: YFPricesMissingError('possibly delisted; no price data found  (1d 2025-09-13 00:00:00 -> 2025-09-15 00:00:00)')\n"
     ]
    },
    {
     "name": "stdout",
     "output_type": "stream",
     "text": [
      "Téléchargement des données pour ODFL de 2025-09-13 00:00:00 à 2025-09-15 00:00:00\n"
     ]
    },
    {
     "name": "stderr",
     "output_type": "stream",
     "text": [
      "[*********************100%***********************]  1 of 1 completed\n",
      "\n",
      "1 Failed download:\n",
      "['ODFL']: YFPricesMissingError('possibly delisted; no price data found  (1d 2025-09-13 00:00:00 -> 2025-09-15 00:00:00)')\n"
     ]
    },
    {
     "name": "stdout",
     "output_type": "stream",
     "text": [
      "Téléchargement des données pour ON de 2025-09-13 00:00:00 à 2025-09-15 00:00:00\n"
     ]
    },
    {
     "name": "stderr",
     "output_type": "stream",
     "text": [
      "[*********************100%***********************]  1 of 1 completed\n",
      "\n",
      "1 Failed download:\n",
      "['ON']: YFPricesMissingError('possibly delisted; no price data found  (1d 2025-09-13 00:00:00 -> 2025-09-15 00:00:00)')\n"
     ]
    },
    {
     "name": "stdout",
     "output_type": "stream",
     "text": [
      "Téléchargement des données pour ORLY de 2025-09-13 00:00:00 à 2025-09-15 00:00:00\n"
     ]
    },
    {
     "name": "stderr",
     "output_type": "stream",
     "text": [
      "[*********************100%***********************]  1 of 1 completed\n",
      "\n",
      "1 Failed download:\n",
      "['ORLY']: YFPricesMissingError('possibly delisted; no price data found  (1d 2025-09-13 00:00:00 -> 2025-09-15 00:00:00)')\n"
     ]
    },
    {
     "name": "stdout",
     "output_type": "stream",
     "text": [
      "Téléchargement des données pour PANW de 2025-09-13 00:00:00 à 2025-09-15 00:00:00\n"
     ]
    },
    {
     "name": "stderr",
     "output_type": "stream",
     "text": [
      "[*********************100%***********************]  1 of 1 completed\n",
      "\n",
      "1 Failed download:\n",
      "['PANW']: YFPricesMissingError('possibly delisted; no price data found  (1d 2025-09-13 00:00:00 -> 2025-09-15 00:00:00)')\n"
     ]
    },
    {
     "name": "stdout",
     "output_type": "stream",
     "text": [
      "Téléchargement des données pour PAYX de 2025-09-13 00:00:00 à 2025-09-15 00:00:00\n"
     ]
    },
    {
     "name": "stderr",
     "output_type": "stream",
     "text": [
      "[*********************100%***********************]  1 of 1 completed\n",
      "\n",
      "1 Failed download:\n",
      "['PAYX']: YFPricesMissingError('possibly delisted; no price data found  (1d 2025-09-13 00:00:00 -> 2025-09-15 00:00:00)')\n"
     ]
    },
    {
     "name": "stdout",
     "output_type": "stream",
     "text": [
      "Téléchargement des données pour PCAR de 2025-09-13 00:00:00 à 2025-09-15 00:00:00\n"
     ]
    },
    {
     "name": "stderr",
     "output_type": "stream",
     "text": [
      "[*********************100%***********************]  1 of 1 completed\n",
      "\n",
      "1 Failed download:\n",
      "['PCAR']: YFPricesMissingError('possibly delisted; no price data found  (1d 2025-09-13 00:00:00 -> 2025-09-15 00:00:00)')\n"
     ]
    },
    {
     "name": "stdout",
     "output_type": "stream",
     "text": [
      "Téléchargement des données pour PDD de 2025-09-13 00:00:00 à 2025-09-15 00:00:00\n"
     ]
    },
    {
     "name": "stderr",
     "output_type": "stream",
     "text": [
      "[*********************100%***********************]  1 of 1 completed\n",
      "\n",
      "1 Failed download:\n",
      "['PDD']: YFPricesMissingError('possibly delisted; no price data found  (1d 2025-09-13 00:00:00 -> 2025-09-15 00:00:00)')\n"
     ]
    },
    {
     "name": "stdout",
     "output_type": "stream",
     "text": [
      "Téléchargement des données pour PEP de 2025-09-13 00:00:00 à 2025-09-15 00:00:00\n"
     ]
    },
    {
     "name": "stderr",
     "output_type": "stream",
     "text": [
      "[*********************100%***********************]  1 of 1 completed\n",
      "\n",
      "1 Failed download:\n",
      "['PEP']: YFPricesMissingError('possibly delisted; no price data found  (1d 2025-09-13 00:00:00 -> 2025-09-15 00:00:00)')\n"
     ]
    },
    {
     "name": "stdout",
     "output_type": "stream",
     "text": [
      "Téléchargement des données pour PLTR de 2025-09-13 00:00:00 à 2025-09-15 00:00:00\n"
     ]
    },
    {
     "name": "stderr",
     "output_type": "stream",
     "text": [
      "[*********************100%***********************]  1 of 1 completed\n",
      "\n",
      "1 Failed download:\n",
      "['PLTR']: YFPricesMissingError('possibly delisted; no price data found  (1d 2025-09-13 00:00:00 -> 2025-09-15 00:00:00)')\n"
     ]
    },
    {
     "name": "stdout",
     "output_type": "stream",
     "text": [
      "Téléchargement des données pour PYPL de 2025-09-13 00:00:00 à 2025-09-15 00:00:00\n"
     ]
    },
    {
     "name": "stderr",
     "output_type": "stream",
     "text": [
      "[*********************100%***********************]  1 of 1 completed\n",
      "\n",
      "1 Failed download:\n",
      "['PYPL']: YFPricesMissingError('possibly delisted; no price data found  (1d 2025-09-13 00:00:00 -> 2025-09-15 00:00:00)')\n"
     ]
    },
    {
     "name": "stdout",
     "output_type": "stream",
     "text": [
      "Téléchargement des données pour QCOM de 2025-09-13 00:00:00 à 2025-09-15 00:00:00\n"
     ]
    },
    {
     "name": "stderr",
     "output_type": "stream",
     "text": [
      "[*********************100%***********************]  1 of 1 completed\n",
      "\n",
      "1 Failed download:\n",
      "['QCOM']: YFPricesMissingError('possibly delisted; no price data found  (1d 2025-09-13 00:00:00 -> 2025-09-15 00:00:00)')\n"
     ]
    },
    {
     "name": "stdout",
     "output_type": "stream",
     "text": [
      "Téléchargement des données pour R de 2025-09-13 00:00:00 à 2025-09-15 00:00:00\n"
     ]
    },
    {
     "name": "stderr",
     "output_type": "stream",
     "text": [
      "[*********************100%***********************]  1 of 1 completed\n",
      "\n",
      "1 Failed download:\n",
      "['R']: YFPricesMissingError('possibly delisted; no price data found  (1d 2025-09-13 00:00:00 -> 2025-09-15 00:00:00)')\n"
     ]
    },
    {
     "name": "stdout",
     "output_type": "stream",
     "text": [
      "Téléchargement des données pour REGN de 2025-09-13 00:00:00 à 2025-09-15 00:00:00\n"
     ]
    },
    {
     "name": "stderr",
     "output_type": "stream",
     "text": [
      "[*********************100%***********************]  1 of 1 completed\n",
      "\n",
      "1 Failed download:\n",
      "['REGN']: YFPricesMissingError('possibly delisted; no price data found  (1d 2025-09-13 00:00:00 -> 2025-09-15 00:00:00)')\n"
     ]
    },
    {
     "name": "stdout",
     "output_type": "stream",
     "text": [
      "Téléchargement des données pour ROP de 2025-09-13 00:00:00 à 2025-09-15 00:00:00\n"
     ]
    },
    {
     "name": "stderr",
     "output_type": "stream",
     "text": [
      "[*********************100%***********************]  1 of 1 completed\n",
      "\n",
      "1 Failed download:\n",
      "['ROP']: YFPricesMissingError('possibly delisted; no price data found  (1d 2025-09-13 00:00:00 -> 2025-09-15 00:00:00)')\n"
     ]
    },
    {
     "name": "stdout",
     "output_type": "stream",
     "text": [
      "Téléchargement des données pour ROST de 2025-09-13 00:00:00 à 2025-09-15 00:00:00\n"
     ]
    },
    {
     "name": "stderr",
     "output_type": "stream",
     "text": [
      "[*********************100%***********************]  1 of 1 completed\n",
      "\n",
      "1 Failed download:\n",
      "['ROST']: YFPricesMissingError('possibly delisted; no price data found  (1d 2025-09-13 00:00:00 -> 2025-09-15 00:00:00)')\n"
     ]
    },
    {
     "name": "stdout",
     "output_type": "stream",
     "text": [
      "Téléchargement des données pour SBUX de 2025-09-13 00:00:00 à 2025-09-15 00:00:00\n"
     ]
    },
    {
     "name": "stderr",
     "output_type": "stream",
     "text": [
      "[*********************100%***********************]  1 of 1 completed\n",
      "\n",
      "1 Failed download:\n",
      "['SBUX']: YFPricesMissingError('possibly delisted; no price data found  (1d 2025-09-13 00:00:00 -> 2025-09-15 00:00:00)')\n"
     ]
    },
    {
     "name": "stdout",
     "output_type": "stream",
     "text": [
      "Téléchargement des données pour SHOP de 2025-09-13 00:00:00 à 2025-09-15 00:00:00\n"
     ]
    },
    {
     "name": "stderr",
     "output_type": "stream",
     "text": [
      "[*********************100%***********************]  1 of 1 completed\n",
      "\n",
      "1 Failed download:\n",
      "['SHOP']: YFPricesMissingError('possibly delisted; no price data found  (1d 2025-09-13 00:00:00 -> 2025-09-15 00:00:00)')\n"
     ]
    },
    {
     "name": "stdout",
     "output_type": "stream",
     "text": [
      "Téléchargement des données pour SNPS de 2025-09-13 00:00:00 à 2025-09-15 00:00:00\n"
     ]
    },
    {
     "name": "stderr",
     "output_type": "stream",
     "text": [
      "[*********************100%***********************]  1 of 1 completed\n",
      "\n",
      "1 Failed download:\n",
      "['SNPS']: YFPricesMissingError('possibly delisted; no price data found  (1d 2025-09-13 00:00:00 -> 2025-09-15 00:00:00)')\n"
     ]
    },
    {
     "name": "stdout",
     "output_type": "stream",
     "text": [
      "Téléchargement des données pour T de 2025-09-13 00:00:00 à 2025-09-15 00:00:00\n"
     ]
    },
    {
     "name": "stderr",
     "output_type": "stream",
     "text": [
      "[*********************100%***********************]  1 of 1 completed\n",
      "\n",
      "1 Failed download:\n",
      "['T']: YFPricesMissingError('possibly delisted; no price data found  (1d 2025-09-13 00:00:00 -> 2025-09-15 00:00:00)')\n"
     ]
    },
    {
     "name": "stdout",
     "output_type": "stream",
     "text": [
      "Téléchargement des données pour TEAM de 2025-09-13 00:00:00 à 2025-09-15 00:00:00\n"
     ]
    },
    {
     "name": "stderr",
     "output_type": "stream",
     "text": [
      "[*********************100%***********************]  1 of 1 completed\n",
      "\n",
      "1 Failed download:\n",
      "['TEAM']: YFPricesMissingError('possibly delisted; no price data found  (1d 2025-09-13 00:00:00 -> 2025-09-15 00:00:00)')\n"
     ]
    },
    {
     "name": "stdout",
     "output_type": "stream",
     "text": [
      "Téléchargement des données pour TMUS de 2025-09-13 00:00:00 à 2025-09-15 00:00:00\n"
     ]
    },
    {
     "name": "stderr",
     "output_type": "stream",
     "text": [
      "[*********************100%***********************]  1 of 1 completed\n",
      "\n",
      "1 Failed download:\n",
      "['TMUS']: YFPricesMissingError('possibly delisted; no price data found  (1d 2025-09-13 00:00:00 -> 2025-09-15 00:00:00)')\n"
     ]
    },
    {
     "name": "stdout",
     "output_type": "stream",
     "text": [
      "Téléchargement des données pour TRI de 2025-09-13 00:00:00 à 2025-09-15 00:00:00\n"
     ]
    },
    {
     "name": "stderr",
     "output_type": "stream",
     "text": [
      "[*********************100%***********************]  1 of 1 completed\n",
      "\n",
      "1 Failed download:\n",
      "['TRI']: YFPricesMissingError('possibly delisted; no price data found  (1d 2025-09-13 00:00:00 -> 2025-09-15 00:00:00)')\n"
     ]
    },
    {
     "name": "stdout",
     "output_type": "stream",
     "text": [
      "Téléchargement des données pour TSLA de 2025-09-13 00:00:00 à 2025-09-15 00:00:00\n"
     ]
    },
    {
     "name": "stderr",
     "output_type": "stream",
     "text": [
      "[*********************100%***********************]  1 of 1 completed\n",
      "\n",
      "1 Failed download:\n",
      "['TSLA']: YFPricesMissingError('possibly delisted; no price data found  (1d 2025-09-13 00:00:00 -> 2025-09-15 00:00:00)')\n"
     ]
    },
    {
     "name": "stdout",
     "output_type": "stream",
     "text": [
      "Téléchargement des données pour TTD de 2025-09-13 00:00:00 à 2025-09-15 00:00:00\n"
     ]
    },
    {
     "name": "stderr",
     "output_type": "stream",
     "text": [
      "[*********************100%***********************]  1 of 1 completed\n",
      "\n",
      "1 Failed download:\n",
      "['TTD']: YFPricesMissingError('possibly delisted; no price data found  (1d 2025-09-13 00:00:00 -> 2025-09-15 00:00:00)')\n"
     ]
    },
    {
     "name": "stdout",
     "output_type": "stream",
     "text": [
      "Téléchargement des données pour TTWO de 2025-09-13 00:00:00 à 2025-09-15 00:00:00\n"
     ]
    },
    {
     "name": "stderr",
     "output_type": "stream",
     "text": [
      "[*********************100%***********************]  1 of 1 completed\n",
      "\n",
      "1 Failed download:\n",
      "['TTWO']: YFPricesMissingError('possibly delisted; no price data found  (1d 2025-09-13 00:00:00 -> 2025-09-15 00:00:00)')\n"
     ]
    },
    {
     "name": "stdout",
     "output_type": "stream",
     "text": [
      "Téléchargement des données pour TXN de 2025-09-13 00:00:00 à 2025-09-15 00:00:00\n"
     ]
    },
    {
     "name": "stderr",
     "output_type": "stream",
     "text": [
      "[*********************100%***********************]  1 of 1 completed\n",
      "\n",
      "1 Failed download:\n",
      "['TXN']: YFPricesMissingError('possibly delisted; no price data found  (1d 2025-09-13 00:00:00 -> 2025-09-15 00:00:00)')\n"
     ]
    },
    {
     "name": "stdout",
     "output_type": "stream",
     "text": [
      "Téléchargement des données pour VRTX de 2025-09-13 00:00:00 à 2025-09-15 00:00:00\n"
     ]
    },
    {
     "name": "stderr",
     "output_type": "stream",
     "text": [
      "[*********************100%***********************]  1 of 1 completed\n",
      "\n",
      "1 Failed download:\n",
      "['VRTX']: YFPricesMissingError('possibly delisted; no price data found  (1d 2025-09-13 00:00:00 -> 2025-09-15 00:00:00)')\n"
     ]
    },
    {
     "name": "stdout",
     "output_type": "stream",
     "text": [
      "Téléchargement des données pour WBD de 2025-09-13 00:00:00 à 2025-09-15 00:00:00\n"
     ]
    },
    {
     "name": "stderr",
     "output_type": "stream",
     "text": [
      "[*********************100%***********************]  1 of 1 completed\n",
      "\n",
      "1 Failed download:\n",
      "['WBD']: YFPricesMissingError('possibly delisted; no price data found  (1d 2025-09-13 00:00:00 -> 2025-09-15 00:00:00)')\n"
     ]
    },
    {
     "name": "stdout",
     "output_type": "stream",
     "text": [
      "Téléchargement des données pour WDAY de 2025-09-13 00:00:00 à 2025-09-15 00:00:00\n"
     ]
    },
    {
     "name": "stderr",
     "output_type": "stream",
     "text": [
      "[*********************100%***********************]  1 of 1 completed\n",
      "\n",
      "1 Failed download:\n",
      "['WDAY']: YFPricesMissingError('possibly delisted; no price data found  (1d 2025-09-13 00:00:00 -> 2025-09-15 00:00:00)')\n"
     ]
    },
    {
     "name": "stdout",
     "output_type": "stream",
     "text": [
      "Téléchargement des données pour XEL de 2025-09-13 00:00:00 à 2025-09-15 00:00:00\n"
     ]
    },
    {
     "name": "stderr",
     "output_type": "stream",
     "text": [
      "[*********************100%***********************]  1 of 1 completed\n",
      "\n",
      "1 Failed download:\n",
      "['XEL']: YFPricesMissingError('possibly delisted; no price data found  (1d 2025-09-13 00:00:00 -> 2025-09-15 00:00:00)')\n"
     ]
    },
    {
     "name": "stdout",
     "output_type": "stream",
     "text": [
      "Téléchargement des données pour ZS de 2025-09-13 00:00:00 à 2025-09-15 00:00:00\n"
     ]
    },
    {
     "name": "stderr",
     "output_type": "stream",
     "text": [
      "[*********************100%***********************]  1 of 1 completed\n",
      "\n",
      "1 Failed download:\n",
      "['ZS']: YFPricesMissingError('possibly delisted; no price data found  (1d 2025-09-13 00:00:00 -> 2025-09-15 00:00:00)')\n"
     ]
    },
    {
     "data": {
      "text/plain": [
       "Empty DataFrame\n",
       "Columns: [Adj Close, Close, High, Low, Open, Volume, Ticker]\n",
       "Index: []"
      ],
      "text/html": [
       "<div>\n",
       "<style scoped>\n",
       "    .dataframe tbody tr th:only-of-type {\n",
       "        vertical-align: middle;\n",
       "    }\n",
       "\n",
       "    .dataframe tbody tr th {\n",
       "        vertical-align: top;\n",
       "    }\n",
       "\n",
       "    .dataframe thead th {\n",
       "        text-align: right;\n",
       "    }\n",
       "</style>\n",
       "<table border=\"1\" class=\"dataframe\">\n",
       "  <thead>\n",
       "    <tr style=\"text-align: right;\">\n",
       "      <th>Price</th>\n",
       "      <th>Adj Close</th>\n",
       "      <th>Close</th>\n",
       "      <th>High</th>\n",
       "      <th>Low</th>\n",
       "      <th>Open</th>\n",
       "      <th>Volume</th>\n",
       "      <th>Ticker</th>\n",
       "    </tr>\n",
       "    <tr>\n",
       "      <th>Date</th>\n",
       "      <th></th>\n",
       "      <th></th>\n",
       "      <th></th>\n",
       "      <th></th>\n",
       "      <th></th>\n",
       "      <th></th>\n",
       "      <th></th>\n",
       "    </tr>\n",
       "  </thead>\n",
       "  <tbody>\n",
       "  </tbody>\n",
       "</table>\n",
       "</div>"
      ]
     },
     "execution_count": 14,
     "metadata": {},
     "output_type": "execute_result"
    }
   ],
   "execution_count": 14
  },
  {
   "metadata": {
    "ExecuteTime": {
     "end_time": "2025-09-15T14:25:26.159409Z",
     "start_time": "2025-09-15T14:25:26.154337Z"
    }
   },
   "cell_type": "code",
   "source": [
    "data_SP500 = data_SP500.reset_index()\n",
    "data_SP500"
   ],
   "id": "54fdf214b890458f",
   "outputs": [
    {
     "data": {
      "text/plain": [
       "Empty DataFrame\n",
       "Columns: [Date, Adj Close, Close, High, Low, Open, Volume, Ticker]\n",
       "Index: []"
      ],
      "text/html": [
       "<div>\n",
       "<style scoped>\n",
       "    .dataframe tbody tr th:only-of-type {\n",
       "        vertical-align: middle;\n",
       "    }\n",
       "\n",
       "    .dataframe tbody tr th {\n",
       "        vertical-align: top;\n",
       "    }\n",
       "\n",
       "    .dataframe thead th {\n",
       "        text-align: right;\n",
       "    }\n",
       "</style>\n",
       "<table border=\"1\" class=\"dataframe\">\n",
       "  <thead>\n",
       "    <tr style=\"text-align: right;\">\n",
       "      <th>Price</th>\n",
       "      <th>Date</th>\n",
       "      <th>Adj Close</th>\n",
       "      <th>Close</th>\n",
       "      <th>High</th>\n",
       "      <th>Low</th>\n",
       "      <th>Open</th>\n",
       "      <th>Volume</th>\n",
       "      <th>Ticker</th>\n",
       "    </tr>\n",
       "  </thead>\n",
       "  <tbody>\n",
       "  </tbody>\n",
       "</table>\n",
       "</div>"
      ]
     },
     "execution_count": 15,
     "metadata": {},
     "output_type": "execute_result"
    }
   ],
   "execution_count": 15
  },
  {
   "metadata": {
    "ExecuteTime": {
     "end_time": "2025-09-15T14:25:26.182243Z",
     "start_time": "2025-09-15T14:25:26.168113Z"
    }
   },
   "cell_type": "code",
   "source": [
    "df_concat = pd.concat([data_SP500, data_SP500_old])\n",
    "df_concat"
   ],
   "id": "98ab86e6f982813f",
   "outputs": [
    {
     "data": {
      "text/plain": [
       "Price        Date  Adj Close       Close        High         Low        Open  \\\n",
       "0      2007-06-01        NaN   24.376429   24.427373   24.102609   24.306381   \n",
       "1      2007-06-04        NaN   24.510162   24.599314   24.191767   24.198134   \n",
       "2      2007-06-05        NaN   24.497437   24.554747   24.319134   24.331870   \n",
       "3      2007-06-06        NaN   24.433748   24.516532   24.293654   24.312758   \n",
       "4      2007-06-07        NaN   23.726902   24.433742   23.726902   24.274543   \n",
       "...           ...        ...         ...         ...         ...         ...   \n",
       "430769 2025-09-08        NaN  281.600006  281.760010  273.734009  275.000000   \n",
       "430770 2025-09-09        NaN  282.290009  284.339996  279.000000  281.350006   \n",
       "430771 2025-09-10        NaN  278.790009  288.890015  276.309998  284.299988   \n",
       "430772 2025-09-11        NaN  286.660004  292.940002  281.450012  282.049988   \n",
       "430773 2025-09-12        NaN  283.190002  288.529999  282.459991  286.899994   \n",
       "\n",
       "Price      Volume Ticker  \n",
       "0       2656759.0      A  \n",
       "1       2229950.0      A  \n",
       "2       2744274.0      A  \n",
       "3       2975224.0      A  \n",
       "4       3567416.0      A  \n",
       "...           ...    ...  \n",
       "430769  1839700.0     ZS  \n",
       "430770  1634400.0     ZS  \n",
       "430771  1836000.0     ZS  \n",
       "430772  1946700.0     ZS  \n",
       "430773  1357300.0     ZS  \n",
       "\n",
       "[430774 rows x 8 columns]"
      ],
      "text/html": [
       "<div>\n",
       "<style scoped>\n",
       "    .dataframe tbody tr th:only-of-type {\n",
       "        vertical-align: middle;\n",
       "    }\n",
       "\n",
       "    .dataframe tbody tr th {\n",
       "        vertical-align: top;\n",
       "    }\n",
       "\n",
       "    .dataframe thead th {\n",
       "        text-align: right;\n",
       "    }\n",
       "</style>\n",
       "<table border=\"1\" class=\"dataframe\">\n",
       "  <thead>\n",
       "    <tr style=\"text-align: right;\">\n",
       "      <th>Price</th>\n",
       "      <th>Date</th>\n",
       "      <th>Adj Close</th>\n",
       "      <th>Close</th>\n",
       "      <th>High</th>\n",
       "      <th>Low</th>\n",
       "      <th>Open</th>\n",
       "      <th>Volume</th>\n",
       "      <th>Ticker</th>\n",
       "    </tr>\n",
       "  </thead>\n",
       "  <tbody>\n",
       "    <tr>\n",
       "      <th>0</th>\n",
       "      <td>2007-06-01</td>\n",
       "      <td>NaN</td>\n",
       "      <td>24.376429</td>\n",
       "      <td>24.427373</td>\n",
       "      <td>24.102609</td>\n",
       "      <td>24.306381</td>\n",
       "      <td>2656759.0</td>\n",
       "      <td>A</td>\n",
       "    </tr>\n",
       "    <tr>\n",
       "      <th>1</th>\n",
       "      <td>2007-06-04</td>\n",
       "      <td>NaN</td>\n",
       "      <td>24.510162</td>\n",
       "      <td>24.599314</td>\n",
       "      <td>24.191767</td>\n",
       "      <td>24.198134</td>\n",
       "      <td>2229950.0</td>\n",
       "      <td>A</td>\n",
       "    </tr>\n",
       "    <tr>\n",
       "      <th>2</th>\n",
       "      <td>2007-06-05</td>\n",
       "      <td>NaN</td>\n",
       "      <td>24.497437</td>\n",
       "      <td>24.554747</td>\n",
       "      <td>24.319134</td>\n",
       "      <td>24.331870</td>\n",
       "      <td>2744274.0</td>\n",
       "      <td>A</td>\n",
       "    </tr>\n",
       "    <tr>\n",
       "      <th>3</th>\n",
       "      <td>2007-06-06</td>\n",
       "      <td>NaN</td>\n",
       "      <td>24.433748</td>\n",
       "      <td>24.516532</td>\n",
       "      <td>24.293654</td>\n",
       "      <td>24.312758</td>\n",
       "      <td>2975224.0</td>\n",
       "      <td>A</td>\n",
       "    </tr>\n",
       "    <tr>\n",
       "      <th>4</th>\n",
       "      <td>2007-06-07</td>\n",
       "      <td>NaN</td>\n",
       "      <td>23.726902</td>\n",
       "      <td>24.433742</td>\n",
       "      <td>23.726902</td>\n",
       "      <td>24.274543</td>\n",
       "      <td>3567416.0</td>\n",
       "      <td>A</td>\n",
       "    </tr>\n",
       "    <tr>\n",
       "      <th>...</th>\n",
       "      <td>...</td>\n",
       "      <td>...</td>\n",
       "      <td>...</td>\n",
       "      <td>...</td>\n",
       "      <td>...</td>\n",
       "      <td>...</td>\n",
       "      <td>...</td>\n",
       "      <td>...</td>\n",
       "    </tr>\n",
       "    <tr>\n",
       "      <th>430769</th>\n",
       "      <td>2025-09-08</td>\n",
       "      <td>NaN</td>\n",
       "      <td>281.600006</td>\n",
       "      <td>281.760010</td>\n",
       "      <td>273.734009</td>\n",
       "      <td>275.000000</td>\n",
       "      <td>1839700.0</td>\n",
       "      <td>ZS</td>\n",
       "    </tr>\n",
       "    <tr>\n",
       "      <th>430770</th>\n",
       "      <td>2025-09-09</td>\n",
       "      <td>NaN</td>\n",
       "      <td>282.290009</td>\n",
       "      <td>284.339996</td>\n",
       "      <td>279.000000</td>\n",
       "      <td>281.350006</td>\n",
       "      <td>1634400.0</td>\n",
       "      <td>ZS</td>\n",
       "    </tr>\n",
       "    <tr>\n",
       "      <th>430771</th>\n",
       "      <td>2025-09-10</td>\n",
       "      <td>NaN</td>\n",
       "      <td>278.790009</td>\n",
       "      <td>288.890015</td>\n",
       "      <td>276.309998</td>\n",
       "      <td>284.299988</td>\n",
       "      <td>1836000.0</td>\n",
       "      <td>ZS</td>\n",
       "    </tr>\n",
       "    <tr>\n",
       "      <th>430772</th>\n",
       "      <td>2025-09-11</td>\n",
       "      <td>NaN</td>\n",
       "      <td>286.660004</td>\n",
       "      <td>292.940002</td>\n",
       "      <td>281.450012</td>\n",
       "      <td>282.049988</td>\n",
       "      <td>1946700.0</td>\n",
       "      <td>ZS</td>\n",
       "    </tr>\n",
       "    <tr>\n",
       "      <th>430773</th>\n",
       "      <td>2025-09-12</td>\n",
       "      <td>NaN</td>\n",
       "      <td>283.190002</td>\n",
       "      <td>288.529999</td>\n",
       "      <td>282.459991</td>\n",
       "      <td>286.899994</td>\n",
       "      <td>1357300.0</td>\n",
       "      <td>ZS</td>\n",
       "    </tr>\n",
       "  </tbody>\n",
       "</table>\n",
       "<p>430774 rows × 8 columns</p>\n",
       "</div>"
      ]
     },
     "execution_count": 16,
     "metadata": {},
     "output_type": "execute_result"
    }
   ],
   "execution_count": 16
  },
  {
   "metadata": {
    "ExecuteTime": {
     "end_time": "2025-09-15T14:25:26.224034Z",
     "start_time": "2025-09-15T14:25:26.192754Z"
    }
   },
   "cell_type": "code",
   "source": [
    "df_concat.sort_values(by=['Date'], ascending=True, inplace=True)\n",
    "df_concat.tail(50)"
   ],
   "id": "600040841afb92f6",
   "outputs": [
    {
     "data": {
      "text/plain": [
       "Price        Date  Adj Close        Close         High          Low  \\\n",
       "114030 2025-09-12        NaN    48.400002    48.959999    48.380001   \n",
       "109346 2025-09-12        NaN   967.900024   969.570007   960.000000   \n",
       "53563  2025-09-12        NaN   582.000000   587.880005   572.109985   \n",
       "54064  2025-09-12        NaN   150.639999   155.550003   149.020004   \n",
       "104662 2025-09-12        NaN    33.060001    33.380001    32.450001   \n",
       "99978  2025-09-12        NaN   263.399994   266.130005   256.109985   \n",
       "96031  2025-09-12        NaN   323.480011   325.410004   315.281006   \n",
       "95115  2025-09-12        NaN   164.289993   166.190002   163.929993   \n",
       "427238 2025-09-12        NaN    73.349998    73.720001    72.599998   \n",
       "94202  2025-09-12        NaN   343.480011   355.070007   342.089996   \n",
       "90013  2025-09-12        NaN    89.709999    90.860001    89.180000   \n",
       "80957  2025-09-12        NaN    46.490002    47.299999    46.470001   \n",
       "58115  2025-09-12        NaN   359.869995   364.390015   357.160004   \n",
       "76273  2025-09-12        NaN  5458.319824  5520.000000  5437.689941   \n",
       "71589  2025-09-12        NaN   144.860001   150.279999   144.839996   \n",
       "156259 2025-09-12        NaN    43.380001    43.630001    43.209999   \n",
       "292628 2025-09-12        NaN   157.229996   158.279999   153.210007   \n",
       "163505 2025-09-12        NaN   136.880005   140.199997   136.839996   \n",
       "43086  2025-09-12        NaN   158.570007   160.410004   154.919998   \n",
       "283260 2025-09-12        NaN   509.899994   512.549988   503.850006   \n",
       "24350  2025-09-12        NaN   293.500000   296.859985   292.190002   \n",
       "278576 2025-09-12        NaN    67.349998    67.750000    66.139999   \n",
       "275391 2025-09-12        NaN    64.690002    64.779999    63.639999   \n",
       "271184 2025-09-12        NaN   755.590027   757.570007   743.760010   \n",
       "267835 2025-09-12        NaN  2339.360107  2352.379883  2290.500000   \n",
       "263283 2025-09-12        NaN    61.980000    62.470001    61.689999   \n",
       "258599 2025-09-12        NaN    64.699997    65.650002    64.410004   \n",
       "255720 2025-09-12        NaN   266.500000   267.779999   263.500000   \n",
       "29034  2025-09-12        NaN   319.049988   324.630005   318.760010   \n",
       "246783 2025-09-12        NaN   159.869995   165.929993   159.750000   \n",
       "242221 2025-09-12        NaN   116.959999   117.500000   115.879997   \n",
       "239036 2025-09-12        NaN   482.040009   483.920013   479.140015   \n",
       "230103 2025-09-12        NaN   964.020020   968.090027   955.000000   \n",
       "227715 2025-09-12        NaN    26.129999    26.570000    26.045000   \n",
       "225151 2025-09-12        NaN    27.230000    27.590000    27.020000   \n",
       "33718  2025-09-12        NaN   109.459999   109.720001   108.510002   \n",
       "214509 2025-09-12        NaN   449.679993   454.149994   448.149994   \n",
       "412305 2025-09-12        NaN   394.529999   396.829987   393.170013   \n",
       "209825 2025-09-12        NaN   646.030029   660.400024   645.309998   \n",
       "205141 2025-09-12        NaN    24.080000    24.629999    24.049999   \n",
       "200457 2025-09-12        NaN   641.140015   644.859985   625.549988   \n",
       "38402  2025-09-12        NaN   167.800003   169.669998   167.179993   \n",
       "195773 2025-09-12        NaN   211.460007   214.580002   210.940002   \n",
       "187183 2025-09-12        NaN   241.380005   242.423004   238.500000   \n",
       "182499 2025-09-12        NaN   114.550003   117.629997   114.180000   \n",
       "177815 2025-09-12        NaN    31.670000    32.220001    31.660000   \n",
       "176843 2025-09-12        NaN    76.440002    77.635002    76.379997   \n",
       "172167 2025-09-12        NaN    79.680000    81.269997    79.650002   \n",
       "168189 2025-09-12        NaN    47.450001    47.590000    46.939999   \n",
       "430773 2025-09-12        NaN   283.190002   288.529999   282.459991   \n",
       "\n",
       "Price          Open      Volume Ticker  \n",
       "114030    48.630001   3944900.0   CPRT  \n",
       "109346   960.289978   1460300.0   COST  \n",
       "53563    573.054993   6725900.0    APP  \n",
       "54064    155.240005   3601500.0    ARM  \n",
       "104662    33.270000  23848200.0  CMCSA  \n",
       "99978    264.000000   1764200.0   CHTR  \n",
       "96031    318.059998   1414800.0    CEG  \n",
       "95115    165.050003   1120700.0    CDW  \n",
       "427238    72.849998   7080600.0    XEL  \n",
       "94202    353.470001   1616900.0   CDNS  \n",
       "90013     90.120003   1128900.0   CCEP  \n",
       "80957     47.160000   4015000.0    BKR  \n",
       "58115    362.910004  31931500.0   AVGO  \n",
       "76273   5461.000000    128800.0   BKNG  \n",
       "71589    148.080002   1810700.0   BIIB  \n",
       "156259    43.349998   4244900.0    EXC  \n",
       "292628   153.550003  32238100.0     MU  \n",
       "163505   138.820007   1752000.0   FANG  \n",
       "43086    157.000000  42169500.0    AMD  \n",
       "283260   506.649994  23612600.0   MSFT  \n",
       "24350    294.959991   1100100.0    ADP  \n",
       "278576    67.550003  14850600.0   MRVL  \n",
       "275391    63.799999   4842600.0   MNST  \n",
       "271184   748.729980   8242900.0   META  \n",
       "267835  2325.000000    571800.0   MELI  \n",
       "263283    61.980000   4853600.0   MDLZ  \n",
       "258599    65.120003   4607600.0   MCHP  \n",
       "255720   266.880005   1051600.0    MAR  \n",
       "29034    324.540009   1077500.0   ADSK  \n",
       "246783   165.259995   7995900.0   LULU  \n",
       "242221   115.919998  11054700.0   LRCX  \n",
       "239036   479.160004   2069700.0    LIN  \n",
       "230103   957.479980    583900.0   KLAC  \n",
       "227715    26.570000  17147300.0    KHC  \n",
       "225151    27.559999  15132200.0    KDP  \n",
       "33718    108.660004   2180700.0    AEP  \n",
       "214509   453.190002   2218500.0   ISRG  \n",
       "412305   394.679993    978300.0   VRTX  \n",
       "209825   658.460022   2202100.0   INTU  \n",
       "205141    24.610001  52527300.0   INTC  \n",
       "200457   639.239990    317900.0   IDXX  \n",
       "38402    167.910004   5167400.0   AMAT  \n",
       "195773   214.050003   3169000.0    HON  \n",
       "187183   240.800003  14521900.0   GOOG  \n",
       "182499   117.489998   6467000.0   GILD  \n",
       "177815    32.220001   1987300.0    GFS  \n",
       "176843    77.470001   3254100.0   GEHC  \n",
       "172167    80.930000   4426500.0   FTNT  \n",
       "168189    47.049999   5506500.0   FAST  \n",
       "430773   286.899994   1357300.0     ZS  "
      ],
      "text/html": [
       "<div>\n",
       "<style scoped>\n",
       "    .dataframe tbody tr th:only-of-type {\n",
       "        vertical-align: middle;\n",
       "    }\n",
       "\n",
       "    .dataframe tbody tr th {\n",
       "        vertical-align: top;\n",
       "    }\n",
       "\n",
       "    .dataframe thead th {\n",
       "        text-align: right;\n",
       "    }\n",
       "</style>\n",
       "<table border=\"1\" class=\"dataframe\">\n",
       "  <thead>\n",
       "    <tr style=\"text-align: right;\">\n",
       "      <th>Price</th>\n",
       "      <th>Date</th>\n",
       "      <th>Adj Close</th>\n",
       "      <th>Close</th>\n",
       "      <th>High</th>\n",
       "      <th>Low</th>\n",
       "      <th>Open</th>\n",
       "      <th>Volume</th>\n",
       "      <th>Ticker</th>\n",
       "    </tr>\n",
       "  </thead>\n",
       "  <tbody>\n",
       "    <tr>\n",
       "      <th>114030</th>\n",
       "      <td>2025-09-12</td>\n",
       "      <td>NaN</td>\n",
       "      <td>48.400002</td>\n",
       "      <td>48.959999</td>\n",
       "      <td>48.380001</td>\n",
       "      <td>48.630001</td>\n",
       "      <td>3944900.0</td>\n",
       "      <td>CPRT</td>\n",
       "    </tr>\n",
       "    <tr>\n",
       "      <th>109346</th>\n",
       "      <td>2025-09-12</td>\n",
       "      <td>NaN</td>\n",
       "      <td>967.900024</td>\n",
       "      <td>969.570007</td>\n",
       "      <td>960.000000</td>\n",
       "      <td>960.289978</td>\n",
       "      <td>1460300.0</td>\n",
       "      <td>COST</td>\n",
       "    </tr>\n",
       "    <tr>\n",
       "      <th>53563</th>\n",
       "      <td>2025-09-12</td>\n",
       "      <td>NaN</td>\n",
       "      <td>582.000000</td>\n",
       "      <td>587.880005</td>\n",
       "      <td>572.109985</td>\n",
       "      <td>573.054993</td>\n",
       "      <td>6725900.0</td>\n",
       "      <td>APP</td>\n",
       "    </tr>\n",
       "    <tr>\n",
       "      <th>54064</th>\n",
       "      <td>2025-09-12</td>\n",
       "      <td>NaN</td>\n",
       "      <td>150.639999</td>\n",
       "      <td>155.550003</td>\n",
       "      <td>149.020004</td>\n",
       "      <td>155.240005</td>\n",
       "      <td>3601500.0</td>\n",
       "      <td>ARM</td>\n",
       "    </tr>\n",
       "    <tr>\n",
       "      <th>104662</th>\n",
       "      <td>2025-09-12</td>\n",
       "      <td>NaN</td>\n",
       "      <td>33.060001</td>\n",
       "      <td>33.380001</td>\n",
       "      <td>32.450001</td>\n",
       "      <td>33.270000</td>\n",
       "      <td>23848200.0</td>\n",
       "      <td>CMCSA</td>\n",
       "    </tr>\n",
       "    <tr>\n",
       "      <th>99978</th>\n",
       "      <td>2025-09-12</td>\n",
       "      <td>NaN</td>\n",
       "      <td>263.399994</td>\n",
       "      <td>266.130005</td>\n",
       "      <td>256.109985</td>\n",
       "      <td>264.000000</td>\n",
       "      <td>1764200.0</td>\n",
       "      <td>CHTR</td>\n",
       "    </tr>\n",
       "    <tr>\n",
       "      <th>96031</th>\n",
       "      <td>2025-09-12</td>\n",
       "      <td>NaN</td>\n",
       "      <td>323.480011</td>\n",
       "      <td>325.410004</td>\n",
       "      <td>315.281006</td>\n",
       "      <td>318.059998</td>\n",
       "      <td>1414800.0</td>\n",
       "      <td>CEG</td>\n",
       "    </tr>\n",
       "    <tr>\n",
       "      <th>95115</th>\n",
       "      <td>2025-09-12</td>\n",
       "      <td>NaN</td>\n",
       "      <td>164.289993</td>\n",
       "      <td>166.190002</td>\n",
       "      <td>163.929993</td>\n",
       "      <td>165.050003</td>\n",
       "      <td>1120700.0</td>\n",
       "      <td>CDW</td>\n",
       "    </tr>\n",
       "    <tr>\n",
       "      <th>427238</th>\n",
       "      <td>2025-09-12</td>\n",
       "      <td>NaN</td>\n",
       "      <td>73.349998</td>\n",
       "      <td>73.720001</td>\n",
       "      <td>72.599998</td>\n",
       "      <td>72.849998</td>\n",
       "      <td>7080600.0</td>\n",
       "      <td>XEL</td>\n",
       "    </tr>\n",
       "    <tr>\n",
       "      <th>94202</th>\n",
       "      <td>2025-09-12</td>\n",
       "      <td>NaN</td>\n",
       "      <td>343.480011</td>\n",
       "      <td>355.070007</td>\n",
       "      <td>342.089996</td>\n",
       "      <td>353.470001</td>\n",
       "      <td>1616900.0</td>\n",
       "      <td>CDNS</td>\n",
       "    </tr>\n",
       "    <tr>\n",
       "      <th>90013</th>\n",
       "      <td>2025-09-12</td>\n",
       "      <td>NaN</td>\n",
       "      <td>89.709999</td>\n",
       "      <td>90.860001</td>\n",
       "      <td>89.180000</td>\n",
       "      <td>90.120003</td>\n",
       "      <td>1128900.0</td>\n",
       "      <td>CCEP</td>\n",
       "    </tr>\n",
       "    <tr>\n",
       "      <th>80957</th>\n",
       "      <td>2025-09-12</td>\n",
       "      <td>NaN</td>\n",
       "      <td>46.490002</td>\n",
       "      <td>47.299999</td>\n",
       "      <td>46.470001</td>\n",
       "      <td>47.160000</td>\n",
       "      <td>4015000.0</td>\n",
       "      <td>BKR</td>\n",
       "    </tr>\n",
       "    <tr>\n",
       "      <th>58115</th>\n",
       "      <td>2025-09-12</td>\n",
       "      <td>NaN</td>\n",
       "      <td>359.869995</td>\n",
       "      <td>364.390015</td>\n",
       "      <td>357.160004</td>\n",
       "      <td>362.910004</td>\n",
       "      <td>31931500.0</td>\n",
       "      <td>AVGO</td>\n",
       "    </tr>\n",
       "    <tr>\n",
       "      <th>76273</th>\n",
       "      <td>2025-09-12</td>\n",
       "      <td>NaN</td>\n",
       "      <td>5458.319824</td>\n",
       "      <td>5520.000000</td>\n",
       "      <td>5437.689941</td>\n",
       "      <td>5461.000000</td>\n",
       "      <td>128800.0</td>\n",
       "      <td>BKNG</td>\n",
       "    </tr>\n",
       "    <tr>\n",
       "      <th>71589</th>\n",
       "      <td>2025-09-12</td>\n",
       "      <td>NaN</td>\n",
       "      <td>144.860001</td>\n",
       "      <td>150.279999</td>\n",
       "      <td>144.839996</td>\n",
       "      <td>148.080002</td>\n",
       "      <td>1810700.0</td>\n",
       "      <td>BIIB</td>\n",
       "    </tr>\n",
       "    <tr>\n",
       "      <th>156259</th>\n",
       "      <td>2025-09-12</td>\n",
       "      <td>NaN</td>\n",
       "      <td>43.380001</td>\n",
       "      <td>43.630001</td>\n",
       "      <td>43.209999</td>\n",
       "      <td>43.349998</td>\n",
       "      <td>4244900.0</td>\n",
       "      <td>EXC</td>\n",
       "    </tr>\n",
       "    <tr>\n",
       "      <th>292628</th>\n",
       "      <td>2025-09-12</td>\n",
       "      <td>NaN</td>\n",
       "      <td>157.229996</td>\n",
       "      <td>158.279999</td>\n",
       "      <td>153.210007</td>\n",
       "      <td>153.550003</td>\n",
       "      <td>32238100.0</td>\n",
       "      <td>MU</td>\n",
       "    </tr>\n",
       "    <tr>\n",
       "      <th>163505</th>\n",
       "      <td>2025-09-12</td>\n",
       "      <td>NaN</td>\n",
       "      <td>136.880005</td>\n",
       "      <td>140.199997</td>\n",
       "      <td>136.839996</td>\n",
       "      <td>138.820007</td>\n",
       "      <td>1752000.0</td>\n",
       "      <td>FANG</td>\n",
       "    </tr>\n",
       "    <tr>\n",
       "      <th>43086</th>\n",
       "      <td>2025-09-12</td>\n",
       "      <td>NaN</td>\n",
       "      <td>158.570007</td>\n",
       "      <td>160.410004</td>\n",
       "      <td>154.919998</td>\n",
       "      <td>157.000000</td>\n",
       "      <td>42169500.0</td>\n",
       "      <td>AMD</td>\n",
       "    </tr>\n",
       "    <tr>\n",
       "      <th>283260</th>\n",
       "      <td>2025-09-12</td>\n",
       "      <td>NaN</td>\n",
       "      <td>509.899994</td>\n",
       "      <td>512.549988</td>\n",
       "      <td>503.850006</td>\n",
       "      <td>506.649994</td>\n",
       "      <td>23612600.0</td>\n",
       "      <td>MSFT</td>\n",
       "    </tr>\n",
       "    <tr>\n",
       "      <th>24350</th>\n",
       "      <td>2025-09-12</td>\n",
       "      <td>NaN</td>\n",
       "      <td>293.500000</td>\n",
       "      <td>296.859985</td>\n",
       "      <td>292.190002</td>\n",
       "      <td>294.959991</td>\n",
       "      <td>1100100.0</td>\n",
       "      <td>ADP</td>\n",
       "    </tr>\n",
       "    <tr>\n",
       "      <th>278576</th>\n",
       "      <td>2025-09-12</td>\n",
       "      <td>NaN</td>\n",
       "      <td>67.349998</td>\n",
       "      <td>67.750000</td>\n",
       "      <td>66.139999</td>\n",
       "      <td>67.550003</td>\n",
       "      <td>14850600.0</td>\n",
       "      <td>MRVL</td>\n",
       "    </tr>\n",
       "    <tr>\n",
       "      <th>275391</th>\n",
       "      <td>2025-09-12</td>\n",
       "      <td>NaN</td>\n",
       "      <td>64.690002</td>\n",
       "      <td>64.779999</td>\n",
       "      <td>63.639999</td>\n",
       "      <td>63.799999</td>\n",
       "      <td>4842600.0</td>\n",
       "      <td>MNST</td>\n",
       "    </tr>\n",
       "    <tr>\n",
       "      <th>271184</th>\n",
       "      <td>2025-09-12</td>\n",
       "      <td>NaN</td>\n",
       "      <td>755.590027</td>\n",
       "      <td>757.570007</td>\n",
       "      <td>743.760010</td>\n",
       "      <td>748.729980</td>\n",
       "      <td>8242900.0</td>\n",
       "      <td>META</td>\n",
       "    </tr>\n",
       "    <tr>\n",
       "      <th>267835</th>\n",
       "      <td>2025-09-12</td>\n",
       "      <td>NaN</td>\n",
       "      <td>2339.360107</td>\n",
       "      <td>2352.379883</td>\n",
       "      <td>2290.500000</td>\n",
       "      <td>2325.000000</td>\n",
       "      <td>571800.0</td>\n",
       "      <td>MELI</td>\n",
       "    </tr>\n",
       "    <tr>\n",
       "      <th>263283</th>\n",
       "      <td>2025-09-12</td>\n",
       "      <td>NaN</td>\n",
       "      <td>61.980000</td>\n",
       "      <td>62.470001</td>\n",
       "      <td>61.689999</td>\n",
       "      <td>61.980000</td>\n",
       "      <td>4853600.0</td>\n",
       "      <td>MDLZ</td>\n",
       "    </tr>\n",
       "    <tr>\n",
       "      <th>258599</th>\n",
       "      <td>2025-09-12</td>\n",
       "      <td>NaN</td>\n",
       "      <td>64.699997</td>\n",
       "      <td>65.650002</td>\n",
       "      <td>64.410004</td>\n",
       "      <td>65.120003</td>\n",
       "      <td>4607600.0</td>\n",
       "      <td>MCHP</td>\n",
       "    </tr>\n",
       "    <tr>\n",
       "      <th>255720</th>\n",
       "      <td>2025-09-12</td>\n",
       "      <td>NaN</td>\n",
       "      <td>266.500000</td>\n",
       "      <td>267.779999</td>\n",
       "      <td>263.500000</td>\n",
       "      <td>266.880005</td>\n",
       "      <td>1051600.0</td>\n",
       "      <td>MAR</td>\n",
       "    </tr>\n",
       "    <tr>\n",
       "      <th>29034</th>\n",
       "      <td>2025-09-12</td>\n",
       "      <td>NaN</td>\n",
       "      <td>319.049988</td>\n",
       "      <td>324.630005</td>\n",
       "      <td>318.760010</td>\n",
       "      <td>324.540009</td>\n",
       "      <td>1077500.0</td>\n",
       "      <td>ADSK</td>\n",
       "    </tr>\n",
       "    <tr>\n",
       "      <th>246783</th>\n",
       "      <td>2025-09-12</td>\n",
       "      <td>NaN</td>\n",
       "      <td>159.869995</td>\n",
       "      <td>165.929993</td>\n",
       "      <td>159.750000</td>\n",
       "      <td>165.259995</td>\n",
       "      <td>7995900.0</td>\n",
       "      <td>LULU</td>\n",
       "    </tr>\n",
       "    <tr>\n",
       "      <th>242221</th>\n",
       "      <td>2025-09-12</td>\n",
       "      <td>NaN</td>\n",
       "      <td>116.959999</td>\n",
       "      <td>117.500000</td>\n",
       "      <td>115.879997</td>\n",
       "      <td>115.919998</td>\n",
       "      <td>11054700.0</td>\n",
       "      <td>LRCX</td>\n",
       "    </tr>\n",
       "    <tr>\n",
       "      <th>239036</th>\n",
       "      <td>2025-09-12</td>\n",
       "      <td>NaN</td>\n",
       "      <td>482.040009</td>\n",
       "      <td>483.920013</td>\n",
       "      <td>479.140015</td>\n",
       "      <td>479.160004</td>\n",
       "      <td>2069700.0</td>\n",
       "      <td>LIN</td>\n",
       "    </tr>\n",
       "    <tr>\n",
       "      <th>230103</th>\n",
       "      <td>2025-09-12</td>\n",
       "      <td>NaN</td>\n",
       "      <td>964.020020</td>\n",
       "      <td>968.090027</td>\n",
       "      <td>955.000000</td>\n",
       "      <td>957.479980</td>\n",
       "      <td>583900.0</td>\n",
       "      <td>KLAC</td>\n",
       "    </tr>\n",
       "    <tr>\n",
       "      <th>227715</th>\n",
       "      <td>2025-09-12</td>\n",
       "      <td>NaN</td>\n",
       "      <td>26.129999</td>\n",
       "      <td>26.570000</td>\n",
       "      <td>26.045000</td>\n",
       "      <td>26.570000</td>\n",
       "      <td>17147300.0</td>\n",
       "      <td>KHC</td>\n",
       "    </tr>\n",
       "    <tr>\n",
       "      <th>225151</th>\n",
       "      <td>2025-09-12</td>\n",
       "      <td>NaN</td>\n",
       "      <td>27.230000</td>\n",
       "      <td>27.590000</td>\n",
       "      <td>27.020000</td>\n",
       "      <td>27.559999</td>\n",
       "      <td>15132200.0</td>\n",
       "      <td>KDP</td>\n",
       "    </tr>\n",
       "    <tr>\n",
       "      <th>33718</th>\n",
       "      <td>2025-09-12</td>\n",
       "      <td>NaN</td>\n",
       "      <td>109.459999</td>\n",
       "      <td>109.720001</td>\n",
       "      <td>108.510002</td>\n",
       "      <td>108.660004</td>\n",
       "      <td>2180700.0</td>\n",
       "      <td>AEP</td>\n",
       "    </tr>\n",
       "    <tr>\n",
       "      <th>214509</th>\n",
       "      <td>2025-09-12</td>\n",
       "      <td>NaN</td>\n",
       "      <td>449.679993</td>\n",
       "      <td>454.149994</td>\n",
       "      <td>448.149994</td>\n",
       "      <td>453.190002</td>\n",
       "      <td>2218500.0</td>\n",
       "      <td>ISRG</td>\n",
       "    </tr>\n",
       "    <tr>\n",
       "      <th>412305</th>\n",
       "      <td>2025-09-12</td>\n",
       "      <td>NaN</td>\n",
       "      <td>394.529999</td>\n",
       "      <td>396.829987</td>\n",
       "      <td>393.170013</td>\n",
       "      <td>394.679993</td>\n",
       "      <td>978300.0</td>\n",
       "      <td>VRTX</td>\n",
       "    </tr>\n",
       "    <tr>\n",
       "      <th>209825</th>\n",
       "      <td>2025-09-12</td>\n",
       "      <td>NaN</td>\n",
       "      <td>646.030029</td>\n",
       "      <td>660.400024</td>\n",
       "      <td>645.309998</td>\n",
       "      <td>658.460022</td>\n",
       "      <td>2202100.0</td>\n",
       "      <td>INTU</td>\n",
       "    </tr>\n",
       "    <tr>\n",
       "      <th>205141</th>\n",
       "      <td>2025-09-12</td>\n",
       "      <td>NaN</td>\n",
       "      <td>24.080000</td>\n",
       "      <td>24.629999</td>\n",
       "      <td>24.049999</td>\n",
       "      <td>24.610001</td>\n",
       "      <td>52527300.0</td>\n",
       "      <td>INTC</td>\n",
       "    </tr>\n",
       "    <tr>\n",
       "      <th>200457</th>\n",
       "      <td>2025-09-12</td>\n",
       "      <td>NaN</td>\n",
       "      <td>641.140015</td>\n",
       "      <td>644.859985</td>\n",
       "      <td>625.549988</td>\n",
       "      <td>639.239990</td>\n",
       "      <td>317900.0</td>\n",
       "      <td>IDXX</td>\n",
       "    </tr>\n",
       "    <tr>\n",
       "      <th>38402</th>\n",
       "      <td>2025-09-12</td>\n",
       "      <td>NaN</td>\n",
       "      <td>167.800003</td>\n",
       "      <td>169.669998</td>\n",
       "      <td>167.179993</td>\n",
       "      <td>167.910004</td>\n",
       "      <td>5167400.0</td>\n",
       "      <td>AMAT</td>\n",
       "    </tr>\n",
       "    <tr>\n",
       "      <th>195773</th>\n",
       "      <td>2025-09-12</td>\n",
       "      <td>NaN</td>\n",
       "      <td>211.460007</td>\n",
       "      <td>214.580002</td>\n",
       "      <td>210.940002</td>\n",
       "      <td>214.050003</td>\n",
       "      <td>3169000.0</td>\n",
       "      <td>HON</td>\n",
       "    </tr>\n",
       "    <tr>\n",
       "      <th>187183</th>\n",
       "      <td>2025-09-12</td>\n",
       "      <td>NaN</td>\n",
       "      <td>241.380005</td>\n",
       "      <td>242.423004</td>\n",
       "      <td>238.500000</td>\n",
       "      <td>240.800003</td>\n",
       "      <td>14521900.0</td>\n",
       "      <td>GOOG</td>\n",
       "    </tr>\n",
       "    <tr>\n",
       "      <th>182499</th>\n",
       "      <td>2025-09-12</td>\n",
       "      <td>NaN</td>\n",
       "      <td>114.550003</td>\n",
       "      <td>117.629997</td>\n",
       "      <td>114.180000</td>\n",
       "      <td>117.489998</td>\n",
       "      <td>6467000.0</td>\n",
       "      <td>GILD</td>\n",
       "    </tr>\n",
       "    <tr>\n",
       "      <th>177815</th>\n",
       "      <td>2025-09-12</td>\n",
       "      <td>NaN</td>\n",
       "      <td>31.670000</td>\n",
       "      <td>32.220001</td>\n",
       "      <td>31.660000</td>\n",
       "      <td>32.220001</td>\n",
       "      <td>1987300.0</td>\n",
       "      <td>GFS</td>\n",
       "    </tr>\n",
       "    <tr>\n",
       "      <th>176843</th>\n",
       "      <td>2025-09-12</td>\n",
       "      <td>NaN</td>\n",
       "      <td>76.440002</td>\n",
       "      <td>77.635002</td>\n",
       "      <td>76.379997</td>\n",
       "      <td>77.470001</td>\n",
       "      <td>3254100.0</td>\n",
       "      <td>GEHC</td>\n",
       "    </tr>\n",
       "    <tr>\n",
       "      <th>172167</th>\n",
       "      <td>2025-09-12</td>\n",
       "      <td>NaN</td>\n",
       "      <td>79.680000</td>\n",
       "      <td>81.269997</td>\n",
       "      <td>79.650002</td>\n",
       "      <td>80.930000</td>\n",
       "      <td>4426500.0</td>\n",
       "      <td>FTNT</td>\n",
       "    </tr>\n",
       "    <tr>\n",
       "      <th>168189</th>\n",
       "      <td>2025-09-12</td>\n",
       "      <td>NaN</td>\n",
       "      <td>47.450001</td>\n",
       "      <td>47.590000</td>\n",
       "      <td>46.939999</td>\n",
       "      <td>47.049999</td>\n",
       "      <td>5506500.0</td>\n",
       "      <td>FAST</td>\n",
       "    </tr>\n",
       "    <tr>\n",
       "      <th>430773</th>\n",
       "      <td>2025-09-12</td>\n",
       "      <td>NaN</td>\n",
       "      <td>283.190002</td>\n",
       "      <td>288.529999</td>\n",
       "      <td>282.459991</td>\n",
       "      <td>286.899994</td>\n",
       "      <td>1357300.0</td>\n",
       "      <td>ZS</td>\n",
       "    </tr>\n",
       "  </tbody>\n",
       "</table>\n",
       "</div>"
      ]
     },
     "execution_count": 17,
     "metadata": {},
     "output_type": "execute_result"
    }
   ],
   "execution_count": 17
  },
  {
   "metadata": {
    "ExecuteTime": {
     "end_time": "2025-09-15T14:25:26.231720Z",
     "start_time": "2025-09-15T14:25:26.228445Z"
    }
   },
   "cell_type": "code",
   "source": "df_concat['Date'].max()",
   "id": "2fb50fac20b29100",
   "outputs": [
    {
     "data": {
      "text/plain": [
       "Timestamp('2025-09-12 00:00:00')"
      ]
     },
     "execution_count": 18,
     "metadata": {},
     "output_type": "execute_result"
    }
   ],
   "execution_count": 18
  },
  {
   "cell_type": "code",
   "id": "fc3ade3f-0c4a-4a1b-bcd5-8293c8818a65",
   "metadata": {
    "ExecuteTime": {
     "end_time": "2025-09-15T14:25:26.239481Z",
     "start_time": "2025-09-15T14:25:26.238175Z"
    }
   },
   "source": [
    "# Sauvegarder la DataFrame résultante dans un fichier CSV\n",
    "#data_SP500.to_csv('/Users/forget/PyCharmMiscProject/historical_data_S&P500_From_Wiki.csv')"
   ],
   "outputs": [],
   "execution_count": 19
  },
  {
   "metadata": {
    "ExecuteTime": {
     "end_time": "2025-09-15T14:25:26.255143Z",
     "start_time": "2025-09-15T14:25:26.250693Z"
    }
   },
   "cell_type": "code",
   "source": [
    "\"\"\"\n",
    "mask_1 = data_SP500[(data_SP500['Ticker'] == 'NVR') & (data_SP500['Date'] < '1993-10-01')]\n",
    "mask_2 = data_SP500[(data_SP500['Ticker'] == 'HUBB') & (data_SP500['Date'] < '1994-10-31')]\n",
    "mask_3 = data_SP500[(data_SP500['Date'] == '1984-12-31') & (data_SP500['Ticker'] == 'BEN')]\n",
    "\"\"\""
   ],
   "id": "5554fac36cbc425c",
   "outputs": [
    {
     "data": {
      "text/plain": [
       "\"\\nmask_1 = data_SP500[(data_SP500['Ticker'] == 'NVR') & (data_SP500['Date'] < '1993-10-01')]\\nmask_2 = data_SP500[(data_SP500['Ticker'] == 'HUBB') & (data_SP500['Date'] < '1994-10-31')]\\nmask_3 = data_SP500[(data_SP500['Date'] == '1984-12-31') & (data_SP500['Ticker'] == 'BEN')]\\n\""
      ]
     },
     "execution_count": 20,
     "metadata": {},
     "output_type": "execute_result"
    }
   ],
   "execution_count": 20
  },
  {
   "metadata": {
    "ExecuteTime": {
     "end_time": "2025-09-15T14:25:26.261344Z",
     "start_time": "2025-09-15T14:25:26.259322Z"
    }
   },
   "cell_type": "code",
   "source": [
    "\"\"\"\n",
    "idx_to_drop = mask_1.index.union(mask_2.index).union(mask_3.index)\n",
    "data_SP500 = data_SP500.drop(index=idx_to_drop).copy()\n",
    "\"\"\""
   ],
   "id": "3e44a0476c5466d",
   "outputs": [
    {
     "data": {
      "text/plain": [
       "'\\nidx_to_drop = mask_1.index.union(mask_2.index).union(mask_3.index)\\ndata_SP500 = data_SP500.drop(index=idx_to_drop).copy()\\n'"
      ]
     },
     "execution_count": 21,
     "metadata": {},
     "output_type": "execute_result"
    }
   ],
   "execution_count": 21
  },
  {
   "metadata": {
    "ExecuteTime": {
     "end_time": "2025-09-15T14:25:26.349531Z",
     "start_time": "2025-09-15T14:25:26.267306Z"
    }
   },
   "cell_type": "code",
   "source": "df_concat.to_parquet(\"/Users/forget/Library/Mobile Documents/com~apple~CloudDocs/Project Stock Market Deep Learning/Data/data_NASDAQ.parquet\")",
   "id": "27b858f1805ff48d",
   "outputs": [],
   "execution_count": 22
  }
 ],
 "metadata": {
  "kernelspec": {
   "display_name": "Python 3 (ipykernel)",
   "language": "python",
   "name": "python3"
  },
  "language_info": {
   "codemirror_mode": {
    "name": "ipython",
    "version": 3
   },
   "file_extension": ".py",
   "mimetype": "text/x-python",
   "name": "python",
   "nbconvert_exporter": "python",
   "pygments_lexer": "ipython3",
   "version": "3.12.4"
  }
 },
 "nbformat": 4,
 "nbformat_minor": 5
}
