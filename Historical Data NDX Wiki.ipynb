{
 "cells": [
  {
   "cell_type": "code",
   "id": "d57f0474-062c-4085-a442-4189e1e6d207",
   "metadata": {
    "ExecuteTime": {
     "end_time": "2025-10-07T11:49:43.872385Z",
     "start_time": "2025-10-07T11:49:43.490894Z"
    }
   },
   "source": [
    "import pandas as pd \n",
    "import yfinance as yf\n",
    "from datetime import datetime, timedelta\n"
   ],
   "outputs": [],
   "execution_count": 1
  },
  {
   "cell_type": "code",
   "id": "fc27d29a-7ea3-43eb-8465-e78d1137332c",
   "metadata": {
    "ExecuteTime": {
     "end_time": "2025-10-07T11:49:44.357364Z",
     "start_time": "2025-10-07T11:49:44.068942Z"
    }
   },
   "source": [
    "SP500_Url = \"https://en.wikipedia.org/wiki/Nasdaq-100\"\n",
    "data_table = pd.read_html(\n",
    "    SP500_Url,\n",
    "    storage_options={\"User-Agent\": \"Mozilla/5.0 (X11; Linux x86_64) AppleWebKit/537.36 \"\n",
    "                                   \"(KHTML, like Gecko) Chrome/123.0 Safari/537.36\"}\n",
    ")\n",
    "data_table"
   ],
   "outputs": [
    {
     "data": {
      "text/plain": [
       "[                                     0                                      1\n",
       " 0   Nasdaq-100 Index from 1985 to 2015     Nasdaq-100 Index from 1985 to 2015\n",
       " 1                           Foundation         January 31, 1985; 40 years ago\n",
       " 2                             Operator                           Nasdaq, Inc.\n",
       " 3                            Exchanges                                 Nasdaq\n",
       " 4                       Trading symbol                            ^NDX or NDX\n",
       " 5                         Constituents                                    101\n",
       " 6                                 Type                              Large-cap\n",
       " 7                           Market cap  US$25.34 trillion (as of May 1, 2025)\n",
       " 8                     Weighting method     Free-float capitalization-weighted\n",
       " 9                      Related indices                   Nasdaq Financial-100\n",
       " 10                             Website                  nasdaq.com/nasdaq-100,\n",
       "    Category  All-Time Highs[8]         All-Time Highs[8].1\n",
       " 0   Closing           24761.07  Monday, September 22, 2025\n",
       " 1  Intraday           24781.73  Monday, September 22, 2025,\n",
       "     Milestone[9][obsolete source] (closing) Date of Record (closing)[9]  \\\n",
       " 0                                      1000                July 8, 1997   \n",
       " 1                                      2000            January 11, 1999   \n",
       " 2                                      3000           November 18, 1999   \n",
       " 3                                      4000            February 8, 2000   \n",
       " 4                                      5000             January 6, 2017   \n",
       " 5                                      6000          September 13, 2017   \n",
       " 6                                      7000            January 26, 2018   \n",
       " 7                                      8000               July 24, 2019   \n",
       " 8                                      9000            January 13, 2020   \n",
       " 9                                     10000               June 10, 2020   \n",
       " 10                                    11000              August 3, 2020   \n",
       " 11                                    12000             August 31, 2020   \n",
       " 12                                    13000             January 8, 2021   \n",
       " 13                                    14000              April 15, 2021   \n",
       " 14                                    15000               July 23, 2021   \n",
       " 15                                    16000            November 3, 2021   \n",
       " 16                                    17000            January 19, 2024   \n",
       " 17                                    18000           February 22, 2024   \n",
       " 18                                    19000                June 5, 2024   \n",
       " 19                                    20000                July 2, 2024   \n",
       " 20                                    21000            November 7, 2024   \n",
       " 21                                    22000           December 16, 2024   \n",
       " 22                                    23000               July 17, 2025   \n",
       " 23                                    24000          September 12, 2025   \n",
       " \n",
       "     Trading Days[9]  \n",
       " 0              3143  \n",
       " 1               381  \n",
       " 2               217  \n",
       " 3                55  \n",
       " 4              4255  \n",
       " 5               172  \n",
       " 6                93  \n",
       " 7               374  \n",
       " 8               119  \n",
       " 9               103  \n",
       " 10               37  \n",
       " 11               20  \n",
       " 12               90  \n",
       " 13               66  \n",
       " 14               69  \n",
       " 15               72  \n",
       " 16              554  \n",
       " 17               23  \n",
       " 18               72  \n",
       " 19               18  \n",
       " 20               90  \n",
       " 21               26  \n",
       " 22              144  \n",
       " 23               40  ,\n",
       "     Year  Closing level Change in Index in Points Change in Index in %\n",
       " 0   1985         132.29                       NaN                  NaN\n",
       " 1   1986         141.41                      9.12                 6.89\n",
       " 2   1987         156.25                     14.84                10.49\n",
       " 3   1988         177.41                     21.16                13.54\n",
       " 4   1989         223.84                     46.43                26.17\n",
       " 5   1990         200.53                    −23.31               −10.41\n",
       " 6   1991         330.86                    130.33                64.99\n",
       " 7   1992         360.19                     29.33                 8.86\n",
       " 8   1993         398.28                     38.09                10.57\n",
       " 9   1994         404.27                      5.99                 1.50\n",
       " 10  1995         576.23                    171.96                42.54\n",
       " 11  1996         821.36                    245.13                42.54\n",
       " 12  1997         990.80                    169.44                20.63\n",
       " 13  1998        1836.01                    845.21                85.31\n",
       " 14  1999        3707.83                   1871.81               101.95\n",
       " 15  2000        2341.70                 −1,366.13               −36.84\n",
       " 16  2001        1577.05                   −764.65               −32.65\n",
       " 17  2002         984.36                   −592.69               −37.58\n",
       " 18  2003        1467.92                    483.56                49.12\n",
       " 19  2004        1621.12                    153.20                10.44\n",
       " 20  2005        1645.20                     24.08                 1.49\n",
       " 21  2006        1756.90                    111.70                 6.79\n",
       " 22  2007        2084.93                    328.03                18.67\n",
       " 23  2008        1211.65                   −873.28               −41.89\n",
       " 24  2009        1860.31                    648.66                53.54\n",
       " 25  2010        2217.86                    357.55                19.22\n",
       " 26  2011        2277.83                     59.97                 2.70\n",
       " 27  2012        2660.93                    383.10                16.82\n",
       " 28  2013        3592.00                    931.07                34.99\n",
       " 29  2014        4236.28                    644.28                17.94\n",
       " 30  2015        4593.27                    356.99                 8.43\n",
       " 31  2016        4863.62                    270.35                 5.89\n",
       " 32  2017        6396.42                   1532.80                31.52\n",
       " 33  2018        6329.96                    −66.46                −1.04\n",
       " 34  2019        8733.07                   2403.11                37.96\n",
       " 35  2020       12888.28                   4155.21                47.58\n",
       " 36  2021       16320.08                   3431.80                26.63\n",
       " 37  2022       10939.76                 −5,380.32               −32.97\n",
       " 38  2023       16825.93                   5886.17                53.81\n",
       " 39  2024       21012.17                   4186.24                24.88,\n",
       "     Ticker                  Company             GICS Sector  \\\n",
       " 0     ADBE               Adobe Inc.  Information Technology   \n",
       " 1      AMD   Advanced Micro Devices  Information Technology   \n",
       " 2     ABNB                   Airbnb  Consumer Discretionary   \n",
       " 3    GOOGL  Alphabet Inc. (Class A)  Communication Services   \n",
       " 4     GOOG  Alphabet Inc. (Class C)  Communication Services   \n",
       " ..     ...                      ...                     ...   \n",
       " 96    VRTX   Vertex Pharmaceuticals             Health Care   \n",
       " 97     WBD   Warner Bros. Discovery  Communication Services   \n",
       " 98    WDAY            Workday, Inc.  Information Technology   \n",
       " 99     XEL              Xcel Energy               Utilities   \n",
       " 100     ZS                  Zscaler  Information Technology   \n",
       " \n",
       "                   GICS Sub-Industry  \n",
       " 0              Application Software  \n",
       " 1                    Semiconductors  \n",
       " 2    Hotels, Resorts & Cruise Lines  \n",
       " 3      Interactive Media & Services  \n",
       " 4      Interactive Media & Services  \n",
       " ..                              ...  \n",
       " 96                    Biotechnology  \n",
       " 97                     Broadcasting  \n",
       " 98             Application Software  \n",
       " 99                  Multi-Utilities  \n",
       " 100            Application Software  \n",
       " \n",
       " [101 rows x 4 columns],\n",
       "                   Date  Added                        Removed  \\\n",
       "                   Date Ticker               Security  Ticker   \n",
       " 0        July 28, 2025    TRI        Thomson Reuters     NaN   \n",
       " 1        July 17, 2025    NaN                    NaN    ANSS   \n",
       " 2         May 19, 2025   SHOP                Shopify     MDB   \n",
       " 3    December 23, 2024   PLTR  Palantir Technologies    ILMN   \n",
       " 4    December 23, 2024   MSTR          MicroStrategy    MRNA   \n",
       " ..                 ...    ...                    ...     ...   \n",
       " 202      July 12, 2007   FWLT         Foster Wheeler    BMET   \n",
       " 203       June 1, 2007   CEPH               Cephalon    MEDI   \n",
       " 204      March 8, 2007   UAUA        UAL Corporation    AEOS   \n",
       " 205  February 14, 2007  RYAAY                Ryanair    APCC   \n",
       " 206   February 1, 2007   LOGI               Logitech    CMVT   \n",
       " \n",
       "                                 \\\n",
       "                       Security   \n",
       " 0                          NaN   \n",
       " 1                        Ansys   \n",
       " 2                      MongoDB   \n",
       " 3                      Ilumina   \n",
       " 4                      Moderna   \n",
       " ..                         ...   \n",
       " 202                     Biomet   \n",
       " 203                  MedImmune   \n",
       " 204  American Eagle Outfitters   \n",
       " 205  American Power Conversion   \n",
       " 206        Comverse Technology   \n",
       " \n",
       "                                                 Reason  \n",
       "                                                 Reason  \n",
       " 0     Thomson Reuters replaced Ansys in the index.[15]  \n",
       " 1                      Ansys was acquired by Synopsys.  \n",
       " 2    MongoDB did not meet the minimum monthly weigh...  \n",
       " 3                     Annual index reconstitution.[17]  \n",
       " 4                     Annual index reconstitution.[17]  \n",
       " ..                                                 ...  \n",
       " 202                     Biomet was taken private.[110]  \n",
       " 203        MedImmune was acquired by AstraZeneca.[111]  \n",
       " 204  American Eagle Outfitters transferred its list...  \n",
       " 205       APC was acquired by Schneider Electric.[114]  \n",
       " 206  Comverse did not meet the minimum monthly weig...  \n",
       " \n",
       " [207 rows x 6 columns],\n",
       "                 vteCompanies of the Nasdaq-100 index  \\\n",
       " 0  Adobe ADP AMD Airbnb Alphabet Amazon AEP Amgen...   \n",
       " \n",
       "               vteCompanies of the Nasdaq-100 index.1  \n",
       " 0  Adobe ADP AMD Airbnb Alphabet Amazon AEP Amgen...  ,\n",
       "                                      vteNasdaq, Inc.  \\\n",
       " 0  Operator of the Nasdaq, Nasdaq Baltic and Nasd...   \n",
       " 1                                          Exchanges   \n",
       " 2                                       Main indices   \n",
       " 3                                     Other holdings   \n",
       " \n",
       "                                    vteNasdaq, Inc..1  \\\n",
       " 0  Operator of the Nasdaq, Nasdaq Baltic and Nasd...   \n",
       " 1  Nasdaq BX Canada GEMX ISE MRX Nasdaq NOM PHLX ...   \n",
       " 2  Nasdaq 100 Composite Nasdaq Baltic Baltic 10 N...   \n",
       " 3  Adenza Longitude Nasdaq MarketSite Nasdaq Priv...   \n",
       " \n",
       "                                    vteNasdaq, Inc..2  \n",
       " 0  Operator of the Nasdaq, Nasdaq Baltic and Nasd...  \n",
       " 1                                                NaN  \n",
       " 2                                                NaN  \n",
       " 3                                                NaN  ,\n",
       "    vteStock market indices                          vteStock market indices.1\n",
       " 0                   Global  Equities MSCI ACWI Index MSCI World S&P Global...\n",
       " 1                 Equities  MSCI ACWI Index MSCI World S&P Global 100 S&P ...\n",
       " 2              Commodities  Bloomberg Commodity Index S&P GSCI Deutsche Ba...\n",
       " 3                 Regional  Asia S&P Asia 50 Europe EURO STOXX 50 STOXX Eu...\n",
       " 4                     Asia                                        S&P Asia 50\n",
       " 5                   Europe  EURO STOXX 50 STOXX Europe 600 FTSEurofirst 30...\n",
       " 6            Latin America                               S&P Latin America 40\n",
       " 7                    Other                                 MSCI EAFE MSCI GCC\n",
       " 8         Industry indices  Energy Amex Oil Index Electronics PHLX Semicon...\n",
       " 9                   Energy                                     Amex Oil Index\n",
       " 10             Electronics                   PHLX Semiconductor Sector TecDax\n",
       " 11                  Metals  HUI Gold Index Philadelphia Gold and Silver Index\n",
       " 12             Real estate                              CBV Real Estate Index\n",
       " 13                   Water                              Palisades Water Index\n",
       " 14                   Other                                   Baltic Dry Index\n",
       " 15                Americas  USMajor Dow Jones Industrial Average NYSE Comp...\n",
       " 16                      US  Major Dow Jones Industrial Average NYSE Compos...\n",
       " 17                   Major  Dow Jones Industrial Average NYSE Composite Na...\n",
       " 18                   Other  Dow Jones Transportation Average Dow Jones Uti...\n",
       " 19                  Canada                 S&P/TSX 60 S&P/TSX Composite Index\n",
       " 20                   Other  Indice de Precios y Cotizaciones (Mexico) COLC...\n",
       " 21                  Europe  UK FT 30 FTSE 100 Index FTSE 250 Index FTSE 35...\n",
       " 22                      UK  FT 30 FTSE 100 Index FTSE 250 Index FTSE 350 I...\n",
       " 23                  France  CAC 40 CAC Next 20 CAC Mid 60 CAC Small CAC Al...\n",
       " 24                   Other  AEX ATX BEL 20 BUX DAX FTSE MIB IBEX 35 ISEQ 2...\n",
       " 25                    Asia  China SSE Composite SZSE Component SSE 50 Inde...\n",
       " 26                   China  SSE Composite SZSE Component SSE 50 Index SSE ...\n",
       " 27                   India  BSE SENSEX NIFTY 50 NIFTY Next 50 NIFTY 500 GI...\n",
       " 28                   Japan                     Nikkei 225 TOPIX S&P/TOPIX 150\n",
       " 29             South Korea                             KOSPI KOSPI 200 KOSDAQ\n",
       " 30                   Other  KASE (Kazakhstan) KSE (Kyrgyzstan) Tashkent (U...\n",
       " 31                 Oceania  Australia S&P/ASX 20 S&P/ASX 50 S&P/ASX 200 S&...\n",
       " 32               Australia  S&P/ASX 20 S&P/ASX 50 S&P/ASX 200 S&P/ASX 300 ...\n",
       " 33             New Zealand                                   S&P/NZX 50 Index\n",
       " 34                  Africa                     EGX 30 JSE Top 40 MADEX NSE 30,\n",
       "              0                                                  1\n",
       " 0     Equities  MSCI ACWI Index MSCI World S&P Global 100 S&P ...\n",
       " 1  Commodities  Bloomberg Commodity Index S&P GSCI Deutsche Ba...,\n",
       "                0                                                  1\n",
       " 0           Asia                                        S&P Asia 50\n",
       " 1         Europe  EURO STOXX 50 STOXX Europe 600 FTSEurofirst 30...\n",
       " 2  Latin America                               S&P Latin America 40\n",
       " 3          Other                                 MSCI EAFE MSCI GCC,\n",
       "              0                                                  1\n",
       " 0       Energy                                     Amex Oil Index\n",
       " 1  Electronics                   PHLX Semiconductor Sector TecDax\n",
       " 2       Metals  HUI Gold Index Philadelphia Gold and Silver Index\n",
       " 3  Real estate                              CBV Real Estate Index\n",
       " 4        Water                              Palisades Water Index\n",
       " 5        Other                                   Baltic Dry Index,\n",
       "         0                                                  1\n",
       " 0      US  Major Dow Jones Industrial Average NYSE Compos...\n",
       " 1   Major  Dow Jones Industrial Average NYSE Composite Na...\n",
       " 2   Other  Dow Jones Transportation Average Dow Jones Uti...\n",
       " 3  Canada                 S&P/TSX 60 S&P/TSX Composite Index\n",
       " 4   Other  Indice de Precios y Cotizaciones (Mexico) COLC...,\n",
       "        0                                                  1\n",
       " 0  Major  Dow Jones Industrial Average NYSE Composite Na...\n",
       " 1  Other  Dow Jones Transportation Average Dow Jones Uti...,\n",
       "         0                                                  1\n",
       " 0      UK  FT 30 FTSE 100 Index FTSE 250 Index FTSE 350 I...\n",
       " 1  France  CAC 40 CAC Next 20 CAC Mid 60 CAC Small CAC Al...\n",
       " 2   Other  AEX ATX BEL 20 BUX DAX FTSE MIB IBEX 35 ISEQ 2...,\n",
       "              0                                                  1\n",
       " 0        China  SSE Composite SZSE Component SSE 50 Index SSE ...\n",
       " 1        India  BSE SENSEX NIFTY 50 NIFTY Next 50 NIFTY 500 GI...\n",
       " 2        Japan                     Nikkei 225 TOPIX S&P/TOPIX 150\n",
       " 3  South Korea                             KOSPI KOSPI 200 KOSDAQ\n",
       " 4        Other  KASE (Kazakhstan) KSE (Kyrgyzstan) Tashkent (U...,\n",
       "              0                                                  1\n",
       " 0    Australia  S&P/ASX 20 S&P/ASX 50 S&P/ASX 200 S&P/ASX 300 ...\n",
       " 1  New Zealand                                   S&P/NZX 50 Index,\n",
       "          vteMajor United States stock market indices  \\\n",
       " 0  Dow Jones Industrial Average historical compon...   \n",
       " \n",
       "        vteMajor United States stock market indices.1  \n",
       " 0  Dow Jones Industrial Average historical compon...  ,\n",
       "   vteMajor North and South American stock market indices  \\\n",
       " 0                                      United States       \n",
       " 1                                             Canada       \n",
       " 2                                             Mexico       \n",
       " 3                                           Colombia       \n",
       " 4                                             Brazil       \n",
       " 5                                              Chile       \n",
       " 6                                          Argentina       \n",
       " 7                                               Peru       \n",
       " \n",
       "   vteMajor North and South American stock market indices.1  \n",
       " 0  Dow Jones Industrial Average Dow Jones Transpo...        \n",
       " 1                 S&P/TSX 60 S&P/TSX Composite Index        \n",
       " 2                   Indice de Precios y Cotizaciones        \n",
       " 3  COLCAP Indice General de la Bolsa de Valores d...        \n",
       " 4                                     Índice Bovespa        \n",
       " 5            Índice de Precios Selectivo de Acciones        \n",
       " 6                                             MERVAL        \n",
       " 7                         S&P/BVL Peru General Index        ]"
      ]
     },
     "execution_count": 2,
     "metadata": {},
     "output_type": "execute_result"
    }
   ],
   "execution_count": 2
  },
  {
   "cell_type": "code",
   "id": "1b24ff08-adf5-4396-8e7a-d6779a1b9d77",
   "metadata": {
    "ExecuteTime": {
     "end_time": "2025-10-07T11:49:44.364379Z",
     "start_time": "2025-10-07T11:49:44.362822Z"
    }
   },
   "source": "tickers = data_table[4][\"Ticker\"].tolist()",
   "outputs": [],
   "execution_count": 3
  },
  {
   "metadata": {
    "ExecuteTime": {
     "end_time": "2025-10-07T11:49:44.376263Z",
     "start_time": "2025-10-07T11:49:44.374282Z"
    }
   },
   "cell_type": "code",
   "source": [
    "supp = ['ASML', 'AZN', 'F', 'G', 'GOOGL', 'H', 'I', 'J', 'L', 'O', 'Q', 'R', 'U', 'VRSK', 'W', 'Y']\n",
    "\n",
    "tickers = [x for x in tickers if x not in supp]\n",
    "print(len(tickers), len(supp))"
   ],
   "id": "71a1b132b62bcbee",
   "outputs": [
    {
     "name": "stdout",
     "output_type": "stream",
     "text": [
      "97 16\n"
     ]
    }
   ],
   "execution_count": 4
  },
  {
   "cell_type": "code",
   "id": "17d6901d-f2b7-48b7-88a9-48d3aee5d9b7",
   "metadata": {
    "ExecuteTime": {
     "end_time": "2025-10-07T11:49:44.466606Z",
     "start_time": "2025-10-07T11:49:44.454671Z"
    }
   },
   "source": [
    "# Extraction des données\n",
    "Date = data_table[5]['Date']\n",
    "Removed = data_table[5]['Removed']['Ticker']  # Supposant que 'Removed' est un DataFrame ou Series\n",
    "Added = data_table[5]['Added']['Ticker']      # Supposant que 'Added' est un DataFrame ou Series\n",
    "\n",
    "# Combinaison des données dans un DataFrame\n",
    "Data_Change = pd.concat([Date, Added, Removed], axis = 1)\n",
    "\n",
    "#Date au format Date\n",
    "Data_Change['Date'] = pd.to_datetime(Data_Change['Date'])\n",
    "\n",
    "# Changer le format de la date en 'jour/mois/année'\n",
    "Data_Change['Date'] = Data_Change['Date'].dt.strftime('%Y-%m-%d')\n",
    "\n",
    "\n",
    "# Renommer toutes les colonnes\n",
    "Data_Change.columns = ['Date', 'Added', 'Removed']\n",
    "\n",
    "# Mettre 'colonne_a' en tant qu'index\n",
    "Data_Change.set_index('Date', inplace=True)\n",
    "\n",
    "# Nan en vide\n",
    "Data_Change = Data_Change.fillna('')\n",
    "\n",
    "Data_Change"
   ],
   "outputs": [
    {
     "data": {
      "text/plain": [
       "            Added Removed\n",
       "Date                     \n",
       "2025-07-28    TRI        \n",
       "2025-07-17           ANSS\n",
       "2025-05-19   SHOP     MDB\n",
       "2024-12-23   PLTR    ILMN\n",
       "2024-12-23   MSTR    MRNA\n",
       "...           ...     ...\n",
       "2007-07-12   FWLT    BMET\n",
       "2007-06-01   CEPH    MEDI\n",
       "2007-03-08   UAUA    AEOS\n",
       "2007-02-14  RYAAY    APCC\n",
       "2007-02-01   LOGI    CMVT\n",
       "\n",
       "[207 rows x 2 columns]"
      ],
      "text/html": [
       "<div>\n",
       "<style scoped>\n",
       "    .dataframe tbody tr th:only-of-type {\n",
       "        vertical-align: middle;\n",
       "    }\n",
       "\n",
       "    .dataframe tbody tr th {\n",
       "        vertical-align: top;\n",
       "    }\n",
       "\n",
       "    .dataframe thead th {\n",
       "        text-align: right;\n",
       "    }\n",
       "</style>\n",
       "<table border=\"1\" class=\"dataframe\">\n",
       "  <thead>\n",
       "    <tr style=\"text-align: right;\">\n",
       "      <th></th>\n",
       "      <th>Added</th>\n",
       "      <th>Removed</th>\n",
       "    </tr>\n",
       "    <tr>\n",
       "      <th>Date</th>\n",
       "      <th></th>\n",
       "      <th></th>\n",
       "    </tr>\n",
       "  </thead>\n",
       "  <tbody>\n",
       "    <tr>\n",
       "      <th>2025-07-28</th>\n",
       "      <td>TRI</td>\n",
       "      <td></td>\n",
       "    </tr>\n",
       "    <tr>\n",
       "      <th>2025-07-17</th>\n",
       "      <td></td>\n",
       "      <td>ANSS</td>\n",
       "    </tr>\n",
       "    <tr>\n",
       "      <th>2025-05-19</th>\n",
       "      <td>SHOP</td>\n",
       "      <td>MDB</td>\n",
       "    </tr>\n",
       "    <tr>\n",
       "      <th>2024-12-23</th>\n",
       "      <td>PLTR</td>\n",
       "      <td>ILMN</td>\n",
       "    </tr>\n",
       "    <tr>\n",
       "      <th>2024-12-23</th>\n",
       "      <td>MSTR</td>\n",
       "      <td>MRNA</td>\n",
       "    </tr>\n",
       "    <tr>\n",
       "      <th>...</th>\n",
       "      <td>...</td>\n",
       "      <td>...</td>\n",
       "    </tr>\n",
       "    <tr>\n",
       "      <th>2007-07-12</th>\n",
       "      <td>FWLT</td>\n",
       "      <td>BMET</td>\n",
       "    </tr>\n",
       "    <tr>\n",
       "      <th>2007-06-01</th>\n",
       "      <td>CEPH</td>\n",
       "      <td>MEDI</td>\n",
       "    </tr>\n",
       "    <tr>\n",
       "      <th>2007-03-08</th>\n",
       "      <td>UAUA</td>\n",
       "      <td>AEOS</td>\n",
       "    </tr>\n",
       "    <tr>\n",
       "      <th>2007-02-14</th>\n",
       "      <td>RYAAY</td>\n",
       "      <td>APCC</td>\n",
       "    </tr>\n",
       "    <tr>\n",
       "      <th>2007-02-01</th>\n",
       "      <td>LOGI</td>\n",
       "      <td>CMVT</td>\n",
       "    </tr>\n",
       "  </tbody>\n",
       "</table>\n",
       "<p>207 rows × 2 columns</p>\n",
       "</div>"
      ]
     },
     "execution_count": 5,
     "metadata": {},
     "output_type": "execute_result"
    }
   ],
   "execution_count": 5
  },
  {
   "cell_type": "code",
   "id": "48c463b9-ff84-4821-85cb-6bde2c7350a6",
   "metadata": {
    "ExecuteTime": {
     "end_time": "2025-10-07T11:49:44.482575Z",
     "start_time": "2025-10-07T11:49:44.479368Z"
    }
   },
   "source": [
    "len(tickers)"
   ],
   "outputs": [
    {
     "data": {
      "text/plain": [
       "97"
      ]
     },
     "execution_count": 6,
     "metadata": {},
     "output_type": "execute_result"
    }
   ],
   "execution_count": 6
  },
  {
   "cell_type": "code",
   "id": "20a9d36e-3278-4048-b5f2-582ebcbdef5b",
   "metadata": {
    "scrolled": true,
    "ExecuteTime": {
     "end_time": "2025-10-07T11:49:44.689803Z",
     "start_time": "2025-10-07T11:49:44.591900Z"
    }
   },
   "source": [
    "# Supposons que la liste tickers ait déjà 503 éléments au départ\n",
    "# tickers = ['AAPL', 'MSFT', ...]  # Exemples de tickers initiaux\n",
    "\n",
    "# Initialiser un dictionnaire vide\n",
    "dict = {}\n",
    "\n",
    "# Boucle pour parcourir les données et mettre à jour le dictionnaire\n",
    "for i in range(0, len(Data_Change)):\n",
    "    \n",
    "    # Ajouter les nouveaux tickers (si ce n'est pas déjà un ensemble vide)\n",
    "    tickers.extend(Data_Change.Added[i])\n",
    "    \n",
    "    # Essayer de supprimer les tickers retirés, si possible\n",
    "    try:\n",
    "        tickers = [t for t in tickers if t not in Data_Change.Removed[i]]  # Supprimer les tickers retirés\n",
    "    except ValueError:\n",
    "        # Si l'élément à supprimer n'existe pas dans la liste, continuer sans erreur\n",
    "        pass\n",
    "    \n",
    "    # Trier les tickers\n",
    "    tickers = sorted(set(tickers))  # Utilisation de set pour éviter les doublons\n",
    "\n",
    "    # Ajouter une **copie** de la liste `tickers` dans le dictionnaire\n",
    "    dict[Data_Change.index[i]] = tickers.copy()\n",
    "\n",
    "df = pd.DataFrame(list(dict.items()), columns=['date', 'tickers'])\n",
    "\n",
    "df['date'] = pd.to_datetime(df['date'])\n",
    "\n",
    "# Mettre la colonne 'date' comme index\n",
    "df.set_index('date', inplace=True)\n",
    "\n",
    "df"
   ],
   "outputs": [
    {
     "name": "stderr",
     "output_type": "stream",
     "text": [
      "/var/folders/6k/82j2nnl13hj9ld7nmzpdt6fh0000gn/T/ipykernel_1477/1527443372.py:11: FutureWarning: Series.__getitem__ treating keys as positions is deprecated. In a future version, integer keys will always be treated as labels (consistent with DataFrame behavior). To access a value by position, use `ser.iloc[pos]`\n",
      "  tickers.extend(Data_Change.Added[i])\n",
      "/var/folders/6k/82j2nnl13hj9ld7nmzpdt6fh0000gn/T/ipykernel_1477/1527443372.py:15: FutureWarning: Series.__getitem__ treating keys as positions is deprecated. In a future version, integer keys will always be treated as labels (consistent with DataFrame behavior). To access a value by position, use `ser.iloc[pos]`\n",
      "  tickers = [t for t in tickers if t not in Data_Change.Removed[i]]  # Supprimer les tickers retirés\n"
     ]
    },
    {
     "data": {
      "text/plain": [
       "                                                      tickers\n",
       "date                                                         \n",
       "2025-07-28  [AAPL, ABNB, ADBE, ADI, ADP, ADSK, AEP, AMAT, ...\n",
       "2025-07-17  [AAPL, ABNB, ADBE, ADI, ADP, ADSK, AEP, AMAT, ...\n",
       "2025-05-19  [AAPL, ABNB, ADBE, ADI, ADP, ADSK, AEP, AMAT, ...\n",
       "2024-12-23  [A, AAPL, ABNB, ADBE, ADI, ADP, ADSK, AEP, AMA...\n",
       "2024-11-18  [A, AAPL, ABNB, ADBE, ADI, ADP, ADSK, AEP, AMA...\n",
       "...                                                       ...\n",
       "2007-07-12  [A, AAPL, ABNB, ADBE, ADI, ADP, ADSK, AEP, AMA...\n",
       "2007-06-01  [A, AAPL, ABNB, ADBE, ADI, ADP, ADSK, AEP, AMA...\n",
       "2007-03-08  [AAPL, ABNB, ADBE, ADI, ADP, ADSK, AEP, AMAT, ...\n",
       "2007-02-14  [AAPL, ABNB, ADBE, ADI, ADP, ADSK, AEP, AMAT, ...\n",
       "2007-02-01  [AAPL, ABNB, ADBE, ADI, ADP, ADSK, AEP, AMAT, ...\n",
       "\n",
       "[100 rows x 1 columns]"
      ],
      "text/html": [
       "<div>\n",
       "<style scoped>\n",
       "    .dataframe tbody tr th:only-of-type {\n",
       "        vertical-align: middle;\n",
       "    }\n",
       "\n",
       "    .dataframe tbody tr th {\n",
       "        vertical-align: top;\n",
       "    }\n",
       "\n",
       "    .dataframe thead th {\n",
       "        text-align: right;\n",
       "    }\n",
       "</style>\n",
       "<table border=\"1\" class=\"dataframe\">\n",
       "  <thead>\n",
       "    <tr style=\"text-align: right;\">\n",
       "      <th></th>\n",
       "      <th>tickers</th>\n",
       "    </tr>\n",
       "    <tr>\n",
       "      <th>date</th>\n",
       "      <th></th>\n",
       "    </tr>\n",
       "  </thead>\n",
       "  <tbody>\n",
       "    <tr>\n",
       "      <th>2025-07-28</th>\n",
       "      <td>[AAPL, ABNB, ADBE, ADI, ADP, ADSK, AEP, AMAT, ...</td>\n",
       "    </tr>\n",
       "    <tr>\n",
       "      <th>2025-07-17</th>\n",
       "      <td>[AAPL, ABNB, ADBE, ADI, ADP, ADSK, AEP, AMAT, ...</td>\n",
       "    </tr>\n",
       "    <tr>\n",
       "      <th>2025-05-19</th>\n",
       "      <td>[AAPL, ABNB, ADBE, ADI, ADP, ADSK, AEP, AMAT, ...</td>\n",
       "    </tr>\n",
       "    <tr>\n",
       "      <th>2024-12-23</th>\n",
       "      <td>[A, AAPL, ABNB, ADBE, ADI, ADP, ADSK, AEP, AMA...</td>\n",
       "    </tr>\n",
       "    <tr>\n",
       "      <th>2024-11-18</th>\n",
       "      <td>[A, AAPL, ABNB, ADBE, ADI, ADP, ADSK, AEP, AMA...</td>\n",
       "    </tr>\n",
       "    <tr>\n",
       "      <th>...</th>\n",
       "      <td>...</td>\n",
       "    </tr>\n",
       "    <tr>\n",
       "      <th>2007-07-12</th>\n",
       "      <td>[A, AAPL, ABNB, ADBE, ADI, ADP, ADSK, AEP, AMA...</td>\n",
       "    </tr>\n",
       "    <tr>\n",
       "      <th>2007-06-01</th>\n",
       "      <td>[A, AAPL, ABNB, ADBE, ADI, ADP, ADSK, AEP, AMA...</td>\n",
       "    </tr>\n",
       "    <tr>\n",
       "      <th>2007-03-08</th>\n",
       "      <td>[AAPL, ABNB, ADBE, ADI, ADP, ADSK, AEP, AMAT, ...</td>\n",
       "    </tr>\n",
       "    <tr>\n",
       "      <th>2007-02-14</th>\n",
       "      <td>[AAPL, ABNB, ADBE, ADI, ADP, ADSK, AEP, AMAT, ...</td>\n",
       "    </tr>\n",
       "    <tr>\n",
       "      <th>2007-02-01</th>\n",
       "      <td>[AAPL, ABNB, ADBE, ADI, ADP, ADSK, AEP, AMAT, ...</td>\n",
       "    </tr>\n",
       "  </tbody>\n",
       "</table>\n",
       "<p>100 rows × 1 columns</p>\n",
       "</div>"
      ]
     },
     "execution_count": 7,
     "metadata": {},
     "output_type": "execute_result"
    }
   ],
   "execution_count": 7
  },
  {
   "metadata": {
    "ExecuteTime": {
     "end_time": "2025-10-07T11:49:44.698757Z",
     "start_time": "2025-10-07T11:49:44.696305Z"
    }
   },
   "cell_type": "code",
   "source": [
    "# Récupère l'index en liste\n",
    "new_index = list(df.index)\n",
    "\n",
    "# Remplace la première valeur\n",
    "new_index[0] = datetime.today().date()\n",
    "\n",
    "# Réapplique l'index modifié\n",
    "df.index = pd.to_datetime(new_index)"
   ],
   "id": "7bb535b927d2bb5b",
   "outputs": [],
   "execution_count": 8
  },
  {
   "metadata": {
    "ExecuteTime": {
     "end_time": "2025-10-07T11:49:44.713784Z",
     "start_time": "2025-10-07T11:49:44.708809Z"
    }
   },
   "cell_type": "code",
   "source": "df",
   "id": "8726eeeb2cff1231",
   "outputs": [
    {
     "data": {
      "text/plain": [
       "                                                      tickers\n",
       "2025-10-07  [AAPL, ABNB, ADBE, ADI, ADP, ADSK, AEP, AMAT, ...\n",
       "2025-07-17  [AAPL, ABNB, ADBE, ADI, ADP, ADSK, AEP, AMAT, ...\n",
       "2025-05-19  [AAPL, ABNB, ADBE, ADI, ADP, ADSK, AEP, AMAT, ...\n",
       "2024-12-23  [A, AAPL, ABNB, ADBE, ADI, ADP, ADSK, AEP, AMA...\n",
       "2024-11-18  [A, AAPL, ABNB, ADBE, ADI, ADP, ADSK, AEP, AMA...\n",
       "...                                                       ...\n",
       "2007-07-12  [A, AAPL, ABNB, ADBE, ADI, ADP, ADSK, AEP, AMA...\n",
       "2007-06-01  [A, AAPL, ABNB, ADBE, ADI, ADP, ADSK, AEP, AMA...\n",
       "2007-03-08  [AAPL, ABNB, ADBE, ADI, ADP, ADSK, AEP, AMAT, ...\n",
       "2007-02-14  [AAPL, ABNB, ADBE, ADI, ADP, ADSK, AEP, AMAT, ...\n",
       "2007-02-01  [AAPL, ABNB, ADBE, ADI, ADP, ADSK, AEP, AMAT, ...\n",
       "\n",
       "[100 rows x 1 columns]"
      ],
      "text/html": [
       "<div>\n",
       "<style scoped>\n",
       "    .dataframe tbody tr th:only-of-type {\n",
       "        vertical-align: middle;\n",
       "    }\n",
       "\n",
       "    .dataframe tbody tr th {\n",
       "        vertical-align: top;\n",
       "    }\n",
       "\n",
       "    .dataframe thead th {\n",
       "        text-align: right;\n",
       "    }\n",
       "</style>\n",
       "<table border=\"1\" class=\"dataframe\">\n",
       "  <thead>\n",
       "    <tr style=\"text-align: right;\">\n",
       "      <th></th>\n",
       "      <th>tickers</th>\n",
       "    </tr>\n",
       "  </thead>\n",
       "  <tbody>\n",
       "    <tr>\n",
       "      <th>2025-10-07</th>\n",
       "      <td>[AAPL, ABNB, ADBE, ADI, ADP, ADSK, AEP, AMAT, ...</td>\n",
       "    </tr>\n",
       "    <tr>\n",
       "      <th>2025-07-17</th>\n",
       "      <td>[AAPL, ABNB, ADBE, ADI, ADP, ADSK, AEP, AMAT, ...</td>\n",
       "    </tr>\n",
       "    <tr>\n",
       "      <th>2025-05-19</th>\n",
       "      <td>[AAPL, ABNB, ADBE, ADI, ADP, ADSK, AEP, AMAT, ...</td>\n",
       "    </tr>\n",
       "    <tr>\n",
       "      <th>2024-12-23</th>\n",
       "      <td>[A, AAPL, ABNB, ADBE, ADI, ADP, ADSK, AEP, AMA...</td>\n",
       "    </tr>\n",
       "    <tr>\n",
       "      <th>2024-11-18</th>\n",
       "      <td>[A, AAPL, ABNB, ADBE, ADI, ADP, ADSK, AEP, AMA...</td>\n",
       "    </tr>\n",
       "    <tr>\n",
       "      <th>...</th>\n",
       "      <td>...</td>\n",
       "    </tr>\n",
       "    <tr>\n",
       "      <th>2007-07-12</th>\n",
       "      <td>[A, AAPL, ABNB, ADBE, ADI, ADP, ADSK, AEP, AMA...</td>\n",
       "    </tr>\n",
       "    <tr>\n",
       "      <th>2007-06-01</th>\n",
       "      <td>[A, AAPL, ABNB, ADBE, ADI, ADP, ADSK, AEP, AMA...</td>\n",
       "    </tr>\n",
       "    <tr>\n",
       "      <th>2007-03-08</th>\n",
       "      <td>[AAPL, ABNB, ADBE, ADI, ADP, ADSK, AEP, AMAT, ...</td>\n",
       "    </tr>\n",
       "    <tr>\n",
       "      <th>2007-02-14</th>\n",
       "      <td>[AAPL, ABNB, ADBE, ADI, ADP, ADSK, AEP, AMAT, ...</td>\n",
       "    </tr>\n",
       "    <tr>\n",
       "      <th>2007-02-01</th>\n",
       "      <td>[AAPL, ABNB, ADBE, ADI, ADP, ADSK, AEP, AMAT, ...</td>\n",
       "    </tr>\n",
       "  </tbody>\n",
       "</table>\n",
       "<p>100 rows × 1 columns</p>\n",
       "</div>"
      ]
     },
     "execution_count": 9,
     "metadata": {},
     "output_type": "execute_result"
    }
   ],
   "execution_count": 9
  },
  {
   "metadata": {
    "ExecuteTime": {
     "end_time": "2025-10-07T11:49:44.791858Z",
     "start_time": "2025-10-07T11:49:44.724276Z"
    }
   },
   "cell_type": "code",
   "source": [
    "\n",
    "data_SP500_old = pd.read_parquet('/Users/forget/Library/Mobile Documents/com~apple~CloudDocs/Project Stock Market Deep Learning/Data/data_NASDAQ.parquet')\n",
    "last_date = data_SP500_old['Date'].sort_values(ascending=True).iloc[-1] + timedelta(days=1)\n",
    "last_date\n"
   ],
   "id": "d328e69739b0f844",
   "outputs": [
    {
     "data": {
      "text/plain": [
       "Timestamp('2025-10-04 00:00:00')"
      ]
     },
     "execution_count": 10,
     "metadata": {},
     "output_type": "execute_result"
    }
   ],
   "execution_count": 10
  },
  {
   "metadata": {
    "ExecuteTime": {
     "end_time": "2025-10-07T11:49:44.802644Z",
     "start_time": "2025-10-07T11:49:44.797169Z"
    }
   },
   "cell_type": "code",
   "source": [
    "\n",
    "df['Last_Date'] = last_date\n",
    "df"
   ],
   "id": "4ee6f7fd0f2fe091",
   "outputs": [
    {
     "data": {
      "text/plain": [
       "                                                      tickers  Last_Date\n",
       "2025-10-07  [AAPL, ABNB, ADBE, ADI, ADP, ADSK, AEP, AMAT, ... 2025-10-04\n",
       "2025-07-17  [AAPL, ABNB, ADBE, ADI, ADP, ADSK, AEP, AMAT, ... 2025-10-04\n",
       "2025-05-19  [AAPL, ABNB, ADBE, ADI, ADP, ADSK, AEP, AMAT, ... 2025-10-04\n",
       "2024-12-23  [A, AAPL, ABNB, ADBE, ADI, ADP, ADSK, AEP, AMA... 2025-10-04\n",
       "2024-11-18  [A, AAPL, ABNB, ADBE, ADI, ADP, ADSK, AEP, AMA... 2025-10-04\n",
       "...                                                       ...        ...\n",
       "2007-07-12  [A, AAPL, ABNB, ADBE, ADI, ADP, ADSK, AEP, AMA... 2025-10-04\n",
       "2007-06-01  [A, AAPL, ABNB, ADBE, ADI, ADP, ADSK, AEP, AMA... 2025-10-04\n",
       "2007-03-08  [AAPL, ABNB, ADBE, ADI, ADP, ADSK, AEP, AMAT, ... 2025-10-04\n",
       "2007-02-14  [AAPL, ABNB, ADBE, ADI, ADP, ADSK, AEP, AMAT, ... 2025-10-04\n",
       "2007-02-01  [AAPL, ABNB, ADBE, ADI, ADP, ADSK, AEP, AMAT, ... 2025-10-04\n",
       "\n",
       "[100 rows x 2 columns]"
      ],
      "text/html": [
       "<div>\n",
       "<style scoped>\n",
       "    .dataframe tbody tr th:only-of-type {\n",
       "        vertical-align: middle;\n",
       "    }\n",
       "\n",
       "    .dataframe tbody tr th {\n",
       "        vertical-align: top;\n",
       "    }\n",
       "\n",
       "    .dataframe thead th {\n",
       "        text-align: right;\n",
       "    }\n",
       "</style>\n",
       "<table border=\"1\" class=\"dataframe\">\n",
       "  <thead>\n",
       "    <tr style=\"text-align: right;\">\n",
       "      <th></th>\n",
       "      <th>tickers</th>\n",
       "      <th>Last_Date</th>\n",
       "    </tr>\n",
       "  </thead>\n",
       "  <tbody>\n",
       "    <tr>\n",
       "      <th>2025-10-07</th>\n",
       "      <td>[AAPL, ABNB, ADBE, ADI, ADP, ADSK, AEP, AMAT, ...</td>\n",
       "      <td>2025-10-04</td>\n",
       "    </tr>\n",
       "    <tr>\n",
       "      <th>2025-07-17</th>\n",
       "      <td>[AAPL, ABNB, ADBE, ADI, ADP, ADSK, AEP, AMAT, ...</td>\n",
       "      <td>2025-10-04</td>\n",
       "    </tr>\n",
       "    <tr>\n",
       "      <th>2025-05-19</th>\n",
       "      <td>[AAPL, ABNB, ADBE, ADI, ADP, ADSK, AEP, AMAT, ...</td>\n",
       "      <td>2025-10-04</td>\n",
       "    </tr>\n",
       "    <tr>\n",
       "      <th>2024-12-23</th>\n",
       "      <td>[A, AAPL, ABNB, ADBE, ADI, ADP, ADSK, AEP, AMA...</td>\n",
       "      <td>2025-10-04</td>\n",
       "    </tr>\n",
       "    <tr>\n",
       "      <th>2024-11-18</th>\n",
       "      <td>[A, AAPL, ABNB, ADBE, ADI, ADP, ADSK, AEP, AMA...</td>\n",
       "      <td>2025-10-04</td>\n",
       "    </tr>\n",
       "    <tr>\n",
       "      <th>...</th>\n",
       "      <td>...</td>\n",
       "      <td>...</td>\n",
       "    </tr>\n",
       "    <tr>\n",
       "      <th>2007-07-12</th>\n",
       "      <td>[A, AAPL, ABNB, ADBE, ADI, ADP, ADSK, AEP, AMA...</td>\n",
       "      <td>2025-10-04</td>\n",
       "    </tr>\n",
       "    <tr>\n",
       "      <th>2007-06-01</th>\n",
       "      <td>[A, AAPL, ABNB, ADBE, ADI, ADP, ADSK, AEP, AMA...</td>\n",
       "      <td>2025-10-04</td>\n",
       "    </tr>\n",
       "    <tr>\n",
       "      <th>2007-03-08</th>\n",
       "      <td>[AAPL, ABNB, ADBE, ADI, ADP, ADSK, AEP, AMAT, ...</td>\n",
       "      <td>2025-10-04</td>\n",
       "    </tr>\n",
       "    <tr>\n",
       "      <th>2007-02-14</th>\n",
       "      <td>[AAPL, ABNB, ADBE, ADI, ADP, ADSK, AEP, AMAT, ...</td>\n",
       "      <td>2025-10-04</td>\n",
       "    </tr>\n",
       "    <tr>\n",
       "      <th>2007-02-01</th>\n",
       "      <td>[AAPL, ABNB, ADBE, ADI, ADP, ADSK, AEP, AMAT, ...</td>\n",
       "      <td>2025-10-04</td>\n",
       "    </tr>\n",
       "  </tbody>\n",
       "</table>\n",
       "<p>100 rows × 2 columns</p>\n",
       "</div>"
      ]
     },
     "execution_count": 11,
     "metadata": {},
     "output_type": "execute_result"
    }
   ],
   "execution_count": 11
  },
  {
   "metadata": {
    "ExecuteTime": {
     "end_time": "2025-10-07T11:49:44.820790Z",
     "start_time": "2025-10-07T11:49:44.809390Z"
    }
   },
   "cell_type": "code",
   "source": [
    "\n",
    "# Initialiser une DataFrame vide pour stocker toutes les données\n",
    "data_SP500 = pd.DataFrame()\n",
    "\n",
    "df = df.explode('tickers')\n",
    "end_date = df[df.index > last_date].groupby('tickers').apply(lambda x: x.index.max())\n",
    "\n",
    "# Combiner les résultats dans une nouvelle DataFrame\n",
    "resultat = pd.DataFrame({'Start': last_date, 'End': end_date})\n",
    "resultat\n"
   ],
   "id": "1b8881d53f757d6b",
   "outputs": [
    {
     "name": "stderr",
     "output_type": "stream",
     "text": [
      "/var/folders/6k/82j2nnl13hj9ld7nmzpdt6fh0000gn/T/ipykernel_1477/2328952231.py:5: FutureWarning: DataFrameGroupBy.apply operated on the grouping columns. This behavior is deprecated, and in a future version of pandas the grouping columns will be excluded from the operation. Either pass `include_groups=False` to exclude the groupings or explicitly select the grouping columns after groupby to silence this warning.\n",
      "  end_date = df[df.index > last_date].groupby('tickers').apply(lambda x: x.index.max())\n"
     ]
    },
    {
     "data": {
      "text/plain": [
       "             Start        End\n",
       "tickers                      \n",
       "AAPL    2025-10-04 2025-10-07\n",
       "ABNB    2025-10-04 2025-10-07\n",
       "ADBE    2025-10-04 2025-10-07\n",
       "ADI     2025-10-04 2025-10-07\n",
       "ADP     2025-10-04 2025-10-07\n",
       "...            ...        ...\n",
       "VRTX    2025-10-04 2025-10-07\n",
       "WBD     2025-10-04 2025-10-07\n",
       "WDAY    2025-10-04 2025-10-07\n",
       "XEL     2025-10-04 2025-10-07\n",
       "ZS      2025-10-04 2025-10-07\n",
       "\n",
       "[100 rows x 2 columns]"
      ],
      "text/html": [
       "<div>\n",
       "<style scoped>\n",
       "    .dataframe tbody tr th:only-of-type {\n",
       "        vertical-align: middle;\n",
       "    }\n",
       "\n",
       "    .dataframe tbody tr th {\n",
       "        vertical-align: top;\n",
       "    }\n",
       "\n",
       "    .dataframe thead th {\n",
       "        text-align: right;\n",
       "    }\n",
       "</style>\n",
       "<table border=\"1\" class=\"dataframe\">\n",
       "  <thead>\n",
       "    <tr style=\"text-align: right;\">\n",
       "      <th></th>\n",
       "      <th>Start</th>\n",
       "      <th>End</th>\n",
       "    </tr>\n",
       "    <tr>\n",
       "      <th>tickers</th>\n",
       "      <th></th>\n",
       "      <th></th>\n",
       "    </tr>\n",
       "  </thead>\n",
       "  <tbody>\n",
       "    <tr>\n",
       "      <th>AAPL</th>\n",
       "      <td>2025-10-04</td>\n",
       "      <td>2025-10-07</td>\n",
       "    </tr>\n",
       "    <tr>\n",
       "      <th>ABNB</th>\n",
       "      <td>2025-10-04</td>\n",
       "      <td>2025-10-07</td>\n",
       "    </tr>\n",
       "    <tr>\n",
       "      <th>ADBE</th>\n",
       "      <td>2025-10-04</td>\n",
       "      <td>2025-10-07</td>\n",
       "    </tr>\n",
       "    <tr>\n",
       "      <th>ADI</th>\n",
       "      <td>2025-10-04</td>\n",
       "      <td>2025-10-07</td>\n",
       "    </tr>\n",
       "    <tr>\n",
       "      <th>ADP</th>\n",
       "      <td>2025-10-04</td>\n",
       "      <td>2025-10-07</td>\n",
       "    </tr>\n",
       "    <tr>\n",
       "      <th>...</th>\n",
       "      <td>...</td>\n",
       "      <td>...</td>\n",
       "    </tr>\n",
       "    <tr>\n",
       "      <th>VRTX</th>\n",
       "      <td>2025-10-04</td>\n",
       "      <td>2025-10-07</td>\n",
       "    </tr>\n",
       "    <tr>\n",
       "      <th>WBD</th>\n",
       "      <td>2025-10-04</td>\n",
       "      <td>2025-10-07</td>\n",
       "    </tr>\n",
       "    <tr>\n",
       "      <th>WDAY</th>\n",
       "      <td>2025-10-04</td>\n",
       "      <td>2025-10-07</td>\n",
       "    </tr>\n",
       "    <tr>\n",
       "      <th>XEL</th>\n",
       "      <td>2025-10-04</td>\n",
       "      <td>2025-10-07</td>\n",
       "    </tr>\n",
       "    <tr>\n",
       "      <th>ZS</th>\n",
       "      <td>2025-10-04</td>\n",
       "      <td>2025-10-07</td>\n",
       "    </tr>\n",
       "  </tbody>\n",
       "</table>\n",
       "<p>100 rows × 2 columns</p>\n",
       "</div>"
      ]
     },
     "execution_count": 12,
     "metadata": {},
     "output_type": "execute_result"
    }
   ],
   "execution_count": 12
  },
  {
   "metadata": {
    "ExecuteTime": {
     "end_time": "2025-10-07T11:49:44.829384Z",
     "start_time": "2025-10-07T11:49:44.827535Z"
    }
   },
   "cell_type": "code",
   "source": [
    "\"\"\"\n",
    "# Initialiser une DataFrame vide pour stocker toutes les données\n",
    "data_SP500 = pd.DataFrame()\n",
    "\n",
    "df = df.explode('tickers')\n",
    "start_date = df.groupby('tickers').apply(lambda x: x.index.min())\n",
    "end_date = df.groupby('tickers').apply(lambda x: x.index.max())\n",
    "\n",
    "# Combiner les résultats dans une nouvelle DataFrame\n",
    "resultat = pd.DataFrame({'Start': start_date, 'End': end_date})\n",
    "resultat\n",
    "\"\"\""
   ],
   "id": "435eb2e7a8761814",
   "outputs": [
    {
     "data": {
      "text/plain": [
       "\"\\n# Initialiser une DataFrame vide pour stocker toutes les données\\ndata_SP500 = pd.DataFrame()\\n\\ndf = df.explode('tickers')\\nstart_date = df.groupby('tickers').apply(lambda x: x.index.min())\\nend_date = df.groupby('tickers').apply(lambda x: x.index.max())\\n\\n# Combiner les résultats dans une nouvelle DataFrame\\nresultat = pd.DataFrame({'Start': start_date, 'End': end_date})\\nresultat\\n\""
      ]
     },
     "execution_count": 13,
     "metadata": {},
     "output_type": "execute_result"
    }
   ],
   "execution_count": 13
  },
  {
   "cell_type": "code",
   "id": "8edfe1d8-b9a5-4a07-ae0a-164b36e7b60c",
   "metadata": {
    "ExecuteTime": {
     "end_time": "2025-10-07T11:49:59.298377Z",
     "start_time": "2025-10-07T11:49:44.850339Z"
    }
   },
   "source": [
    "# Télécharger les données pour chaque ticker\n",
    "for ticker in resultat.index:\n",
    "    start_date = resultat.loc[ticker, 'Start']\n",
    "    end_date = resultat.loc[ticker, 'End']\n",
    "\n",
    "    print(f\"Téléchargement des données pour {ticker} de {start_date} à {end_date}\")\n",
    "\n",
    "    # Télécharger les données de l'action entre les dates spécifiées\n",
    "    data = yf.download(\n",
    "                        ticker,\n",
    "                        start=start_date,\n",
    "                        end=end_date,\n",
    "                        interval=\"1d\",\n",
    "                        auto_adjust=True,\n",
    "                        actions=False\n",
    "                        )\n",
    "\n",
    "    # Ajouter une colonne pour identifier le ticker\n",
    "    data['Ticker'] = ticker\n",
    "\n",
    "    # On retire le niveau des tickers pour ne garder que 'Close' et 'Volume'\n",
    "    data.columns = data.columns.droplevel(level=1)\n",
    "    \n",
    "    # Concaténer les données dans la DataFrame globale\n",
    "    data_SP500 = pd.concat([data_SP500, data])\n",
    "\n",
    "# Affichage de la DataFrame résultante\n",
    "data_SP500"
   ],
   "outputs": [
    {
     "name": "stdout",
     "output_type": "stream",
     "text": [
      "Téléchargement des données pour AAPL de 2025-10-04 00:00:00 à 2025-10-07 00:00:00\n"
     ]
    },
    {
     "name": "stderr",
     "output_type": "stream",
     "text": [
      "[*********************100%***********************]  1 of 1 completed\n",
      "[*********************100%***********************]  1 of 1 completed\n"
     ]
    },
    {
     "name": "stdout",
     "output_type": "stream",
     "text": [
      "Téléchargement des données pour ABNB de 2025-10-04 00:00:00 à 2025-10-07 00:00:00\n",
      "Téléchargement des données pour ADBE de 2025-10-04 00:00:00 à 2025-10-07 00:00:00\n"
     ]
    },
    {
     "name": "stderr",
     "output_type": "stream",
     "text": [
      "[*********************100%***********************]  1 of 1 completed\n",
      "[*********************100%***********************]  1 of 1 completed\n"
     ]
    },
    {
     "name": "stdout",
     "output_type": "stream",
     "text": [
      "Téléchargement des données pour ADI de 2025-10-04 00:00:00 à 2025-10-07 00:00:00\n",
      "Téléchargement des données pour ADP de 2025-10-04 00:00:00 à 2025-10-07 00:00:00\n"
     ]
    },
    {
     "name": "stderr",
     "output_type": "stream",
     "text": [
      "[*********************100%***********************]  1 of 1 completed\n",
      "[*********************100%***********************]  1 of 1 completed\n"
     ]
    },
    {
     "name": "stdout",
     "output_type": "stream",
     "text": [
      "Téléchargement des données pour ADSK de 2025-10-04 00:00:00 à 2025-10-07 00:00:00\n",
      "Téléchargement des données pour AEP de 2025-10-04 00:00:00 à 2025-10-07 00:00:00\n"
     ]
    },
    {
     "name": "stderr",
     "output_type": "stream",
     "text": [
      "[*********************100%***********************]  1 of 1 completed\n",
      "[*********************100%***********************]  1 of 1 completed\n"
     ]
    },
    {
     "name": "stdout",
     "output_type": "stream",
     "text": [
      "Téléchargement des données pour AMAT de 2025-10-04 00:00:00 à 2025-10-07 00:00:00\n",
      "Téléchargement des données pour AMD de 2025-10-04 00:00:00 à 2025-10-07 00:00:00\n"
     ]
    },
    {
     "name": "stderr",
     "output_type": "stream",
     "text": [
      "[*********************100%***********************]  1 of 1 completed\n",
      "[*********************100%***********************]  1 of 1 completed\n"
     ]
    },
    {
     "name": "stdout",
     "output_type": "stream",
     "text": [
      "Téléchargement des données pour AMGN de 2025-10-04 00:00:00 à 2025-10-07 00:00:00\n",
      "Téléchargement des données pour AMZN de 2025-10-04 00:00:00 à 2025-10-07 00:00:00\n"
     ]
    },
    {
     "name": "stderr",
     "output_type": "stream",
     "text": [
      "[*********************100%***********************]  1 of 1 completed\n",
      "[*********************100%***********************]  1 of 1 completed\n"
     ]
    },
    {
     "name": "stdout",
     "output_type": "stream",
     "text": [
      "Téléchargement des données pour APP de 2025-10-04 00:00:00 à 2025-10-07 00:00:00\n",
      "Téléchargement des données pour ARM de 2025-10-04 00:00:00 à 2025-10-07 00:00:00\n"
     ]
    },
    {
     "name": "stderr",
     "output_type": "stream",
     "text": [
      "[*********************100%***********************]  1 of 1 completed\n",
      "[*********************100%***********************]  1 of 1 completed\n"
     ]
    },
    {
     "name": "stdout",
     "output_type": "stream",
     "text": [
      "Téléchargement des données pour AVGO de 2025-10-04 00:00:00 à 2025-10-07 00:00:00\n",
      "Téléchargement des données pour AXON de 2025-10-04 00:00:00 à 2025-10-07 00:00:00\n"
     ]
    },
    {
     "name": "stderr",
     "output_type": "stream",
     "text": [
      "[*********************100%***********************]  1 of 1 completed\n",
      "[*********************100%***********************]  1 of 1 completed\n"
     ]
    },
    {
     "name": "stdout",
     "output_type": "stream",
     "text": [
      "Téléchargement des données pour BIIB de 2025-10-04 00:00:00 à 2025-10-07 00:00:00\n",
      "Téléchargement des données pour BKNG de 2025-10-04 00:00:00 à 2025-10-07 00:00:00\n"
     ]
    },
    {
     "name": "stderr",
     "output_type": "stream",
     "text": [
      "[*********************100%***********************]  1 of 1 completed\n",
      "[*********************100%***********************]  1 of 1 completed\n"
     ]
    },
    {
     "name": "stdout",
     "output_type": "stream",
     "text": [
      "Téléchargement des données pour BKR de 2025-10-04 00:00:00 à 2025-10-07 00:00:00\n",
      "Téléchargement des données pour CCEP de 2025-10-04 00:00:00 à 2025-10-07 00:00:00\n"
     ]
    },
    {
     "name": "stderr",
     "output_type": "stream",
     "text": [
      "[*********************100%***********************]  1 of 1 completed\n",
      "[*********************100%***********************]  1 of 1 completed\n"
     ]
    },
    {
     "name": "stdout",
     "output_type": "stream",
     "text": [
      "Téléchargement des données pour CDNS de 2025-10-04 00:00:00 à 2025-10-07 00:00:00\n",
      "Téléchargement des données pour CDW de 2025-10-04 00:00:00 à 2025-10-07 00:00:00\n"
     ]
    },
    {
     "name": "stderr",
     "output_type": "stream",
     "text": [
      "[*********************100%***********************]  1 of 1 completed\n",
      "[*********************100%***********************]  1 of 1 completed\n",
      "[*********************100%***********************]  1 of 1 completed\n"
     ]
    },
    {
     "name": "stdout",
     "output_type": "stream",
     "text": [
      "Téléchargement des données pour CEG de 2025-10-04 00:00:00 à 2025-10-07 00:00:00\n",
      "Téléchargement des données pour CHTR de 2025-10-04 00:00:00 à 2025-10-07 00:00:00\n",
      "Téléchargement des données pour CMCSA de 2025-10-04 00:00:00 à 2025-10-07 00:00:00\n"
     ]
    },
    {
     "name": "stderr",
     "output_type": "stream",
     "text": [
      "[*********************100%***********************]  1 of 1 completed\n",
      "[*********************100%***********************]  1 of 1 completed\n"
     ]
    },
    {
     "name": "stdout",
     "output_type": "stream",
     "text": [
      "Téléchargement des données pour COST de 2025-10-04 00:00:00 à 2025-10-07 00:00:00\n",
      "Téléchargement des données pour CPRT de 2025-10-04 00:00:00 à 2025-10-07 00:00:00\n"
     ]
    },
    {
     "name": "stderr",
     "output_type": "stream",
     "text": [
      "[*********************100%***********************]  1 of 1 completed\n",
      "[*********************100%***********************]  1 of 1 completed\n"
     ]
    },
    {
     "name": "stdout",
     "output_type": "stream",
     "text": [
      "Téléchargement des données pour CRWD de 2025-10-04 00:00:00 à 2025-10-07 00:00:00\n",
      "Téléchargement des données pour CSCO de 2025-10-04 00:00:00 à 2025-10-07 00:00:00\n"
     ]
    },
    {
     "name": "stderr",
     "output_type": "stream",
     "text": [
      "[*********************100%***********************]  1 of 1 completed\n",
      "[*********************100%***********************]  1 of 1 completed\n"
     ]
    },
    {
     "name": "stdout",
     "output_type": "stream",
     "text": [
      "Téléchargement des données pour CSGP de 2025-10-04 00:00:00 à 2025-10-07 00:00:00\n",
      "Téléchargement des données pour CSX de 2025-10-04 00:00:00 à 2025-10-07 00:00:00\n"
     ]
    },
    {
     "name": "stderr",
     "output_type": "stream",
     "text": [
      "[*********************100%***********************]  1 of 1 completed\n",
      "[*********************100%***********************]  1 of 1 completed\n"
     ]
    },
    {
     "name": "stdout",
     "output_type": "stream",
     "text": [
      "Téléchargement des données pour CTAS de 2025-10-04 00:00:00 à 2025-10-07 00:00:00\n",
      "Téléchargement des données pour CTSH de 2025-10-04 00:00:00 à 2025-10-07 00:00:00\n"
     ]
    },
    {
     "name": "stderr",
     "output_type": "stream",
     "text": [
      "[*********************100%***********************]  1 of 1 completed\n",
      "[*********************100%***********************]  1 of 1 completed\n"
     ]
    },
    {
     "name": "stdout",
     "output_type": "stream",
     "text": [
      "Téléchargement des données pour DASH de 2025-10-04 00:00:00 à 2025-10-07 00:00:00\n",
      "Téléchargement des données pour DDOG de 2025-10-04 00:00:00 à 2025-10-07 00:00:00\n"
     ]
    },
    {
     "name": "stderr",
     "output_type": "stream",
     "text": [
      "[*********************100%***********************]  1 of 1 completed\n",
      "[*********************100%***********************]  1 of 1 completed\n"
     ]
    },
    {
     "name": "stdout",
     "output_type": "stream",
     "text": [
      "Téléchargement des données pour DXCM de 2025-10-04 00:00:00 à 2025-10-07 00:00:00\n",
      "Téléchargement des données pour EA de 2025-10-04 00:00:00 à 2025-10-07 00:00:00\n"
     ]
    },
    {
     "name": "stderr",
     "output_type": "stream",
     "text": [
      "[*********************100%***********************]  1 of 1 completed\n",
      "[*********************100%***********************]  1 of 1 completed\n"
     ]
    },
    {
     "name": "stdout",
     "output_type": "stream",
     "text": [
      "Téléchargement des données pour EXC de 2025-10-04 00:00:00 à 2025-10-07 00:00:00\n",
      "Téléchargement des données pour FANG de 2025-10-04 00:00:00 à 2025-10-07 00:00:00\n"
     ]
    },
    {
     "name": "stderr",
     "output_type": "stream",
     "text": [
      "[*********************100%***********************]  1 of 1 completed\n",
      "[*********************100%***********************]  1 of 1 completed\n"
     ]
    },
    {
     "name": "stdout",
     "output_type": "stream",
     "text": [
      "Téléchargement des données pour FAST de 2025-10-04 00:00:00 à 2025-10-07 00:00:00\n",
      "Téléchargement des données pour FTNT de 2025-10-04 00:00:00 à 2025-10-07 00:00:00\n"
     ]
    },
    {
     "name": "stderr",
     "output_type": "stream",
     "text": [
      "[*********************100%***********************]  1 of 1 completed\n",
      "[*********************100%***********************]  1 of 1 completed\n",
      "[*********************100%***********************]  1 of 1 completed\n"
     ]
    },
    {
     "name": "stdout",
     "output_type": "stream",
     "text": [
      "Téléchargement des données pour GEHC de 2025-10-04 00:00:00 à 2025-10-07 00:00:00\n",
      "Téléchargement des données pour GFS de 2025-10-04 00:00:00 à 2025-10-07 00:00:00\n",
      "Téléchargement des données pour GILD de 2025-10-04 00:00:00 à 2025-10-07 00:00:00\n"
     ]
    },
    {
     "name": "stderr",
     "output_type": "stream",
     "text": [
      "[*********************100%***********************]  1 of 1 completed\n",
      "[*********************100%***********************]  1 of 1 completed\n"
     ]
    },
    {
     "name": "stdout",
     "output_type": "stream",
     "text": [
      "Téléchargement des données pour GOOG de 2025-10-04 00:00:00 à 2025-10-07 00:00:00\n",
      "Téléchargement des données pour HON de 2025-10-04 00:00:00 à 2025-10-07 00:00:00\n"
     ]
    },
    {
     "name": "stderr",
     "output_type": "stream",
     "text": [
      "[*********************100%***********************]  1 of 1 completed\n"
     ]
    },
    {
     "name": "stdout",
     "output_type": "stream",
     "text": [
      "Téléchargement des données pour I de 2025-10-04 00:00:00 à 2025-10-07 00:00:00\n"
     ]
    },
    {
     "name": "stderr",
     "output_type": "stream",
     "text": [
      "[*********************100%***********************]  1 of 1 completed\n",
      "\n",
      "1 Failed download:\n",
      "['I']: YFTzMissingError('possibly delisted; no timezone found')\n",
      "[*********************100%***********************]  1 of 1 completed\n"
     ]
    },
    {
     "name": "stdout",
     "output_type": "stream",
     "text": [
      "Téléchargement des données pour IDXX de 2025-10-04 00:00:00 à 2025-10-07 00:00:00\n",
      "Téléchargement des données pour INTC de 2025-10-04 00:00:00 à 2025-10-07 00:00:00\n"
     ]
    },
    {
     "name": "stderr",
     "output_type": "stream",
     "text": [
      "[*********************100%***********************]  1 of 1 completed\n",
      "[*********************100%***********************]  1 of 1 completed\n"
     ]
    },
    {
     "name": "stdout",
     "output_type": "stream",
     "text": [
      "Téléchargement des données pour INTU de 2025-10-04 00:00:00 à 2025-10-07 00:00:00\n",
      "Téléchargement des données pour ISRG de 2025-10-04 00:00:00 à 2025-10-07 00:00:00\n"
     ]
    },
    {
     "name": "stderr",
     "output_type": "stream",
     "text": [
      "[*********************100%***********************]  1 of 1 completed\n",
      "[*********************100%***********************]  1 of 1 completed\n"
     ]
    },
    {
     "name": "stdout",
     "output_type": "stream",
     "text": [
      "Téléchargement des données pour KDP de 2025-10-04 00:00:00 à 2025-10-07 00:00:00\n",
      "Téléchargement des données pour KHC de 2025-10-04 00:00:00 à 2025-10-07 00:00:00\n"
     ]
    },
    {
     "name": "stderr",
     "output_type": "stream",
     "text": [
      "[*********************100%***********************]  1 of 1 completed\n",
      "[*********************100%***********************]  1 of 1 completed\n"
     ]
    },
    {
     "name": "stdout",
     "output_type": "stream",
     "text": [
      "Téléchargement des données pour KLAC de 2025-10-04 00:00:00 à 2025-10-07 00:00:00\n",
      "Téléchargement des données pour LIN de 2025-10-04 00:00:00 à 2025-10-07 00:00:00\n"
     ]
    },
    {
     "name": "stderr",
     "output_type": "stream",
     "text": [
      "[*********************100%***********************]  1 of 1 completed\n",
      "[*********************100%***********************]  1 of 1 completed\n"
     ]
    },
    {
     "name": "stdout",
     "output_type": "stream",
     "text": [
      "Téléchargement des données pour LRCX de 2025-10-04 00:00:00 à 2025-10-07 00:00:00\n",
      "Téléchargement des données pour LULU de 2025-10-04 00:00:00 à 2025-10-07 00:00:00\n"
     ]
    },
    {
     "name": "stderr",
     "output_type": "stream",
     "text": [
      "[*********************100%***********************]  1 of 1 completed\n",
      "[*********************100%***********************]  1 of 1 completed\n"
     ]
    },
    {
     "name": "stdout",
     "output_type": "stream",
     "text": [
      "Téléchargement des données pour MAR de 2025-10-04 00:00:00 à 2025-10-07 00:00:00\n",
      "Téléchargement des données pour MCHP de 2025-10-04 00:00:00 à 2025-10-07 00:00:00\n"
     ]
    },
    {
     "name": "stderr",
     "output_type": "stream",
     "text": [
      "[*********************100%***********************]  1 of 1 completed\n",
      "[*********************100%***********************]  1 of 1 completed\n"
     ]
    },
    {
     "name": "stdout",
     "output_type": "stream",
     "text": [
      "Téléchargement des données pour MDLZ de 2025-10-04 00:00:00 à 2025-10-07 00:00:00\n",
      "Téléchargement des données pour MELI de 2025-10-04 00:00:00 à 2025-10-07 00:00:00\n"
     ]
    },
    {
     "name": "stderr",
     "output_type": "stream",
     "text": [
      "[*********************100%***********************]  1 of 1 completed\n",
      "[*********************100%***********************]  1 of 1 completed\n"
     ]
    },
    {
     "name": "stdout",
     "output_type": "stream",
     "text": [
      "Téléchargement des données pour META de 2025-10-04 00:00:00 à 2025-10-07 00:00:00\n",
      "Téléchargement des données pour MNST de 2025-10-04 00:00:00 à 2025-10-07 00:00:00\n"
     ]
    },
    {
     "name": "stderr",
     "output_type": "stream",
     "text": [
      "[*********************100%***********************]  1 of 1 completed\n",
      "[*********************100%***********************]  1 of 1 completed\n"
     ]
    },
    {
     "name": "stdout",
     "output_type": "stream",
     "text": [
      "Téléchargement des données pour MRVL de 2025-10-04 00:00:00 à 2025-10-07 00:00:00\n",
      "Téléchargement des données pour MSFT de 2025-10-04 00:00:00 à 2025-10-07 00:00:00\n"
     ]
    },
    {
     "name": "stderr",
     "output_type": "stream",
     "text": [
      "[*********************100%***********************]  1 of 1 completed\n",
      "[*********************100%***********************]  1 of 1 completed\n"
     ]
    },
    {
     "name": "stdout",
     "output_type": "stream",
     "text": [
      "Téléchargement des données pour MSTR de 2025-10-04 00:00:00 à 2025-10-07 00:00:00\n",
      "Téléchargement des données pour MU de 2025-10-04 00:00:00 à 2025-10-07 00:00:00\n"
     ]
    },
    {
     "name": "stderr",
     "output_type": "stream",
     "text": [
      "[*********************100%***********************]  1 of 1 completed\n",
      "[*********************100%***********************]  1 of 1 completed\n"
     ]
    },
    {
     "name": "stdout",
     "output_type": "stream",
     "text": [
      "Téléchargement des données pour NFLX de 2025-10-04 00:00:00 à 2025-10-07 00:00:00\n",
      "Téléchargement des données pour NVDA de 2025-10-04 00:00:00 à 2025-10-07 00:00:00\n"
     ]
    },
    {
     "name": "stderr",
     "output_type": "stream",
     "text": [
      "[*********************100%***********************]  1 of 1 completed\n",
      "[*********************100%***********************]  1 of 1 completed\n"
     ]
    },
    {
     "name": "stdout",
     "output_type": "stream",
     "text": [
      "Téléchargement des données pour NXPI de 2025-10-04 00:00:00 à 2025-10-07 00:00:00\n",
      "Téléchargement des données pour ODFL de 2025-10-04 00:00:00 à 2025-10-07 00:00:00\n"
     ]
    },
    {
     "name": "stderr",
     "output_type": "stream",
     "text": [
      "[*********************100%***********************]  1 of 1 completed\n",
      "[*********************100%***********************]  1 of 1 completed\n",
      "[*********************100%***********************]  1 of 1 completed\n"
     ]
    },
    {
     "name": "stdout",
     "output_type": "stream",
     "text": [
      "Téléchargement des données pour ON de 2025-10-04 00:00:00 à 2025-10-07 00:00:00\n",
      "Téléchargement des données pour ORLY de 2025-10-04 00:00:00 à 2025-10-07 00:00:00\n",
      "Téléchargement des données pour PANW de 2025-10-04 00:00:00 à 2025-10-07 00:00:00\n"
     ]
    },
    {
     "name": "stderr",
     "output_type": "stream",
     "text": [
      "[*********************100%***********************]  1 of 1 completed\n",
      "[*********************100%***********************]  1 of 1 completed\n"
     ]
    },
    {
     "name": "stdout",
     "output_type": "stream",
     "text": [
      "Téléchargement des données pour PAYX de 2025-10-04 00:00:00 à 2025-10-07 00:00:00\n",
      "Téléchargement des données pour PCAR de 2025-10-04 00:00:00 à 2025-10-07 00:00:00\n"
     ]
    },
    {
     "name": "stderr",
     "output_type": "stream",
     "text": [
      "[*********************100%***********************]  1 of 1 completed\n",
      "[*********************100%***********************]  1 of 1 completed\n"
     ]
    },
    {
     "name": "stdout",
     "output_type": "stream",
     "text": [
      "Téléchargement des données pour PDD de 2025-10-04 00:00:00 à 2025-10-07 00:00:00\n",
      "Téléchargement des données pour PEP de 2025-10-04 00:00:00 à 2025-10-07 00:00:00\n"
     ]
    },
    {
     "name": "stderr",
     "output_type": "stream",
     "text": [
      "[*********************100%***********************]  1 of 1 completed\n",
      "[*********************100%***********************]  1 of 1 completed\n"
     ]
    },
    {
     "name": "stdout",
     "output_type": "stream",
     "text": [
      "Téléchargement des données pour PLTR de 2025-10-04 00:00:00 à 2025-10-07 00:00:00\n",
      "Téléchargement des données pour PYPL de 2025-10-04 00:00:00 à 2025-10-07 00:00:00\n"
     ]
    },
    {
     "name": "stderr",
     "output_type": "stream",
     "text": [
      "[*********************100%***********************]  1 of 1 completed\n",
      "[*********************100%***********************]  1 of 1 completed\n"
     ]
    },
    {
     "name": "stdout",
     "output_type": "stream",
     "text": [
      "Téléchargement des données pour QCOM de 2025-10-04 00:00:00 à 2025-10-07 00:00:00\n",
      "Téléchargement des données pour R de 2025-10-04 00:00:00 à 2025-10-07 00:00:00\n"
     ]
    },
    {
     "name": "stderr",
     "output_type": "stream",
     "text": [
      "[*********************100%***********************]  1 of 1 completed\n",
      "[*********************100%***********************]  1 of 1 completed\n"
     ]
    },
    {
     "name": "stdout",
     "output_type": "stream",
     "text": [
      "Téléchargement des données pour REGN de 2025-10-04 00:00:00 à 2025-10-07 00:00:00\n",
      "Téléchargement des données pour ROP de 2025-10-04 00:00:00 à 2025-10-07 00:00:00\n"
     ]
    },
    {
     "name": "stderr",
     "output_type": "stream",
     "text": [
      "[*********************100%***********************]  1 of 1 completed\n",
      "[*********************100%***********************]  1 of 1 completed\n"
     ]
    },
    {
     "name": "stdout",
     "output_type": "stream",
     "text": [
      "Téléchargement des données pour ROST de 2025-10-04 00:00:00 à 2025-10-07 00:00:00\n",
      "Téléchargement des données pour SBUX de 2025-10-04 00:00:00 à 2025-10-07 00:00:00\n"
     ]
    },
    {
     "name": "stderr",
     "output_type": "stream",
     "text": [
      "[*********************100%***********************]  1 of 1 completed\n",
      "[*********************100%***********************]  1 of 1 completed\n"
     ]
    },
    {
     "name": "stdout",
     "output_type": "stream",
     "text": [
      "Téléchargement des données pour SHOP de 2025-10-04 00:00:00 à 2025-10-07 00:00:00\n",
      "Téléchargement des données pour SNPS de 2025-10-04 00:00:00 à 2025-10-07 00:00:00\n"
     ]
    },
    {
     "name": "stderr",
     "output_type": "stream",
     "text": [
      "[*********************100%***********************]  1 of 1 completed\n",
      "[*********************100%***********************]  1 of 1 completed\n"
     ]
    },
    {
     "name": "stdout",
     "output_type": "stream",
     "text": [
      "Téléchargement des données pour T de 2025-10-04 00:00:00 à 2025-10-07 00:00:00\n",
      "Téléchargement des données pour TEAM de 2025-10-04 00:00:00 à 2025-10-07 00:00:00\n"
     ]
    },
    {
     "name": "stderr",
     "output_type": "stream",
     "text": [
      "[*********************100%***********************]  1 of 1 completed\n",
      "[*********************100%***********************]  1 of 1 completed\n"
     ]
    },
    {
     "name": "stdout",
     "output_type": "stream",
     "text": [
      "Téléchargement des données pour TMUS de 2025-10-04 00:00:00 à 2025-10-07 00:00:00\n",
      "Téléchargement des données pour TRI de 2025-10-04 00:00:00 à 2025-10-07 00:00:00\n"
     ]
    },
    {
     "name": "stderr",
     "output_type": "stream",
     "text": [
      "[*********************100%***********************]  1 of 1 completed\n",
      "[*********************100%***********************]  1 of 1 completed\n"
     ]
    },
    {
     "name": "stdout",
     "output_type": "stream",
     "text": [
      "Téléchargement des données pour TSLA de 2025-10-04 00:00:00 à 2025-10-07 00:00:00\n",
      "Téléchargement des données pour TTD de 2025-10-04 00:00:00 à 2025-10-07 00:00:00\n"
     ]
    },
    {
     "name": "stderr",
     "output_type": "stream",
     "text": [
      "[*********************100%***********************]  1 of 1 completed\n",
      "[*********************100%***********************]  1 of 1 completed\n"
     ]
    },
    {
     "name": "stdout",
     "output_type": "stream",
     "text": [
      "Téléchargement des données pour TTWO de 2025-10-04 00:00:00 à 2025-10-07 00:00:00\n",
      "Téléchargement des données pour TXN de 2025-10-04 00:00:00 à 2025-10-07 00:00:00\n"
     ]
    },
    {
     "name": "stderr",
     "output_type": "stream",
     "text": [
      "[*********************100%***********************]  1 of 1 completed\n",
      "[*********************100%***********************]  1 of 1 completed\n",
      "[*********************100%***********************]  1 of 1 completed"
     ]
    },
    {
     "name": "stdout",
     "output_type": "stream",
     "text": [
      "Téléchargement des données pour VRTX de 2025-10-04 00:00:00 à 2025-10-07 00:00:00\n",
      "Téléchargement des données pour WBD de 2025-10-04 00:00:00 à 2025-10-07 00:00:00\n"
     ]
    },
    {
     "name": "stderr",
     "output_type": "stream",
     "text": [
      "\n",
      "[*********************100%***********************]  1 of 1 completed\n"
     ]
    },
    {
     "name": "stdout",
     "output_type": "stream",
     "text": [
      "Téléchargement des données pour WDAY de 2025-10-04 00:00:00 à 2025-10-07 00:00:00\n",
      "Téléchargement des données pour XEL de 2025-10-04 00:00:00 à 2025-10-07 00:00:00\n"
     ]
    },
    {
     "name": "stderr",
     "output_type": "stream",
     "text": [
      "[*********************100%***********************]  1 of 1 completed\n",
      "[*********************100%***********************]  1 of 1 completed"
     ]
    },
    {
     "name": "stdout",
     "output_type": "stream",
     "text": [
      "Téléchargement des données pour ZS de 2025-10-04 00:00:00 à 2025-10-07 00:00:00\n"
     ]
    },
    {
     "name": "stderr",
     "output_type": "stream",
     "text": [
      "\n"
     ]
    },
    {
     "data": {
      "text/plain": [
       "Price            Close        High         Low        Open      Volume Ticker  \\\n",
       "Date                                                                            \n",
       "2025-10-06  256.690002  259.070007  255.050003  257.989990  44292200.0   AAPL   \n",
       "2025-10-06  120.349998  123.150002  120.050003  120.730003   5469000.0   ABNB   \n",
       "2025-10-06  350.140015  357.339996  342.040009  346.929993   5326600.0   ADBE   \n",
       "2025-10-06  242.500000  245.009995  238.919998  245.009995   3863100.0    ADI   \n",
       "2025-10-06  290.549988  291.950012  288.489990  291.500000   1703700.0    ADP   \n",
       "...                ...         ...         ...         ...         ...    ...   \n",
       "2025-10-06  402.899994  405.450012  400.739990  404.660004   1191100.0   VRTX   \n",
       "2025-10-06   19.080000   19.180000   18.879999   19.030001  17518400.0    WBD   \n",
       "2025-10-06  238.360001  243.949997  234.690002  235.660004   2253000.0   WDAY   \n",
       "2025-10-06   81.000000   81.279999   79.889999   80.410004   4082600.0    XEL   \n",
       "2025-10-06  305.239990  311.000000  303.769989  307.399994    981200.0     ZS   \n",
       "\n",
       "Price       Adj Close  \n",
       "Date                   \n",
       "2025-10-06        NaN  \n",
       "2025-10-06        NaN  \n",
       "2025-10-06        NaN  \n",
       "2025-10-06        NaN  \n",
       "2025-10-06        NaN  \n",
       "...               ...  \n",
       "2025-10-06        NaN  \n",
       "2025-10-06        NaN  \n",
       "2025-10-06        NaN  \n",
       "2025-10-06        NaN  \n",
       "2025-10-06        NaN  \n",
       "\n",
       "[99 rows x 7 columns]"
      ],
      "text/html": [
       "<div>\n",
       "<style scoped>\n",
       "    .dataframe tbody tr th:only-of-type {\n",
       "        vertical-align: middle;\n",
       "    }\n",
       "\n",
       "    .dataframe tbody tr th {\n",
       "        vertical-align: top;\n",
       "    }\n",
       "\n",
       "    .dataframe thead th {\n",
       "        text-align: right;\n",
       "    }\n",
       "</style>\n",
       "<table border=\"1\" class=\"dataframe\">\n",
       "  <thead>\n",
       "    <tr style=\"text-align: right;\">\n",
       "      <th>Price</th>\n",
       "      <th>Close</th>\n",
       "      <th>High</th>\n",
       "      <th>Low</th>\n",
       "      <th>Open</th>\n",
       "      <th>Volume</th>\n",
       "      <th>Ticker</th>\n",
       "      <th>Adj Close</th>\n",
       "    </tr>\n",
       "    <tr>\n",
       "      <th>Date</th>\n",
       "      <th></th>\n",
       "      <th></th>\n",
       "      <th></th>\n",
       "      <th></th>\n",
       "      <th></th>\n",
       "      <th></th>\n",
       "      <th></th>\n",
       "    </tr>\n",
       "  </thead>\n",
       "  <tbody>\n",
       "    <tr>\n",
       "      <th>2025-10-06</th>\n",
       "      <td>256.690002</td>\n",
       "      <td>259.070007</td>\n",
       "      <td>255.050003</td>\n",
       "      <td>257.989990</td>\n",
       "      <td>44292200.0</td>\n",
       "      <td>AAPL</td>\n",
       "      <td>NaN</td>\n",
       "    </tr>\n",
       "    <tr>\n",
       "      <th>2025-10-06</th>\n",
       "      <td>120.349998</td>\n",
       "      <td>123.150002</td>\n",
       "      <td>120.050003</td>\n",
       "      <td>120.730003</td>\n",
       "      <td>5469000.0</td>\n",
       "      <td>ABNB</td>\n",
       "      <td>NaN</td>\n",
       "    </tr>\n",
       "    <tr>\n",
       "      <th>2025-10-06</th>\n",
       "      <td>350.140015</td>\n",
       "      <td>357.339996</td>\n",
       "      <td>342.040009</td>\n",
       "      <td>346.929993</td>\n",
       "      <td>5326600.0</td>\n",
       "      <td>ADBE</td>\n",
       "      <td>NaN</td>\n",
       "    </tr>\n",
       "    <tr>\n",
       "      <th>2025-10-06</th>\n",
       "      <td>242.500000</td>\n",
       "      <td>245.009995</td>\n",
       "      <td>238.919998</td>\n",
       "      <td>245.009995</td>\n",
       "      <td>3863100.0</td>\n",
       "      <td>ADI</td>\n",
       "      <td>NaN</td>\n",
       "    </tr>\n",
       "    <tr>\n",
       "      <th>2025-10-06</th>\n",
       "      <td>290.549988</td>\n",
       "      <td>291.950012</td>\n",
       "      <td>288.489990</td>\n",
       "      <td>291.500000</td>\n",
       "      <td>1703700.0</td>\n",
       "      <td>ADP</td>\n",
       "      <td>NaN</td>\n",
       "    </tr>\n",
       "    <tr>\n",
       "      <th>...</th>\n",
       "      <td>...</td>\n",
       "      <td>...</td>\n",
       "      <td>...</td>\n",
       "      <td>...</td>\n",
       "      <td>...</td>\n",
       "      <td>...</td>\n",
       "      <td>...</td>\n",
       "    </tr>\n",
       "    <tr>\n",
       "      <th>2025-10-06</th>\n",
       "      <td>402.899994</td>\n",
       "      <td>405.450012</td>\n",
       "      <td>400.739990</td>\n",
       "      <td>404.660004</td>\n",
       "      <td>1191100.0</td>\n",
       "      <td>VRTX</td>\n",
       "      <td>NaN</td>\n",
       "    </tr>\n",
       "    <tr>\n",
       "      <th>2025-10-06</th>\n",
       "      <td>19.080000</td>\n",
       "      <td>19.180000</td>\n",
       "      <td>18.879999</td>\n",
       "      <td>19.030001</td>\n",
       "      <td>17518400.0</td>\n",
       "      <td>WBD</td>\n",
       "      <td>NaN</td>\n",
       "    </tr>\n",
       "    <tr>\n",
       "      <th>2025-10-06</th>\n",
       "      <td>238.360001</td>\n",
       "      <td>243.949997</td>\n",
       "      <td>234.690002</td>\n",
       "      <td>235.660004</td>\n",
       "      <td>2253000.0</td>\n",
       "      <td>WDAY</td>\n",
       "      <td>NaN</td>\n",
       "    </tr>\n",
       "    <tr>\n",
       "      <th>2025-10-06</th>\n",
       "      <td>81.000000</td>\n",
       "      <td>81.279999</td>\n",
       "      <td>79.889999</td>\n",
       "      <td>80.410004</td>\n",
       "      <td>4082600.0</td>\n",
       "      <td>XEL</td>\n",
       "      <td>NaN</td>\n",
       "    </tr>\n",
       "    <tr>\n",
       "      <th>2025-10-06</th>\n",
       "      <td>305.239990</td>\n",
       "      <td>311.000000</td>\n",
       "      <td>303.769989</td>\n",
       "      <td>307.399994</td>\n",
       "      <td>981200.0</td>\n",
       "      <td>ZS</td>\n",
       "      <td>NaN</td>\n",
       "    </tr>\n",
       "  </tbody>\n",
       "</table>\n",
       "<p>99 rows × 7 columns</p>\n",
       "</div>"
      ]
     },
     "execution_count": 14,
     "metadata": {},
     "output_type": "execute_result"
    }
   ],
   "execution_count": 14
  },
  {
   "metadata": {
    "ExecuteTime": {
     "end_time": "2025-10-07T11:49:59.445597Z",
     "start_time": "2025-10-07T11:49:59.439220Z"
    }
   },
   "cell_type": "code",
   "source": [
    "data_SP500 = data_SP500.reset_index()\n",
    "data_SP500"
   ],
   "id": "54fdf214b890458f",
   "outputs": [
    {
     "data": {
      "text/plain": [
       "Price       Date       Close        High         Low        Open      Volume  \\\n",
       "0     2025-10-06  256.690002  259.070007  255.050003  257.989990  44292200.0   \n",
       "1     2025-10-06  120.349998  123.150002  120.050003  120.730003   5469000.0   \n",
       "2     2025-10-06  350.140015  357.339996  342.040009  346.929993   5326600.0   \n",
       "3     2025-10-06  242.500000  245.009995  238.919998  245.009995   3863100.0   \n",
       "4     2025-10-06  290.549988  291.950012  288.489990  291.500000   1703700.0   \n",
       "..           ...         ...         ...         ...         ...         ...   \n",
       "94    2025-10-06  402.899994  405.450012  400.739990  404.660004   1191100.0   \n",
       "95    2025-10-06   19.080000   19.180000   18.879999   19.030001  17518400.0   \n",
       "96    2025-10-06  238.360001  243.949997  234.690002  235.660004   2253000.0   \n",
       "97    2025-10-06   81.000000   81.279999   79.889999   80.410004   4082600.0   \n",
       "98    2025-10-06  305.239990  311.000000  303.769989  307.399994    981200.0   \n",
       "\n",
       "Price Ticker  Adj Close  \n",
       "0       AAPL        NaN  \n",
       "1       ABNB        NaN  \n",
       "2       ADBE        NaN  \n",
       "3        ADI        NaN  \n",
       "4        ADP        NaN  \n",
       "..       ...        ...  \n",
       "94      VRTX        NaN  \n",
       "95       WBD        NaN  \n",
       "96      WDAY        NaN  \n",
       "97       XEL        NaN  \n",
       "98        ZS        NaN  \n",
       "\n",
       "[99 rows x 8 columns]"
      ],
      "text/html": [
       "<div>\n",
       "<style scoped>\n",
       "    .dataframe tbody tr th:only-of-type {\n",
       "        vertical-align: middle;\n",
       "    }\n",
       "\n",
       "    .dataframe tbody tr th {\n",
       "        vertical-align: top;\n",
       "    }\n",
       "\n",
       "    .dataframe thead th {\n",
       "        text-align: right;\n",
       "    }\n",
       "</style>\n",
       "<table border=\"1\" class=\"dataframe\">\n",
       "  <thead>\n",
       "    <tr style=\"text-align: right;\">\n",
       "      <th>Price</th>\n",
       "      <th>Date</th>\n",
       "      <th>Close</th>\n",
       "      <th>High</th>\n",
       "      <th>Low</th>\n",
       "      <th>Open</th>\n",
       "      <th>Volume</th>\n",
       "      <th>Ticker</th>\n",
       "      <th>Adj Close</th>\n",
       "    </tr>\n",
       "  </thead>\n",
       "  <tbody>\n",
       "    <tr>\n",
       "      <th>0</th>\n",
       "      <td>2025-10-06</td>\n",
       "      <td>256.690002</td>\n",
       "      <td>259.070007</td>\n",
       "      <td>255.050003</td>\n",
       "      <td>257.989990</td>\n",
       "      <td>44292200.0</td>\n",
       "      <td>AAPL</td>\n",
       "      <td>NaN</td>\n",
       "    </tr>\n",
       "    <tr>\n",
       "      <th>1</th>\n",
       "      <td>2025-10-06</td>\n",
       "      <td>120.349998</td>\n",
       "      <td>123.150002</td>\n",
       "      <td>120.050003</td>\n",
       "      <td>120.730003</td>\n",
       "      <td>5469000.0</td>\n",
       "      <td>ABNB</td>\n",
       "      <td>NaN</td>\n",
       "    </tr>\n",
       "    <tr>\n",
       "      <th>2</th>\n",
       "      <td>2025-10-06</td>\n",
       "      <td>350.140015</td>\n",
       "      <td>357.339996</td>\n",
       "      <td>342.040009</td>\n",
       "      <td>346.929993</td>\n",
       "      <td>5326600.0</td>\n",
       "      <td>ADBE</td>\n",
       "      <td>NaN</td>\n",
       "    </tr>\n",
       "    <tr>\n",
       "      <th>3</th>\n",
       "      <td>2025-10-06</td>\n",
       "      <td>242.500000</td>\n",
       "      <td>245.009995</td>\n",
       "      <td>238.919998</td>\n",
       "      <td>245.009995</td>\n",
       "      <td>3863100.0</td>\n",
       "      <td>ADI</td>\n",
       "      <td>NaN</td>\n",
       "    </tr>\n",
       "    <tr>\n",
       "      <th>4</th>\n",
       "      <td>2025-10-06</td>\n",
       "      <td>290.549988</td>\n",
       "      <td>291.950012</td>\n",
       "      <td>288.489990</td>\n",
       "      <td>291.500000</td>\n",
       "      <td>1703700.0</td>\n",
       "      <td>ADP</td>\n",
       "      <td>NaN</td>\n",
       "    </tr>\n",
       "    <tr>\n",
       "      <th>...</th>\n",
       "      <td>...</td>\n",
       "      <td>...</td>\n",
       "      <td>...</td>\n",
       "      <td>...</td>\n",
       "      <td>...</td>\n",
       "      <td>...</td>\n",
       "      <td>...</td>\n",
       "      <td>...</td>\n",
       "    </tr>\n",
       "    <tr>\n",
       "      <th>94</th>\n",
       "      <td>2025-10-06</td>\n",
       "      <td>402.899994</td>\n",
       "      <td>405.450012</td>\n",
       "      <td>400.739990</td>\n",
       "      <td>404.660004</td>\n",
       "      <td>1191100.0</td>\n",
       "      <td>VRTX</td>\n",
       "      <td>NaN</td>\n",
       "    </tr>\n",
       "    <tr>\n",
       "      <th>95</th>\n",
       "      <td>2025-10-06</td>\n",
       "      <td>19.080000</td>\n",
       "      <td>19.180000</td>\n",
       "      <td>18.879999</td>\n",
       "      <td>19.030001</td>\n",
       "      <td>17518400.0</td>\n",
       "      <td>WBD</td>\n",
       "      <td>NaN</td>\n",
       "    </tr>\n",
       "    <tr>\n",
       "      <th>96</th>\n",
       "      <td>2025-10-06</td>\n",
       "      <td>238.360001</td>\n",
       "      <td>243.949997</td>\n",
       "      <td>234.690002</td>\n",
       "      <td>235.660004</td>\n",
       "      <td>2253000.0</td>\n",
       "      <td>WDAY</td>\n",
       "      <td>NaN</td>\n",
       "    </tr>\n",
       "    <tr>\n",
       "      <th>97</th>\n",
       "      <td>2025-10-06</td>\n",
       "      <td>81.000000</td>\n",
       "      <td>81.279999</td>\n",
       "      <td>79.889999</td>\n",
       "      <td>80.410004</td>\n",
       "      <td>4082600.0</td>\n",
       "      <td>XEL</td>\n",
       "      <td>NaN</td>\n",
       "    </tr>\n",
       "    <tr>\n",
       "      <th>98</th>\n",
       "      <td>2025-10-06</td>\n",
       "      <td>305.239990</td>\n",
       "      <td>311.000000</td>\n",
       "      <td>303.769989</td>\n",
       "      <td>307.399994</td>\n",
       "      <td>981200.0</td>\n",
       "      <td>ZS</td>\n",
       "      <td>NaN</td>\n",
       "    </tr>\n",
       "  </tbody>\n",
       "</table>\n",
       "<p>99 rows × 8 columns</p>\n",
       "</div>"
      ]
     },
     "execution_count": 15,
     "metadata": {},
     "output_type": "execute_result"
    }
   ],
   "execution_count": 15
  },
  {
   "metadata": {
    "ExecuteTime": {
     "end_time": "2025-10-07T11:49:59.482578Z",
     "start_time": "2025-10-07T11:49:59.471279Z"
    }
   },
   "cell_type": "code",
   "source": [
    "df_concat = pd.concat([data_SP500, data_SP500_old])\n",
    "df_concat"
   ],
   "id": "98ab86e6f982813f",
   "outputs": [
    {
     "data": {
      "text/plain": [
       "Price       Date        Close         High          Low         Open  \\\n",
       "0     2025-10-06   256.690002   259.070007   255.050003   257.989990   \n",
       "1     2025-10-06   120.349998   123.150002   120.050003   120.730003   \n",
       "2     2025-10-06   350.140015   357.339996   342.040009   346.929993   \n",
       "3     2025-10-06   242.500000   245.009995   238.919998   245.009995   \n",
       "4     2025-10-06   290.549988   291.950012   288.489990   291.500000   \n",
       "..           ...          ...          ...          ...          ...   \n",
       "200   2025-10-03   187.619995   190.360001   185.380005   189.190002   \n",
       "98    2025-10-03   271.220001   272.440002   268.140015   270.000000   \n",
       "197   2025-10-03  1153.319946  1168.000000  1143.219971  1165.000000   \n",
       "59    2025-10-03   347.269989   353.149994   345.000000   347.239990   \n",
       "296   2025-10-03   305.410004   309.790009   301.709991   308.070007   \n",
       "\n",
       "Price       Volume Ticker  Adj Close  \n",
       "0       44292200.0   AAPL        NaN  \n",
       "1        5469000.0   ABNB        NaN  \n",
       "2        5326600.0   ADBE        NaN  \n",
       "3        3863100.0    ADI        NaN  \n",
       "4        1703700.0    ADP        NaN  \n",
       "..             ...    ...        ...  \n",
       "200    137340500.0   NVDA        NaN  \n",
       "98       2417200.0   DASH        NaN  \n",
       "197      3133100.0   NFLX        NaN  \n",
       "59       1056300.0   CDNS        NaN  \n",
       "296       977600.0     ZS        NaN  \n",
       "\n",
       "[432358 rows x 8 columns]"
      ],
      "text/html": [
       "<div>\n",
       "<style scoped>\n",
       "    .dataframe tbody tr th:only-of-type {\n",
       "        vertical-align: middle;\n",
       "    }\n",
       "\n",
       "    .dataframe tbody tr th {\n",
       "        vertical-align: top;\n",
       "    }\n",
       "\n",
       "    .dataframe thead th {\n",
       "        text-align: right;\n",
       "    }\n",
       "</style>\n",
       "<table border=\"1\" class=\"dataframe\">\n",
       "  <thead>\n",
       "    <tr style=\"text-align: right;\">\n",
       "      <th>Price</th>\n",
       "      <th>Date</th>\n",
       "      <th>Close</th>\n",
       "      <th>High</th>\n",
       "      <th>Low</th>\n",
       "      <th>Open</th>\n",
       "      <th>Volume</th>\n",
       "      <th>Ticker</th>\n",
       "      <th>Adj Close</th>\n",
       "    </tr>\n",
       "  </thead>\n",
       "  <tbody>\n",
       "    <tr>\n",
       "      <th>0</th>\n",
       "      <td>2025-10-06</td>\n",
       "      <td>256.690002</td>\n",
       "      <td>259.070007</td>\n",
       "      <td>255.050003</td>\n",
       "      <td>257.989990</td>\n",
       "      <td>44292200.0</td>\n",
       "      <td>AAPL</td>\n",
       "      <td>NaN</td>\n",
       "    </tr>\n",
       "    <tr>\n",
       "      <th>1</th>\n",
       "      <td>2025-10-06</td>\n",
       "      <td>120.349998</td>\n",
       "      <td>123.150002</td>\n",
       "      <td>120.050003</td>\n",
       "      <td>120.730003</td>\n",
       "      <td>5469000.0</td>\n",
       "      <td>ABNB</td>\n",
       "      <td>NaN</td>\n",
       "    </tr>\n",
       "    <tr>\n",
       "      <th>2</th>\n",
       "      <td>2025-10-06</td>\n",
       "      <td>350.140015</td>\n",
       "      <td>357.339996</td>\n",
       "      <td>342.040009</td>\n",
       "      <td>346.929993</td>\n",
       "      <td>5326600.0</td>\n",
       "      <td>ADBE</td>\n",
       "      <td>NaN</td>\n",
       "    </tr>\n",
       "    <tr>\n",
       "      <th>3</th>\n",
       "      <td>2025-10-06</td>\n",
       "      <td>242.500000</td>\n",
       "      <td>245.009995</td>\n",
       "      <td>238.919998</td>\n",
       "      <td>245.009995</td>\n",
       "      <td>3863100.0</td>\n",
       "      <td>ADI</td>\n",
       "      <td>NaN</td>\n",
       "    </tr>\n",
       "    <tr>\n",
       "      <th>4</th>\n",
       "      <td>2025-10-06</td>\n",
       "      <td>290.549988</td>\n",
       "      <td>291.950012</td>\n",
       "      <td>288.489990</td>\n",
       "      <td>291.500000</td>\n",
       "      <td>1703700.0</td>\n",
       "      <td>ADP</td>\n",
       "      <td>NaN</td>\n",
       "    </tr>\n",
       "    <tr>\n",
       "      <th>...</th>\n",
       "      <td>...</td>\n",
       "      <td>...</td>\n",
       "      <td>...</td>\n",
       "      <td>...</td>\n",
       "      <td>...</td>\n",
       "      <td>...</td>\n",
       "      <td>...</td>\n",
       "      <td>...</td>\n",
       "    </tr>\n",
       "    <tr>\n",
       "      <th>200</th>\n",
       "      <td>2025-10-03</td>\n",
       "      <td>187.619995</td>\n",
       "      <td>190.360001</td>\n",
       "      <td>185.380005</td>\n",
       "      <td>189.190002</td>\n",
       "      <td>137340500.0</td>\n",
       "      <td>NVDA</td>\n",
       "      <td>NaN</td>\n",
       "    </tr>\n",
       "    <tr>\n",
       "      <th>98</th>\n",
       "      <td>2025-10-03</td>\n",
       "      <td>271.220001</td>\n",
       "      <td>272.440002</td>\n",
       "      <td>268.140015</td>\n",
       "      <td>270.000000</td>\n",
       "      <td>2417200.0</td>\n",
       "      <td>DASH</td>\n",
       "      <td>NaN</td>\n",
       "    </tr>\n",
       "    <tr>\n",
       "      <th>197</th>\n",
       "      <td>2025-10-03</td>\n",
       "      <td>1153.319946</td>\n",
       "      <td>1168.000000</td>\n",
       "      <td>1143.219971</td>\n",
       "      <td>1165.000000</td>\n",
       "      <td>3133100.0</td>\n",
       "      <td>NFLX</td>\n",
       "      <td>NaN</td>\n",
       "    </tr>\n",
       "    <tr>\n",
       "      <th>59</th>\n",
       "      <td>2025-10-03</td>\n",
       "      <td>347.269989</td>\n",
       "      <td>353.149994</td>\n",
       "      <td>345.000000</td>\n",
       "      <td>347.239990</td>\n",
       "      <td>1056300.0</td>\n",
       "      <td>CDNS</td>\n",
       "      <td>NaN</td>\n",
       "    </tr>\n",
       "    <tr>\n",
       "      <th>296</th>\n",
       "      <td>2025-10-03</td>\n",
       "      <td>305.410004</td>\n",
       "      <td>309.790009</td>\n",
       "      <td>301.709991</td>\n",
       "      <td>308.070007</td>\n",
       "      <td>977600.0</td>\n",
       "      <td>ZS</td>\n",
       "      <td>NaN</td>\n",
       "    </tr>\n",
       "  </tbody>\n",
       "</table>\n",
       "<p>432358 rows × 8 columns</p>\n",
       "</div>"
      ]
     },
     "execution_count": 16,
     "metadata": {},
     "output_type": "execute_result"
    }
   ],
   "execution_count": 16
  },
  {
   "metadata": {
    "ExecuteTime": {
     "end_time": "2025-10-07T11:49:59.519607Z",
     "start_time": "2025-10-07T11:49:59.493157Z"
    }
   },
   "cell_type": "code",
   "source": [
    "df_concat.sort_values(by=['Date'], ascending=True, inplace=True)\n",
    "df_concat.tail(50)"
   ],
   "id": "600040841afb92f6",
   "outputs": [
    {
     "data": {
      "text/plain": [
       "Price       Date        Close         High          Low         Open  \\\n",
       "49    2025-10-06    25.299999    25.830000    25.190001    25.799999   \n",
       "51    2025-10-06  1139.709961  1152.119995  1121.680054  1121.680054   \n",
       "77    2025-10-06    71.290001    71.870003    69.452003    70.220001   \n",
       "78    2025-10-06   168.619995   170.880005   167.720001   170.539993   \n",
       "79    2025-10-06   194.220001   195.479996   189.960007   192.919998   \n",
       "80    2025-10-06   585.479980   603.650024   584.409973   602.000000   \n",
       "81    2025-10-06   506.989990   507.359985   497.119995   501.899994   \n",
       "82    2025-10-06   152.259995   153.460007   151.199997   152.240005   \n",
       "83    2025-10-06    82.110001    86.290001    82.059998    86.290001   \n",
       "84    2025-10-06   164.500000   169.690002   162.809998   166.550003   \n",
       "85    2025-10-06   478.220001   481.230011   469.549988   471.989990   \n",
       "86    2025-10-06    25.870001    26.719999    25.840000    26.540001   \n",
       "87    2025-10-06   150.190002   156.774994   148.250000   151.770004   \n",
       "88    2025-10-06   224.960007   229.059998   222.259995   228.570007   \n",
       "89    2025-10-06   152.029999   154.240005   150.919998   154.240005   \n",
       "90    2025-10-06   453.250000   453.549988   436.690002   440.750000   \n",
       "91    2025-10-06    53.139999    53.740002    50.889999    52.389999   \n",
       "92    2025-10-06   256.980011   259.959991   256.100006   258.649994   \n",
       "93    2025-10-06   181.809998   183.229996   179.300003   181.000000   \n",
       "94    2025-10-06   402.899994   405.450012   400.739990   404.660004   \n",
       "95    2025-10-06    19.080000    19.180000    18.879999    19.030001   \n",
       "96    2025-10-06   238.360001   243.949997   234.690002   235.660004   \n",
       "97    2025-10-06    81.000000    81.279999    79.889999    80.410004   \n",
       "76    2025-10-06   179.529999   182.949997   177.830002   179.179993   \n",
       "50    2025-10-06    25.270000    25.959999    25.240000    25.910000   \n",
       "75    2025-10-06   139.699997   141.850006   138.880005   141.770004   \n",
       "73    2025-10-06    98.519997    99.580002    97.300003    98.160004   \n",
       "52    2025-10-06   468.549988   470.570007   465.100006   466.730011   \n",
       "53    2025-10-06   149.149994   153.699997   149.119995   149.899994   \n",
       "54    2025-10-06   174.119995   177.190002   172.300003   174.470001   \n",
       "55    2025-10-06   271.940002   273.100006   267.899994   269.170013   \n",
       "56    2025-10-06    66.589996    67.769997    64.349998    67.230003   \n",
       "57    2025-10-06    61.779999    62.549999    61.439999    62.549999   \n",
       "58    2025-10-06  2154.219971  2178.310059  2116.000000  2178.310059   \n",
       "59    2025-10-06   715.659973   716.880005   690.510010   705.190002   \n",
       "60    2025-10-06    67.089996    67.230003    66.330002    67.110001   \n",
       "61    2025-10-06    88.919998    90.250000    88.250000    88.849998   \n",
       "62    2025-10-06   528.570007   531.030029   518.200012   518.609985   \n",
       "63    2025-10-06   359.690002   365.209991   354.700012   362.950012   \n",
       "64    2025-10-06   190.960007   201.000000   189.429993   195.009995   \n",
       "65    2025-10-06  1163.310059  1163.579956  1145.449951  1160.369995   \n",
       "66    2025-10-06   185.539993   187.229996   183.330002   185.500000   \n",
       "67    2025-10-06   231.419998   234.000000   227.100006   232.059998   \n",
       "68    2025-10-06   142.820007   145.080002   140.039993   141.520004   \n",
       "69    2025-10-06    50.349998    50.700001    48.840000    50.130001   \n",
       "70    2025-10-06   103.300003   105.230003   102.529999   104.910004   \n",
       "71    2025-10-06   212.580002   213.850006   209.130005   209.369995   \n",
       "72    2025-10-06   124.370003   124.959999   123.260002   124.959999   \n",
       "74    2025-10-06   134.330002   135.360001   132.970001   134.279999   \n",
       "0     2025-10-06   256.690002   259.070007   255.050003   257.989990   \n",
       "\n",
       "Price       Volume Ticker  Adj Close  \n",
       "49      23702900.0    KDP        NaN  \n",
       "51        946000.0   KLAC        NaN  \n",
       "77      16586300.0   PYPL        NaN  \n",
       "78       8262100.0   QCOM        NaN  \n",
       "79        297300.0      R        NaN  \n",
       "80       1071900.0   REGN        NaN  \n",
       "81       1210200.0    ROP        NaN  \n",
       "82       2669700.0   ROST        NaN  \n",
       "83      14978700.0   SBUX        NaN  \n",
       "84      11311800.0   SHOP        NaN  \n",
       "85       1594400.0   SNPS        NaN  \n",
       "86      63433000.0      T        NaN  \n",
       "87       3914500.0   TEAM        NaN  \n",
       "88       6169500.0   TMUS        NaN  \n",
       "89       1398700.0    TRI        NaN  \n",
       "90      84866800.0   TSLA        NaN  \n",
       "91      12555400.0    TTD        NaN  \n",
       "92       1397100.0   TTWO        NaN  \n",
       "93       5951200.0    TXN        NaN  \n",
       "94       1191100.0   VRTX        NaN  \n",
       "95      17518400.0    WBD        NaN  \n",
       "96       2253000.0   WDAY        NaN  \n",
       "97       4082600.0    XEL        NaN  \n",
       "76      52383400.0   PLTR        NaN  \n",
       "50      12552200.0    KHC        NaN  \n",
       "75       6744100.0    PEP        NaN  \n",
       "73       3159000.0   PCAR        NaN  \n",
       "52       1539000.0    LIN        NaN  \n",
       "53      11212900.0   LRCX        NaN  \n",
       "54       3690300.0   LULU        NaN  \n",
       "55       2064700.0    MAR        NaN  \n",
       "56       6409000.0   MCHP        NaN  \n",
       "57       7882100.0   MDLZ        NaN  \n",
       "58        636600.0   MELI        NaN  \n",
       "59      21624300.0   META        NaN  \n",
       "60       3254000.0   MNST        NaN  \n",
       "61      20556500.0   MRVL        NaN  \n",
       "62      21365200.0   MSFT        NaN  \n",
       "63       9524000.0   MSTR        NaN  \n",
       "64      36333100.0     MU        NaN  \n",
       "65       2954800.0   NFLX        NaN  \n",
       "66     156436000.0   NVDA        NaN  \n",
       "67       1949000.0   NXPI        NaN  \n",
       "68       1477400.0   ODFL        NaN  \n",
       "69       7675600.0     ON        NaN  \n",
       "70       4159200.0   ORLY        NaN  \n",
       "71       7284200.0   PANW        NaN  \n",
       "72       2936000.0   PAYX        NaN  \n",
       "74       6959700.0    PDD        NaN  \n",
       "0       44292200.0   AAPL        NaN  "
      ],
      "text/html": [
       "<div>\n",
       "<style scoped>\n",
       "    .dataframe tbody tr th:only-of-type {\n",
       "        vertical-align: middle;\n",
       "    }\n",
       "\n",
       "    .dataframe tbody tr th {\n",
       "        vertical-align: top;\n",
       "    }\n",
       "\n",
       "    .dataframe thead th {\n",
       "        text-align: right;\n",
       "    }\n",
       "</style>\n",
       "<table border=\"1\" class=\"dataframe\">\n",
       "  <thead>\n",
       "    <tr style=\"text-align: right;\">\n",
       "      <th>Price</th>\n",
       "      <th>Date</th>\n",
       "      <th>Close</th>\n",
       "      <th>High</th>\n",
       "      <th>Low</th>\n",
       "      <th>Open</th>\n",
       "      <th>Volume</th>\n",
       "      <th>Ticker</th>\n",
       "      <th>Adj Close</th>\n",
       "    </tr>\n",
       "  </thead>\n",
       "  <tbody>\n",
       "    <tr>\n",
       "      <th>49</th>\n",
       "      <td>2025-10-06</td>\n",
       "      <td>25.299999</td>\n",
       "      <td>25.830000</td>\n",
       "      <td>25.190001</td>\n",
       "      <td>25.799999</td>\n",
       "      <td>23702900.0</td>\n",
       "      <td>KDP</td>\n",
       "      <td>NaN</td>\n",
       "    </tr>\n",
       "    <tr>\n",
       "      <th>51</th>\n",
       "      <td>2025-10-06</td>\n",
       "      <td>1139.709961</td>\n",
       "      <td>1152.119995</td>\n",
       "      <td>1121.680054</td>\n",
       "      <td>1121.680054</td>\n",
       "      <td>946000.0</td>\n",
       "      <td>KLAC</td>\n",
       "      <td>NaN</td>\n",
       "    </tr>\n",
       "    <tr>\n",
       "      <th>77</th>\n",
       "      <td>2025-10-06</td>\n",
       "      <td>71.290001</td>\n",
       "      <td>71.870003</td>\n",
       "      <td>69.452003</td>\n",
       "      <td>70.220001</td>\n",
       "      <td>16586300.0</td>\n",
       "      <td>PYPL</td>\n",
       "      <td>NaN</td>\n",
       "    </tr>\n",
       "    <tr>\n",
       "      <th>78</th>\n",
       "      <td>2025-10-06</td>\n",
       "      <td>168.619995</td>\n",
       "      <td>170.880005</td>\n",
       "      <td>167.720001</td>\n",
       "      <td>170.539993</td>\n",
       "      <td>8262100.0</td>\n",
       "      <td>QCOM</td>\n",
       "      <td>NaN</td>\n",
       "    </tr>\n",
       "    <tr>\n",
       "      <th>79</th>\n",
       "      <td>2025-10-06</td>\n",
       "      <td>194.220001</td>\n",
       "      <td>195.479996</td>\n",
       "      <td>189.960007</td>\n",
       "      <td>192.919998</td>\n",
       "      <td>297300.0</td>\n",
       "      <td>R</td>\n",
       "      <td>NaN</td>\n",
       "    </tr>\n",
       "    <tr>\n",
       "      <th>80</th>\n",
       "      <td>2025-10-06</td>\n",
       "      <td>585.479980</td>\n",
       "      <td>603.650024</td>\n",
       "      <td>584.409973</td>\n",
       "      <td>602.000000</td>\n",
       "      <td>1071900.0</td>\n",
       "      <td>REGN</td>\n",
       "      <td>NaN</td>\n",
       "    </tr>\n",
       "    <tr>\n",
       "      <th>81</th>\n",
       "      <td>2025-10-06</td>\n",
       "      <td>506.989990</td>\n",
       "      <td>507.359985</td>\n",
       "      <td>497.119995</td>\n",
       "      <td>501.899994</td>\n",
       "      <td>1210200.0</td>\n",
       "      <td>ROP</td>\n",
       "      <td>NaN</td>\n",
       "    </tr>\n",
       "    <tr>\n",
       "      <th>82</th>\n",
       "      <td>2025-10-06</td>\n",
       "      <td>152.259995</td>\n",
       "      <td>153.460007</td>\n",
       "      <td>151.199997</td>\n",
       "      <td>152.240005</td>\n",
       "      <td>2669700.0</td>\n",
       "      <td>ROST</td>\n",
       "      <td>NaN</td>\n",
       "    </tr>\n",
       "    <tr>\n",
       "      <th>83</th>\n",
       "      <td>2025-10-06</td>\n",
       "      <td>82.110001</td>\n",
       "      <td>86.290001</td>\n",
       "      <td>82.059998</td>\n",
       "      <td>86.290001</td>\n",
       "      <td>14978700.0</td>\n",
       "      <td>SBUX</td>\n",
       "      <td>NaN</td>\n",
       "    </tr>\n",
       "    <tr>\n",
       "      <th>84</th>\n",
       "      <td>2025-10-06</td>\n",
       "      <td>164.500000</td>\n",
       "      <td>169.690002</td>\n",
       "      <td>162.809998</td>\n",
       "      <td>166.550003</td>\n",
       "      <td>11311800.0</td>\n",
       "      <td>SHOP</td>\n",
       "      <td>NaN</td>\n",
       "    </tr>\n",
       "    <tr>\n",
       "      <th>85</th>\n",
       "      <td>2025-10-06</td>\n",
       "      <td>478.220001</td>\n",
       "      <td>481.230011</td>\n",
       "      <td>469.549988</td>\n",
       "      <td>471.989990</td>\n",
       "      <td>1594400.0</td>\n",
       "      <td>SNPS</td>\n",
       "      <td>NaN</td>\n",
       "    </tr>\n",
       "    <tr>\n",
       "      <th>86</th>\n",
       "      <td>2025-10-06</td>\n",
       "      <td>25.870001</td>\n",
       "      <td>26.719999</td>\n",
       "      <td>25.840000</td>\n",
       "      <td>26.540001</td>\n",
       "      <td>63433000.0</td>\n",
       "      <td>T</td>\n",
       "      <td>NaN</td>\n",
       "    </tr>\n",
       "    <tr>\n",
       "      <th>87</th>\n",
       "      <td>2025-10-06</td>\n",
       "      <td>150.190002</td>\n",
       "      <td>156.774994</td>\n",
       "      <td>148.250000</td>\n",
       "      <td>151.770004</td>\n",
       "      <td>3914500.0</td>\n",
       "      <td>TEAM</td>\n",
       "      <td>NaN</td>\n",
       "    </tr>\n",
       "    <tr>\n",
       "      <th>88</th>\n",
       "      <td>2025-10-06</td>\n",
       "      <td>224.960007</td>\n",
       "      <td>229.059998</td>\n",
       "      <td>222.259995</td>\n",
       "      <td>228.570007</td>\n",
       "      <td>6169500.0</td>\n",
       "      <td>TMUS</td>\n",
       "      <td>NaN</td>\n",
       "    </tr>\n",
       "    <tr>\n",
       "      <th>89</th>\n",
       "      <td>2025-10-06</td>\n",
       "      <td>152.029999</td>\n",
       "      <td>154.240005</td>\n",
       "      <td>150.919998</td>\n",
       "      <td>154.240005</td>\n",
       "      <td>1398700.0</td>\n",
       "      <td>TRI</td>\n",
       "      <td>NaN</td>\n",
       "    </tr>\n",
       "    <tr>\n",
       "      <th>90</th>\n",
       "      <td>2025-10-06</td>\n",
       "      <td>453.250000</td>\n",
       "      <td>453.549988</td>\n",
       "      <td>436.690002</td>\n",
       "      <td>440.750000</td>\n",
       "      <td>84866800.0</td>\n",
       "      <td>TSLA</td>\n",
       "      <td>NaN</td>\n",
       "    </tr>\n",
       "    <tr>\n",
       "      <th>91</th>\n",
       "      <td>2025-10-06</td>\n",
       "      <td>53.139999</td>\n",
       "      <td>53.740002</td>\n",
       "      <td>50.889999</td>\n",
       "      <td>52.389999</td>\n",
       "      <td>12555400.0</td>\n",
       "      <td>TTD</td>\n",
       "      <td>NaN</td>\n",
       "    </tr>\n",
       "    <tr>\n",
       "      <th>92</th>\n",
       "      <td>2025-10-06</td>\n",
       "      <td>256.980011</td>\n",
       "      <td>259.959991</td>\n",
       "      <td>256.100006</td>\n",
       "      <td>258.649994</td>\n",
       "      <td>1397100.0</td>\n",
       "      <td>TTWO</td>\n",
       "      <td>NaN</td>\n",
       "    </tr>\n",
       "    <tr>\n",
       "      <th>93</th>\n",
       "      <td>2025-10-06</td>\n",
       "      <td>181.809998</td>\n",
       "      <td>183.229996</td>\n",
       "      <td>179.300003</td>\n",
       "      <td>181.000000</td>\n",
       "      <td>5951200.0</td>\n",
       "      <td>TXN</td>\n",
       "      <td>NaN</td>\n",
       "    </tr>\n",
       "    <tr>\n",
       "      <th>94</th>\n",
       "      <td>2025-10-06</td>\n",
       "      <td>402.899994</td>\n",
       "      <td>405.450012</td>\n",
       "      <td>400.739990</td>\n",
       "      <td>404.660004</td>\n",
       "      <td>1191100.0</td>\n",
       "      <td>VRTX</td>\n",
       "      <td>NaN</td>\n",
       "    </tr>\n",
       "    <tr>\n",
       "      <th>95</th>\n",
       "      <td>2025-10-06</td>\n",
       "      <td>19.080000</td>\n",
       "      <td>19.180000</td>\n",
       "      <td>18.879999</td>\n",
       "      <td>19.030001</td>\n",
       "      <td>17518400.0</td>\n",
       "      <td>WBD</td>\n",
       "      <td>NaN</td>\n",
       "    </tr>\n",
       "    <tr>\n",
       "      <th>96</th>\n",
       "      <td>2025-10-06</td>\n",
       "      <td>238.360001</td>\n",
       "      <td>243.949997</td>\n",
       "      <td>234.690002</td>\n",
       "      <td>235.660004</td>\n",
       "      <td>2253000.0</td>\n",
       "      <td>WDAY</td>\n",
       "      <td>NaN</td>\n",
       "    </tr>\n",
       "    <tr>\n",
       "      <th>97</th>\n",
       "      <td>2025-10-06</td>\n",
       "      <td>81.000000</td>\n",
       "      <td>81.279999</td>\n",
       "      <td>79.889999</td>\n",
       "      <td>80.410004</td>\n",
       "      <td>4082600.0</td>\n",
       "      <td>XEL</td>\n",
       "      <td>NaN</td>\n",
       "    </tr>\n",
       "    <tr>\n",
       "      <th>76</th>\n",
       "      <td>2025-10-06</td>\n",
       "      <td>179.529999</td>\n",
       "      <td>182.949997</td>\n",
       "      <td>177.830002</td>\n",
       "      <td>179.179993</td>\n",
       "      <td>52383400.0</td>\n",
       "      <td>PLTR</td>\n",
       "      <td>NaN</td>\n",
       "    </tr>\n",
       "    <tr>\n",
       "      <th>50</th>\n",
       "      <td>2025-10-06</td>\n",
       "      <td>25.270000</td>\n",
       "      <td>25.959999</td>\n",
       "      <td>25.240000</td>\n",
       "      <td>25.910000</td>\n",
       "      <td>12552200.0</td>\n",
       "      <td>KHC</td>\n",
       "      <td>NaN</td>\n",
       "    </tr>\n",
       "    <tr>\n",
       "      <th>75</th>\n",
       "      <td>2025-10-06</td>\n",
       "      <td>139.699997</td>\n",
       "      <td>141.850006</td>\n",
       "      <td>138.880005</td>\n",
       "      <td>141.770004</td>\n",
       "      <td>6744100.0</td>\n",
       "      <td>PEP</td>\n",
       "      <td>NaN</td>\n",
       "    </tr>\n",
       "    <tr>\n",
       "      <th>73</th>\n",
       "      <td>2025-10-06</td>\n",
       "      <td>98.519997</td>\n",
       "      <td>99.580002</td>\n",
       "      <td>97.300003</td>\n",
       "      <td>98.160004</td>\n",
       "      <td>3159000.0</td>\n",
       "      <td>PCAR</td>\n",
       "      <td>NaN</td>\n",
       "    </tr>\n",
       "    <tr>\n",
       "      <th>52</th>\n",
       "      <td>2025-10-06</td>\n",
       "      <td>468.549988</td>\n",
       "      <td>470.570007</td>\n",
       "      <td>465.100006</td>\n",
       "      <td>466.730011</td>\n",
       "      <td>1539000.0</td>\n",
       "      <td>LIN</td>\n",
       "      <td>NaN</td>\n",
       "    </tr>\n",
       "    <tr>\n",
       "      <th>53</th>\n",
       "      <td>2025-10-06</td>\n",
       "      <td>149.149994</td>\n",
       "      <td>153.699997</td>\n",
       "      <td>149.119995</td>\n",
       "      <td>149.899994</td>\n",
       "      <td>11212900.0</td>\n",
       "      <td>LRCX</td>\n",
       "      <td>NaN</td>\n",
       "    </tr>\n",
       "    <tr>\n",
       "      <th>54</th>\n",
       "      <td>2025-10-06</td>\n",
       "      <td>174.119995</td>\n",
       "      <td>177.190002</td>\n",
       "      <td>172.300003</td>\n",
       "      <td>174.470001</td>\n",
       "      <td>3690300.0</td>\n",
       "      <td>LULU</td>\n",
       "      <td>NaN</td>\n",
       "    </tr>\n",
       "    <tr>\n",
       "      <th>55</th>\n",
       "      <td>2025-10-06</td>\n",
       "      <td>271.940002</td>\n",
       "      <td>273.100006</td>\n",
       "      <td>267.899994</td>\n",
       "      <td>269.170013</td>\n",
       "      <td>2064700.0</td>\n",
       "      <td>MAR</td>\n",
       "      <td>NaN</td>\n",
       "    </tr>\n",
       "    <tr>\n",
       "      <th>56</th>\n",
       "      <td>2025-10-06</td>\n",
       "      <td>66.589996</td>\n",
       "      <td>67.769997</td>\n",
       "      <td>64.349998</td>\n",
       "      <td>67.230003</td>\n",
       "      <td>6409000.0</td>\n",
       "      <td>MCHP</td>\n",
       "      <td>NaN</td>\n",
       "    </tr>\n",
       "    <tr>\n",
       "      <th>57</th>\n",
       "      <td>2025-10-06</td>\n",
       "      <td>61.779999</td>\n",
       "      <td>62.549999</td>\n",
       "      <td>61.439999</td>\n",
       "      <td>62.549999</td>\n",
       "      <td>7882100.0</td>\n",
       "      <td>MDLZ</td>\n",
       "      <td>NaN</td>\n",
       "    </tr>\n",
       "    <tr>\n",
       "      <th>58</th>\n",
       "      <td>2025-10-06</td>\n",
       "      <td>2154.219971</td>\n",
       "      <td>2178.310059</td>\n",
       "      <td>2116.000000</td>\n",
       "      <td>2178.310059</td>\n",
       "      <td>636600.0</td>\n",
       "      <td>MELI</td>\n",
       "      <td>NaN</td>\n",
       "    </tr>\n",
       "    <tr>\n",
       "      <th>59</th>\n",
       "      <td>2025-10-06</td>\n",
       "      <td>715.659973</td>\n",
       "      <td>716.880005</td>\n",
       "      <td>690.510010</td>\n",
       "      <td>705.190002</td>\n",
       "      <td>21624300.0</td>\n",
       "      <td>META</td>\n",
       "      <td>NaN</td>\n",
       "    </tr>\n",
       "    <tr>\n",
       "      <th>60</th>\n",
       "      <td>2025-10-06</td>\n",
       "      <td>67.089996</td>\n",
       "      <td>67.230003</td>\n",
       "      <td>66.330002</td>\n",
       "      <td>67.110001</td>\n",
       "      <td>3254000.0</td>\n",
       "      <td>MNST</td>\n",
       "      <td>NaN</td>\n",
       "    </tr>\n",
       "    <tr>\n",
       "      <th>61</th>\n",
       "      <td>2025-10-06</td>\n",
       "      <td>88.919998</td>\n",
       "      <td>90.250000</td>\n",
       "      <td>88.250000</td>\n",
       "      <td>88.849998</td>\n",
       "      <td>20556500.0</td>\n",
       "      <td>MRVL</td>\n",
       "      <td>NaN</td>\n",
       "    </tr>\n",
       "    <tr>\n",
       "      <th>62</th>\n",
       "      <td>2025-10-06</td>\n",
       "      <td>528.570007</td>\n",
       "      <td>531.030029</td>\n",
       "      <td>518.200012</td>\n",
       "      <td>518.609985</td>\n",
       "      <td>21365200.0</td>\n",
       "      <td>MSFT</td>\n",
       "      <td>NaN</td>\n",
       "    </tr>\n",
       "    <tr>\n",
       "      <th>63</th>\n",
       "      <td>2025-10-06</td>\n",
       "      <td>359.690002</td>\n",
       "      <td>365.209991</td>\n",
       "      <td>354.700012</td>\n",
       "      <td>362.950012</td>\n",
       "      <td>9524000.0</td>\n",
       "      <td>MSTR</td>\n",
       "      <td>NaN</td>\n",
       "    </tr>\n",
       "    <tr>\n",
       "      <th>64</th>\n",
       "      <td>2025-10-06</td>\n",
       "      <td>190.960007</td>\n",
       "      <td>201.000000</td>\n",
       "      <td>189.429993</td>\n",
       "      <td>195.009995</td>\n",
       "      <td>36333100.0</td>\n",
       "      <td>MU</td>\n",
       "      <td>NaN</td>\n",
       "    </tr>\n",
       "    <tr>\n",
       "      <th>65</th>\n",
       "      <td>2025-10-06</td>\n",
       "      <td>1163.310059</td>\n",
       "      <td>1163.579956</td>\n",
       "      <td>1145.449951</td>\n",
       "      <td>1160.369995</td>\n",
       "      <td>2954800.0</td>\n",
       "      <td>NFLX</td>\n",
       "      <td>NaN</td>\n",
       "    </tr>\n",
       "    <tr>\n",
       "      <th>66</th>\n",
       "      <td>2025-10-06</td>\n",
       "      <td>185.539993</td>\n",
       "      <td>187.229996</td>\n",
       "      <td>183.330002</td>\n",
       "      <td>185.500000</td>\n",
       "      <td>156436000.0</td>\n",
       "      <td>NVDA</td>\n",
       "      <td>NaN</td>\n",
       "    </tr>\n",
       "    <tr>\n",
       "      <th>67</th>\n",
       "      <td>2025-10-06</td>\n",
       "      <td>231.419998</td>\n",
       "      <td>234.000000</td>\n",
       "      <td>227.100006</td>\n",
       "      <td>232.059998</td>\n",
       "      <td>1949000.0</td>\n",
       "      <td>NXPI</td>\n",
       "      <td>NaN</td>\n",
       "    </tr>\n",
       "    <tr>\n",
       "      <th>68</th>\n",
       "      <td>2025-10-06</td>\n",
       "      <td>142.820007</td>\n",
       "      <td>145.080002</td>\n",
       "      <td>140.039993</td>\n",
       "      <td>141.520004</td>\n",
       "      <td>1477400.0</td>\n",
       "      <td>ODFL</td>\n",
       "      <td>NaN</td>\n",
       "    </tr>\n",
       "    <tr>\n",
       "      <th>69</th>\n",
       "      <td>2025-10-06</td>\n",
       "      <td>50.349998</td>\n",
       "      <td>50.700001</td>\n",
       "      <td>48.840000</td>\n",
       "      <td>50.130001</td>\n",
       "      <td>7675600.0</td>\n",
       "      <td>ON</td>\n",
       "      <td>NaN</td>\n",
       "    </tr>\n",
       "    <tr>\n",
       "      <th>70</th>\n",
       "      <td>2025-10-06</td>\n",
       "      <td>103.300003</td>\n",
       "      <td>105.230003</td>\n",
       "      <td>102.529999</td>\n",
       "      <td>104.910004</td>\n",
       "      <td>4159200.0</td>\n",
       "      <td>ORLY</td>\n",
       "      <td>NaN</td>\n",
       "    </tr>\n",
       "    <tr>\n",
       "      <th>71</th>\n",
       "      <td>2025-10-06</td>\n",
       "      <td>212.580002</td>\n",
       "      <td>213.850006</td>\n",
       "      <td>209.130005</td>\n",
       "      <td>209.369995</td>\n",
       "      <td>7284200.0</td>\n",
       "      <td>PANW</td>\n",
       "      <td>NaN</td>\n",
       "    </tr>\n",
       "    <tr>\n",
       "      <th>72</th>\n",
       "      <td>2025-10-06</td>\n",
       "      <td>124.370003</td>\n",
       "      <td>124.959999</td>\n",
       "      <td>123.260002</td>\n",
       "      <td>124.959999</td>\n",
       "      <td>2936000.0</td>\n",
       "      <td>PAYX</td>\n",
       "      <td>NaN</td>\n",
       "    </tr>\n",
       "    <tr>\n",
       "      <th>74</th>\n",
       "      <td>2025-10-06</td>\n",
       "      <td>134.330002</td>\n",
       "      <td>135.360001</td>\n",
       "      <td>132.970001</td>\n",
       "      <td>134.279999</td>\n",
       "      <td>6959700.0</td>\n",
       "      <td>PDD</td>\n",
       "      <td>NaN</td>\n",
       "    </tr>\n",
       "    <tr>\n",
       "      <th>0</th>\n",
       "      <td>2025-10-06</td>\n",
       "      <td>256.690002</td>\n",
       "      <td>259.070007</td>\n",
       "      <td>255.050003</td>\n",
       "      <td>257.989990</td>\n",
       "      <td>44292200.0</td>\n",
       "      <td>AAPL</td>\n",
       "      <td>NaN</td>\n",
       "    </tr>\n",
       "  </tbody>\n",
       "</table>\n",
       "</div>"
      ]
     },
     "execution_count": 17,
     "metadata": {},
     "output_type": "execute_result"
    }
   ],
   "execution_count": 17
  },
  {
   "metadata": {
    "ExecuteTime": {
     "end_time": "2025-10-07T11:49:59.532948Z",
     "start_time": "2025-10-07T11:49:59.529957Z"
    }
   },
   "cell_type": "code",
   "source": "df_concat['Date'].max()",
   "id": "2fb50fac20b29100",
   "outputs": [
    {
     "data": {
      "text/plain": [
       "Timestamp('2025-10-06 00:00:00')"
      ]
     },
     "execution_count": 18,
     "metadata": {},
     "output_type": "execute_result"
    }
   ],
   "execution_count": 18
  },
  {
   "cell_type": "code",
   "id": "fc3ade3f-0c4a-4a1b-bcd5-8293c8818a65",
   "metadata": {
    "ExecuteTime": {
     "end_time": "2025-10-07T11:49:59.540611Z",
     "start_time": "2025-10-07T11:49:59.539224Z"
    }
   },
   "source": [
    "# Sauvegarder la DataFrame résultante dans un fichier CSV\n",
    "#data_SP500.to_csv('/Users/forget/PyCharmMiscProject/historical_data_S&P500_From_Wiki.csv')"
   ],
   "outputs": [],
   "execution_count": 19
  },
  {
   "metadata": {
    "ExecuteTime": {
     "end_time": "2025-10-07T11:49:59.551196Z",
     "start_time": "2025-10-07T11:49:59.548484Z"
    }
   },
   "cell_type": "code",
   "source": [
    "\"\"\"\n",
    "mask_1 = data_SP500[(data_SP500['Ticker'] == 'NVR') & (data_SP500['Date'] < '1993-10-01')]\n",
    "mask_2 = data_SP500[(data_SP500['Ticker'] == 'HUBB') & (data_SP500['Date'] < '1994-10-31')]\n",
    "mask_3 = data_SP500[(data_SP500['Date'] == '1984-12-31') & (data_SP500['Ticker'] == 'BEN')]\n",
    "\"\"\""
   ],
   "id": "5554fac36cbc425c",
   "outputs": [
    {
     "data": {
      "text/plain": [
       "\"\\nmask_1 = data_SP500[(data_SP500['Ticker'] == 'NVR') & (data_SP500['Date'] < '1993-10-01')]\\nmask_2 = data_SP500[(data_SP500['Ticker'] == 'HUBB') & (data_SP500['Date'] < '1994-10-31')]\\nmask_3 = data_SP500[(data_SP500['Date'] == '1984-12-31') & (data_SP500['Ticker'] == 'BEN')]\\n\""
      ]
     },
     "execution_count": 20,
     "metadata": {},
     "output_type": "execute_result"
    }
   ],
   "execution_count": 20
  },
  {
   "metadata": {
    "ExecuteTime": {
     "end_time": "2025-10-07T11:49:59.569434Z",
     "start_time": "2025-10-07T11:49:59.563783Z"
    }
   },
   "cell_type": "code",
   "source": [
    "\"\"\"\n",
    "idx_to_drop = mask_1.index.union(mask_2.index).union(mask_3.index)\n",
    "data_SP500 = data_SP500.drop(index=idx_to_drop).copy()\n",
    "\"\"\""
   ],
   "id": "3e44a0476c5466d",
   "outputs": [
    {
     "data": {
      "text/plain": [
       "'\\nidx_to_drop = mask_1.index.union(mask_2.index).union(mask_3.index)\\ndata_SP500 = data_SP500.drop(index=idx_to_drop).copy()\\n'"
      ]
     },
     "execution_count": 21,
     "metadata": {},
     "output_type": "execute_result"
    }
   ],
   "execution_count": 21
  },
  {
   "metadata": {
    "ExecuteTime": {
     "end_time": "2025-10-07T11:49:59.679178Z",
     "start_time": "2025-10-07T11:49:59.587785Z"
    }
   },
   "cell_type": "code",
   "source": "df_concat.to_parquet(\"/Users/forget/Library/Mobile Documents/com~apple~CloudDocs/Project Stock Market Deep Learning/Data/data_NASDAQ.parquet\")",
   "id": "27b858f1805ff48d",
   "outputs": [],
   "execution_count": 22
  }
 ],
 "metadata": {
  "kernelspec": {
   "display_name": "Python 3 (ipykernel)",
   "language": "python",
   "name": "python3"
  },
  "language_info": {
   "codemirror_mode": {
    "name": "ipython",
    "version": 3
   },
   "file_extension": ".py",
   "mimetype": "text/x-python",
   "name": "python",
   "nbconvert_exporter": "python",
   "pygments_lexer": "ipython3",
   "version": "3.12.4"
  }
 },
 "nbformat": 4,
 "nbformat_minor": 5
}
