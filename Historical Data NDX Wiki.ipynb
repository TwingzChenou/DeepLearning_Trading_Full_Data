{
 "cells": [
  {
   "cell_type": "code",
   "id": "d57f0474-062c-4085-a442-4189e1e6d207",
   "metadata": {
    "ExecuteTime": {
     "end_time": "2025-09-14T14:53:50.250206Z",
     "start_time": "2025-09-14T14:53:49.831098Z"
    }
   },
   "source": [
    "import pandas as pd \n",
    "import yfinance as yf\n",
    "from datetime import datetime, timedelta\n"
   ],
   "outputs": [],
   "execution_count": 1
  },
  {
   "cell_type": "code",
   "id": "fc27d29a-7ea3-43eb-8465-e78d1137332c",
   "metadata": {
    "ExecuteTime": {
     "end_time": "2025-09-14T14:53:51.177539Z",
     "start_time": "2025-09-14T14:53:50.934654Z"
    }
   },
   "source": [
    "SP500_Url = \"https://en.wikipedia.org/wiki/Nasdaq-100\"\n",
    "data_table = pd.read_html(\n",
    "    SP500_Url,\n",
    "    storage_options={\"User-Agent\": \"Mozilla/5.0 (X11; Linux x86_64) AppleWebKit/537.36 \"\n",
    "                                   \"(KHTML, like Gecko) Chrome/123.0 Safari/537.36\"}\n",
    ")\n",
    "data_table"
   ],
   "outputs": [
    {
     "data": {
      "text/plain": [
       "[                                     0                                      1\n",
       " 0   Nasdaq-100 Index from 1985 to 2015     Nasdaq-100 Index from 1985 to 2015\n",
       " 1                           Foundation         January 31, 1985; 40 years ago\n",
       " 2                             Operator                           Nasdaq, Inc.\n",
       " 3                            Exchanges                                 Nasdaq\n",
       " 4                       Trading symbol                            ^NDX or NDX\n",
       " 5                         Constituents                                    101\n",
       " 6                                 Type                              Large-cap\n",
       " 7                           Market cap  US$25.34 trillion (as of May 1, 2025)\n",
       " 8                     Weighting method     Free-float capitalization-weighted\n",
       " 9                      Related indices                   Nasdaq Financial-100\n",
       " 10                             Website                  nasdaq.com/nasdaq-100,\n",
       "    Category  All-Time Highs[8]       All-Time Highs[8].1\n",
       " 0   Closing            23839.2  Tuesday, August 12, 2025\n",
       " 1  Intraday            23849.5  Tuesday, August 12, 2025,\n",
       "     Milestone[9][obsolete source] (closing) Date of Record (closing)[9]  \\\n",
       " 0                                      1000                July 8, 1997   \n",
       " 1                                      2000            January 11, 1999   \n",
       " 2                                      3000           November 18, 1999   \n",
       " 3                                      4000            February 8, 2000   \n",
       " 4                                      5000             January 6, 2017   \n",
       " 5                                      6000          September 13, 2017   \n",
       " 6                                      7000            January 26, 2018   \n",
       " 7                                      8000               July 24, 2019   \n",
       " 8                                      9000            January 13, 2020   \n",
       " 9                                     10000               June 10, 2020   \n",
       " 10                                    11000              August 3, 2020   \n",
       " 11                                    12000             August 31, 2020   \n",
       " 12                                    13000             January 8, 2021   \n",
       " 13                                    14000              April 15, 2021   \n",
       " 14                                    15000               July 23, 2021   \n",
       " 15                                    16000            November 3, 2021   \n",
       " 16                                    17000            January 19, 2024   \n",
       " 17                                    18000           February 22, 2024   \n",
       " 18                                    19000                June 5, 2024   \n",
       " 19                                    20000                July 2, 2024   \n",
       " 20                                    21000            November 7, 2024   \n",
       " 21                                    22000           December 16, 2024   \n",
       " 22                                    23000               July 17, 2025   \n",
       " \n",
       "     Trading Days[9]  \n",
       " 0              3143  \n",
       " 1               381  \n",
       " 2               217  \n",
       " 3                55  \n",
       " 4              4255  \n",
       " 5               172  \n",
       " 6                93  \n",
       " 7               374  \n",
       " 8               119  \n",
       " 9               103  \n",
       " 10               37  \n",
       " 11               20  \n",
       " 12               90  \n",
       " 13               66  \n",
       " 14               69  \n",
       " 15               72  \n",
       " 16              554  \n",
       " 17               23  \n",
       " 18               72  \n",
       " 19               18  \n",
       " 20               90  \n",
       " 21               26  \n",
       " 22              144  ,\n",
       "     Year  Closing level Change in Index in Points Change in Index in %\n",
       " 0   1985         132.29                       NaN                  NaN\n",
       " 1   1986         141.41                      9.12                 6.89\n",
       " 2   1987         156.25                     14.84                10.49\n",
       " 3   1988         177.41                     21.16                13.54\n",
       " 4   1989         223.84                     46.43                26.17\n",
       " 5   1990         200.53                    −23.31               −10.41\n",
       " 6   1991         330.86                    130.33                64.99\n",
       " 7   1992         360.19                     29.33                 8.86\n",
       " 8   1993         398.28                     38.09                10.57\n",
       " 9   1994         404.27                      5.99                 1.50\n",
       " 10  1995         576.23                    171.96                42.54\n",
       " 11  1996         821.36                    245.13                42.54\n",
       " 12  1997         990.80                    169.44                20.63\n",
       " 13  1998        1836.01                    845.21                85.31\n",
       " 14  1999        3707.83                   1871.81               101.95\n",
       " 15  2000        2341.70                 −1,366.13               −36.84\n",
       " 16  2001        1577.05                   −764.65               −32.65\n",
       " 17  2002         984.36                   −592.69               −37.58\n",
       " 18  2003        1467.92                    483.56                49.12\n",
       " 19  2004        1621.12                    153.20                10.44\n",
       " 20  2005        1645.20                     24.08                 1.49\n",
       " 21  2006        1756.90                    111.70                 6.79\n",
       " 22  2007        2084.93                    328.03                18.67\n",
       " 23  2008        1211.65                   −873.28               −41.89\n",
       " 24  2009        1860.31                    648.66                53.54\n",
       " 25  2010        2217.86                    357.55                19.22\n",
       " 26  2011        2277.83                     59.97                 2.70\n",
       " 27  2012        2660.93                    383.10                16.82\n",
       " 28  2013        3592.00                    931.07                34.99\n",
       " 29  2014        4236.28                    644.28                17.94\n",
       " 30  2015        4593.27                    356.99                 8.43\n",
       " 31  2016        4863.62                    270.35                 5.89\n",
       " 32  2017        6396.42                   1532.80                31.52\n",
       " 33  2018        6329.96                    −66.46                −1.04\n",
       " 34  2019        8733.07                   2403.11                37.96\n",
       " 35  2020       12888.28                   4155.21                47.58\n",
       " 36  2021       16320.08                   3431.80                26.63\n",
       " 37  2022       10939.76                 −5,380.32               −32.97\n",
       " 38  2023       16825.93                   5886.17                53.81\n",
       " 39  2024       21012.17                   4186.24                24.88,\n",
       "     Ticker                  Company             GICS Sector  \\\n",
       " 0     ADBE               Adobe Inc.  Information Technology   \n",
       " 1      AMD   Advanced Micro Devices  Information Technology   \n",
       " 2     ABNB                   Airbnb  Consumer Discretionary   \n",
       " 3    GOOGL  Alphabet Inc. (Class A)  Communication Services   \n",
       " 4     GOOG  Alphabet Inc. (Class C)  Communication Services   \n",
       " ..     ...                      ...                     ...   \n",
       " 96    VRTX   Vertex Pharmaceuticals             Health Care   \n",
       " 97     WBD   Warner Bros. Discovery  Communication Services   \n",
       " 98    WDAY            Workday, Inc.  Information Technology   \n",
       " 99     XEL              Xcel Energy               Utilities   \n",
       " 100     ZS                  Zscaler  Information Technology   \n",
       " \n",
       "                   GICS Sub-Industry  \n",
       " 0              Application Software  \n",
       " 1                    Semiconductors  \n",
       " 2    Hotels, Resorts & Cruise Lines  \n",
       " 3      Interactive Media & Services  \n",
       " 4      Interactive Media & Services  \n",
       " ..                              ...  \n",
       " 96                    Biotechnology  \n",
       " 97                     Broadcasting  \n",
       " 98             Application Software  \n",
       " 99                  Multi-Utilities  \n",
       " 100            Application Software  \n",
       " \n",
       " [101 rows x 4 columns],\n",
       "                   Date  Added                        Removed  \\\n",
       "                   Date Ticker               Security  Ticker   \n",
       " 0        July 28, 2025    TRI        Thomson Reuters     NaN   \n",
       " 1        July 17, 2025    NaN                    NaN    ANSS   \n",
       " 2         May 19, 2025   SHOP                Shopify     MDB   \n",
       " 3    December 23, 2024   PLTR  Palantir Technologies    ILMN   \n",
       " 4    December 23, 2024   MSTR          MicroStrategy    MRNA   \n",
       " ..                 ...    ...                    ...     ...   \n",
       " 202      July 12, 2007   FWLT         Foster Wheeler    BMET   \n",
       " 203       June 1, 2007   CEPH               Cephalon    MEDI   \n",
       " 204      March 8, 2007   UAUA        UAL Corporation    AEOS   \n",
       " 205  February 14, 2007  RYAAY                Ryanair    APCC   \n",
       " 206   February 1, 2007   LOGI               Logitech    CMVT   \n",
       " \n",
       "                                 \\\n",
       "                       Security   \n",
       " 0                          NaN   \n",
       " 1                        Ansys   \n",
       " 2                      MongoDB   \n",
       " 3                      Ilumina   \n",
       " 4                      Moderna   \n",
       " ..                         ...   \n",
       " 202                     Biomet   \n",
       " 203                  MedImmune   \n",
       " 204  American Eagle Outfitters   \n",
       " 205  American Power Conversion   \n",
       " 206        Comverse Technology   \n",
       " \n",
       "                                                 Reason  \n",
       "                                                 Reason  \n",
       " 0     Thomson Reuters replaced Ansys in the index.[15]  \n",
       " 1                      Ansys was acquired by Synopsys.  \n",
       " 2    MongoDB did not meet the minimum monthly weigh...  \n",
       " 3                     Annual index reconstitution.[17]  \n",
       " 4                     Annual index reconstitution.[17]  \n",
       " ..                                                 ...  \n",
       " 202                     Biomet was taken private.[110]  \n",
       " 203        MedImmune was acquired by AstraZeneca.[111]  \n",
       " 204  American Eagle Outfitters transferred its list...  \n",
       " 205       APC was acquired by Schneider Electric.[114]  \n",
       " 206  Comverse did not meet the minimum monthly weig...  \n",
       " \n",
       " [207 rows x 6 columns],\n",
       "                 vteCompanies of the Nasdaq-100 index  \\\n",
       " 0  Adobe ADP AMD Airbnb Alphabet Amazon AEP Amgen...   \n",
       " \n",
       "               vteCompanies of the Nasdaq-100 index.1  \n",
       " 0  Adobe ADP AMD Airbnb Alphabet Amazon AEP Amgen...  ,\n",
       "                                      vteNasdaq, Inc.  \\\n",
       " 0  Operator of the Nasdaq, Nasdaq Baltic and Nasd...   \n",
       " 1                                          Exchanges   \n",
       " 2                                       Main indices   \n",
       " 3                                     Other holdings   \n",
       " \n",
       "                                    vteNasdaq, Inc..1  \\\n",
       " 0  Operator of the Nasdaq, Nasdaq Baltic and Nasd...   \n",
       " 1  Nasdaq BX Canada GEMX ISE MRX Nasdaq NOM PHLX ...   \n",
       " 2  Nasdaq 100 Composite Nasdaq Baltic Baltic 10 N...   \n",
       " 3  Adenza Longitude Nasdaq MarketSite Nasdaq Priv...   \n",
       " \n",
       "                                    vteNasdaq, Inc..2  \n",
       " 0  Operator of the Nasdaq, Nasdaq Baltic and Nasd...  \n",
       " 1                                                NaN  \n",
       " 2                                                NaN  \n",
       " 3                                                NaN  ,\n",
       "    vteStock market indices                          vteStock market indices.1\n",
       " 0                   Global  Equities MSCI ACWI Index MSCI World S&P Global...\n",
       " 1                 Equities  MSCI ACWI Index MSCI World S&P Global 100 S&P ...\n",
       " 2              Commodities  Bloomberg Commodity Index S&P GSCI Deutsche Ba...\n",
       " 3                 Regional  Asia S&P Asia 50 Europe EURO STOXX 50 STOXX Eu...\n",
       " 4                     Asia                                        S&P Asia 50\n",
       " 5                   Europe  EURO STOXX 50 STOXX Europe 600 FTSEurofirst 30...\n",
       " 6            Latin America                               S&P Latin America 40\n",
       " 7                    Other                                 MSCI EAFE MSCI GCC\n",
       " 8         Industry indices  Energy Amex Oil Index Electronics PHLX Semicon...\n",
       " 9                   Energy                                     Amex Oil Index\n",
       " 10             Electronics                   PHLX Semiconductor Sector TecDax\n",
       " 11                  Metals  HUI Gold Index Philadelphia Gold and Silver Index\n",
       " 12             Real estate                              CBV Real Estate Index\n",
       " 13                   Water                              Palisades Water Index\n",
       " 14                   Other                                   Baltic Dry Index\n",
       " 15                Americas  USMajor Dow Jones Industrial Average NYSE Comp...\n",
       " 16                      US  Major Dow Jones Industrial Average NYSE Compos...\n",
       " 17                   Major  Dow Jones Industrial Average NYSE Composite Na...\n",
       " 18                   Other  Dow Jones Transportation Average Dow Jones Uti...\n",
       " 19                  Canada                 S&P/TSX 60 S&P/TSX Composite Index\n",
       " 20                   Other  Indice de Precios y Cotizaciones (Mexico) COLC...\n",
       " 21                  Europe  UK FT 30 FTSE 100 Index FTSE 250 Index FTSE 35...\n",
       " 22                      UK  FT 30 FTSE 100 Index FTSE 250 Index FTSE 350 I...\n",
       " 23                  France  CAC 40 CAC Next 20 CAC Mid 60 CAC Small CAC Al...\n",
       " 24                   Other  AEX ATX BEL 20 BUX DAX FTSE MIB IBEX 35 ISEQ 2...\n",
       " 25                    Asia  China SSE Composite SZSE Component SSE 50 Inde...\n",
       " 26                   China  SSE Composite SZSE Component SSE 50 Index SSE ...\n",
       " 27                   India  BSE SENSEX NIFTY 50 NIFTY Next 50 NIFTY 500 GI...\n",
       " 28                   Japan                     Nikkei 225 TOPIX S&P/TOPIX 150\n",
       " 29             South Korea                             KOSPI KOSPI 200 KOSDAQ\n",
       " 30                   Other  KASE (Kazakhstan) KSE (Kyrgyzstan) Tashkent (U...\n",
       " 31                 Oceania  Australia S&P/ASX 20 S&P/ASX 50 S&P/ASX 200 S&...\n",
       " 32               Australia  S&P/ASX 20 S&P/ASX 50 S&P/ASX 200 S&P/ASX 300 ...\n",
       " 33             New Zealand                                   S&P/NZX 50 Index\n",
       " 34                  Africa                     EGX 30 JSE Top 40 MADEX NSE 30,\n",
       "              0                                                  1\n",
       " 0     Equities  MSCI ACWI Index MSCI World S&P Global 100 S&P ...\n",
       " 1  Commodities  Bloomberg Commodity Index S&P GSCI Deutsche Ba...,\n",
       "                0                                                  1\n",
       " 0           Asia                                        S&P Asia 50\n",
       " 1         Europe  EURO STOXX 50 STOXX Europe 600 FTSEurofirst 30...\n",
       " 2  Latin America                               S&P Latin America 40\n",
       " 3          Other                                 MSCI EAFE MSCI GCC,\n",
       "              0                                                  1\n",
       " 0       Energy                                     Amex Oil Index\n",
       " 1  Electronics                   PHLX Semiconductor Sector TecDax\n",
       " 2       Metals  HUI Gold Index Philadelphia Gold and Silver Index\n",
       " 3  Real estate                              CBV Real Estate Index\n",
       " 4        Water                              Palisades Water Index\n",
       " 5        Other                                   Baltic Dry Index,\n",
       "         0                                                  1\n",
       " 0      US  Major Dow Jones Industrial Average NYSE Compos...\n",
       " 1   Major  Dow Jones Industrial Average NYSE Composite Na...\n",
       " 2   Other  Dow Jones Transportation Average Dow Jones Uti...\n",
       " 3  Canada                 S&P/TSX 60 S&P/TSX Composite Index\n",
       " 4   Other  Indice de Precios y Cotizaciones (Mexico) COLC...,\n",
       "        0                                                  1\n",
       " 0  Major  Dow Jones Industrial Average NYSE Composite Na...\n",
       " 1  Other  Dow Jones Transportation Average Dow Jones Uti...,\n",
       "         0                                                  1\n",
       " 0      UK  FT 30 FTSE 100 Index FTSE 250 Index FTSE 350 I...\n",
       " 1  France  CAC 40 CAC Next 20 CAC Mid 60 CAC Small CAC Al...\n",
       " 2   Other  AEX ATX BEL 20 BUX DAX FTSE MIB IBEX 35 ISEQ 2...,\n",
       "              0                                                  1\n",
       " 0        China  SSE Composite SZSE Component SSE 50 Index SSE ...\n",
       " 1        India  BSE SENSEX NIFTY 50 NIFTY Next 50 NIFTY 500 GI...\n",
       " 2        Japan                     Nikkei 225 TOPIX S&P/TOPIX 150\n",
       " 3  South Korea                             KOSPI KOSPI 200 KOSDAQ\n",
       " 4        Other  KASE (Kazakhstan) KSE (Kyrgyzstan) Tashkent (U...,\n",
       "              0                                                  1\n",
       " 0    Australia  S&P/ASX 20 S&P/ASX 50 S&P/ASX 200 S&P/ASX 300 ...\n",
       " 1  New Zealand                                   S&P/NZX 50 Index,\n",
       "          vteMajor United States stock market indices  \\\n",
       " 0  Dow Jones Industrial Average historical compon...   \n",
       " \n",
       "        vteMajor United States stock market indices.1  \n",
       " 0  Dow Jones Industrial Average historical compon...  ,\n",
       "   vteMajor North and South American stock market indices  \\\n",
       " 0                                      United States       \n",
       " 1                                             Canada       \n",
       " 2                                             Mexico       \n",
       " 3                                           Colombia       \n",
       " 4                                             Brazil       \n",
       " 5                                              Chile       \n",
       " 6                                          Argentina       \n",
       " 7                                               Peru       \n",
       " \n",
       "   vteMajor North and South American stock market indices.1  \n",
       " 0  Dow Jones Industrial Average Dow Jones Transpo...        \n",
       " 1                 S&P/TSX 60 S&P/TSX Composite Index        \n",
       " 2                   Indice de Precios y Cotizaciones        \n",
       " 3  COLCAP Indice General de la Bolsa de Valores d...        \n",
       " 4                                     Índice Bovespa        \n",
       " 5            Índice de Precios Selectivo de Acciones        \n",
       " 6                                             MERVAL        \n",
       " 7                         S&P/BVL Peru General Index        ]"
      ]
     },
     "execution_count": 2,
     "metadata": {},
     "output_type": "execute_result"
    }
   ],
   "execution_count": 2
  },
  {
   "cell_type": "code",
   "id": "1b24ff08-adf5-4396-8e7a-d6779a1b9d77",
   "metadata": {
    "ExecuteTime": {
     "end_time": "2025-09-14T14:53:51.715456Z",
     "start_time": "2025-09-14T14:53:51.713331Z"
    }
   },
   "source": "tickers = data_table[4][\"Ticker\"].tolist()",
   "outputs": [],
   "execution_count": 3
  },
  {
   "metadata": {
    "ExecuteTime": {
     "end_time": "2025-09-14T14:53:52.385424Z",
     "start_time": "2025-09-14T14:53:52.382555Z"
    }
   },
   "cell_type": "code",
   "source": [
    "supp = ['ASML', 'AZN', 'F', 'G', 'GOOGL', 'H', 'I', 'J', 'L', 'O', 'Q', 'R', 'U', 'VRSK', 'W', 'Y']\n",
    "\n",
    "tickers = [x for x in tickers if x not in supp]\n",
    "print(len(tickers), len(supp))"
   ],
   "id": "71a1b132b62bcbee",
   "outputs": [
    {
     "name": "stdout",
     "output_type": "stream",
     "text": [
      "97 16\n"
     ]
    }
   ],
   "execution_count": 4
  },
  {
   "cell_type": "code",
   "id": "17d6901d-f2b7-48b7-88a9-48d3aee5d9b7",
   "metadata": {
    "ExecuteTime": {
     "end_time": "2025-09-14T14:53:53.237520Z",
     "start_time": "2025-09-14T14:53:53.224233Z"
    }
   },
   "source": [
    "# Extraction des données\n",
    "Date = data_table[5]['Date']\n",
    "Removed = data_table[5]['Removed']['Ticker']  # Supposant que 'Removed' est un DataFrame ou Series\n",
    "Added = data_table[5]['Added']['Ticker']      # Supposant que 'Added' est un DataFrame ou Series\n",
    "\n",
    "# Combinaison des données dans un DataFrame\n",
    "Data_Change = pd.concat([Date, Added, Removed], axis = 1)\n",
    "\n",
    "#Date au format Date\n",
    "Data_Change['Date'] = pd.to_datetime(Data_Change['Date'])\n",
    "\n",
    "# Changer le format de la date en 'jour/mois/année'\n",
    "Data_Change['Date'] = Data_Change['Date'].dt.strftime('%Y-%m-%d')\n",
    "\n",
    "\n",
    "# Renommer toutes les colonnes\n",
    "Data_Change.columns = ['Date', 'Added', 'Removed']\n",
    "\n",
    "# Mettre 'colonne_a' en tant qu'index\n",
    "Data_Change.set_index('Date', inplace=True)\n",
    "\n",
    "# Nan en vide\n",
    "Data_Change = Data_Change.fillna('')\n",
    "\n",
    "Data_Change"
   ],
   "outputs": [
    {
     "data": {
      "text/plain": [
       "            Added Removed\n",
       "Date                     \n",
       "2025-07-28    TRI        \n",
       "2025-07-17           ANSS\n",
       "2025-05-19   SHOP     MDB\n",
       "2024-12-23   PLTR    ILMN\n",
       "2024-12-23   MSTR    MRNA\n",
       "...           ...     ...\n",
       "2007-07-12   FWLT    BMET\n",
       "2007-06-01   CEPH    MEDI\n",
       "2007-03-08   UAUA    AEOS\n",
       "2007-02-14  RYAAY    APCC\n",
       "2007-02-01   LOGI    CMVT\n",
       "\n",
       "[207 rows x 2 columns]"
      ],
      "text/html": [
       "<div>\n",
       "<style scoped>\n",
       "    .dataframe tbody tr th:only-of-type {\n",
       "        vertical-align: middle;\n",
       "    }\n",
       "\n",
       "    .dataframe tbody tr th {\n",
       "        vertical-align: top;\n",
       "    }\n",
       "\n",
       "    .dataframe thead th {\n",
       "        text-align: right;\n",
       "    }\n",
       "</style>\n",
       "<table border=\"1\" class=\"dataframe\">\n",
       "  <thead>\n",
       "    <tr style=\"text-align: right;\">\n",
       "      <th></th>\n",
       "      <th>Added</th>\n",
       "      <th>Removed</th>\n",
       "    </tr>\n",
       "    <tr>\n",
       "      <th>Date</th>\n",
       "      <th></th>\n",
       "      <th></th>\n",
       "    </tr>\n",
       "  </thead>\n",
       "  <tbody>\n",
       "    <tr>\n",
       "      <th>2025-07-28</th>\n",
       "      <td>TRI</td>\n",
       "      <td></td>\n",
       "    </tr>\n",
       "    <tr>\n",
       "      <th>2025-07-17</th>\n",
       "      <td></td>\n",
       "      <td>ANSS</td>\n",
       "    </tr>\n",
       "    <tr>\n",
       "      <th>2025-05-19</th>\n",
       "      <td>SHOP</td>\n",
       "      <td>MDB</td>\n",
       "    </tr>\n",
       "    <tr>\n",
       "      <th>2024-12-23</th>\n",
       "      <td>PLTR</td>\n",
       "      <td>ILMN</td>\n",
       "    </tr>\n",
       "    <tr>\n",
       "      <th>2024-12-23</th>\n",
       "      <td>MSTR</td>\n",
       "      <td>MRNA</td>\n",
       "    </tr>\n",
       "    <tr>\n",
       "      <th>...</th>\n",
       "      <td>...</td>\n",
       "      <td>...</td>\n",
       "    </tr>\n",
       "    <tr>\n",
       "      <th>2007-07-12</th>\n",
       "      <td>FWLT</td>\n",
       "      <td>BMET</td>\n",
       "    </tr>\n",
       "    <tr>\n",
       "      <th>2007-06-01</th>\n",
       "      <td>CEPH</td>\n",
       "      <td>MEDI</td>\n",
       "    </tr>\n",
       "    <tr>\n",
       "      <th>2007-03-08</th>\n",
       "      <td>UAUA</td>\n",
       "      <td>AEOS</td>\n",
       "    </tr>\n",
       "    <tr>\n",
       "      <th>2007-02-14</th>\n",
       "      <td>RYAAY</td>\n",
       "      <td>APCC</td>\n",
       "    </tr>\n",
       "    <tr>\n",
       "      <th>2007-02-01</th>\n",
       "      <td>LOGI</td>\n",
       "      <td>CMVT</td>\n",
       "    </tr>\n",
       "  </tbody>\n",
       "</table>\n",
       "<p>207 rows × 2 columns</p>\n",
       "</div>"
      ]
     },
     "execution_count": 5,
     "metadata": {},
     "output_type": "execute_result"
    }
   ],
   "execution_count": 5
  },
  {
   "cell_type": "code",
   "id": "48c463b9-ff84-4821-85cb-6bde2c7350a6",
   "metadata": {
    "ExecuteTime": {
     "end_time": "2025-09-14T14:53:54.228893Z",
     "start_time": "2025-09-14T14:53:54.225081Z"
    }
   },
   "source": [
    "len(tickers)"
   ],
   "outputs": [
    {
     "data": {
      "text/plain": [
       "97"
      ]
     },
     "execution_count": 6,
     "metadata": {},
     "output_type": "execute_result"
    }
   ],
   "execution_count": 6
  },
  {
   "cell_type": "code",
   "id": "20a9d36e-3278-4048-b5f2-582ebcbdef5b",
   "metadata": {
    "scrolled": true,
    "ExecuteTime": {
     "end_time": "2025-09-14T14:53:55.839160Z",
     "start_time": "2025-09-14T14:53:55.727953Z"
    }
   },
   "source": [
    "# Supposons que la liste tickers ait déjà 503 éléments au départ\n",
    "# tickers = ['AAPL', 'MSFT', ...]  # Exemples de tickers initiaux\n",
    "\n",
    "# Initialiser un dictionnaire vide\n",
    "dict = {}\n",
    "\n",
    "# Boucle pour parcourir les données et mettre à jour le dictionnaire\n",
    "for i in range(0, len(Data_Change)):\n",
    "    \n",
    "    # Ajouter les nouveaux tickers (si ce n'est pas déjà un ensemble vide)\n",
    "    tickers.extend(Data_Change.Added[i])\n",
    "    \n",
    "    # Essayer de supprimer les tickers retirés, si possible\n",
    "    try:\n",
    "        tickers = [t for t in tickers if t not in Data_Change.Removed[i]]  # Supprimer les tickers retirés\n",
    "    except ValueError:\n",
    "        # Si l'élément à supprimer n'existe pas dans la liste, continuer sans erreur\n",
    "        pass\n",
    "    \n",
    "    # Trier les tickers\n",
    "    tickers = sorted(set(tickers))  # Utilisation de set pour éviter les doublons\n",
    "\n",
    "    # Ajouter une **copie** de la liste `tickers` dans le dictionnaire\n",
    "    dict[Data_Change.index[i]] = tickers.copy()\n",
    "\n",
    "df = pd.DataFrame(list(dict.items()), columns=['date', 'tickers'])\n",
    "\n",
    "df['date'] = pd.to_datetime(df['date'])\n",
    "\n",
    "# Mettre la colonne 'date' comme index\n",
    "df.set_index('date', inplace=True)\n",
    "\n",
    "df"
   ],
   "outputs": [
    {
     "name": "stderr",
     "output_type": "stream",
     "text": [
      "/var/folders/6k/82j2nnl13hj9ld7nmzpdt6fh0000gn/T/ipykernel_4768/1527443372.py:11: FutureWarning: Series.__getitem__ treating keys as positions is deprecated. In a future version, integer keys will always be treated as labels (consistent with DataFrame behavior). To access a value by position, use `ser.iloc[pos]`\n",
      "  tickers.extend(Data_Change.Added[i])\n",
      "/var/folders/6k/82j2nnl13hj9ld7nmzpdt6fh0000gn/T/ipykernel_4768/1527443372.py:15: FutureWarning: Series.__getitem__ treating keys as positions is deprecated. In a future version, integer keys will always be treated as labels (consistent with DataFrame behavior). To access a value by position, use `ser.iloc[pos]`\n",
      "  tickers = [t for t in tickers if t not in Data_Change.Removed[i]]  # Supprimer les tickers retirés\n"
     ]
    },
    {
     "data": {
      "text/plain": [
       "                                                      tickers\n",
       "date                                                         \n",
       "2025-07-28  [AAPL, ABNB, ADBE, ADI, ADP, ADSK, AEP, AMAT, ...\n",
       "2025-07-17  [AAPL, ABNB, ADBE, ADI, ADP, ADSK, AEP, AMAT, ...\n",
       "2025-05-19  [AAPL, ABNB, ADBE, ADI, ADP, ADSK, AEP, AMAT, ...\n",
       "2024-12-23  [A, AAPL, ABNB, ADBE, ADI, ADP, ADSK, AEP, AMA...\n",
       "2024-11-18  [A, AAPL, ABNB, ADBE, ADI, ADP, ADSK, AEP, AMA...\n",
       "...                                                       ...\n",
       "2007-07-12  [A, AAPL, ABNB, ADBE, ADI, ADP, ADSK, AEP, AMA...\n",
       "2007-06-01  [A, AAPL, ABNB, ADBE, ADI, ADP, ADSK, AEP, AMA...\n",
       "2007-03-08  [AAPL, ABNB, ADBE, ADI, ADP, ADSK, AEP, AMAT, ...\n",
       "2007-02-14  [AAPL, ABNB, ADBE, ADI, ADP, ADSK, AEP, AMAT, ...\n",
       "2007-02-01  [AAPL, ABNB, ADBE, ADI, ADP, ADSK, AEP, AMAT, ...\n",
       "\n",
       "[101 rows x 1 columns]"
      ],
      "text/html": [
       "<div>\n",
       "<style scoped>\n",
       "    .dataframe tbody tr th:only-of-type {\n",
       "        vertical-align: middle;\n",
       "    }\n",
       "\n",
       "    .dataframe tbody tr th {\n",
       "        vertical-align: top;\n",
       "    }\n",
       "\n",
       "    .dataframe thead th {\n",
       "        text-align: right;\n",
       "    }\n",
       "</style>\n",
       "<table border=\"1\" class=\"dataframe\">\n",
       "  <thead>\n",
       "    <tr style=\"text-align: right;\">\n",
       "      <th></th>\n",
       "      <th>tickers</th>\n",
       "    </tr>\n",
       "    <tr>\n",
       "      <th>date</th>\n",
       "      <th></th>\n",
       "    </tr>\n",
       "  </thead>\n",
       "  <tbody>\n",
       "    <tr>\n",
       "      <th>2025-07-28</th>\n",
       "      <td>[AAPL, ABNB, ADBE, ADI, ADP, ADSK, AEP, AMAT, ...</td>\n",
       "    </tr>\n",
       "    <tr>\n",
       "      <th>2025-07-17</th>\n",
       "      <td>[AAPL, ABNB, ADBE, ADI, ADP, ADSK, AEP, AMAT, ...</td>\n",
       "    </tr>\n",
       "    <tr>\n",
       "      <th>2025-05-19</th>\n",
       "      <td>[AAPL, ABNB, ADBE, ADI, ADP, ADSK, AEP, AMAT, ...</td>\n",
       "    </tr>\n",
       "    <tr>\n",
       "      <th>2024-12-23</th>\n",
       "      <td>[A, AAPL, ABNB, ADBE, ADI, ADP, ADSK, AEP, AMA...</td>\n",
       "    </tr>\n",
       "    <tr>\n",
       "      <th>2024-11-18</th>\n",
       "      <td>[A, AAPL, ABNB, ADBE, ADI, ADP, ADSK, AEP, AMA...</td>\n",
       "    </tr>\n",
       "    <tr>\n",
       "      <th>...</th>\n",
       "      <td>...</td>\n",
       "    </tr>\n",
       "    <tr>\n",
       "      <th>2007-07-12</th>\n",
       "      <td>[A, AAPL, ABNB, ADBE, ADI, ADP, ADSK, AEP, AMA...</td>\n",
       "    </tr>\n",
       "    <tr>\n",
       "      <th>2007-06-01</th>\n",
       "      <td>[A, AAPL, ABNB, ADBE, ADI, ADP, ADSK, AEP, AMA...</td>\n",
       "    </tr>\n",
       "    <tr>\n",
       "      <th>2007-03-08</th>\n",
       "      <td>[AAPL, ABNB, ADBE, ADI, ADP, ADSK, AEP, AMAT, ...</td>\n",
       "    </tr>\n",
       "    <tr>\n",
       "      <th>2007-02-14</th>\n",
       "      <td>[AAPL, ABNB, ADBE, ADI, ADP, ADSK, AEP, AMAT, ...</td>\n",
       "    </tr>\n",
       "    <tr>\n",
       "      <th>2007-02-01</th>\n",
       "      <td>[AAPL, ABNB, ADBE, ADI, ADP, ADSK, AEP, AMAT, ...</td>\n",
       "    </tr>\n",
       "  </tbody>\n",
       "</table>\n",
       "<p>101 rows × 1 columns</p>\n",
       "</div>"
      ]
     },
     "execution_count": 7,
     "metadata": {},
     "output_type": "execute_result"
    }
   ],
   "execution_count": 7
  },
  {
   "metadata": {
    "ExecuteTime": {
     "end_time": "2025-09-14T14:53:56.777066Z",
     "start_time": "2025-09-14T14:53:56.773335Z"
    }
   },
   "cell_type": "code",
   "source": [
    "# Récupère l'index en liste\n",
    "new_index = list(df.index)\n",
    "\n",
    "# Remplace la première valeur\n",
    "new_index[0] = datetime.today().date()\n",
    "\n",
    "# Réapplique l'index modifié\n",
    "df.index = pd.to_datetime(new_index)"
   ],
   "id": "7bb535b927d2bb5b",
   "outputs": [],
   "execution_count": 8
  },
  {
   "metadata": {
    "ExecuteTime": {
     "end_time": "2025-09-14T14:53:57.407725Z",
     "start_time": "2025-09-14T14:53:57.398350Z"
    }
   },
   "cell_type": "code",
   "source": "df",
   "id": "8726eeeb2cff1231",
   "outputs": [
    {
     "data": {
      "text/plain": [
       "                                                      tickers\n",
       "2025-09-14  [AAPL, ABNB, ADBE, ADI, ADP, ADSK, AEP, AMAT, ...\n",
       "2025-07-17  [AAPL, ABNB, ADBE, ADI, ADP, ADSK, AEP, AMAT, ...\n",
       "2025-05-19  [AAPL, ABNB, ADBE, ADI, ADP, ADSK, AEP, AMAT, ...\n",
       "2024-12-23  [A, AAPL, ABNB, ADBE, ADI, ADP, ADSK, AEP, AMA...\n",
       "2024-11-18  [A, AAPL, ABNB, ADBE, ADI, ADP, ADSK, AEP, AMA...\n",
       "...                                                       ...\n",
       "2007-07-12  [A, AAPL, ABNB, ADBE, ADI, ADP, ADSK, AEP, AMA...\n",
       "2007-06-01  [A, AAPL, ABNB, ADBE, ADI, ADP, ADSK, AEP, AMA...\n",
       "2007-03-08  [AAPL, ABNB, ADBE, ADI, ADP, ADSK, AEP, AMAT, ...\n",
       "2007-02-14  [AAPL, ABNB, ADBE, ADI, ADP, ADSK, AEP, AMAT, ...\n",
       "2007-02-01  [AAPL, ABNB, ADBE, ADI, ADP, ADSK, AEP, AMAT, ...\n",
       "\n",
       "[101 rows x 1 columns]"
      ],
      "text/html": [
       "<div>\n",
       "<style scoped>\n",
       "    .dataframe tbody tr th:only-of-type {\n",
       "        vertical-align: middle;\n",
       "    }\n",
       "\n",
       "    .dataframe tbody tr th {\n",
       "        vertical-align: top;\n",
       "    }\n",
       "\n",
       "    .dataframe thead th {\n",
       "        text-align: right;\n",
       "    }\n",
       "</style>\n",
       "<table border=\"1\" class=\"dataframe\">\n",
       "  <thead>\n",
       "    <tr style=\"text-align: right;\">\n",
       "      <th></th>\n",
       "      <th>tickers</th>\n",
       "    </tr>\n",
       "  </thead>\n",
       "  <tbody>\n",
       "    <tr>\n",
       "      <th>2025-09-14</th>\n",
       "      <td>[AAPL, ABNB, ADBE, ADI, ADP, ADSK, AEP, AMAT, ...</td>\n",
       "    </tr>\n",
       "    <tr>\n",
       "      <th>2025-07-17</th>\n",
       "      <td>[AAPL, ABNB, ADBE, ADI, ADP, ADSK, AEP, AMAT, ...</td>\n",
       "    </tr>\n",
       "    <tr>\n",
       "      <th>2025-05-19</th>\n",
       "      <td>[AAPL, ABNB, ADBE, ADI, ADP, ADSK, AEP, AMAT, ...</td>\n",
       "    </tr>\n",
       "    <tr>\n",
       "      <th>2024-12-23</th>\n",
       "      <td>[A, AAPL, ABNB, ADBE, ADI, ADP, ADSK, AEP, AMA...</td>\n",
       "    </tr>\n",
       "    <tr>\n",
       "      <th>2024-11-18</th>\n",
       "      <td>[A, AAPL, ABNB, ADBE, ADI, ADP, ADSK, AEP, AMA...</td>\n",
       "    </tr>\n",
       "    <tr>\n",
       "      <th>...</th>\n",
       "      <td>...</td>\n",
       "    </tr>\n",
       "    <tr>\n",
       "      <th>2007-07-12</th>\n",
       "      <td>[A, AAPL, ABNB, ADBE, ADI, ADP, ADSK, AEP, AMA...</td>\n",
       "    </tr>\n",
       "    <tr>\n",
       "      <th>2007-06-01</th>\n",
       "      <td>[A, AAPL, ABNB, ADBE, ADI, ADP, ADSK, AEP, AMA...</td>\n",
       "    </tr>\n",
       "    <tr>\n",
       "      <th>2007-03-08</th>\n",
       "      <td>[AAPL, ABNB, ADBE, ADI, ADP, ADSK, AEP, AMAT, ...</td>\n",
       "    </tr>\n",
       "    <tr>\n",
       "      <th>2007-02-14</th>\n",
       "      <td>[AAPL, ABNB, ADBE, ADI, ADP, ADSK, AEP, AMAT, ...</td>\n",
       "    </tr>\n",
       "    <tr>\n",
       "      <th>2007-02-01</th>\n",
       "      <td>[AAPL, ABNB, ADBE, ADI, ADP, ADSK, AEP, AMAT, ...</td>\n",
       "    </tr>\n",
       "  </tbody>\n",
       "</table>\n",
       "<p>101 rows × 1 columns</p>\n",
       "</div>"
      ]
     },
     "execution_count": 9,
     "metadata": {},
     "output_type": "execute_result"
    }
   ],
   "execution_count": 9
  },
  {
   "metadata": {
    "ExecuteTime": {
     "end_time": "2025-09-14T14:43:32.210932Z",
     "start_time": "2025-09-14T14:43:32.170211Z"
    }
   },
   "cell_type": "code",
   "source": [
    "\n",
    "data_SP500_old = pd.read_parquet('data_NASDAQ.parquet')\n",
    "last_date = data_SP500_old['Date'].sort_values(ascending=True).iloc[-1] + timedelta(days=1)\n",
    "last_date\n"
   ],
   "id": "d328e69739b0f844",
   "outputs": [
    {
     "data": {
      "text/plain": [
       "Timestamp('2025-09-13 00:00:00')"
      ]
     },
     "execution_count": 20,
     "metadata": {},
     "output_type": "execute_result"
    }
   ],
   "execution_count": 20
  },
  {
   "metadata": {
    "ExecuteTime": {
     "end_time": "2025-09-14T14:43:32.221105Z",
     "start_time": "2025-09-14T14:43:32.215674Z"
    }
   },
   "cell_type": "code",
   "source": [
    "\n",
    "df['Last_Date'] = last_date\n",
    "df"
   ],
   "id": "4ee6f7fd0f2fe091",
   "outputs": [
    {
     "data": {
      "text/plain": [
       "                                                      tickers  Last_Date\n",
       "2025-09-14  [AAPL, ABNB, ADBE, ADI, ADP, ADSK, AEP, AMAT, ... 2025-09-13\n",
       "2025-07-17  [AAPL, ABNB, ADBE, ADI, ADP, ADSK, AEP, AMAT, ... 2025-09-13\n",
       "2025-05-19  [AAPL, ABNB, ADBE, ADI, ADP, ADSK, AEP, AMAT, ... 2025-09-13\n",
       "2024-12-23  [A, AAPL, ABNB, ADBE, ADI, ADP, ADSK, AEP, AMA... 2025-09-13\n",
       "2024-11-18  [A, AAPL, ABNB, ADBE, ADI, ADP, ADSK, AEP, AMA... 2025-09-13\n",
       "...                                                       ...        ...\n",
       "2007-07-12  [A, AAPL, ABNB, ADBE, ADI, ADP, ADSK, AEP, AMA... 2025-09-13\n",
       "2007-06-01  [A, AAPL, ABNB, ADBE, ADI, ADP, ADSK, AEP, AMA... 2025-09-13\n",
       "2007-03-08  [AAPL, ABNB, ADBE, ADI, ADP, ADSK, AEP, AMAT, ... 2025-09-13\n",
       "2007-02-14  [AAPL, ABNB, ADBE, ADI, ADP, ADSK, AEP, AMAT, ... 2025-09-13\n",
       "2007-02-01  [AAPL, ABNB, ADBE, ADI, ADP, ADSK, AEP, AMAT, ... 2025-09-13\n",
       "\n",
       "[101 rows x 2 columns]"
      ],
      "text/html": [
       "<div>\n",
       "<style scoped>\n",
       "    .dataframe tbody tr th:only-of-type {\n",
       "        vertical-align: middle;\n",
       "    }\n",
       "\n",
       "    .dataframe tbody tr th {\n",
       "        vertical-align: top;\n",
       "    }\n",
       "\n",
       "    .dataframe thead th {\n",
       "        text-align: right;\n",
       "    }\n",
       "</style>\n",
       "<table border=\"1\" class=\"dataframe\">\n",
       "  <thead>\n",
       "    <tr style=\"text-align: right;\">\n",
       "      <th></th>\n",
       "      <th>tickers</th>\n",
       "      <th>Last_Date</th>\n",
       "    </tr>\n",
       "  </thead>\n",
       "  <tbody>\n",
       "    <tr>\n",
       "      <th>2025-09-14</th>\n",
       "      <td>[AAPL, ABNB, ADBE, ADI, ADP, ADSK, AEP, AMAT, ...</td>\n",
       "      <td>2025-09-13</td>\n",
       "    </tr>\n",
       "    <tr>\n",
       "      <th>2025-07-17</th>\n",
       "      <td>[AAPL, ABNB, ADBE, ADI, ADP, ADSK, AEP, AMAT, ...</td>\n",
       "      <td>2025-09-13</td>\n",
       "    </tr>\n",
       "    <tr>\n",
       "      <th>2025-05-19</th>\n",
       "      <td>[AAPL, ABNB, ADBE, ADI, ADP, ADSK, AEP, AMAT, ...</td>\n",
       "      <td>2025-09-13</td>\n",
       "    </tr>\n",
       "    <tr>\n",
       "      <th>2024-12-23</th>\n",
       "      <td>[A, AAPL, ABNB, ADBE, ADI, ADP, ADSK, AEP, AMA...</td>\n",
       "      <td>2025-09-13</td>\n",
       "    </tr>\n",
       "    <tr>\n",
       "      <th>2024-11-18</th>\n",
       "      <td>[A, AAPL, ABNB, ADBE, ADI, ADP, ADSK, AEP, AMA...</td>\n",
       "      <td>2025-09-13</td>\n",
       "    </tr>\n",
       "    <tr>\n",
       "      <th>...</th>\n",
       "      <td>...</td>\n",
       "      <td>...</td>\n",
       "    </tr>\n",
       "    <tr>\n",
       "      <th>2007-07-12</th>\n",
       "      <td>[A, AAPL, ABNB, ADBE, ADI, ADP, ADSK, AEP, AMA...</td>\n",
       "      <td>2025-09-13</td>\n",
       "    </tr>\n",
       "    <tr>\n",
       "      <th>2007-06-01</th>\n",
       "      <td>[A, AAPL, ABNB, ADBE, ADI, ADP, ADSK, AEP, AMA...</td>\n",
       "      <td>2025-09-13</td>\n",
       "    </tr>\n",
       "    <tr>\n",
       "      <th>2007-03-08</th>\n",
       "      <td>[AAPL, ABNB, ADBE, ADI, ADP, ADSK, AEP, AMAT, ...</td>\n",
       "      <td>2025-09-13</td>\n",
       "    </tr>\n",
       "    <tr>\n",
       "      <th>2007-02-14</th>\n",
       "      <td>[AAPL, ABNB, ADBE, ADI, ADP, ADSK, AEP, AMAT, ...</td>\n",
       "      <td>2025-09-13</td>\n",
       "    </tr>\n",
       "    <tr>\n",
       "      <th>2007-02-01</th>\n",
       "      <td>[AAPL, ABNB, ADBE, ADI, ADP, ADSK, AEP, AMAT, ...</td>\n",
       "      <td>2025-09-13</td>\n",
       "    </tr>\n",
       "  </tbody>\n",
       "</table>\n",
       "<p>101 rows × 2 columns</p>\n",
       "</div>"
      ]
     },
     "execution_count": 21,
     "metadata": {},
     "output_type": "execute_result"
    }
   ],
   "execution_count": 21
  },
  {
   "metadata": {
    "ExecuteTime": {
     "end_time": "2025-09-14T14:43:32.234629Z",
     "start_time": "2025-09-14T14:43:32.227308Z"
    }
   },
   "cell_type": "code",
   "source": [
    "\n",
    "# Initialiser une DataFrame vide pour stocker toutes les données\n",
    "data_SP500 = pd.DataFrame()\n",
    "\n",
    "df = df.explode('tickers')\n",
    "end_date = df[df.index > last_date].groupby('tickers').apply(lambda x: x.index.max())\n",
    "\n",
    "# Combiner les résultats dans une nouvelle DataFrame\n",
    "resultat = pd.DataFrame({'Start': last_date, 'End': end_date})\n",
    "resultat\n"
   ],
   "id": "1b8881d53f757d6b",
   "outputs": [
    {
     "name": "stderr",
     "output_type": "stream",
     "text": [
      "/var/folders/6k/82j2nnl13hj9ld7nmzpdt6fh0000gn/T/ipykernel_4734/2328952231.py:5: FutureWarning: DataFrameGroupBy.apply operated on the grouping columns. This behavior is deprecated, and in a future version of pandas the grouping columns will be excluded from the operation. Either pass `include_groups=False` to exclude the groupings or explicitly select the grouping columns after groupby to silence this warning.\n",
      "  end_date = df[df.index > last_date].groupby('tickers').apply(lambda x: x.index.max())\n"
     ]
    },
    {
     "data": {
      "text/plain": [
       "             Start        End\n",
       "tickers                      \n",
       "AAPL    2025-09-13 2025-09-14\n",
       "ABNB    2025-09-13 2025-09-14\n",
       "ADBE    2025-09-13 2025-09-14\n",
       "ADI     2025-09-13 2025-09-14\n",
       "ADP     2025-09-13 2025-09-14\n",
       "...            ...        ...\n",
       "VRTX    2025-09-13 2025-09-14\n",
       "WBD     2025-09-13 2025-09-14\n",
       "WDAY    2025-09-13 2025-09-14\n",
       "XEL     2025-09-13 2025-09-14\n",
       "ZS      2025-09-13 2025-09-14\n",
       "\n",
       "[100 rows x 2 columns]"
      ],
      "text/html": [
       "<div>\n",
       "<style scoped>\n",
       "    .dataframe tbody tr th:only-of-type {\n",
       "        vertical-align: middle;\n",
       "    }\n",
       "\n",
       "    .dataframe tbody tr th {\n",
       "        vertical-align: top;\n",
       "    }\n",
       "\n",
       "    .dataframe thead th {\n",
       "        text-align: right;\n",
       "    }\n",
       "</style>\n",
       "<table border=\"1\" class=\"dataframe\">\n",
       "  <thead>\n",
       "    <tr style=\"text-align: right;\">\n",
       "      <th></th>\n",
       "      <th>Start</th>\n",
       "      <th>End</th>\n",
       "    </tr>\n",
       "    <tr>\n",
       "      <th>tickers</th>\n",
       "      <th></th>\n",
       "      <th></th>\n",
       "    </tr>\n",
       "  </thead>\n",
       "  <tbody>\n",
       "    <tr>\n",
       "      <th>AAPL</th>\n",
       "      <td>2025-09-13</td>\n",
       "      <td>2025-09-14</td>\n",
       "    </tr>\n",
       "    <tr>\n",
       "      <th>ABNB</th>\n",
       "      <td>2025-09-13</td>\n",
       "      <td>2025-09-14</td>\n",
       "    </tr>\n",
       "    <tr>\n",
       "      <th>ADBE</th>\n",
       "      <td>2025-09-13</td>\n",
       "      <td>2025-09-14</td>\n",
       "    </tr>\n",
       "    <tr>\n",
       "      <th>ADI</th>\n",
       "      <td>2025-09-13</td>\n",
       "      <td>2025-09-14</td>\n",
       "    </tr>\n",
       "    <tr>\n",
       "      <th>ADP</th>\n",
       "      <td>2025-09-13</td>\n",
       "      <td>2025-09-14</td>\n",
       "    </tr>\n",
       "    <tr>\n",
       "      <th>...</th>\n",
       "      <td>...</td>\n",
       "      <td>...</td>\n",
       "    </tr>\n",
       "    <tr>\n",
       "      <th>VRTX</th>\n",
       "      <td>2025-09-13</td>\n",
       "      <td>2025-09-14</td>\n",
       "    </tr>\n",
       "    <tr>\n",
       "      <th>WBD</th>\n",
       "      <td>2025-09-13</td>\n",
       "      <td>2025-09-14</td>\n",
       "    </tr>\n",
       "    <tr>\n",
       "      <th>WDAY</th>\n",
       "      <td>2025-09-13</td>\n",
       "      <td>2025-09-14</td>\n",
       "    </tr>\n",
       "    <tr>\n",
       "      <th>XEL</th>\n",
       "      <td>2025-09-13</td>\n",
       "      <td>2025-09-14</td>\n",
       "    </tr>\n",
       "    <tr>\n",
       "      <th>ZS</th>\n",
       "      <td>2025-09-13</td>\n",
       "      <td>2025-09-14</td>\n",
       "    </tr>\n",
       "  </tbody>\n",
       "</table>\n",
       "<p>100 rows × 2 columns</p>\n",
       "</div>"
      ]
     },
     "execution_count": 22,
     "metadata": {},
     "output_type": "execute_result"
    }
   ],
   "execution_count": 22
  },
  {
   "metadata": {
    "ExecuteTime": {
     "end_time": "2025-09-14T14:54:10.872104Z",
     "start_time": "2025-09-14T14:54:10.850841Z"
    }
   },
   "cell_type": "code",
   "source": [
    "\"\"\"\n",
    "# Initialiser une DataFrame vide pour stocker toutes les données\n",
    "data_SP500 = pd.DataFrame()\n",
    "\n",
    "df = df.explode('tickers')\n",
    "start_date = df.groupby('tickers').apply(lambda x: x.index.min())\n",
    "end_date = df.groupby('tickers').apply(lambda x: x.index.max())\n",
    "\n",
    "# Combiner les résultats dans une nouvelle DataFrame\n",
    "resultat = pd.DataFrame({'Start': start_date, 'End': end_date})\n",
    "resultat\n",
    "\"\"\""
   ],
   "id": "435eb2e7a8761814",
   "outputs": [
    {
     "name": "stderr",
     "output_type": "stream",
     "text": [
      "/var/folders/6k/82j2nnl13hj9ld7nmzpdt6fh0000gn/T/ipykernel_4768/2969811319.py:5: FutureWarning: DataFrameGroupBy.apply operated on the grouping columns. This behavior is deprecated, and in a future version of pandas the grouping columns will be excluded from the operation. Either pass `include_groups=False` to exclude the groupings or explicitly select the grouping columns after groupby to silence this warning.\n",
      "  start_date = df.groupby('tickers').apply(lambda x: x.index.min())\n",
      "/var/folders/6k/82j2nnl13hj9ld7nmzpdt6fh0000gn/T/ipykernel_4768/2969811319.py:6: FutureWarning: DataFrameGroupBy.apply operated on the grouping columns. This behavior is deprecated, and in a future version of pandas the grouping columns will be excluded from the operation. Either pass `include_groups=False` to exclude the groupings or explicitly select the grouping columns after groupby to silence this warning.\n",
      "  end_date = df.groupby('tickers').apply(lambda x: x.index.max())\n"
     ]
    },
    {
     "data": {
      "text/plain": [
       "             Start        End\n",
       "tickers                      \n",
       "A       2007-06-01 2024-12-23\n",
       "AAPL    2007-02-01 2025-09-14\n",
       "ABNB    2007-02-01 2025-09-14\n",
       "ADBE    2007-02-01 2025-09-14\n",
       "ADI     2007-02-01 2025-09-14\n",
       "...            ...        ...\n",
       "X       2008-04-30 2024-12-23\n",
       "XEL     2007-02-01 2025-09-14\n",
       "Y       2007-02-01 2017-12-18\n",
       "Z       2011-05-27 2022-02-22\n",
       "ZS      2007-02-01 2025-09-14\n",
       "\n",
       "[123 rows x 2 columns]"
      ],
      "text/html": [
       "<div>\n",
       "<style scoped>\n",
       "    .dataframe tbody tr th:only-of-type {\n",
       "        vertical-align: middle;\n",
       "    }\n",
       "\n",
       "    .dataframe tbody tr th {\n",
       "        vertical-align: top;\n",
       "    }\n",
       "\n",
       "    .dataframe thead th {\n",
       "        text-align: right;\n",
       "    }\n",
       "</style>\n",
       "<table border=\"1\" class=\"dataframe\">\n",
       "  <thead>\n",
       "    <tr style=\"text-align: right;\">\n",
       "      <th></th>\n",
       "      <th>Start</th>\n",
       "      <th>End</th>\n",
       "    </tr>\n",
       "    <tr>\n",
       "      <th>tickers</th>\n",
       "      <th></th>\n",
       "      <th></th>\n",
       "    </tr>\n",
       "  </thead>\n",
       "  <tbody>\n",
       "    <tr>\n",
       "      <th>A</th>\n",
       "      <td>2007-06-01</td>\n",
       "      <td>2024-12-23</td>\n",
       "    </tr>\n",
       "    <tr>\n",
       "      <th>AAPL</th>\n",
       "      <td>2007-02-01</td>\n",
       "      <td>2025-09-14</td>\n",
       "    </tr>\n",
       "    <tr>\n",
       "      <th>ABNB</th>\n",
       "      <td>2007-02-01</td>\n",
       "      <td>2025-09-14</td>\n",
       "    </tr>\n",
       "    <tr>\n",
       "      <th>ADBE</th>\n",
       "      <td>2007-02-01</td>\n",
       "      <td>2025-09-14</td>\n",
       "    </tr>\n",
       "    <tr>\n",
       "      <th>ADI</th>\n",
       "      <td>2007-02-01</td>\n",
       "      <td>2025-09-14</td>\n",
       "    </tr>\n",
       "    <tr>\n",
       "      <th>...</th>\n",
       "      <td>...</td>\n",
       "      <td>...</td>\n",
       "    </tr>\n",
       "    <tr>\n",
       "      <th>X</th>\n",
       "      <td>2008-04-30</td>\n",
       "      <td>2024-12-23</td>\n",
       "    </tr>\n",
       "    <tr>\n",
       "      <th>XEL</th>\n",
       "      <td>2007-02-01</td>\n",
       "      <td>2025-09-14</td>\n",
       "    </tr>\n",
       "    <tr>\n",
       "      <th>Y</th>\n",
       "      <td>2007-02-01</td>\n",
       "      <td>2017-12-18</td>\n",
       "    </tr>\n",
       "    <tr>\n",
       "      <th>Z</th>\n",
       "      <td>2011-05-27</td>\n",
       "      <td>2022-02-22</td>\n",
       "    </tr>\n",
       "    <tr>\n",
       "      <th>ZS</th>\n",
       "      <td>2007-02-01</td>\n",
       "      <td>2025-09-14</td>\n",
       "    </tr>\n",
       "  </tbody>\n",
       "</table>\n",
       "<p>123 rows × 2 columns</p>\n",
       "</div>"
      ]
     },
     "execution_count": 10,
     "metadata": {},
     "output_type": "execute_result"
    }
   ],
   "execution_count": 10
  },
  {
   "cell_type": "code",
   "id": "8edfe1d8-b9a5-4a07-ae0a-164b36e7b60c",
   "metadata": {
    "ExecuteTime": {
     "end_time": "2025-09-14T14:54:41.268304Z",
     "start_time": "2025-09-14T14:54:14.267690Z"
    }
   },
   "source": [
    "# Télécharger les données pour chaque ticker\n",
    "for ticker in resultat.index:\n",
    "    start_date = resultat.loc[ticker, 'Start']\n",
    "    end_date = resultat.loc[ticker, 'End']\n",
    "\n",
    "    print(f\"Téléchargement des données pour {ticker} de {start_date} à {end_date}\")\n",
    "\n",
    "    # Télécharger les données de l'action entre les dates spécifiées\n",
    "    data = yf.download(\n",
    "                        ticker,\n",
    "                        start=start_date,\n",
    "                        end=end_date,\n",
    "                        interval=\"1d\",\n",
    "                        auto_adjust=True,\n",
    "                        actions=False\n",
    "                        )\n",
    "\n",
    "    # Ajouter une colonne pour identifier le ticker\n",
    "    data['Ticker'] = ticker\n",
    "\n",
    "    # On retire le niveau des tickers pour ne garder que 'Close' et 'Volume'\n",
    "    data.columns = data.columns.droplevel(level=1)\n",
    "    \n",
    "    # Concaténer les données dans la DataFrame globale\n",
    "    data_SP500 = pd.concat([data_SP500, data])\n",
    "\n",
    "# Affichage de la DataFrame résultante\n",
    "data_SP500"
   ],
   "outputs": [
    {
     "name": "stdout",
     "output_type": "stream",
     "text": [
      "Téléchargement des données pour A de 2007-06-01 00:00:00 à 2024-12-23 00:00:00\n"
     ]
    },
    {
     "name": "stderr",
     "output_type": "stream",
     "text": [
      "[*********************100%***********************]  1 of 1 completed\n"
     ]
    },
    {
     "name": "stdout",
     "output_type": "stream",
     "text": [
      "Téléchargement des données pour AAPL de 2007-02-01 00:00:00 à 2025-09-14 00:00:00\n"
     ]
    },
    {
     "name": "stderr",
     "output_type": "stream",
     "text": [
      "[*********************100%***********************]  1 of 1 completed\n",
      "[*********************100%***********************]  1 of 1 completed\n"
     ]
    },
    {
     "name": "stdout",
     "output_type": "stream",
     "text": [
      "Téléchargement des données pour ABNB de 2007-02-01 00:00:00 à 2025-09-14 00:00:00\n",
      "Téléchargement des données pour ADBE de 2007-02-01 00:00:00 à 2025-09-14 00:00:00\n"
     ]
    },
    {
     "name": "stderr",
     "output_type": "stream",
     "text": [
      "[*********************100%***********************]  1 of 1 completed\n",
      "[*********************100%***********************]  1 of 1 completed"
     ]
    },
    {
     "name": "stdout",
     "output_type": "stream",
     "text": [
      "Téléchargement des données pour ADI de 2007-02-01 00:00:00 à 2025-09-14 00:00:00\n"
     ]
    },
    {
     "name": "stderr",
     "output_type": "stream",
     "text": [
      "\n"
     ]
    },
    {
     "name": "stdout",
     "output_type": "stream",
     "text": [
      "Téléchargement des données pour ADP de 2007-02-01 00:00:00 à 2025-09-14 00:00:00\n"
     ]
    },
    {
     "name": "stderr",
     "output_type": "stream",
     "text": [
      "[*********************100%***********************]  1 of 1 completed\n"
     ]
    },
    {
     "name": "stdout",
     "output_type": "stream",
     "text": [
      "Téléchargement des données pour ADSK de 2007-02-01 00:00:00 à 2025-09-14 00:00:00\n"
     ]
    },
    {
     "name": "stderr",
     "output_type": "stream",
     "text": [
      "[*********************100%***********************]  1 of 1 completed\n"
     ]
    },
    {
     "name": "stdout",
     "output_type": "stream",
     "text": [
      "Téléchargement des données pour AEP de 2007-02-01 00:00:00 à 2025-09-14 00:00:00\n"
     ]
    },
    {
     "name": "stderr",
     "output_type": "stream",
     "text": [
      "[*********************100%***********************]  1 of 1 completed\n"
     ]
    },
    {
     "name": "stdout",
     "output_type": "stream",
     "text": [
      "Téléchargement des données pour AMAT de 2007-02-01 00:00:00 à 2025-09-14 00:00:00\n"
     ]
    },
    {
     "name": "stderr",
     "output_type": "stream",
     "text": [
      "[*********************100%***********************]  1 of 1 completed\n",
      "[*********************100%***********************]  1 of 1 completed\n"
     ]
    },
    {
     "name": "stdout",
     "output_type": "stream",
     "text": [
      "Téléchargement des données pour AMD de 2007-02-01 00:00:00 à 2025-09-14 00:00:00\n",
      "Téléchargement des données pour AMGN de 2007-02-01 00:00:00 à 2025-09-14 00:00:00\n"
     ]
    },
    {
     "name": "stderr",
     "output_type": "stream",
     "text": [
      "[*********************100%***********************]  1 of 1 completed\n",
      "[*********************100%***********************]  1 of 1 completed\n"
     ]
    },
    {
     "name": "stdout",
     "output_type": "stream",
     "text": [
      "Téléchargement des données pour AMZN de 2007-02-01 00:00:00 à 2025-09-14 00:00:00\n",
      "Téléchargement des données pour APP de 2007-02-01 00:00:00 à 2025-09-14 00:00:00\n"
     ]
    },
    {
     "name": "stderr",
     "output_type": "stream",
     "text": [
      "[*********************100%***********************]  1 of 1 completed\n",
      "[*********************100%***********************]  1 of 1 completed\n"
     ]
    },
    {
     "name": "stdout",
     "output_type": "stream",
     "text": [
      "Téléchargement des données pour ARM de 2007-02-01 00:00:00 à 2025-09-14 00:00:00\n",
      "Téléchargement des données pour AVGO de 2007-02-01 00:00:00 à 2025-09-14 00:00:00\n"
     ]
    },
    {
     "name": "stderr",
     "output_type": "stream",
     "text": [
      "[*********************100%***********************]  1 of 1 completed\n",
      "[*********************100%***********************]  1 of 1 completed\n"
     ]
    },
    {
     "name": "stdout",
     "output_type": "stream",
     "text": [
      "Téléchargement des données pour AXON de 2007-02-01 00:00:00 à 2025-09-14 00:00:00\n",
      "Téléchargement des données pour B de 2007-08-27 00:00:00 à 2023-12-18 00:00:00\n"
     ]
    },
    {
     "name": "stderr",
     "output_type": "stream",
     "text": [
      "[*********************100%***********************]  1 of 1 completed\n",
      "[*********************100%***********************]  1 of 1 completed\n"
     ]
    },
    {
     "name": "stdout",
     "output_type": "stream",
     "text": [
      "Téléchargement des données pour BIIB de 2007-02-01 00:00:00 à 2025-09-14 00:00:00\n",
      "Téléchargement des données pour BKNG de 2007-02-01 00:00:00 à 2025-09-14 00:00:00\n"
     ]
    },
    {
     "name": "stderr",
     "output_type": "stream",
     "text": [
      "[*********************100%***********************]  1 of 1 completed\n"
     ]
    },
    {
     "name": "stdout",
     "output_type": "stream",
     "text": [
      "Téléchargement des données pour BKR de 2007-02-01 00:00:00 à 2025-09-14 00:00:00\n"
     ]
    },
    {
     "name": "stderr",
     "output_type": "stream",
     "text": [
      "[*********************100%***********************]  1 of 1 completed\n"
     ]
    },
    {
     "name": "stdout",
     "output_type": "stream",
     "text": [
      "Téléchargement des données pour C de 2007-03-08 00:00:00 à 2024-07-22 00:00:00\n"
     ]
    },
    {
     "name": "stderr",
     "output_type": "stream",
     "text": [
      "[*********************100%***********************]  1 of 1 completed\n"
     ]
    },
    {
     "name": "stdout",
     "output_type": "stream",
     "text": [
      "Téléchargement des données pour CCEP de 2007-02-01 00:00:00 à 2025-09-14 00:00:00\n"
     ]
    },
    {
     "name": "stderr",
     "output_type": "stream",
     "text": [
      "[*********************100%***********************]  1 of 1 completed\n",
      "[*********************100%***********************]  1 of 1 completed\n"
     ]
    },
    {
     "name": "stdout",
     "output_type": "stream",
     "text": [
      "Téléchargement des données pour CDNS de 2009-01-20 00:00:00 à 2025-09-14 00:00:00\n",
      "Téléchargement des données pour CDW de 2022-01-24 00:00:00 à 2025-09-14 00:00:00\n"
     ]
    },
    {
     "name": "stderr",
     "output_type": "stream",
     "text": [
      "[*********************100%***********************]  1 of 1 completed\n",
      "[*********************100%***********************]  1 of 1 completed\n"
     ]
    },
    {
     "name": "stdout",
     "output_type": "stream",
     "text": [
      "Téléchargement des données pour CEG de 2007-02-01 00:00:00 à 2025-09-14 00:00:00\n",
      "Téléchargement des données pour CHTR de 2007-02-01 00:00:00 à 2025-09-14 00:00:00\n"
     ]
    },
    {
     "name": "stderr",
     "output_type": "stream",
     "text": [
      "[*********************100%***********************]  1 of 1 completed\n"
     ]
    },
    {
     "name": "stdout",
     "output_type": "stream",
     "text": [
      "Téléchargement des données pour CMCSA de 2007-02-01 00:00:00 à 2025-09-14 00:00:00\n"
     ]
    },
    {
     "name": "stderr",
     "output_type": "stream",
     "text": [
      "[*********************100%***********************]  1 of 1 completed\n",
      "[*********************100%***********************]  1 of 1 completed\n"
     ]
    },
    {
     "name": "stdout",
     "output_type": "stream",
     "text": [
      "Téléchargement des données pour COST de 2007-02-01 00:00:00 à 2025-09-14 00:00:00\n",
      "Téléchargement des données pour CPRT de 2007-02-01 00:00:00 à 2025-09-14 00:00:00\n"
     ]
    },
    {
     "name": "stderr",
     "output_type": "stream",
     "text": [
      "[*********************100%***********************]  1 of 1 completed\n",
      "[*********************100%***********************]  1 of 1 completed\n"
     ]
    },
    {
     "name": "stdout",
     "output_type": "stream",
     "text": [
      "Téléchargement des données pour CRWD de 2007-02-01 00:00:00 à 2025-09-14 00:00:00\n",
      "Téléchargement des données pour CSCO de 2007-02-01 00:00:00 à 2025-09-14 00:00:00\n"
     ]
    },
    {
     "name": "stderr",
     "output_type": "stream",
     "text": [
      "[*********************100%***********************]  1 of 1 completed\n",
      "[*********************100%***********************]  1 of 1 completed\n"
     ]
    },
    {
     "name": "stdout",
     "output_type": "stream",
     "text": [
      "Téléchargement des données pour CSGP de 2020-08-24 00:00:00 à 2025-09-14 00:00:00\n",
      "Téléchargement des données pour CSX de 2007-02-01 00:00:00 à 2025-09-14 00:00:00\n"
     ]
    },
    {
     "name": "stderr",
     "output_type": "stream",
     "text": [
      "[*********************100%***********************]  1 of 1 completed\n"
     ]
    },
    {
     "name": "stdout",
     "output_type": "stream",
     "text": [
      "Téléchargement des données pour CTAS de 2011-04-04 00:00:00 à 2025-09-14 00:00:00\n"
     ]
    },
    {
     "name": "stderr",
     "output_type": "stream",
     "text": [
      "[*********************100%***********************]  1 of 1 completed\n"
     ]
    },
    {
     "name": "stdout",
     "output_type": "stream",
     "text": [
      "Téléchargement des données pour CTSH de 2007-02-01 00:00:00 à 2025-09-14 00:00:00\n"
     ]
    },
    {
     "name": "stderr",
     "output_type": "stream",
     "text": [
      "[*********************100%***********************]  1 of 1 completed\n"
     ]
    },
    {
     "name": "stdout",
     "output_type": "stream",
     "text": [
      "Téléchargement des données pour D de 2007-07-12 00:00:00 à 2023-07-17 00:00:00\n"
     ]
    },
    {
     "name": "stderr",
     "output_type": "stream",
     "text": [
      "[*********************100%***********************]  1 of 1 completed\n",
      "[*********************100%***********************]  1 of 1 completed\n"
     ]
    },
    {
     "name": "stdout",
     "output_type": "stream",
     "text": [
      "Téléchargement des données pour DASH de 2007-02-01 00:00:00 à 2025-09-14 00:00:00\n",
      "Téléchargement des données pour DDOG de 2007-02-01 00:00:00 à 2025-09-14 00:00:00\n"
     ]
    },
    {
     "name": "stderr",
     "output_type": "stream",
     "text": [
      "[*********************100%***********************]  1 of 1 completed\n"
     ]
    },
    {
     "name": "stdout",
     "output_type": "stream",
     "text": [
      "Téléchargement des données pour DXCM de 2007-02-01 00:00:00 à 2025-09-14 00:00:00\n"
     ]
    },
    {
     "name": "stderr",
     "output_type": "stream",
     "text": [
      "[*********************100%***********************]  1 of 1 completed\n"
     ]
    },
    {
     "name": "stdout",
     "output_type": "stream",
     "text": [
      "Téléchargement des données pour E de 2007-08-27 00:00:00 à 2023-06-07 00:00:00\n"
     ]
    },
    {
     "name": "stderr",
     "output_type": "stream",
     "text": [
      "[*********************100%***********************]  1 of 1 completed\n",
      "[*********************100%***********************]  1 of 1 completed\n"
     ]
    },
    {
     "name": "stdout",
     "output_type": "stream",
     "text": [
      "Téléchargement des données pour EA de 2019-03-19 00:00:00 à 2025-09-14 00:00:00\n",
      "Téléchargement des données pour EXC de 2007-02-01 00:00:00 à 2025-09-14 00:00:00\n"
     ]
    },
    {
     "name": "stderr",
     "output_type": "stream",
     "text": [
      "[*********************100%***********************]  1 of 1 completed\n"
     ]
    },
    {
     "name": "stdout",
     "output_type": "stream",
     "text": [
      "Téléchargement des données pour F de 2007-02-01 00:00:00 à 2022-12-19 00:00:00\n"
     ]
    },
    {
     "name": "stderr",
     "output_type": "stream",
     "text": [
      "[*********************100%***********************]  1 of 1 completed\n",
      "[*********************100%***********************]  1 of 1 completed\n"
     ]
    },
    {
     "name": "stdout",
     "output_type": "stream",
     "text": [
      "Téléchargement des données pour FANG de 2007-02-01 00:00:00 à 2025-09-14 00:00:00\n",
      "Téléchargement des données pour FAST de 2007-02-01 00:00:00 à 2025-09-14 00:00:00\n"
     ]
    },
    {
     "name": "stderr",
     "output_type": "stream",
     "text": [
      "[*********************100%***********************]  1 of 1 completed\n",
      "[*********************100%***********************]  1 of 1 completed\n"
     ]
    },
    {
     "name": "stdout",
     "output_type": "stream",
     "text": [
      "Téléchargement des données pour FTNT de 2007-02-01 00:00:00 à 2025-09-14 00:00:00\n",
      "Téléchargement des données pour G de 2007-02-01 00:00:00 à 2023-06-07 00:00:00\n"
     ]
    },
    {
     "name": "stderr",
     "output_type": "stream",
     "text": [
      "[*********************100%***********************]  1 of 1 completed\n",
      "[*********************100%***********************]  1 of 1 completed\n"
     ]
    },
    {
     "name": "stdout",
     "output_type": "stream",
     "text": [
      "Téléchargement des données pour GEHC de 2007-02-01 00:00:00 à 2025-09-14 00:00:00\n",
      "Téléchargement des données pour GFS de 2007-02-01 00:00:00 à 2025-09-14 00:00:00\n"
     ]
    },
    {
     "name": "stderr",
     "output_type": "stream",
     "text": [
      "[*********************100%***********************]  1 of 1 completed\n"
     ]
    },
    {
     "name": "stdout",
     "output_type": "stream",
     "text": [
      "Téléchargement des données pour GILD de 2007-02-01 00:00:00 à 2025-09-14 00:00:00\n"
     ]
    },
    {
     "name": "stderr",
     "output_type": "stream",
     "text": [
      "[*********************100%***********************]  1 of 1 completed\n",
      "[*********************100%***********************]  1 of 1 completed\n"
     ]
    },
    {
     "name": "stdout",
     "output_type": "stream",
     "text": [
      "Téléchargement des données pour GOOG de 2007-02-01 00:00:00 à 2025-09-14 00:00:00\n",
      "Téléchargement des données pour H de 2007-02-01 00:00:00 à 2025-05-19 00:00:00\n"
     ]
    },
    {
     "name": "stderr",
     "output_type": "stream",
     "text": [
      "[*********************100%***********************]  1 of 1 completed\n"
     ]
    },
    {
     "name": "stdout",
     "output_type": "stream",
     "text": [
      "Téléchargement des données pour HON de 2007-02-01 00:00:00 à 2025-09-14 00:00:00\n"
     ]
    },
    {
     "name": "stderr",
     "output_type": "stream",
     "text": [
      "[*********************100%***********************]  1 of 1 completed\n"
     ]
    },
    {
     "name": "stdout",
     "output_type": "stream",
     "text": [
      "Téléchargement des données pour I de 2007-02-01 00:00:00 à 2025-09-14 00:00:00\n"
     ]
    },
    {
     "name": "stderr",
     "output_type": "stream",
     "text": [
      "[*********************100%***********************]  1 of 1 completed\n",
      "\n",
      "1 Failed download:\n",
      "['I']: YFTzMissingError('possibly delisted; no timezone found')\n",
      "[*********************100%***********************]  1 of 1 completed\n"
     ]
    },
    {
     "name": "stdout",
     "output_type": "stream",
     "text": [
      "Téléchargement des données pour IDXX de 2007-02-01 00:00:00 à 2025-09-14 00:00:00\n",
      "Téléchargement des données pour INTC de 2007-02-01 00:00:00 à 2025-09-14 00:00:00\n"
     ]
    },
    {
     "name": "stderr",
     "output_type": "stream",
     "text": [
      "[*********************100%***********************]  1 of 1 completed\n"
     ]
    },
    {
     "name": "stdout",
     "output_type": "stream",
     "text": [
      "Téléchargement des données pour INTU de 2007-02-01 00:00:00 à 2025-09-14 00:00:00\n"
     ]
    },
    {
     "name": "stderr",
     "output_type": "stream",
     "text": [
      "[*********************100%***********************]  1 of 1 completed\n",
      "[*********************100%***********************]  1 of 1 completed\n"
     ]
    },
    {
     "name": "stdout",
     "output_type": "stream",
     "text": [
      "Téléchargement des données pour ISRG de 2007-02-01 00:00:00 à 2025-09-14 00:00:00\n",
      "Téléchargement des données pour J de 2007-02-01 00:00:00 à 2017-02-07 00:00:00\n"
     ]
    },
    {
     "name": "stderr",
     "output_type": "stream",
     "text": [
      "[*********************100%***********************]  1 of 1 completed\n"
     ]
    },
    {
     "name": "stdout",
     "output_type": "stream",
     "text": [
      "Téléchargement des données pour K de 2009-01-20 00:00:00 à 2023-12-18 00:00:00\n"
     ]
    },
    {
     "name": "stderr",
     "output_type": "stream",
     "text": [
      "[*********************100%***********************]  1 of 1 completed\n",
      "[*********************100%***********************]  1 of 1 completed\n"
     ]
    },
    {
     "name": "stdout",
     "output_type": "stream",
     "text": [
      "Téléchargement des données pour KDP de 2007-02-01 00:00:00 à 2025-09-14 00:00:00\n",
      "Téléchargement des données pour KHC de 2007-02-01 00:00:00 à 2025-09-14 00:00:00\n"
     ]
    },
    {
     "name": "stderr",
     "output_type": "stream",
     "text": [
      "[*********************100%***********************]  1 of 1 completed\n",
      "[*********************100%***********************]  1 of 1 completed\n"
     ]
    },
    {
     "name": "stdout",
     "output_type": "stream",
     "text": [
      "Téléchargement des données pour KLAC de 2016-03-16 00:00:00 à 2025-09-14 00:00:00\n",
      "Téléchargement des données pour L de 2007-02-01 00:00:00 à 2023-12-18 00:00:00\n"
     ]
    },
    {
     "name": "stderr",
     "output_type": "stream",
     "text": [
      "[*********************100%***********************]  1 of 1 completed\n"
     ]
    },
    {
     "name": "stdout",
     "output_type": "stream",
     "text": [
      "Téléchargement des données pour LIN de 2007-02-01 00:00:00 à 2025-09-14 00:00:00\n"
     ]
    },
    {
     "name": "stderr",
     "output_type": "stream",
     "text": [
      "[*********************100%***********************]  1 of 1 completed\n",
      "[*********************100%***********************]  1 of 1 completed\n"
     ]
    },
    {
     "name": "stdout",
     "output_type": "stream",
     "text": [
      "Téléchargement des données pour LRCX de 2013-01-15 00:00:00 à 2025-09-14 00:00:00\n",
      "Téléchargement des données pour LULU de 2007-02-01 00:00:00 à 2025-09-14 00:00:00\n"
     ]
    },
    {
     "name": "stderr",
     "output_type": "stream",
     "text": [
      "[*********************100%***********************]  1 of 1 completed\n"
     ]
    },
    {
     "name": "stdout",
     "output_type": "stream",
     "text": [
      "Téléchargement des données pour M de 2007-08-27 00:00:00 à 2024-07-22 00:00:00\n"
     ]
    },
    {
     "name": "stderr",
     "output_type": "stream",
     "text": [
      "[*********************100%***********************]  1 of 1 completed\n"
     ]
    },
    {
     "name": "stdout",
     "output_type": "stream",
     "text": [
      "Téléchargement des données pour MAR de 2007-02-01 00:00:00 à 2025-09-14 00:00:00\n"
     ]
    },
    {
     "name": "stderr",
     "output_type": "stream",
     "text": [
      "[*********************100%***********************]  1 of 1 completed\n",
      "[*********************100%***********************]  1 of 1 completed"
     ]
    },
    {
     "name": "stdout",
     "output_type": "stream",
     "text": [
      "Téléchargement des données pour MCHP de 2014-04-03 00:00:00 à 2025-09-14 00:00:00\n"
     ]
    },
    {
     "name": "stderr",
     "output_type": "stream",
     "text": [
      "\n"
     ]
    },
    {
     "name": "stdout",
     "output_type": "stream",
     "text": [
      "Téléchargement des données pour MDLZ de 2007-02-01 00:00:00 à 2025-09-14 00:00:00\n"
     ]
    },
    {
     "name": "stderr",
     "output_type": "stream",
     "text": [
      "[*********************100%***********************]  1 of 1 completed\n",
      "[*********************100%***********************]  1 of 1 completed"
     ]
    },
    {
     "name": "stdout",
     "output_type": "stream",
     "text": [
      "Téléchargement des données pour MELI de 2007-02-01 00:00:00 à 2025-09-14 00:00:00\n"
     ]
    },
    {
     "name": "stderr",
     "output_type": "stream",
     "text": [
      "\n",
      "[*********************100%***********************]  1 of 1 completed\n"
     ]
    },
    {
     "name": "stdout",
     "output_type": "stream",
     "text": [
      "Téléchargement des données pour META de 2007-02-01 00:00:00 à 2025-09-14 00:00:00\n",
      "Téléchargement des données pour MNST de 2008-12-22 00:00:00 à 2025-09-14 00:00:00\n"
     ]
    },
    {
     "name": "stderr",
     "output_type": "stream",
     "text": [
      "[*********************100%***********************]  1 of 1 completed\n",
      "[*********************100%***********************]  1 of 1 completed\n"
     ]
    },
    {
     "name": "stdout",
     "output_type": "stream",
     "text": [
      "Téléchargement des données pour MRVL de 2013-01-15 00:00:00 à 2025-09-14 00:00:00\n",
      "Téléchargement des données pour MSFT de 2007-02-01 00:00:00 à 2025-09-14 00:00:00\n"
     ]
    },
    {
     "name": "stderr",
     "output_type": "stream",
     "text": [
      "[*********************100%***********************]  1 of 1 completed\n",
      "[*********************100%***********************]  1 of 1 completed\n"
     ]
    },
    {
     "name": "stdout",
     "output_type": "stream",
     "text": [
      "Téléchargement des données pour MSTR de 2007-02-01 00:00:00 à 2025-09-14 00:00:00\n",
      "Téléchargement des données pour MU de 2007-02-01 00:00:00 à 2025-09-14 00:00:00\n"
     ]
    },
    {
     "name": "stderr",
     "output_type": "stream",
     "text": [
      "[*********************100%***********************]  1 of 1 completed\n",
      "[*********************100%***********************]  1 of 1 completed\n",
      "\n",
      "1 Failed download:\n",
      "['N']: YFPricesMissingError('possibly delisted; no price data found  (1d 2007-10-08 00:00:00 -> 2024-12-23 00:00:00)')\n"
     ]
    },
    {
     "name": "stdout",
     "output_type": "stream",
     "text": [
      "Téléchargement des données pour N de 2007-10-08 00:00:00 à 2024-12-23 00:00:00\n",
      "Téléchargement des données pour NFLX de 2013-01-15 00:00:00 à 2025-09-14 00:00:00\n"
     ]
    },
    {
     "name": "stderr",
     "output_type": "stream",
     "text": [
      "[*********************100%***********************]  1 of 1 completed\n"
     ]
    },
    {
     "name": "stdout",
     "output_type": "stream",
     "text": [
      "Téléchargement des données pour NVDA de 2007-02-01 00:00:00 à 2025-09-14 00:00:00\n"
     ]
    },
    {
     "name": "stderr",
     "output_type": "stream",
     "text": [
      "[*********************100%***********************]  1 of 1 completed\n",
      "[*********************100%***********************]  1 of 1 completed\n"
     ]
    },
    {
     "name": "stdout",
     "output_type": "stream",
     "text": [
      "Téléchargement des données pour NXPI de 2017-03-20 00:00:00 à 2025-09-14 00:00:00\n",
      "Téléchargement des données pour O de 2007-02-01 00:00:00 à 2025-05-19 00:00:00\n"
     ]
    },
    {
     "name": "stderr",
     "output_type": "stream",
     "text": [
      "[*********************100%***********************]  1 of 1 completed\n"
     ]
    },
    {
     "name": "stdout",
     "output_type": "stream",
     "text": [
      "Téléchargement des données pour ODFL de 2007-02-01 00:00:00 à 2025-09-14 00:00:00\n"
     ]
    },
    {
     "name": "stderr",
     "output_type": "stream",
     "text": [
      "[*********************100%***********************]  1 of 1 completed\n",
      "[*********************100%***********************]  1 of 1 completed\n"
     ]
    },
    {
     "name": "stdout",
     "output_type": "stream",
     "text": [
      "Téléchargement des données pour ON de 2022-02-02 00:00:00 à 2025-09-14 00:00:00\n",
      "Téléchargement des données pour ORLY de 2007-02-01 00:00:00 à 2025-09-14 00:00:00\n"
     ]
    },
    {
     "name": "stderr",
     "output_type": "stream",
     "text": [
      "[*********************100%***********************]  1 of 1 completed\n",
      "[*********************100%***********************]  1 of 1 completed\n"
     ]
    },
    {
     "name": "stdout",
     "output_type": "stream",
     "text": [
      "Téléchargement des données pour P de 2007-03-08 00:00:00 à 2025-05-19 00:00:00\n",
      "Téléchargement des données pour PANW de 2007-02-01 00:00:00 à 2025-09-14 00:00:00\n"
     ]
    },
    {
     "name": "stderr",
     "output_type": "stream",
     "text": [
      "[*********************100%***********************]  1 of 1 completed\n"
     ]
    },
    {
     "name": "stdout",
     "output_type": "stream",
     "text": [
      "Téléchargement des données pour PAYX de 2007-02-01 00:00:00 à 2025-09-14 00:00:00\n"
     ]
    },
    {
     "name": "stderr",
     "output_type": "stream",
     "text": [
      "[*********************100%***********************]  1 of 1 completed\n"
     ]
    },
    {
     "name": "stdout",
     "output_type": "stream",
     "text": [
      "Téléchargement des données pour PCAR de 2007-02-01 00:00:00 à 2025-09-14 00:00:00\n"
     ]
    },
    {
     "name": "stderr",
     "output_type": "stream",
     "text": [
      "[*********************100%***********************]  1 of 1 completed\n",
      "[*********************100%***********************]  1 of 1 completed\n"
     ]
    },
    {
     "name": "stdout",
     "output_type": "stream",
     "text": [
      "Téléchargement des données pour PDD de 2007-02-01 00:00:00 à 2025-09-14 00:00:00\n",
      "Téléchargement des données pour PEP de 2007-02-01 00:00:00 à 2025-09-14 00:00:00\n"
     ]
    },
    {
     "name": "stderr",
     "output_type": "stream",
     "text": [
      "[*********************100%***********************]  1 of 1 completed\n",
      "[*********************100%***********************]  1 of 1 completed\n"
     ]
    },
    {
     "name": "stdout",
     "output_type": "stream",
     "text": [
      "Téléchargement des données pour PLTR de 2007-02-01 00:00:00 à 2025-09-14 00:00:00\n",
      "Téléchargement des données pour PYPL de 2007-02-01 00:00:00 à 2025-09-14 00:00:00\n"
     ]
    },
    {
     "name": "stderr",
     "output_type": "stream",
     "text": [
      "[*********************100%***********************]  1 of 1 completed\n",
      "[*********************100%***********************]  1 of 1 completed\n",
      "\n",
      "1 Failed download:\n",
      "['Q']: YFPricesMissingError('possibly delisted; no price data found  (1d 2007-02-01 00:00:00 -> 2012-12-24 00:00:00)')\n"
     ]
    },
    {
     "name": "stdout",
     "output_type": "stream",
     "text": [
      "Téléchargement des données pour Q de 2007-02-01 00:00:00 à 2012-12-24 00:00:00\n",
      "Téléchargement des données pour QCOM de 2007-02-01 00:00:00 à 2025-09-14 00:00:00\n"
     ]
    },
    {
     "name": "stderr",
     "output_type": "stream",
     "text": [
      "[*********************100%***********************]  1 of 1 completed\n"
     ]
    },
    {
     "name": "stdout",
     "output_type": "stream",
     "text": [
      "Téléchargement des données pour R de 2007-02-01 00:00:00 à 2025-09-14 00:00:00\n"
     ]
    },
    {
     "name": "stderr",
     "output_type": "stream",
     "text": [
      "[*********************100%***********************]  1 of 1 completed\n",
      "[*********************100%***********************]  1 of 1 completed\n"
     ]
    },
    {
     "name": "stdout",
     "output_type": "stream",
     "text": [
      "Téléchargement des données pour REGN de 2007-02-01 00:00:00 à 2025-09-14 00:00:00\n",
      "Téléchargement des données pour ROP de 2007-02-01 00:00:00 à 2025-09-14 00:00:00\n"
     ]
    },
    {
     "name": "stderr",
     "output_type": "stream",
     "text": [
      "[*********************100%***********************]  1 of 1 completed\n"
     ]
    },
    {
     "name": "stdout",
     "output_type": "stream",
     "text": [
      "Téléchargement des données pour ROST de 2008-04-30 00:00:00 à 2025-09-14 00:00:00\n"
     ]
    },
    {
     "name": "stderr",
     "output_type": "stream",
     "text": [
      "[*********************100%***********************]  1 of 1 completed\n",
      "[*********************100%***********************]  1 of 1 completed\n"
     ]
    },
    {
     "name": "stdout",
     "output_type": "stream",
     "text": [
      "Téléchargement des données pour S de 2009-01-20 00:00:00 à 2025-05-19 00:00:00\n",
      "Téléchargement des données pour SBUX de 2007-02-01 00:00:00 à 2025-09-14 00:00:00\n"
     ]
    },
    {
     "name": "stderr",
     "output_type": "stream",
     "text": [
      "[*********************100%***********************]  1 of 1 completed\n",
      "[*********************100%***********************]  1 of 1 completed\n"
     ]
    },
    {
     "name": "stdout",
     "output_type": "stream",
     "text": [
      "Téléchargement des données pour SHOP de 2007-02-01 00:00:00 à 2025-09-14 00:00:00\n",
      "Téléchargement des données pour SNPS de 2007-02-01 00:00:00 à 2025-09-14 00:00:00\n"
     ]
    },
    {
     "name": "stderr",
     "output_type": "stream",
     "text": [
      "[*********************100%***********************]  1 of 1 completed\n"
     ]
    },
    {
     "name": "stdout",
     "output_type": "stream",
     "text": [
      "Téléchargement des données pour T de 2007-10-08 00:00:00 à 2025-09-14 00:00:00\n"
     ]
    },
    {
     "name": "stderr",
     "output_type": "stream",
     "text": [
      "[*********************100%***********************]  1 of 1 completed\n",
      "[*********************100%***********************]  1 of 1 completed\n"
     ]
    },
    {
     "name": "stdout",
     "output_type": "stream",
     "text": [
      "Téléchargement des données pour TEAM de 2007-02-01 00:00:00 à 2025-09-14 00:00:00\n",
      "Téléchargement des données pour TMUS de 2007-02-01 00:00:00 à 2025-09-14 00:00:00\n"
     ]
    },
    {
     "name": "stderr",
     "output_type": "stream",
     "text": [
      "[*********************100%***********************]  1 of 1 completed\n",
      "[*********************100%***********************]  1 of 1 completed\n"
     ]
    },
    {
     "name": "stdout",
     "output_type": "stream",
     "text": [
      "Téléchargement des données pour TRI de 2017-06-19 00:00:00 à 2025-09-14 00:00:00\n",
      "Téléchargement des données pour TSLA de 2007-02-01 00:00:00 à 2025-09-14 00:00:00\n"
     ]
    },
    {
     "name": "stderr",
     "output_type": "stream",
     "text": [
      "[*********************100%***********************]  1 of 1 completed\n",
      "[*********************100%***********************]  1 of 1 completed\n"
     ]
    },
    {
     "name": "stdout",
     "output_type": "stream",
     "text": [
      "Téléchargement des données pour TTD de 2007-02-01 00:00:00 à 2025-09-14 00:00:00\n",
      "Téléchargement des données pour TTWO de 2021-07-21 00:00:00 à 2025-09-14 00:00:00\n"
     ]
    },
    {
     "name": "stderr",
     "output_type": "stream",
     "text": [
      "[*********************100%***********************]  1 of 1 completed\n"
     ]
    },
    {
     "name": "stdout",
     "output_type": "stream",
     "text": [
      "Téléchargement des données pour TXN de 2007-02-01 00:00:00 à 2025-09-14 00:00:00\n"
     ]
    },
    {
     "name": "stderr",
     "output_type": "stream",
     "text": [
      "[*********************100%***********************]  1 of 1 completed\n"
     ]
    },
    {
     "name": "stdout",
     "output_type": "stream",
     "text": [
      "Téléchargement des données pour U de 2007-02-01 00:00:00 à 2018-12-24 00:00:00\n"
     ]
    },
    {
     "name": "stderr",
     "output_type": "stream",
     "text": [
      "[*********************100%***********************]  1 of 1 completed\n",
      "\n",
      "1 Failed download:\n",
      "['U']: YFPricesMissingError('possibly delisted; no price data found  (1d 2007-02-01 00:00:00 -> 2018-12-24 00:00:00) (Yahoo error = \"Data doesn\\'t exist for startDate = 1170306000, endDate = 1545627600\")')\n",
      "[*********************100%***********************]  1 of 1 completed"
     ]
    },
    {
     "name": "stdout",
     "output_type": "stream",
     "text": [
      "Téléchargement des données pour V de 2007-02-14 00:00:00 à 2022-12-19 00:00:00\n",
      "Téléchargement des données pour VRTX de 2007-02-01 00:00:00 à 2025-09-14 00:00:00\n"
     ]
    },
    {
     "name": "stderr",
     "output_type": "stream",
     "text": [
      "\n",
      "[*********************100%***********************]  1 of 1 completed\n",
      "[*********************100%***********************]  1 of 1 completed\n"
     ]
    },
    {
     "name": "stdout",
     "output_type": "stream",
     "text": [
      "Téléchargement des données pour W de 2007-02-01 00:00:00 à 2023-12-18 00:00:00\n",
      "Téléchargement des données pour WBD de 2007-02-01 00:00:00 à 2025-09-14 00:00:00\n"
     ]
    },
    {
     "name": "stderr",
     "output_type": "stream",
     "text": [
      "[*********************100%***********************]  1 of 1 completed\n",
      "[*********************100%***********************]  1 of 1 completed\n"
     ]
    },
    {
     "name": "stdout",
     "output_type": "stream",
     "text": [
      "Téléchargement des données pour WDAY de 2007-02-01 00:00:00 à 2025-09-14 00:00:00\n",
      "Téléchargement des données pour X de 2008-04-30 00:00:00 à 2024-12-23 00:00:00\n"
     ]
    },
    {
     "name": "stderr",
     "output_type": "stream",
     "text": [
      "[*********************100%***********************]  1 of 1 completed\n",
      "\n",
      "1 Failed download:\n",
      "['X']: YFPricesMissingError('possibly delisted; no price data found  (1d 2008-04-30 00:00:00 -> 2024-12-23 00:00:00) (Yahoo error = \"No data found, symbol may be delisted\")')\n"
     ]
    },
    {
     "name": "stdout",
     "output_type": "stream",
     "text": [
      "Téléchargement des données pour XEL de 2007-02-01 00:00:00 à 2025-09-14 00:00:00\n"
     ]
    },
    {
     "name": "stderr",
     "output_type": "stream",
     "text": [
      "[*********************100%***********************]  1 of 1 completed\n"
     ]
    },
    {
     "name": "stdout",
     "output_type": "stream",
     "text": [
      "Téléchargement des données pour Y de 2007-02-01 00:00:00 à 2017-12-18 00:00:00\n"
     ]
    },
    {
     "name": "stderr",
     "output_type": "stream",
     "text": [
      "[*********************100%***********************]  1 of 1 completed\n",
      "\n",
      "1 Failed download:\n",
      "['Y']: YFTzMissingError('possibly delisted; no timezone found')\n",
      "[*********************100%***********************]  1 of 1 completed\n"
     ]
    },
    {
     "name": "stdout",
     "output_type": "stream",
     "text": [
      "Téléchargement des données pour Z de 2011-05-27 00:00:00 à 2022-02-22 00:00:00\n",
      "Téléchargement des données pour ZS de 2007-02-01 00:00:00 à 2025-09-14 00:00:00\n"
     ]
    },
    {
     "name": "stderr",
     "output_type": "stream",
     "text": [
      "[*********************100%***********************]  1 of 1 completed\n"
     ]
    },
    {
     "data": {
      "text/plain": [
       "Price            Close        High         Low        Open     Volume Ticker  \\\n",
       "Date                                                                           \n",
       "2007-06-01   24.376429   24.427373   24.102609   24.306381  2656759.0      A   \n",
       "2007-06-04   24.510162   24.599314   24.191767   24.198134  2229950.0      A   \n",
       "2007-06-05   24.497437   24.554747   24.319134   24.331870  2744274.0      A   \n",
       "2007-06-06   24.433748   24.516532   24.293654   24.312758  2975224.0      A   \n",
       "2007-06-07   23.726902   24.433742   23.726902   24.274543  3567416.0      A   \n",
       "...                ...         ...         ...         ...        ...    ...   \n",
       "2025-09-08  281.600006  281.760010  273.734009  275.000000  1839700.0     ZS   \n",
       "2025-09-09  282.290009  284.339996  279.000000  281.350006  1634400.0     ZS   \n",
       "2025-09-10  278.790009  288.890015  276.309998  284.299988  1836000.0     ZS   \n",
       "2025-09-11  286.660004  292.940002  281.450012  282.049988  1946700.0     ZS   \n",
       "2025-09-12  283.190002  288.529999  282.459991  286.899994  1357300.0     ZS   \n",
       "\n",
       "Price       Adj Close  \n",
       "Date                   \n",
       "2007-06-01        NaN  \n",
       "2007-06-04        NaN  \n",
       "2007-06-05        NaN  \n",
       "2007-06-06        NaN  \n",
       "2007-06-07        NaN  \n",
       "...               ...  \n",
       "2025-09-08        NaN  \n",
       "2025-09-09        NaN  \n",
       "2025-09-10        NaN  \n",
       "2025-09-11        NaN  \n",
       "2025-09-12        NaN  \n",
       "\n",
       "[430774 rows x 7 columns]"
      ],
      "text/html": [
       "<div>\n",
       "<style scoped>\n",
       "    .dataframe tbody tr th:only-of-type {\n",
       "        vertical-align: middle;\n",
       "    }\n",
       "\n",
       "    .dataframe tbody tr th {\n",
       "        vertical-align: top;\n",
       "    }\n",
       "\n",
       "    .dataframe thead th {\n",
       "        text-align: right;\n",
       "    }\n",
       "</style>\n",
       "<table border=\"1\" class=\"dataframe\">\n",
       "  <thead>\n",
       "    <tr style=\"text-align: right;\">\n",
       "      <th>Price</th>\n",
       "      <th>Close</th>\n",
       "      <th>High</th>\n",
       "      <th>Low</th>\n",
       "      <th>Open</th>\n",
       "      <th>Volume</th>\n",
       "      <th>Ticker</th>\n",
       "      <th>Adj Close</th>\n",
       "    </tr>\n",
       "    <tr>\n",
       "      <th>Date</th>\n",
       "      <th></th>\n",
       "      <th></th>\n",
       "      <th></th>\n",
       "      <th></th>\n",
       "      <th></th>\n",
       "      <th></th>\n",
       "      <th></th>\n",
       "    </tr>\n",
       "  </thead>\n",
       "  <tbody>\n",
       "    <tr>\n",
       "      <th>2007-06-01</th>\n",
       "      <td>24.376429</td>\n",
       "      <td>24.427373</td>\n",
       "      <td>24.102609</td>\n",
       "      <td>24.306381</td>\n",
       "      <td>2656759.0</td>\n",
       "      <td>A</td>\n",
       "      <td>NaN</td>\n",
       "    </tr>\n",
       "    <tr>\n",
       "      <th>2007-06-04</th>\n",
       "      <td>24.510162</td>\n",
       "      <td>24.599314</td>\n",
       "      <td>24.191767</td>\n",
       "      <td>24.198134</td>\n",
       "      <td>2229950.0</td>\n",
       "      <td>A</td>\n",
       "      <td>NaN</td>\n",
       "    </tr>\n",
       "    <tr>\n",
       "      <th>2007-06-05</th>\n",
       "      <td>24.497437</td>\n",
       "      <td>24.554747</td>\n",
       "      <td>24.319134</td>\n",
       "      <td>24.331870</td>\n",
       "      <td>2744274.0</td>\n",
       "      <td>A</td>\n",
       "      <td>NaN</td>\n",
       "    </tr>\n",
       "    <tr>\n",
       "      <th>2007-06-06</th>\n",
       "      <td>24.433748</td>\n",
       "      <td>24.516532</td>\n",
       "      <td>24.293654</td>\n",
       "      <td>24.312758</td>\n",
       "      <td>2975224.0</td>\n",
       "      <td>A</td>\n",
       "      <td>NaN</td>\n",
       "    </tr>\n",
       "    <tr>\n",
       "      <th>2007-06-07</th>\n",
       "      <td>23.726902</td>\n",
       "      <td>24.433742</td>\n",
       "      <td>23.726902</td>\n",
       "      <td>24.274543</td>\n",
       "      <td>3567416.0</td>\n",
       "      <td>A</td>\n",
       "      <td>NaN</td>\n",
       "    </tr>\n",
       "    <tr>\n",
       "      <th>...</th>\n",
       "      <td>...</td>\n",
       "      <td>...</td>\n",
       "      <td>...</td>\n",
       "      <td>...</td>\n",
       "      <td>...</td>\n",
       "      <td>...</td>\n",
       "      <td>...</td>\n",
       "    </tr>\n",
       "    <tr>\n",
       "      <th>2025-09-08</th>\n",
       "      <td>281.600006</td>\n",
       "      <td>281.760010</td>\n",
       "      <td>273.734009</td>\n",
       "      <td>275.000000</td>\n",
       "      <td>1839700.0</td>\n",
       "      <td>ZS</td>\n",
       "      <td>NaN</td>\n",
       "    </tr>\n",
       "    <tr>\n",
       "      <th>2025-09-09</th>\n",
       "      <td>282.290009</td>\n",
       "      <td>284.339996</td>\n",
       "      <td>279.000000</td>\n",
       "      <td>281.350006</td>\n",
       "      <td>1634400.0</td>\n",
       "      <td>ZS</td>\n",
       "      <td>NaN</td>\n",
       "    </tr>\n",
       "    <tr>\n",
       "      <th>2025-09-10</th>\n",
       "      <td>278.790009</td>\n",
       "      <td>288.890015</td>\n",
       "      <td>276.309998</td>\n",
       "      <td>284.299988</td>\n",
       "      <td>1836000.0</td>\n",
       "      <td>ZS</td>\n",
       "      <td>NaN</td>\n",
       "    </tr>\n",
       "    <tr>\n",
       "      <th>2025-09-11</th>\n",
       "      <td>286.660004</td>\n",
       "      <td>292.940002</td>\n",
       "      <td>281.450012</td>\n",
       "      <td>282.049988</td>\n",
       "      <td>1946700.0</td>\n",
       "      <td>ZS</td>\n",
       "      <td>NaN</td>\n",
       "    </tr>\n",
       "    <tr>\n",
       "      <th>2025-09-12</th>\n",
       "      <td>283.190002</td>\n",
       "      <td>288.529999</td>\n",
       "      <td>282.459991</td>\n",
       "      <td>286.899994</td>\n",
       "      <td>1357300.0</td>\n",
       "      <td>ZS</td>\n",
       "      <td>NaN</td>\n",
       "    </tr>\n",
       "  </tbody>\n",
       "</table>\n",
       "<p>430774 rows × 7 columns</p>\n",
       "</div>"
      ]
     },
     "execution_count": 11,
     "metadata": {},
     "output_type": "execute_result"
    }
   ],
   "execution_count": 11
  },
  {
   "metadata": {
    "ExecuteTime": {
     "end_time": "2025-09-14T14:59:34.950031Z",
     "start_time": "2025-09-14T14:59:34.929725Z"
    }
   },
   "cell_type": "code",
   "source": [
    "data_SP500 = data_SP500.reset_index()\n",
    "data_SP500"
   ],
   "id": "54fdf214b890458f",
   "outputs": [
    {
     "data": {
      "text/plain": [
       "Price        Date       Close        High         Low        Open     Volume  \\\n",
       "0      2007-06-01   24.376429   24.427373   24.102609   24.306381  2656759.0   \n",
       "1      2007-06-04   24.510162   24.599314   24.191767   24.198134  2229950.0   \n",
       "2      2007-06-05   24.497437   24.554747   24.319134   24.331870  2744274.0   \n",
       "3      2007-06-06   24.433748   24.516532   24.293654   24.312758  2975224.0   \n",
       "4      2007-06-07   23.726902   24.433742   23.726902   24.274543  3567416.0   \n",
       "...           ...         ...         ...         ...         ...        ...   \n",
       "430769 2025-09-08  281.600006  281.760010  273.734009  275.000000  1839700.0   \n",
       "430770 2025-09-09  282.290009  284.339996  279.000000  281.350006  1634400.0   \n",
       "430771 2025-09-10  278.790009  288.890015  276.309998  284.299988  1836000.0   \n",
       "430772 2025-09-11  286.660004  292.940002  281.450012  282.049988  1946700.0   \n",
       "430773 2025-09-12  283.190002  288.529999  282.459991  286.899994  1357300.0   \n",
       "\n",
       "Price  Ticker  Adj Close  \n",
       "0           A        NaN  \n",
       "1           A        NaN  \n",
       "2           A        NaN  \n",
       "3           A        NaN  \n",
       "4           A        NaN  \n",
       "...       ...        ...  \n",
       "430769     ZS        NaN  \n",
       "430770     ZS        NaN  \n",
       "430771     ZS        NaN  \n",
       "430772     ZS        NaN  \n",
       "430773     ZS        NaN  \n",
       "\n",
       "[430774 rows x 8 columns]"
      ],
      "text/html": [
       "<div>\n",
       "<style scoped>\n",
       "    .dataframe tbody tr th:only-of-type {\n",
       "        vertical-align: middle;\n",
       "    }\n",
       "\n",
       "    .dataframe tbody tr th {\n",
       "        vertical-align: top;\n",
       "    }\n",
       "\n",
       "    .dataframe thead th {\n",
       "        text-align: right;\n",
       "    }\n",
       "</style>\n",
       "<table border=\"1\" class=\"dataframe\">\n",
       "  <thead>\n",
       "    <tr style=\"text-align: right;\">\n",
       "      <th>Price</th>\n",
       "      <th>Date</th>\n",
       "      <th>Close</th>\n",
       "      <th>High</th>\n",
       "      <th>Low</th>\n",
       "      <th>Open</th>\n",
       "      <th>Volume</th>\n",
       "      <th>Ticker</th>\n",
       "      <th>Adj Close</th>\n",
       "    </tr>\n",
       "  </thead>\n",
       "  <tbody>\n",
       "    <tr>\n",
       "      <th>0</th>\n",
       "      <td>2007-06-01</td>\n",
       "      <td>24.376429</td>\n",
       "      <td>24.427373</td>\n",
       "      <td>24.102609</td>\n",
       "      <td>24.306381</td>\n",
       "      <td>2656759.0</td>\n",
       "      <td>A</td>\n",
       "      <td>NaN</td>\n",
       "    </tr>\n",
       "    <tr>\n",
       "      <th>1</th>\n",
       "      <td>2007-06-04</td>\n",
       "      <td>24.510162</td>\n",
       "      <td>24.599314</td>\n",
       "      <td>24.191767</td>\n",
       "      <td>24.198134</td>\n",
       "      <td>2229950.0</td>\n",
       "      <td>A</td>\n",
       "      <td>NaN</td>\n",
       "    </tr>\n",
       "    <tr>\n",
       "      <th>2</th>\n",
       "      <td>2007-06-05</td>\n",
       "      <td>24.497437</td>\n",
       "      <td>24.554747</td>\n",
       "      <td>24.319134</td>\n",
       "      <td>24.331870</td>\n",
       "      <td>2744274.0</td>\n",
       "      <td>A</td>\n",
       "      <td>NaN</td>\n",
       "    </tr>\n",
       "    <tr>\n",
       "      <th>3</th>\n",
       "      <td>2007-06-06</td>\n",
       "      <td>24.433748</td>\n",
       "      <td>24.516532</td>\n",
       "      <td>24.293654</td>\n",
       "      <td>24.312758</td>\n",
       "      <td>2975224.0</td>\n",
       "      <td>A</td>\n",
       "      <td>NaN</td>\n",
       "    </tr>\n",
       "    <tr>\n",
       "      <th>4</th>\n",
       "      <td>2007-06-07</td>\n",
       "      <td>23.726902</td>\n",
       "      <td>24.433742</td>\n",
       "      <td>23.726902</td>\n",
       "      <td>24.274543</td>\n",
       "      <td>3567416.0</td>\n",
       "      <td>A</td>\n",
       "      <td>NaN</td>\n",
       "    </tr>\n",
       "    <tr>\n",
       "      <th>...</th>\n",
       "      <td>...</td>\n",
       "      <td>...</td>\n",
       "      <td>...</td>\n",
       "      <td>...</td>\n",
       "      <td>...</td>\n",
       "      <td>...</td>\n",
       "      <td>...</td>\n",
       "      <td>...</td>\n",
       "    </tr>\n",
       "    <tr>\n",
       "      <th>430769</th>\n",
       "      <td>2025-09-08</td>\n",
       "      <td>281.600006</td>\n",
       "      <td>281.760010</td>\n",
       "      <td>273.734009</td>\n",
       "      <td>275.000000</td>\n",
       "      <td>1839700.0</td>\n",
       "      <td>ZS</td>\n",
       "      <td>NaN</td>\n",
       "    </tr>\n",
       "    <tr>\n",
       "      <th>430770</th>\n",
       "      <td>2025-09-09</td>\n",
       "      <td>282.290009</td>\n",
       "      <td>284.339996</td>\n",
       "      <td>279.000000</td>\n",
       "      <td>281.350006</td>\n",
       "      <td>1634400.0</td>\n",
       "      <td>ZS</td>\n",
       "      <td>NaN</td>\n",
       "    </tr>\n",
       "    <tr>\n",
       "      <th>430771</th>\n",
       "      <td>2025-09-10</td>\n",
       "      <td>278.790009</td>\n",
       "      <td>288.890015</td>\n",
       "      <td>276.309998</td>\n",
       "      <td>284.299988</td>\n",
       "      <td>1836000.0</td>\n",
       "      <td>ZS</td>\n",
       "      <td>NaN</td>\n",
       "    </tr>\n",
       "    <tr>\n",
       "      <th>430772</th>\n",
       "      <td>2025-09-11</td>\n",
       "      <td>286.660004</td>\n",
       "      <td>292.940002</td>\n",
       "      <td>281.450012</td>\n",
       "      <td>282.049988</td>\n",
       "      <td>1946700.0</td>\n",
       "      <td>ZS</td>\n",
       "      <td>NaN</td>\n",
       "    </tr>\n",
       "    <tr>\n",
       "      <th>430773</th>\n",
       "      <td>2025-09-12</td>\n",
       "      <td>283.190002</td>\n",
       "      <td>288.529999</td>\n",
       "      <td>282.459991</td>\n",
       "      <td>286.899994</td>\n",
       "      <td>1357300.0</td>\n",
       "      <td>ZS</td>\n",
       "      <td>NaN</td>\n",
       "    </tr>\n",
       "  </tbody>\n",
       "</table>\n",
       "<p>430774 rows × 8 columns</p>\n",
       "</div>"
      ]
     },
     "execution_count": 12,
     "metadata": {},
     "output_type": "execute_result"
    }
   ],
   "execution_count": 12
  },
  {
   "metadata": {
    "ExecuteTime": {
     "end_time": "2025-09-14T14:43:46.063799Z",
     "start_time": "2025-09-14T14:43:46.052976Z"
    }
   },
   "cell_type": "code",
   "source": [
    "df_concat = pd.concat([data_SP500, data_SP500_old])\n",
    "df_concat"
   ],
   "id": "98ab86e6f982813f",
   "outputs": [
    {
     "data": {
      "text/plain": [
       "Price       Date       Close        High         Low        Open      Volume  \\\n",
       "0     2025-09-12  234.070007  234.509995  229.020004  229.270004  55220889.0   \n",
       "1     2025-09-12  122.550003  123.449997  121.839996  122.989998   5072519.0   \n",
       "2     2025-09-12  349.359985  366.500000  341.609985  360.200012  14079176.0   \n",
       "3     2025-09-12  245.210007  248.229996  244.979996  247.619995   2109608.0   \n",
       "4     2025-09-12  293.500000  296.855011  292.190002  294.959991   1100046.0   \n",
       "..           ...         ...         ...         ...         ...         ...   \n",
       "70    2025-09-12  107.500000  108.419998  107.199997  107.430000   4781900.0   \n",
       "71    2025-09-12  196.289993  199.949997  196.160004  197.179993   4429800.0   \n",
       "72    2025-09-12  135.110001  135.970001  134.679993  135.089996   1305400.0   \n",
       "62    2025-09-12  509.899994  512.549988  503.850006  506.649994  23612600.0   \n",
       "0     2025-09-12  234.070007  234.509995  229.020004  229.220001  55776500.0   \n",
       "\n",
       "Price Ticker  Adj Close  \n",
       "0       AAPL        NaN  \n",
       "1       ABNB        NaN  \n",
       "2       ADBE        NaN  \n",
       "3        ADI        NaN  \n",
       "4        ADP        NaN  \n",
       "..       ...        ...  \n",
       "70      ORLY        NaN  \n",
       "71      PANW        NaN  \n",
       "72      PAYX        NaN  \n",
       "62      MSFT        NaN  \n",
       "0       AAPL        NaN  \n",
       "\n",
       "[430873 rows x 8 columns]"
      ],
      "text/html": [
       "<div>\n",
       "<style scoped>\n",
       "    .dataframe tbody tr th:only-of-type {\n",
       "        vertical-align: middle;\n",
       "    }\n",
       "\n",
       "    .dataframe tbody tr th {\n",
       "        vertical-align: top;\n",
       "    }\n",
       "\n",
       "    .dataframe thead th {\n",
       "        text-align: right;\n",
       "    }\n",
       "</style>\n",
       "<table border=\"1\" class=\"dataframe\">\n",
       "  <thead>\n",
       "    <tr style=\"text-align: right;\">\n",
       "      <th>Price</th>\n",
       "      <th>Date</th>\n",
       "      <th>Close</th>\n",
       "      <th>High</th>\n",
       "      <th>Low</th>\n",
       "      <th>Open</th>\n",
       "      <th>Volume</th>\n",
       "      <th>Ticker</th>\n",
       "      <th>Adj Close</th>\n",
       "    </tr>\n",
       "  </thead>\n",
       "  <tbody>\n",
       "    <tr>\n",
       "      <th>0</th>\n",
       "      <td>2025-09-12</td>\n",
       "      <td>234.070007</td>\n",
       "      <td>234.509995</td>\n",
       "      <td>229.020004</td>\n",
       "      <td>229.270004</td>\n",
       "      <td>55220889.0</td>\n",
       "      <td>AAPL</td>\n",
       "      <td>NaN</td>\n",
       "    </tr>\n",
       "    <tr>\n",
       "      <th>1</th>\n",
       "      <td>2025-09-12</td>\n",
       "      <td>122.550003</td>\n",
       "      <td>123.449997</td>\n",
       "      <td>121.839996</td>\n",
       "      <td>122.989998</td>\n",
       "      <td>5072519.0</td>\n",
       "      <td>ABNB</td>\n",
       "      <td>NaN</td>\n",
       "    </tr>\n",
       "    <tr>\n",
       "      <th>2</th>\n",
       "      <td>2025-09-12</td>\n",
       "      <td>349.359985</td>\n",
       "      <td>366.500000</td>\n",
       "      <td>341.609985</td>\n",
       "      <td>360.200012</td>\n",
       "      <td>14079176.0</td>\n",
       "      <td>ADBE</td>\n",
       "      <td>NaN</td>\n",
       "    </tr>\n",
       "    <tr>\n",
       "      <th>3</th>\n",
       "      <td>2025-09-12</td>\n",
       "      <td>245.210007</td>\n",
       "      <td>248.229996</td>\n",
       "      <td>244.979996</td>\n",
       "      <td>247.619995</td>\n",
       "      <td>2109608.0</td>\n",
       "      <td>ADI</td>\n",
       "      <td>NaN</td>\n",
       "    </tr>\n",
       "    <tr>\n",
       "      <th>4</th>\n",
       "      <td>2025-09-12</td>\n",
       "      <td>293.500000</td>\n",
       "      <td>296.855011</td>\n",
       "      <td>292.190002</td>\n",
       "      <td>294.959991</td>\n",
       "      <td>1100046.0</td>\n",
       "      <td>ADP</td>\n",
       "      <td>NaN</td>\n",
       "    </tr>\n",
       "    <tr>\n",
       "      <th>...</th>\n",
       "      <td>...</td>\n",
       "      <td>...</td>\n",
       "      <td>...</td>\n",
       "      <td>...</td>\n",
       "      <td>...</td>\n",
       "      <td>...</td>\n",
       "      <td>...</td>\n",
       "      <td>...</td>\n",
       "    </tr>\n",
       "    <tr>\n",
       "      <th>70</th>\n",
       "      <td>2025-09-12</td>\n",
       "      <td>107.500000</td>\n",
       "      <td>108.419998</td>\n",
       "      <td>107.199997</td>\n",
       "      <td>107.430000</td>\n",
       "      <td>4781900.0</td>\n",
       "      <td>ORLY</td>\n",
       "      <td>NaN</td>\n",
       "    </tr>\n",
       "    <tr>\n",
       "      <th>71</th>\n",
       "      <td>2025-09-12</td>\n",
       "      <td>196.289993</td>\n",
       "      <td>199.949997</td>\n",
       "      <td>196.160004</td>\n",
       "      <td>197.179993</td>\n",
       "      <td>4429800.0</td>\n",
       "      <td>PANW</td>\n",
       "      <td>NaN</td>\n",
       "    </tr>\n",
       "    <tr>\n",
       "      <th>72</th>\n",
       "      <td>2025-09-12</td>\n",
       "      <td>135.110001</td>\n",
       "      <td>135.970001</td>\n",
       "      <td>134.679993</td>\n",
       "      <td>135.089996</td>\n",
       "      <td>1305400.0</td>\n",
       "      <td>PAYX</td>\n",
       "      <td>NaN</td>\n",
       "    </tr>\n",
       "    <tr>\n",
       "      <th>62</th>\n",
       "      <td>2025-09-12</td>\n",
       "      <td>509.899994</td>\n",
       "      <td>512.549988</td>\n",
       "      <td>503.850006</td>\n",
       "      <td>506.649994</td>\n",
       "      <td>23612600.0</td>\n",
       "      <td>MSFT</td>\n",
       "      <td>NaN</td>\n",
       "    </tr>\n",
       "    <tr>\n",
       "      <th>0</th>\n",
       "      <td>2025-09-12</td>\n",
       "      <td>234.070007</td>\n",
       "      <td>234.509995</td>\n",
       "      <td>229.020004</td>\n",
       "      <td>229.220001</td>\n",
       "      <td>55776500.0</td>\n",
       "      <td>AAPL</td>\n",
       "      <td>NaN</td>\n",
       "    </tr>\n",
       "  </tbody>\n",
       "</table>\n",
       "<p>430873 rows × 8 columns</p>\n",
       "</div>"
      ]
     },
     "execution_count": 26,
     "metadata": {},
     "output_type": "execute_result"
    }
   ],
   "execution_count": 26
  },
  {
   "metadata": {
    "ExecuteTime": {
     "end_time": "2025-09-14T14:43:46.093128Z",
     "start_time": "2025-09-14T14:43:46.067399Z"
    }
   },
   "cell_type": "code",
   "source": [
    "df_concat.sort_values(by=['Date'], ascending=True, inplace=True)\n",
    "df_concat.tail(50)"
   ],
   "id": "600040841afb92f6",
   "outputs": [
    {
     "data": {
      "text/plain": [
       "Price       Date        Close         High          Low         Open  \\\n",
       "50    2025-09-12    26.129999    26.570000    26.045000    26.559999   \n",
       "77    2025-09-12    66.889999    67.750000    66.860001    67.209999   \n",
       "78    2025-09-12   161.830002   162.300003   159.580002   161.330002   \n",
       "79    2025-09-12   187.449997   190.360001   187.309998   189.039993   \n",
       "80    2025-09-12   560.000000   570.000000   559.450012   567.340027   \n",
       "81    2025-09-12   512.530029   517.163208   512.080017   515.580017   \n",
       "82    2025-09-12   147.899994   150.339996   146.770096   149.990005   \n",
       "83    2025-09-12    81.900002    82.542801    81.199997    82.370003   \n",
       "84    2025-09-12   143.380005   144.619995   141.529999   143.520004   \n",
       "85    2025-09-12   425.450012   444.190002   421.950012   444.190002   \n",
       "86    2025-09-12    29.570000    29.600000    29.294901    29.420000   \n",
       "87    2025-09-12   174.869995   177.050003   173.940002   176.979996   \n",
       "88    2025-09-12   241.720001   242.820007   239.679993   240.110001   \n",
       "89    2025-09-12   172.990005   173.794998   171.910004   172.699997   \n",
       "90    2025-09-12   395.940002   396.689911   370.239990   370.980011   \n",
       "91    2025-09-12    45.150002    46.180000    45.049999    45.370998   \n",
       "92    2025-09-12   246.259995   248.259995   244.029999   245.970001   \n",
       "93    2025-09-12   182.600006   184.339996   182.339996   184.339996   \n",
       "94    2025-09-12   394.529999   396.829987   393.200012   394.679993   \n",
       "95    2025-09-12    18.870001    19.330000    17.219999    17.530001   \n",
       "96    2025-09-12   223.389999   227.339996   222.110001   226.169998   \n",
       "97    2025-09-12    73.349998    73.720001    72.599998    72.750000   \n",
       "76    2025-09-12   171.429993   171.529999   164.009995   165.360001   \n",
       "75    2025-09-12   143.529999   144.244995   142.899994   144.070007   \n",
       "74    2025-09-12   125.440002   126.059998   123.769997   125.974998   \n",
       "73    2025-09-12   102.510002   103.480003   100.570000   101.500000   \n",
       "51    2025-09-12   964.020020   968.089905   955.000000   956.440002   \n",
       "52    2025-09-12   482.040009   483.915009   479.140015   479.160004   \n",
       "53    2025-09-12   116.959999   117.500000   115.875000   115.875000   \n",
       "54    2025-09-12   159.865005   165.910004   159.750000   165.289993   \n",
       "55    2025-09-12   266.500000   267.779999   263.850006   266.880005   \n",
       "56    2025-09-12    64.699997    65.650002    64.410004    65.120003   \n",
       "57    2025-09-12    61.980000    62.470001    61.685001    61.974998   \n",
       "58    2025-09-12  2339.360107  2352.379883  2290.500000  2325.000000   \n",
       "59    2025-09-12   755.590027   757.570312   743.760010   748.724976   \n",
       "60    2025-09-12    64.690002    64.779999    63.645000    63.799999   \n",
       "62    2025-09-12   509.899994   512.549988   503.850006   506.649994   \n",
       "61    2025-09-12    67.349998    67.739998    66.139999    67.500000   \n",
       "63    2025-09-12   331.440002   336.130096   327.600006   329.320007   \n",
       "64    2025-09-12   157.229996   158.279999   153.210007   153.595001   \n",
       "65    2025-09-12  1188.439941  1211.780029  1182.400024  1203.494995   \n",
       "66    2025-09-12   177.820007   178.589996   176.449997   177.770004   \n",
       "67    2025-09-12   218.820007   223.089996   218.600006   222.660004   \n",
       "68    2025-09-12   144.889999   149.229996   144.464996   148.510193   \n",
       "69    2025-09-12    48.259998    49.119999    48.049999    48.939999   \n",
       "70    2025-09-12   107.500000   108.419998   107.199997   107.430000   \n",
       "71    2025-09-12   196.289993   199.940002   196.154999   198.274994   \n",
       "72    2025-09-12   135.110001   135.970001   134.681396   135.089996   \n",
       "62    2025-09-12   509.899994   512.549988   503.868408   506.510010   \n",
       "0     2025-09-12   234.070007   234.509995   229.020004   229.220001   \n",
       "\n",
       "Price       Volume Ticker  Adj Close  \n",
       "50      17124131.0    KHC        NaN  \n",
       "77       7492019.0   PYPL        NaN  \n",
       "78       5427894.0   QCOM        NaN  \n",
       "79        409814.0      R        NaN  \n",
       "80        592210.0   REGN        NaN  \n",
       "81        603426.0    ROP        NaN  \n",
       "82       2053962.0   ROST        NaN  \n",
       "83       9717959.0   SBUX        NaN  \n",
       "84       4905477.0   SHOP        NaN  \n",
       "85       6638146.0   SNPS        NaN  \n",
       "86      17582101.0      T        NaN  \n",
       "87       1384598.0   TEAM        NaN  \n",
       "88       3085705.0   TMUS        NaN  \n",
       "89        585213.0    TRI        NaN  \n",
       "90     161839906.0   TSLA        NaN  \n",
       "91      19380783.0    TTD        NaN  \n",
       "92        993349.0   TTWO        NaN  \n",
       "93       5847889.0    TXN        NaN  \n",
       "94        976893.0   VRTX        NaN  \n",
       "95     285398706.0    WBD        NaN  \n",
       "96       2512550.0   WDAY        NaN  \n",
       "97       7080363.0    XEL        NaN  \n",
       "76      53334275.0   PLTR        NaN  \n",
       "75       5683061.0    PEP        NaN  \n",
       "74       4434924.0    PDD        NaN  \n",
       "73       3809654.0   PCAR        NaN  \n",
       "51        583884.0   KLAC        NaN  \n",
       "52       2068480.0    LIN        NaN  \n",
       "53      11009952.0   LRCX        NaN  \n",
       "54       7919375.0   LULU        NaN  \n",
       "55       1026526.0    MAR        NaN  \n",
       "56       4498908.0   MCHP        NaN  \n",
       "57       4809729.0   MDLZ        NaN  \n",
       "58        529313.0   MELI        NaN  \n",
       "59       7784119.0   META        NaN  \n",
       "60       4841413.0   MNST        NaN  \n",
       "62      23612600.0   MSFT        NaN  \n",
       "61      14837501.0   MRVL        NaN  \n",
       "63      10771905.0   MSTR        NaN  \n",
       "64      32180131.0     MU        NaN  \n",
       "65       3768854.0   NFLX        NaN  \n",
       "66     121530793.0   NVDA        NaN  \n",
       "67       2061704.0   NXPI        NaN  \n",
       "68       1861675.0   ODFL        NaN  \n",
       "69       4281839.0     ON        NaN  \n",
       "70       4676151.0   ORLY        NaN  \n",
       "71       3865672.0   PANW        NaN  \n",
       "72       1305369.0   PAYX        NaN  \n",
       "62      23242411.0   MSFT        NaN  \n",
       "0       55776500.0   AAPL        NaN  "
      ],
      "text/html": [
       "<div>\n",
       "<style scoped>\n",
       "    .dataframe tbody tr th:only-of-type {\n",
       "        vertical-align: middle;\n",
       "    }\n",
       "\n",
       "    .dataframe tbody tr th {\n",
       "        vertical-align: top;\n",
       "    }\n",
       "\n",
       "    .dataframe thead th {\n",
       "        text-align: right;\n",
       "    }\n",
       "</style>\n",
       "<table border=\"1\" class=\"dataframe\">\n",
       "  <thead>\n",
       "    <tr style=\"text-align: right;\">\n",
       "      <th>Price</th>\n",
       "      <th>Date</th>\n",
       "      <th>Close</th>\n",
       "      <th>High</th>\n",
       "      <th>Low</th>\n",
       "      <th>Open</th>\n",
       "      <th>Volume</th>\n",
       "      <th>Ticker</th>\n",
       "      <th>Adj Close</th>\n",
       "    </tr>\n",
       "  </thead>\n",
       "  <tbody>\n",
       "    <tr>\n",
       "      <th>50</th>\n",
       "      <td>2025-09-12</td>\n",
       "      <td>26.129999</td>\n",
       "      <td>26.570000</td>\n",
       "      <td>26.045000</td>\n",
       "      <td>26.559999</td>\n",
       "      <td>17124131.0</td>\n",
       "      <td>KHC</td>\n",
       "      <td>NaN</td>\n",
       "    </tr>\n",
       "    <tr>\n",
       "      <th>77</th>\n",
       "      <td>2025-09-12</td>\n",
       "      <td>66.889999</td>\n",
       "      <td>67.750000</td>\n",
       "      <td>66.860001</td>\n",
       "      <td>67.209999</td>\n",
       "      <td>7492019.0</td>\n",
       "      <td>PYPL</td>\n",
       "      <td>NaN</td>\n",
       "    </tr>\n",
       "    <tr>\n",
       "      <th>78</th>\n",
       "      <td>2025-09-12</td>\n",
       "      <td>161.830002</td>\n",
       "      <td>162.300003</td>\n",
       "      <td>159.580002</td>\n",
       "      <td>161.330002</td>\n",
       "      <td>5427894.0</td>\n",
       "      <td>QCOM</td>\n",
       "      <td>NaN</td>\n",
       "    </tr>\n",
       "    <tr>\n",
       "      <th>79</th>\n",
       "      <td>2025-09-12</td>\n",
       "      <td>187.449997</td>\n",
       "      <td>190.360001</td>\n",
       "      <td>187.309998</td>\n",
       "      <td>189.039993</td>\n",
       "      <td>409814.0</td>\n",
       "      <td>R</td>\n",
       "      <td>NaN</td>\n",
       "    </tr>\n",
       "    <tr>\n",
       "      <th>80</th>\n",
       "      <td>2025-09-12</td>\n",
       "      <td>560.000000</td>\n",
       "      <td>570.000000</td>\n",
       "      <td>559.450012</td>\n",
       "      <td>567.340027</td>\n",
       "      <td>592210.0</td>\n",
       "      <td>REGN</td>\n",
       "      <td>NaN</td>\n",
       "    </tr>\n",
       "    <tr>\n",
       "      <th>81</th>\n",
       "      <td>2025-09-12</td>\n",
       "      <td>512.530029</td>\n",
       "      <td>517.163208</td>\n",
       "      <td>512.080017</td>\n",
       "      <td>515.580017</td>\n",
       "      <td>603426.0</td>\n",
       "      <td>ROP</td>\n",
       "      <td>NaN</td>\n",
       "    </tr>\n",
       "    <tr>\n",
       "      <th>82</th>\n",
       "      <td>2025-09-12</td>\n",
       "      <td>147.899994</td>\n",
       "      <td>150.339996</td>\n",
       "      <td>146.770096</td>\n",
       "      <td>149.990005</td>\n",
       "      <td>2053962.0</td>\n",
       "      <td>ROST</td>\n",
       "      <td>NaN</td>\n",
       "    </tr>\n",
       "    <tr>\n",
       "      <th>83</th>\n",
       "      <td>2025-09-12</td>\n",
       "      <td>81.900002</td>\n",
       "      <td>82.542801</td>\n",
       "      <td>81.199997</td>\n",
       "      <td>82.370003</td>\n",
       "      <td>9717959.0</td>\n",
       "      <td>SBUX</td>\n",
       "      <td>NaN</td>\n",
       "    </tr>\n",
       "    <tr>\n",
       "      <th>84</th>\n",
       "      <td>2025-09-12</td>\n",
       "      <td>143.380005</td>\n",
       "      <td>144.619995</td>\n",
       "      <td>141.529999</td>\n",
       "      <td>143.520004</td>\n",
       "      <td>4905477.0</td>\n",
       "      <td>SHOP</td>\n",
       "      <td>NaN</td>\n",
       "    </tr>\n",
       "    <tr>\n",
       "      <th>85</th>\n",
       "      <td>2025-09-12</td>\n",
       "      <td>425.450012</td>\n",
       "      <td>444.190002</td>\n",
       "      <td>421.950012</td>\n",
       "      <td>444.190002</td>\n",
       "      <td>6638146.0</td>\n",
       "      <td>SNPS</td>\n",
       "      <td>NaN</td>\n",
       "    </tr>\n",
       "    <tr>\n",
       "      <th>86</th>\n",
       "      <td>2025-09-12</td>\n",
       "      <td>29.570000</td>\n",
       "      <td>29.600000</td>\n",
       "      <td>29.294901</td>\n",
       "      <td>29.420000</td>\n",
       "      <td>17582101.0</td>\n",
       "      <td>T</td>\n",
       "      <td>NaN</td>\n",
       "    </tr>\n",
       "    <tr>\n",
       "      <th>87</th>\n",
       "      <td>2025-09-12</td>\n",
       "      <td>174.869995</td>\n",
       "      <td>177.050003</td>\n",
       "      <td>173.940002</td>\n",
       "      <td>176.979996</td>\n",
       "      <td>1384598.0</td>\n",
       "      <td>TEAM</td>\n",
       "      <td>NaN</td>\n",
       "    </tr>\n",
       "    <tr>\n",
       "      <th>88</th>\n",
       "      <td>2025-09-12</td>\n",
       "      <td>241.720001</td>\n",
       "      <td>242.820007</td>\n",
       "      <td>239.679993</td>\n",
       "      <td>240.110001</td>\n",
       "      <td>3085705.0</td>\n",
       "      <td>TMUS</td>\n",
       "      <td>NaN</td>\n",
       "    </tr>\n",
       "    <tr>\n",
       "      <th>89</th>\n",
       "      <td>2025-09-12</td>\n",
       "      <td>172.990005</td>\n",
       "      <td>173.794998</td>\n",
       "      <td>171.910004</td>\n",
       "      <td>172.699997</td>\n",
       "      <td>585213.0</td>\n",
       "      <td>TRI</td>\n",
       "      <td>NaN</td>\n",
       "    </tr>\n",
       "    <tr>\n",
       "      <th>90</th>\n",
       "      <td>2025-09-12</td>\n",
       "      <td>395.940002</td>\n",
       "      <td>396.689911</td>\n",
       "      <td>370.239990</td>\n",
       "      <td>370.980011</td>\n",
       "      <td>161839906.0</td>\n",
       "      <td>TSLA</td>\n",
       "      <td>NaN</td>\n",
       "    </tr>\n",
       "    <tr>\n",
       "      <th>91</th>\n",
       "      <td>2025-09-12</td>\n",
       "      <td>45.150002</td>\n",
       "      <td>46.180000</td>\n",
       "      <td>45.049999</td>\n",
       "      <td>45.370998</td>\n",
       "      <td>19380783.0</td>\n",
       "      <td>TTD</td>\n",
       "      <td>NaN</td>\n",
       "    </tr>\n",
       "    <tr>\n",
       "      <th>92</th>\n",
       "      <td>2025-09-12</td>\n",
       "      <td>246.259995</td>\n",
       "      <td>248.259995</td>\n",
       "      <td>244.029999</td>\n",
       "      <td>245.970001</td>\n",
       "      <td>993349.0</td>\n",
       "      <td>TTWO</td>\n",
       "      <td>NaN</td>\n",
       "    </tr>\n",
       "    <tr>\n",
       "      <th>93</th>\n",
       "      <td>2025-09-12</td>\n",
       "      <td>182.600006</td>\n",
       "      <td>184.339996</td>\n",
       "      <td>182.339996</td>\n",
       "      <td>184.339996</td>\n",
       "      <td>5847889.0</td>\n",
       "      <td>TXN</td>\n",
       "      <td>NaN</td>\n",
       "    </tr>\n",
       "    <tr>\n",
       "      <th>94</th>\n",
       "      <td>2025-09-12</td>\n",
       "      <td>394.529999</td>\n",
       "      <td>396.829987</td>\n",
       "      <td>393.200012</td>\n",
       "      <td>394.679993</td>\n",
       "      <td>976893.0</td>\n",
       "      <td>VRTX</td>\n",
       "      <td>NaN</td>\n",
       "    </tr>\n",
       "    <tr>\n",
       "      <th>95</th>\n",
       "      <td>2025-09-12</td>\n",
       "      <td>18.870001</td>\n",
       "      <td>19.330000</td>\n",
       "      <td>17.219999</td>\n",
       "      <td>17.530001</td>\n",
       "      <td>285398706.0</td>\n",
       "      <td>WBD</td>\n",
       "      <td>NaN</td>\n",
       "    </tr>\n",
       "    <tr>\n",
       "      <th>96</th>\n",
       "      <td>2025-09-12</td>\n",
       "      <td>223.389999</td>\n",
       "      <td>227.339996</td>\n",
       "      <td>222.110001</td>\n",
       "      <td>226.169998</td>\n",
       "      <td>2512550.0</td>\n",
       "      <td>WDAY</td>\n",
       "      <td>NaN</td>\n",
       "    </tr>\n",
       "    <tr>\n",
       "      <th>97</th>\n",
       "      <td>2025-09-12</td>\n",
       "      <td>73.349998</td>\n",
       "      <td>73.720001</td>\n",
       "      <td>72.599998</td>\n",
       "      <td>72.750000</td>\n",
       "      <td>7080363.0</td>\n",
       "      <td>XEL</td>\n",
       "      <td>NaN</td>\n",
       "    </tr>\n",
       "    <tr>\n",
       "      <th>76</th>\n",
       "      <td>2025-09-12</td>\n",
       "      <td>171.429993</td>\n",
       "      <td>171.529999</td>\n",
       "      <td>164.009995</td>\n",
       "      <td>165.360001</td>\n",
       "      <td>53334275.0</td>\n",
       "      <td>PLTR</td>\n",
       "      <td>NaN</td>\n",
       "    </tr>\n",
       "    <tr>\n",
       "      <th>75</th>\n",
       "      <td>2025-09-12</td>\n",
       "      <td>143.529999</td>\n",
       "      <td>144.244995</td>\n",
       "      <td>142.899994</td>\n",
       "      <td>144.070007</td>\n",
       "      <td>5683061.0</td>\n",
       "      <td>PEP</td>\n",
       "      <td>NaN</td>\n",
       "    </tr>\n",
       "    <tr>\n",
       "      <th>74</th>\n",
       "      <td>2025-09-12</td>\n",
       "      <td>125.440002</td>\n",
       "      <td>126.059998</td>\n",
       "      <td>123.769997</td>\n",
       "      <td>125.974998</td>\n",
       "      <td>4434924.0</td>\n",
       "      <td>PDD</td>\n",
       "      <td>NaN</td>\n",
       "    </tr>\n",
       "    <tr>\n",
       "      <th>73</th>\n",
       "      <td>2025-09-12</td>\n",
       "      <td>102.510002</td>\n",
       "      <td>103.480003</td>\n",
       "      <td>100.570000</td>\n",
       "      <td>101.500000</td>\n",
       "      <td>3809654.0</td>\n",
       "      <td>PCAR</td>\n",
       "      <td>NaN</td>\n",
       "    </tr>\n",
       "    <tr>\n",
       "      <th>51</th>\n",
       "      <td>2025-09-12</td>\n",
       "      <td>964.020020</td>\n",
       "      <td>968.089905</td>\n",
       "      <td>955.000000</td>\n",
       "      <td>956.440002</td>\n",
       "      <td>583884.0</td>\n",
       "      <td>KLAC</td>\n",
       "      <td>NaN</td>\n",
       "    </tr>\n",
       "    <tr>\n",
       "      <th>52</th>\n",
       "      <td>2025-09-12</td>\n",
       "      <td>482.040009</td>\n",
       "      <td>483.915009</td>\n",
       "      <td>479.140015</td>\n",
       "      <td>479.160004</td>\n",
       "      <td>2068480.0</td>\n",
       "      <td>LIN</td>\n",
       "      <td>NaN</td>\n",
       "    </tr>\n",
       "    <tr>\n",
       "      <th>53</th>\n",
       "      <td>2025-09-12</td>\n",
       "      <td>116.959999</td>\n",
       "      <td>117.500000</td>\n",
       "      <td>115.875000</td>\n",
       "      <td>115.875000</td>\n",
       "      <td>11009952.0</td>\n",
       "      <td>LRCX</td>\n",
       "      <td>NaN</td>\n",
       "    </tr>\n",
       "    <tr>\n",
       "      <th>54</th>\n",
       "      <td>2025-09-12</td>\n",
       "      <td>159.865005</td>\n",
       "      <td>165.910004</td>\n",
       "      <td>159.750000</td>\n",
       "      <td>165.289993</td>\n",
       "      <td>7919375.0</td>\n",
       "      <td>LULU</td>\n",
       "      <td>NaN</td>\n",
       "    </tr>\n",
       "    <tr>\n",
       "      <th>55</th>\n",
       "      <td>2025-09-12</td>\n",
       "      <td>266.500000</td>\n",
       "      <td>267.779999</td>\n",
       "      <td>263.850006</td>\n",
       "      <td>266.880005</td>\n",
       "      <td>1026526.0</td>\n",
       "      <td>MAR</td>\n",
       "      <td>NaN</td>\n",
       "    </tr>\n",
       "    <tr>\n",
       "      <th>56</th>\n",
       "      <td>2025-09-12</td>\n",
       "      <td>64.699997</td>\n",
       "      <td>65.650002</td>\n",
       "      <td>64.410004</td>\n",
       "      <td>65.120003</td>\n",
       "      <td>4498908.0</td>\n",
       "      <td>MCHP</td>\n",
       "      <td>NaN</td>\n",
       "    </tr>\n",
       "    <tr>\n",
       "      <th>57</th>\n",
       "      <td>2025-09-12</td>\n",
       "      <td>61.980000</td>\n",
       "      <td>62.470001</td>\n",
       "      <td>61.685001</td>\n",
       "      <td>61.974998</td>\n",
       "      <td>4809729.0</td>\n",
       "      <td>MDLZ</td>\n",
       "      <td>NaN</td>\n",
       "    </tr>\n",
       "    <tr>\n",
       "      <th>58</th>\n",
       "      <td>2025-09-12</td>\n",
       "      <td>2339.360107</td>\n",
       "      <td>2352.379883</td>\n",
       "      <td>2290.500000</td>\n",
       "      <td>2325.000000</td>\n",
       "      <td>529313.0</td>\n",
       "      <td>MELI</td>\n",
       "      <td>NaN</td>\n",
       "    </tr>\n",
       "    <tr>\n",
       "      <th>59</th>\n",
       "      <td>2025-09-12</td>\n",
       "      <td>755.590027</td>\n",
       "      <td>757.570312</td>\n",
       "      <td>743.760010</td>\n",
       "      <td>748.724976</td>\n",
       "      <td>7784119.0</td>\n",
       "      <td>META</td>\n",
       "      <td>NaN</td>\n",
       "    </tr>\n",
       "    <tr>\n",
       "      <th>60</th>\n",
       "      <td>2025-09-12</td>\n",
       "      <td>64.690002</td>\n",
       "      <td>64.779999</td>\n",
       "      <td>63.645000</td>\n",
       "      <td>63.799999</td>\n",
       "      <td>4841413.0</td>\n",
       "      <td>MNST</td>\n",
       "      <td>NaN</td>\n",
       "    </tr>\n",
       "    <tr>\n",
       "      <th>62</th>\n",
       "      <td>2025-09-12</td>\n",
       "      <td>509.899994</td>\n",
       "      <td>512.549988</td>\n",
       "      <td>503.850006</td>\n",
       "      <td>506.649994</td>\n",
       "      <td>23612600.0</td>\n",
       "      <td>MSFT</td>\n",
       "      <td>NaN</td>\n",
       "    </tr>\n",
       "    <tr>\n",
       "      <th>61</th>\n",
       "      <td>2025-09-12</td>\n",
       "      <td>67.349998</td>\n",
       "      <td>67.739998</td>\n",
       "      <td>66.139999</td>\n",
       "      <td>67.500000</td>\n",
       "      <td>14837501.0</td>\n",
       "      <td>MRVL</td>\n",
       "      <td>NaN</td>\n",
       "    </tr>\n",
       "    <tr>\n",
       "      <th>63</th>\n",
       "      <td>2025-09-12</td>\n",
       "      <td>331.440002</td>\n",
       "      <td>336.130096</td>\n",
       "      <td>327.600006</td>\n",
       "      <td>329.320007</td>\n",
       "      <td>10771905.0</td>\n",
       "      <td>MSTR</td>\n",
       "      <td>NaN</td>\n",
       "    </tr>\n",
       "    <tr>\n",
       "      <th>64</th>\n",
       "      <td>2025-09-12</td>\n",
       "      <td>157.229996</td>\n",
       "      <td>158.279999</td>\n",
       "      <td>153.210007</td>\n",
       "      <td>153.595001</td>\n",
       "      <td>32180131.0</td>\n",
       "      <td>MU</td>\n",
       "      <td>NaN</td>\n",
       "    </tr>\n",
       "    <tr>\n",
       "      <th>65</th>\n",
       "      <td>2025-09-12</td>\n",
       "      <td>1188.439941</td>\n",
       "      <td>1211.780029</td>\n",
       "      <td>1182.400024</td>\n",
       "      <td>1203.494995</td>\n",
       "      <td>3768854.0</td>\n",
       "      <td>NFLX</td>\n",
       "      <td>NaN</td>\n",
       "    </tr>\n",
       "    <tr>\n",
       "      <th>66</th>\n",
       "      <td>2025-09-12</td>\n",
       "      <td>177.820007</td>\n",
       "      <td>178.589996</td>\n",
       "      <td>176.449997</td>\n",
       "      <td>177.770004</td>\n",
       "      <td>121530793.0</td>\n",
       "      <td>NVDA</td>\n",
       "      <td>NaN</td>\n",
       "    </tr>\n",
       "    <tr>\n",
       "      <th>67</th>\n",
       "      <td>2025-09-12</td>\n",
       "      <td>218.820007</td>\n",
       "      <td>223.089996</td>\n",
       "      <td>218.600006</td>\n",
       "      <td>222.660004</td>\n",
       "      <td>2061704.0</td>\n",
       "      <td>NXPI</td>\n",
       "      <td>NaN</td>\n",
       "    </tr>\n",
       "    <tr>\n",
       "      <th>68</th>\n",
       "      <td>2025-09-12</td>\n",
       "      <td>144.889999</td>\n",
       "      <td>149.229996</td>\n",
       "      <td>144.464996</td>\n",
       "      <td>148.510193</td>\n",
       "      <td>1861675.0</td>\n",
       "      <td>ODFL</td>\n",
       "      <td>NaN</td>\n",
       "    </tr>\n",
       "    <tr>\n",
       "      <th>69</th>\n",
       "      <td>2025-09-12</td>\n",
       "      <td>48.259998</td>\n",
       "      <td>49.119999</td>\n",
       "      <td>48.049999</td>\n",
       "      <td>48.939999</td>\n",
       "      <td>4281839.0</td>\n",
       "      <td>ON</td>\n",
       "      <td>NaN</td>\n",
       "    </tr>\n",
       "    <tr>\n",
       "      <th>70</th>\n",
       "      <td>2025-09-12</td>\n",
       "      <td>107.500000</td>\n",
       "      <td>108.419998</td>\n",
       "      <td>107.199997</td>\n",
       "      <td>107.430000</td>\n",
       "      <td>4676151.0</td>\n",
       "      <td>ORLY</td>\n",
       "      <td>NaN</td>\n",
       "    </tr>\n",
       "    <tr>\n",
       "      <th>71</th>\n",
       "      <td>2025-09-12</td>\n",
       "      <td>196.289993</td>\n",
       "      <td>199.940002</td>\n",
       "      <td>196.154999</td>\n",
       "      <td>198.274994</td>\n",
       "      <td>3865672.0</td>\n",
       "      <td>PANW</td>\n",
       "      <td>NaN</td>\n",
       "    </tr>\n",
       "    <tr>\n",
       "      <th>72</th>\n",
       "      <td>2025-09-12</td>\n",
       "      <td>135.110001</td>\n",
       "      <td>135.970001</td>\n",
       "      <td>134.681396</td>\n",
       "      <td>135.089996</td>\n",
       "      <td>1305369.0</td>\n",
       "      <td>PAYX</td>\n",
       "      <td>NaN</td>\n",
       "    </tr>\n",
       "    <tr>\n",
       "      <th>62</th>\n",
       "      <td>2025-09-12</td>\n",
       "      <td>509.899994</td>\n",
       "      <td>512.549988</td>\n",
       "      <td>503.868408</td>\n",
       "      <td>506.510010</td>\n",
       "      <td>23242411.0</td>\n",
       "      <td>MSFT</td>\n",
       "      <td>NaN</td>\n",
       "    </tr>\n",
       "    <tr>\n",
       "      <th>0</th>\n",
       "      <td>2025-09-12</td>\n",
       "      <td>234.070007</td>\n",
       "      <td>234.509995</td>\n",
       "      <td>229.020004</td>\n",
       "      <td>229.220001</td>\n",
       "      <td>55776500.0</td>\n",
       "      <td>AAPL</td>\n",
       "      <td>NaN</td>\n",
       "    </tr>\n",
       "  </tbody>\n",
       "</table>\n",
       "</div>"
      ]
     },
     "execution_count": 27,
     "metadata": {},
     "output_type": "execute_result"
    }
   ],
   "execution_count": 27
  },
  {
   "metadata": {
    "ExecuteTime": {
     "end_time": "2025-09-14T14:43:46.106484Z",
     "start_time": "2025-09-14T14:43:46.102234Z"
    }
   },
   "cell_type": "code",
   "source": "df_concat['Date'].max()",
   "id": "2fb50fac20b29100",
   "outputs": [
    {
     "data": {
      "text/plain": [
       "Timestamp('2025-09-12 00:00:00')"
      ]
     },
     "execution_count": 28,
     "metadata": {},
     "output_type": "execute_result"
    }
   ],
   "execution_count": 28
  },
  {
   "cell_type": "code",
   "id": "fc3ade3f-0c4a-4a1b-bcd5-8293c8818a65",
   "metadata": {
    "ExecuteTime": {
     "end_time": "2025-09-14T14:43:46.123709Z",
     "start_time": "2025-09-14T14:43:46.121263Z"
    }
   },
   "source": [
    "# Sauvegarder la DataFrame résultante dans un fichier CSV\n",
    "#data_SP500.to_csv('/Users/forget/PyCharmMiscProject/historical_data_S&P500_From_Wiki.csv')"
   ],
   "outputs": [],
   "execution_count": 29
  },
  {
   "metadata": {
    "ExecuteTime": {
     "end_time": "2025-09-14T14:43:46.131993Z",
     "start_time": "2025-09-14T14:43:46.128862Z"
    }
   },
   "cell_type": "code",
   "source": [
    "\"\"\"\n",
    "mask_1 = data_SP500[(data_SP500['Ticker'] == 'NVR') & (data_SP500['Date'] < '1993-10-01')]\n",
    "mask_2 = data_SP500[(data_SP500['Ticker'] == 'HUBB') & (data_SP500['Date'] < '1994-10-31')]\n",
    "mask_3 = data_SP500[(data_SP500['Date'] == '1984-12-31') & (data_SP500['Ticker'] == 'BEN')]\n",
    "\"\"\""
   ],
   "id": "5554fac36cbc425c",
   "outputs": [
    {
     "data": {
      "text/plain": [
       "\"\\nmask_1 = data_SP500[(data_SP500['Ticker'] == 'NVR') & (data_SP500['Date'] < '1993-10-01')]\\nmask_2 = data_SP500[(data_SP500['Ticker'] == 'HUBB') & (data_SP500['Date'] < '1994-10-31')]\\nmask_3 = data_SP500[(data_SP500['Date'] == '1984-12-31') & (data_SP500['Ticker'] == 'BEN')]\\n\""
      ]
     },
     "execution_count": 30,
     "metadata": {},
     "output_type": "execute_result"
    }
   ],
   "execution_count": 30
  },
  {
   "metadata": {
    "ExecuteTime": {
     "end_time": "2025-09-14T14:43:46.143073Z",
     "start_time": "2025-09-14T14:43:46.140235Z"
    }
   },
   "cell_type": "code",
   "source": [
    "\"\"\"\n",
    "idx_to_drop = mask_1.index.union(mask_2.index).union(mask_3.index)\n",
    "data_SP500 = data_SP500.drop(index=idx_to_drop).copy()\n",
    "\"\"\""
   ],
   "id": "3e44a0476c5466d",
   "outputs": [
    {
     "data": {
      "text/plain": [
       "'\\nidx_to_drop = mask_1.index.union(mask_2.index).union(mask_3.index)\\ndata_SP500 = data_SP500.drop(index=idx_to_drop).copy()\\n'"
      ]
     },
     "execution_count": 31,
     "metadata": {},
     "output_type": "execute_result"
    }
   ],
   "execution_count": 31
  },
  {
   "metadata": {
    "ExecuteTime": {
     "end_time": "2025-09-14T14:59:52.490926Z",
     "start_time": "2025-09-14T14:59:52.403406Z"
    }
   },
   "cell_type": "code",
   "source": "df_concat.to_parquet(\"/Users/forget/Library/Mobile Documents/com~apple~CloudDocs/Project Stock Market Deep Learning/Data/data_NASDAQ.parquet\")",
   "id": "27b858f1805ff48d",
   "outputs": [],
   "execution_count": 14
  },
  {
   "metadata": {
    "ExecuteTime": {
     "end_time": "2025-09-14T14:43:46.251811Z",
     "start_time": "2025-09-14T14:43:46.244625Z"
    }
   },
   "cell_type": "code",
   "source": "data_SP500.sort_values(by='Date', ascending=True)",
   "id": "b867e3f09bf67cdd",
   "outputs": [
    {
     "data": {
      "text/plain": [
       "Price       Date       Close        High         Low        Open      Volume  \\\n",
       "0     2025-09-12  234.070007  234.509995  229.020004  229.270004  55220889.0   \n",
       "71    2025-09-12  196.289993  199.940002  196.154999  198.274994   3865672.0   \n",
       "70    2025-09-12  107.500000  108.419998  107.199997  107.430000   4676151.0   \n",
       "69    2025-09-12   48.259998   49.119999   48.049999   48.939999   4281839.0   \n",
       "68    2025-09-12  144.889999  149.229996  144.464996  148.510193   1861675.0   \n",
       "..           ...         ...         ...         ...         ...         ...   \n",
       "28    2025-09-12   86.800003   87.389999   86.430000   86.680000   1214293.0   \n",
       "27    2025-09-12   66.529999   67.339996   66.129997   66.879997  18349576.0   \n",
       "26    2025-09-12  436.100006  443.000000  435.000000  435.000000   2759279.0   \n",
       "24    2025-09-12  967.900024  969.570007  960.000000  960.289978   1459639.0   \n",
       "98    2025-09-12  283.190002  288.529999  282.459991  287.000000   1340900.0   \n",
       "\n",
       "Price Ticker  Adj Close  \n",
       "0       AAPL        NaN  \n",
       "71      PANW        NaN  \n",
       "70      ORLY        NaN  \n",
       "69        ON        NaN  \n",
       "68      ODFL        NaN  \n",
       "..       ...        ...  \n",
       "28      CSGP        NaN  \n",
       "27      CSCO        NaN  \n",
       "26      CRWD        NaN  \n",
       "24      COST        NaN  \n",
       "98        ZS        NaN  \n",
       "\n",
       "[99 rows x 8 columns]"
      ],
      "text/html": [
       "<div>\n",
       "<style scoped>\n",
       "    .dataframe tbody tr th:only-of-type {\n",
       "        vertical-align: middle;\n",
       "    }\n",
       "\n",
       "    .dataframe tbody tr th {\n",
       "        vertical-align: top;\n",
       "    }\n",
       "\n",
       "    .dataframe thead th {\n",
       "        text-align: right;\n",
       "    }\n",
       "</style>\n",
       "<table border=\"1\" class=\"dataframe\">\n",
       "  <thead>\n",
       "    <tr style=\"text-align: right;\">\n",
       "      <th>Price</th>\n",
       "      <th>Date</th>\n",
       "      <th>Close</th>\n",
       "      <th>High</th>\n",
       "      <th>Low</th>\n",
       "      <th>Open</th>\n",
       "      <th>Volume</th>\n",
       "      <th>Ticker</th>\n",
       "      <th>Adj Close</th>\n",
       "    </tr>\n",
       "  </thead>\n",
       "  <tbody>\n",
       "    <tr>\n",
       "      <th>0</th>\n",
       "      <td>2025-09-12</td>\n",
       "      <td>234.070007</td>\n",
       "      <td>234.509995</td>\n",
       "      <td>229.020004</td>\n",
       "      <td>229.270004</td>\n",
       "      <td>55220889.0</td>\n",
       "      <td>AAPL</td>\n",
       "      <td>NaN</td>\n",
       "    </tr>\n",
       "    <tr>\n",
       "      <th>71</th>\n",
       "      <td>2025-09-12</td>\n",
       "      <td>196.289993</td>\n",
       "      <td>199.940002</td>\n",
       "      <td>196.154999</td>\n",
       "      <td>198.274994</td>\n",
       "      <td>3865672.0</td>\n",
       "      <td>PANW</td>\n",
       "      <td>NaN</td>\n",
       "    </tr>\n",
       "    <tr>\n",
       "      <th>70</th>\n",
       "      <td>2025-09-12</td>\n",
       "      <td>107.500000</td>\n",
       "      <td>108.419998</td>\n",
       "      <td>107.199997</td>\n",
       "      <td>107.430000</td>\n",
       "      <td>4676151.0</td>\n",
       "      <td>ORLY</td>\n",
       "      <td>NaN</td>\n",
       "    </tr>\n",
       "    <tr>\n",
       "      <th>69</th>\n",
       "      <td>2025-09-12</td>\n",
       "      <td>48.259998</td>\n",
       "      <td>49.119999</td>\n",
       "      <td>48.049999</td>\n",
       "      <td>48.939999</td>\n",
       "      <td>4281839.0</td>\n",
       "      <td>ON</td>\n",
       "      <td>NaN</td>\n",
       "    </tr>\n",
       "    <tr>\n",
       "      <th>68</th>\n",
       "      <td>2025-09-12</td>\n",
       "      <td>144.889999</td>\n",
       "      <td>149.229996</td>\n",
       "      <td>144.464996</td>\n",
       "      <td>148.510193</td>\n",
       "      <td>1861675.0</td>\n",
       "      <td>ODFL</td>\n",
       "      <td>NaN</td>\n",
       "    </tr>\n",
       "    <tr>\n",
       "      <th>...</th>\n",
       "      <td>...</td>\n",
       "      <td>...</td>\n",
       "      <td>...</td>\n",
       "      <td>...</td>\n",
       "      <td>...</td>\n",
       "      <td>...</td>\n",
       "      <td>...</td>\n",
       "      <td>...</td>\n",
       "    </tr>\n",
       "    <tr>\n",
       "      <th>28</th>\n",
       "      <td>2025-09-12</td>\n",
       "      <td>86.800003</td>\n",
       "      <td>87.389999</td>\n",
       "      <td>86.430000</td>\n",
       "      <td>86.680000</td>\n",
       "      <td>1214293.0</td>\n",
       "      <td>CSGP</td>\n",
       "      <td>NaN</td>\n",
       "    </tr>\n",
       "    <tr>\n",
       "      <th>27</th>\n",
       "      <td>2025-09-12</td>\n",
       "      <td>66.529999</td>\n",
       "      <td>67.339996</td>\n",
       "      <td>66.129997</td>\n",
       "      <td>66.879997</td>\n",
       "      <td>18349576.0</td>\n",
       "      <td>CSCO</td>\n",
       "      <td>NaN</td>\n",
       "    </tr>\n",
       "    <tr>\n",
       "      <th>26</th>\n",
       "      <td>2025-09-12</td>\n",
       "      <td>436.100006</td>\n",
       "      <td>443.000000</td>\n",
       "      <td>435.000000</td>\n",
       "      <td>435.000000</td>\n",
       "      <td>2759279.0</td>\n",
       "      <td>CRWD</td>\n",
       "      <td>NaN</td>\n",
       "    </tr>\n",
       "    <tr>\n",
       "      <th>24</th>\n",
       "      <td>2025-09-12</td>\n",
       "      <td>967.900024</td>\n",
       "      <td>969.570007</td>\n",
       "      <td>960.000000</td>\n",
       "      <td>960.289978</td>\n",
       "      <td>1459639.0</td>\n",
       "      <td>COST</td>\n",
       "      <td>NaN</td>\n",
       "    </tr>\n",
       "    <tr>\n",
       "      <th>98</th>\n",
       "      <td>2025-09-12</td>\n",
       "      <td>283.190002</td>\n",
       "      <td>288.529999</td>\n",
       "      <td>282.459991</td>\n",
       "      <td>287.000000</td>\n",
       "      <td>1340900.0</td>\n",
       "      <td>ZS</td>\n",
       "      <td>NaN</td>\n",
       "    </tr>\n",
       "  </tbody>\n",
       "</table>\n",
       "<p>99 rows × 8 columns</p>\n",
       "</div>"
      ]
     },
     "execution_count": 33,
     "metadata": {},
     "output_type": "execute_result"
    }
   ],
   "execution_count": 33
  },
  {
   "metadata": {
    "ExecuteTime": {
     "end_time": "2025-09-14T14:43:46.280990Z",
     "start_time": "2025-09-14T14:43:46.278796Z"
    }
   },
   "cell_type": "code",
   "source": "a = data_SP500.copy()",
   "id": "5903367a0649e4ad",
   "outputs": [],
   "execution_count": 34
  },
  {
   "metadata": {
    "ExecuteTime": {
     "end_time": "2025-09-14T14:43:46.286799Z",
     "start_time": "2025-09-14T14:43:46.284640Z"
    }
   },
   "cell_type": "code",
   "source": "b = a[a['Ticker'] == 'BEN']",
   "id": "c323bd8dbbb022c8",
   "outputs": [],
   "execution_count": 35
  },
  {
   "metadata": {
    "ExecuteTime": {
     "end_time": "2025-09-14T14:43:46.295366Z",
     "start_time": "2025-09-14T14:43:46.290052Z"
    }
   },
   "cell_type": "code",
   "source": [
    "b = a[(a['Ticker'] == 'BEN') & (a['Date'] < '1985-02-01') & (a['Date'] > '1984-12-01')].sort_values('Date')\n",
    "b"
   ],
   "id": "6cef439176d3300",
   "outputs": [
    {
     "data": {
      "text/plain": [
       "Empty DataFrame\n",
       "Columns: [Date, Close, High, Low, Open, Volume, Ticker, Adj Close]\n",
       "Index: []"
      ],
      "text/html": [
       "<div>\n",
       "<style scoped>\n",
       "    .dataframe tbody tr th:only-of-type {\n",
       "        vertical-align: middle;\n",
       "    }\n",
       "\n",
       "    .dataframe tbody tr th {\n",
       "        vertical-align: top;\n",
       "    }\n",
       "\n",
       "    .dataframe thead th {\n",
       "        text-align: right;\n",
       "    }\n",
       "</style>\n",
       "<table border=\"1\" class=\"dataframe\">\n",
       "  <thead>\n",
       "    <tr style=\"text-align: right;\">\n",
       "      <th>Price</th>\n",
       "      <th>Date</th>\n",
       "      <th>Close</th>\n",
       "      <th>High</th>\n",
       "      <th>Low</th>\n",
       "      <th>Open</th>\n",
       "      <th>Volume</th>\n",
       "      <th>Ticker</th>\n",
       "      <th>Adj Close</th>\n",
       "    </tr>\n",
       "  </thead>\n",
       "  <tbody>\n",
       "  </tbody>\n",
       "</table>\n",
       "</div>"
      ]
     },
     "execution_count": 36,
     "metadata": {},
     "output_type": "execute_result"
    }
   ],
   "execution_count": 36
  },
  {
   "metadata": {
    "ExecuteTime": {
     "end_time": "2025-09-14T14:43:46.664481Z",
     "start_time": "2025-09-14T14:43:46.314077Z"
    }
   },
   "cell_type": "code",
   "source": [
    "import matplotlib.pyplot as plt\n",
    "\n",
    "x = b['Date']\n",
    "y = b['Close']\n",
    "plt.figure(figsize=(20, 10))\n",
    "plt.scatter(x, y, s=1)"
   ],
   "id": "23e518ae5dddc4bc",
   "outputs": [
    {
     "data": {
      "text/plain": [
       "<matplotlib.collections.PathCollection at 0x1129bd6a0>"
      ]
     },
     "execution_count": 37,
     "metadata": {},
     "output_type": "execute_result"
    },
    {
     "data": {
      "text/plain": [
       "<Figure size 2000x1000 with 1 Axes>"
      ],
      "image/png": "[encoded data removed]"
     },
     "metadata": {},
     "output_type": "display_data"
    }
   ],
   "execution_count": 37
  },
  {
   "metadata": {
    "ExecuteTime": {
     "end_time": "2025-09-14T14:43:46.671806Z",
     "start_time": "2025-09-14T14:43:46.670652Z"
    }
   },
   "cell_type": "code",
   "source": "",
   "id": "3e4c7bacfb4707fe",
   "outputs": [],
   "execution_count": null
  }
 ],
 "metadata": {
  "kernelspec": {
   "display_name": "Python 3 (ipykernel)",
   "language": "python",
   "name": "python3"
  },
  "language_info": {
   "codemirror_mode": {
    "name": "ipython",
    "version": 3
   },
   "file_extension": ".py",
   "mimetype": "text/x-python",
   "name": "python",
   "nbconvert_exporter": "python",
   "pygments_lexer": "ipython3",
   "version": "3.12.4"
  }
 },
 "nbformat": 4,
 "nbformat_minor": 5
}
